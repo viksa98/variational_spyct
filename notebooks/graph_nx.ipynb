{
 "cells": [
  {
   "cell_type": "code",
   "execution_count": null,
   "metadata": {},
   "outputs": [],
   "source": [
    "import matplotlib.pyplot as plt\n",
    "import random\n",
    "\n",
    "    \n",
    "def hierarchy_pos(G, root=None, width=1., vert_gap = 0.2, vert_loc = 0, xcenter = 0.5):\n",
    "\n",
    "    '''\n",
    "    From Joel's answer at https://stackoverflow.com/a/29597209/2966723.  \n",
    "    Licensed under Creative Commons Attribution-Share Alike \n",
    "    \n",
    "    If the graph is a tree this will return the positions to plot this in a \n",
    "    hierarchical layout.\n",
    "    \n",
    "    G: the graph (must be a tree)\n",
    "    \n",
    "    root: the root node of current branch \n",
    "    - if the tree is directed and this is not given, \n",
    "      the root will be found and used\n",
    "    - if the tree is directed and this is given, then \n",
    "      the positions will be just for the descendants of this node.\n",
    "    - if the tree is undirected and not given, \n",
    "      then a random choice will be used.\n",
    "    \n",
    "    width: horizontal space allocated for this branch - avoids overlap with other branches\n",
    "    \n",
    "    vert_gap: gap between levels of hierarchy\n",
    "    \n",
    "    vert_loc: vertical location of root\n",
    "    \n",
    "    xcenter: horizontal location of root\n",
    "    '''\n",
    "    if not nx.is_tree(G):\n",
    "        raise TypeError('cannot use hierarchy_pos on a graph that is not a tree')\n",
    "\n",
    "    if root is None:\n",
    "        if isinstance(G, nx.DiGraph):\n",
    "            root = next(iter(nx.topological_sort(G)))  #allows back compatibility with nx version 1.11\n",
    "        else:\n",
    "            root = random.choice(list(G.nodes))\n",
    "\n",
    "    def _hierarchy_pos(G, root, width=1., vert_gap = 0.2, vert_loc = 0, xcenter = 0.5, pos = None, parent = None):\n",
    "        '''\n",
    "        see hierarchy_pos docstring for most arguments\n",
    "\n",
    "        pos: a dict saying where all nodes go if they have been assigned\n",
    "        parent: parent of this branch. - only affects it if non-directed\n",
    "\n",
    "        '''\n",
    "    \n",
    "        if pos is None:\n",
    "            pos = {root:(xcenter,vert_loc)}\n",
    "        else:\n",
    "            pos[root] = (xcenter, vert_loc)\n",
    "        children = list(G.neighbors(root))\n",
    "        if not isinstance(G, nx.DiGraph) and parent is not None:\n",
    "            children.remove(parent)  \n",
    "        if len(children)!=0:\n",
    "            dx = width/len(children) \n",
    "            nextx = xcenter - width/2 - dx/2\n",
    "            for child in children:\n",
    "                nextx += dx\n",
    "                pos = _hierarchy_pos(G,child, width = width*.5, vert_gap = vert_gap, \n",
    "                                    vert_loc = vert_loc-vert_gap, xcenter=nextx,\n",
    "                                    pos=pos, parent = root)\n",
    "        return pos\n",
    "\n",
    "            \n",
    "    return _hierarchy_pos(G, root, width, vert_gap, vert_loc, xcenter)"
   ]
  },
  {
   "cell_type": "code",
   "execution_count": null,
   "metadata": {},
   "outputs": [],
   "source": [
    "pos = hierarchy_pos(G,bayes_spyct.root_node, width=5., vert_gap = 5.)"
   ]
  },
  {
   "cell_type": "code",
   "execution_count": null,
   "metadata": {},
   "outputs": [],
   "source": [
    "leaves = []\n",
    "bayes_spyct.get_leaves(bayes_spyct.root_node, leaves)\n",
    "leaves"
   ]
  },
  {
   "cell_type": "code",
   "execution_count": null,
   "metadata": {},
   "outputs": [],
   "source": [
    "non_leaves = [x for x in nodes if x not in leaves]\n",
    "non_leaves"
   ]
  },
  {
   "cell_type": "code",
   "execution_count": null,
   "metadata": {},
   "outputs": [],
   "source": [
    "prototype_expected_value = {node: int(torch.sum(node.prototype).item()) for node in leaves}\n",
    "leaf_sizes = [1000 for _ in list(prototype_expected_value.values())]"
   ]
  },
  {
   "cell_type": "code",
   "execution_count": null,
   "metadata": {},
   "outputs": [],
   "source": [
    "weights_per_node = {}\n",
    "for node in non_leaves:\n",
    "    weights_per_node[node] = node.split_model.weight[0]"
   ]
  },
  {
   "cell_type": "code",
   "execution_count": null,
   "metadata": {},
   "outputs": [],
   "source": [
    "weights_top5 = {}\n",
    "for key, value in weights_per_node.items():\n",
    "    abs_values = np.abs(value.numpy())\n",
    "    sorted_indices = np.argsort(abs_values)[::-1]\n",
    "    sorted_values = abs_values[sorted_indices]\n",
    "    sorted_dict = {idx: val for idx, val in zip(sorted_indices, sorted_values)}\n",
    "    weights_top5[key] = sorted_dict"
   ]
  },
  {
   "cell_type": "code",
   "execution_count": null,
   "metadata": {},
   "outputs": [],
   "source": [
    "feature_groups = {'isco': isco_idcs,\n",
    "                  'p16': p16_idcs,\n",
    "                  'other': other_idcs}\n",
    "\n",
    "feature_group_colors = {'isco': 'red', 'p16': 'blue', 'other': 'green'}\n",
    "\n",
    "# Create a color map for the features\n",
    "feature_color_map = {}\n",
    "\n",
    "# Assign colors for isco and p16\n",
    "for group, color in feature_group_colors.items():\n",
    "    if group in ['isco', 'p16', 'other']:\n",
    "        features = feature_groups[group]\n",
    "        for feature in features:\n",
    "            feature_color_map[feature] = color"
   ]
  },
  {
   "cell_type": "code",
   "execution_count": null,
   "metadata": {},
   "outputs": [],
   "source": [
    "from matplotlib.patches import Patch\n",
    "\n",
    "fig = plt.figure(figsize=(18,10))\n",
    "ax = fig.add_subplot(1, 1, 1)\n",
    "\n",
    "for node in non_leaves:\n",
    "    features = list(weights_top5[node])\n",
    "    num_colors = 3\n",
    "    colors = [feature_color_map[feature] for feature in features]\n",
    "    edges_ = [edge for edge in edges if (edge[0]==node)]\n",
    "\n",
    "    offset = 0.0\n",
    "    for i, color in enumerate(set(colors)):\n",
    "        offset += 0.1\n",
    "        sum_per_group = sum([weights_top5[node][k] for k,v in feature_color_map.items() if v==color])\n",
    "        sum_weights = sum(list(weights_top5[node].values()))\n",
    "        width = sum_per_group/sum_weights\n",
    "        print(color, width)\n",
    "        # width = colors.count(color)\n",
    "        x, y = pos[node]\n",
    "\n",
    "        angle = i * (2 * offset) - offset\n",
    "        offset_dx = offset * (num_colors - 1) * 0.5 * (-1)**i\n",
    "        offset_dy = offset * (num_colors - 1) * 0.5 * (-1)**i\n",
    "\n",
    "        nx.draw_networkx_edges(G, pos, ax=ax, edgelist=[edges_[0]], edge_color=color, width=width*1.5,\n",
    "                               connectionstyle=f'arc3, rad={offset}', alpha=0.5,\n",
    "                               min_source_margin=5, min_target_margin=5)\n",
    "        nx.draw_networkx_edges(G, pos, ax=ax, edgelist=[edges_[1]], edge_color=color, width=width*1.5,\n",
    "                               connectionstyle=f'arc3, rad={-offset}', alpha=0.5,\n",
    "                               min_source_margin=5, min_target_margin=5)\n",
    "        \n",
    "nx.draw_networkx_nodes(G, pos=pos,ax=ax, nodelist=non_leaves, node_color='w', edgecolors='black', alpha = 1, node_shape='s')\n",
    "nx.draw_networkx_nodes(G, pos=pos,ax=ax, nodelist=leaves, node_color='w', edgecolors='black', alpha = 1, node_size = leaf_sizes)\n",
    "nx.draw_networkx_labels(G, pos=pos,ax=ax, labels=prototype_expected_value, font_size=10);\n",
    "\n",
    "legend_elements = [Patch(color=color, label=group) for group, color in feature_group_colors.items()]\n",
    "plt.legend(handles=legend_elements, title='Feature Groups', loc='center right')"
   ]
  },
  {
   "cell_type": "code",
   "execution_count": null,
   "metadata": {},
   "outputs": [],
   "source": []
  },
  {
   "cell_type": "code",
   "execution_count": null,
   "metadata": {},
   "outputs": [],
   "source": []
  },
  {
   "cell_type": "code",
   "execution_count": null,
   "metadata": {},
   "outputs": [],
   "source": []
  }
 ],
 "metadata": {
  "kernelspec": {
   "display_name": "Python 3",
   "language": "python",
   "name": "python3"
  },
  "language_info": {
   "name": "python",
   "version": "3.11.6 (main, Oct  2 2023, 20:46:17) [Clang 14.0.0 (clang-1400.0.29.202)]"
  },
  "orig_nbformat": 4,
  "vscode": {
   "interpreter": {
    "hash": "b0fa6594d8f4cbf19f97940f81e996739fb7646882a419484c72d19e05852a7e"
   }
  }
 },
 "nbformat": 4,
 "nbformat_minor": 2
}
