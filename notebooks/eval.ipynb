{
 "cells": [
  {
   "cell_type": "code",
   "execution_count": 1,
   "metadata": {},
   "outputs": [
    {
     "name": "stderr",
     "output_type": "stream",
     "text": [
      "/Users/viktorandonovic/miniconda3/lib/python3.8/site-packages/tqdm/auto.py:21: TqdmWarning: IProgress not found. Please update jupyter and ipywidgets. See https://ipywidgets.readthedocs.io/en/stable/user_install.html\n",
      "  from .autonotebook import tqdm as notebook_tqdm\n"
     ]
    }
   ],
   "source": [
    "import numpy as np\n",
    "import pandas as pd\n",
    "import torch\n",
    "import os\n",
    "import matplotlib.pyplot as plt\n",
    "import sys\n",
    "sys.path.append('..')\n",
    "from src.models.model import VSpyct\n",
    "from src.utils import (calculate_bs, fix_predictions, plot_brier)\n",
    "from src.data.dataset import SurvivalDataset"
   ]
  },
  {
   "cell_type": "code",
   "execution_count": 2,
   "metadata": {},
   "outputs": [
    {
     "name": "stdout",
     "output_type": "stream",
     "text": [
      "   id  time  status trt        age sex ascites hepato spiders  edema  bili  \\\n",
      "0   1   400       2   1  58.765229   f       1      1       1    1.0  14.5   \n",
      "1   2  4500       0   1  56.446270   f       0      1       1    0.0   1.1   \n",
      "2   3  1012       2   1  70.072553   m       0      0       0    0.5   1.4   \n",
      "3   4  1925       2   1  54.740589   f       0      1       1    0.5   1.8   \n",
      "4   5  1504       1   2  38.105407   f       0      1       1    0.0   3.4   \n",
      "\n",
      "  chol  albumin copper  alk.phos     ast trig platelet  protime stage  \n",
      "0  261     2.60    156    1718.0  137.95  172      190     12.2     4  \n",
      "1  302     4.14     54    7394.8  113.52   88      221     10.6     3  \n",
      "2  176     3.48    210     516.0   96.10   55      151     12.0     4  \n",
      "3  244     2.54     64    6121.8   60.63   92      183     10.3     4  \n",
      "4  279     3.53    143     671.0  113.15   72      136     10.9     3  \n",
      "4795\n",
      "Succesfully created time tensor of shape: torch.Size([418, 4795])\n",
      "(334, 769) torch.Size([334, 4795])\n"
     ]
    }
   ],
   "source": [
    "data = SurvivalDataset(fname='pbc.rda', path='../data/raw/')\n",
    "print(data.dataset.head())\n",
    "X_train, X_test, y_train, y_test = data.get_tensors()"
   ]
  },
  {
   "cell_type": "code",
   "execution_count": 117,
   "metadata": {},
   "outputs": [
    {
     "name": "stdout",
     "output_type": "stream",
     "text": [
      "Total variance: 127.46780395507812\n"
     ]
    },
    {
     "ename": "KeyError",
     "evalue": "\"None of [Index([  0,   1,   2,   3,   4,   5,   6,   7,   8,   9,\\n       ...\\n       172, 173, 174, 175, 176, 177, 178, 179, 180, 181],\\n      dtype='int64', length=182)] are in the [columns]\"",
     "output_type": "error",
     "traceback": [
      "\u001b[0;31m---------------------------------------------------------------------------\u001b[0m",
      "\u001b[0;31mKeyError\u001b[0m                                  Traceback (most recent call last)",
      "Cell \u001b[0;32mIn[117], line 2\u001b[0m\n\u001b[1;32m      1\u001b[0m model \u001b[39m=\u001b[39m VSpyct(max_depth\u001b[39m=\u001b[39m\u001b[39m3\u001b[39m, bs\u001b[39m=\u001b[39m\u001b[39m64\u001b[39m)\n\u001b[0;32m----> 2\u001b[0m model\u001b[39m.\u001b[39;49mfit(X_train, y_train)\n",
      "File \u001b[0;32m~/IJS/phd/bayes_spyct/notebooks/../src/models/model.py:123\u001b[0m, in \u001b[0;36mVSpyct.fit\u001b[0;34m(self, descriptive_data, target_data, clustering_data, rows)\u001b[0m\n\u001b[1;32m    120\u001b[0m \u001b[39mif\u001b[39;00m total_variance \u001b[39m>\u001b[39m \u001b[39m0\u001b[39m \u001b[39mand\u001b[39;00m node\u001b[39m.\u001b[39mdepth \u001b[39m<\u001b[39m \u001b[39mself\u001b[39m\u001b[39m.\u001b[39mmax_depth \u001b[39mand\u001b[39;00m rows\u001b[39m.\u001b[39msize(\u001b[39m0\u001b[39m) \u001b[39m>\u001b[39m\u001b[39m=\u001b[39m \u001b[39mself\u001b[39m\u001b[39m.\u001b[39mminimum_examples_to_split:\n\u001b[1;32m    121\u001b[0m     \u001b[39mif\u001b[39;00m order\u001b[39m<\u001b[39m\u001b[39m=\u001b[39m\u001b[39m1\u001b[39m:\n\u001b[1;32m    122\u001b[0m         split_model, guide, param_store \u001b[39m=\u001b[39m learn_split_vb(\n\u001b[0;32m--> 123\u001b[0m             rows, descriptive_data[rows], clustering_data[rows],\n\u001b[1;32m    124\u001b[0m             device\u001b[39m=\u001b[39m\u001b[39mself\u001b[39m\u001b[39m.\u001b[39mdevice, epochs\u001b[39m=\u001b[39m\u001b[39mself\u001b[39m\u001b[39m.\u001b[39mepochs, bs\u001b[39m=\u001b[39m\u001b[39mself\u001b[39m\u001b[39m.\u001b[39mbs, lr\u001b[39m=\u001b[39m\u001b[39mself\u001b[39m\u001b[39m.\u001b[39mlr, subspace_size\u001b[39m=\u001b[39m\u001b[39mself\u001b[39m\u001b[39m.\u001b[39msubspace_size)\n\u001b[1;32m    125\u001b[0m         \u001b[39mself\u001b[39m\u001b[39m.\u001b[39mroot_node\u001b[39m.\u001b[39mparam_store \u001b[39m=\u001b[39m param_store\n\u001b[1;32m    126\u001b[0m     \u001b[39melse\u001b[39;00m:\n",
      "File \u001b[0;32m~/miniconda3/lib/python3.8/site-packages/pandas/core/frame.py:3767\u001b[0m, in \u001b[0;36mDataFrame.__getitem__\u001b[0;34m(self, key)\u001b[0m\n\u001b[1;32m   3765\u001b[0m     \u001b[39mif\u001b[39;00m is_iterator(key):\n\u001b[1;32m   3766\u001b[0m         key \u001b[39m=\u001b[39m \u001b[39mlist\u001b[39m(key)\n\u001b[0;32m-> 3767\u001b[0m     indexer \u001b[39m=\u001b[39m \u001b[39mself\u001b[39;49m\u001b[39m.\u001b[39;49mcolumns\u001b[39m.\u001b[39;49m_get_indexer_strict(key, \u001b[39m\"\u001b[39;49m\u001b[39mcolumns\u001b[39;49m\u001b[39m\"\u001b[39;49m)[\u001b[39m1\u001b[39m]\n\u001b[1;32m   3769\u001b[0m \u001b[39m# take() does not accept boolean indexers\u001b[39;00m\n\u001b[1;32m   3770\u001b[0m \u001b[39mif\u001b[39;00m \u001b[39mgetattr\u001b[39m(indexer, \u001b[39m\"\u001b[39m\u001b[39mdtype\u001b[39m\u001b[39m\"\u001b[39m, \u001b[39mNone\u001b[39;00m) \u001b[39m==\u001b[39m \u001b[39mbool\u001b[39m:\n",
      "File \u001b[0;32m~/miniconda3/lib/python3.8/site-packages/pandas/core/indexes/base.py:5877\u001b[0m, in \u001b[0;36mIndex._get_indexer_strict\u001b[0;34m(self, key, axis_name)\u001b[0m\n\u001b[1;32m   5874\u001b[0m \u001b[39melse\u001b[39;00m:\n\u001b[1;32m   5875\u001b[0m     keyarr, indexer, new_indexer \u001b[39m=\u001b[39m \u001b[39mself\u001b[39m\u001b[39m.\u001b[39m_reindex_non_unique(keyarr)\n\u001b[0;32m-> 5877\u001b[0m \u001b[39mself\u001b[39;49m\u001b[39m.\u001b[39;49m_raise_if_missing(keyarr, indexer, axis_name)\n\u001b[1;32m   5879\u001b[0m keyarr \u001b[39m=\u001b[39m \u001b[39mself\u001b[39m\u001b[39m.\u001b[39mtake(indexer)\n\u001b[1;32m   5880\u001b[0m \u001b[39mif\u001b[39;00m \u001b[39misinstance\u001b[39m(key, Index):\n\u001b[1;32m   5881\u001b[0m     \u001b[39m# GH 42790 - Preserve name from an Index\u001b[39;00m\n",
      "File \u001b[0;32m~/miniconda3/lib/python3.8/site-packages/pandas/core/indexes/base.py:5938\u001b[0m, in \u001b[0;36mIndex._raise_if_missing\u001b[0;34m(self, key, indexer, axis_name)\u001b[0m\n\u001b[1;32m   5936\u001b[0m     \u001b[39mif\u001b[39;00m use_interval_msg:\n\u001b[1;32m   5937\u001b[0m         key \u001b[39m=\u001b[39m \u001b[39mlist\u001b[39m(key)\n\u001b[0;32m-> 5938\u001b[0m     \u001b[39mraise\u001b[39;00m \u001b[39mKeyError\u001b[39;00m(\u001b[39mf\u001b[39m\u001b[39m\"\u001b[39m\u001b[39mNone of [\u001b[39m\u001b[39m{\u001b[39;00mkey\u001b[39m}\u001b[39;00m\u001b[39m] are in the [\u001b[39m\u001b[39m{\u001b[39;00maxis_name\u001b[39m}\u001b[39;00m\u001b[39m]\u001b[39m\u001b[39m\"\u001b[39m)\n\u001b[1;32m   5940\u001b[0m not_found \u001b[39m=\u001b[39m \u001b[39mlist\u001b[39m(ensure_index(key)[missing_mask\u001b[39m.\u001b[39mnonzero()[\u001b[39m0\u001b[39m]]\u001b[39m.\u001b[39munique())\n\u001b[1;32m   5941\u001b[0m \u001b[39mraise\u001b[39;00m \u001b[39mKeyError\u001b[39;00m(\u001b[39mf\u001b[39m\u001b[39m\"\u001b[39m\u001b[39m{\u001b[39;00mnot_found\u001b[39m}\u001b[39;00m\u001b[39m not in index\u001b[39m\u001b[39m\"\u001b[39m)\n",
      "\u001b[0;31mKeyError\u001b[0m: \"None of [Index([  0,   1,   2,   3,   4,   5,   6,   7,   8,   9,\\n       ...\\n       172, 173, 174, 175, 176, 177, 178, 179, 180, 181],\\n      dtype='int64', length=182)] are in the [columns]\""
     ]
    }
   ],
   "source": [
    "model = VSpyct(max_depth=3, bs=64)\n",
    "model.fit(X_train, y_train)"
   ]
  },
  {
   "cell_type": "code",
   "execution_count": 91,
   "metadata": {},
   "outputs": [],
   "source": [
    "preds = model.predict(X_test)"
   ]
  },
  {
   "cell_type": "code",
   "execution_count": 92,
   "metadata": {},
   "outputs": [],
   "source": [
    "X_train, T_train, E_train, X_test, T_test, E_test = data.pysurvival_split('time', 'status')"
   ]
  },
  {
   "cell_type": "code",
   "execution_count": 93,
   "metadata": {},
   "outputs": [],
   "source": [
    "avg_preds = preds.mean(axis=1)"
   ]
  },
  {
   "cell_type": "code",
   "execution_count": 94,
   "metadata": {},
   "outputs": [
    {
     "data": {
      "text/plain": [
       "(torch.Size([46, 1022]), torch.Size([46, 1022]))"
      ]
     },
     "execution_count": 94,
     "metadata": {},
     "output_type": "execute_result"
    }
   ],
   "source": [
    "y_test.shape, avg_preds.shape"
   ]
  },
  {
   "cell_type": "code",
   "execution_count": 95,
   "metadata": {},
   "outputs": [],
   "source": [
    "# class Brier:\n",
    "#   def __init__(self, times, event_observed):\n",
    "#     from lifelines import KaplanMeierFitter\n",
    "#     self.times = times\n",
    "#     self.event_observed = event_observed\n",
    "#     self.num_events = sum(event_observed)\n",
    "#     self.kmf = KaplanMeierFitter()\n",
    "#     self.kmf.fit(self.times, self.event_observed)\n",
    "#     cumulative_censoring_probs = 1 - self.kmf.survival_function_.values\n",
    "#     self.ipcw_coeffs = (1 / cumulative_censoring_probs)[1:]\n",
    "\n",
    "#   def evaluate(self, times_arr, predicted_probs):\n",
    "#     if isinstance(times_arr, torch.Tensor): times_arr = times_arr.numpy()\n",
    "#     if isinstance(predicted_probs, torch.Tensor): predicted_probs = predicted_probs.numpy()\n",
    "#     print(np.power(times_arr - predicted_probs, 2).mean(axis=0).shape)\n",
    "#     brier_score = (self.ipcw_coeffs*np.power(times_arr - predicted_probs, 2)).mean(axis=0) / self.num_events\n",
    "#     return brier_score"
   ]
  },
  {
   "cell_type": "code",
   "execution_count": 96,
   "metadata": {},
   "outputs": [],
   "source": [
    "from src import eval"
   ]
  },
  {
   "cell_type": "code",
   "execution_count": 187,
   "metadata": {},
   "outputs": [],
   "source": [
    "import numpy as np\n",
    "from lifelines import KaplanMeierFitter\n",
    "\n",
    "class IPCWBrierScoreCalculator:\n",
    "    def __init__(self, times, event_observed):\n",
    "        self.times = times\n",
    "        self.event_observed = event_observed\n",
    "        self.kmf_event = KaplanMeierFitter()\n",
    "        self.kmf_censor = KaplanMeierFitter()\n",
    "\n",
    "        # Fit KM estimator for event\n",
    "        self.kmf_event.fit(times, event_observed)\n",
    "        \n",
    "        # Fit KM estimator for censoring (invert event_observed)\n",
    "        self.kmf_censor.fit(times, ~event_observed)\n",
    "\n",
    "    def ipcw(self):\n",
    "        \"\"\"Calculate the Inverse Probability of Censoring Weights (IPCW).\"\"\"\n",
    "        # Probabilities of not being censored\n",
    "        probs_not_censored = self.kmf_censor.survival_function_at_times(self.times).values\n",
    "        \n",
    "        # Handle division by zero\n",
    "        probs_not_censored = np.clip(probs_not_censored, 1e-10, 1)\n",
    "        \n",
    "        # Calculate IPCW\n",
    "        return 1 / probs_not_censored\n",
    "\n",
    "    def brier_score(self, prediction_times, predicted_survival):\n",
    "      prediction_times = np.asarray(prediction_times)\n",
    "      predicted_survival = np.asarray(predicted_survival)\n",
    "      \n",
    "      # IPCW for each observation\n",
    "      ipcw_weights = self.ipcw()\n",
    "\n",
    "      print(prediction_times.shape, predicted_survival.shape)\n",
    "\n",
    "      # Observed - Predicted survival squared, weighted by IPCW\n",
    "      weighted_diff_squared = ipcw_weights * (prediction_times - predicted_survival) ** 2\n",
    "      \n",
    "      # Average over all observations to get Brier Score\n",
    "      brier_score = np.mean(weighted_diff_squared, axis=0)\n",
    "      \n",
    "      return brier_score"
   ]
  },
  {
   "cell_type": "code",
   "execution_count": 188,
   "metadata": {},
   "outputs": [],
   "source": [
    "import sys\n",
    "sys.path.append('..')\n",
    "from src.utils import fix_predictions\n",
    "from src.data.dataset import SurvivalDataset\n",
    "import numpy as np\n",
    "import torch\n",
    "\n",
    "class IPCWBrier:\n",
    "    def __init__(self, times, event_observed):\n",
    "        from lifelines import KaplanMeierFitter\n",
    "        from scipy.interpolate import interp1d\n",
    "        self.times = times\n",
    "        self.event_observed = event_observed\n",
    "        self.num_events = sum(event_observed)\n",
    "        self.kmf = KaplanMeierFitter()\n",
    "        self.kmf.fit(self.times, self.event_observed)\n",
    "        \n",
    "        # Calculate cumulative censoring probabilities\n",
    "        cumulative_censoring_probs = 1 - self.kmf.survival_function_.values.flatten()\n",
    "        \n",
    "        # Get the time points corresponding to the survival function estimates\n",
    "        kmf_times = self.kmf.survival_function_.index.values\n",
    "        \n",
    "        # Interpolate to match the original number of time points\n",
    "        # Create an interpolation function based on the kmf times and the cumulative censoring probabilities\n",
    "        interp_func = interp1d(kmf_times, cumulative_censoring_probs, fill_value=\"extrapolate\")\n",
    "        \n",
    "        # Use the interpolation function to estimate ipcw_coeffs for each original time point\n",
    "        self.ipcw_coeffs = interp_func(self.times)\n",
    "        \n",
    "        # Adjust any values that might be extrapolated beyond the range of 0 to 1\n",
    "        self.ipcw_coeffs = np.clip(self.ipcw_coeffs, 0, 1)\n",
    "        \n",
    "        # Inverse to get IPCW coefficients\n",
    "        self.ipcw_coeffs = 1 / self.ipcw_coeffs\n",
    "        print(self.ipcw_coeffs.shape)\n",
    "\n",
    "    def evaluate(self, times_arr, predicted_probs):\n",
    "        if isinstance(times_arr, torch.Tensor): times_arr = times_arr.numpy()\n",
    "        if isinstance(predicted_probs, torch.Tensor): predicted_probs = predicted_probs.numpy()\n",
    "        diff = torch.tensor(np.power(times_arr - predicted_probs, 2))\n",
    "        print(diff.shape)\n",
    "        ipcw_coeffs = torch.tensor(self.ipcw_coeffs, dtype=torch.float32)  # Ensure it's a PyTorch tensor\n",
    "        ipcw_coeffs = ipcw_coeffs.unsqueeze(-1)\n",
    "        brier_score = torch.nanmean(ipcw_coeffs * diff, axis=0) / self.num_events\n",
    "        return brier_score\n",
    "\n"
   ]
  },
  {
   "cell_type": "code",
   "execution_count": 189,
   "metadata": {},
   "outputs": [
    {
     "name": "stdout",
     "output_type": "stream",
     "text": [
      "(46, 1022) (46, 1022)\n",
      "[[ 0.  0.  0. ... nan nan nan]\n",
      " [ 0.  0.  0. ...  0.  0.  0.]\n",
      " [ 0.  0.  0. ... nan nan nan]\n",
      " ...\n",
      " [ 0.  0.  0. ... nan nan nan]\n",
      " [ 0.  0.  0. ... nan nan nan]\n",
      " [ 0.  0.  0. ... nan nan nan]]\n"
     ]
    },
    {
     "ename": "ValueError",
     "evalue": "operands could not be broadcast together with shapes (46,) (46,1022) ",
     "output_type": "error",
     "traceback": [
      "\u001b[0;31m---------------------------------------------------------------------------\u001b[0m",
      "\u001b[0;31mValueError\u001b[0m                                Traceback (most recent call last)",
      "Cell \u001b[0;32mIn[189], line 2\u001b[0m\n\u001b[1;32m      1\u001b[0m _bs_ \u001b[39m=\u001b[39m IPCWBrierScoreCalculator(T_test, E_test)\n\u001b[0;32m----> 2\u001b[0m bs_vspyct \u001b[39m=\u001b[39m _bs_\u001b[39m.\u001b[39;49mbrier_score(y_test, avg_preds)\n\u001b[1;32m      3\u001b[0m plt\u001b[39m.\u001b[39mplot(bs_vspyct)\n",
      "Cell \u001b[0;32mIn[187], line 40\u001b[0m, in \u001b[0;36mIPCWBrierScoreCalculator.brier_score\u001b[0;34m(self, prediction_times, predicted_survival)\u001b[0m\n\u001b[1;32m     37\u001b[0m \u001b[39mprint\u001b[39m((prediction_times \u001b[39m-\u001b[39m predicted_survival) \u001b[39m*\u001b[39m\u001b[39m*\u001b[39m \u001b[39m2\u001b[39m)\n\u001b[1;32m     39\u001b[0m \u001b[39m# Observed - Predicted survival squared, weighted by IPCW\u001b[39;00m\n\u001b[0;32m---> 40\u001b[0m weighted_diff_squared \u001b[39m=\u001b[39m ipcw_weights \u001b[39m*\u001b[39;49m (prediction_times \u001b[39m-\u001b[39;49m predicted_survival) \u001b[39m*\u001b[39;49m\u001b[39m*\u001b[39;49m \u001b[39m2\u001b[39;49m\n\u001b[1;32m     42\u001b[0m \u001b[39m# Average over all observations to get Brier Score\u001b[39;00m\n\u001b[1;32m     43\u001b[0m brier_score \u001b[39m=\u001b[39m np\u001b[39m.\u001b[39mmean(weighted_diff_squared, axis\u001b[39m=\u001b[39m\u001b[39m0\u001b[39m)\n",
      "\u001b[0;31mValueError\u001b[0m: operands could not be broadcast together with shapes (46,) (46,1022) "
     ]
    }
   ],
   "source": [
    "_bs_ = IPCWBrierScoreCalculator(T_test, E_test)\n",
    "bs_vspyct = _bs_.brier_score(y_test, avg_preds)\n",
    "plt.plot(bs_vspyct)"
   ]
  },
  {
   "cell_type": "code",
   "execution_count": 100,
   "metadata": {},
   "outputs": [
    {
     "name": "stderr",
     "output_type": "stream",
     "text": [
      "% Completion: 100%|***********************************************|Loss: 514.83\n"
     ]
    }
   ],
   "source": [
    "from pysurvival.models.multi_task import LinearMultiTaskModel\n",
    "mtlr = LinearMultiTaskModel()\n",
    "mtlr.fit(X_train, T_train, E_train, lr=0.0001, l2_reg=1e-2, init_method='zeros')\n",
    "\n",
    "predicted_mtlr = mtlr.predict_survival(X_test)\n",
    "transformed_predictions_mtlr = fix_predictions(predicted_mtlr, mtlr.times, int(T_train.max()))"
   ]
  },
  {
   "cell_type": "code",
   "execution_count": 103,
   "metadata": {},
   "outputs": [
    {
     "name": "stdout",
     "output_type": "stream",
     "text": [
      "torch.Size([46, 1022])\n"
     ]
    },
    {
     "data": {
      "text/plain": [
       "[<matplotlib.lines.Line2D at 0x29a1edaf0>]"
      ]
     },
     "execution_count": 103,
     "metadata": {},
     "output_type": "execute_result"
    },
    {
     "data": {
      "image/png": "[encoded data removed]",
      "text/plain": [
       "<Figure size 640x480 with 1 Axes>"
      ]
     },
     "metadata": {},
     "output_type": "display_data"
    }
   ],
   "source": [
    "bs_mtlr = _bs_.evaluate(y_test, transformed_predictions_mtlr)\n",
    "plt.plot(bs_mtlr)"
   ]
  },
  {
   "cell_type": "code",
   "execution_count": 104,
   "metadata": {},
   "outputs": [
    {
     "data": {
      "text/plain": [
       "RandomSurvivalForestModel"
      ]
     },
     "execution_count": 104,
     "metadata": {},
     "output_type": "execute_result"
    }
   ],
   "source": [
    "from pysurvival.models.survival_forest import RandomSurvivalForestModel\n",
    "\n",
    "rsf = RandomSurvivalForestModel(num_trees=50)\n",
    "rsf.fit(X_train, T_train, E_train, max_features=\"sqrt\", max_depth=5)"
   ]
  },
  {
   "cell_type": "code",
   "execution_count": 105,
   "metadata": {},
   "outputs": [],
   "source": [
    "predicted_rsf = rsf.predict_survival(X_test)\n",
    "transformed_predictions_rsf = fix_predictions(predicted_rsf, rsf.times, int(T_train.max()))"
   ]
  },
  {
   "cell_type": "code",
   "execution_count": 106,
   "metadata": {},
   "outputs": [
    {
     "name": "stdout",
     "output_type": "stream",
     "text": [
      "torch.Size([46, 1022])\n"
     ]
    },
    {
     "data": {
      "text/plain": [
       "[<matplotlib.lines.Line2D at 0x29a1fee20>]"
      ]
     },
     "execution_count": 106,
     "metadata": {},
     "output_type": "execute_result"
    },
    {
     "data": {
      "image/png": "[encoded data removed]",
      "text/plain": [
       "<Figure size 640x480 with 1 Axes>"
      ]
     },
     "metadata": {},
     "output_type": "display_data"
    }
   ],
   "source": [
    "bs_rsf = _bs_.evaluate(y_test, transformed_predictions_rsf)\n",
    "plt.plot(bs_rsf)"
   ]
  },
  {
   "cell_type": "code",
   "execution_count": 107,
   "metadata": {},
   "outputs": [
    {
     "name": "stdout",
     "output_type": "stream",
     "text": [
      "Performing Newton-Raphson optimization\n",
      " * Iteration #1 - Loss = 559.875 - ||grad||^2 = 83.29303\n",
      " * Iteration #2 - Loss = 559.480 - ||grad||^2 = 82.45950\n",
      " * Iteration #3 - Loss = 559.093 - ||grad||^2 = 81.63433\n",
      " * Iteration #4 - Loss = 558.715 - ||grad||^2 = 80.81744\n",
      " * Iteration #5 - Loss = 558.344 - ||grad||^2 = 80.00873\n",
      " * Iteration #6 - Loss = 557.981 - ||grad||^2 = 79.20814\n",
      " * Iteration #7 - Loss = 557.626 - ||grad||^2 = 78.41558\n",
      " * Iteration #8 - Loss = 557.278 - ||grad||^2 = 77.63096\n",
      " * Iteration #9 - Loss = 556.937 - ||grad||^2 = 76.85421\n",
      " * Iteration #10 - Loss = 556.603 - ||grad||^2 = 76.08524\n",
      " * Iteration #11 - Loss = 556.276 - ||grad||^2 = 75.32399\n",
      " * Iteration #12 - Loss = 555.956 - ||grad||^2 = 74.57036\n",
      " * Iteration #13 - Loss = 555.642 - ||grad||^2 = 73.82429\n",
      " * Iteration #14 - Loss = 555.335 - ||grad||^2 = 73.08569\n",
      " * Iteration #15 - Loss = 555.034 - ||grad||^2 = 72.35450\n",
      " * Iteration #16 - Loss = 554.740 - ||grad||^2 = 71.63063\n",
      " * Iteration #17 - Loss = 554.451 - ||grad||^2 = 70.91402\n",
      " * Iteration #18 - Loss = 554.168 - ||grad||^2 = 70.20459\n",
      " * Iteration #19 - Loss = 553.891 - ||grad||^2 = 69.50226\n",
      " * Iteration #20 - Loss = 553.620 - ||grad||^2 = 68.80698\n",
      " * Iteration #21 - Loss = 553.354 - ||grad||^2 = 68.11865\n",
      " * Iteration #22 - Loss = 553.094 - ||grad||^2 = 67.43723\n",
      " * Iteration #23 - Loss = 552.839 - ||grad||^2 = 66.76263\n",
      " * Iteration #24 - Loss = 552.589 - ||grad||^2 = 66.09478\n",
      " * Iteration #25 - Loss = 552.344 - ||grad||^2 = 65.43363\n",
      " * Iteration #26 - Loss = 552.104 - ||grad||^2 = 64.77910\n",
      " * Iteration #27 - Loss = 551.869 - ||grad||^2 = 64.13112\n",
      " * Iteration #28 - Loss = 551.638 - ||grad||^2 = 63.48963\n",
      " * Iteration #29 - Loss = 551.412 - ||grad||^2 = 62.85457\n",
      " * Iteration #30 - Loss = 551.191 - ||grad||^2 = 62.22587\n",
      " * Iteration #31 - Loss = 550.975 - ||grad||^2 = 61.60346\n",
      " * Iteration #32 - Loss = 550.762 - ||grad||^2 = 60.98728\n",
      " * Iteration #33 - Loss = 550.554 - ||grad||^2 = 60.37728\n",
      " * Iteration #34 - Loss = 550.350 - ||grad||^2 = 59.77338\n",
      " * Iteration #35 - Loss = 550.150 - ||grad||^2 = 59.17553\n",
      " * Iteration #36 - Loss = 549.954 - ||grad||^2 = 58.58366\n",
      " * Iteration #37 - Loss = 549.762 - ||grad||^2 = 57.99772\n",
      " * Iteration #38 - Loss = 549.574 - ||grad||^2 = 57.41765\n",
      " * Iteration #39 - Loss = 549.390 - ||grad||^2 = 56.84338\n",
      " * Iteration #40 - Loss = 549.209 - ||grad||^2 = 56.27486\n",
      " * Iteration #41 - Loss = 549.032 - ||grad||^2 = 55.71203\n",
      " * Iteration #42 - Loss = 548.858 - ||grad||^2 = 55.15483\n",
      " * Iteration #43 - Loss = 548.688 - ||grad||^2 = 54.60322\n",
      " * Iteration #44 - Loss = 548.522 - ||grad||^2 = 54.05712\n",
      " * Iteration #45 - Loss = 548.358 - ||grad||^2 = 53.51649\n",
      " * Iteration #46 - Loss = 548.198 - ||grad||^2 = 52.98127\n",
      " * Iteration #47 - Loss = 548.041 - ||grad||^2 = 52.45141\n",
      " * Iteration #48 - Loss = 547.887 - ||grad||^2 = 51.92685\n",
      " * Iteration #49 - Loss = 547.736 - ||grad||^2 = 51.40754\n",
      " * Iteration #50 - Loss = 547.588 - ||grad||^2 = 50.89342\n",
      " * Iteration #51 - Loss = 547.444 - ||grad||^2 = 50.38445\n",
      " * Iteration #52 - Loss = 547.301 - ||grad||^2 = 49.88058\n",
      " * Iteration #53 - Loss = 547.162 - ||grad||^2 = 49.38174\n",
      " * Iteration #54 - Loss = 547.026 - ||grad||^2 = 48.88790\n",
      " * Iteration #55 - Loss = 546.892 - ||grad||^2 = 48.39900\n",
      " * Iteration #56 - Loss = 546.761 - ||grad||^2 = 47.91499\n",
      " * Iteration #57 - Loss = 546.632 - ||grad||^2 = 47.43583\n",
      " * Iteration #58 - Loss = 546.506 - ||grad||^2 = 46.96146\n",
      " * Iteration #59 - Loss = 546.383 - ||grad||^2 = 46.49183\n",
      " * Iteration #60 - Loss = 546.262 - ||grad||^2 = 46.02691\n",
      " * Iteration #61 - Loss = 546.143 - ||grad||^2 = 45.56663\n",
      " * Iteration #62 - Loss = 546.027 - ||grad||^2 = 45.11096\n",
      " * Iteration #63 - Loss = 545.913 - ||grad||^2 = 44.65985\n",
      " * Iteration #64 - Loss = 545.801 - ||grad||^2 = 44.21325\n",
      " * Iteration #65 - Loss = 545.691 - ||grad||^2 = 43.77112\n",
      " * Iteration #66 - Loss = 545.584 - ||grad||^2 = 43.33342\n",
      " * Iteration #67 - Loss = 545.478 - ||grad||^2 = 42.90009\n",
      " * Iteration #68 - Loss = 545.375 - ||grad||^2 = 42.47110\n",
      " * Iteration #69 - Loss = 545.274 - ||grad||^2 = 42.04640\n",
      " * Iteration #70 - Loss = 545.174 - ||grad||^2 = 41.62594\n",
      " * Iteration #71 - Loss = 545.077 - ||grad||^2 = 41.20970\n",
      " * Iteration #72 - Loss = 544.982 - ||grad||^2 = 40.79761\n",
      " * Iteration #73 - Loss = 544.888 - ||grad||^2 = 40.38965\n",
      " * Iteration #74 - Loss = 544.796 - ||grad||^2 = 39.98577\n",
      " * Iteration #75 - Loss = 544.707 - ||grad||^2 = 39.58593\n",
      " * Iteration #76 - Loss = 544.618 - ||grad||^2 = 39.19009\n",
      " * Iteration #77 - Loss = 544.532 - ||grad||^2 = 38.79821\n",
      " * Iteration #78 - Loss = 544.447 - ||grad||^2 = 38.41025\n",
      " * Iteration #79 - Loss = 544.364 - ||grad||^2 = 38.02616\n",
      " * Iteration #80 - Loss = 544.283 - ||grad||^2 = 37.64593\n",
      " * Iteration #81 - Loss = 544.203 - ||grad||^2 = 37.26949\n",
      " * Iteration #82 - Loss = 544.125 - ||grad||^2 = 36.89682\n",
      " * Iteration #83 - Loss = 544.048 - ||grad||^2 = 36.52787\n",
      " * Iteration #84 - Loss = 543.973 - ||grad||^2 = 36.16262\n",
      " * Iteration #85 - Loss = 543.899 - ||grad||^2 = 35.80102\n",
      " * Iteration #86 - Loss = 543.827 - ||grad||^2 = 35.44303\n",
      " * Iteration #87 - Loss = 543.756 - ||grad||^2 = 35.08863\n",
      " * Iteration #88 - Loss = 543.686 - ||grad||^2 = 34.73777\n",
      " * Iteration #89 - Loss = 543.618 - ||grad||^2 = 34.39042\n",
      " * Iteration #90 - Loss = 543.551 - ||grad||^2 = 34.04654\n",
      " * Iteration #91 - Loss = 543.486 - ||grad||^2 = 33.70610\n",
      " * Iteration #92 - Loss = 543.422 - ||grad||^2 = 33.36907\n",
      " * Iteration #93 - Loss = 543.359 - ||grad||^2 = 33.03541\n",
      " * Iteration #94 - Loss = 543.297 - ||grad||^2 = 32.70508\n",
      " * Iteration #95 - Loss = 543.236 - ||grad||^2 = 32.37806\n",
      " * Iteration #96 - Loss = 543.177 - ||grad||^2 = 32.05431\n",
      " * Iteration #97 - Loss = 543.119 - ||grad||^2 = 31.73380\n",
      " * Iteration #98 - Loss = 543.062 - ||grad||^2 = 31.41649\n",
      " * Iteration #99 - Loss = 543.006 - ||grad||^2 = 31.10235\n",
      " * Iteration #100 - Loss = 542.951 - ||grad||^2 = 30.79136\n",
      "Optimization reached max number of iterations.\n"
     ]
    },
    {
     "data": {
      "text/plain": [
       "CoxPHModel"
      ]
     },
     "execution_count": 107,
     "metadata": {},
     "output_type": "execute_result"
    }
   ],
   "source": [
    "from pysurvival.models.semi_parametric import CoxPHModel\n",
    "\n",
    "coxph = CoxPHModel()\n",
    "coxph.fit(X_train, T_train, E_train, lr=0.01, l2_reg=1e-2, init_method='zeros')"
   ]
  },
  {
   "cell_type": "code",
   "execution_count": 108,
   "metadata": {},
   "outputs": [],
   "source": [
    "predicted_coxph = coxph.predict_survival(X_test)\n",
    "transformed_predictions_coxph = fix_predictions(predicted_coxph, coxph.times, int(T_train.max()))"
   ]
  },
  {
   "cell_type": "code",
   "execution_count": 109,
   "metadata": {},
   "outputs": [
    {
     "name": "stdout",
     "output_type": "stream",
     "text": [
      "torch.Size([46, 1022])\n"
     ]
    }
   ],
   "source": [
    "bs_coxph = _bs_.evaluate(y_test, transformed_predictions_coxph)"
   ]
  },
  {
   "cell_type": "code",
   "execution_count": 110,
   "metadata": {},
   "outputs": [
    {
     "data": {
      "text/plain": [
       "[<matplotlib.lines.Line2D at 0x295531fa0>]"
      ]
     },
     "execution_count": 110,
     "metadata": {},
     "output_type": "execute_result"
    },
    {
     "data": {
      "image/png": "[encoded data removed]",
      "text/plain": [
       "<Figure size 640x480 with 1 Axes>"
      ]
     },
     "metadata": {},
     "output_type": "display_data"
    }
   ],
   "source": [
    "plt.plot(bs_coxph)"
   ]
  },
  {
   "cell_type": "code",
   "execution_count": 111,
   "metadata": {},
   "outputs": [
    {
     "data": {
      "text/plain": [
       "<spyct.model.Model at 0x29b194ca0>"
      ]
     },
     "execution_count": 111,
     "metadata": {},
     "output_type": "execute_result"
    }
   ],
   "source": [
    "import spyct\n",
    "\n",
    "model = spyct.Model()\n",
    "model.fit(X_train.values, y_train.numpy())"
   ]
  },
  {
   "cell_type": "code",
   "execution_count": 112,
   "metadata": {},
   "outputs": [],
   "source": [
    "preds_spyct = model.predict(y_test.numpy())"
   ]
  },
  {
   "cell_type": "code",
   "execution_count": 113,
   "metadata": {},
   "outputs": [
    {
     "data": {
      "text/plain": [
       "(46, 1022)"
      ]
     },
     "execution_count": 113,
     "metadata": {},
     "output_type": "execute_result"
    }
   ],
   "source": [
    "preds_spyct.shape"
   ]
  },
  {
   "cell_type": "code",
   "execution_count": 114,
   "metadata": {},
   "outputs": [
    {
     "name": "stdout",
     "output_type": "stream",
     "text": [
      "torch.Size([46, 1022])\n"
     ]
    },
    {
     "data": {
      "text/plain": [
       "[<matplotlib.lines.Line2D at 0x29e107760>]"
      ]
     },
     "execution_count": 114,
     "metadata": {},
     "output_type": "execute_result"
    },
    {
     "data": {
      "image/png": "[encoded data removed]",
      "text/plain": [
       "<Figure size 640x480 with 1 Axes>"
      ]
     },
     "metadata": {},
     "output_type": "display_data"
    }
   ],
   "source": [
    "bs_spyct = _bs_.evaluate(y_test, preds_spyct)\n",
    "plt.plot(bs_spyct)"
   ]
  },
  {
   "cell_type": "code",
   "execution_count": 115,
   "metadata": {},
   "outputs": [],
   "source": [
    "import matplotlib.pyplot as plt"
   ]
  },
  {
   "cell_type": "code",
   "execution_count": 116,
   "metadata": {},
   "outputs": [
    {
     "data": {
      "text/plain": [
       "<matplotlib.legend.Legend at 0x29e14da90>"
      ]
     },
     "execution_count": 116,
     "metadata": {},
     "output_type": "execute_result"
    },
    {
     "data": {
      "image/png": "[encoded data removed]",
      "text/plain": [
       "<Figure size 400x233.333 with 1 Axes>"
      ]
     },
     "metadata": {},
     "output_type": "display_data"
    }
   ],
   "source": [
    "plt.rc('text', usetex=True)\n",
    "plt.rc('font', family='serif', size=8)\n",
    "fig, ax = plt.subplots(figsize=(6/1.5,3.5/1.5))\n",
    "fig.set_constrained_layout(True)\n",
    "\n",
    "ax.plot(bs_vspyct, label='VSpyct', color='green', linewidth=2.0)\n",
    "ax.plot(bs_spyct, label='Spyct', color='red', linewidth=2.0)\n",
    "ax.plot(bs_coxph, label='CoxPH', alpha=0.4)\n",
    "ax.plot(bs_rsf, label='RSF', alpha=0.4)\n",
    "ax.plot(bs_mtlr, label='MTLR', alpha=0.4, color='k')\n",
    "ax.legend(frameon=False)\n",
    "\n",
    "# plt.savefig('../reports/figures/bs_rdata.pdf')"
   ]
  },
  {
   "cell_type": "code",
   "execution_count": 2,
   "metadata": {},
   "outputs": [],
   "source": [
    "import pyreadr\n",
    "dataset = pyreadr.read_r('../data/raw/cancer.rda')['cancer']#.split('/')[-1]]"
   ]
  },
  {
   "cell_type": "code",
   "execution_count": 3,
   "metadata": {},
   "outputs": [
    {
     "data": {
      "text/html": [
       "<div>\n",
       "<style scoped>\n",
       "    .dataframe tbody tr th:only-of-type {\n",
       "        vertical-align: middle;\n",
       "    }\n",
       "\n",
       "    .dataframe tbody tr th {\n",
       "        vertical-align: top;\n",
       "    }\n",
       "\n",
       "    .dataframe thead th {\n",
       "        text-align: right;\n",
       "    }\n",
       "</style>\n",
       "<table border=\"1\" class=\"dataframe\">\n",
       "  <thead>\n",
       "    <tr style=\"text-align: right;\">\n",
       "      <th></th>\n",
       "      <th>inst</th>\n",
       "      <th>time</th>\n",
       "      <th>status</th>\n",
       "      <th>age</th>\n",
       "      <th>sex</th>\n",
       "      <th>ph.ecog</th>\n",
       "      <th>ph.karno</th>\n",
       "      <th>pat.karno</th>\n",
       "      <th>meal.cal</th>\n",
       "      <th>wt.loss</th>\n",
       "    </tr>\n",
       "    <tr>\n",
       "      <th>rownames</th>\n",
       "      <th></th>\n",
       "      <th></th>\n",
       "      <th></th>\n",
       "      <th></th>\n",
       "      <th></th>\n",
       "      <th></th>\n",
       "      <th></th>\n",
       "      <th></th>\n",
       "      <th></th>\n",
       "      <th></th>\n",
       "    </tr>\n",
       "  </thead>\n",
       "  <tbody>\n",
       "    <tr>\n",
       "      <th>1</th>\n",
       "      <td>3.0</td>\n",
       "      <td>306.0</td>\n",
       "      <td>2.0</td>\n",
       "      <td>74.0</td>\n",
       "      <td>1.0</td>\n",
       "      <td>1.0</td>\n",
       "      <td>90.0</td>\n",
       "      <td>100.0</td>\n",
       "      <td>1175.0</td>\n",
       "      <td>NaN</td>\n",
       "    </tr>\n",
       "    <tr>\n",
       "      <th>2</th>\n",
       "      <td>3.0</td>\n",
       "      <td>455.0</td>\n",
       "      <td>2.0</td>\n",
       "      <td>68.0</td>\n",
       "      <td>1.0</td>\n",
       "      <td>0.0</td>\n",
       "      <td>90.0</td>\n",
       "      <td>90.0</td>\n",
       "      <td>1225.0</td>\n",
       "      <td>15.0</td>\n",
       "    </tr>\n",
       "    <tr>\n",
       "      <th>3</th>\n",
       "      <td>3.0</td>\n",
       "      <td>1010.0</td>\n",
       "      <td>1.0</td>\n",
       "      <td>56.0</td>\n",
       "      <td>1.0</td>\n",
       "      <td>0.0</td>\n",
       "      <td>90.0</td>\n",
       "      <td>90.0</td>\n",
       "      <td>NaN</td>\n",
       "      <td>15.0</td>\n",
       "    </tr>\n",
       "    <tr>\n",
       "      <th>4</th>\n",
       "      <td>5.0</td>\n",
       "      <td>210.0</td>\n",
       "      <td>2.0</td>\n",
       "      <td>57.0</td>\n",
       "      <td>1.0</td>\n",
       "      <td>1.0</td>\n",
       "      <td>90.0</td>\n",
       "      <td>60.0</td>\n",
       "      <td>1150.0</td>\n",
       "      <td>11.0</td>\n",
       "    </tr>\n",
       "    <tr>\n",
       "      <th>5</th>\n",
       "      <td>1.0</td>\n",
       "      <td>883.0</td>\n",
       "      <td>2.0</td>\n",
       "      <td>60.0</td>\n",
       "      <td>1.0</td>\n",
       "      <td>0.0</td>\n",
       "      <td>100.0</td>\n",
       "      <td>90.0</td>\n",
       "      <td>NaN</td>\n",
       "      <td>0.0</td>\n",
       "    </tr>\n",
       "    <tr>\n",
       "      <th>...</th>\n",
       "      <td>...</td>\n",
       "      <td>...</td>\n",
       "      <td>...</td>\n",
       "      <td>...</td>\n",
       "      <td>...</td>\n",
       "      <td>...</td>\n",
       "      <td>...</td>\n",
       "      <td>...</td>\n",
       "      <td>...</td>\n",
       "      <td>...</td>\n",
       "    </tr>\n",
       "    <tr>\n",
       "      <th>224</th>\n",
       "      <td>1.0</td>\n",
       "      <td>188.0</td>\n",
       "      <td>1.0</td>\n",
       "      <td>77.0</td>\n",
       "      <td>1.0</td>\n",
       "      <td>1.0</td>\n",
       "      <td>80.0</td>\n",
       "      <td>60.0</td>\n",
       "      <td>NaN</td>\n",
       "      <td>3.0</td>\n",
       "    </tr>\n",
       "    <tr>\n",
       "      <th>225</th>\n",
       "      <td>13.0</td>\n",
       "      <td>191.0</td>\n",
       "      <td>1.0</td>\n",
       "      <td>39.0</td>\n",
       "      <td>1.0</td>\n",
       "      <td>0.0</td>\n",
       "      <td>90.0</td>\n",
       "      <td>90.0</td>\n",
       "      <td>2350.0</td>\n",
       "      <td>-5.0</td>\n",
       "    </tr>\n",
       "    <tr>\n",
       "      <th>226</th>\n",
       "      <td>32.0</td>\n",
       "      <td>105.0</td>\n",
       "      <td>1.0</td>\n",
       "      <td>75.0</td>\n",
       "      <td>2.0</td>\n",
       "      <td>2.0</td>\n",
       "      <td>60.0</td>\n",
       "      <td>70.0</td>\n",
       "      <td>1025.0</td>\n",
       "      <td>5.0</td>\n",
       "    </tr>\n",
       "    <tr>\n",
       "      <th>227</th>\n",
       "      <td>6.0</td>\n",
       "      <td>174.0</td>\n",
       "      <td>1.0</td>\n",
       "      <td>66.0</td>\n",
       "      <td>1.0</td>\n",
       "      <td>1.0</td>\n",
       "      <td>90.0</td>\n",
       "      <td>100.0</td>\n",
       "      <td>1075.0</td>\n",
       "      <td>1.0</td>\n",
       "    </tr>\n",
       "    <tr>\n",
       "      <th>228</th>\n",
       "      <td>22.0</td>\n",
       "      <td>177.0</td>\n",
       "      <td>1.0</td>\n",
       "      <td>58.0</td>\n",
       "      <td>2.0</td>\n",
       "      <td>1.0</td>\n",
       "      <td>80.0</td>\n",
       "      <td>90.0</td>\n",
       "      <td>1060.0</td>\n",
       "      <td>0.0</td>\n",
       "    </tr>\n",
       "  </tbody>\n",
       "</table>\n",
       "<p>228 rows × 10 columns</p>\n",
       "</div>"
      ],
      "text/plain": [
       "          inst    time  status   age  sex  ph.ecog  ph.karno  pat.karno  \\\n",
       "rownames                                                                  \n",
       "1          3.0   306.0     2.0  74.0  1.0      1.0      90.0      100.0   \n",
       "2          3.0   455.0     2.0  68.0  1.0      0.0      90.0       90.0   \n",
       "3          3.0  1010.0     1.0  56.0  1.0      0.0      90.0       90.0   \n",
       "4          5.0   210.0     2.0  57.0  1.0      1.0      90.0       60.0   \n",
       "5          1.0   883.0     2.0  60.0  1.0      0.0     100.0       90.0   \n",
       "...        ...     ...     ...   ...  ...      ...       ...        ...   \n",
       "224        1.0   188.0     1.0  77.0  1.0      1.0      80.0       60.0   \n",
       "225       13.0   191.0     1.0  39.0  1.0      0.0      90.0       90.0   \n",
       "226       32.0   105.0     1.0  75.0  2.0      2.0      60.0       70.0   \n",
       "227        6.0   174.0     1.0  66.0  1.0      1.0      90.0      100.0   \n",
       "228       22.0   177.0     1.0  58.0  2.0      1.0      80.0       90.0   \n",
       "\n",
       "          meal.cal  wt.loss  \n",
       "rownames                     \n",
       "1           1175.0      NaN  \n",
       "2           1225.0     15.0  \n",
       "3              NaN     15.0  \n",
       "4           1150.0     11.0  \n",
       "5              NaN      0.0  \n",
       "...            ...      ...  \n",
       "224            NaN      3.0  \n",
       "225         2350.0     -5.0  \n",
       "226         1025.0      5.0  \n",
       "227         1075.0      1.0  \n",
       "228         1060.0      0.0  \n",
       "\n",
       "[228 rows x 10 columns]"
      ]
     },
     "execution_count": 3,
     "metadata": {},
     "output_type": "execute_result"
    }
   ],
   "source": [
    "dataset"
   ]
  },
  {
   "cell_type": "code",
   "execution_count": 160,
   "metadata": {},
   "outputs": [
    {
     "data": {
      "text/plain": [
       "torch.Size([46, 1022])"
      ]
     },
     "execution_count": 160,
     "metadata": {},
     "output_type": "execute_result"
    }
   ],
   "source": [
    "y_test.shape"
   ]
  },
  {
   "cell_type": "code",
   "execution_count": 158,
   "metadata": {},
   "outputs": [
    {
     "name": "stdout",
     "output_type": "stream",
     "text": [
      "          inst    time  status   age  sex  ph.ecog  ph.karno  pat.karno  \\\n",
      "rownames                                                                  \n",
      "1          3.0   306.0     2.0  74.0  1.0      1.0      90.0      100.0   \n",
      "2          3.0   455.0     2.0  68.0  1.0      0.0      90.0       90.0   \n",
      "3          3.0  1010.0     1.0  56.0  1.0      0.0      90.0       90.0   \n",
      "4          5.0   210.0     2.0  57.0  1.0      1.0      90.0       60.0   \n",
      "5          1.0   883.0     2.0  60.0  1.0      0.0     100.0       90.0   \n",
      "\n",
      "          meal.cal  wt.loss  \n",
      "rownames                     \n",
      "1           1175.0      NaN  \n",
      "2           1225.0     15.0  \n",
      "3              NaN     15.0  \n",
      "4           1150.0     11.0  \n",
      "5              NaN      0.0  \n",
      "1022\n",
      "Succesfully created time tensor of shape: torch.Size([228, 1022])\n",
      "(182, 8) torch.Size([182, 1022])\n"
     ]
    }
   ],
   "source": [
    "data = SurvivalDataset(fname='cancer.rda', path='../data/raw/')\n",
    "print(data.dataset.head())\n",
    "X_train, X_test, y_train, y_test = data.get_tensors('time', 'status')"
   ]
  },
  {
   "attachments": {},
   "cell_type": "markdown",
   "metadata": {},
   "source": [
    "Next steps:\n",
    "\n",
    "1) Adjust the VSpyct model to account for missing target variables. It should work in a SSL manner, same as the original SPYCT - FIXED \n",
    "2) Add PyCox models to the game - TODO \n",
    "3) Do the evaluations with 5-fold CV - TODO "
   ]
  },
  {
   "cell_type": "code",
   "execution_count": 351,
   "metadata": {},
   "outputs": [],
   "source": [
    "def gen_surv_nan(num_samples, num_days=365, missing_prob=0.1, nan_start_day=200):\n",
    "    num_features = 5  # Replace with the actual number of features\n",
    "\n",
    "    X = np.random.rand(num_samples, num_features)\n",
    "\n",
    "    y = np.zeros((num_samples, num_days))\n",
    "    for i in range(num_samples):\n",
    "        survival_prob = np.linspace(1, 0, num_days) * np.random.uniform(0.5, 1.5)\n",
    "\n",
    "        # Introduce missing values after the specified time point\n",
    "        nan_start_day = min(nan_start_day, num_days)  # Ensure nan_start_day is within the valid range\n",
    "        missing_indices = np.arange(nan_start_day, num_days)\n",
    "        y[i, missing_indices] = np.nan\n",
    "\n",
    "        y[i, :nan_start_day] = survival_prob[:nan_start_day]\n",
    "\n",
    "    return X, y\n",
    "\n",
    "def generate_survival_function_data(num_samples, num_days=365):\n",
    "  X = np.random.rand(num_samples, num_features)  \n",
    "\n",
    "  y = np.zeros((num_samples, num_days))\n",
    "  for i in range(num_samples):\n",
    "    y[i] = np.linspace(1, 0, num_days) * np.random.uniform(0.5, 1.5)\n",
    "\n",
    "  return X, y"
   ]
  },
  {
   "cell_type": "code",
   "execution_count": 160,
   "metadata": {},
   "outputs": [
    {
     "name": "stdout",
     "output_type": "stream",
     "text": [
      "torch.Size([1000]) torch.Size([1000, 365])\n",
      "tensor(-6.4459)\n"
     ]
    }
   ],
   "source": [
    "print(fake_weights.shape, y.shape)\n",
    "print(torch.matmul(fake_weights, y[:,0]))"
   ]
  },
  {
   "cell_type": "code",
   "execution_count": 224,
   "metadata": {},
   "outputs": [],
   "source": [
    "def weighted_variance(values, weights, weight_sum):\n",
    "    mean = torch.matmul(weights, values) / weight_sum\n",
    "    return -torch.sum(mean*mean)"
   ]
  },
  {
   "cell_type": "code",
   "execution_count": 225,
   "metadata": {},
   "outputs": [],
   "source": [
    "def wvar(values, weights, weight_sum):\n",
    "    _list = []\n",
    "    for i in range(values.shape[1]):\n",
    "        valid_indices = ~torch.isnan(values[:, i])\n",
    "        _list.append(torch.matmul(weights[valid_indices], values[valid_indices, i]))\n",
    "    _list = [z**2 for z in [x/weight_sum.item() for x in _list]]\n",
    "    return -(sum(_list))"
   ]
  },
  {
   "cell_type": "code",
   "execution_count": 347,
   "metadata": {},
   "outputs": [],
   "source": [
    "def _wvar(values, weights, weight_sum):\n",
    "    valid_indices = ~torch.isnan(values)\n",
    "    weighted_values = values * weights.view(-1, 1)\n",
    "    weighted_values[~valid_indices] = 0  # Set invalid values to 0\n",
    "    variance = ((weighted_values.sum(dim=0) / weight_sum) ** 2).sum()\n",
    "    return -variance"
   ]
  },
  {
   "cell_type": "code",
   "execution_count": 353,
   "metadata": {},
   "outputs": [
    {
     "data": {
      "text/plain": [
       "tensor(-168.5716)"
      ]
     },
     "execution_count": 353,
     "metadata": {},
     "output_type": "execute_result"
    }
   ],
   "source": [
    "_wvar(y, fake_weights, torch.sum(fake_weights))"
   ]
  },
  {
   "cell_type": "code",
   "execution_count": 354,
   "metadata": {},
   "outputs": [
    {
     "data": {
      "text/plain": [
       "tensor(nan)"
      ]
     },
     "execution_count": 354,
     "metadata": {},
     "output_type": "execute_result"
    }
   ],
   "source": [
    "weighted_variance(y, fake_weights, torch.sum(fake_weights))"
   ]
  },
  {
   "cell_type": "code",
   "execution_count": 355,
   "metadata": {},
   "outputs": [
    {
     "data": {
      "text/plain": [
       "tensor(-168.5716)"
      ]
     },
     "execution_count": 355,
     "metadata": {},
     "output_type": "execute_result"
    }
   ],
   "source": [
    "wvar(y, fake_weights, torch.sum(fake_weights))"
   ]
  },
  {
   "cell_type": "code",
   "execution_count": 343,
   "metadata": {},
   "outputs": [],
   "source": [
    "# Example usage:\n",
    "num_samples = 1000\n",
    "num_days = 365\n",
    "num_features = 10\n",
    "\n",
    "X, y = generate_survival_function_data(num_samples, num_days=num_days)\n",
    "X, y = torch.Tensor(X), torch.Tensor(y)"
   ]
  },
  {
   "cell_type": "code",
   "execution_count": 352,
   "metadata": {},
   "outputs": [],
   "source": [
    "# Example usage:\n",
    "num_samples = 1000\n",
    "num_days = 365\n",
    "num_features = 10\n",
    "\n",
    "X, y = gen_surv_nan(num_samples, num_days=num_days)\n",
    "X, y = torch.Tensor(X), torch.Tensor(y)"
   ]
  },
  {
   "cell_type": "code",
   "execution_count": 282,
   "metadata": {},
   "outputs": [],
   "source": [
    "fake_weights = torch.randn(1000)"
   ]
  },
  {
   "cell_type": "code",
   "execution_count": 99,
   "metadata": {},
   "outputs": [
    {
     "data": {
      "text/plain": [
       "(torch.Size([1000, 365]), torch.Size([1000]))"
      ]
     },
     "execution_count": 99,
     "metadata": {},
     "output_type": "execute_result"
    }
   ],
   "source": [
    "y.shape, fake_weights.shape"
   ]
  },
  {
   "cell_type": "code",
   "execution_count": 228,
   "metadata": {},
   "outputs": [
    {
     "name": "stdout",
     "output_type": "stream",
     "text": [
      "tensor(-97.7671) tensor(-97.7671)\n"
     ]
    }
   ],
   "source": [
    "print(weighted_variance(y, fake_weights, torch.sum(fake_weights)), wvar(y, fake_weights, torch.sum(fake_weights)))"
   ]
  },
  {
   "cell_type": "code",
   "execution_count": 236,
   "metadata": {},
   "outputs": [
    {
     "data": {
      "text/plain": [
       "tensor(1.5259e-05)"
      ]
     },
     "execution_count": 236,
     "metadata": {},
     "output_type": "execute_result"
    }
   ],
   "source": [
    "weighted_variance(y, fake_weights, torch.sum(fake_weights)) - wvar(y, fake_weights, torch.sum(fake_weights))"
   ]
  },
  {
   "cell_type": "code",
   "execution_count": 117,
   "metadata": {},
   "outputs": [
    {
     "data": {
      "text/plain": [
       "torch.Size([1000])"
      ]
     },
     "execution_count": 117,
     "metadata": {},
     "output_type": "execute_result"
    }
   ],
   "source": [
    "wvar(y, fake_weights, torch.sum(fake_weights)).shape"
   ]
  },
  {
   "cell_type": "code",
   "execution_count": 268,
   "metadata": {},
   "outputs": [],
   "source": [
    "def impurity(values): return torch.sum(torch.var(values, dim=0))"
   ]
  },
  {
   "cell_type": "code",
   "execution_count": 271,
   "metadata": {},
   "outputs": [
    {
     "data": {
      "text/plain": [
       "tensor(9.8679)"
      ]
     },
     "execution_count": 271,
     "metadata": {},
     "output_type": "execute_result"
    }
   ],
   "source": [
    "impurity(y)"
   ]
  },
  {
   "cell_type": "code",
   "execution_count": 274,
   "metadata": {},
   "outputs": [
    {
     "data": {
      "text/plain": [
       "torch.Size([365])"
      ]
     },
     "execution_count": 274,
     "metadata": {},
     "output_type": "execute_result"
    }
   ],
   "source": [
    "torch.var(y, dim=0).shape"
   ]
  },
  {
   "cell_type": "code",
   "execution_count": 304,
   "metadata": {},
   "outputs": [],
   "source": [
    "def nanvar(y, dim=0):\n",
    "    mask = ~torch.isnan(y)\n",
    "    masked_y = y.masked_fill(~mask, 0)\n",
    "    masked_mean = masked_y.sum(dim=dim) / mask.sum(dim=dim)\n",
    "    squared_diff = (masked_y - masked_mean.view(1, -1))**2\n",
    "    var = torch.sum(squared_diff, dim=dim) / (mask.sum(dim=dim) - 1)\n",
    "    return var"
   ]
  },
  {
   "cell_type": "code",
   "execution_count": 341,
   "metadata": {},
   "outputs": [],
   "source": [
    "def _nanvar(y, dim=0):\n",
    "    mean = torch.nanmean(y, dim)\n",
    "    squared_diff = (y - mean.unsqueeze(dim)) ** 2\n",
    "    valid_count = torch.sum(~torch.isnan(y), dim)\n",
    "    variance = torch.nansum(squared_diff, dim) / (valid_count - 1)\n",
    "    \n",
    "    return variance"
   ]
  },
  {
   "cell_type": "code",
   "execution_count": 344,
   "metadata": {},
   "outputs": [
    {
     "data": {
      "text/plain": [
       "(tensor(10.3796), tensor(10.3796))"
      ]
     },
     "execution_count": 344,
     "metadata": {},
     "output_type": "execute_result"
    }
   ],
   "source": [
    "torch.sum(_nanvar(y)), torch.sum(torch.var(y, dim=0))"
   ]
  },
  {
   "cell_type": "code",
   "execution_count": 331,
   "metadata": {},
   "outputs": [
    {
     "ename": "AttributeError",
     "evalue": "module 'torch' has no attribute 'nanvar'",
     "output_type": "error",
     "traceback": [
      "\u001b[0;31m---------------------------------------------------------------------------\u001b[0m",
      "\u001b[0;31mAttributeError\u001b[0m                            Traceback (most recent call last)",
      "Cell \u001b[0;32mIn[331], line 1\u001b[0m\n\u001b[0;32m----> 1\u001b[0m torch\u001b[39m.\u001b[39;49mnanvar(y\u001b[39m.\u001b[39mnumpy(), axis\u001b[39m=\u001b[39m\u001b[39m0\u001b[39m)\n",
      "File \u001b[0;32m~/miniconda3/lib/python3.8/site-packages/torch/__init__.py:1833\u001b[0m, in \u001b[0;36m__getattr__\u001b[0;34m(name)\u001b[0m\n\u001b[1;32m   1830\u001b[0m     \u001b[39mimport\u001b[39;00m \u001b[39mimportlib\u001b[39;00m\n\u001b[1;32m   1831\u001b[0m     \u001b[39mreturn\u001b[39;00m importlib\u001b[39m.\u001b[39mimport_module(\u001b[39mf\u001b[39m\u001b[39m\"\u001b[39m\u001b[39m.\u001b[39m\u001b[39m{\u001b[39;00mname\u001b[39m}\u001b[39;00m\u001b[39m\"\u001b[39m, \u001b[39m__name__\u001b[39m)\n\u001b[0;32m-> 1833\u001b[0m \u001b[39mraise\u001b[39;00m \u001b[39mAttributeError\u001b[39;00m(\u001b[39mf\u001b[39m\u001b[39m\"\u001b[39m\u001b[39mmodule \u001b[39m\u001b[39m'\u001b[39m\u001b[39m{\u001b[39;00m\u001b[39m__name__\u001b[39m\u001b[39m}\u001b[39;00m\u001b[39m'\u001b[39m\u001b[39m has no attribute \u001b[39m\u001b[39m'\u001b[39m\u001b[39m{\u001b[39;00mname\u001b[39m}\u001b[39;00m\u001b[39m'\u001b[39m\u001b[39m\"\u001b[39m)\n",
      "\u001b[0;31mAttributeError\u001b[0m: module 'torch' has no attribute 'nanvar'"
     ]
    }
   ],
   "source": [
    "torch.var(y.numpy(), axis=0)"
   ]
  },
  {
   "cell_type": "code",
   "execution_count": 346,
   "metadata": {},
   "outputs": [
    {
     "data": {
      "text/plain": [
       "torch.Size([365])"
      ]
     },
     "execution_count": 346,
     "metadata": {},
     "output_type": "execute_result"
    }
   ],
   "source": [
    "_nanvar(y).shape"
   ]
  },
  {
   "cell_type": "code",
   "execution_count": null,
   "metadata": {},
   "outputs": [],
   "source": []
  },
  {
   "cell_type": "code",
   "execution_count": null,
   "metadata": {},
   "outputs": [],
   "source": []
  },
  {
   "cell_type": "code",
   "execution_count": null,
   "metadata": {},
   "outputs": [],
   "source": [
    "# vidi gi posteriorite za root node i sporedi gi so priorite. Kolku se imaat pomesteno?\n",
    "# proveri deka predictive semplira od posteriorite a ne od nesto drugo\n",
    "# sporedba posterior na root node na vspyct so root nodovite na site drva od ensemble od originalen spyct"
   ]
  },
  {
   "cell_type": "code",
   "execution_count": 34,
   "metadata": {},
   "outputs": [
    {
     "ename": "AttributeError",
     "evalue": "'PyroLinear' object has no attribute 'posterior'",
     "output_type": "error",
     "traceback": [
      "\u001b[0;31m---------------------------------------------------------------------------\u001b[0m",
      "\u001b[0;31mAttributeError\u001b[0m                            Traceback (most recent call last)",
      "Cell \u001b[0;32mIn[34], line 1\u001b[0m\n\u001b[0;32m----> 1\u001b[0m model\u001b[39m.\u001b[39;49mroot_node\u001b[39m.\u001b[39;49msplit_model\u001b[39m.\u001b[39;49mposterior\n",
      "File \u001b[0;32m~/miniconda3/lib/python3.8/site-packages/pyro/nn/module.py:531\u001b[0m, in \u001b[0;36mPyroModule.__getattr__\u001b[0;34m(self, name)\u001b[0m\n\u001b[1;32m    528\u001b[0m                 prior \u001b[39m=\u001b[39m prior(\u001b[39mself\u001b[39m)\n\u001b[1;32m    529\u001b[0m             \u001b[39mreturn\u001b[39;00m prior()\n\u001b[0;32m--> 531\u001b[0m result \u001b[39m=\u001b[39m \u001b[39msuper\u001b[39;49m()\u001b[39m.\u001b[39;49m\u001b[39m__getattr__\u001b[39;49m(name)\n\u001b[1;32m    533\u001b[0m \u001b[39m# Regular nn.Parameters trigger pyro.param statements.\u001b[39;00m\n\u001b[1;32m    534\u001b[0m \u001b[39mif\u001b[39;00m \u001b[39misinstance\u001b[39m(result, torch\u001b[39m.\u001b[39mnn\u001b[39m.\u001b[39mParameter) \u001b[39mand\u001b[39;00m \u001b[39mnot\u001b[39;00m name\u001b[39m.\u001b[39mendswith(\n\u001b[1;32m    535\u001b[0m     \u001b[39m\"\u001b[39m\u001b[39m_unconstrained\u001b[39m\u001b[39m\"\u001b[39m\n\u001b[1;32m    536\u001b[0m ):\n",
      "File \u001b[0;32m~/miniconda3/lib/python3.8/site-packages/torch/nn/modules/module.py:1695\u001b[0m, in \u001b[0;36mModule.__getattr__\u001b[0;34m(self, name)\u001b[0m\n\u001b[1;32m   1693\u001b[0m     \u001b[39mif\u001b[39;00m name \u001b[39min\u001b[39;00m modules:\n\u001b[1;32m   1694\u001b[0m         \u001b[39mreturn\u001b[39;00m modules[name]\n\u001b[0;32m-> 1695\u001b[0m \u001b[39mraise\u001b[39;00m \u001b[39mAttributeError\u001b[39;00m(\u001b[39mf\u001b[39m\u001b[39m\"\u001b[39m\u001b[39m'\u001b[39m\u001b[39m{\u001b[39;00m\u001b[39mtype\u001b[39m(\u001b[39mself\u001b[39m)\u001b[39m.\u001b[39m\u001b[39m__name__\u001b[39m\u001b[39m}\u001b[39;00m\u001b[39m'\u001b[39m\u001b[39m object has no attribute \u001b[39m\u001b[39m'\u001b[39m\u001b[39m{\u001b[39;00mname\u001b[39m}\u001b[39;00m\u001b[39m'\u001b[39m\u001b[39m\"\u001b[39m)\n",
      "\u001b[0;31mAttributeError\u001b[0m: 'PyroLinear' object has no attribute 'posterior'"
     ]
    }
   ],
   "source": [
    "model.root_node.split_model."
   ]
  },
  {
   "cell_type": "code",
   "execution_count": 37,
   "metadata": {},
   "outputs": [
    {
     "ename": "TypeError",
     "evalue": "forward() missing 1 required positional argument: 'input'",
     "output_type": "error",
     "traceback": [
      "\u001b[0;31m---------------------------------------------------------------------------\u001b[0m",
      "\u001b[0;31mTypeError\u001b[0m                                 Traceback (most recent call last)",
      "Cell \u001b[0;32mIn[37], line 2\u001b[0m\n\u001b[1;32m      1\u001b[0m \u001b[39mimport\u001b[39;00m \u001b[39mpyro\u001b[39;00m\n\u001b[0;32m----> 2\u001b[0m trace \u001b[39m=\u001b[39m pyro\u001b[39m.\u001b[39;49mpoutine\u001b[39m.\u001b[39;49mtrace(model\u001b[39m.\u001b[39;49mroot_node\u001b[39m.\u001b[39;49msplit_model)\u001b[39m.\u001b[39;49mget_trace()\n",
      "File \u001b[0;32m~/miniconda3/lib/python3.8/site-packages/pyro/poutine/trace_messenger.py:198\u001b[0m, in \u001b[0;36mTraceHandler.get_trace\u001b[0;34m(self, *args, **kwargs)\u001b[0m\n\u001b[1;32m    190\u001b[0m \u001b[39mdef\u001b[39;00m \u001b[39mget_trace\u001b[39m(\u001b[39mself\u001b[39m, \u001b[39m*\u001b[39margs, \u001b[39m*\u001b[39m\u001b[39m*\u001b[39mkwargs):\n\u001b[1;32m    191\u001b[0m \u001b[39m    \u001b[39m\u001b[39m\"\"\"\u001b[39;00m\n\u001b[1;32m    192\u001b[0m \u001b[39m    :returns: data structure\u001b[39;00m\n\u001b[1;32m    193\u001b[0m \u001b[39m    :rtype: pyro.poutine.Trace\u001b[39;00m\n\u001b[0;32m   (...)\u001b[0m\n\u001b[1;32m    196\u001b[0m \u001b[39m    Calls this poutine and returns its trace instead of the function's return value.\u001b[39;00m\n\u001b[1;32m    197\u001b[0m \u001b[39m    \"\"\"\u001b[39;00m\n\u001b[0;32m--> 198\u001b[0m     \u001b[39mself\u001b[39;49m(\u001b[39m*\u001b[39;49margs, \u001b[39m*\u001b[39;49m\u001b[39m*\u001b[39;49mkwargs)\n\u001b[1;32m    199\u001b[0m     \u001b[39mreturn\u001b[39;00m \u001b[39mself\u001b[39m\u001b[39m.\u001b[39mmsngr\u001b[39m.\u001b[39mget_trace()\n",
      "File \u001b[0;32m~/miniconda3/lib/python3.8/site-packages/pyro/poutine/trace_messenger.py:174\u001b[0m, in \u001b[0;36mTraceHandler.__call__\u001b[0;34m(self, *args, **kwargs)\u001b[0m\n\u001b[1;32m    170\u001b[0m \u001b[39mself\u001b[39m\u001b[39m.\u001b[39mmsngr\u001b[39m.\u001b[39mtrace\u001b[39m.\u001b[39madd_node(\n\u001b[1;32m    171\u001b[0m     \u001b[39m\"\u001b[39m\u001b[39m_INPUT\u001b[39m\u001b[39m\"\u001b[39m, name\u001b[39m=\u001b[39m\u001b[39m\"\u001b[39m\u001b[39m_INPUT\u001b[39m\u001b[39m\"\u001b[39m, \u001b[39mtype\u001b[39m\u001b[39m=\u001b[39m\u001b[39m\"\u001b[39m\u001b[39margs\u001b[39m\u001b[39m\"\u001b[39m, args\u001b[39m=\u001b[39margs, kwargs\u001b[39m=\u001b[39mkwargs\n\u001b[1;32m    172\u001b[0m )\n\u001b[1;32m    173\u001b[0m \u001b[39mtry\u001b[39;00m:\n\u001b[0;32m--> 174\u001b[0m     ret \u001b[39m=\u001b[39m \u001b[39mself\u001b[39;49m\u001b[39m.\u001b[39;49mfn(\u001b[39m*\u001b[39;49margs, \u001b[39m*\u001b[39;49m\u001b[39m*\u001b[39;49mkwargs)\n\u001b[1;32m    175\u001b[0m \u001b[39mexcept\u001b[39;00m (\u001b[39mValueError\u001b[39;00m, \u001b[39mRuntimeError\u001b[39;00m) \u001b[39mas\u001b[39;00m e:\n\u001b[1;32m    176\u001b[0m     exc_type, exc_value, traceback \u001b[39m=\u001b[39m sys\u001b[39m.\u001b[39mexc_info()\n",
      "File \u001b[0;32m~/miniconda3/lib/python3.8/site-packages/pyro/nn/module.py:449\u001b[0m, in \u001b[0;36mPyroModule.__call__\u001b[0;34m(self, *args, **kwargs)\u001b[0m\n\u001b[1;32m    447\u001b[0m \u001b[39mdef\u001b[39;00m \u001b[39m__call__\u001b[39m(\u001b[39mself\u001b[39m, \u001b[39m*\u001b[39margs, \u001b[39m*\u001b[39m\u001b[39m*\u001b[39mkwargs):\n\u001b[1;32m    448\u001b[0m     \u001b[39mwith\u001b[39;00m \u001b[39mself\u001b[39m\u001b[39m.\u001b[39m_pyro_context:\n\u001b[0;32m--> 449\u001b[0m         result \u001b[39m=\u001b[39m \u001b[39msuper\u001b[39;49m()\u001b[39m.\u001b[39;49m\u001b[39m__call__\u001b[39;49m(\u001b[39m*\u001b[39;49margs, \u001b[39m*\u001b[39;49m\u001b[39m*\u001b[39;49mkwargs)\n\u001b[1;32m    450\u001b[0m     \u001b[39mif\u001b[39;00m (\n\u001b[1;32m    451\u001b[0m         pyro\u001b[39m.\u001b[39msettings\u001b[39m.\u001b[39mget(\u001b[39m\"\u001b[39m\u001b[39mvalidate_poutine\u001b[39m\u001b[39m\"\u001b[39m)\n\u001b[1;32m    452\u001b[0m         \u001b[39mand\u001b[39;00m \u001b[39mnot\u001b[39;00m \u001b[39mself\u001b[39m\u001b[39m.\u001b[39m_pyro_context\u001b[39m.\u001b[39mactive\n\u001b[1;32m    453\u001b[0m         \u001b[39mand\u001b[39;00m _is_module_local_param_enabled()\n\u001b[1;32m    454\u001b[0m     ):\n\u001b[1;32m    455\u001b[0m         \u001b[39mself\u001b[39m\u001b[39m.\u001b[39m_check_module_local_param_usage()\n",
      "File \u001b[0;32m~/miniconda3/lib/python3.8/site-packages/torch/nn/modules/module.py:1518\u001b[0m, in \u001b[0;36mModule._wrapped_call_impl\u001b[0;34m(self, *args, **kwargs)\u001b[0m\n\u001b[1;32m   1516\u001b[0m     \u001b[39mreturn\u001b[39;00m \u001b[39mself\u001b[39m\u001b[39m.\u001b[39m_compiled_call_impl(\u001b[39m*\u001b[39margs, \u001b[39m*\u001b[39m\u001b[39m*\u001b[39mkwargs)  \u001b[39m# type: ignore[misc]\u001b[39;00m\n\u001b[1;32m   1517\u001b[0m \u001b[39melse\u001b[39;00m:\n\u001b[0;32m-> 1518\u001b[0m     \u001b[39mreturn\u001b[39;00m \u001b[39mself\u001b[39;49m\u001b[39m.\u001b[39;49m_call_impl(\u001b[39m*\u001b[39;49margs, \u001b[39m*\u001b[39;49m\u001b[39m*\u001b[39;49mkwargs)\n",
      "File \u001b[0;32m~/miniconda3/lib/python3.8/site-packages/torch/nn/modules/module.py:1527\u001b[0m, in \u001b[0;36mModule._call_impl\u001b[0;34m(self, *args, **kwargs)\u001b[0m\n\u001b[1;32m   1522\u001b[0m \u001b[39m# If we don't have any hooks, we want to skip the rest of the logic in\u001b[39;00m\n\u001b[1;32m   1523\u001b[0m \u001b[39m# this function, and just call forward.\u001b[39;00m\n\u001b[1;32m   1524\u001b[0m \u001b[39mif\u001b[39;00m \u001b[39mnot\u001b[39;00m (\u001b[39mself\u001b[39m\u001b[39m.\u001b[39m_backward_hooks \u001b[39mor\u001b[39;00m \u001b[39mself\u001b[39m\u001b[39m.\u001b[39m_backward_pre_hooks \u001b[39mor\u001b[39;00m \u001b[39mself\u001b[39m\u001b[39m.\u001b[39m_forward_hooks \u001b[39mor\u001b[39;00m \u001b[39mself\u001b[39m\u001b[39m.\u001b[39m_forward_pre_hooks\n\u001b[1;32m   1525\u001b[0m         \u001b[39mor\u001b[39;00m _global_backward_pre_hooks \u001b[39mor\u001b[39;00m _global_backward_hooks\n\u001b[1;32m   1526\u001b[0m         \u001b[39mor\u001b[39;00m _global_forward_hooks \u001b[39mor\u001b[39;00m _global_forward_pre_hooks):\n\u001b[0;32m-> 1527\u001b[0m     \u001b[39mreturn\u001b[39;00m forward_call(\u001b[39m*\u001b[39;49margs, \u001b[39m*\u001b[39;49m\u001b[39m*\u001b[39;49mkwargs)\n\u001b[1;32m   1529\u001b[0m \u001b[39mtry\u001b[39;00m:\n\u001b[1;32m   1530\u001b[0m     result \u001b[39m=\u001b[39m \u001b[39mNone\u001b[39;00m\n",
      "\u001b[0;31mTypeError\u001b[0m: forward() missing 1 required positional argument: 'input'"
     ]
    }
   ],
   "source": [
    "import pyro\n",
    "trace = pyro.poutine.trace(model.root_node.split_model).get_trace()"
   ]
  },
  {
   "cell_type": "code",
   "execution_count": 50,
   "metadata": {},
   "outputs": [
    {
     "data": {
      "text/plain": [
       "PyroLinear(in_features=769, out_features=1, bias=True)"
      ]
     },
     "execution_count": 50,
     "metadata": {},
     "output_type": "execute_result"
    }
   ],
   "source": [
    "model.root_node.split_model"
   ]
  },
  {
   "cell_type": "code",
   "execution_count": 59,
   "metadata": {},
   "outputs": [],
   "source": [
    "import seaborn as sns\n",
    "from pyro.infer import Predictive\n",
    "\n",
    "num_samples = 1000\n",
    "\n",
    "predictive = Predictive(model = model.root_node.split_model, guide = model.root_node.guide, num_samples=num_samples)\n",
    "svi_samples = {k: v.detach().cpu().numpy()\n",
    "               for k, v in predictive(X_test).items()}\n",
    "\n",
    "# sites = ['fc1.weight', 'fc1.bias', 'fc2.weight', 'fc2.bias', 'fc4.weight', 'fc4.bias', 'sigma']\n",
    "\n",
    "# fig, axs = plt.subplots(nrows=4, ncols=2, figsize=(12, 10))\n",
    "# fig.suptitle(\"Marginal Posterior density - Regression Coefficients\", fontsize=16)\n",
    "# for i, ax in enumerate(axs.reshape(-1)):\n",
    "#     if i == 8:\n",
    "#         i = 7\n",
    "#     print(i)\n",
    "#     site = sites[i]\n",
    "#     sns.distplot(svi_samples[site], ax=ax, label=\"SVI (DiagNormal)\")\n",
    "#     ax.set_title(site)\n",
    "# handles, labels = ax.get_legend_handles_labels()\n",
    "# fig.legend(handles, labels, loc='upper right')"
   ]
  },
  {
   "cell_type": "code",
   "execution_count": 65,
   "metadata": {},
   "outputs": [],
   "source": [
    "predictive_prior = Predictive(model = model.root_node.split_model, guide = {}, num_samples=num_samples)\n",
    "svi_samples_prior = {k: v.detach().cpu().numpy()\n",
    "               for k, v in predictive(X_test).items()}"
   ]
  },
  {
   "cell_type": "code",
   "execution_count": 67,
   "metadata": {},
   "outputs": [
    {
     "name": "stderr",
     "output_type": "stream",
     "text": [
      "/var/folders/6s/30hzfwv55yqb02p59m4zk_b00000gn/T/ipykernel_44637/675484477.py:1: UserWarning: \n",
      "\n",
      "`distplot` is a deprecated function and will be removed in seaborn v0.14.0.\n",
      "\n",
      "Please adapt your code to use either `displot` (a figure-level function with\n",
      "similar flexibility) or `histplot` (an axes-level function for histograms).\n",
      "\n",
      "For a guide to updating your code to use the new functions, please see\n",
      "https://gist.github.com/mwaskom/de44147ed2974457ad6372750bbe5751\n",
      "\n",
      "  sns.distplot(svi_samples_prior['linear.weight'])\n",
      "/var/folders/6s/30hzfwv55yqb02p59m4zk_b00000gn/T/ipykernel_44637/675484477.py:2: UserWarning: \n",
      "\n",
      "`distplot` is a deprecated function and will be removed in seaborn v0.14.0.\n",
      "\n",
      "Please adapt your code to use either `displot` (a figure-level function with\n",
      "similar flexibility) or `histplot` (an axes-level function for histograms).\n",
      "\n",
      "For a guide to updating your code to use the new functions, please see\n",
      "https://gist.github.com/mwaskom/de44147ed2974457ad6372750bbe5751\n",
      "\n",
      "  sns.distplot(svi_samples_prior['linear.bias'])\n",
      "/var/folders/6s/30hzfwv55yqb02p59m4zk_b00000gn/T/ipykernel_44637/675484477.py:4: UserWarning: \n",
      "\n",
      "`distplot` is a deprecated function and will be removed in seaborn v0.14.0.\n",
      "\n",
      "Please adapt your code to use either `displot` (a figure-level function with\n",
      "similar flexibility) or `histplot` (an axes-level function for histograms).\n",
      "\n",
      "For a guide to updating your code to use the new functions, please see\n",
      "https://gist.github.com/mwaskom/de44147ed2974457ad6372750bbe5751\n",
      "\n",
      "  sns.distplot(svi_samples['linear.weight'])\n",
      "/var/folders/6s/30hzfwv55yqb02p59m4zk_b00000gn/T/ipykernel_44637/675484477.py:5: UserWarning: \n",
      "\n",
      "`distplot` is a deprecated function and will be removed in seaborn v0.14.0.\n",
      "\n",
      "Please adapt your code to use either `displot` (a figure-level function with\n",
      "similar flexibility) or `histplot` (an axes-level function for histograms).\n",
      "\n",
      "For a guide to updating your code to use the new functions, please see\n",
      "https://gist.github.com/mwaskom/de44147ed2974457ad6372750bbe5751\n",
      "\n",
      "  sns.distplot(svi_samples['linear.bias'])\n"
     ]
    },
    {
     "data": {
      "text/plain": [
       "<Axes: ylabel='Density'>"
      ]
     },
     "execution_count": 67,
     "metadata": {},
     "output_type": "execute_result"
    },
    {
     "data": {
      "image/png": "[encoded data removed]",
      "text/plain": [
       "<Figure size 640x480 with 1 Axes>"
      ]
     },
     "metadata": {},
     "output_type": "display_data"
    }
   ],
   "source": [
    "sns.distplot(svi_samples_prior['linear.weight'])\n",
    "sns.distplot(svi_samples_prior['linear.bias'])\n",
    "\n",
    "sns.distplot(svi_samples['linear.weight'])\n",
    "sns.distplot(svi_samples['linear.bias'])"
   ]
  },
  {
   "cell_type": "code",
   "execution_count": null,
   "metadata": {},
   "outputs": [],
   "source": []
  }
 ],
 "metadata": {
  "kernelspec": {
   "display_name": "base",
   "language": "python",
   "name": "python3"
  },
  "language_info": {
   "codemirror_mode": {
    "name": "ipython",
    "version": 3
   },
   "file_extension": ".py",
   "mimetype": "text/x-python",
   "name": "python",
   "nbconvert_exporter": "python",
   "pygments_lexer": "ipython3",
   "version": "3.8.17 | packaged by conda-forge | (default, Jun 16 2023, 07:11:32) \n[Clang 14.0.6 ]"
  },
  "orig_nbformat": 4,
  "vscode": {
   "interpreter": {
    "hash": "cc7277dfab6d5d4897e99b5cc736f9228836f1dda1604709a8d9bb8c8b4a4da5"
   }
  }
 },
 "nbformat": 4,
 "nbformat_minor": 2
}
