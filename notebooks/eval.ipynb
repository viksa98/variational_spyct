{
 "cells": [
  {
   "cell_type": "code",
   "execution_count": 1,
   "metadata": {},
   "outputs": [
    {
     "name": "stderr",
     "output_type": "stream",
     "text": [
      "/Users/viktorandonovic/miniconda3/lib/python3.8/site-packages/tqdm/auto.py:21: TqdmWarning: IProgress not found. Please update jupyter and ipywidgets. See https://ipywidgets.readthedocs.io/en/stable/user_install.html\n",
      "  from .autonotebook import tqdm as notebook_tqdm\n"
     ]
    }
   ],
   "source": [
    "import numpy as np\n",
    "import pandas as pd\n",
    "import torch\n",
    "import os\n",
    "import matplotlib.pyplot as plt\n",
    "import sys\n",
    "sys.path.append('..')\n",
    "from src.models.model import VSpyct\n",
    "from src.utils import (calculate_bs, fix_predictions, plot_brier)\n",
    "from src.data.dataset import SurvivalDataset"
   ]
  },
  {
   "cell_type": "code",
   "execution_count": 24,
   "metadata": {},
   "outputs": [
    {
     "name": "stdout",
     "output_type": "stream",
     "text": [
      "Succesfully created time tensor of shape: torch.Size([418, 4795])\n",
      "(334, 769) torch.Size([334, 4795])\n"
     ]
    }
   ],
   "source": [
    "data = SurvivalDataset(fname='pbc.rda', path='../data/raw/')\n",
    "X_train, X_test, y_train, y_test = data.get_tensors()"
   ]
  },
  {
   "cell_type": "code",
   "execution_count": 25,
   "metadata": {},
   "outputs": [
    {
     "name": "stdout",
     "output_type": "stream",
     "text": [
      "Impurity(\n",
      "  (linear): PyroLinear(in_features=769, out_features=1, bias=True)\n",
      ")\n"
     ]
    },
    {
     "name": "stderr",
     "output_type": "stream",
     "text": [
      "Epochs:   0%|          | 0/150 [00:00<?, ?it/s]"
     ]
    },
    {
     "name": "stdout",
     "output_type": "stream",
     "text": [
      "[iteration 0001] loss: 559655940505.6001\n"
     ]
    },
    {
     "name": "stderr",
     "output_type": "stream",
     "text": [
      "Epochs:   1%|▏         | 2/150 [00:00<00:10, 14.09it/s]"
     ]
    },
    {
     "name": "stdout",
     "output_type": "stream",
     "text": [
      "[iteration 0002] loss: 514152810905.6000\n"
     ]
    },
    {
     "name": "stderr",
     "output_type": "stream",
     "text": [
      "Epochs:   3%|▎         | 4/150 [00:00<00:09, 15.28it/s]"
     ]
    },
    {
     "name": "stdout",
     "output_type": "stream",
     "text": [
      "[iteration 0003] loss: 481029317017.6000\n",
      "[iteration 0004] loss: 432263655219.2000\n",
      "[iteration 0005] loss: 404794852352.0000\n"
     ]
    },
    {
     "name": "stderr",
     "output_type": "stream",
     "text": [
      "Epochs:   4%|▍         | 6/150 [00:00<00:09, 15.66it/s]"
     ]
    },
    {
     "name": "stdout",
     "output_type": "stream",
     "text": [
      "[iteration 0006] loss: 367298138112.0000\n"
     ]
    },
    {
     "name": "stderr",
     "output_type": "stream",
     "text": [
      "Epochs:   5%|▌         | 8/150 [00:00<00:08, 15.99it/s]"
     ]
    },
    {
     "name": "stdout",
     "output_type": "stream",
     "text": [
      "[iteration 0007] loss: 329963426304.0000\n",
      "[iteration 0008] loss: 309151202508.8000\n",
      "[iteration 0009] loss: 288007954431.9999\n"
     ]
    },
    {
     "name": "stderr",
     "output_type": "stream",
     "text": [
      "Epochs:   7%|▋         | 10/150 [00:00<00:08, 15.99it/s]"
     ]
    },
    {
     "name": "stdout",
     "output_type": "stream",
     "text": [
      "[iteration 0010] loss: 254345424998.4000\n"
     ]
    },
    {
     "name": "stderr",
     "output_type": "stream",
     "text": [
      "Epochs:   8%|▊         | 12/150 [00:00<00:08, 16.04it/s]"
     ]
    },
    {
     "name": "stdout",
     "output_type": "stream",
     "text": [
      "[iteration 0011] loss: 234992584089.6000\n",
      "[iteration 0012] loss: 219886035507.2000\n",
      "[iteration 0013] loss: 198048763596.8000\n"
     ]
    },
    {
     "name": "stderr",
     "output_type": "stream",
     "text": [
      "Epochs:   9%|▉         | 14/150 [00:00<00:08, 16.14it/s]"
     ]
    },
    {
     "name": "stdout",
     "output_type": "stream",
     "text": [
      "[iteration 0014] loss: 183066643968.0000\n"
     ]
    },
    {
     "name": "stderr",
     "output_type": "stream",
     "text": [
      "Epochs:  11%|█         | 16/150 [00:01<00:08, 16.34it/s]"
     ]
    },
    {
     "name": "stdout",
     "output_type": "stream",
     "text": [
      "[iteration 0015] loss: 171354081817.6000\n",
      "[iteration 0016] loss: 161404618905.6000\n",
      "[iteration 0017] loss: 150602963737.6000\n"
     ]
    },
    {
     "name": "stderr",
     "output_type": "stream",
     "text": [
      "Epochs:  12%|█▏        | 18/150 [00:01<00:08, 16.44it/s]"
     ]
    },
    {
     "name": "stdout",
     "output_type": "stream",
     "text": [
      "[iteration 0018] loss: 135656154380.8000\n"
     ]
    },
    {
     "name": "stderr",
     "output_type": "stream",
     "text": [
      "Epochs:  13%|█▎        | 20/150 [00:01<00:07, 16.55it/s]"
     ]
    },
    {
     "name": "stdout",
     "output_type": "stream",
     "text": [
      "[iteration 0019] loss: 126685476544.0000\n",
      "[iteration 0020] loss: 115865756915.2000\n",
      "[iteration 0021] loss: 110213558420.4875\n"
     ]
    },
    {
     "name": "stderr",
     "output_type": "stream",
     "text": [
      "Epochs:  15%|█▍        | 22/150 [00:01<00:07, 16.56it/s]"
     ]
    },
    {
     "name": "stdout",
     "output_type": "stream",
     "text": [
      "[iteration 0022] loss: 102199467329.5000\n"
     ]
    },
    {
     "name": "stderr",
     "output_type": "stream",
     "text": [
      "Epochs:  16%|█▌        | 24/150 [00:01<00:07, 16.65it/s]"
     ]
    },
    {
     "name": "stdout",
     "output_type": "stream",
     "text": [
      "[iteration 0023] loss: 95080594618.6875\n",
      "[iteration 0024] loss: 95175956693.2000\n",
      "[iteration 0025] loss: 86863313438.6000\n"
     ]
    },
    {
     "name": "stderr",
     "output_type": "stream",
     "text": [
      "Epochs:  17%|█▋        | 26/150 [00:01<00:07, 16.65it/s]"
     ]
    },
    {
     "name": "stdout",
     "output_type": "stream",
     "text": [
      "[iteration 0026] loss: 83835962967.5125\n"
     ]
    },
    {
     "name": "stderr",
     "output_type": "stream",
     "text": [
      "Epochs:  19%|█▊        | 28/150 [00:01<00:07, 16.73it/s]"
     ]
    },
    {
     "name": "stdout",
     "output_type": "stream",
     "text": [
      "[iteration 0027] loss: 77555830958.2828\n",
      "[iteration 0028] loss: 73608741559.6000\n",
      "[iteration 0029] loss: 71153142280.9000\n"
     ]
    },
    {
     "name": "stderr",
     "output_type": "stream",
     "text": [
      "Epochs:  20%|██        | 30/150 [00:01<00:07, 16.74it/s]"
     ]
    },
    {
     "name": "stdout",
     "output_type": "stream",
     "text": [
      "[iteration 0030] loss: 67917362892.8438\n"
     ]
    },
    {
     "name": "stderr",
     "output_type": "stream",
     "text": [
      "Epochs:  21%|██▏       | 32/150 [00:01<00:07, 16.73it/s]"
     ]
    },
    {
     "name": "stdout",
     "output_type": "stream",
     "text": [
      "[iteration 0031] loss: 64528735300.9836\n",
      "[iteration 0032] loss: 63389862059.3094\n",
      "[iteration 0033] loss: 63210783434.0000\n"
     ]
    },
    {
     "name": "stderr",
     "output_type": "stream",
     "text": [
      "Epochs:  23%|██▎       | 34/150 [00:02<00:06, 16.73it/s]"
     ]
    },
    {
     "name": "stdout",
     "output_type": "stream",
     "text": [
      "[iteration 0034] loss: 59211093495.1375\n"
     ]
    },
    {
     "name": "stderr",
     "output_type": "stream",
     "text": [
      "Epochs:  24%|██▍       | 36/150 [00:02<00:06, 16.78it/s]"
     ]
    },
    {
     "name": "stdout",
     "output_type": "stream",
     "text": [
      "[iteration 0035] loss: 59367318539.1678\n",
      "[iteration 0036] loss: 56477566067.9000\n",
      "[iteration 0037] loss: 55745454323.7438\n"
     ]
    },
    {
     "name": "stderr",
     "output_type": "stream",
     "text": [
      "Epochs:  25%|██▌       | 38/150 [00:02<00:06, 16.79it/s]"
     ]
    },
    {
     "name": "stdout",
     "output_type": "stream",
     "text": [
      "[iteration 0038] loss: 53894185734.3500\n"
     ]
    },
    {
     "name": "stderr",
     "output_type": "stream",
     "text": [
      "Epochs:  27%|██▋       | 40/150 [00:02<00:06, 16.82it/s]"
     ]
    },
    {
     "name": "stdout",
     "output_type": "stream",
     "text": [
      "[iteration 0039] loss: 53060955599.4953\n",
      "[iteration 0040] loss: 51694075567.0000\n",
      "[iteration 0041] loss: 49720369536.9313\n"
     ]
    },
    {
     "name": "stderr",
     "output_type": "stream",
     "text": [
      "Epochs:  28%|██▊       | 42/150 [00:02<00:06, 16.79it/s]"
     ]
    },
    {
     "name": "stdout",
     "output_type": "stream",
     "text": [
      "[iteration 0042] loss: 51234172378.2250\n"
     ]
    },
    {
     "name": "stderr",
     "output_type": "stream",
     "text": [
      "Epochs:  29%|██▉       | 44/150 [00:02<00:06, 16.85it/s]"
     ]
    },
    {
     "name": "stdout",
     "output_type": "stream",
     "text": [
      "[iteration 0043] loss: 50994459997.7297\n",
      "[iteration 0044] loss: 47554600460.4115\n",
      "[iteration 0045] loss: 50886808061.4500\n"
     ]
    },
    {
     "name": "stderr",
     "output_type": "stream",
     "text": [
      "Epochs:  31%|███       | 46/150 [00:02<00:06, 16.81it/s]"
     ]
    },
    {
     "name": "stdout",
     "output_type": "stream",
     "text": [
      "[iteration 0046] loss: 50295178659.3149\n"
     ]
    },
    {
     "name": "stderr",
     "output_type": "stream",
     "text": [
      "Epochs:  31%|███       | 46/150 [00:02<00:06, 16.14it/s]\n"
     ]
    },
    {
     "name": "stdout",
     "output_type": "stream",
     "text": [
      "Early stopping at epoch 46.\n",
      "Impurity(\n",
      "  (linear): PyroLinear(in_features=769, out_features=1, bias=True)\n",
      ")\n",
      "Impurity(\n",
      "  (linear): PyroLinear(in_features=769, out_features=1, bias=True)\n",
      ")\n"
     ]
    },
    {
     "name": "stderr",
     "output_type": "stream",
     "text": [
      "Epochs:   0%|          | 0/150 [00:00<?, ?it/s]"
     ]
    },
    {
     "name": "stdout",
     "output_type": "stream",
     "text": [
      "[iteration 0001] loss: 213190543564.8000\n",
      "[iteration 0002] loss: 212299524505.6000\n"
     ]
    },
    {
     "name": "stderr",
     "output_type": "stream",
     "text": [
      "Epochs:   3%|▎         | 4/150 [00:00<00:04, 33.53it/s]"
     ]
    },
    {
     "name": "stdout",
     "output_type": "stream",
     "text": [
      "[iteration 0003] loss: 201326383308.8000\n",
      "[iteration 0004] loss: 191631853465.6000\n",
      "[iteration 0005] loss: 185703650201.6000\n",
      "[iteration 0006] loss: 184222472601.6000\n",
      "[iteration 0007] loss: 168991661363.2000\n",
      "[iteration 0008] loss: 163102171955.2000\n"
     ]
    },
    {
     "name": "stderr",
     "output_type": "stream",
     "text": [
      "Epochs:   5%|▌         | 8/150 [00:00<00:04, 34.23it/s]"
     ]
    },
    {
     "name": "stdout",
     "output_type": "stream",
     "text": [
      "[iteration 0009] loss: 160838712422.4000\n",
      "[iteration 0010] loss: 149517614899.2000\n",
      "[iteration 0011] loss: 145880221388.8000\n",
      "[iteration 0012] loss: 142810948198.4000\n"
     ]
    },
    {
     "name": "stderr",
     "output_type": "stream",
     "text": [
      "Epochs:   8%|▊         | 12/150 [00:00<00:04, 34.50it/s]"
     ]
    },
    {
     "name": "stdout",
     "output_type": "stream",
     "text": [
      "[iteration 0013] loss: 139337703731.2000\n"
     ]
    },
    {
     "name": "stderr",
     "output_type": "stream",
     "text": [
      "Epochs:  11%|█         | 16/150 [00:00<00:03, 34.60it/s]"
     ]
    },
    {
     "name": "stdout",
     "output_type": "stream",
     "text": [
      "[iteration 0014] loss: 121186374656.0000\n",
      "[iteration 0015] loss: 126404280524.8000\n",
      "[iteration 0016] loss: 121599584768.0000\n",
      "[iteration 0017] loss: 111314187673.6000\n"
     ]
    },
    {
     "name": "stderr",
     "output_type": "stream",
     "text": [
      "Epochs:  13%|█▎        | 20/150 [00:00<00:03, 34.75it/s]"
     ]
    },
    {
     "name": "stdout",
     "output_type": "stream",
     "text": [
      "[iteration 0018] loss: 113401968230.4000\n",
      "[iteration 0019] loss: 104936153497.6000\n",
      "[iteration 0020] loss: 99478521344.0000\n",
      "[iteration 0021] loss: 100555817472.0000\n"
     ]
    },
    {
     "name": "stderr",
     "output_type": "stream",
     "text": [
      "Epochs:  16%|█▌        | 24/150 [00:00<00:03, 34.85it/s]"
     ]
    },
    {
     "name": "stdout",
     "output_type": "stream",
     "text": [
      "[iteration 0022] loss: 93468730675.2000\n",
      "[iteration 0023] loss: 92518703513.6000\n",
      "[iteration 0024] loss: 85858226176.0000\n",
      "[iteration 0025] loss: 82483170201.6000\n"
     ]
    },
    {
     "name": "stderr",
     "output_type": "stream",
     "text": [
      "Epochs:  19%|█▊        | 28/150 [00:00<00:03, 34.79it/s]"
     ]
    },
    {
     "name": "stdout",
     "output_type": "stream",
     "text": [
      "[iteration 0026] loss: 81053101875.2000\n",
      "[iteration 0027] loss: 77323198361.6000\n",
      "[iteration 0028] loss: 77716211814.4000\n",
      "[iteration 0029] loss: 75479696793.6000\n"
     ]
    },
    {
     "name": "stderr",
     "output_type": "stream",
     "text": [
      "Epochs:  21%|██▏       | 32/150 [00:00<00:03, 34.84it/s]"
     ]
    },
    {
     "name": "stdout",
     "output_type": "stream",
     "text": [
      "[iteration 0030] loss: 68603032883.2000\n",
      "[iteration 0031] loss: 66802039500.8000\n",
      "[iteration 0032] loss: 60757905612.8000\n",
      "[iteration 0033] loss: 58935137177.6000\n"
     ]
    },
    {
     "name": "stderr",
     "output_type": "stream",
     "text": [
      "Epochs:  24%|██▍       | 36/150 [00:01<00:03, 34.84it/s]"
     ]
    },
    {
     "name": "stdout",
     "output_type": "stream",
     "text": [
      "[iteration 0034] loss: 58976246988.8000\n",
      "[iteration 0035] loss: 52304629657.6000\n",
      "[iteration 0036] loss: 51609791948.8000\n",
      "[iteration 0037] loss: 50806500300.8000\n"
     ]
    },
    {
     "name": "stderr",
     "output_type": "stream",
     "text": [
      "Epochs:  27%|██▋       | 40/150 [00:01<00:03, 34.89it/s]"
     ]
    },
    {
     "name": "stdout",
     "output_type": "stream",
     "text": [
      "[iteration 0038] loss: 49900720230.4000\n",
      "[iteration 0039] loss: 46616485990.4000\n",
      "[iteration 0040] loss: 47012090624.0000\n",
      "[iteration 0041] loss: 45210664601.6000\n"
     ]
    },
    {
     "name": "stderr",
     "output_type": "stream",
     "text": [
      "Epochs:  29%|██▉       | 44/150 [00:01<00:03, 34.89it/s]"
     ]
    },
    {
     "name": "stdout",
     "output_type": "stream",
     "text": [
      "[iteration 0042] loss: 43101875097.6000\n",
      "[iteration 0043] loss: 39889114419.2000\n",
      "[iteration 0044] loss: 40664119244.8000\n",
      "[iteration 0045] loss: 36230943974.4000\n"
     ]
    },
    {
     "name": "stderr",
     "output_type": "stream",
     "text": [
      "Epochs:  32%|███▏      | 48/150 [00:01<00:02, 34.94it/s]"
     ]
    },
    {
     "name": "stdout",
     "output_type": "stream",
     "text": [
      "[iteration 0046] loss: 34617128473.6000\n",
      "[iteration 0047] loss: 34708105139.2000\n",
      "[iteration 0048] loss: 33102683545.6000\n",
      "[iteration 0049] loss: 33107211852.8000\n",
      "[iteration 0050] loss: 31063244083.2000\n",
      "[iteration 0051] loss: 29893324953.6000\n",
      "[iteration 0052] loss: 29135650630.4000\n"
     ]
    },
    {
     "name": "stderr",
     "output_type": "stream",
     "text": [
      "Epochs:  35%|███▍      | 52/150 [00:01<00:02, 34.78it/s]"
     ]
    },
    {
     "name": "stdout",
     "output_type": "stream",
     "text": [
      "[iteration 0053] loss: 30001527372.8000\n",
      "[iteration 0054] loss: 27567767987.2000\n",
      "[iteration 0055] loss: 26927612000.0000\n"
     ]
    },
    {
     "name": "stderr",
     "output_type": "stream",
     "text": [
      "Epochs:  37%|███▋      | 56/150 [00:01<00:02, 34.70it/s]"
     ]
    },
    {
     "name": "stdout",
     "output_type": "stream",
     "text": [
      "[iteration 0056] loss: 25489819929.6000\n"
     ]
    },
    {
     "name": "stderr",
     "output_type": "stream",
     "text": [
      "Epochs:  40%|████      | 60/150 [00:01<00:02, 34.63it/s]"
     ]
    },
    {
     "name": "stdout",
     "output_type": "stream",
     "text": [
      "[iteration 0057] loss: 24337401382.4000\n",
      "[iteration 0058] loss: 25025113606.4000\n",
      "[iteration 0059] loss: 23932307692.8000\n",
      "[iteration 0060] loss: 23307283564.8000\n",
      "[iteration 0061] loss: 22651127532.8000\n",
      "[iteration 0062] loss: 21554314464.0000\n",
      "[iteration 0063] loss: 21517280819.2000\n"
     ]
    },
    {
     "name": "stderr",
     "output_type": "stream",
     "text": [
      "Epochs:  45%|████▌     | 68/150 [00:01<00:02, 34.66it/s]"
     ]
    },
    {
     "name": "stdout",
     "output_type": "stream",
     "text": [
      "[iteration 0064] loss: 21226839206.4000\n",
      "[iteration 0065] loss: 19291281870.4000\n",
      "[iteration 0066] loss: 18869534704.0000\n",
      "[iteration 0067] loss: 17857772640.0000\n",
      "[iteration 0068] loss: 18083019053.0000\n",
      "[iteration 0069] loss: 17871173529.2000\n",
      "[iteration 0070] loss: 15678153613.6000\n",
      "[iteration 0071] loss: 16819703291.6000\n"
     ]
    },
    {
     "name": "stderr",
     "output_type": "stream",
     "text": [
      "Epochs:  48%|████▊     | 72/150 [00:02<00:02, 34.19it/s]\n"
     ]
    },
    {
     "name": "stdout",
     "output_type": "stream",
     "text": [
      "[iteration 0072] loss: 15737378309.2000\n",
      "Early stopping at epoch 72.\n",
      "Impurity(\n",
      "  (linear): PyroLinear(in_features=769, out_features=1, bias=True)\n",
      ")\n",
      "Impurity(\n",
      "  (linear): PyroLinear(in_features=769, out_features=1, bias=True)\n",
      ")\n"
     ]
    },
    {
     "name": "stderr",
     "output_type": "stream",
     "text": [
      "Epochs:   0%|          | 0/150 [00:00<?, ?it/s]"
     ]
    },
    {
     "name": "stdout",
     "output_type": "stream",
     "text": [
      "[iteration 0001] loss: 223550698700.8000\n",
      "[iteration 0002] loss: 218669371596.8000\n",
      "[iteration 0003] loss: 207773090611.2000\n",
      "[iteration 0004] loss: 213457650073.6000\n"
     ]
    },
    {
     "name": "stderr",
     "output_type": "stream",
     "text": [
      "Epochs:   3%|▎         | 5/150 [00:00<00:03, 44.56it/s]\n"
     ]
    },
    {
     "name": "stdout",
     "output_type": "stream",
     "text": [
      "[iteration 0005] loss: 210259384524.8000\n",
      "Early stopping at epoch 5.\n",
      "Impurity(\n",
      "  (linear): PyroLinear(in_features=769, out_features=1, bias=True)\n",
      ")\n",
      "Impurity(\n",
      "  (linear): PyroLinear(in_features=769, out_features=1, bias=True)\n",
      ")\n"
     ]
    },
    {
     "name": "stderr",
     "output_type": "stream",
     "text": [
      "Epochs:   0%|          | 0/150 [00:00<?, ?it/s]"
     ]
    },
    {
     "name": "stdout",
     "output_type": "stream",
     "text": [
      "[iteration 0001] loss: 19222824448.0000\n",
      "[iteration 0002] loss: 17179687628.8000\n",
      "[iteration 0003] loss: 14672329420.8000\n",
      "[iteration 0004] loss: 15847473664.0000\n"
     ]
    },
    {
     "name": "stderr",
     "output_type": "stream",
     "text": [
      "Epochs:   7%|▋         | 10/150 [00:00<00:01, 96.85it/s]"
     ]
    },
    {
     "name": "stdout",
     "output_type": "stream",
     "text": [
      "[iteration 0005] loss: 14843804467.2000\n",
      "[iteration 0006] loss: 14262117068.8000\n",
      "[iteration 0007] loss: 14556045926.4000\n",
      "[iteration 0008] loss: 14633042227.2000\n",
      "[iteration 0009] loss: 11625677670.4000\n",
      "[iteration 0010] loss: 12878479513.6000\n",
      "[iteration 0011] loss: 11363158835.2000\n",
      "[iteration 0012] loss: 11769643008.0000\n",
      "[iteration 0013] loss: 11259049523.2000\n",
      "[iteration 0014] loss: 9972098150.4000\n",
      "[iteration 0015] loss: 10455952896.0000\n",
      "[iteration 0016] loss: 9619559680.0000\n",
      "[iteration 0017] loss: 10151043328.0000\n"
     ]
    },
    {
     "name": "stderr",
     "output_type": "stream",
     "text": [
      "Epochs:  14%|█▍        | 21/150 [00:00<00:01, 99.37it/s]"
     ]
    },
    {
     "name": "stdout",
     "output_type": "stream",
     "text": [
      "[iteration 0018] loss: 8042775091.2000\n",
      "[iteration 0019] loss: 6975824435.2000\n",
      "[iteration 0020] loss: 9483725312.0000\n",
      "[iteration 0021] loss: 6788569395.2000\n",
      "[iteration 0022] loss: 7839465420.8000\n",
      "[iteration 0023] loss: 6765097420.8000\n",
      "[iteration 0024] loss: 7817239808.0000\n",
      "[iteration 0025] loss: 7157940019.2000\n"
     ]
    },
    {
     "name": "stderr",
     "output_type": "stream",
     "text": [
      "Epochs:  17%|█▋        | 25/150 [00:00<00:01, 94.71it/s]\n"
     ]
    },
    {
     "name": "stdout",
     "output_type": "stream",
     "text": [
      "Early stopping at epoch 25.\n",
      "Impurity(\n",
      "  (linear): PyroLinear(in_features=769, out_features=1, bias=True)\n",
      ")\n",
      "Impurity(\n",
      "  (linear): PyroLinear(in_features=769, out_features=1, bias=True)\n",
      ")\n"
     ]
    },
    {
     "name": "stderr",
     "output_type": "stream",
     "text": [
      "Epochs:   0%|          | 0/150 [00:00<?, ?it/s]"
     ]
    },
    {
     "name": "stdout",
     "output_type": "stream",
     "text": [
      "[iteration 0001] loss: 276090535731.2000\n",
      "[iteration 0002] loss: 256991272960.0000\n"
     ]
    },
    {
     "name": "stderr",
     "output_type": "stream",
     "text": [
      "Epochs:   2%|▏         | 3/150 [00:00<00:05, 24.97it/s]"
     ]
    },
    {
     "name": "stdout",
     "output_type": "stream",
     "text": [
      "[iteration 0003] loss: 243819143782.4000\n",
      "[iteration 0004] loss: 233784668160.0000\n"
     ]
    },
    {
     "name": "stderr",
     "output_type": "stream",
     "text": [
      "Epochs:   4%|▍         | 6/150 [00:00<00:05, 25.19it/s]"
     ]
    },
    {
     "name": "stdout",
     "output_type": "stream",
     "text": [
      "[iteration 0005] loss: 219578949836.8000\n",
      "[iteration 0006] loss: 208481825587.2000\n",
      "[iteration 0007] loss: 193781403443.2000\n",
      "[iteration 0008] loss: 180700733440.0000\n"
     ]
    },
    {
     "name": "stderr",
     "output_type": "stream",
     "text": [
      "Epochs:   6%|▌         | 9/150 [00:00<00:05, 25.20it/s]"
     ]
    },
    {
     "name": "stdout",
     "output_type": "stream",
     "text": [
      "[iteration 0009] loss: 173001199104.0000\n",
      "[iteration 0010] loss: 163860176332.8000\n"
     ]
    },
    {
     "name": "stderr",
     "output_type": "stream",
     "text": [
      "Epochs:   8%|▊         | 12/150 [00:00<00:05, 25.33it/s]"
     ]
    },
    {
     "name": "stdout",
     "output_type": "stream",
     "text": [
      "[iteration 0011] loss: 151211076403.2000\n",
      "[iteration 0012] loss: 143959668531.2000\n",
      "[iteration 0013] loss: 135392891136.0000\n",
      "[iteration 0014] loss: 131117612160.0000\n"
     ]
    },
    {
     "name": "stderr",
     "output_type": "stream",
     "text": [
      "Epochs:  10%|█         | 15/150 [00:00<00:05, 25.38it/s]"
     ]
    },
    {
     "name": "stdout",
     "output_type": "stream",
     "text": [
      "[iteration 0015] loss: 123336240000.0000\n",
      "[iteration 0016] loss: 114450193836.8000\n"
     ]
    },
    {
     "name": "stderr",
     "output_type": "stream",
     "text": [
      "Epochs:  12%|█▏        | 18/150 [00:00<00:05, 25.40it/s]"
     ]
    },
    {
     "name": "stdout",
     "output_type": "stream",
     "text": [
      "[iteration 0017] loss: 111047903257.6000\n",
      "[iteration 0018] loss: 106640329254.4000\n",
      "[iteration 0019] loss: 99108732736.0000\n",
      "[iteration 0020] loss: 97132986912.0000\n"
     ]
    },
    {
     "name": "stderr",
     "output_type": "stream",
     "text": [
      "Epochs:  14%|█▍        | 21/150 [00:00<00:05, 25.40it/s]"
     ]
    },
    {
     "name": "stdout",
     "output_type": "stream",
     "text": [
      "[iteration 0021] loss: 88744516070.4000\n",
      "[iteration 0022] loss: 87015547222.4000\n"
     ]
    },
    {
     "name": "stderr",
     "output_type": "stream",
     "text": [
      "Epochs:  16%|█▌        | 24/150 [00:00<00:04, 25.43it/s]"
     ]
    },
    {
     "name": "stdout",
     "output_type": "stream",
     "text": [
      "[iteration 0023] loss: 83784102371.2000\n",
      "[iteration 0024] loss: 81296372789.2176\n",
      "[iteration 0025] loss: 77918940018.2500\n",
      "[iteration 0026] loss: 73391458578.1000\n"
     ]
    },
    {
     "name": "stderr",
     "output_type": "stream",
     "text": [
      "Epochs:  18%|█▊        | 27/150 [00:01<00:04, 25.40it/s]"
     ]
    },
    {
     "name": "stdout",
     "output_type": "stream",
     "text": [
      "[iteration 0027] loss: 72322505653.1000\n",
      "[iteration 0028] loss: 67702121248.8125\n"
     ]
    },
    {
     "name": "stderr",
     "output_type": "stream",
     "text": [
      "Epochs:  20%|██        | 30/150 [00:01<00:04, 25.45it/s]"
     ]
    },
    {
     "name": "stdout",
     "output_type": "stream",
     "text": [
      "[iteration 0029] loss: 66299137302.2000\n",
      "[iteration 0030] loss: 66025977650.0981\n",
      "[iteration 0031] loss: 60455769297.6144\n",
      "[iteration 0032] loss: 62179292724.1875\n"
     ]
    },
    {
     "name": "stderr",
     "output_type": "stream",
     "text": [
      "Epochs:  22%|██▏       | 33/150 [00:01<00:04, 25.37it/s]"
     ]
    },
    {
     "name": "stdout",
     "output_type": "stream",
     "text": [
      "[iteration 0033] loss: 58160340854.6000\n",
      "[iteration 0034] loss: 58270021050.4000\n"
     ]
    },
    {
     "name": "stderr",
     "output_type": "stream",
     "text": [
      "Epochs:  24%|██▍       | 36/150 [00:01<00:04, 25.39it/s]"
     ]
    },
    {
     "name": "stdout",
     "output_type": "stream",
     "text": [
      "[iteration 0035] loss: 56886256575.8000\n",
      "[iteration 0036] loss: 55124166163.9000\n",
      "[iteration 0037] loss: 54255719498.2000\n",
      "[iteration 0038] loss: 52991807930.6922\n"
     ]
    },
    {
     "name": "stderr",
     "output_type": "stream",
     "text": [
      "Epochs:  26%|██▌       | 39/150 [00:01<00:04, 25.32it/s]"
     ]
    },
    {
     "name": "stdout",
     "output_type": "stream",
     "text": [
      "[iteration 0039] loss: 52078148081.0000\n",
      "[iteration 0040] loss: 51334478794.1812\n"
     ]
    },
    {
     "name": "stderr",
     "output_type": "stream",
     "text": [
      "Epochs:  28%|██▊       | 42/150 [00:01<00:04, 25.42it/s]"
     ]
    },
    {
     "name": "stdout",
     "output_type": "stream",
     "text": [
      "[iteration 0041] loss: 50402194257.9333\n",
      "[iteration 0042] loss: 50555669871.0867\n",
      "[iteration 0043] loss: 48857297896.2125\n",
      "[iteration 0044] loss: 47505685048.5152\n"
     ]
    },
    {
     "name": "stderr",
     "output_type": "stream",
     "text": [
      "Epochs:  30%|███       | 45/150 [00:01<00:04, 25.41it/s]"
     ]
    },
    {
     "name": "stdout",
     "output_type": "stream",
     "text": [
      "[iteration 0045] loss: 48170032552.8406\n",
      "[iteration 0046] loss: 46718075031.0481\n"
     ]
    },
    {
     "name": "stderr",
     "output_type": "stream",
     "text": [
      "Epochs:  32%|███▏      | 48/150 [00:01<00:04, 25.45it/s]"
     ]
    },
    {
     "name": "stdout",
     "output_type": "stream",
     "text": [
      "[iteration 0047] loss: 45973978320.5500\n",
      "[iteration 0048] loss: 44906083925.3820\n",
      "[iteration 0049] loss: 44412151162.0219\n",
      "[iteration 0050] loss: 45220168033.6000\n"
     ]
    },
    {
     "name": "stderr",
     "output_type": "stream",
     "text": [
      "Epochs:  34%|███▍      | 51/150 [00:02<00:03, 25.37it/s]"
     ]
    },
    {
     "name": "stdout",
     "output_type": "stream",
     "text": [
      "[iteration 0051] loss: 45570042803.1469\n"
     ]
    },
    {
     "name": "stderr",
     "output_type": "stream",
     "text": [
      "Epochs:  34%|███▍      | 51/150 [00:02<00:03, 24.87it/s]"
     ]
    },
    {
     "name": "stdout",
     "output_type": "stream",
     "text": [
      "Early stopping at epoch 51.\n",
      "Impurity(\n",
      "  (linear): PyroLinear(in_features=769, out_features=1, bias=True)\n",
      ")\n"
     ]
    },
    {
     "name": "stderr",
     "output_type": "stream",
     "text": [
      "\n"
     ]
    },
    {
     "name": "stdout",
     "output_type": "stream",
     "text": [
      "Impurity(\n",
      "  (linear): PyroLinear(in_features=769, out_features=1, bias=True)\n",
      ")\n"
     ]
    },
    {
     "name": "stderr",
     "output_type": "stream",
     "text": [
      "Epochs:   0%|          | 0/150 [00:00<?, ?it/s]"
     ]
    },
    {
     "name": "stdout",
     "output_type": "stream",
     "text": [
      "[iteration 0001] loss: 135116740198.4000\n",
      "[iteration 0002] loss: 131838198579.2000\n",
      "[iteration 0003] loss: 130507587584.0000\n",
      "[iteration 0004] loss: 132409045811.2000\n",
      "[iteration 0005] loss: 130553428377.6000\n",
      "[iteration 0006] loss: 127348500889.6000\n",
      "[iteration 0007] loss: 126930242764.8000\n"
     ]
    },
    {
     "name": "stderr",
     "output_type": "stream",
     "text": [
      "Epochs:   7%|▋         | 11/150 [00:00<00:01, 101.89it/s]"
     ]
    },
    {
     "name": "stdout",
     "output_type": "stream",
     "text": [
      "[iteration 0008] loss: 129182678220.8000\n",
      "[iteration 0009] loss: 124823998464.0000\n",
      "[iteration 0010] loss: 121434184089.6000\n",
      "[iteration 0011] loss: 124057654886.4000\n"
     ]
    },
    {
     "name": "stderr",
     "output_type": "stream",
     "text": [
      "Epochs:   8%|▊         | 12/150 [00:00<00:01, 91.91it/s] \n"
     ]
    },
    {
     "name": "stdout",
     "output_type": "stream",
     "text": [
      "[iteration 0012] loss: 121635816243.2000\n",
      "Early stopping at epoch 12.\n",
      "Impurity(\n",
      "  (linear): PyroLinear(in_features=769, out_features=1, bias=True)\n",
      ")\n",
      "Impurity(\n",
      "  (linear): PyroLinear(in_features=769, out_features=1, bias=True)\n",
      ")\n"
     ]
    },
    {
     "name": "stderr",
     "output_type": "stream",
     "text": [
      "Epochs:   0%|          | 0/150 [00:00<?, ?it/s]"
     ]
    },
    {
     "name": "stdout",
     "output_type": "stream",
     "text": [
      "[iteration 0001] loss: 227204683161.6000\n",
      "[iteration 0002] loss: 212102074982.4000\n"
     ]
    },
    {
     "name": "stderr",
     "output_type": "stream",
     "text": [
      "Epochs:   2%|▏         | 3/150 [00:00<00:05, 29.07it/s]"
     ]
    },
    {
     "name": "stdout",
     "output_type": "stream",
     "text": [
      "[iteration 0003] loss: 204685923532.8000\n",
      "[iteration 0004] loss: 196070650880.0000\n",
      "[iteration 0005] loss: 183918661222.4000\n"
     ]
    },
    {
     "name": "stderr",
     "output_type": "stream",
     "text": [
      "Epochs:   5%|▍         | 7/150 [00:00<00:04, 30.52it/s]"
     ]
    },
    {
     "name": "stdout",
     "output_type": "stream",
     "text": [
      "[iteration 0006] loss: 170423260569.6000\n",
      "[iteration 0007] loss: 163836808806.4000\n",
      "[iteration 0008] loss: 157006362419.2000\n",
      "[iteration 0009] loss: 145995596492.8000\n"
     ]
    },
    {
     "name": "stderr",
     "output_type": "stream",
     "text": [
      "Epochs:   7%|▋         | 11/150 [00:00<00:04, 31.55it/s]"
     ]
    },
    {
     "name": "stdout",
     "output_type": "stream",
     "text": [
      "[iteration 0010] loss: 141943699251.2000\n",
      "[iteration 0011] loss: 131322738790.4000\n",
      "[iteration 0012] loss: 124052896870.4000\n",
      "[iteration 0013] loss: 118928294604.8000\n",
      "[iteration 0014] loss: 113611618252.8000\n"
     ]
    },
    {
     "name": "stderr",
     "output_type": "stream",
     "text": [
      "Epochs:  10%|█         | 15/150 [00:00<00:04, 32.06it/s]"
     ]
    },
    {
     "name": "stdout",
     "output_type": "stream",
     "text": [
      "[iteration 0015] loss: 106876012595.2000\n",
      "[iteration 0016] loss: 104043764428.8000\n",
      "[iteration 0017] loss: 97519070464.0000\n",
      "[iteration 0018] loss: 89721911577.6000\n"
     ]
    },
    {
     "name": "stderr",
     "output_type": "stream",
     "text": [
      "Epochs:  13%|█▎        | 19/150 [00:00<00:04, 29.90it/s]"
     ]
    },
    {
     "name": "stdout",
     "output_type": "stream",
     "text": [
      "[iteration 0019] loss: 87925727001.6000\n",
      "[iteration 0020] loss: 82752731059.2000\n",
      "[iteration 0021] loss: 78798476928.0000\n",
      "[iteration 0022] loss: 75041279232.0000\n"
     ]
    },
    {
     "name": "stderr",
     "output_type": "stream",
     "text": [
      "Epochs:  15%|█▌        | 23/150 [00:00<00:04, 30.37it/s]"
     ]
    },
    {
     "name": "stdout",
     "output_type": "stream",
     "text": [
      "[iteration 0023] loss: 70691100928.0000\n",
      "[iteration 0024] loss: 65104742873.6000\n",
      "[iteration 0025] loss: 61681627276.8000\n"
     ]
    },
    {
     "name": "stderr",
     "output_type": "stream",
     "text": [
      "Epochs:  18%|█▊        | 27/150 [00:00<00:03, 31.19it/s]"
     ]
    },
    {
     "name": "stdout",
     "output_type": "stream",
     "text": [
      "[iteration 0026] loss: 62197000307.2000\n",
      "[iteration 0027] loss: 57856996038.4000\n",
      "[iteration 0028] loss: 50624858304.0000\n",
      "[iteration 0029] loss: 53676195347.2000\n"
     ]
    },
    {
     "name": "stderr",
     "output_type": "stream",
     "text": [
      "Epochs:  21%|██        | 31/150 [00:00<00:03, 31.64it/s]"
     ]
    },
    {
     "name": "stdout",
     "output_type": "stream",
     "text": [
      "[iteration 0030] loss: 45345965643.2000\n",
      "[iteration 0031] loss: 45564431468.0000\n",
      "[iteration 0032] loss: 41643799866.8406\n",
      "[iteration 0033] loss: 41868800419.0000\n",
      "[iteration 0034] loss: 38138918962.7250\n"
     ]
    },
    {
     "name": "stderr",
     "output_type": "stream",
     "text": [
      "Epochs:  23%|██▎       | 35/150 [00:01<00:03, 31.57it/s]"
     ]
    },
    {
     "name": "stdout",
     "output_type": "stream",
     "text": [
      "[iteration 0035] loss: 38842149407.5000\n",
      "[iteration 0036] loss: 33922287468.2578\n",
      "[iteration 0037] loss: 34344527607.6000\n",
      "[iteration 0038] loss: 33947207797.8312\n"
     ]
    },
    {
     "name": "stderr",
     "output_type": "stream",
     "text": [
      "Epochs:  26%|██▌       | 39/150 [00:01<00:03, 31.23it/s]"
     ]
    },
    {
     "name": "stdout",
     "output_type": "stream",
     "text": [
      "[iteration 0039] loss: 31631307848.6250\n",
      "[iteration 0040] loss: 31253271478.0875\n",
      "[iteration 0041] loss: 26301868360.6344\n",
      "[iteration 0042] loss: 27770434296.1250\n"
     ]
    },
    {
     "name": "stderr",
     "output_type": "stream",
     "text": [
      "Epochs:  29%|██▊       | 43/150 [00:01<00:03, 31.56it/s]"
     ]
    },
    {
     "name": "stdout",
     "output_type": "stream",
     "text": [
      "[iteration 0043] loss: 26359830184.7688\n",
      "[iteration 0044] loss: 25293051630.3172\n",
      "[iteration 0045] loss: 24902876462.2000\n",
      "[iteration 0046] loss: 21762513959.3000\n"
     ]
    },
    {
     "name": "stderr",
     "output_type": "stream",
     "text": [
      "Epochs:  31%|███▏      | 47/150 [00:01<00:03, 31.16it/s]"
     ]
    },
    {
     "name": "stdout",
     "output_type": "stream",
     "text": [
      "[iteration 0047] loss: 23054938222.3719\n",
      "[iteration 0048] loss: 21988027427.2000\n",
      "[iteration 0049] loss: 21077413188.8000\n",
      "[iteration 0050] loss: 22010112328.0000\n"
     ]
    },
    {
     "name": "stderr",
     "output_type": "stream",
     "text": [
      "Epochs:  34%|███▍      | 51/150 [00:01<00:03, 31.30it/s]"
     ]
    },
    {
     "name": "stdout",
     "output_type": "stream",
     "text": [
      "[iteration 0051] loss: 18855588809.0298\n",
      "[iteration 0052] loss: 18643272075.2000\n",
      "[iteration 0053] loss: 18424632764.0000\n"
     ]
    },
    {
     "name": "stderr",
     "output_type": "stream",
     "text": [
      "Epochs:  37%|███▋      | 55/150 [00:01<00:03, 31.20it/s]"
     ]
    },
    {
     "name": "stdout",
     "output_type": "stream",
     "text": [
      "[iteration 0054] loss: 17164246390.4000\n",
      "[iteration 0055] loss: 18346982432.0000\n",
      "[iteration 0056] loss: 18540655440.0000\n",
      "[iteration 0057] loss: 16836071808.0000\n"
     ]
    },
    {
     "name": "stderr",
     "output_type": "stream",
     "text": [
      "Epochs:  39%|███▉      | 59/150 [00:01<00:02, 31.30it/s]"
     ]
    },
    {
     "name": "stdout",
     "output_type": "stream",
     "text": [
      "[iteration 0058] loss: 17151883219.2000\n",
      "[iteration 0059] loss: 15271668940.8000\n",
      "[iteration 0060] loss: 16171090284.8000\n",
      "[iteration 0061] loss: 15381119180.8000\n",
      "[iteration 0062] loss: 13927395481.6000\n"
     ]
    },
    {
     "name": "stderr",
     "output_type": "stream",
     "text": [
      "Epochs:  42%|████▏     | 63/150 [00:02<00:02, 31.35it/s]"
     ]
    },
    {
     "name": "stdout",
     "output_type": "stream",
     "text": [
      "[iteration 0063] loss: 15091179257.6000\n",
      "[iteration 0064] loss: 14881103820.8000\n",
      "[iteration 0065] loss: 13640391734.4000\n",
      "[iteration 0066] loss: 13725207040.0000\n"
     ]
    },
    {
     "name": "stderr",
     "output_type": "stream",
     "text": [
      "Epochs:  45%|████▍     | 67/150 [00:02<00:02, 31.35it/s]"
     ]
    },
    {
     "name": "stdout",
     "output_type": "stream",
     "text": [
      "[iteration 0067] loss: 13726576435.2000\n",
      "[iteration 0068] loss: 12984387788.8000\n",
      "[iteration 0069] loss: 13710500329.6000\n",
      "[iteration 0070] loss: 13367936230.4000\n"
     ]
    },
    {
     "name": "stderr",
     "output_type": "stream",
     "text": [
      "Epochs:  47%|████▋     | 71/150 [00:02<00:02, 31.45it/s]"
     ]
    },
    {
     "name": "stdout",
     "output_type": "stream",
     "text": [
      "[iteration 0071] loss: 12406234668.8000\n",
      "[iteration 0072] loss: 13123206464.0000\n",
      "[iteration 0073] loss: 12464325888.0000\n"
     ]
    },
    {
     "name": "stderr",
     "output_type": "stream",
     "text": [
      "Epochs:  49%|████▊     | 73/150 [00:02<00:02, 30.83it/s]"
     ]
    },
    {
     "name": "stdout",
     "output_type": "stream",
     "text": [
      "Early stopping at epoch 73.\n",
      "Impurity(\n",
      "  (linear): PyroLinear(in_features=769, out_features=1, bias=True)\n",
      ")\n"
     ]
    },
    {
     "name": "stderr",
     "output_type": "stream",
     "text": [
      "\n"
     ]
    }
   ],
   "source": [
    "model = VSpyct(max_depth=3, bs=64)\n",
    "model.fit(X_train, y_train)"
   ]
  },
  {
   "cell_type": "code",
   "execution_count": 26,
   "metadata": {},
   "outputs": [],
   "source": [
    "preds = model.predict(X_test)"
   ]
  },
  {
   "cell_type": "code",
   "execution_count": 27,
   "metadata": {},
   "outputs": [
    {
     "data": {
      "image/png": "[encoded data removed]",
      "text/plain": [
       "<Figure size 640x480 with 1 Axes>"
      ]
     },
     "metadata": {},
     "output_type": "display_data"
    }
   ],
   "source": [
    "for i in range(30):\n",
    "  plt.plot(preds.mean(axis=1)[i])"
   ]
  },
  {
   "cell_type": "code",
   "execution_count": 40,
   "metadata": {},
   "outputs": [],
   "source": [
    "X_train, T_train, E_train, X_test, T_test, E_test = data.pysurvival_split()"
   ]
  },
  {
   "cell_type": "code",
   "execution_count": 30,
   "metadata": {},
   "outputs": [],
   "source": [
    "avg_preds = preds.mean(axis=1)"
   ]
  },
  {
   "cell_type": "code",
   "execution_count": 31,
   "metadata": {},
   "outputs": [
    {
     "data": {
      "text/plain": [
       "torch.Size([84, 4795])"
      ]
     },
     "execution_count": 31,
     "metadata": {},
     "output_type": "execute_result"
    }
   ],
   "source": [
    "avg_preds.shape"
   ]
  },
  {
   "cell_type": "code",
   "execution_count": 32,
   "metadata": {},
   "outputs": [
    {
     "data": {
      "text/plain": [
       "[<matplotlib.lines.Line2D at 0x29577d0a0>]"
      ]
     },
     "execution_count": 32,
     "metadata": {},
     "output_type": "execute_result"
    },
    {
     "data": {
      "image/png": "[encoded data removed]",
      "text/plain": [
       "<Figure size 640x480 with 1 Axes>"
      ]
     },
     "metadata": {},
     "output_type": "display_data"
    }
   ],
   "source": [
    "plt.plot(avg_preds[0])\n",
    "plt.plot(y_test[0])"
   ]
  },
  {
   "cell_type": "code",
   "execution_count": 33,
   "metadata": {},
   "outputs": [
    {
     "data": {
      "text/plain": [
       "[<matplotlib.lines.Line2D at 0x29d2b53d0>]"
      ]
     },
     "execution_count": 33,
     "metadata": {},
     "output_type": "execute_result"
    },
    {
     "data": {
      "image/png": "[encoded data removed]",
      "text/plain": [
       "<Figure size 640x480 with 1 Axes>"
      ]
     },
     "metadata": {},
     "output_type": "display_data"
    }
   ],
   "source": [
    "plt.plot(((avg_preds-y_test)**2).mean(axis=0))"
   ]
  },
  {
   "cell_type": "code",
   "execution_count": 34,
   "metadata": {},
   "outputs": [
    {
     "data": {
      "text/plain": [
       "(torch.Size([84, 4795]), torch.Size([84, 4795]))"
      ]
     },
     "execution_count": 34,
     "metadata": {},
     "output_type": "execute_result"
    }
   ],
   "source": [
    "y_test.shape, avg_preds.shape"
   ]
  },
  {
   "cell_type": "code",
   "execution_count": 3,
   "metadata": {},
   "outputs": [],
   "source": [
    "def brier_score_ipcw(times, times_arr, event_observed, predicted_probs):\n",
    "    from lifelines import KaplanMeierFitter\n",
    "    if isinstance(times_arr, torch.Tensor): times_arr = times_arr.numpy()\n",
    "    if isinstance(predicted_probs, torch.Tensor): predicted_probs = predicted_probs.numpy()\n",
    "    num_events = sum(event_observed)\n",
    "    kmf = KaplanMeierFitter()\n",
    "    kmf.fit(times, event_observed)\n",
    "    cumulative_censoring_probs = 1 - kmf.survival_function_.values\n",
    "    ipcw_coeffs = 1 / cumulative_censoring_probs\n",
    "    ipcw_coeffs = ipcw_coeffs[1:]\n",
    "\n",
    "    brier_sum = []\n",
    "    for (t, _, pred_prob, ipcw_coeff) in zip(times_arr, event_observed, predicted_probs, ipcw_coeffs): brier_sum.append(ipcw_coeff*(t - pred_prob) ** 2)\n",
    "    brier_sum = np.array(brier_sum).mean(axis=0)\n",
    "    return brier_sum / num_events"
   ]
  },
  {
   "cell_type": "code",
   "execution_count": 146,
   "metadata": {},
   "outputs": [],
   "source": [
    "bs_ipcw = brier_score_ipcw(T_test, y_test, E_test, avg_preds)"
   ]
  },
  {
   "cell_type": "code",
   "execution_count": 147,
   "metadata": {},
   "outputs": [
    {
     "data": {
      "text/plain": [
       "[<matplotlib.lines.Line2D at 0x2a52b9d30>]"
      ]
     },
     "execution_count": 147,
     "metadata": {},
     "output_type": "execute_result"
    },
    {
     "data": {
      "image/png": "[encoded data removed]",
      "text/plain": [
       "<Figure size 640x480 with 1 Axes>"
      ]
     },
     "metadata": {},
     "output_type": "display_data"
    }
   ],
   "source": [
    "plt.plot(bs_ipcw)"
   ]
  },
  {
   "cell_type": "code",
   "execution_count": 50,
   "metadata": {},
   "outputs": [
    {
     "name": "stderr",
     "output_type": "stream",
     "text": [
      "% Completion: 100%|***********************************************|Loss:  38.03\n"
     ]
    }
   ],
   "source": [
    "from pysurvival.models.multi_task import LinearMultiTaskModel\n",
    "mtlr = LinearMultiTaskModel()\n",
    "mtlr.fit(X_train, T_train, E_train, lr=0.0001, l2_reg=1e-2, init_method='zeros')\n",
    "\n",
    "predicted_mtlr = mtlr.predict_survival(X_test)\n",
    "transformed_predictions_mtlr = fix_predictions(predicted_mtlr, mtlr.times, T_train.max())"
   ]
  },
  {
   "cell_type": "code",
   "execution_count": 51,
   "metadata": {},
   "outputs": [],
   "source": [
    "bs_ipcw_mtlr = brier_score_ipcw(T_test, y_test, E_test, transformed_predictions_mtlr)"
   ]
  },
  {
   "cell_type": "code",
   "execution_count": 52,
   "metadata": {},
   "outputs": [
    {
     "data": {
      "text/plain": [
       "[<matplotlib.lines.Line2D at 0x2ace2fb20>]"
      ]
     },
     "execution_count": 52,
     "metadata": {},
     "output_type": "execute_result"
    },
    {
     "data": {
      "image/png": "[encoded data removed]",
      "text/plain": [
       "<Figure size 640x480 with 1 Axes>"
      ]
     },
     "metadata": {},
     "output_type": "display_data"
    }
   ],
   "source": [
    "plt.plot(bs_ipcw_mtlr)"
   ]
  },
  {
   "cell_type": "code",
   "execution_count": 45,
   "metadata": {},
   "outputs": [
    {
     "data": {
      "text/plain": [
       "RandomSurvivalForestModel"
      ]
     },
     "execution_count": 45,
     "metadata": {},
     "output_type": "execute_result"
    }
   ],
   "source": [
    "from pysurvival.models.survival_forest import RandomSurvivalForestModel\n",
    "\n",
    "rsf = RandomSurvivalForestModel(num_trees=50)\n",
    "rsf.fit(X_train, T_train, E_train, max_features=\"sqrt\", max_depth=5)"
   ]
  },
  {
   "cell_type": "code",
   "execution_count": 46,
   "metadata": {},
   "outputs": [],
   "source": [
    "predicted_rsf = rsf.predict_survival(X_test)\n",
    "transformed_predictions_rsf = fix_predictions(predicted_rsf, rsf.times, int(T_train.max()))"
   ]
  },
  {
   "cell_type": "code",
   "execution_count": 48,
   "metadata": {},
   "outputs": [],
   "source": [
    "bs_ipcw_rsf = brier_score_ipcw(T_test, y_test, E_test, transformed_predictions_rsf)"
   ]
  },
  {
   "cell_type": "code",
   "execution_count": 49,
   "metadata": {},
   "outputs": [
    {
     "data": {
      "text/plain": [
       "[<matplotlib.lines.Line2D at 0x2ac8e3250>]"
      ]
     },
     "execution_count": 49,
     "metadata": {},
     "output_type": "execute_result"
    },
    {
     "data": {
      "image/png": "[encoded data removed]",
      "text/plain": [
       "<Figure size 640x480 with 1 Axes>"
      ]
     },
     "metadata": {},
     "output_type": "display_data"
    }
   ],
   "source": [
    "plt.plot(bs_ipcw_rsf)"
   ]
  },
  {
   "cell_type": "code",
   "execution_count": 19,
   "metadata": {},
   "outputs": [
    {
     "name": "stdout",
     "output_type": "stream",
     "text": [
      "Performing Newton-Raphson optimization\n",
      " * Iteration #1 - Loss = 714.551 - ||grad||^2 = 404.22307\n",
      " * Iteration #2 - Loss = 698.182 - ||grad||^2 = 399.76632\n",
      " * Iteration #3 - Loss = 688.456 - ||grad||^2 = 395.63918\n",
      " * Iteration #4 - Loss = 679.989 - ||grad||^2 = 391.58569\n",
      " * Iteration #5 - Loss = 672.359 - ||grad||^2 = 387.59254\n",
      " * Iteration #6 - Loss = 665.347 - ||grad||^2 = 383.65324\n",
      " * Iteration #7 - Loss = 658.821 - ||grad||^2 = 379.76382\n",
      " * Iteration #8 - Loss = 652.692 - ||grad||^2 = 375.92157\n",
      " * Iteration #9 - Loss = 646.897 - ||grad||^2 = 372.12447\n",
      " * Iteration #10 - Loss = 641.387 - ||grad||^2 = 368.37093\n",
      " * Iteration #11 - Loss = 636.125 - ||grad||^2 = 364.65965\n",
      " * Iteration #12 - Loss = 631.082 - ||grad||^2 = 360.98954\n",
      " * Iteration #13 - Loss = 626.233 - ||grad||^2 = 357.35965\n",
      " * Iteration #14 - Loss = 621.560 - ||grad||^2 = 353.76914\n",
      " * Iteration #15 - Loss = 617.044 - ||grad||^2 = 350.21724\n",
      " * Iteration #16 - Loss = 612.672 - ||grad||^2 = 346.70326\n",
      " * Iteration #17 - Loss = 608.432 - ||grad||^2 = 343.22657\n",
      " * Iteration #18 - Loss = 604.313 - ||grad||^2 = 339.78656\n",
      " * Iteration #19 - Loss = 600.307 - ||grad||^2 = 336.38268\n",
      " * Iteration #20 - Loss = 596.404 - ||grad||^2 = 333.01440\n",
      " * Iteration #21 - Loss = 592.597 - ||grad||^2 = 329.68122\n",
      " * Iteration #22 - Loss = 588.881 - ||grad||^2 = 326.38264\n",
      " * Iteration #23 - Loss = 585.250 - ||grad||^2 = 323.11822\n",
      " * Iteration #24 - Loss = 581.698 - ||grad||^2 = 319.88751\n",
      " * Iteration #25 - Loss = 578.221 - ||grad||^2 = 316.69007\n",
      " * Iteration #26 - Loss = 574.814 - ||grad||^2 = 313.52550\n",
      " * Iteration #27 - Loss = 571.474 - ||grad||^2 = 310.39339\n",
      " * Iteration #28 - Loss = 568.197 - ||grad||^2 = 307.29334\n",
      " * Iteration #29 - Loss = 564.979 - ||grad||^2 = 304.22498\n",
      " * Iteration #30 - Loss = 561.819 - ||grad||^2 = 301.18793\n",
      " * Iteration #31 - Loss = 558.713 - ||grad||^2 = 298.18183\n",
      " * Iteration #32 - Loss = 555.658 - ||grad||^2 = 295.20632\n",
      " * Iteration #33 - Loss = 552.652 - ||grad||^2 = 292.26105\n",
      " * Iteration #34 - Loss = 549.694 - ||grad||^2 = 289.34569\n",
      " * Iteration #35 - Loss = 546.781 - ||grad||^2 = 286.45989\n",
      " * Iteration #36 - Loss = 543.910 - ||grad||^2 = 283.60333\n",
      " * Iteration #37 - Loss = 541.081 - ||grad||^2 = 280.77569\n",
      " * Iteration #38 - Loss = 538.292 - ||grad||^2 = 277.97664\n",
      " * Iteration #39 - Loss = 535.541 - ||grad||^2 = 275.20588\n",
      " * Iteration #40 - Loss = 532.827 - ||grad||^2 = 272.46309\n",
      " * Iteration #41 - Loss = 530.148 - ||grad||^2 = 269.74798\n",
      " * Iteration #42 - Loss = 527.503 - ||grad||^2 = 267.06024\n",
      " * Iteration #43 - Loss = 524.891 - ||grad||^2 = 264.39959\n",
      " * Iteration #44 - Loss = 522.310 - ||grad||^2 = 261.76574\n",
      " * Iteration #45 - Loss = 519.760 - ||grad||^2 = 259.15839\n",
      " * Iteration #46 - Loss = 517.240 - ||grad||^2 = 256.57728\n",
      " * Iteration #47 - Loss = 514.748 - ||grad||^2 = 254.02211\n",
      " * Iteration #48 - Loss = 512.284 - ||grad||^2 = 251.49263\n",
      " * Iteration #49 - Loss = 509.847 - ||grad||^2 = 248.98855\n",
      " * Iteration #50 - Loss = 507.435 - ||grad||^2 = 246.50961\n",
      " * Iteration #51 - Loss = 505.049 - ||grad||^2 = 244.05556\n",
      " * Iteration #52 - Loss = 502.687 - ||grad||^2 = 241.62612\n",
      " * Iteration #53 - Loss = 500.349 - ||grad||^2 = 239.22105\n",
      " * Iteration #54 - Loss = 498.034 - ||grad||^2 = 236.84009\n",
      " * Iteration #55 - Loss = 495.741 - ||grad||^2 = 234.48299\n",
      " * Iteration #56 - Loss = 493.470 - ||grad||^2 = 232.14951\n",
      " * Iteration #57 - Loss = 491.221 - ||grad||^2 = 229.83940\n",
      " * Iteration #58 - Loss = 488.991 - ||grad||^2 = 227.55241\n",
      " * Iteration #59 - Loss = 486.782 - ||grad||^2 = 225.28832\n",
      " * Iteration #60 - Loss = 484.592 - ||grad||^2 = 223.04688\n",
      " * Iteration #61 - Loss = 482.421 - ||grad||^2 = 220.82787\n",
      " * Iteration #62 - Loss = 480.269 - ||grad||^2 = 218.63105\n",
      " * Iteration #63 - Loss = 478.134 - ||grad||^2 = 216.45620\n",
      " * Iteration #64 - Loss = 476.018 - ||grad||^2 = 214.30309\n",
      " * Iteration #65 - Loss = 473.918 - ||grad||^2 = 212.17149\n",
      " * Iteration #66 - Loss = 471.835 - ||grad||^2 = 210.06120\n",
      " * Iteration #67 - Loss = 469.769 - ||grad||^2 = 207.97200\n",
      " * Iteration #68 - Loss = 467.718 - ||grad||^2 = 205.90366\n",
      " * Iteration #69 - Loss = 465.684 - ||grad||^2 = 203.85597\n",
      " * Iteration #70 - Loss = 463.664 - ||grad||^2 = 201.82873\n",
      " * Iteration #71 - Loss = 461.659 - ||grad||^2 = 199.82173\n",
      " * Iteration #72 - Loss = 459.669 - ||grad||^2 = 197.83477\n",
      " * Iteration #73 - Loss = 457.694 - ||grad||^2 = 195.86763\n",
      " * Iteration #74 - Loss = 455.732 - ||grad||^2 = 193.92012\n",
      " * Iteration #75 - Loss = 453.784 - ||grad||^2 = 191.99204\n",
      " * Iteration #76 - Loss = 451.849 - ||grad||^2 = 190.08319\n",
      " * Iteration #77 - Loss = 449.928 - ||grad||^2 = 188.19339\n",
      " * Iteration #78 - Loss = 448.019 - ||grad||^2 = 186.32243\n",
      " * Iteration #79 - Loss = 446.123 - ||grad||^2 = 184.47012\n",
      " * Iteration #80 - Loss = 444.240 - ||grad||^2 = 182.63628\n",
      " * Iteration #81 - Loss = 442.368 - ||grad||^2 = 180.82073\n",
      " * Iteration #82 - Loss = 440.508 - ||grad||^2 = 179.02327\n",
      " * Iteration #83 - Loss = 438.661 - ||grad||^2 = 177.24372\n",
      " * Iteration #84 - Loss = 436.824 - ||grad||^2 = 175.48191\n",
      " * Iteration #85 - Loss = 434.999 - ||grad||^2 = 173.73765\n",
      " * Iteration #86 - Loss = 433.185 - ||grad||^2 = 172.01078\n",
      " * Iteration #87 - Loss = 431.381 - ||grad||^2 = 170.30110\n",
      " * Iteration #88 - Loss = 429.589 - ||grad||^2 = 168.60846\n",
      " * Iteration #89 - Loss = 427.806 - ||grad||^2 = 166.93268\n",
      " * Iteration #90 - Loss = 426.034 - ||grad||^2 = 165.27358\n",
      " * Iteration #91 - Loss = 424.273 - ||grad||^2 = 163.63101\n",
      " * Iteration #92 - Loss = 422.521 - ||grad||^2 = 162.00480\n",
      " * Iteration #93 - Loss = 420.779 - ||grad||^2 = 160.39477\n",
      " * Iteration #94 - Loss = 419.046 - ||grad||^2 = 158.80078\n",
      " * Iteration #95 - Loss = 417.323 - ||grad||^2 = 157.22266\n",
      " * Iteration #96 - Loss = 415.609 - ||grad||^2 = 155.66024\n",
      " * Iteration #97 - Loss = 413.905 - ||grad||^2 = 154.11338\n",
      " * Iteration #98 - Loss = 412.209 - ||grad||^2 = 152.58192\n",
      " * Iteration #99 - Loss = 410.523 - ||grad||^2 = 151.06569\n",
      " * Iteration #100 - Loss = 408.845 - ||grad||^2 = 149.56456\n",
      "Optimization reached max number of iterations.\n"
     ]
    },
    {
     "data": {
      "text/plain": [
       "CoxPHModel"
      ]
     },
     "execution_count": 19,
     "metadata": {},
     "output_type": "execute_result"
    }
   ],
   "source": [
    "from pysurvival.models.semi_parametric import CoxPHModel\n",
    "\n",
    "coxph = CoxPHModel()\n",
    "coxph.fit(X_train, T_train, E_train, lr=0.01, l2_reg=1e-2, init_method='zeros')"
   ]
  },
  {
   "cell_type": "code",
   "execution_count": 20,
   "metadata": {},
   "outputs": [],
   "source": [
    "predicted_coxph = coxph.predict_survival(X_test)\n",
    "transformed_predictions_coxph = fix_predictions(predicted_coxph, coxph.times, int(T_train.max()))"
   ]
  },
  {
   "cell_type": "code",
   "execution_count": 21,
   "metadata": {},
   "outputs": [],
   "source": [
    "bs_ipcw_coxph = brier_score_ipcw(T_test, y_test, E_test, transformed_predictions_coxph)"
   ]
  },
  {
   "cell_type": "code",
   "execution_count": 22,
   "metadata": {},
   "outputs": [
    {
     "data": {
      "text/plain": [
       "[<matplotlib.lines.Line2D at 0x29ac21c10>]"
      ]
     },
     "execution_count": 22,
     "metadata": {},
     "output_type": "execute_result"
    },
    {
     "data": {
      "image/png": "[encoded data removed]",
      "text/plain": [
       "<Figure size 640x480 with 1 Axes>"
      ]
     },
     "metadata": {},
     "output_type": "display_data"
    }
   ],
   "source": [
    "plt.plot(bs_ipcw_coxph)"
   ]
  },
  {
   "cell_type": "code",
   "execution_count": 37,
   "metadata": {},
   "outputs": [],
   "source": [
    "bs_ipcw_vspyct = brier_score_ipcw(T_test, y_test, E_test, preds.mean(axis=1))"
   ]
  },
  {
   "cell_type": "code",
   "execution_count": 38,
   "metadata": {},
   "outputs": [
    {
     "data": {
      "text/plain": [
       "[<matplotlib.lines.Line2D at 0x2ac4e0a90>]"
      ]
     },
     "execution_count": 38,
     "metadata": {},
     "output_type": "execute_result"
    },
    {
     "data": {
      "image/png": "[encoded data removed]",
      "text/plain": [
       "<Figure size 640x480 with 1 Axes>"
      ]
     },
     "metadata": {},
     "output_type": "display_data"
    }
   ],
   "source": [
    "plt.plot(bs_ipcw_vspyct)"
   ]
  },
  {
   "cell_type": "code",
   "execution_count": 57,
   "metadata": {},
   "outputs": [
    {
     "data": {
      "text/plain": [
       "<spyct.model.Model at 0x2ade83f40>"
      ]
     },
     "execution_count": 57,
     "metadata": {},
     "output_type": "execute_result"
    }
   ],
   "source": [
    "import spyct\n",
    "\n",
    "model = spyct.Model()\n",
    "model.fit(X_train.values, y_train.numpy())"
   ]
  },
  {
   "cell_type": "code",
   "execution_count": 58,
   "metadata": {},
   "outputs": [],
   "source": [
    "preds_spyct = model.predict(y_test.numpy())"
   ]
  },
  {
   "cell_type": "code",
   "execution_count": 60,
   "metadata": {},
   "outputs": [
    {
     "data": {
      "text/plain": [
       "(84, 4795)"
      ]
     },
     "execution_count": 60,
     "metadata": {},
     "output_type": "execute_result"
    }
   ],
   "source": [
    "preds_spyct.shape"
   ]
  },
  {
   "cell_type": "code",
   "execution_count": 61,
   "metadata": {},
   "outputs": [],
   "source": [
    "bs_ipcw_spyct = brier_score_ipcw(T_test, y_test, E_test, preds_spyct)"
   ]
  },
  {
   "cell_type": "code",
   "execution_count": 64,
   "metadata": {},
   "outputs": [
    {
     "data": {
      "text/plain": [
       "<matplotlib.legend.Legend at 0x2b0b5f490>"
      ]
     },
     "execution_count": 64,
     "metadata": {},
     "output_type": "execute_result"
    },
    {
     "data": {
      "image/png": "[encoded data removed]",
      "text/plain": [
       "<Figure size 640x480 with 1 Axes>"
      ]
     },
     "metadata": {},
     "output_type": "display_data"
    }
   ],
   "source": [
    "plt.plot(bs_ipcw_rsf, label='RSF')\n",
    "plt.plot(bs_ipcw_mtlr, label='MTLR')\n",
    "plt.plot(bs_ipcw_coxph, label='CoxPH')\n",
    "plt.plot(bs_ipcw_vspyct, label='VSpyct')\n",
    "plt.plot(bs_ipcw_spyct, label='Spyct')\n",
    "plt.legend()"
   ]
  },
  {
   "cell_type": "code",
   "execution_count": null,
   "metadata": {},
   "outputs": [],
   "source": []
  }
 ],
 "metadata": {
  "kernelspec": {
   "display_name": "base",
   "language": "python",
   "name": "python3"
  },
  "language_info": {
   "codemirror_mode": {
    "name": "ipython",
    "version": 3
   },
   "file_extension": ".py",
   "mimetype": "text/x-python",
   "name": "python",
   "nbconvert_exporter": "python",
   "pygments_lexer": "ipython3",
   "version": "3.8.17"
  },
  "orig_nbformat": 4,
  "vscode": {
   "interpreter": {
    "hash": "cc7277dfab6d5d4897e99b5cc736f9228836f1dda1604709a8d9bb8c8b4a4da5"
   }
  }
 },
 "nbformat": 4,
 "nbformat_minor": 2
}
