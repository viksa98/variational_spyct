{
 "cells": [
  {
   "cell_type": "code",
   "execution_count": 1,
   "id": "b92234f7",
   "metadata": {},
   "outputs": [],
   "source": [
    "import pandas as pd\n",
    "import numpy as np\n",
    "import pysurvival as pys\n",
    "from pysurvival.models.semi_parametric import CoxPHModel\n",
    "from sklearn.preprocessing import StandardScaler"
   ]
  },
  {
   "cell_type": "code",
   "execution_count": 2,
   "id": "ddf58893",
   "metadata": {},
   "outputs": [],
   "source": [
    "dset = 'veteran'\n",
    "folds = 10"
   ]
  },
  {
   "cell_type": "code",
   "execution_count": 3,
   "id": "5a43f53e",
   "metadata": {},
   "outputs": [],
   "source": [
    "fold = 0"
   ]
  },
  {
   "cell_type": "code",
   "execution_count": 4,
   "id": "55577494",
   "metadata": {},
   "outputs": [],
   "source": [
    "trainset = pd.read_csv(f'Data/{dset}_folds/fold{fold}-train.csv', index_col=0)\n",
    "testset = pd.read_csv(f'Data/{dset}_folds/fold{fold}-test.csv', index_col=0)"
   ]
  },
  {
   "cell_type": "code",
   "execution_count": 5,
   "id": "378abd5c",
   "metadata": {},
   "outputs": [],
   "source": [
    "trainset = pd.get_dummies(trainset)\n",
    "testset = pd.get_dummies(testset)"
   ]
  },
  {
   "cell_type": "code",
   "execution_count": 6,
   "id": "91237a23",
   "metadata": {},
   "outputs": [],
   "source": [
    "X_train = trainset.drop(['time', 'status'], axis=1).values\n",
    "X_test = testset.drop(['time', 'status'], axis=1).values\n",
    "T_train = trainset.time.values\n",
    "T_test = testset.time.values\n",
    "E_train = trainset.status.values\n",
    "E_test = testset.status.values"
   ]
  },
  {
   "cell_type": "code",
   "execution_count": 7,
   "id": "5384bbe4",
   "metadata": {},
   "outputs": [],
   "source": [
    "model = CoxPHModel()"
   ]
  },
  {
   "cell_type": "code",
   "execution_count": 17,
   "id": "a3022c5e",
   "metadata": {},
   "outputs": [
    {
     "data": {
      "text/plain": [
       "CoxPHModel"
      ]
     },
     "execution_count": 17,
     "metadata": {},
     "output_type": "execute_result"
    }
   ],
   "source": [
    "X_train = scaler.fit_transform(X_train)\n",
    "model.fit(X_train, T_train, E_train, verbose=False)"
   ]
  },
  {
   "cell_type": "code",
   "execution_count": 26,
   "id": "2bc15bec",
   "metadata": {},
   "outputs": [],
   "source": [
    "T_pred = model.predict_survival(X_test)"
   ]
  },
  {
   "cell_type": "code",
   "execution_count": 28,
   "id": "3d2f3be8",
   "metadata": {},
   "outputs": [
    {
     "data": {
      "text/plain": [
       "(14, 87)"
      ]
     },
     "execution_count": 28,
     "metadata": {},
     "output_type": "execute_result"
    }
   ],
   "source": [
    "T_pred.shape"
   ]
  },
  {
   "cell_type": "code",
   "execution_count": 25,
   "id": "9d89501a",
   "metadata": {},
   "outputs": [
    {
     "data": {
      "text/plain": [
       "array([  7,  31,  45,  51, 216, 201, 122,  99,  36,  87,   3,  90,  82,\n",
       "       156])"
      ]
     },
     "execution_count": 25,
     "metadata": {},
     "output_type": "execute_result"
    }
   ],
   "source": [
    "T_test"
   ]
  },
  {
   "cell_type": "code",
   "execution_count": 29,
   "id": "f8902200",
   "metadata": {},
   "outputs": [
    {
     "data": {
      "text/plain": [
       "array([  1.,   2.,   4.,   7.,   8.,  10.,  11.,  12.,  13.,  15.,  16.,\n",
       "        18.,  19.,  20.,  21.,  22.,  24.,  25.,  27.,  29.,  30.,  31.,\n",
       "        33.,  35.,  42.,  43.,  44.,  48.,  49.,  51.,  52.,  53.,  54.,\n",
       "        56.,  59.,  61.,  63.,  72.,  73.,  80.,  84.,  92.,  95.,  99.,\n",
       "       100., 103., 105., 110., 111., 112., 117., 118., 126., 132., 133.,\n",
       "       139., 140., 143., 144., 151., 153., 162., 164., 177., 186., 200.,\n",
       "       228., 231., 242., 250., 260., 278., 283., 287., 314., 340., 357.,\n",
       "       378., 384., 389., 392., 411., 467., 553., 587., 991., 999.])"
      ]
     },
     "execution_count": 29,
     "metadata": {},
     "output_type": "execute_result"
    }
   ],
   "source": [
    "model.times"
   ]
  },
  {
   "cell_type": "code",
   "execution_count": 30,
   "id": "b0d92084",
   "metadata": {},
   "outputs": [
    {
     "data": {
      "text/plain": [
       "array([144, 278, 103,  73,  30, 314,  92, 357,   4, 392,  24,  22,  56,\n",
       "       182,  95,  51, 177, 287,  51,  84, 200, 162,  52, 162,   1, 384,\n",
       "       411,  13, 283,  35,  29, 186, 164,  44,  54,  20, 118,  11, 110,\n",
       "        61,   8,  18,  83,  25, 231,  72,  99, 111, 553,  97, 132,  16,\n",
       "       991,  10,   2, 378,  24,  15, 153,  52, 587, 112, 250,   8, 100,\n",
       "        30,  20,  27,  95,   8,  15,  33, 100,  19, 105,  59,  21, 111,\n",
       "        63,  25,  54, 117, 260, 999, 151,   8,  80, 139,  31,  21,  12,\n",
       "       133,  43,  48,   1,   7,  42, 143,  25,  52,  13,  80, 126,  25,\n",
       "       140,  19, 467, 340, 242, 389,  53,   7, 231, 117,  12,  18, 123,\n",
       "       103,  49,  18, 228,  87,  10])"
      ]
     },
     "execution_count": 30,
     "metadata": {},
     "output_type": "execute_result"
    }
   ],
   "source": [
    "T_train"
   ]
  },
  {
   "cell_type": "code",
   "execution_count": 31,
   "id": "f448d4b8",
   "metadata": {},
   "outputs": [],
   "source": [
    "import pysurvival.utils.metrics as metrics"
   ]
  },
  {
   "cell_type": "code",
   "execution_count": 32,
   "id": "cd7f204b",
   "metadata": {},
   "outputs": [
    {
     "data": {
      "text/plain": [
       "0.7032967032967034"
      ]
     },
     "execution_count": 32,
     "metadata": {},
     "output_type": "execute_result"
    }
   ],
   "source": [
    "metrics.concordance_index(model, X_test, T_test, E_test)"
   ]
  },
  {
   "cell_type": "code",
   "execution_count": null,
   "id": "17445fa3",
   "metadata": {},
   "outputs": [],
   "source": []
  }
 ],
 "metadata": {
  "kernelspec": {
   "display_name": "Python 3",
   "language": "python",
   "name": "python3"
  },
  "language_info": {
   "codemirror_mode": {
    "name": "ipython",
    "version": 3
   },
   "file_extension": ".py",
   "mimetype": "text/x-python",
   "name": "python",
   "nbconvert_exporter": "python",
   "pygments_lexer": "ipython3",
   "version": "3.11.6 (main, Oct  2 2023, 20:46:17) [Clang 14.0.0 (clang-1400.0.29.202)]"
  },
  "vscode": {
   "interpreter": {
    "hash": "b0fa6594d8f4cbf19f97940f81e996739fb7646882a419484c72d19e05852a7e"
   }
  }
 },
 "nbformat": 4,
 "nbformat_minor": 5
}
