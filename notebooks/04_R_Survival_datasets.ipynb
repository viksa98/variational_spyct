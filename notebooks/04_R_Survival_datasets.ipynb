{
 "cells": [
  {
   "cell_type": "code",
   "execution_count": 1,
   "metadata": {},
   "outputs": [],
   "source": [
    "import numpy as np\n",
    "import pandas as pd\n",
    "import matplotlib.pyplot as plt\n",
    "import os"
   ]
  },
  {
   "cell_type": "code",
   "execution_count": 2,
   "metadata": {},
   "outputs": [],
   "source": [
    "import torch"
   ]
  },
  {
   "cell_type": "code",
   "execution_count": 3,
   "metadata": {},
   "outputs": [],
   "source": [
    "import sys\n",
    "sys.path.append('..')\n",
    "from src.utils import (calculate_bs, fix_predictions, plot_brier)\n",
    "from src.data.dataset import SurvivalDataset"
   ]
  },
  {
   "cell_type": "code",
   "execution_count": 4,
   "metadata": {},
   "outputs": [
    {
     "name": "stdout",
     "output_type": "stream",
     "text": [
      "../data/raw/cancer.rda      ../data/raw/reliability.rda\n",
      "../data/raw/cgd.rda         ../data/raw/retinopathy.rda\n",
      "../data/raw/diabetic.rda    ../data/raw/rhDNase.rda\n",
      "../data/raw/flchain.rda     ../data/raw/solder.rda\n",
      "../data/raw/heart.rda       ../data/raw/survexp.rda\n",
      "../data/raw/logan.rda       ../data/raw/tobin.rda\n",
      "../data/raw/nafld.rda       ../data/raw/transplant.rda\n",
      "../data/raw/nwtco.rda       ../data/raw/udca.rda\n",
      "../data/raw/pbc.rda\n"
     ]
    }
   ],
   "source": [
    "!ls ../data/raw/*.rda"
   ]
  },
  {
   "cell_type": "code",
   "execution_count": 5,
   "metadata": {},
   "outputs": [
    {
     "data": {
      "text/html": [
       "<div>\n",
       "<style scoped>\n",
       "    .dataframe tbody tr th:only-of-type {\n",
       "        vertical-align: middle;\n",
       "    }\n",
       "\n",
       "    .dataframe tbody tr th {\n",
       "        vertical-align: top;\n",
       "    }\n",
       "\n",
       "    .dataframe thead th {\n",
       "        text-align: right;\n",
       "    }\n",
       "</style>\n",
       "<table border=\"1\" class=\"dataframe\">\n",
       "  <thead>\n",
       "    <tr style=\"text-align: right;\">\n",
       "      <th></th>\n",
       "      <th>id</th>\n",
       "      <th>time</th>\n",
       "      <th>status</th>\n",
       "      <th>trt</th>\n",
       "      <th>age</th>\n",
       "      <th>sex</th>\n",
       "      <th>ascites</th>\n",
       "      <th>hepato</th>\n",
       "      <th>spiders</th>\n",
       "      <th>edema</th>\n",
       "      <th>bili</th>\n",
       "      <th>chol</th>\n",
       "      <th>albumin</th>\n",
       "      <th>copper</th>\n",
       "      <th>alk.phos</th>\n",
       "      <th>ast</th>\n",
       "      <th>trig</th>\n",
       "      <th>platelet</th>\n",
       "      <th>protime</th>\n",
       "      <th>stage</th>\n",
       "    </tr>\n",
       "  </thead>\n",
       "  <tbody>\n",
       "    <tr>\n",
       "      <th>0</th>\n",
       "      <td>1</td>\n",
       "      <td>400</td>\n",
       "      <td>2</td>\n",
       "      <td>1</td>\n",
       "      <td>58.765229</td>\n",
       "      <td>f</td>\n",
       "      <td>1</td>\n",
       "      <td>1</td>\n",
       "      <td>1</td>\n",
       "      <td>1.0</td>\n",
       "      <td>14.5</td>\n",
       "      <td>261</td>\n",
       "      <td>2.60</td>\n",
       "      <td>156</td>\n",
       "      <td>1718.0</td>\n",
       "      <td>137.95</td>\n",
       "      <td>172</td>\n",
       "      <td>190</td>\n",
       "      <td>12.2</td>\n",
       "      <td>4</td>\n",
       "    </tr>\n",
       "    <tr>\n",
       "      <th>1</th>\n",
       "      <td>2</td>\n",
       "      <td>4500</td>\n",
       "      <td>0</td>\n",
       "      <td>1</td>\n",
       "      <td>56.446270</td>\n",
       "      <td>f</td>\n",
       "      <td>0</td>\n",
       "      <td>1</td>\n",
       "      <td>1</td>\n",
       "      <td>0.0</td>\n",
       "      <td>1.1</td>\n",
       "      <td>302</td>\n",
       "      <td>4.14</td>\n",
       "      <td>54</td>\n",
       "      <td>7394.8</td>\n",
       "      <td>113.52</td>\n",
       "      <td>88</td>\n",
       "      <td>221</td>\n",
       "      <td>10.6</td>\n",
       "      <td>3</td>\n",
       "    </tr>\n",
       "    <tr>\n",
       "      <th>2</th>\n",
       "      <td>3</td>\n",
       "      <td>1012</td>\n",
       "      <td>2</td>\n",
       "      <td>1</td>\n",
       "      <td>70.072553</td>\n",
       "      <td>m</td>\n",
       "      <td>0</td>\n",
       "      <td>0</td>\n",
       "      <td>0</td>\n",
       "      <td>0.5</td>\n",
       "      <td>1.4</td>\n",
       "      <td>176</td>\n",
       "      <td>3.48</td>\n",
       "      <td>210</td>\n",
       "      <td>516.0</td>\n",
       "      <td>96.10</td>\n",
       "      <td>55</td>\n",
       "      <td>151</td>\n",
       "      <td>12.0</td>\n",
       "      <td>4</td>\n",
       "    </tr>\n",
       "    <tr>\n",
       "      <th>3</th>\n",
       "      <td>4</td>\n",
       "      <td>1925</td>\n",
       "      <td>2</td>\n",
       "      <td>1</td>\n",
       "      <td>54.740589</td>\n",
       "      <td>f</td>\n",
       "      <td>0</td>\n",
       "      <td>1</td>\n",
       "      <td>1</td>\n",
       "      <td>0.5</td>\n",
       "      <td>1.8</td>\n",
       "      <td>244</td>\n",
       "      <td>2.54</td>\n",
       "      <td>64</td>\n",
       "      <td>6121.8</td>\n",
       "      <td>60.63</td>\n",
       "      <td>92</td>\n",
       "      <td>183</td>\n",
       "      <td>10.3</td>\n",
       "      <td>4</td>\n",
       "    </tr>\n",
       "    <tr>\n",
       "      <th>4</th>\n",
       "      <td>5</td>\n",
       "      <td>1504</td>\n",
       "      <td>1</td>\n",
       "      <td>2</td>\n",
       "      <td>38.105407</td>\n",
       "      <td>f</td>\n",
       "      <td>0</td>\n",
       "      <td>1</td>\n",
       "      <td>1</td>\n",
       "      <td>0.0</td>\n",
       "      <td>3.4</td>\n",
       "      <td>279</td>\n",
       "      <td>3.53</td>\n",
       "      <td>143</td>\n",
       "      <td>671.0</td>\n",
       "      <td>113.15</td>\n",
       "      <td>72</td>\n",
       "      <td>136</td>\n",
       "      <td>10.9</td>\n",
       "      <td>3</td>\n",
       "    </tr>\n",
       "  </tbody>\n",
       "</table>\n",
       "</div>"
      ],
      "text/plain": [
       "   id  time  status trt        age sex ascites hepato spiders  edema  bili  \\\n",
       "0   1   400       2   1  58.765229   f       1      1       1    1.0  14.5   \n",
       "1   2  4500       0   1  56.446270   f       0      1       1    0.0   1.1   \n",
       "2   3  1012       2   1  70.072553   m       0      0       0    0.5   1.4   \n",
       "3   4  1925       2   1  54.740589   f       0      1       1    0.5   1.8   \n",
       "4   5  1504       1   2  38.105407   f       0      1       1    0.0   3.4   \n",
       "\n",
       "  chol  albumin copper  alk.phos     ast trig platelet  protime stage  \n",
       "0  261     2.60    156    1718.0  137.95  172      190     12.2     4  \n",
       "1  302     4.14     54    7394.8  113.52   88      221     10.6     3  \n",
       "2  176     3.48    210     516.0   96.10   55      151     12.0     4  \n",
       "3  244     2.54     64    6121.8   60.63   92      183     10.3     4  \n",
       "4  279     3.53    143     671.0  113.15   72      136     10.9     3  "
      ]
     },
     "execution_count": 5,
     "metadata": {},
     "output_type": "execute_result"
    }
   ],
   "source": [
    "import pyreadr\n",
    "\n",
    "rda_file_path = '../data/raw/pbc.rda'\n",
    "data = pyreadr.read_r(rda_file_path)['pbc']\n",
    "data.head()"
   ]
  },
  {
   "cell_type": "code",
   "execution_count": 6,
   "metadata": {},
   "outputs": [
    {
     "name": "stdout",
     "output_type": "stream",
     "text": [
      "Succesfully created time tensor of shape: torch.Size([418, 4795])\n",
      "(334, 769) torch.Size([334, 4795])\n"
     ]
    }
   ],
   "source": [
    "data = SurvivalDataset(fname='pbc.rda', path='../data/raw/')\n",
    "X_train, X_test, y_train, y_test = data.get_tensors()"
   ]
  },
  {
   "cell_type": "code",
   "execution_count": 7,
   "metadata": {},
   "outputs": [
    {
     "name": "stderr",
     "output_type": "stream",
     "text": [
      "/Users/viktorandonovic/miniconda3/lib/python3.8/site-packages/tqdm/auto.py:21: TqdmWarning: IProgress not found. Please update jupyter and ipywidgets. See https://ipywidgets.readthedocs.io/en/stable/user_install.html\n",
      "  from .autonotebook import tqdm as notebook_tqdm\n"
     ]
    }
   ],
   "source": [
    "from src.models.model import VSpyct"
   ]
  },
  {
   "cell_type": "code",
   "execution_count": 8,
   "metadata": {},
   "outputs": [
    {
     "name": "stdout",
     "output_type": "stream",
     "text": [
      "Impurity(\n",
      "  (linear): PyroLinear(in_features=769, out_features=1, bias=True)\n",
      ")\n"
     ]
    },
    {
     "name": "stderr",
     "output_type": "stream",
     "text": [
      "Epochs:   2%|▏         | 3/150 [00:00<00:18,  7.80it/s]"
     ]
    },
    {
     "name": "stdout",
     "output_type": "stream",
     "text": [
      "[iteration 0001] loss: 506097924096.0001\n",
      "[iteration 0002] loss: 472994409062.4000\n",
      "[iteration 0003] loss: 431739803033.6000\n"
     ]
    },
    {
     "name": "stderr",
     "output_type": "stream",
     "text": [
      "Epochs:   3%|▎         | 5/150 [00:00<00:14,  9.77it/s]"
     ]
    },
    {
     "name": "stdout",
     "output_type": "stream",
     "text": [
      "[iteration 0004] loss: 393795085312.0000\n",
      "[iteration 0005] loss: 354846809702.4000\n",
      "[iteration 0006] loss: 330531895500.8000\n"
     ]
    },
    {
     "name": "stderr",
     "output_type": "stream",
     "text": [
      "Epochs:   6%|▌         | 9/150 [00:00<00:12, 11.50it/s]"
     ]
    },
    {
     "name": "stdout",
     "output_type": "stream",
     "text": [
      "[iteration 0007] loss: 308902949478.4000\n",
      "[iteration 0008] loss: 269068183244.8000\n",
      "[iteration 0009] loss: 251161034854.4000\n"
     ]
    },
    {
     "name": "stderr",
     "output_type": "stream",
     "text": [
      "Epochs:   7%|▋         | 11/150 [00:01<00:11, 11.72it/s]"
     ]
    },
    {
     "name": "stdout",
     "output_type": "stream",
     "text": [
      "[iteration 0010] loss: 237588928051.2000\n",
      "[iteration 0011] loss: 213181432576.0000\n",
      "[iteration 0012] loss: 192771104307.2000\n"
     ]
    },
    {
     "name": "stderr",
     "output_type": "stream",
     "text": [
      "Epochs:  10%|█         | 15/150 [00:01<00:10, 12.35it/s]"
     ]
    },
    {
     "name": "stdout",
     "output_type": "stream",
     "text": [
      "[iteration 0013] loss: 180570925670.4000\n",
      "[iteration 0014] loss: 163178394764.8000\n",
      "[iteration 0015] loss: 145421408409.6000\n"
     ]
    },
    {
     "name": "stderr",
     "output_type": "stream",
     "text": [
      "Epochs:  11%|█▏        | 17/150 [00:01<00:10, 12.70it/s]"
     ]
    },
    {
     "name": "stdout",
     "output_type": "stream",
     "text": [
      "[iteration 0016] loss: 141048530688.0000\n",
      "[iteration 0017] loss: 128038029139.2000\n",
      "[iteration 0018] loss: 119332163408.0000\n"
     ]
    },
    {
     "name": "stderr",
     "output_type": "stream",
     "text": [
      "Epochs:  14%|█▍        | 21/150 [00:01<00:10, 12.69it/s]"
     ]
    },
    {
     "name": "stdout",
     "output_type": "stream",
     "text": [
      "[iteration 0019] loss: 113428308174.2000\n",
      "[iteration 0020] loss: 104267557376.8000\n",
      "[iteration 0021] loss: 100580471679.6000\n"
     ]
    },
    {
     "name": "stderr",
     "output_type": "stream",
     "text": [
      "Epochs:  15%|█▌        | 23/150 [00:01<00:09, 12.81it/s]"
     ]
    },
    {
     "name": "stdout",
     "output_type": "stream",
     "text": [
      "[iteration 0022] loss: 94447975290.8000\n",
      "[iteration 0023] loss: 89042574133.7875\n",
      "[iteration 0024] loss: 81357100539.7622\n"
     ]
    },
    {
     "name": "stderr",
     "output_type": "stream",
     "text": [
      "Epochs:  18%|█▊        | 27/150 [00:02<00:09, 13.06it/s]"
     ]
    },
    {
     "name": "stdout",
     "output_type": "stream",
     "text": [
      "[iteration 0025] loss: 77346183580.8000\n",
      "[iteration 0026] loss: 77617773338.4000\n",
      "[iteration 0027] loss: 73138947141.5000\n"
     ]
    },
    {
     "name": "stderr",
     "output_type": "stream",
     "text": [
      "Epochs:  19%|█▉        | 29/150 [00:02<00:09, 12.90it/s]"
     ]
    },
    {
     "name": "stdout",
     "output_type": "stream",
     "text": [
      "[iteration 0028] loss: 69955704673.3500\n",
      "[iteration 0029] loss: 66311947073.3984\n",
      "[iteration 0030] loss: 63950814208.6000\n"
     ]
    },
    {
     "name": "stderr",
     "output_type": "stream",
     "text": [
      "Epochs:  22%|██▏       | 33/150 [00:02<00:08, 13.18it/s]"
     ]
    },
    {
     "name": "stdout",
     "output_type": "stream",
     "text": [
      "[iteration 0031] loss: 60690158033.3750\n",
      "[iteration 0032] loss: 60997431661.1000\n",
      "[iteration 0033] loss: 58038522715.4875\n"
     ]
    },
    {
     "name": "stderr",
     "output_type": "stream",
     "text": [
      "Epochs:  23%|██▎       | 35/150 [00:02<00:08, 13.30it/s]"
     ]
    },
    {
     "name": "stdout",
     "output_type": "stream",
     "text": [
      "[iteration 0034] loss: 56577804497.7516\n",
      "[iteration 0035] loss: 54765253347.0656\n",
      "[iteration 0036] loss: 53615529680.9594\n"
     ]
    },
    {
     "name": "stderr",
     "output_type": "stream",
     "text": [
      "Epochs:  26%|██▌       | 39/150 [00:03<00:08, 13.45it/s]"
     ]
    },
    {
     "name": "stdout",
     "output_type": "stream",
     "text": [
      "[iteration 0037] loss: 51933490892.0500\n",
      "[iteration 0038] loss: 50082700375.4500\n",
      "[iteration 0039] loss: 50352189629.2414\n"
     ]
    },
    {
     "name": "stderr",
     "output_type": "stream",
     "text": [
      "Epochs:  27%|██▋       | 41/150 [00:03<00:08, 13.49it/s]"
     ]
    },
    {
     "name": "stdout",
     "output_type": "stream",
     "text": [
      "[iteration 0040] loss: 49901204576.1023\n",
      "[iteration 0041] loss: 50062846385.8063\n",
      "[iteration 0042] loss: 48657594735.1985\n"
     ]
    },
    {
     "name": "stderr",
     "output_type": "stream",
     "text": [
      "Epochs:  30%|███       | 45/150 [00:03<00:07, 13.22it/s]"
     ]
    },
    {
     "name": "stdout",
     "output_type": "stream",
     "text": [
      "[iteration 0043] loss: 48976270722.4234\n",
      "[iteration 0044] loss: 46954819823.9340\n",
      "[iteration 0045] loss: 49497996162.7687\n"
     ]
    },
    {
     "name": "stderr",
     "output_type": "stream",
     "text": [
      "Epochs:  31%|███       | 46/150 [00:03<00:08, 12.13it/s]\n"
     ]
    },
    {
     "name": "stdout",
     "output_type": "stream",
     "text": [
      "[iteration 0046] loss: 47655070618.5563\n",
      "Early stopping at epoch 46.\n",
      "Impurity(\n",
      "  (linear): PyroLinear(in_features=769, out_features=1, bias=True)\n",
      ")\n",
      "Impurity(\n",
      "  (linear): PyroLinear(in_features=769, out_features=1, bias=True)\n",
      ")\n"
     ]
    },
    {
     "name": "stderr",
     "output_type": "stream",
     "text": [
      "Epochs:   0%|          | 0/150 [00:00<?, ?it/s]"
     ]
    },
    {
     "name": "stdout",
     "output_type": "stream",
     "text": [
      "[iteration 0001] loss: 459877428428.8000\n",
      "[iteration 0002] loss: 453587044761.6000\n"
     ]
    },
    {
     "name": "stderr",
     "output_type": "stream",
     "text": [
      "Epochs:   4%|▍         | 6/150 [00:00<00:05, 27.05it/s]"
     ]
    },
    {
     "name": "stdout",
     "output_type": "stream",
     "text": [
      "[iteration 0003] loss: 431268326604.8000\n",
      "[iteration 0004] loss: 417860243456.0000\n",
      "[iteration 0005] loss: 402744867225.6000\n",
      "[iteration 0006] loss: 401995695718.4000\n",
      "[iteration 0007] loss: 377274920140.8000\n",
      "[iteration 0008] loss: 371746331852.8000\n"
     ]
    },
    {
     "name": "stderr",
     "output_type": "stream",
     "text": [
      "Epochs:   8%|▊         | 12/150 [00:00<00:05, 26.47it/s]"
     ]
    },
    {
     "name": "stdout",
     "output_type": "stream",
     "text": [
      "[iteration 0009] loss: 354075832320.0000\n",
      "[iteration 0010] loss: 342138599014.4000\n",
      "[iteration 0011] loss: 336153775308.8000\n",
      "[iteration 0012] loss: 322504502067.2000\n",
      "[iteration 0013] loss: 319937934540.8000\n",
      "[iteration 0014] loss: 299540036403.2000\n"
     ]
    },
    {
     "name": "stderr",
     "output_type": "stream",
     "text": [
      "Epochs:  12%|█▏        | 18/150 [00:00<00:04, 26.46it/s]"
     ]
    },
    {
     "name": "stdout",
     "output_type": "stream",
     "text": [
      "[iteration 0015] loss: 294515378585.6000\n",
      "[iteration 0016] loss: 283071521996.8000\n",
      "[iteration 0017] loss: 275159152230.4000\n",
      "[iteration 0018] loss: 263767844454.4000\n",
      "[iteration 0019] loss: 255055020441.5999\n",
      "[iteration 0020] loss: 249676028313.6000\n"
     ]
    },
    {
     "name": "stderr",
     "output_type": "stream",
     "text": [
      "Epochs:  16%|█▌        | 24/150 [00:00<00:04, 26.25it/s]"
     ]
    },
    {
     "name": "stdout",
     "output_type": "stream",
     "text": [
      "[iteration 0021] loss: 247569235968.0000\n",
      "[iteration 0022] loss: 235868720947.2000\n",
      "[iteration 0023] loss: 230556556902.4000\n",
      "[iteration 0024] loss: 219619709542.4000\n",
      "[iteration 0025] loss: 215036175564.8000\n",
      "[iteration 0026] loss: 204656390963.2000\n"
     ]
    },
    {
     "name": "stderr",
     "output_type": "stream",
     "text": [
      "Epochs:  20%|██        | 30/150 [00:01<00:04, 26.44it/s]"
     ]
    },
    {
     "name": "stdout",
     "output_type": "stream",
     "text": [
      "[iteration 0027] loss: 202611601408.0000\n",
      "[iteration 0028] loss: 194469072691.2000\n",
      "[iteration 0029] loss: 190582528204.8000\n",
      "[iteration 0030] loss: 188970716364.8000\n",
      "[iteration 0031] loss: 179321576038.4000\n"
     ]
    },
    {
     "name": "stderr",
     "output_type": "stream",
     "text": [
      "Epochs:  22%|██▏       | 33/150 [00:01<00:04, 23.81it/s]"
     ]
    },
    {
     "name": "stdout",
     "output_type": "stream",
     "text": [
      "[iteration 0032] loss: 173352026931.2000\n",
      "[iteration 0033] loss: 169159967948.8000\n",
      "[iteration 0034] loss: 163678705664.0000\n",
      "[iteration 0035] loss: 161465903923.2000\n"
     ]
    },
    {
     "name": "stderr",
     "output_type": "stream",
     "text": [
      "Epochs:  24%|██▍       | 36/150 [00:01<00:04, 24.44it/s]"
     ]
    },
    {
     "name": "stdout",
     "output_type": "stream",
     "text": [
      "[iteration 0036] loss: 157195808153.6000\n",
      "[iteration 0037] loss: 151737298944.0000\n"
     ]
    },
    {
     "name": "stderr",
     "output_type": "stream",
     "text": [
      "Epochs:  26%|██▌       | 39/150 [00:01<00:04, 24.76it/s]"
     ]
    },
    {
     "name": "stdout",
     "output_type": "stream",
     "text": [
      "[iteration 0038] loss: 144940300288.0000\n",
      "[iteration 0039] loss: 140177144115.2000\n",
      "[iteration 0040] loss: 138194030694.4000\n",
      "[iteration 0041] loss: 131692121395.2000\n"
     ]
    },
    {
     "name": "stderr",
     "output_type": "stream",
     "text": [
      "Epochs:  28%|██▊       | 42/150 [00:01<00:04, 24.89it/s]"
     ]
    },
    {
     "name": "stdout",
     "output_type": "stream",
     "text": [
      "[iteration 0042] loss: 132006516633.6000\n",
      "[iteration 0043] loss: 123762003763.2000\n"
     ]
    },
    {
     "name": "stderr",
     "output_type": "stream",
     "text": [
      "Epochs:  30%|███       | 45/150 [00:01<00:04, 23.95it/s]"
     ]
    },
    {
     "name": "stdout",
     "output_type": "stream",
     "text": [
      "[iteration 0044] loss: 125979060838.4000\n",
      "[iteration 0045] loss: 122096417996.8000\n",
      "[iteration 0046] loss: 115981204121.6000\n"
     ]
    },
    {
     "name": "stderr",
     "output_type": "stream",
     "text": [
      "Epochs:  32%|███▏      | 48/150 [00:01<00:04, 23.37it/s]"
     ]
    },
    {
     "name": "stdout",
     "output_type": "stream",
     "text": [
      "[iteration 0047] loss: 112081911398.4000\n",
      "[iteration 0048] loss: 111611494553.6000\n"
     ]
    },
    {
     "name": "stderr",
     "output_type": "stream",
     "text": [
      "Epochs:  34%|███▍      | 51/150 [00:02<00:04, 24.02it/s]"
     ]
    },
    {
     "name": "stdout",
     "output_type": "stream",
     "text": [
      "[iteration 0049] loss: 107464712908.8000\n",
      "[iteration 0050] loss: 106224855859.2000\n",
      "[iteration 0051] loss: 101391534233.6000\n",
      "[iteration 0052] loss: 100428575641.6000\n"
     ]
    },
    {
     "name": "stderr",
     "output_type": "stream",
     "text": [
      "Epochs:  36%|███▌      | 54/150 [00:02<00:03, 24.09it/s]"
     ]
    },
    {
     "name": "stdout",
     "output_type": "stream",
     "text": [
      "[iteration 0053] loss: 97239981363.2000\n",
      "[iteration 0054] loss: 96437344230.4000\n"
     ]
    },
    {
     "name": "stderr",
     "output_type": "stream",
     "text": [
      "Epochs:  38%|███▊      | 57/150 [00:02<00:03, 24.57it/s]"
     ]
    },
    {
     "name": "stdout",
     "output_type": "stream",
     "text": [
      "[iteration 0055] loss: 92910671692.8000\n",
      "[iteration 0056] loss: 90028482432.0000\n",
      "[iteration 0057] loss: 86296405657.6000\n",
      "[iteration 0058] loss: 83931723059.2000\n",
      "[iteration 0059] loss: 85695346227.2000\n"
     ]
    },
    {
     "name": "stderr",
     "output_type": "stream",
     "text": [
      "Epochs:  42%|████▏     | 63/150 [00:02<00:03, 23.90it/s]"
     ]
    },
    {
     "name": "stdout",
     "output_type": "stream",
     "text": [
      "[iteration 0060] loss: 81389087360.0000\n",
      "[iteration 0061] loss: 81180926028.8000\n",
      "[iteration 0062] loss: 76228342604.8000\n",
      "[iteration 0063] loss: 78324304294.4000\n",
      "[iteration 0064] loss: 76128695513.6000\n"
     ]
    },
    {
     "name": "stderr",
     "output_type": "stream",
     "text": [
      "Epochs:  44%|████▍     | 66/150 [00:02<00:03, 22.91it/s]"
     ]
    },
    {
     "name": "stdout",
     "output_type": "stream",
     "text": [
      "[iteration 0065] loss: 72728741363.2000\n",
      "[iteration 0066] loss: 74724851443.2000\n",
      "[iteration 0067] loss: 69485454220.8000\n",
      "[iteration 0068] loss: 68364950163.2000\n"
     ]
    },
    {
     "name": "stderr",
     "output_type": "stream",
     "text": [
      "Epochs:  46%|████▌     | 69/150 [00:02<00:03, 23.86it/s]"
     ]
    },
    {
     "name": "stdout",
     "output_type": "stream",
     "text": [
      "[iteration 0069] loss: 67326287715.2000\n"
     ]
    },
    {
     "name": "stderr",
     "output_type": "stream",
     "text": [
      "Epochs:  48%|████▊     | 72/150 [00:02<00:03, 24.33it/s]"
     ]
    },
    {
     "name": "stdout",
     "output_type": "stream",
     "text": [
      "[iteration 0070] loss: 66842960345.6000\n",
      "[iteration 0071] loss: 64691111923.2000\n",
      "[iteration 0072] loss: 61925520112.0000\n",
      "[iteration 0073] loss: 62361679297.6000\n",
      "[iteration 0074] loss: 60831120300.8000\n"
     ]
    },
    {
     "name": "stderr",
     "output_type": "stream",
     "text": [
      "Epochs:  50%|█████     | 75/150 [00:03<00:03, 24.81it/s]"
     ]
    },
    {
     "name": "stdout",
     "output_type": "stream",
     "text": [
      "[iteration 0075] loss: 59151152269.6000\n"
     ]
    },
    {
     "name": "stderr",
     "output_type": "stream",
     "text": [
      "Epochs:  52%|█████▏    | 78/150 [00:03<00:02, 25.15it/s]"
     ]
    },
    {
     "name": "stdout",
     "output_type": "stream",
     "text": [
      "[iteration 0076] loss: 57745497201.6000\n",
      "[iteration 0077] loss: 58363479116.8000\n",
      "[iteration 0078] loss: 56445861860.0000\n",
      "[iteration 0079] loss: 55554799994.3500\n",
      "[iteration 0080] loss: 54488596246.8000\n"
     ]
    },
    {
     "name": "stderr",
     "output_type": "stream",
     "text": [
      "Epochs:  54%|█████▍    | 81/150 [00:03<00:02, 25.13it/s]"
     ]
    },
    {
     "name": "stdout",
     "output_type": "stream",
     "text": [
      "[iteration 0081] loss: 52816538089.0500\n"
     ]
    },
    {
     "name": "stderr",
     "output_type": "stream",
     "text": [
      "Epochs:  56%|█████▌    | 84/150 [00:03<00:02, 24.59it/s]"
     ]
    },
    {
     "name": "stdout",
     "output_type": "stream",
     "text": [
      "[iteration 0082] loss: 52973078329.6000\n",
      "[iteration 0083] loss: 51403016260.1750\n",
      "[iteration 0084] loss: 50771136764.3000\n",
      "[iteration 0085] loss: 49358846690.6000\n",
      "[iteration 0086] loss: 48291495763.4406\n"
     ]
    },
    {
     "name": "stderr",
     "output_type": "stream",
     "text": [
      "Epochs:  60%|██████    | 90/150 [00:03<00:02, 25.25it/s]"
     ]
    },
    {
     "name": "stdout",
     "output_type": "stream",
     "text": [
      "[iteration 0087] loss: 49562674465.0000\n",
      "[iteration 0088] loss: 47236883063.8625\n",
      "[iteration 0089] loss: 47359243269.7000\n",
      "[iteration 0090] loss: 45394121258.3500\n",
      "[iteration 0091] loss: 44698206623.1625\n",
      "[iteration 0092] loss: 44793718489.4528\n"
     ]
    },
    {
     "name": "stderr",
     "output_type": "stream",
     "text": [
      "Epochs:  64%|██████▍   | 96/150 [00:03<00:02, 25.13it/s]"
     ]
    },
    {
     "name": "stdout",
     "output_type": "stream",
     "text": [
      "[iteration 0093] loss: 44681227154.4703\n",
      "[iteration 0094] loss: 43460152197.2000\n",
      "[iteration 0095] loss: 43254011371.8375\n",
      "[iteration 0096] loss: 42516668888.6750\n",
      "[iteration 0097] loss: 41446540548.9500\n"
     ]
    },
    {
     "name": "stderr",
     "output_type": "stream",
     "text": [
      "Epochs:  68%|██████▊   | 102/150 [00:04<00:01, 25.30it/s]"
     ]
    },
    {
     "name": "stdout",
     "output_type": "stream",
     "text": [
      "[iteration 0098] loss: 41140976848.8000\n",
      "[iteration 0099] loss: 41769871241.2625\n",
      "[iteration 0100] loss: 39176758845.6000\n",
      "[iteration 0101] loss: 40078077745.8750\n",
      "[iteration 0102] loss: 38741199898.0000\n",
      "[iteration 0103] loss: 38611652297.6000\n"
     ]
    },
    {
     "name": "stderr",
     "output_type": "stream",
     "text": [
      "Epochs:  72%|███████▏  | 108/150 [00:04<00:01, 25.65it/s]"
     ]
    },
    {
     "name": "stdout",
     "output_type": "stream",
     "text": [
      "[iteration 0104] loss: 39435764120.6003\n",
      "[iteration 0105] loss: 37381996374.4000\n",
      "[iteration 0106] loss: 37188644308.8750\n",
      "[iteration 0107] loss: 36144466766.4000\n",
      "[iteration 0108] loss: 36808100234.4000\n",
      "[iteration 0109] loss: 35520295208.2594\n"
     ]
    },
    {
     "name": "stderr",
     "output_type": "stream",
     "text": [
      "Epochs:  76%|███████▌  | 114/150 [00:04<00:01, 26.08it/s]"
     ]
    },
    {
     "name": "stdout",
     "output_type": "stream",
     "text": [
      "[iteration 0110] loss: 37295304004.8000\n",
      "[iteration 0111] loss: 35101658726.4000\n",
      "[iteration 0112] loss: 36134972838.4000\n",
      "[iteration 0113] loss: 37172905520.0000\n",
      "[iteration 0114] loss: 34167394272.0000\n",
      "[iteration 0115] loss: 34543656864.0000\n"
     ]
    },
    {
     "name": "stderr",
     "output_type": "stream",
     "text": [
      "Epochs:  80%|████████  | 120/150 [00:04<00:01, 26.24it/s]"
     ]
    },
    {
     "name": "stdout",
     "output_type": "stream",
     "text": [
      "[iteration 0116] loss: 34595737140.8000\n",
      "[iteration 0117] loss: 32716641068.8000\n",
      "[iteration 0118] loss: 34922396128.0000\n",
      "[iteration 0119] loss: 32642781500.8000\n",
      "[iteration 0120] loss: 33676380102.4000\n",
      "[iteration 0121] loss: 31668415638.4000\n"
     ]
    },
    {
     "name": "stderr",
     "output_type": "stream",
     "text": [
      "Epochs:  84%|████████▍ | 126/150 [00:05<00:00, 26.42it/s]"
     ]
    },
    {
     "name": "stdout",
     "output_type": "stream",
     "text": [
      "[iteration 0122] loss: 32612040262.4000\n",
      "[iteration 0123] loss: 33260132256.0000\n",
      "[iteration 0124] loss: 30570194057.6000\n",
      "[iteration 0125] loss: 29817855833.6000\n",
      "[iteration 0126] loss: 30483376089.6000\n",
      "[iteration 0127] loss: 30450654969.6000\n"
     ]
    },
    {
     "name": "stderr",
     "output_type": "stream",
     "text": [
      "Epochs:  85%|████████▍ | 127/150 [00:05<00:00, 24.98it/s]\n"
     ]
    },
    {
     "name": "stdout",
     "output_type": "stream",
     "text": [
      "Early stopping at epoch 127.\n",
      "Impurity(\n",
      "  (linear): PyroLinear(in_features=769, out_features=1, bias=True)\n",
      ")\n",
      "Impurity(\n",
      "  (linear): PyroLinear(in_features=769, out_features=1, bias=True)\n",
      ")\n"
     ]
    },
    {
     "name": "stderr",
     "output_type": "stream",
     "text": [
      "Epochs:   3%|▎         | 4/150 [00:00<00:03, 39.67it/s]"
     ]
    },
    {
     "name": "stdout",
     "output_type": "stream",
     "text": [
      "[iteration 0001] loss: 236210439782.4000\n",
      "[iteration 0002] loss: 234350443724.8000\n",
      "[iteration 0003] loss: 219545905561.6000\n",
      "[iteration 0004] loss: 215693532364.8000\n",
      "[iteration 0005] loss: 211326013440.0000\n",
      "[iteration 0006] loss: 202966885171.2000\n",
      "[iteration 0007] loss: 203602240307.2000\n"
     ]
    },
    {
     "name": "stderr",
     "output_type": "stream",
     "text": [
      "Epochs:   6%|▌         | 9/150 [00:00<00:03, 40.26it/s]"
     ]
    },
    {
     "name": "stdout",
     "output_type": "stream",
     "text": [
      "[iteration 0008] loss: 197965597900.8000\n",
      "[iteration 0009] loss: 189787752857.6000\n"
     ]
    },
    {
     "name": "stderr",
     "output_type": "stream",
     "text": [
      "Epochs:   9%|▉         | 14/150 [00:00<00:03, 40.56it/s]"
     ]
    },
    {
     "name": "stdout",
     "output_type": "stream",
     "text": [
      "[iteration 0010] loss: 191238215270.4000\n",
      "[iteration 0011] loss: 183414817587.2000\n",
      "[iteration 0012] loss: 185255290470.4000\n",
      "[iteration 0013] loss: 176903652966.4000\n",
      "[iteration 0014] loss: 180084282982.4000\n",
      "[iteration 0015] loss: 171150122188.8000\n",
      "[iteration 0016] loss: 163571553075.2000\n",
      "[iteration 0017] loss: 159435005132.8000\n",
      "[iteration 0018] loss: 159314429132.8000\n"
     ]
    },
    {
     "name": "stderr",
     "output_type": "stream",
     "text": [
      "Epochs:  16%|█▌        | 24/150 [00:00<00:03, 40.51it/s]"
     ]
    },
    {
     "name": "stdout",
     "output_type": "stream",
     "text": [
      "[iteration 0019] loss: 161100704153.6000\n",
      "[iteration 0020] loss: 153342436966.4000\n",
      "[iteration 0021] loss: 149795417702.4000\n",
      "[iteration 0022] loss: 146341221171.2000\n",
      "[iteration 0023] loss: 143478170419.2000\n",
      "[iteration 0024] loss: 138420392345.6000\n",
      "[iteration 0025] loss: 136695540121.6000\n",
      "[iteration 0026] loss: 131765059584.0000\n",
      "[iteration 0027] loss: 129462307225.6000\n"
     ]
    },
    {
     "name": "stderr",
     "output_type": "stream",
     "text": [
      "Epochs:  19%|█▉        | 29/150 [00:00<00:03, 40.20it/s]"
     ]
    },
    {
     "name": "stdout",
     "output_type": "stream",
     "text": [
      "[iteration 0028] loss: 127259559526.4000\n",
      "[iteration 0029] loss: 120904257945.6000\n",
      "[iteration 0030] loss: 126347010867.2000\n",
      "[iteration 0031] loss: 114263006822.4000\n",
      "[iteration 0032] loss: 116496835379.2000\n",
      "[iteration 0033] loss: 112995076915.2000\n"
     ]
    },
    {
     "name": "stderr",
     "output_type": "stream",
     "text": [
      "Epochs:  23%|██▎       | 34/150 [00:00<00:02, 40.48it/s]"
     ]
    },
    {
     "name": "stdout",
     "output_type": "stream",
     "text": [
      "[iteration 0034] loss: 113488720691.2000\n",
      "[iteration 0035] loss: 107420419072.0000\n",
      "[iteration 0036] loss: 109491330662.4000\n"
     ]
    },
    {
     "name": "stderr",
     "output_type": "stream",
     "text": [
      "Epochs:  26%|██▌       | 39/150 [00:00<00:02, 40.23it/s]"
     ]
    },
    {
     "name": "stdout",
     "output_type": "stream",
     "text": [
      "[iteration 0037] loss: 104188978176.0000\n",
      "[iteration 0038] loss: 104492893593.6000\n",
      "[iteration 0039] loss: 103467522457.6000\n",
      "[iteration 0040] loss: 98720324608.0000\n",
      "[iteration 0041] loss: 97658189414.4000\n",
      "[iteration 0042] loss: 98799047680.0000\n"
     ]
    },
    {
     "name": "stderr",
     "output_type": "stream",
     "text": [
      "Epochs:  29%|██▉       | 44/150 [00:01<00:02, 39.11it/s]"
     ]
    },
    {
     "name": "stdout",
     "output_type": "stream",
     "text": [
      "[iteration 0043] loss: 93720071372.8000\n",
      "[iteration 0044] loss: 95076643635.2000\n"
     ]
    },
    {
     "name": "stderr",
     "output_type": "stream",
     "text": [
      "Epochs:  32%|███▏      | 48/150 [00:01<00:02, 38.63it/s]"
     ]
    },
    {
     "name": "stdout",
     "output_type": "stream",
     "text": [
      "[iteration 0045] loss: 90535889305.6000\n",
      "[iteration 0046] loss: 87139516211.2000\n",
      "[iteration 0047] loss: 85761674240.0000\n",
      "[iteration 0048] loss: 84330396876.8000\n",
      "[iteration 0049] loss: 82057884262.4000\n",
      "[iteration 0050] loss: 83545444556.8000\n"
     ]
    },
    {
     "name": "stderr",
     "output_type": "stream",
     "text": [
      "Epochs:  35%|███▍      | 52/150 [00:01<00:02, 37.45it/s]"
     ]
    },
    {
     "name": "stdout",
     "output_type": "stream",
     "text": [
      "[iteration 0051] loss: 78573499187.2000\n",
      "[iteration 0052] loss: 78218616627.2000\n"
     ]
    },
    {
     "name": "stderr",
     "output_type": "stream",
     "text": [
      "Epochs:  38%|███▊      | 57/150 [00:01<00:02, 38.13it/s]"
     ]
    },
    {
     "name": "stdout",
     "output_type": "stream",
     "text": [
      "[iteration 0053] loss: 77837920563.2000\n",
      "[iteration 0054] loss: 74132605337.6000\n",
      "[iteration 0055] loss: 71266543104.0000\n",
      "[iteration 0056] loss: 70804271616.0000\n",
      "[iteration 0057] loss: 71523267072.0000\n",
      "[iteration 0058] loss: 67970908569.6000\n",
      "[iteration 0059] loss: 67182302412.8000\n",
      "[iteration 0060] loss: 66620994764.8000\n"
     ]
    },
    {
     "name": "stderr",
     "output_type": "stream",
     "text": [
      "Epochs:  44%|████▍     | 66/150 [00:01<00:02, 39.25it/s]"
     ]
    },
    {
     "name": "stdout",
     "output_type": "stream",
     "text": [
      "[iteration 0061] loss: 64959263539.2000\n",
      "[iteration 0062] loss: 62256058060.8000\n",
      "[iteration 0063] loss: 63594038681.6000\n",
      "[iteration 0064] loss: 62577135513.6000\n",
      "[iteration 0065] loss: 60484809932.8000\n",
      "[iteration 0066] loss: 58798033868.8000\n",
      "[iteration 0067] loss: 57065990553.6000\n",
      "[iteration 0068] loss: 57080026316.8000\n",
      "[iteration 0069] loss: 56445829632.0000\n"
     ]
    },
    {
     "name": "stderr",
     "output_type": "stream",
     "text": [
      "Epochs:  50%|█████     | 75/150 [00:01<00:01, 39.94it/s]"
     ]
    },
    {
     "name": "stdout",
     "output_type": "stream",
     "text": [
      "[iteration 0070] loss: 55286207180.8000\n",
      "[iteration 0071] loss: 55368735590.4000\n",
      "[iteration 0072] loss: 52020792576.0000\n",
      "[iteration 0073] loss: 53969400576.0000\n",
      "[iteration 0074] loss: 52237778892.8000\n",
      "[iteration 0075] loss: 51590815641.6000\n",
      "[iteration 0076] loss: 51134370560.0000\n",
      "[iteration 0077] loss: 49429727180.8000\n",
      "[iteration 0078] loss: 49543407974.4000\n"
     ]
    },
    {
     "name": "stderr",
     "output_type": "stream",
     "text": [
      "Epochs:  56%|█████▌    | 84/150 [00:02<00:01, 40.43it/s]"
     ]
    },
    {
     "name": "stdout",
     "output_type": "stream",
     "text": [
      "[iteration 0079] loss: 47843442841.6000\n",
      "[iteration 0080] loss: 47674667545.6000\n",
      "[iteration 0081] loss: 45536293171.2000\n",
      "[iteration 0082] loss: 45999333939.2000\n",
      "[iteration 0083] loss: 44498180812.8000\n",
      "[iteration 0084] loss: 44069244006.4000\n",
      "[iteration 0085] loss: 42370117580.8000\n",
      "[iteration 0086] loss: 44591137740.8000\n",
      "[iteration 0087] loss: 41797110451.2000\n"
     ]
    },
    {
     "name": "stderr",
     "output_type": "stream",
     "text": [
      "Epochs:  59%|█████▉    | 89/150 [00:02<00:01, 40.15it/s]"
     ]
    },
    {
     "name": "stdout",
     "output_type": "stream",
     "text": [
      "[iteration 0088] loss: 42101366451.2000\n",
      "[iteration 0089] loss: 41761505689.6000\n",
      "[iteration 0090] loss: 40985297766.4000\n",
      "[iteration 0091] loss: 39716340608.0000\n",
      "[iteration 0092] loss: 39170558566.4000\n",
      "[iteration 0093] loss: 39162162355.2000\n"
     ]
    },
    {
     "name": "stderr",
     "output_type": "stream",
     "text": [
      "Epochs:  63%|██████▎   | 94/150 [00:02<00:01, 40.48it/s]"
     ]
    },
    {
     "name": "stdout",
     "output_type": "stream",
     "text": [
      "[iteration 0094] loss: 38201142374.4000\n",
      "[iteration 0095] loss: 38210708275.2000\n",
      "[iteration 0096] loss: 37136460620.8000\n"
     ]
    },
    {
     "name": "stderr",
     "output_type": "stream",
     "text": [
      "Epochs:  66%|██████▌   | 99/150 [00:02<00:01, 40.38it/s]"
     ]
    },
    {
     "name": "stdout",
     "output_type": "stream",
     "text": [
      "[iteration 0097] loss: 35601227136.0000\n",
      "[iteration 0098] loss: 35370257382.4000\n",
      "[iteration 0099] loss: 36846229248.0000\n",
      "[iteration 0100] loss: 36460595481.6000\n",
      "[iteration 0101] loss: 34233255910.4000\n",
      "[iteration 0102] loss: 32879550016.0000\n",
      "[iteration 0103] loss: 34394112441.6000\n"
     ]
    },
    {
     "name": "stderr",
     "output_type": "stream",
     "text": [
      "Epochs:  69%|██████▉   | 104/150 [00:02<00:01, 38.81it/s]\n"
     ]
    },
    {
     "name": "stdout",
     "output_type": "stream",
     "text": [
      "[iteration 0104] loss: 34908767795.2000\n",
      "Early stopping at epoch 104.\n",
      "Impurity(\n",
      "  (linear): PyroLinear(in_features=769, out_features=1, bias=True)\n",
      ")\n",
      "Impurity(\n",
      "  (linear): PyroLinear(in_features=769, out_features=1, bias=True)\n",
      ")\n"
     ]
    },
    {
     "name": "stderr",
     "output_type": "stream",
     "text": [
      "Epochs:   3%|▎         | 5/150 [00:00<00:03, 44.19it/s]"
     ]
    },
    {
     "name": "stdout",
     "output_type": "stream",
     "text": [
      "[iteration 0001] loss: 199549006028.8000\n",
      "[iteration 0002] loss: 192258239078.4000\n",
      "[iteration 0003] loss: 191591877836.8000\n",
      "[iteration 0004] loss: 187646202880.0000\n",
      "[iteration 0005] loss: 182875631615.9999\n",
      "[iteration 0006] loss: 178938903961.6000\n",
      "[iteration 0007] loss: 171605550284.8000\n",
      "[iteration 0008] loss: 172529616281.6000\n",
      "[iteration 0009] loss: 172091974246.4000\n"
     ]
    },
    {
     "name": "stderr",
     "output_type": "stream",
     "text": [
      "Epochs:   7%|▋         | 10/150 [00:00<00:03, 43.83it/s]"
     ]
    },
    {
     "name": "stdout",
     "output_type": "stream",
     "text": [
      "[iteration 0010] loss: 162664975769.6000\n",
      "[iteration 0011] loss: 165149880934.4000\n",
      "[iteration 0012] loss: 163809627545.6000\n",
      "[iteration 0013] loss: 150659312435.2000\n",
      "[iteration 0014] loss: 155735278592.0000\n"
     ]
    },
    {
     "name": "stderr",
     "output_type": "stream",
     "text": [
      "Epochs:  10%|█         | 15/150 [00:00<00:03, 44.38it/s]"
     ]
    },
    {
     "name": "stdout",
     "output_type": "stream",
     "text": [
      "[iteration 0015] loss: 151653611315.2000\n",
      "[iteration 0016] loss: 142492027699.2000\n",
      "[iteration 0017] loss: 145700397260.8000\n",
      "[iteration 0018] loss: 144103703142.4000\n"
     ]
    },
    {
     "name": "stderr",
     "output_type": "stream",
     "text": [
      "Epochs:  13%|█▎        | 20/150 [00:00<00:02, 44.05it/s]"
     ]
    },
    {
     "name": "stdout",
     "output_type": "stream",
     "text": [
      "[iteration 0019] loss: 141765126758.4000\n",
      "[iteration 0020] loss: 139537074790.4000\n",
      "[iteration 0021] loss: 134021247385.6000\n",
      "[iteration 0022] loss: 138111553126.4000\n",
      "[iteration 0023] loss: 129477704294.4000\n"
     ]
    },
    {
     "name": "stderr",
     "output_type": "stream",
     "text": [
      "Epochs:  17%|█▋        | 25/150 [00:00<00:02, 44.12it/s]"
     ]
    },
    {
     "name": "stdout",
     "output_type": "stream",
     "text": [
      "[iteration 0024] loss: 129487804620.8000\n",
      "[iteration 0025] loss: 126253819289.6000\n",
      "[iteration 0026] loss: 126250140876.8000\n",
      "[iteration 0027] loss: 123377185587.2000\n"
     ]
    },
    {
     "name": "stderr",
     "output_type": "stream",
     "text": [
      "Epochs:  20%|██        | 30/150 [00:00<00:02, 43.62it/s]"
     ]
    },
    {
     "name": "stdout",
     "output_type": "stream",
     "text": [
      "[iteration 0028] loss: 124430685184.0000\n",
      "[iteration 0029] loss: 119812589158.4000\n",
      "[iteration 0030] loss: 117676772761.6000\n",
      "[iteration 0031] loss: 113621022515.2000\n",
      "[iteration 0032] loss: 110781585203.2000\n",
      "[iteration 0033] loss: 112464440320.0000\n",
      "[iteration 0034] loss: 108578295808.0000\n"
     ]
    },
    {
     "name": "stderr",
     "output_type": "stream",
     "text": [
      "Epochs:  23%|██▎       | 35/150 [00:00<00:02, 43.66it/s]"
     ]
    },
    {
     "name": "stdout",
     "output_type": "stream",
     "text": [
      "[iteration 0035] loss: 106047053619.2000\n",
      "[iteration 0036] loss: 102240083353.6000\n"
     ]
    },
    {
     "name": "stderr",
     "output_type": "stream",
     "text": [
      "Epochs:  27%|██▋       | 40/150 [00:00<00:02, 43.63it/s]"
     ]
    },
    {
     "name": "stdout",
     "output_type": "stream",
     "text": [
      "[iteration 0037] loss: 104582843596.8000\n",
      "[iteration 0038] loss: 99079746662.4000\n",
      "[iteration 0039] loss: 100035956224.0000\n",
      "[iteration 0040] loss: 99151649996.8000\n",
      "[iteration 0041] loss: 96231683379.2000\n",
      "[iteration 0042] loss: 92671099904.0000\n",
      "[iteration 0043] loss: 90283787366.4000\n"
     ]
    },
    {
     "name": "stderr",
     "output_type": "stream",
     "text": [
      "Epochs:  30%|███       | 45/150 [00:01<00:02, 43.51it/s]"
     ]
    },
    {
     "name": "stdout",
     "output_type": "stream",
     "text": [
      "[iteration 0044] loss: 89300970393.6000\n",
      "[iteration 0045] loss: 87471646720.0000\n"
     ]
    },
    {
     "name": "stderr",
     "output_type": "stream",
     "text": [
      "Epochs:  33%|███▎      | 50/150 [00:01<00:02, 43.60it/s]"
     ]
    },
    {
     "name": "stdout",
     "output_type": "stream",
     "text": [
      "[iteration 0046] loss: 89255489228.8000\n",
      "[iteration 0047] loss: 87106083840.0000\n",
      "[iteration 0048] loss: 85328950886.4000\n",
      "[iteration 0049] loss: 81203926220.8000\n",
      "[iteration 0050] loss: 82741102080.0000\n",
      "[iteration 0051] loss: 79441023897.6000\n",
      "[iteration 0052] loss: 79411077222.4000\n",
      "[iteration 0053] loss: 77919326003.2000\n",
      "[iteration 0054] loss: 77704680140.8000\n"
     ]
    },
    {
     "name": "stderr",
     "output_type": "stream",
     "text": [
      "Epochs:  37%|███▋      | 55/150 [00:01<00:02, 43.51it/s]"
     ]
    },
    {
     "name": "stdout",
     "output_type": "stream",
     "text": [
      "[iteration 0055] loss: 75805391667.2000\n",
      "[iteration 0056] loss: 74048604364.8000\n",
      "[iteration 0057] loss: 73088192204.8000\n",
      "[iteration 0058] loss: 70482501632.0000\n",
      "[iteration 0059] loss: 72621379379.2000\n"
     ]
    },
    {
     "name": "stderr",
     "output_type": "stream",
     "text": [
      "Epochs:  40%|████      | 60/150 [00:01<00:02, 43.82it/s]"
     ]
    },
    {
     "name": "stdout",
     "output_type": "stream",
     "text": [
      "[iteration 0060] loss: 69512794521.6000\n",
      "[iteration 0061] loss: 68844375552.0000\n",
      "[iteration 0062] loss: 68764677632.0000\n",
      "[iteration 0063] loss: 67588468019.2000\n"
     ]
    },
    {
     "name": "stderr",
     "output_type": "stream",
     "text": [
      "Epochs:  43%|████▎     | 65/150 [00:01<00:01, 43.48it/s]"
     ]
    },
    {
     "name": "stdout",
     "output_type": "stream",
     "text": [
      "[iteration 0064] loss: 63042245324.8000\n",
      "[iteration 0065] loss: 62201000140.8000\n",
      "[iteration 0066] loss: 63215320064.0000\n",
      "[iteration 0067] loss: 60255221452.8000\n",
      "[iteration 0068] loss: 59748197888.0000\n"
     ]
    },
    {
     "name": "stderr",
     "output_type": "stream",
     "text": [
      "Epochs:  47%|████▋     | 70/150 [00:01<00:01, 43.52it/s]"
     ]
    },
    {
     "name": "stdout",
     "output_type": "stream",
     "text": [
      "[iteration 0069] loss: 62283967897.6000\n",
      "[iteration 0070] loss: 56990770688.0000\n",
      "[iteration 0071] loss: 58083580825.6000\n",
      "[iteration 0072] loss: 54946903244.8000\n"
     ]
    },
    {
     "name": "stderr",
     "output_type": "stream",
     "text": [
      "Epochs:  50%|█████     | 75/150 [00:01<00:01, 43.03it/s]"
     ]
    },
    {
     "name": "stdout",
     "output_type": "stream",
     "text": [
      "[iteration 0073] loss: 53078208512.0000\n",
      "[iteration 0074] loss: 56192073625.6000\n",
      "[iteration 0075] loss: 52972058624.0000\n",
      "[iteration 0076] loss: 52907155763.2000\n",
      "[iteration 0077] loss: 53008405094.4000\n",
      "[iteration 0078] loss: 49087801344.0000\n",
      "[iteration 0079] loss: 51345086361.6000\n"
     ]
    },
    {
     "name": "stderr",
     "output_type": "stream",
     "text": [
      "Epochs:  53%|█████▎    | 80/150 [00:01<00:01, 42.88it/s]"
     ]
    },
    {
     "name": "stdout",
     "output_type": "stream",
     "text": [
      "[iteration 0080] loss: 48746245222.4000\n",
      "[iteration 0081] loss: 47911823257.6000\n"
     ]
    },
    {
     "name": "stderr",
     "output_type": "stream",
     "text": [
      "Epochs:  57%|█████▋    | 85/150 [00:01<00:01, 42.83it/s]"
     ]
    },
    {
     "name": "stdout",
     "output_type": "stream",
     "text": [
      "[iteration 0082] loss: 46338199654.4000\n",
      "[iteration 0083] loss: 48692363571.2000\n",
      "[iteration 0084] loss: 47696307507.2000\n",
      "[iteration 0085] loss: 43474193612.8000\n",
      "[iteration 0086] loss: 43733336268.8000\n",
      "[iteration 0087] loss: 43342284492.8000\n",
      "[iteration 0088] loss: 42420767846.4000\n"
     ]
    },
    {
     "name": "stderr",
     "output_type": "stream",
     "text": [
      "Epochs:  60%|██████    | 90/150 [00:02<00:01, 42.69it/s]"
     ]
    },
    {
     "name": "stdout",
     "output_type": "stream",
     "text": [
      "[iteration 0089] loss: 43896875827.2000\n",
      "[iteration 0090] loss: 41812301926.4000\n"
     ]
    },
    {
     "name": "stderr",
     "output_type": "stream",
     "text": [
      "Epochs:  63%|██████▎   | 95/150 [00:02<00:01, 42.69it/s]"
     ]
    },
    {
     "name": "stdout",
     "output_type": "stream",
     "text": [
      "[iteration 0091] loss: 42106319257.6000\n",
      "[iteration 0092] loss: 42904901836.8000\n",
      "[iteration 0093] loss: 40189944012.8000\n",
      "[iteration 0094] loss: 40179671654.4000\n",
      "[iteration 0095] loss: 38565527756.8000\n",
      "[iteration 0096] loss: 38262706790.4000\n",
      "[iteration 0097] loss: 39469456281.6000\n",
      "[iteration 0098] loss: 36873716838.4000\n",
      "[iteration 0099] loss: 36397450547.2000\n"
     ]
    },
    {
     "name": "stderr",
     "output_type": "stream",
     "text": [
      "Epochs:  67%|██████▋   | 100/150 [00:02<00:01, 42.67it/s]"
     ]
    },
    {
     "name": "stdout",
     "output_type": "stream",
     "text": [
      "[iteration 0100] loss: 35486893875.2000\n",
      "[iteration 0101] loss: 37442801459.2000\n",
      "[iteration 0102] loss: 36316128460.8000\n",
      "[iteration 0103] loss: 34367056691.2000\n",
      "[iteration 0104] loss: 33981726515.2000\n"
     ]
    },
    {
     "name": "stderr",
     "output_type": "stream",
     "text": [
      "Epochs:  70%|███████   | 105/150 [00:02<00:01, 42.97it/s]"
     ]
    },
    {
     "name": "stdout",
     "output_type": "stream",
     "text": [
      "[iteration 0105] loss: 33746001920.0000\n",
      "[iteration 0106] loss: 33932425318.4000\n",
      "[iteration 0107] loss: 32184433459.2000\n",
      "[iteration 0108] loss: 31268849971.2000\n"
     ]
    },
    {
     "name": "stderr",
     "output_type": "stream",
     "text": [
      "Epochs:  73%|███████▎  | 110/150 [00:02<00:00, 42.75it/s]"
     ]
    },
    {
     "name": "stdout",
     "output_type": "stream",
     "text": [
      "[iteration 0109] loss: 29856680960.0000\n",
      "[iteration 0110] loss: 31627646668.8000\n",
      "[iteration 0111] loss: 31471384473.6000\n",
      "[iteration 0112] loss: 29573393715.2000\n",
      "[iteration 0113] loss: 30263715635.2000\n"
     ]
    },
    {
     "name": "stderr",
     "output_type": "stream",
     "text": [
      "Epochs:  77%|███████▋  | 115/150 [00:02<00:00, 43.08it/s]"
     ]
    },
    {
     "name": "stdout",
     "output_type": "stream",
     "text": [
      "[iteration 0114] loss: 28542696243.2000\n",
      "[iteration 0115] loss: 29421019340.8000\n"
     ]
    },
    {
     "name": "stderr",
     "output_type": "stream",
     "text": [
      "Epochs:  77%|███████▋  | 116/150 [00:02<00:00, 42.91it/s]\n"
     ]
    },
    {
     "name": "stdout",
     "output_type": "stream",
     "text": [
      "[iteration 0116] loss: 28797788979.2000\n",
      "Early stopping at epoch 116.\n",
      "Impurity(\n",
      "  (linear): PyroLinear(in_features=769, out_features=1, bias=True)\n",
      ")\n",
      "Impurity(\n",
      "  (linear): PyroLinear(in_features=769, out_features=1, bias=True)\n",
      ")\n"
     ]
    },
    {
     "name": "stderr",
     "output_type": "stream",
     "text": [
      "Epochs:   2%|▏         | 3/150 [00:00<00:05, 24.79it/s]"
     ]
    },
    {
     "name": "stdout",
     "output_type": "stream",
     "text": [
      "[iteration 0001] loss: 94783300761.6000\n",
      "[iteration 0002] loss: 88538930649.6000\n",
      "[iteration 0003] loss: 84239279616.0000\n",
      "[iteration 0004] loss: 76675478182.4000\n"
     ]
    },
    {
     "name": "stderr",
     "output_type": "stream",
     "text": [
      "Epochs:   4%|▍         | 6/150 [00:00<00:05, 24.64it/s]"
     ]
    },
    {
     "name": "stdout",
     "output_type": "stream",
     "text": [
      "[iteration 0005] loss: 75285250764.8000\n",
      "[iteration 0006] loss: 67487586419.2000\n"
     ]
    },
    {
     "name": "stderr",
     "output_type": "stream",
     "text": [
      "Epochs:   6%|▌         | 9/150 [00:00<00:05, 25.14it/s]"
     ]
    },
    {
     "name": "stdout",
     "output_type": "stream",
     "text": [
      "[iteration 0007] loss: 65708374533.2000\n",
      "[iteration 0008] loss: 57426260644.6000\n",
      "[iteration 0009] loss: 55972241339.6000\n",
      "[iteration 0010] loss: 52651953527.5500\n"
     ]
    },
    {
     "name": "stderr",
     "output_type": "stream",
     "text": [
      "Epochs:   8%|▊         | 12/150 [00:00<00:05, 24.92it/s]"
     ]
    },
    {
     "name": "stdout",
     "output_type": "stream",
     "text": [
      "[iteration 0011] loss: 48400613137.5332\n",
      "[iteration 0012] loss: 42273048232.6562\n"
     ]
    },
    {
     "name": "stderr",
     "output_type": "stream",
     "text": [
      "Epochs:  10%|█         | 15/150 [00:00<00:05, 25.19it/s]"
     ]
    },
    {
     "name": "stdout",
     "output_type": "stream",
     "text": [
      "[iteration 0013] loss: 44280612114.5000\n",
      "[iteration 0014] loss: 41335348991.1016\n",
      "[iteration 0015] loss: 37350890158.2000\n",
      "[iteration 0016] loss: 37480535302.7656\n"
     ]
    },
    {
     "name": "stderr",
     "output_type": "stream",
     "text": [
      "Epochs:  12%|█▏        | 18/150 [00:00<00:05, 25.10it/s]"
     ]
    },
    {
     "name": "stdout",
     "output_type": "stream",
     "text": [
      "[iteration 0017] loss: 33318228065.6000\n",
      "[iteration 0018] loss: 33339686233.6000\n"
     ]
    },
    {
     "name": "stderr",
     "output_type": "stream",
     "text": [
      "Epochs:  14%|█▍        | 21/150 [00:00<00:05, 25.30it/s]"
     ]
    },
    {
     "name": "stdout",
     "output_type": "stream",
     "text": [
      "[iteration 0019] loss: 30487018268.8000\n",
      "[iteration 0020] loss: 28064407443.2000\n",
      "[iteration 0021] loss: 26535452604.8000\n",
      "[iteration 0022] loss: 26621960027.2000\n"
     ]
    },
    {
     "name": "stderr",
     "output_type": "stream",
     "text": [
      "Epochs:  16%|█▌        | 24/150 [00:00<00:05, 25.20it/s]"
     ]
    },
    {
     "name": "stdout",
     "output_type": "stream",
     "text": [
      "[iteration 0023] loss: 25786738227.2000\n",
      "[iteration 0024] loss: 26721885721.6000\n"
     ]
    },
    {
     "name": "stderr",
     "output_type": "stream",
     "text": [
      "Epochs:  18%|█▊        | 27/150 [00:01<00:04, 25.37it/s]"
     ]
    },
    {
     "name": "stdout",
     "output_type": "stream",
     "text": [
      "[iteration 0025] loss: 22765961190.4000\n",
      "[iteration 0026] loss: 22672943641.6000\n",
      "[iteration 0027] loss: 21915687424.0000\n",
      "[iteration 0028] loss: 19663054252.8000\n"
     ]
    },
    {
     "name": "stderr",
     "output_type": "stream",
     "text": [
      "Epochs:  20%|██        | 30/150 [00:01<00:04, 25.17it/s]"
     ]
    },
    {
     "name": "stdout",
     "output_type": "stream",
     "text": [
      "[iteration 0029] loss: 21379569075.2000\n",
      "[iteration 0030] loss: 20312805760.0000\n"
     ]
    },
    {
     "name": "stderr",
     "output_type": "stream",
     "text": [
      "Epochs:  20%|██        | 30/150 [00:01<00:04, 24.29it/s]\n"
     ]
    },
    {
     "name": "stdout",
     "output_type": "stream",
     "text": [
      "Early stopping at epoch 30.\n",
      "Impurity(\n",
      "  (linear): PyroLinear(in_features=769, out_features=1, bias=True)\n",
      ")\n",
      "Impurity(\n",
      "  (linear): PyroLinear(in_features=769, out_features=1, bias=True)\n",
      ")\n"
     ]
    },
    {
     "name": "stderr",
     "output_type": "stream",
     "text": [
      "Epochs:   2%|▏         | 3/150 [00:00<00:02, 53.45it/s]\n"
     ]
    },
    {
     "name": "stdout",
     "output_type": "stream",
     "text": [
      "[iteration 0001] loss: 57516314624.0000\n",
      "[iteration 0002] loss: 60297714073.6000\n",
      "[iteration 0003] loss: 60941060096.0000\n",
      "Early stopping at epoch 3.\n",
      "Impurity(\n",
      "  (linear): PyroLinear(in_features=769, out_features=1, bias=True)\n",
      ")\n",
      "Impurity(\n",
      "  (linear): PyroLinear(in_features=769, out_features=1, bias=True)\n",
      ")\n"
     ]
    },
    {
     "name": "stderr",
     "output_type": "stream",
     "text": [
      "Epochs:   0%|          | 0/150 [00:00<?, ?it/s]"
     ]
    },
    {
     "name": "stdout",
     "output_type": "stream",
     "text": [
      "[iteration 0001] loss: 52657904025.6000\n"
     ]
    },
    {
     "name": "stderr",
     "output_type": "stream",
     "text": [
      "Epochs:   3%|▎         | 4/150 [00:00<00:04, 35.98it/s]"
     ]
    },
    {
     "name": "stdout",
     "output_type": "stream",
     "text": [
      "[iteration 0002] loss: 47814953881.6000\n",
      "[iteration 0003] loss: 45227305113.6000\n",
      "[iteration 0004] loss: 45302517760.0000\n",
      "[iteration 0005] loss: 40804395571.2000\n"
     ]
    },
    {
     "name": "stderr",
     "output_type": "stream",
     "text": [
      "Epochs:   5%|▌         | 8/150 [00:00<00:03, 36.05it/s]"
     ]
    },
    {
     "name": "stdout",
     "output_type": "stream",
     "text": [
      "[iteration 0006] loss: 38970459776.0000\n",
      "[iteration 0007] loss: 36758506649.6000\n",
      "[iteration 0008] loss: 34738002099.2000\n",
      "[iteration 0009] loss: 32328874470.4000\n"
     ]
    },
    {
     "name": "stderr",
     "output_type": "stream",
     "text": [
      "Epochs:   8%|▊         | 12/150 [00:00<00:03, 36.22it/s]"
     ]
    },
    {
     "name": "stdout",
     "output_type": "stream",
     "text": [
      "[iteration 0010] loss: 32344936294.4000\n",
      "[iteration 0011] loss: 29506922880.0000\n",
      "[iteration 0012] loss: 27458602649.6000\n",
      "[iteration 0013] loss: 25209539097.6000\n"
     ]
    },
    {
     "name": "stderr",
     "output_type": "stream",
     "text": [
      "Epochs:  11%|█         | 16/150 [00:00<00:03, 36.28it/s]"
     ]
    },
    {
     "name": "stdout",
     "output_type": "stream",
     "text": [
      "[iteration 0014] loss: 22863103526.4000\n",
      "[iteration 0015] loss: 23805054918.4000\n",
      "[iteration 0016] loss: 20470678556.8000\n",
      "[iteration 0017] loss: 20238092076.8000\n",
      "[iteration 0018] loss: 16455210131.2000\n",
      "[iteration 0019] loss: 17405704809.6000\n"
     ]
    },
    {
     "name": "stderr",
     "output_type": "stream",
     "text": [
      "Epochs:  13%|█▎        | 20/150 [00:00<00:03, 35.08it/s]"
     ]
    },
    {
     "name": "stdout",
     "output_type": "stream",
     "text": [
      "[iteration 0020] loss: 16777000217.6000\n"
     ]
    },
    {
     "name": "stderr",
     "output_type": "stream",
     "text": [
      "Epochs:  16%|█▌        | 24/150 [00:00<00:03, 35.66it/s]"
     ]
    },
    {
     "name": "stdout",
     "output_type": "stream",
     "text": [
      "[iteration 0021] loss: 14159605076.0000\n",
      "[iteration 0022] loss: 14420828500.0000\n",
      "[iteration 0023] loss: 13596438196.8000\n",
      "[iteration 0024] loss: 13685281742.0082\n",
      "[iteration 0025] loss: 11007360460.8000\n",
      "[iteration 0026] loss: 10261789216.0000\n",
      "[iteration 0027] loss: 11718685532.0000\n"
     ]
    },
    {
     "name": "stderr",
     "output_type": "stream",
     "text": [
      "Epochs:  19%|█▊        | 28/150 [00:00<00:03, 35.87it/s]"
     ]
    },
    {
     "name": "stdout",
     "output_type": "stream",
     "text": [
      "[iteration 0028] loss: 11006151948.0000\n"
     ]
    },
    {
     "name": "stderr",
     "output_type": "stream",
     "text": [
      "Epochs:  19%|█▊        | 28/150 [00:00<00:03, 34.53it/s]"
     ]
    },
    {
     "name": "stdout",
     "output_type": "stream",
     "text": [
      "Early stopping at epoch 28.\n",
      "Impurity(\n",
      "  (linear): PyroLinear(in_features=769, out_features=1, bias=True)\n",
      ")\n"
     ]
    },
    {
     "name": "stderr",
     "output_type": "stream",
     "text": [
      "\n"
     ]
    }
   ],
   "source": [
    "model = VSpyct(max_depth=3, bs=64)\n",
    "model.fit(X_train, y_train)#, clustering_data=torch.cat((X_train, y_train), axis=1))"
   ]
  },
  {
   "cell_type": "code",
   "execution_count": 9,
   "metadata": {},
   "outputs": [],
   "source": [
    "preds = model.predict(X_test)"
   ]
  },
  {
   "cell_type": "code",
   "execution_count": 10,
   "metadata": {},
   "outputs": [
    {
     "data": {
      "text/plain": [
       "torch.Size([84, 30, 4795])"
      ]
     },
     "execution_count": 10,
     "metadata": {},
     "output_type": "execute_result"
    }
   ],
   "source": [
    "preds.shape"
   ]
  },
  {
   "cell_type": "code",
   "execution_count": 14,
   "metadata": {},
   "outputs": [],
   "source": [
    "from spyct import Model"
   ]
  },
  {
   "cell_type": "code",
   "execution_count": 15,
   "metadata": {},
   "outputs": [],
   "source": [
    "spyct_model_onetree = Model(num_trees=1)\n",
    "spyct_model_onetree.fit(X_train.numpy(), y_train.numpy())\n",
    "preds_spyct_onetree = spyct_model_onetree.predict(X_test.numpy())"
   ]
  },
  {
   "cell_type": "code",
   "execution_count": 16,
   "metadata": {},
   "outputs": [],
   "source": [
    "spyct_model = Model()\n",
    "spyct_model.fit(X_train.numpy(), y_train.numpy())\n",
    "preds_spyct = spyct_model.predict(X_test.numpy())"
   ]
  },
  {
   "cell_type": "code",
   "execution_count": 30,
   "metadata": {},
   "outputs": [
    {
     "data": {
      "text/plain": [
       "1191.0"
      ]
     },
     "execution_count": 30,
     "metadata": {},
     "output_type": "execute_result"
    }
   ],
   "source": [
    "torch.nansum(y_test[i]).item()"
   ]
  },
  {
   "cell_type": "code",
   "execution_count": 42,
   "metadata": {},
   "outputs": [
    {
     "data": {
      "text/plain": [
       "<matplotlib.legend.Legend at 0x2a400cca0>"
      ]
     },
     "execution_count": 42,
     "metadata": {},
     "output_type": "execute_result"
    },
    {
     "data": {
      "image/png": "[encoded data removed]",
      "text/plain": [
       "<Figure size 1500x500 with 1 Axes>"
      ]
     },
     "metadata": {},
     "output_type": "display_data"
    }
   ],
   "source": [
    "i = 33\n",
    "plt.figure(figsize=(15,5))\n",
    "plt.plot(preds_spyct[i, :], label='SPYCT')\n",
    "plt.plot(preds[i, :, :].mean(axis=0), label='Variational SPYCT')\n",
    "\n",
    "percentiles_10 = torch.quantile(preds[i, :, :], 0.1, axis=0)\n",
    "percentiles_90 = torch.quantile(preds[i, :, :], 0.9, axis=0)\n",
    "\n",
    "plt.fill_between(range(preds.shape[-1]), percentiles_10, percentiles_90, color='pink', alpha=0.8)\n",
    "\n",
    "plt.axvline(torch.nansum(y_test[i]).item(), color='black')\n",
    "\n",
    "plt.legend()"
   ]
  },
  {
   "cell_type": "code",
   "execution_count": 19,
   "metadata": {},
   "outputs": [
    {
     "data": {
      "image/png": "[encoded data removed]",
      "text/plain": [
       "<Figure size 1500x500 with 1 Axes>"
      ]
     },
     "metadata": {},
     "output_type": "display_data"
    }
   ],
   "source": [
    "plot_brier(preds, preds_spyct_onetree, y_test)"
   ]
  },
  {
   "cell_type": "code",
   "execution_count": 20,
   "metadata": {},
   "outputs": [
    {
     "data": {
      "image/png": "[encoded data removed]",
      "text/plain": [
       "<Figure size 1500x500 with 1 Axes>"
      ]
     },
     "metadata": {},
     "output_type": "display_data"
    }
   ],
   "source": [
    "plot_brier(preds, preds_spyct, y_test)"
   ]
  },
  {
   "cell_type": "code",
   "execution_count": 17,
   "metadata": {},
   "outputs": [],
   "source": [
    "X_train, T_train, E_train, X_test, T_test, E_test = data.pysurvival_split()"
   ]
  },
  {
   "cell_type": "code",
   "execution_count": 18,
   "metadata": {},
   "outputs": [
    {
     "name": "stdout",
     "output_type": "stream",
     "text": [
      "Performing Newton-Raphson optimization\n",
      " * Iteration #1 - Loss = 714.551 - ||grad||^2 = 404.22307\n",
      " * Iteration #2 - Loss = 698.182 - ||grad||^2 = 399.76632\n",
      " * Iteration #3 - Loss = 688.456 - ||grad||^2 = 395.63918\n",
      " * Iteration #4 - Loss = 679.989 - ||grad||^2 = 391.58569\n",
      " * Iteration #5 - Loss = 672.359 - ||grad||^2 = 387.59254\n",
      " * Iteration #6 - Loss = 665.347 - ||grad||^2 = 383.65324\n",
      " * Iteration #7 - Loss = 658.821 - ||grad||^2 = 379.76382\n",
      " * Iteration #8 - Loss = 652.692 - ||grad||^2 = 375.92157\n",
      " * Iteration #9 - Loss = 646.897 - ||grad||^2 = 372.12447\n",
      " * Iteration #10 - Loss = 641.387 - ||grad||^2 = 368.37093\n",
      " * Iteration #11 - Loss = 636.125 - ||grad||^2 = 364.65965\n",
      " * Iteration #12 - Loss = 631.082 - ||grad||^2 = 360.98954\n",
      " * Iteration #13 - Loss = 626.233 - ||grad||^2 = 357.35965\n",
      " * Iteration #14 - Loss = 621.560 - ||grad||^2 = 353.76914\n",
      " * Iteration #15 - Loss = 617.044 - ||grad||^2 = 350.21724\n",
      " * Iteration #16 - Loss = 612.672 - ||grad||^2 = 346.70326\n",
      " * Iteration #17 - Loss = 608.432 - ||grad||^2 = 343.22657\n",
      " * Iteration #18 - Loss = 604.313 - ||grad||^2 = 339.78656\n",
      " * Iteration #19 - Loss = 600.307 - ||grad||^2 = 336.38268\n",
      " * Iteration #20 - Loss = 596.404 - ||grad||^2 = 333.01440\n",
      " * Iteration #21 - Loss = 592.597 - ||grad||^2 = 329.68122\n",
      " * Iteration #22 - Loss = 588.881 - ||grad||^2 = 326.38264\n",
      " * Iteration #23 - Loss = 585.250 - ||grad||^2 = 323.11822\n",
      " * Iteration #24 - Loss = 581.698 - ||grad||^2 = 319.88751\n",
      " * Iteration #25 - Loss = 578.221 - ||grad||^2 = 316.69007\n",
      " * Iteration #26 - Loss = 574.814 - ||grad||^2 = 313.52550\n",
      " * Iteration #27 - Loss = 571.474 - ||grad||^2 = 310.39339\n",
      " * Iteration #28 - Loss = 568.197 - ||grad||^2 = 307.29334\n",
      " * Iteration #29 - Loss = 564.979 - ||grad||^2 = 304.22498\n",
      " * Iteration #30 - Loss = 561.819 - ||grad||^2 = 301.18793\n",
      " * Iteration #31 - Loss = 558.713 - ||grad||^2 = 298.18183\n",
      " * Iteration #32 - Loss = 555.658 - ||grad||^2 = 295.20632\n",
      " * Iteration #33 - Loss = 552.652 - ||grad||^2 = 292.26105\n",
      " * Iteration #34 - Loss = 549.694 - ||grad||^2 = 289.34569\n",
      " * Iteration #35 - Loss = 546.781 - ||grad||^2 = 286.45989\n",
      " * Iteration #36 - Loss = 543.910 - ||grad||^2 = 283.60333\n",
      " * Iteration #37 - Loss = 541.081 - ||grad||^2 = 280.77569\n",
      " * Iteration #38 - Loss = 538.292 - ||grad||^2 = 277.97664\n",
      " * Iteration #39 - Loss = 535.541 - ||grad||^2 = 275.20588\n",
      " * Iteration #40 - Loss = 532.827 - ||grad||^2 = 272.46309\n",
      " * Iteration #41 - Loss = 530.148 - ||grad||^2 = 269.74798\n",
      " * Iteration #42 - Loss = 527.503 - ||grad||^2 = 267.06024\n",
      " * Iteration #43 - Loss = 524.891 - ||grad||^2 = 264.39959\n",
      " * Iteration #44 - Loss = 522.310 - ||grad||^2 = 261.76574\n",
      " * Iteration #45 - Loss = 519.760 - ||grad||^2 = 259.15839\n",
      " * Iteration #46 - Loss = 517.240 - ||grad||^2 = 256.57728\n",
      " * Iteration #47 - Loss = 514.748 - ||grad||^2 = 254.02211\n",
      " * Iteration #48 - Loss = 512.284 - ||grad||^2 = 251.49263\n",
      " * Iteration #49 - Loss = 509.847 - ||grad||^2 = 248.98855\n",
      " * Iteration #50 - Loss = 507.435 - ||grad||^2 = 246.50961\n",
      " * Iteration #51 - Loss = 505.049 - ||grad||^2 = 244.05556\n",
      " * Iteration #52 - Loss = 502.687 - ||grad||^2 = 241.62612\n",
      " * Iteration #53 - Loss = 500.349 - ||grad||^2 = 239.22105\n",
      " * Iteration #54 - Loss = 498.034 - ||grad||^2 = 236.84009\n",
      " * Iteration #55 - Loss = 495.741 - ||grad||^2 = 234.48299\n",
      " * Iteration #56 - Loss = 493.470 - ||grad||^2 = 232.14951\n",
      " * Iteration #57 - Loss = 491.221 - ||grad||^2 = 229.83940\n",
      " * Iteration #58 - Loss = 488.991 - ||grad||^2 = 227.55241\n",
      " * Iteration #59 - Loss = 486.782 - ||grad||^2 = 225.28832\n",
      " * Iteration #60 - Loss = 484.592 - ||grad||^2 = 223.04688\n",
      " * Iteration #61 - Loss = 482.421 - ||grad||^2 = 220.82787\n",
      " * Iteration #62 - Loss = 480.269 - ||grad||^2 = 218.63105\n",
      " * Iteration #63 - Loss = 478.134 - ||grad||^2 = 216.45620\n",
      " * Iteration #64 - Loss = 476.018 - ||grad||^2 = 214.30309\n",
      " * Iteration #65 - Loss = 473.918 - ||grad||^2 = 212.17149\n",
      " * Iteration #66 - Loss = 471.835 - ||grad||^2 = 210.06120\n",
      " * Iteration #67 - Loss = 469.769 - ||grad||^2 = 207.97200\n",
      " * Iteration #68 - Loss = 467.718 - ||grad||^2 = 205.90366\n",
      " * Iteration #69 - Loss = 465.684 - ||grad||^2 = 203.85597\n",
      " * Iteration #70 - Loss = 463.664 - ||grad||^2 = 201.82873\n",
      " * Iteration #71 - Loss = 461.659 - ||grad||^2 = 199.82173\n",
      " * Iteration #72 - Loss = 459.669 - ||grad||^2 = 197.83477\n",
      " * Iteration #73 - Loss = 457.694 - ||grad||^2 = 195.86763\n",
      " * Iteration #74 - Loss = 455.732 - ||grad||^2 = 193.92012\n",
      " * Iteration #75 - Loss = 453.784 - ||grad||^2 = 191.99204\n",
      " * Iteration #76 - Loss = 451.849 - ||grad||^2 = 190.08319\n",
      " * Iteration #77 - Loss = 449.928 - ||grad||^2 = 188.19339\n",
      " * Iteration #78 - Loss = 448.019 - ||grad||^2 = 186.32243\n",
      " * Iteration #79 - Loss = 446.123 - ||grad||^2 = 184.47012\n",
      " * Iteration #80 - Loss = 444.240 - ||grad||^2 = 182.63628\n",
      " * Iteration #81 - Loss = 442.368 - ||grad||^2 = 180.82073\n",
      " * Iteration #82 - Loss = 440.508 - ||grad||^2 = 179.02327\n",
      " * Iteration #83 - Loss = 438.661 - ||grad||^2 = 177.24372\n",
      " * Iteration #84 - Loss = 436.824 - ||grad||^2 = 175.48191\n",
      " * Iteration #85 - Loss = 434.999 - ||grad||^2 = 173.73765\n",
      " * Iteration #86 - Loss = 433.185 - ||grad||^2 = 172.01078\n",
      " * Iteration #87 - Loss = 431.381 - ||grad||^2 = 170.30110\n",
      " * Iteration #88 - Loss = 429.589 - ||grad||^2 = 168.60846\n",
      " * Iteration #89 - Loss = 427.806 - ||grad||^2 = 166.93268\n",
      " * Iteration #90 - Loss = 426.034 - ||grad||^2 = 165.27358\n",
      " * Iteration #91 - Loss = 424.273 - ||grad||^2 = 163.63101\n",
      " * Iteration #92 - Loss = 422.521 - ||grad||^2 = 162.00480\n",
      " * Iteration #93 - Loss = 420.779 - ||grad||^2 = 160.39477\n",
      " * Iteration #94 - Loss = 419.046 - ||grad||^2 = 158.80078\n",
      " * Iteration #95 - Loss = 417.323 - ||grad||^2 = 157.22266\n",
      " * Iteration #96 - Loss = 415.609 - ||grad||^2 = 155.66024\n",
      " * Iteration #97 - Loss = 413.905 - ||grad||^2 = 154.11338\n",
      " * Iteration #98 - Loss = 412.209 - ||grad||^2 = 152.58192\n",
      " * Iteration #99 - Loss = 410.523 - ||grad||^2 = 151.06569\n",
      " * Iteration #100 - Loss = 408.845 - ||grad||^2 = 149.56456\n",
      "Optimization reached max number of iterations.\n"
     ]
    },
    {
     "name": "stderr",
     "output_type": "stream",
     "text": [
      "/Users/viktorandonovic/miniconda3/lib/python3.8/site-packages/pysurvival/models/semi_parametric.py:49: RuntimeWarning: divide by zero encountered in divide\n",
      "  self.std_err  = np.sqrt(self.inv_Hessian.diagonal())/self.std_scale\n"
     ]
    },
    {
     "data": {
      "text/plain": [
       "CoxPHModel"
      ]
     },
     "execution_count": 18,
     "metadata": {},
     "output_type": "execute_result"
    }
   ],
   "source": [
    "from pysurvival.models.semi_parametric import CoxPHModel\n",
    "\n",
    "coxph = CoxPHModel()\n",
    "coxph.fit(X_train, T_train, E_train, lr=0.01, l2_reg=1e-2, init_method='zeros')"
   ]
  },
  {
   "cell_type": "code",
   "execution_count": 19,
   "metadata": {},
   "outputs": [
    {
     "name": "stdout",
     "output_type": "stream",
     "text": [
      "[  41.   51.   71.   77.   94.  110.  130.  131.  140.  179.  186.  191.\n",
      "  198.  216.  223.  249.  264.  304.  321.  326.  334.  359.  388.  400.\n",
      "  460.  466.  489.  515.  549.  552.  559.  597.  611.  681.  708.  727.\n",
      "  733.  750.  762.  778.  785.  786.  790.  791.  797.  799.  824.  850.\n",
      "  853.  859.  890.  904.  930.  935.  943.  971.  974.  980.  990.  999.\n",
      " 1000. 1012. 1037. 1077. 1080. 1083. 1095. 1152. 1165. 1168. 1170. 1191.\n",
      " 1197. 1212. 1217. 1350. 1356. 1413. 1427. 1434. 1444. 1462. 1478. 1487.\n",
      " 1518. 1536. 1576. 1616. 1657. 1682. 1690. 1741. 1746. 1786. 1827. 1925.\n",
      " 2011. 2071. 2090. 2105. 2111. 2224. 2256. 2286. 2288. 2297. 2386. 2400.\n",
      " 2419. 2466. 2503. 2540. 2583. 2598. 2689. 2769. 2796. 2812. 2847. 3086.\n",
      " 3090. 3170. 3222. 3244. 3358. 3428. 3445. 3561. 3574. 3762. 3839. 3853.\n",
      " 4079. 4191.]\n"
     ]
    }
   ],
   "source": [
    "times = coxph.times\n",
    "print(times)"
   ]
  },
  {
   "cell_type": "code",
   "execution_count": 20,
   "metadata": {},
   "outputs": [
    {
     "data": {
      "text/plain": [
       "[<matplotlib.lines.Line2D at 0x2b07e9430>]"
      ]
     },
     "execution_count": 20,
     "metadata": {},
     "output_type": "execute_result"
    },
    {
     "data": {
      "image/png": "[encoded data removed]",
      "text/plain": [
       "<Figure size 640x480 with 1 Axes>"
      ]
     },
     "metadata": {},
     "output_type": "display_data"
    }
   ],
   "source": [
    "predicted = coxph.predict_survival(X_test)\n",
    "plt.plot(predicted[5])"
   ]
  },
  {
   "cell_type": "code",
   "execution_count": 21,
   "metadata": {},
   "outputs": [
    {
     "data": {
      "text/plain": [
       "(84, 4795)"
      ]
     },
     "execution_count": 21,
     "metadata": {},
     "output_type": "execute_result"
    }
   ],
   "source": [
    "transformed_predictions = fix_predictions(predicted, times, int(T_train.max()))\n",
    "transformed_predictions.shape"
   ]
  },
  {
   "cell_type": "code",
   "execution_count": 22,
   "metadata": {},
   "outputs": [
    {
     "data": {
      "text/plain": [
       "<matplotlib.legend.Legend at 0x29dcd6970>"
      ]
     },
     "execution_count": 22,
     "metadata": {},
     "output_type": "execute_result"
    },
    {
     "data": {
      "image/png": "[encoded data removed]",
      "text/plain": [
       "<Figure size 640x480 with 1 Axes>"
      ]
     },
     "metadata": {},
     "output_type": "display_data"
    }
   ],
   "source": [
    "i = 30\n",
    "plt.plot(transformed_predictions[i], label='CoxPH')\n",
    "plt.plot(preds[i].mean(axis=0), label='Variational SPYCT')\n",
    "plt.axvline(T_test[i], color='k')\n",
    "plt.legend()"
   ]
  },
  {
   "cell_type": "code",
   "execution_count": 23,
   "metadata": {},
   "outputs": [],
   "source": [
    "bs_test = calculate_bs((transformed_predictions, y_test))"
   ]
  },
  {
   "cell_type": "code",
   "execution_count": 24,
   "metadata": {},
   "outputs": [],
   "source": [
    "bs_test2 = calculate_bs((preds.mean(axis=1), y_test))"
   ]
  },
  {
   "cell_type": "code",
   "execution_count": 25,
   "metadata": {},
   "outputs": [],
   "source": [
    "bs_test3 = calculate_bs((preds_spyct, y_test))"
   ]
  },
  {
   "cell_type": "code",
   "execution_count": 26,
   "metadata": {},
   "outputs": [
    {
     "data": {
      "text/plain": [
       "RandomSurvivalForestModel"
      ]
     },
     "execution_count": 26,
     "metadata": {},
     "output_type": "execute_result"
    }
   ],
   "source": [
    "from pysurvival.models.survival_forest import RandomSurvivalForestModel\n",
    "\n",
    "rsf = RandomSurvivalForestModel(num_trees=50)\n",
    "rsf.fit(X_train, T_train, E_train, max_features=\"sqrt\", max_depth=5)"
   ]
  },
  {
   "cell_type": "code",
   "execution_count": 27,
   "metadata": {},
   "outputs": [],
   "source": [
    "predicted_rsf = rsf.predict_survival(X_test)\n",
    "transformed_predictions_rsf = fix_predictions(predicted_rsf, rsf.times, int(T_train.max()))"
   ]
  },
  {
   "cell_type": "code",
   "execution_count": 61,
   "metadata": {},
   "outputs": [
    {
     "data": {
      "text/plain": [
       "[<matplotlib.lines.Line2D at 0x2a70b5fd0>]"
      ]
     },
     "execution_count": 61,
     "metadata": {},
     "output_type": "execute_result"
    },
    {
     "data": {
      "image/png": "[encoded data removed]",
      "text/plain": [
       "<Figure size 640x480 with 1 Axes>"
      ]
     },
     "metadata": {},
     "output_type": "display_data"
    }
   ],
   "source": [
    "bs_test_rsf = calculate_bs((transformed_predictions_rsf, y_test))\n",
    "plt.plot(bs_test_rsf[41:], label='Random Survival Forest')"
   ]
  },
  {
   "cell_type": "code",
   "execution_count": 62,
   "metadata": {},
   "outputs": [],
   "source": [
    "from pysurvival.models.multi_task import LinearMultiTaskModel"
   ]
  },
  {
   "cell_type": "code",
   "execution_count": 66,
   "metadata": {},
   "outputs": [
    {
     "name": "stderr",
     "output_type": "stream",
     "text": [
      "% Completion: 100%|***********************************************|Loss:  38.03\n"
     ]
    },
    {
     "data": {
      "text/plain": [
       "LinearMultiTaskModel"
      ]
     },
     "execution_count": 66,
     "metadata": {},
     "output_type": "execute_result"
    }
   ],
   "source": [
    "mtlr = LinearMultiTaskModel()\n",
    "mtlr.fit(X_train, T_train, E_train, lr=0.0001, l2_reg=1e-2, init_method='zeros')"
   ]
  },
  {
   "cell_type": "code",
   "execution_count": 73,
   "metadata": {},
   "outputs": [],
   "source": [
    "predicted_mtlr = mtlr.predict_survival(X_test)\n",
    "transformed_predictions_mtlr = fix_predictions(predicted_mtlr, mtlr.times, int(T_train.max()))\n",
    "for i in range(transformed_predictions_mtlr.shape[0]):\n",
    "    for j in range(transformed_predictions_mtlr.shape[1]):\n",
    "        if transformed_predictions_mtlr[i, j] < 0:\n",
    "            transformed_predictions_mtlr[i, j] = 0\n",
    "        if transformed_predictions_mtlr[i, j] > 1:\n",
    "            transformed_predictions_mtlr[i, j] = 1"
   ]
  },
  {
   "cell_type": "code",
   "execution_count": 74,
   "metadata": {},
   "outputs": [
    {
     "data": {
      "text/plain": [
       "[<matplotlib.lines.Line2D at 0x2a7a57940>]"
      ]
     },
     "execution_count": 74,
     "metadata": {},
     "output_type": "execute_result"
    },
    {
     "data": {
      "image/png": "[encoded data removed]",
      "text/plain": [
       "<Figure size 640x480 with 1 Axes>"
      ]
     },
     "metadata": {},
     "output_type": "display_data"
    }
   ],
   "source": [
    "bs_test_mtlr = calculate_bs((transformed_predictions_mtlr, y_test))\n",
    "plt.plot(bs_test_mtlr[41:], label='Multi-task Linear Regression')"
   ]
  },
  {
   "cell_type": "code",
   "execution_count": 75,
   "metadata": {},
   "outputs": [
    {
     "data": {
      "text/plain": [
       "<matplotlib.legend.Legend at 0x2a794b4f0>"
      ]
     },
     "execution_count": 75,
     "metadata": {},
     "output_type": "execute_result"
    },
    {
     "data": {
      "image/png": "[encoded data removed]",
      "text/plain": [
       "<Figure size 640x480 with 1 Axes>"
      ]
     },
     "metadata": {},
     "output_type": "display_data"
    }
   ],
   "source": [
    "plt.plot(bs_test[41:], label='CoxPH')\n",
    "plt.plot(bs_test2, label='Variational SPYCT')\n",
    "plt.plot(bs_test3, label='SPYCT')\n",
    "plt.plot(bs_test_rsf[41:], label='RSF')\n",
    "plt.plot(bs_test_mtlr[41:], label='MTLR')\n",
    "plt.legend()"
   ]
  },
  {
   "cell_type": "code",
   "execution_count": 38,
   "metadata": {},
   "outputs": [
    {
     "name": "stdout",
     "output_type": "stream",
     "text": [
      "0.2962022682302296 0.30426168668191494 0.27796417 0.25860468\n"
     ]
    }
   ],
   "source": [
    "print(bs_test_rsf[41:].max(),\n",
    "bs_test[41:].max(),\n",
    "bs_test2.max(),\n",
    "bs_test3.max())"
   ]
  },
  {
   "cell_type": "code",
   "execution_count": 49,
   "metadata": {},
   "outputs": [
    {
     "data": {
      "text/plain": [
       "325"
      ]
     },
     "execution_count": 49,
     "metadata": {},
     "output_type": "execute_result"
    }
   ],
   "source": [
    "from pysurvival.utils.metrics import brier_score\n",
    "example_bs = brier_score(rsf, X_test, T_test, E_test, t_max=None)\n",
    "plt.plot(example_bs[1])"
   ]
  },
  {
   "cell_type": "code",
   "execution_count": 79,
   "metadata": {},
   "outputs": [
    {
     "data": {
      "text/plain": [
       "(325,)"
      ]
     },
     "execution_count": 79,
     "metadata": {},
     "output_type": "execute_result"
    }
   ],
   "source": [
    "np.array(example_bs[1]).shape"
   ]
  },
  {
   "cell_type": "code",
   "execution_count": 87,
   "metadata": {},
   "outputs": [
    {
     "data": {
      "text/plain": [
       "324"
      ]
     },
     "execution_count": 87,
     "metadata": {},
     "output_type": "execute_result"
    }
   ],
   "source": [
    "np.expand_dims(example_bs[1], axis=0).shape[1]-1"
   ]
  },
  {
   "cell_type": "code",
   "execution_count": 90,
   "metadata": {},
   "outputs": [
    {
     "data": {
      "text/plain": [
       "[4.698363758397175e-05,\n",
       " 0.011691126435565158,\n",
       " 0.011641805042581001,\n",
       " 0.011629971030033975,\n",
       " 0.011657219246493766,\n",
       " 0.011695229783074633,\n",
       " 0.022621996260493764,\n",
       " 0.022613568978691156,\n",
       " 0.022659912764153505,\n",
       " 0.022691065498774643,\n",
       " 0.022721514256587486,\n",
       " 0.02279607602367885,\n",
       " 0.03376128362831336,\n",
       " 0.044277441210791815,\n",
       " 0.054114864166891354,\n",
       " 0.05386264163013994,\n",
       " 0.05356858974774874,\n",
       " 0.05332322851293739,\n",
       " 0.05324234768751295,\n",
       " 0.053359384271310796,\n",
       " 0.05323951855486332,\n",
       " 0.061296156569466,\n",
       " 0.06094565442242097,\n",
       " 0.060803668768502,\n",
       " 0.06075502010367258,\n",
       " 0.06067420155673442,\n",
       " 0.060755781110953005,\n",
       " 0.06073145890671243,\n",
       " 0.06036828539513404,\n",
       " 0.060292152154911294,\n",
       " 0.060243381739315226,\n",
       " 0.06037067168231339,\n",
       " 0.060514717229108145,\n",
       " 0.08781985642739504,\n",
       " 0.08777622064118441,\n",
       " 0.10483234921194458,\n",
       " 0.10456494622124675,\n",
       " 0.10455657962327379,\n",
       " 0.10455312204115215,\n",
       " 0.10431014453496514,\n",
       " 0.10399313911465911,\n",
       " 0.10351586620520034,\n",
       " 0.11172309402374274,\n",
       " 0.11112046026946977,\n",
       " 0.11093602372782616,\n",
       " 0.11076238649233364,\n",
       " 0.11038383921743099,\n",
       " 0.11007817848941687,\n",
       " 0.110084425947922,\n",
       " 0.11008630186698261,\n",
       " 0.11022570976318315,\n",
       " 0.11012505818813978,\n",
       " 0.1099141428994653,\n",
       " 0.11002234923419268,\n",
       " 0.11009797151803784,\n",
       " 0.11009761080757421,\n",
       " 0.11010038731687292,\n",
       " 0.11006232593715165,\n",
       " 0.11003629962454411,\n",
       " 0.11028711537654459,\n",
       " 0.11022221704433756,\n",
       " 0.11021302284258902,\n",
       " 0.11011919534738852,\n",
       " 0.11021455186049048,\n",
       " 0.11037270228468302,\n",
       " 0.10985315089601579,\n",
       " 0.11000286301495649,\n",
       " 0.1101577076114501,\n",
       " 0.11033565229124863,\n",
       " 0.11057782135623927,\n",
       " 0.1105537300769104,\n",
       " 0.11047757718743678,\n",
       " 0.11089489703142152,\n",
       " 0.11092431456675758,\n",
       " 0.11096600644429662,\n",
       " 0.11096600644429662,\n",
       " 0.11069064468207393,\n",
       " 0.11066849599794572,\n",
       " 0.11097555931699823,\n",
       " 0.1118945920331905,\n",
       " 0.11200789513560983,\n",
       " 0.11200789513560983,\n",
       " 0.1121360717323356,\n",
       " 0.11239101711211401,\n",
       " 0.11196935686834102,\n",
       " 0.11249878110766443,\n",
       " 0.11245861524124304,\n",
       " 0.11245861524124304,\n",
       " 0.11314733965424151,\n",
       " 0.1130088106251984,\n",
       " 0.11335776757047357,\n",
       " 0.11392064872215091,\n",
       " 0.11625660853772136,\n",
       " 0.1162387830371008,\n",
       " 0.11747036633496354,\n",
       " 0.1169650635653226,\n",
       " 0.11715008843537614,\n",
       " 0.11715008843537614,\n",
       " 0.11715008843537614,\n",
       " 0.11715008843537614,\n",
       " 0.12554880157668954,\n",
       " 0.12554880157668954,\n",
       " 0.12554880157668954,\n",
       " 0.12554880157668954,\n",
       " 0.12554880157668954,\n",
       " 0.12554880157668954,\n",
       " 0.1341899884445847,\n",
       " 0.13262401291998638,\n",
       " 0.13330775123120533,\n",
       " 0.13330775123120533,\n",
       " 0.13330775123120533,\n",
       " 0.13275105225783795,\n",
       " 0.13349531216911822,\n",
       " 0.1328069825470317,\n",
       " 0.13316560727615556,\n",
       " 0.14250082344325476,\n",
       " 0.14250082344325476,\n",
       " 0.14250082344325476,\n",
       " 0.14250082344325476,\n",
       " 0.14330201895425657,\n",
       " 0.14330201895425657,\n",
       " 0.14330201895425657,\n",
       " 0.14367109130339112,\n",
       " 0.14367109130339112,\n",
       " 0.14367109130339112,\n",
       " 0.1438431963256696,\n",
       " 0.1438431963256696,\n",
       " 0.1431007986027479,\n",
       " 0.1431007986027479,\n",
       " 0.1431007986027479,\n",
       " 0.14347062551031803,\n",
       " 0.14347062551031803,\n",
       " 0.14347062551031803,\n",
       " 0.14347062551031803,\n",
       " 0.1434413799990538,\n",
       " 0.14393005592270267,\n",
       " 0.14393005592270267,\n",
       " 0.14481340914096244,\n",
       " 0.1506980047128201,\n",
       " 0.15060490087994832,\n",
       " 0.15060490087994832,\n",
       " 0.15127172898909771,\n",
       " 0.15127172898909771,\n",
       " 0.1523536057378281,\n",
       " 0.1523536057378281,\n",
       " 0.1523536057378281,\n",
       " 0.1523536057378281,\n",
       " 0.15269958203168899,\n",
       " 0.15269958203168899,\n",
       " 0.15269958203168899,\n",
       " 0.1520361466256426,\n",
       " 0.15203574965556343,\n",
       " 0.15224080702679205,\n",
       " 0.15224080702679205,\n",
       " 0.15224080702679205,\n",
       " 0.15224080702679205,\n",
       " 0.15285847917011594,\n",
       " 0.15285847917011594,\n",
       " 0.15285847917011594,\n",
       " 0.15285847917011594,\n",
       " 0.15295769970641165,\n",
       " 0.15445588807334973,\n",
       " 0.15445588807334973,\n",
       " 0.15586656574688124,\n",
       " 0.15586656574688124,\n",
       " 0.15586656574688124,\n",
       " 0.1565093478837171,\n",
       " 0.157130946001825,\n",
       " 0.157130946001825,\n",
       " 0.154093967841566,\n",
       " 0.15561554580072923,\n",
       " 0.15543377813053294,\n",
       " 0.15543377813053294,\n",
       " 0.15543377813053294,\n",
       " 0.15573319127539847,\n",
       " 0.15573319127539847,\n",
       " 0.15573319127539847,\n",
       " 0.16303833139000767,\n",
       " 0.16303833139000767,\n",
       " 0.16476033244431376,\n",
       " 0.16380736996089545,\n",
       " 0.16380736996089545,\n",
       " 0.16380736996089545,\n",
       " 0.16380736996089545,\n",
       " 0.16380736996089545,\n",
       " 0.16380736996089545,\n",
       " 0.16380736996089545,\n",
       " 0.16380736996089545,\n",
       " 0.16380736996089545,\n",
       " 0.16421413564278375,\n",
       " 0.16421413564278375,\n",
       " 0.16421413564278375,\n",
       " 0.16421413564278375,\n",
       " 0.1740840101460118,\n",
       " 0.1821380343654567,\n",
       " 0.18293387909863934,\n",
       " 0.18293387909863934,\n",
       " 0.18356013415835118,\n",
       " 0.18579631265271548,\n",
       " 0.18579631265271548,\n",
       " 0.18579631265271548,\n",
       " 0.18579631265271548,\n",
       " 0.18579631265271548,\n",
       " 0.18579631265271548,\n",
       " 0.18371639208972704,\n",
       " 0.18602293636131892,\n",
       " 0.18602293636131892,\n",
       " 0.18502453035324448,\n",
       " 0.18751997205167095,\n",
       " 0.18751997205167095,\n",
       " 0.18692434508001335,\n",
       " 0.18963008050295904,\n",
       " 0.1915230255479768,\n",
       " 0.19319109013471372,\n",
       " 0.1895519958826786,\n",
       " 0.1895519958826786,\n",
       " 0.1895519958826786,\n",
       " 0.19270124824130516,\n",
       " 0.19270124824130516,\n",
       " 0.19270124824130516,\n",
       " 0.19270124824130516,\n",
       " 0.19017465642311937,\n",
       " 0.19017465642311937,\n",
       " 0.19112693783174386,\n",
       " 0.19218684388062326,\n",
       " 0.19218684388062326,\n",
       " 0.1973185202255539,\n",
       " 0.1973185202255539,\n",
       " 0.1973185202255539,\n",
       " 0.1973185202255539,\n",
       " 0.1960016032952964,\n",
       " 0.1960016032952964,\n",
       " 0.1960016032952964,\n",
       " 0.20252416511409807,\n",
       " 0.19905880982487925,\n",
       " 0.19905880982487925,\n",
       " 0.20324041289564634,\n",
       " 0.20324041289564634,\n",
       " 0.203813085444563,\n",
       " 0.203813085444563,\n",
       " 0.19878310544665928,\n",
       " 0.19878310544665928,\n",
       " 0.19878310544665928,\n",
       " 0.19878310544665928,\n",
       " 0.19878310544665928,\n",
       " 0.20130315182170477,\n",
       " 0.2079276977528234,\n",
       " 0.2079276977528234,\n",
       " 0.2079276977528234,\n",
       " 0.20929446062939241,\n",
       " 0.20545934833313093,\n",
       " 0.20545934833313093,\n",
       " 0.21320448739125222,\n",
       " 0.20851391347817608,\n",
       " 0.21445017086583243,\n",
       " 0.21445017086583243,\n",
       " 0.2179796147588924,\n",
       " 0.21585529060638833,\n",
       " 0.21585529060638833,\n",
       " 0.22617991388508124,\n",
       " 0.2185535074154859,\n",
       " 0.2185535074154859,\n",
       " 0.22122903079734493,\n",
       " 0.2292352072818217,\n",
       " 0.2292352072818217,\n",
       " 0.22287566306275228,\n",
       " 0.23141810670000032,\n",
       " 0.2312355682855364,\n",
       " 0.22329836527188698,\n",
       " 0.23293503325186196,\n",
       " 0.23293503325186196,\n",
       " 0.2235223007978883,\n",
       " 0.23887820939003787,\n",
       " 0.24103982559352413,\n",
       " 0.2523099341743437,\n",
       " 0.24229780739070775,\n",
       " 0.24542834525744792,\n",
       " 0.2646966408272529,\n",
       " 0.2525018141603133,\n",
       " 0.2603797149381094,\n",
       " 0.2603797149381094,\n",
       " 0.2527107982177268,\n",
       " 0.2527107982177268,\n",
       " 0.2602597713154612,\n",
       " 0.2602597713154612,\n",
       " 0.27808226945091874,\n",
       " 0.2823729382330731,\n",
       " 0.2596238994673036,\n",
       " 0.2861248157518299,\n",
       " 0.2625651986724579,\n",
       " 0.2625651986724579,\n",
       " 0.2625651986724579,\n",
       " 0.2625651986724579,\n",
       " 0.2655953790080985,\n",
       " 0.2696556156323434,\n",
       " 0.2696556156323434,\n",
       " 0.2696556156323434,\n",
       " 0.2670706078211249,\n",
       " 0.2670706078211249,\n",
       " 0.2670706078211249,\n",
       " 0.2718310119713343,\n",
       " 0.2718310119713343,\n",
       " 0.309857681465293,\n",
       " 0.3137141763269528,\n",
       " 0.3137141763269528,\n",
       " 0.3188132722255453,\n",
       " 0.3188132722255453,\n",
       " 0.3188132722255453,\n",
       " 0.3188132722255453,\n",
       " 0.3188132722255453,\n",
       " 0.3188132722255453,\n",
       " 0.3188132722255453,\n",
       " 0.3188132722255453,\n",
       " 0.29105702222309887,\n",
       " 0.29105702222309887,\n",
       " 0.3477036976851486,\n",
       " 0.3477036976851486,\n",
       " 0.35900408470963346,\n",
       " 0.289309523097722,\n",
       " 0.3674772160815734,\n",
       " 0.43192755167855645,\n",
       " 0.43192755167855645,\n",
       " 0.2960977244664829,\n",
       " 0.32010840493531056,\n",
       " 0.32010840493531056]"
      ]
     },
     "execution_count": 90,
     "metadata": {},
     "output_type": "execute_result"
    }
   ],
   "source": [
    "example_bs[1]"
   ]
  },
  {
   "cell_type": "code",
   "execution_count": 55,
   "metadata": {},
   "outputs": [
    {
     "data": {
      "text/plain": [
       "(84, 327)"
      ]
     },
     "execution_count": 55,
     "metadata": {},
     "output_type": "execute_result"
    }
   ],
   "source": [
    "predicted_rsf.shape"
   ]
  },
  {
   "cell_type": "code",
   "execution_count": 59,
   "metadata": {},
   "outputs": [
    {
     "data": {
      "text/plain": [
       "[4.698363758397175e-05,\n",
       " 0.011691126435565158,\n",
       " 0.011641805042581001,\n",
       " 0.011629971030033975,\n",
       " 0.011657219246493766,\n",
       " 0.011695229783074633,\n",
       " 0.022621996260493764,\n",
       " 0.022613568978691156,\n",
       " 0.022659912764153505,\n",
       " 0.022691065498774643,\n",
       " 0.022721514256587486,\n",
       " 0.02279607602367885,\n",
       " 0.03376128362831336,\n",
       " 0.044277441210791815,\n",
       " 0.054114864166891354,\n",
       " 0.05386264163013994,\n",
       " 0.05356858974774874,\n",
       " 0.05332322851293739,\n",
       " 0.05324234768751295,\n",
       " 0.053359384271310796,\n",
       " 0.05323951855486332,\n",
       " 0.061296156569466,\n",
       " 0.06094565442242097,\n",
       " 0.060803668768502,\n",
       " 0.06075502010367258,\n",
       " 0.06067420155673442,\n",
       " 0.060755781110953005,\n",
       " 0.06073145890671243,\n",
       " 0.06036828539513404,\n",
       " 0.060292152154911294,\n",
       " 0.060243381739315226,\n",
       " 0.06037067168231339,\n",
       " 0.060514717229108145,\n",
       " 0.08781985642739504,\n",
       " 0.08777622064118441,\n",
       " 0.10483234921194458,\n",
       " 0.10456494622124675,\n",
       " 0.10455657962327379,\n",
       " 0.10455312204115215,\n",
       " 0.10431014453496514,\n",
       " 0.10399313911465911,\n",
       " 0.10351586620520034,\n",
       " 0.11172309402374274,\n",
       " 0.11112046026946977,\n",
       " 0.11093602372782616,\n",
       " 0.11076238649233364,\n",
       " 0.11038383921743099,\n",
       " 0.11007817848941687,\n",
       " 0.110084425947922,\n",
       " 0.11008630186698261,\n",
       " 0.11022570976318315,\n",
       " 0.11012505818813978,\n",
       " 0.1099141428994653,\n",
       " 0.11002234923419268,\n",
       " 0.11009797151803784,\n",
       " 0.11009761080757421,\n",
       " 0.11010038731687292,\n",
       " 0.11006232593715165,\n",
       " 0.11003629962454411,\n",
       " 0.11028711537654459,\n",
       " 0.11022221704433756,\n",
       " 0.11021302284258902,\n",
       " 0.11011919534738852,\n",
       " 0.11021455186049048,\n",
       " 0.11037270228468302,\n",
       " 0.10985315089601579,\n",
       " 0.11000286301495649,\n",
       " 0.1101577076114501,\n",
       " 0.11033565229124863,\n",
       " 0.11057782135623927,\n",
       " 0.1105537300769104,\n",
       " 0.11047757718743678,\n",
       " 0.11089489703142152,\n",
       " 0.11092431456675758,\n",
       " 0.11096600644429662,\n",
       " 0.11096600644429662,\n",
       " 0.11069064468207393,\n",
       " 0.11066849599794572,\n",
       " 0.11097555931699823,\n",
       " 0.1118945920331905,\n",
       " 0.11200789513560983,\n",
       " 0.11200789513560983,\n",
       " 0.1121360717323356,\n",
       " 0.11239101711211401,\n",
       " 0.11196935686834102,\n",
       " 0.11249878110766443,\n",
       " 0.11245861524124304,\n",
       " 0.11245861524124304,\n",
       " 0.11314733965424151,\n",
       " 0.1130088106251984,\n",
       " 0.11335776757047357,\n",
       " 0.11392064872215091,\n",
       " 0.11625660853772136,\n",
       " 0.1162387830371008,\n",
       " 0.11747036633496354,\n",
       " 0.1169650635653226,\n",
       " 0.11715008843537614,\n",
       " 0.11715008843537614,\n",
       " 0.11715008843537614,\n",
       " 0.11715008843537614,\n",
       " 0.12554880157668954,\n",
       " 0.12554880157668954,\n",
       " 0.12554880157668954,\n",
       " 0.12554880157668954,\n",
       " 0.12554880157668954,\n",
       " 0.12554880157668954,\n",
       " 0.1341899884445847,\n",
       " 0.13262401291998638,\n",
       " 0.13330775123120533,\n",
       " 0.13330775123120533,\n",
       " 0.13330775123120533,\n",
       " 0.13275105225783795,\n",
       " 0.13349531216911822,\n",
       " 0.1328069825470317,\n",
       " 0.13316560727615556,\n",
       " 0.14250082344325476,\n",
       " 0.14250082344325476,\n",
       " 0.14250082344325476,\n",
       " 0.14250082344325476,\n",
       " 0.14330201895425657,\n",
       " 0.14330201895425657,\n",
       " 0.14330201895425657,\n",
       " 0.14367109130339112,\n",
       " 0.14367109130339112,\n",
       " 0.14367109130339112,\n",
       " 0.1438431963256696,\n",
       " 0.1438431963256696,\n",
       " 0.1431007986027479,\n",
       " 0.1431007986027479,\n",
       " 0.1431007986027479,\n",
       " 0.14347062551031803,\n",
       " 0.14347062551031803,\n",
       " 0.14347062551031803,\n",
       " 0.14347062551031803,\n",
       " 0.1434413799990538,\n",
       " 0.14393005592270267,\n",
       " 0.14393005592270267,\n",
       " 0.14481340914096244,\n",
       " 0.1506980047128201,\n",
       " 0.15060490087994832,\n",
       " 0.15060490087994832,\n",
       " 0.15127172898909771,\n",
       " 0.15127172898909771,\n",
       " 0.1523536057378281,\n",
       " 0.1523536057378281,\n",
       " 0.1523536057378281,\n",
       " 0.1523536057378281,\n",
       " 0.15269958203168899,\n",
       " 0.15269958203168899,\n",
       " 0.15269958203168899,\n",
       " 0.1520361466256426,\n",
       " 0.15203574965556343,\n",
       " 0.15224080702679205,\n",
       " 0.15224080702679205,\n",
       " 0.15224080702679205,\n",
       " 0.15224080702679205,\n",
       " 0.15285847917011594,\n",
       " 0.15285847917011594,\n",
       " 0.15285847917011594,\n",
       " 0.15285847917011594,\n",
       " 0.15295769970641165,\n",
       " 0.15445588807334973,\n",
       " 0.15445588807334973,\n",
       " 0.15586656574688124,\n",
       " 0.15586656574688124,\n",
       " 0.15586656574688124,\n",
       " 0.1565093478837171,\n",
       " 0.157130946001825,\n",
       " 0.157130946001825,\n",
       " 0.154093967841566,\n",
       " 0.15561554580072923,\n",
       " 0.15543377813053294,\n",
       " 0.15543377813053294,\n",
       " 0.15543377813053294,\n",
       " 0.15573319127539847,\n",
       " 0.15573319127539847,\n",
       " 0.15573319127539847,\n",
       " 0.16303833139000767,\n",
       " 0.16303833139000767,\n",
       " 0.16476033244431376,\n",
       " 0.16380736996089545,\n",
       " 0.16380736996089545,\n",
       " 0.16380736996089545,\n",
       " 0.16380736996089545,\n",
       " 0.16380736996089545,\n",
       " 0.16380736996089545,\n",
       " 0.16380736996089545,\n",
       " 0.16380736996089545,\n",
       " 0.16380736996089545,\n",
       " 0.16421413564278375,\n",
       " 0.16421413564278375,\n",
       " 0.16421413564278375,\n",
       " 0.16421413564278375,\n",
       " 0.1740840101460118,\n",
       " 0.1821380343654567,\n",
       " 0.18293387909863934,\n",
       " 0.18293387909863934,\n",
       " 0.18356013415835118,\n",
       " 0.18579631265271548,\n",
       " 0.18579631265271548,\n",
       " 0.18579631265271548,\n",
       " 0.18579631265271548,\n",
       " 0.18579631265271548,\n",
       " 0.18579631265271548,\n",
       " 0.18371639208972704,\n",
       " 0.18602293636131892,\n",
       " 0.18602293636131892,\n",
       " 0.18502453035324448,\n",
       " 0.18751997205167095,\n",
       " 0.18751997205167095,\n",
       " 0.18692434508001335,\n",
       " 0.18963008050295904,\n",
       " 0.1915230255479768,\n",
       " 0.19319109013471372,\n",
       " 0.1895519958826786,\n",
       " 0.1895519958826786,\n",
       " 0.1895519958826786,\n",
       " 0.19270124824130516,\n",
       " 0.19270124824130516,\n",
       " 0.19270124824130516,\n",
       " 0.19270124824130516,\n",
       " 0.19017465642311937,\n",
       " 0.19017465642311937,\n",
       " 0.19112693783174386,\n",
       " 0.19218684388062326,\n",
       " 0.19218684388062326,\n",
       " 0.1973185202255539,\n",
       " 0.1973185202255539,\n",
       " 0.1973185202255539,\n",
       " 0.1973185202255539,\n",
       " 0.1960016032952964,\n",
       " 0.1960016032952964,\n",
       " 0.1960016032952964,\n",
       " 0.20252416511409807,\n",
       " 0.19905880982487925,\n",
       " 0.19905880982487925,\n",
       " 0.20324041289564634,\n",
       " 0.20324041289564634,\n",
       " 0.203813085444563,\n",
       " 0.203813085444563,\n",
       " 0.19878310544665928,\n",
       " 0.19878310544665928,\n",
       " 0.19878310544665928,\n",
       " 0.19878310544665928,\n",
       " 0.19878310544665928,\n",
       " 0.20130315182170477,\n",
       " 0.2079276977528234,\n",
       " 0.2079276977528234,\n",
       " 0.2079276977528234,\n",
       " 0.20929446062939241,\n",
       " 0.20545934833313093,\n",
       " 0.20545934833313093,\n",
       " 0.21320448739125222,\n",
       " 0.20851391347817608,\n",
       " 0.21445017086583243,\n",
       " 0.21445017086583243,\n",
       " 0.2179796147588924,\n",
       " 0.21585529060638833,\n",
       " 0.21585529060638833,\n",
       " 0.22617991388508124,\n",
       " 0.2185535074154859,\n",
       " 0.2185535074154859,\n",
       " 0.22122903079734493,\n",
       " 0.2292352072818217,\n",
       " 0.2292352072818217,\n",
       " 0.22287566306275228,\n",
       " 0.23141810670000032,\n",
       " 0.2312355682855364,\n",
       " 0.22329836527188698,\n",
       " 0.23293503325186196,\n",
       " 0.23293503325186196,\n",
       " 0.2235223007978883,\n",
       " 0.23887820939003787,\n",
       " 0.24103982559352413,\n",
       " 0.2523099341743437,\n",
       " 0.24229780739070775,\n",
       " 0.24542834525744792,\n",
       " 0.2646966408272529,\n",
       " 0.2525018141603133,\n",
       " 0.2603797149381094,\n",
       " 0.2603797149381094,\n",
       " 0.2527107982177268,\n",
       " 0.2527107982177268,\n",
       " 0.2602597713154612,\n",
       " 0.2602597713154612,\n",
       " 0.27808226945091874,\n",
       " 0.2823729382330731,\n",
       " 0.2596238994673036,\n",
       " 0.2861248157518299,\n",
       " 0.2625651986724579,\n",
       " 0.2625651986724579,\n",
       " 0.2625651986724579,\n",
       " 0.2625651986724579,\n",
       " 0.2655953790080985,\n",
       " 0.2696556156323434,\n",
       " 0.2696556156323434,\n",
       " 0.2696556156323434,\n",
       " 0.2670706078211249,\n",
       " 0.2670706078211249,\n",
       " 0.2670706078211249,\n",
       " 0.2718310119713343,\n",
       " 0.2718310119713343,\n",
       " 0.309857681465293,\n",
       " 0.3137141763269528,\n",
       " 0.3137141763269528,\n",
       " 0.3188132722255453,\n",
       " 0.3188132722255453,\n",
       " 0.3188132722255453,\n",
       " 0.3188132722255453,\n",
       " 0.3188132722255453,\n",
       " 0.3188132722255453,\n",
       " 0.3188132722255453,\n",
       " 0.3188132722255453,\n",
       " 0.29105702222309887,\n",
       " 0.29105702222309887,\n",
       " 0.3477036976851486,\n",
       " 0.3477036976851486,\n",
       " 0.35900408470963346,\n",
       " 0.289309523097722,\n",
       " 0.3674772160815734,\n",
       " 0.43192755167855645,\n",
       " 0.43192755167855645,\n",
       " 0.2960977244664829,\n",
       " 0.32010840493531056,\n",
       " 0.32010840493531056]"
      ]
     },
     "execution_count": 59,
     "metadata": {},
     "output_type": "execute_result"
    }
   ],
   "source": [
    "example_bs[1]"
   ]
  },
  {
   "cell_type": "code",
   "execution_count": null,
   "metadata": {},
   "outputs": [],
   "source": []
  }
 ],
 "metadata": {
  "kernelspec": {
   "display_name": "base",
   "language": "python",
   "name": "python3"
  },
  "language_info": {
   "codemirror_mode": {
    "name": "ipython",
    "version": 3
   },
   "file_extension": ".py",
   "mimetype": "text/x-python",
   "name": "python",
   "nbconvert_exporter": "python",
   "pygments_lexer": "ipython3",
   "version": "3.8.17 | packaged by conda-forge | (default, Jun 16 2023, 07:11:32) \n[Clang 14.0.6 ]"
  },
  "orig_nbformat": 4,
  "vscode": {
   "interpreter": {
    "hash": "cc7277dfab6d5d4897e99b5cc736f9228836f1dda1604709a8d9bb8c8b4a4da5"
   }
  }
 },
 "nbformat": 4,
 "nbformat_minor": 2
}
