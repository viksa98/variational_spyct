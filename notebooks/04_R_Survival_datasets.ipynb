{
 "cells": [
  {
   "cell_type": "code",
   "execution_count": 1,
   "metadata": {},
   "outputs": [],
   "source": [
    "import numpy as np\n",
    "import pandas as pd\n",
    "import matplotlib.pyplot as plt\n",
    "import os"
   ]
  },
  {
   "cell_type": "code",
   "execution_count": 2,
   "metadata": {},
   "outputs": [],
   "source": [
    "import torch"
   ]
  },
  {
   "cell_type": "code",
   "execution_count": 3,
   "metadata": {},
   "outputs": [],
   "source": [
    "import sys\n",
    "sys.path.append('..')\n",
    "from src.utils import (calculate_bs, fix_predictions, plot_brier)\n",
    "from src.data.dataset import SurvivalDataset"
   ]
  },
  {
   "cell_type": "code",
   "execution_count": 4,
   "metadata": {},
   "outputs": [
    {
     "name": "stdout",
     "output_type": "stream",
     "text": [
      "../data/raw/cancer.rda      ../data/raw/reliability.rda\n",
      "../data/raw/cgd.rda         ../data/raw/retinopathy.rda\n",
      "../data/raw/diabetic.rda    ../data/raw/rhDNase.rda\n",
      "../data/raw/flchain.rda     ../data/raw/solder.rda\n",
      "../data/raw/heart.rda       ../data/raw/survexp.rda\n",
      "../data/raw/logan.rda       ../data/raw/tobin.rda\n",
      "../data/raw/nafld.rda       ../data/raw/transplant.rda\n",
      "../data/raw/nwtco.rda       ../data/raw/udca.rda\n",
      "../data/raw/pbc.rda\n"
     ]
    }
   ],
   "source": [
    "!ls ../data/raw/*.rda"
   ]
  },
  {
   "cell_type": "code",
   "execution_count": 5,
   "metadata": {},
   "outputs": [
    {
     "data": {
      "text/html": [
       "<div>\n",
       "<style scoped>\n",
       "    .dataframe tbody tr th:only-of-type {\n",
       "        vertical-align: middle;\n",
       "    }\n",
       "\n",
       "    .dataframe tbody tr th {\n",
       "        vertical-align: top;\n",
       "    }\n",
       "\n",
       "    .dataframe thead th {\n",
       "        text-align: right;\n",
       "    }\n",
       "</style>\n",
       "<table border=\"1\" class=\"dataframe\">\n",
       "  <thead>\n",
       "    <tr style=\"text-align: right;\">\n",
       "      <th></th>\n",
       "      <th>id</th>\n",
       "      <th>time</th>\n",
       "      <th>status</th>\n",
       "      <th>trt</th>\n",
       "      <th>age</th>\n",
       "      <th>sex</th>\n",
       "      <th>ascites</th>\n",
       "      <th>hepato</th>\n",
       "      <th>spiders</th>\n",
       "      <th>edema</th>\n",
       "      <th>bili</th>\n",
       "      <th>chol</th>\n",
       "      <th>albumin</th>\n",
       "      <th>copper</th>\n",
       "      <th>alk.phos</th>\n",
       "      <th>ast</th>\n",
       "      <th>trig</th>\n",
       "      <th>platelet</th>\n",
       "      <th>protime</th>\n",
       "      <th>stage</th>\n",
       "    </tr>\n",
       "  </thead>\n",
       "  <tbody>\n",
       "    <tr>\n",
       "      <th>0</th>\n",
       "      <td>1</td>\n",
       "      <td>400</td>\n",
       "      <td>2</td>\n",
       "      <td>1</td>\n",
       "      <td>58.765229</td>\n",
       "      <td>f</td>\n",
       "      <td>1</td>\n",
       "      <td>1</td>\n",
       "      <td>1</td>\n",
       "      <td>1.0</td>\n",
       "      <td>14.5</td>\n",
       "      <td>261</td>\n",
       "      <td>2.60</td>\n",
       "      <td>156</td>\n",
       "      <td>1718.0</td>\n",
       "      <td>137.95</td>\n",
       "      <td>172</td>\n",
       "      <td>190</td>\n",
       "      <td>12.2</td>\n",
       "      <td>4</td>\n",
       "    </tr>\n",
       "    <tr>\n",
       "      <th>1</th>\n",
       "      <td>2</td>\n",
       "      <td>4500</td>\n",
       "      <td>0</td>\n",
       "      <td>1</td>\n",
       "      <td>56.446270</td>\n",
       "      <td>f</td>\n",
       "      <td>0</td>\n",
       "      <td>1</td>\n",
       "      <td>1</td>\n",
       "      <td>0.0</td>\n",
       "      <td>1.1</td>\n",
       "      <td>302</td>\n",
       "      <td>4.14</td>\n",
       "      <td>54</td>\n",
       "      <td>7394.8</td>\n",
       "      <td>113.52</td>\n",
       "      <td>88</td>\n",
       "      <td>221</td>\n",
       "      <td>10.6</td>\n",
       "      <td>3</td>\n",
       "    </tr>\n",
       "    <tr>\n",
       "      <th>2</th>\n",
       "      <td>3</td>\n",
       "      <td>1012</td>\n",
       "      <td>2</td>\n",
       "      <td>1</td>\n",
       "      <td>70.072553</td>\n",
       "      <td>m</td>\n",
       "      <td>0</td>\n",
       "      <td>0</td>\n",
       "      <td>0</td>\n",
       "      <td>0.5</td>\n",
       "      <td>1.4</td>\n",
       "      <td>176</td>\n",
       "      <td>3.48</td>\n",
       "      <td>210</td>\n",
       "      <td>516.0</td>\n",
       "      <td>96.10</td>\n",
       "      <td>55</td>\n",
       "      <td>151</td>\n",
       "      <td>12.0</td>\n",
       "      <td>4</td>\n",
       "    </tr>\n",
       "    <tr>\n",
       "      <th>3</th>\n",
       "      <td>4</td>\n",
       "      <td>1925</td>\n",
       "      <td>2</td>\n",
       "      <td>1</td>\n",
       "      <td>54.740589</td>\n",
       "      <td>f</td>\n",
       "      <td>0</td>\n",
       "      <td>1</td>\n",
       "      <td>1</td>\n",
       "      <td>0.5</td>\n",
       "      <td>1.8</td>\n",
       "      <td>244</td>\n",
       "      <td>2.54</td>\n",
       "      <td>64</td>\n",
       "      <td>6121.8</td>\n",
       "      <td>60.63</td>\n",
       "      <td>92</td>\n",
       "      <td>183</td>\n",
       "      <td>10.3</td>\n",
       "      <td>4</td>\n",
       "    </tr>\n",
       "    <tr>\n",
       "      <th>4</th>\n",
       "      <td>5</td>\n",
       "      <td>1504</td>\n",
       "      <td>1</td>\n",
       "      <td>2</td>\n",
       "      <td>38.105407</td>\n",
       "      <td>f</td>\n",
       "      <td>0</td>\n",
       "      <td>1</td>\n",
       "      <td>1</td>\n",
       "      <td>0.0</td>\n",
       "      <td>3.4</td>\n",
       "      <td>279</td>\n",
       "      <td>3.53</td>\n",
       "      <td>143</td>\n",
       "      <td>671.0</td>\n",
       "      <td>113.15</td>\n",
       "      <td>72</td>\n",
       "      <td>136</td>\n",
       "      <td>10.9</td>\n",
       "      <td>3</td>\n",
       "    </tr>\n",
       "  </tbody>\n",
       "</table>\n",
       "</div>"
      ],
      "text/plain": [
       "   id  time  status trt        age sex ascites hepato spiders  edema  bili  \\\n",
       "0   1   400       2   1  58.765229   f       1      1       1    1.0  14.5   \n",
       "1   2  4500       0   1  56.446270   f       0      1       1    0.0   1.1   \n",
       "2   3  1012       2   1  70.072553   m       0      0       0    0.5   1.4   \n",
       "3   4  1925       2   1  54.740589   f       0      1       1    0.5   1.8   \n",
       "4   5  1504       1   2  38.105407   f       0      1       1    0.0   3.4   \n",
       "\n",
       "  chol  albumin copper  alk.phos     ast trig platelet  protime stage  \n",
       "0  261     2.60    156    1718.0  137.95  172      190     12.2     4  \n",
       "1  302     4.14     54    7394.8  113.52   88      221     10.6     3  \n",
       "2  176     3.48    210     516.0   96.10   55      151     12.0     4  \n",
       "3  244     2.54     64    6121.8   60.63   92      183     10.3     4  \n",
       "4  279     3.53    143     671.0  113.15   72      136     10.9     3  "
      ]
     },
     "execution_count": 5,
     "metadata": {},
     "output_type": "execute_result"
    }
   ],
   "source": [
    "import pyreadr\n",
    "\n",
    "rda_file_path = '../data/raw/pbc.rda'\n",
    "data = pyreadr.read_r(rda_file_path)['pbc']\n",
    "data.head()"
   ]
  },
  {
   "cell_type": "code",
   "execution_count": 6,
   "metadata": {},
   "outputs": [
    {
     "name": "stdout",
     "output_type": "stream",
     "text": [
      "Succesfully created time tensor of shape: torch.Size([418, 4795])\n",
      "(334, 769) torch.Size([334, 4795])\n"
     ]
    }
   ],
   "source": [
    "data = SurvivalDataset(fname='pbc.rda')\n",
    "X_train, X_test, y_train, y_test = data.get_tensors()"
   ]
  },
  {
   "cell_type": "code",
   "execution_count": 7,
   "metadata": {},
   "outputs": [
    {
     "name": "stderr",
     "output_type": "stream",
     "text": [
      "/Users/viktorandonovic/miniconda3/lib/python3.8/site-packages/tqdm/auto.py:21: TqdmWarning: IProgress not found. Please update jupyter and ipywidgets. See https://ipywidgets.readthedocs.io/en/stable/user_install.html\n",
      "  from .autonotebook import tqdm as notebook_tqdm\n"
     ]
    }
   ],
   "source": [
    "from src.models.model import VSpyct"
   ]
  },
  {
   "cell_type": "code",
   "execution_count": 8,
   "metadata": {},
   "outputs": [
    {
     "name": "stdout",
     "output_type": "stream",
     "text": [
      "Impurity(\n",
      "  (linear): PyroLinear(in_features=769, out_features=1, bias=True)\n",
      ")\n"
     ]
    },
    {
     "name": "stderr",
     "output_type": "stream",
     "text": [
      "Epochs:   2%|▏         | 3/150 [00:00<00:17,  8.17it/s]"
     ]
    },
    {
     "name": "stdout",
     "output_type": "stream",
     "text": [
      "[iteration 0001] loss: 446935706419.2000\n",
      "[iteration 0002] loss: 414694436864.0000\n",
      "[iteration 0003] loss: 370606642585.6000\n",
      "[iteration 0004] loss: 335983987302.4000\n"
     ]
    },
    {
     "name": "stderr",
     "output_type": "stream",
     "text": [
      "Epochs:   5%|▍         | 7/150 [00:00<00:11, 12.89it/s]"
     ]
    },
    {
     "name": "stdout",
     "output_type": "stream",
     "text": [
      "[iteration 0005] loss: 316027479040.0000\n",
      "[iteration 0006] loss: 285952160051.2000\n",
      "[iteration 0007] loss: 255976672972.8000\n",
      "[iteration 0008] loss: 238751106560.0000\n"
     ]
    },
    {
     "name": "stderr",
     "output_type": "stream",
     "text": [
      "Epochs:   7%|▋         | 11/150 [00:00<00:09, 14.96it/s]"
     ]
    },
    {
     "name": "stdout",
     "output_type": "stream",
     "text": [
      "[iteration 0009] loss: 216104368332.8000\n",
      "[iteration 0010] loss: 199429201459.2000\n",
      "[iteration 0011] loss: 179480978176.0000\n",
      "[iteration 0012] loss: 167800023040.0000\n"
     ]
    },
    {
     "name": "stderr",
     "output_type": "stream",
     "text": [
      "Epochs:  10%|█         | 15/150 [00:01<00:08, 15.98it/s]"
     ]
    },
    {
     "name": "stdout",
     "output_type": "stream",
     "text": [
      "[iteration 0013] loss: 157483562841.6000\n",
      "[iteration 0014] loss: 144965657868.8000\n",
      "[iteration 0015] loss: 130243273536.0000\n",
      "[iteration 0016] loss: 121634486068.8000\n"
     ]
    },
    {
     "name": "stderr",
     "output_type": "stream",
     "text": [
      "Epochs:  13%|█▎        | 19/150 [00:01<00:07, 16.55it/s]"
     ]
    },
    {
     "name": "stdout",
     "output_type": "stream",
     "text": [
      "[iteration 0017] loss: 113159738524.8000\n",
      "[iteration 0018] loss: 106300201452.8000\n",
      "[iteration 0019] loss: 100950646170.0000\n",
      "[iteration 0020] loss: 91222838387.0000\n"
     ]
    },
    {
     "name": "stderr",
     "output_type": "stream",
     "text": [
      "Epochs:  15%|█▌        | 23/150 [00:01<00:07, 16.71it/s]"
     ]
    },
    {
     "name": "stdout",
     "output_type": "stream",
     "text": [
      "[iteration 0021] loss: 83875102516.0573\n",
      "[iteration 0022] loss: 83411383552.7883\n",
      "[iteration 0023] loss: 76729567152.9000\n",
      "[iteration 0024] loss: 75122509369.5898\n"
     ]
    },
    {
     "name": "stderr",
     "output_type": "stream",
     "text": [
      "Epochs:  18%|█▊        | 27/150 [00:01<00:07, 16.97it/s]"
     ]
    },
    {
     "name": "stdout",
     "output_type": "stream",
     "text": [
      "[iteration 0025] loss: 70127358588.5750\n",
      "[iteration 0026] loss: 68466271228.8547\n",
      "[iteration 0027] loss: 65481952909.8000\n",
      "[iteration 0028] loss: 65417612854.9000\n"
     ]
    },
    {
     "name": "stderr",
     "output_type": "stream",
     "text": [
      "Epochs:  21%|██        | 31/150 [00:02<00:06, 17.13it/s]"
     ]
    },
    {
     "name": "stdout",
     "output_type": "stream",
     "text": [
      "[iteration 0029] loss: 60991769843.5732\n",
      "[iteration 0030] loss: 59609122691.4563\n",
      "[iteration 0031] loss: 58017416692.2828\n",
      "[iteration 0032] loss: 56221750278.3781\n"
     ]
    },
    {
     "name": "stderr",
     "output_type": "stream",
     "text": [
      "Epochs:  23%|██▎       | 35/150 [00:02<00:06, 17.23it/s]"
     ]
    },
    {
     "name": "stdout",
     "output_type": "stream",
     "text": [
      "[iteration 0033] loss: 56765301698.5875\n",
      "[iteration 0034] loss: 52927058516.7290\n",
      "[iteration 0035] loss: 52756473675.6818\n",
      "[iteration 0036] loss: 51664118367.7719\n"
     ]
    },
    {
     "name": "stderr",
     "output_type": "stream",
     "text": [
      "Epochs:  26%|██▌       | 39/150 [00:02<00:06, 17.16it/s]"
     ]
    },
    {
     "name": "stdout",
     "output_type": "stream",
     "text": [
      "[iteration 0037] loss: 51807427176.5125\n",
      "[iteration 0038] loss: 49439733704.3422\n",
      "[iteration 0039] loss: 50363633596.6750\n",
      "[iteration 0040] loss: 50012853290.9062\n"
     ]
    },
    {
     "name": "stderr",
     "output_type": "stream",
     "text": [
      "Epochs:  29%|██▊       | 43/150 [00:02<00:06, 17.20it/s]"
     ]
    },
    {
     "name": "stdout",
     "output_type": "stream",
     "text": [
      "[iteration 0041] loss: 47978775826.5000\n",
      "[iteration 0042] loss: 49198338370.4937\n",
      "[iteration 0043] loss: 48061886646.6750\n",
      "[iteration 0044] loss: 45707338530.3414\n"
     ]
    },
    {
     "name": "stderr",
     "output_type": "stream",
     "text": [
      "Epochs:  31%|███       | 46/150 [00:03<00:06, 15.28it/s]\n"
     ]
    },
    {
     "name": "stdout",
     "output_type": "stream",
     "text": [
      "[iteration 0045] loss: 46844906015.5000\n",
      "[iteration 0046] loss: 45747522338.5602\n",
      "Early stopping at epoch 46.\n",
      "Impurity(\n",
      "  (linear): PyroLinear(in_features=769, out_features=1, bias=True)\n",
      ")\n",
      "Impurity(\n",
      "  (linear): PyroLinear(in_features=769, out_features=1, bias=True)\n",
      ")\n"
     ]
    },
    {
     "name": "stderr",
     "output_type": "stream",
     "text": [
      "Epochs:   0%|          | 0/150 [00:00<?, ?it/s]"
     ]
    },
    {
     "name": "stdout",
     "output_type": "stream",
     "text": [
      "[iteration 0001] loss: 490507078860.7999\n"
     ]
    },
    {
     "name": "stderr",
     "output_type": "stream",
     "text": [
      "Epochs:   4%|▍         | 6/150 [00:00<00:05, 24.76it/s]"
     ]
    },
    {
     "name": "stdout",
     "output_type": "stream",
     "text": [
      "[iteration 0002] loss: 454338020147.2000\n",
      "[iteration 0003] loss: 433247993036.8000\n",
      "[iteration 0004] loss: 411065190399.9999\n",
      "[iteration 0005] loss: 394501988352.0000\n",
      "[iteration 0006] loss: 364921614745.6000\n",
      "[iteration 0007] loss: 347451128217.6000\n"
     ]
    },
    {
     "name": "stderr",
     "output_type": "stream",
     "text": [
      "Epochs:   8%|▊         | 12/150 [00:00<00:05, 25.21it/s]"
     ]
    },
    {
     "name": "stdout",
     "output_type": "stream",
     "text": [
      "[iteration 0008] loss: 333959682048.0000\n",
      "[iteration 0009] loss: 307597078937.6000\n",
      "[iteration 0010] loss: 285757316915.2000\n",
      "[iteration 0011] loss: 269730668544.0000\n",
      "[iteration 0012] loss: 259269121024.0000\n",
      "[iteration 0013] loss: 247369480192.0000\n"
     ]
    },
    {
     "name": "stderr",
     "output_type": "stream",
     "text": [
      "Epochs:  10%|█         | 15/150 [00:00<00:05, 24.84it/s]"
     ]
    },
    {
     "name": "stdout",
     "output_type": "stream",
     "text": [
      "[iteration 0014] loss: 228425056256.0000\n",
      "[iteration 0015] loss: 213175275929.6000\n",
      "[iteration 0016] loss: 203438136934.4000\n",
      "[iteration 0017] loss: 195234940723.2000\n"
     ]
    },
    {
     "name": "stderr",
     "output_type": "stream",
     "text": [
      "Epochs:  12%|█▏        | 18/150 [00:00<00:05, 24.80it/s]"
     ]
    },
    {
     "name": "stdout",
     "output_type": "stream",
     "text": [
      "[iteration 0018] loss: 183222180249.6000\n"
     ]
    },
    {
     "name": "stderr",
     "output_type": "stream",
     "text": [
      "Epochs:  14%|█▍        | 21/150 [00:00<00:05, 24.87it/s]"
     ]
    },
    {
     "name": "stdout",
     "output_type": "stream",
     "text": [
      "[iteration 0019] loss: 169507626598.4000\n",
      "[iteration 0020] loss: 164952370073.6000\n",
      "[iteration 0021] loss: 153058281881.6000\n",
      "[iteration 0022] loss: 147018008166.4000\n",
      "[iteration 0023] loss: 133927965696.0000\n"
     ]
    },
    {
     "name": "stderr",
     "output_type": "stream",
     "text": [
      "Epochs:  16%|█▌        | 24/150 [00:00<00:05, 24.95it/s]"
     ]
    },
    {
     "name": "stdout",
     "output_type": "stream",
     "text": [
      "[iteration 0024] loss: 125931862835.2000\n"
     ]
    },
    {
     "name": "stderr",
     "output_type": "stream",
     "text": [
      "Epochs:  18%|█▊        | 27/150 [00:01<00:04, 25.08it/s]"
     ]
    },
    {
     "name": "stdout",
     "output_type": "stream",
     "text": [
      "[iteration 0025] loss: 118408627712.0000\n",
      "[iteration 0026] loss: 113168675481.6000\n",
      "[iteration 0027] loss: 109480092620.8000\n",
      "[iteration 0028] loss: 103489129984.0000\n",
      "[iteration 0029] loss: 92383750400.0000\n"
     ]
    },
    {
     "name": "stderr",
     "output_type": "stream",
     "text": [
      "Epochs:  20%|██        | 30/150 [00:01<00:04, 24.96it/s]"
     ]
    },
    {
     "name": "stdout",
     "output_type": "stream",
     "text": [
      "[iteration 0030] loss: 89520818278.4000\n"
     ]
    },
    {
     "name": "stderr",
     "output_type": "stream",
     "text": [
      "Epochs:  22%|██▏       | 33/150 [00:01<00:04, 24.78it/s]"
     ]
    },
    {
     "name": "stdout",
     "output_type": "stream",
     "text": [
      "[iteration 0031] loss: 85602956032.0000\n",
      "[iteration 0032] loss: 77667620198.4000\n",
      "[iteration 0033] loss: 75001718988.8000\n",
      "[iteration 0034] loss: 74022350105.6000\n"
     ]
    },
    {
     "name": "stderr",
     "output_type": "stream",
     "text": [
      "Epochs:  24%|██▍       | 36/150 [00:01<00:04, 24.76it/s]"
     ]
    },
    {
     "name": "stdout",
     "output_type": "stream",
     "text": [
      "[iteration 0035] loss: 66004736512.0000\n",
      "[iteration 0036] loss: 63967890777.6000\n"
     ]
    },
    {
     "name": "stderr",
     "output_type": "stream",
     "text": [
      "Epochs:  26%|██▌       | 39/150 [00:01<00:04, 24.96it/s]"
     ]
    },
    {
     "name": "stdout",
     "output_type": "stream",
     "text": [
      "[iteration 0037] loss: 60449510963.2000\n",
      "[iteration 0038] loss: 55485195942.4000\n",
      "[iteration 0039] loss: 54868902784.0000\n",
      "[iteration 0040] loss: 49587540236.8000\n"
     ]
    },
    {
     "name": "stderr",
     "output_type": "stream",
     "text": [
      "Epochs:  28%|██▊       | 42/150 [00:01<00:04, 25.00it/s]"
     ]
    },
    {
     "name": "stdout",
     "output_type": "stream",
     "text": [
      "[iteration 0041] loss: 48069036160.0000\n",
      "[iteration 0042] loss: 44806784652.8000\n"
     ]
    },
    {
     "name": "stderr",
     "output_type": "stream",
     "text": [
      "Epochs:  30%|███       | 45/150 [00:01<00:04, 25.20it/s]"
     ]
    },
    {
     "name": "stdout",
     "output_type": "stream",
     "text": [
      "[iteration 0043] loss: 40768514656.0000\n",
      "[iteration 0044] loss: 41132358049.6000\n",
      "[iteration 0045] loss: 35870212027.2000\n",
      "[iteration 0046] loss: 35319235120.0000\n"
     ]
    },
    {
     "name": "stderr",
     "output_type": "stream",
     "text": [
      "Epochs:  32%|███▏      | 48/150 [00:01<00:04, 25.16it/s]"
     ]
    },
    {
     "name": "stdout",
     "output_type": "stream",
     "text": [
      "[iteration 0047] loss: 33133908608.0000\n",
      "[iteration 0048] loss: 33331831796.8000\n"
     ]
    },
    {
     "name": "stderr",
     "output_type": "stream",
     "text": [
      "Epochs:  34%|███▍      | 51/150 [00:02<00:03, 25.19it/s]"
     ]
    },
    {
     "name": "stdout",
     "output_type": "stream",
     "text": [
      "[iteration 0049] loss: 31441994461.6000\n",
      "[iteration 0050] loss: 30845053822.4000\n",
      "[iteration 0051] loss: 28435795037.2000\n",
      "[iteration 0052] loss: 25041282770.4313\n"
     ]
    },
    {
     "name": "stderr",
     "output_type": "stream",
     "text": [
      "Epochs:  36%|███▌      | 54/150 [00:02<00:03, 25.20it/s]"
     ]
    },
    {
     "name": "stdout",
     "output_type": "stream",
     "text": [
      "[iteration 0053] loss: 23428957279.5484\n",
      "[iteration 0054] loss: 25029843980.0049\n"
     ]
    },
    {
     "name": "stderr",
     "output_type": "stream",
     "text": [
      "Epochs:  38%|███▊      | 57/150 [00:02<00:03, 25.29it/s]"
     ]
    },
    {
     "name": "stdout",
     "output_type": "stream",
     "text": [
      "[iteration 0055] loss: 22007634757.4500\n",
      "[iteration 0056] loss: 21932277192.9250\n",
      "[iteration 0057] loss: 20412922524.4836\n",
      "[iteration 0058] loss: 18736734324.3000\n"
     ]
    },
    {
     "name": "stderr",
     "output_type": "stream",
     "text": [
      "Epochs:  40%|████      | 60/150 [00:02<00:03, 25.26it/s]"
     ]
    },
    {
     "name": "stdout",
     "output_type": "stream",
     "text": [
      "[iteration 0059] loss: 18625749071.8375\n",
      "[iteration 0060] loss: 16775302525.1125\n"
     ]
    },
    {
     "name": "stderr",
     "output_type": "stream",
     "text": [
      "Epochs:  42%|████▏     | 63/150 [00:02<00:03, 25.37it/s]"
     ]
    },
    {
     "name": "stdout",
     "output_type": "stream",
     "text": [
      "[iteration 0061] loss: 17100728440.2000\n",
      "[iteration 0062] loss: 15668456059.1742\n",
      "[iteration 0063] loss: 15893662416.8250\n",
      "[iteration 0064] loss: 15802895753.6617\n"
     ]
    },
    {
     "name": "stderr",
     "output_type": "stream",
     "text": [
      "Epochs:  44%|████▍     | 66/150 [00:02<00:03, 25.27it/s]"
     ]
    },
    {
     "name": "stdout",
     "output_type": "stream",
     "text": [
      "[iteration 0065] loss: 14898437431.2000\n",
      "[iteration 0066] loss: 14008388329.2000\n"
     ]
    },
    {
     "name": "stderr",
     "output_type": "stream",
     "text": [
      "Epochs:  46%|████▌     | 69/150 [00:02<00:03, 25.36it/s]"
     ]
    },
    {
     "name": "stdout",
     "output_type": "stream",
     "text": [
      "[iteration 0067] loss: 12999461369.7687\n",
      "[iteration 0068] loss: 12758285124.4000\n",
      "[iteration 0069] loss: 12432302214.8000\n",
      "[iteration 0070] loss: 12739209560.2578\n"
     ]
    },
    {
     "name": "stderr",
     "output_type": "stream",
     "text": [
      "Epochs:  48%|████▊     | 72/150 [00:02<00:03, 25.30it/s]"
     ]
    },
    {
     "name": "stdout",
     "output_type": "stream",
     "text": [
      "[iteration 0071] loss: 10721248865.6000\n",
      "[iteration 0072] loss: 11753062948.8000\n"
     ]
    },
    {
     "name": "stderr",
     "output_type": "stream",
     "text": [
      "Epochs:  50%|█████     | 75/150 [00:02<00:02, 25.38it/s]"
     ]
    },
    {
     "name": "stdout",
     "output_type": "stream",
     "text": [
      "[iteration 0073] loss: 10781725564.8000\n",
      "[iteration 0074] loss: 9841880017.6000\n",
      "[iteration 0075] loss: 9612372080.0000\n",
      "[iteration 0076] loss: 9122947808.0000\n"
     ]
    },
    {
     "name": "stderr",
     "output_type": "stream",
     "text": [
      "Epochs:  52%|█████▏    | 78/150 [00:03<00:02, 25.35it/s]"
     ]
    },
    {
     "name": "stdout",
     "output_type": "stream",
     "text": [
      "[iteration 0077] loss: 8291616555.2000\n",
      "[iteration 0078] loss: 8967246145.6000\n"
     ]
    },
    {
     "name": "stderr",
     "output_type": "stream",
     "text": [
      "Epochs:  54%|█████▍    | 81/150 [00:03<00:02, 25.33it/s]"
     ]
    },
    {
     "name": "stdout",
     "output_type": "stream",
     "text": [
      "[iteration 0079] loss: 7992040654.4000\n",
      "[iteration 0080] loss: 8190887288.5500\n",
      "[iteration 0081] loss: 7920761376.0000\n",
      "[iteration 0082] loss: 8470313872.0000\n"
     ]
    },
    {
     "name": "stderr",
     "output_type": "stream",
     "text": [
      "Epochs:  56%|█████▌    | 84/150 [00:03<00:02, 25.25it/s]"
     ]
    },
    {
     "name": "stdout",
     "output_type": "stream",
     "text": [
      "[iteration 0083] loss: 7918885344.0000\n",
      "[iteration 0084] loss: 8501496752.0000\n"
     ]
    },
    {
     "name": "stderr",
     "output_type": "stream",
     "text": [
      "Epochs:  58%|█████▊    | 87/150 [00:03<00:02, 25.41it/s]"
     ]
    },
    {
     "name": "stdout",
     "output_type": "stream",
     "text": [
      "[iteration 0085] loss: 7152173456.0000\n",
      "[iteration 0086] loss: 7671634163.2000\n",
      "[iteration 0087] loss: 7319633532.8000\n",
      "[iteration 0088] loss: 6710549683.2000\n"
     ]
    },
    {
     "name": "stderr",
     "output_type": "stream",
     "text": [
      "Epochs:  60%|██████    | 90/150 [00:03<00:02, 25.42it/s]"
     ]
    },
    {
     "name": "stdout",
     "output_type": "stream",
     "text": [
      "[iteration 0089] loss: 6529941726.4000\n",
      "[iteration 0090] loss: 6373297748.8000\n"
     ]
    },
    {
     "name": "stderr",
     "output_type": "stream",
     "text": [
      "Epochs:  61%|██████▏   | 92/150 [00:03<00:02, 24.89it/s]\n"
     ]
    },
    {
     "name": "stdout",
     "output_type": "stream",
     "text": [
      "[iteration 0091] loss: 6941549747.2000\n",
      "[iteration 0092] loss: 6513376675.2000\n",
      "Early stopping at epoch 92.\n",
      "Impurity(\n",
      "  (linear): PyroLinear(in_features=769, out_features=1, bias=True)\n",
      ")\n",
      "Impurity(\n",
      "  (linear): PyroLinear(in_features=769, out_features=1, bias=True)\n",
      ")\n"
     ]
    },
    {
     "name": "stderr",
     "output_type": "stream",
     "text": [
      "Epochs:   2%|▏         | 3/150 [00:00<00:05, 25.68it/s]"
     ]
    },
    {
     "name": "stdout",
     "output_type": "stream",
     "text": [
      "[iteration 0001] loss: 335242619289.6000\n",
      "[iteration 0002] loss: 319538762342.4000\n",
      "[iteration 0003] loss: 304684675481.6000\n"
     ]
    },
    {
     "name": "stderr",
     "output_type": "stream",
     "text": [
      "Epochs:   4%|▍         | 6/150 [00:00<00:05, 26.06it/s]"
     ]
    },
    {
     "name": "stdout",
     "output_type": "stream",
     "text": [
      "[iteration 0004] loss: 289709195059.2000\n",
      "[iteration 0005] loss: 268695868416.0000\n",
      "[iteration 0006] loss: 264543571353.6000\n"
     ]
    },
    {
     "name": "stderr",
     "output_type": "stream",
     "text": [
      "Epochs:   6%|▌         | 9/150 [00:00<00:05, 25.90it/s]"
     ]
    },
    {
     "name": "stdout",
     "output_type": "stream",
     "text": [
      "[iteration 0007] loss: 244031906611.2000\n",
      "[iteration 0008] loss: 230877132902.4000\n",
      "[iteration 0009] loss: 222672566374.4000\n"
     ]
    },
    {
     "name": "stderr",
     "output_type": "stream",
     "text": [
      "Epochs:   8%|▊         | 12/150 [00:00<00:05, 25.72it/s]"
     ]
    },
    {
     "name": "stdout",
     "output_type": "stream",
     "text": [
      "[iteration 0010] loss: 208767774822.4000\n",
      "[iteration 0011] loss: 200499743232.0000\n",
      "[iteration 0012] loss: 183479020800.0000\n"
     ]
    },
    {
     "name": "stderr",
     "output_type": "stream",
     "text": [
      "Epochs:  10%|█         | 15/150 [00:00<00:05, 25.58it/s]"
     ]
    },
    {
     "name": "stdout",
     "output_type": "stream",
     "text": [
      "[iteration 0013] loss: 177068835379.2000\n",
      "[iteration 0014] loss: 165976182630.4000\n",
      "[iteration 0015] loss: 159189756774.4000\n"
     ]
    },
    {
     "name": "stderr",
     "output_type": "stream",
     "text": [
      "Epochs:  12%|█▏        | 18/150 [00:00<00:05, 25.34it/s]"
     ]
    },
    {
     "name": "stdout",
     "output_type": "stream",
     "text": [
      "[iteration 0016] loss: 153329847603.2000\n",
      "[iteration 0017] loss: 144962995916.8000\n",
      "[iteration 0018] loss: 140054282419.2000\n"
     ]
    },
    {
     "name": "stderr",
     "output_type": "stream",
     "text": [
      "Epochs:  14%|█▍        | 21/150 [00:00<00:05, 25.59it/s]"
     ]
    },
    {
     "name": "stdout",
     "output_type": "stream",
     "text": [
      "[iteration 0019] loss: 130773090150.4000\n",
      "[iteration 0020] loss: 127950329318.4000\n",
      "[iteration 0021] loss: 123638914227.2000\n"
     ]
    },
    {
     "name": "stderr",
     "output_type": "stream",
     "text": [
      "Epochs:  16%|█▌        | 24/150 [00:00<00:04, 25.85it/s]"
     ]
    },
    {
     "name": "stdout",
     "output_type": "stream",
     "text": [
      "[iteration 0022] loss: 116188547174.4000\n",
      "[iteration 0023] loss: 113681214617.6000\n",
      "[iteration 0024] loss: 105883833027.2000\n"
     ]
    },
    {
     "name": "stderr",
     "output_type": "stream",
     "text": [
      "Epochs:  18%|█▊        | 27/150 [00:01<00:04, 25.84it/s]"
     ]
    },
    {
     "name": "stdout",
     "output_type": "stream",
     "text": [
      "[iteration 0025] loss: 100026008800.0000\n",
      "[iteration 0026] loss: 98492279779.2000\n",
      "[iteration 0027] loss: 93857892937.6000\n"
     ]
    },
    {
     "name": "stderr",
     "output_type": "stream",
     "text": [
      "Epochs:  20%|██        | 30/150 [00:01<00:04, 25.86it/s]"
     ]
    },
    {
     "name": "stdout",
     "output_type": "stream",
     "text": [
      "[iteration 0028] loss: 88225273098.2250\n",
      "[iteration 0029] loss: 88503079185.8250\n",
      "[iteration 0030] loss: 85907761039.2500\n"
     ]
    },
    {
     "name": "stderr",
     "output_type": "stream",
     "text": [
      "Epochs:  22%|██▏       | 33/150 [00:01<00:04, 25.99it/s]"
     ]
    },
    {
     "name": "stdout",
     "output_type": "stream",
     "text": [
      "[iteration 0031] loss: 80900679699.1000\n",
      "[iteration 0032] loss: 80609384089.6500\n",
      "[iteration 0033] loss: 76468301992.4375\n"
     ]
    },
    {
     "name": "stderr",
     "output_type": "stream",
     "text": [
      "Epochs:  24%|██▍       | 36/150 [00:01<00:04, 26.02it/s]"
     ]
    },
    {
     "name": "stdout",
     "output_type": "stream",
     "text": [
      "[iteration 0034] loss: 72767009894.4172\n",
      "[iteration 0035] loss: 72296344951.6303\n",
      "[iteration 0036] loss: 72418295864.3500\n"
     ]
    },
    {
     "name": "stderr",
     "output_type": "stream",
     "text": [
      "Epochs:  26%|██▌       | 39/150 [00:01<00:04, 26.10it/s]"
     ]
    },
    {
     "name": "stdout",
     "output_type": "stream",
     "text": [
      "[iteration 0037] loss: 69792635860.5000\n",
      "[iteration 0038] loss: 66565595895.8500\n",
      "[iteration 0039] loss: 62489935692.0562\n"
     ]
    },
    {
     "name": "stderr",
     "output_type": "stream",
     "text": [
      "Epochs:  27%|██▋       | 41/150 [00:01<00:04, 25.25it/s]\n"
     ]
    },
    {
     "name": "stdout",
     "output_type": "stream",
     "text": [
      "[iteration 0040] loss: 62701156147.4000\n",
      "[iteration 0041] loss: 63230641260.8000\n",
      "Early stopping at epoch 41.\n",
      "Impurity(\n",
      "  (linear): PyroLinear(in_features=769, out_features=1, bias=True)\n",
      ")\n",
      "Impurity(\n",
      "  (linear): PyroLinear(in_features=769, out_features=1, bias=True)\n",
      ")\n"
     ]
    },
    {
     "name": "stderr",
     "output_type": "stream",
     "text": [
      "Epochs:   7%|▋         | 11/150 [00:00<00:01, 103.73it/s]"
     ]
    },
    {
     "name": "stdout",
     "output_type": "stream",
     "text": [
      "[iteration 0001] loss: 176622711603.2000\n",
      "[iteration 0002] loss: 174005326643.2000\n",
      "[iteration 0003] loss: 173699597926.4000\n",
      "[iteration 0004] loss: 173881475072.0000\n",
      "[iteration 0005] loss: 171442574131.2000\n",
      "[iteration 0006] loss: 164955027865.6000\n",
      "[iteration 0007] loss: 167924808089.6000\n",
      "[iteration 0008] loss: 165271737139.2000\n",
      "[iteration 0009] loss: 164641678950.4000\n",
      "[iteration 0010] loss: 161414730547.2000\n",
      "[iteration 0011] loss: 160955708211.2000\n",
      "[iteration 0012] loss: 158850755788.8000\n",
      "[iteration 0013] loss: 161885659136.0000\n",
      "[iteration 0014] loss: 158237761536.0000\n",
      "[iteration 0015] loss: 154910507008.0000\n",
      "[iteration 0016] loss: 150577096294.4000\n",
      "[iteration 0017] loss: 149548680806.4000\n",
      "[iteration 0018] loss: 148659968409.6000\n",
      "[iteration 0019] loss: 145477875302.4000\n",
      "[iteration 0020] loss: 145290127769.6000\n",
      "[iteration 0021] loss: 146293366784.0000\n"
     ]
    },
    {
     "name": "stderr",
     "output_type": "stream",
     "text": [
      "Epochs:  22%|██▏       | 33/150 [00:00<00:01, 102.41it/s]"
     ]
    },
    {
     "name": "stdout",
     "output_type": "stream",
     "text": [
      "[iteration 0022] loss: 145401362841.6000\n",
      "[iteration 0023] loss: 142758829260.8000\n",
      "[iteration 0024] loss: 144222314496.0000\n",
      "[iteration 0025] loss: 140235100979.2000\n",
      "[iteration 0026] loss: 139526965657.6000\n",
      "[iteration 0027] loss: 139276820480.0000\n",
      "[iteration 0028] loss: 135568102195.2000\n",
      "[iteration 0029] loss: 136108507955.2000\n",
      "[iteration 0030] loss: 135358779392.0000\n",
      "[iteration 0031] loss: 131066617036.8000\n",
      "[iteration 0032] loss: 130795311923.2000\n",
      "[iteration 0033] loss: 127147091558.4000\n"
     ]
    },
    {
     "name": "stderr",
     "output_type": "stream",
     "text": [
      "Epochs:  27%|██▋       | 41/150 [00:00<00:01, 99.90it/s] \n"
     ]
    },
    {
     "name": "stdout",
     "output_type": "stream",
     "text": [
      "[iteration 0034] loss: 131795653427.2000\n",
      "[iteration 0035] loss: 125079453696.0000\n",
      "[iteration 0036] loss: 125722178355.2000\n",
      "[iteration 0037] loss: 121684077772.8000\n",
      "[iteration 0038] loss: 122630532300.8000\n",
      "[iteration 0039] loss: 118183630438.4000\n",
      "[iteration 0040] loss: 121754624000.0000\n",
      "[iteration 0041] loss: 121843355648.0000\n",
      "Early stopping at epoch 41.\n",
      "Impurity(\n",
      "  (linear): PyroLinear(in_features=769, out_features=1, bias=True)\n",
      ")\n",
      "Impurity(\n",
      "  (linear): PyroLinear(in_features=769, out_features=1, bias=True)\n",
      ")\n"
     ]
    },
    {
     "name": "stderr",
     "output_type": "stream",
     "text": [
      "Epochs:   4%|▍         | 6/150 [00:00<00:02, 51.81it/s]"
     ]
    },
    {
     "name": "stdout",
     "output_type": "stream",
     "text": [
      "[iteration 0001] loss: 135060802816.0000\n",
      "[iteration 0002] loss: 128084494643.2000\n",
      "[iteration 0003] loss: 126537504614.4000\n",
      "[iteration 0004] loss: 124070850713.6000\n",
      "[iteration 0005] loss: 122580406169.6000\n",
      "[iteration 0006] loss: 119190979404.8000\n",
      "[iteration 0007] loss: 119914945126.4000\n",
      "[iteration 0008] loss: 116217214400.0000\n",
      "[iteration 0009] loss: 113809707033.6000\n",
      "[iteration 0010] loss: 112484511820.8000\n",
      "[iteration 0011] loss: 109349291008.0000\n"
     ]
    },
    {
     "name": "stderr",
     "output_type": "stream",
     "text": [
      "Epochs:   8%|▊         | 12/150 [00:00<00:02, 52.11it/s]"
     ]
    },
    {
     "name": "stdout",
     "output_type": "stream",
     "text": [
      "[iteration 0012] loss: 106381907174.4000\n",
      "[iteration 0013] loss: 104784183673.6000\n",
      "[iteration 0014] loss: 103128242649.6000\n",
      "[iteration 0015] loss: 98715267641.6000\n",
      "[iteration 0016] loss: 99764542982.4000\n",
      "[iteration 0017] loss: 97631642802.0000\n"
     ]
    },
    {
     "name": "stderr",
     "output_type": "stream",
     "text": [
      "Epochs:  12%|█▏        | 18/150 [00:00<00:02, 52.46it/s]"
     ]
    },
    {
     "name": "stdout",
     "output_type": "stream",
     "text": [
      "[iteration 0018] loss: 98032100281.6000\n",
      "[iteration 0019] loss: 95643364915.2000\n",
      "[iteration 0020] loss: 90679039779.2000\n",
      "[iteration 0021] loss: 90824069037.3000\n",
      "[iteration 0022] loss: 90109095774.2250\n"
     ]
    },
    {
     "name": "stderr",
     "output_type": "stream",
     "text": [
      "Epochs:  16%|█▌        | 24/150 [00:00<00:02, 52.55it/s]"
     ]
    },
    {
     "name": "stdout",
     "output_type": "stream",
     "text": [
      "[iteration 0023] loss: 87296803588.8000\n",
      "[iteration 0024] loss: 86749787108.9125\n",
      "[iteration 0025] loss: 84877056356.0719\n",
      "[iteration 0026] loss: 81686267094.4922\n",
      "[iteration 0027] loss: 82821560458.0500\n",
      "[iteration 0028] loss: 80576537686.1125\n"
     ]
    },
    {
     "name": "stderr",
     "output_type": "stream",
     "text": [
      "Epochs:  20%|██        | 30/150 [00:00<00:02, 52.27it/s]"
     ]
    },
    {
     "name": "stdout",
     "output_type": "stream",
     "text": [
      "[iteration 0029] loss: 79876147739.6719\n",
      "[iteration 0030] loss: 79214832782.2070\n",
      "[iteration 0031] loss: 76786984960.0562\n",
      "[iteration 0032] loss: 79145119663.0000\n",
      "[iteration 0033] loss: 78443280458.1875\n"
     ]
    },
    {
     "name": "stderr",
     "output_type": "stream",
     "text": [
      "Epochs:  24%|██▍       | 36/150 [00:00<00:02, 52.02it/s]"
     ]
    },
    {
     "name": "stdout",
     "output_type": "stream",
     "text": [
      "[iteration 0034] loss: 76745834204.4000\n",
      "[iteration 0035] loss: 75992988005.6000\n",
      "[iteration 0036] loss: 75630378169.6000\n",
      "[iteration 0037] loss: 74068908443.6000\n",
      "[iteration 0038] loss: 77087578624.0000\n",
      "[iteration 0039] loss: 70458325566.4000\n"
     ]
    },
    {
     "name": "stderr",
     "output_type": "stream",
     "text": [
      "Epochs:  27%|██▋       | 41/150 [00:00<00:02, 50.61it/s]\n"
     ]
    },
    {
     "name": "stdout",
     "output_type": "stream",
     "text": [
      "[iteration 0040] loss: 72689620307.2000\n",
      "[iteration 0041] loss: 71869920192.0000\n",
      "Early stopping at epoch 41.\n",
      "Impurity(\n",
      "  (linear): PyroLinear(in_features=769, out_features=1, bias=True)\n",
      ")\n",
      "Impurity(\n",
      "  (linear): PyroLinear(in_features=769, out_features=1, bias=True)\n",
      ")\n"
     ]
    },
    {
     "name": "stderr",
     "output_type": "stream",
     "text": [
      "Epochs:   0%|          | 0/150 [00:00<?, ?it/s]"
     ]
    },
    {
     "name": "stdout",
     "output_type": "stream",
     "text": [
      "[iteration 0001] loss: 47581057536.0000\n"
     ]
    },
    {
     "name": "stderr",
     "output_type": "stream",
     "text": [
      "Epochs:   4%|▍         | 6/150 [00:00<00:02, 52.08it/s]"
     ]
    },
    {
     "name": "stdout",
     "output_type": "stream",
     "text": [
      "[iteration 0002] loss: 43837777920.0000\n",
      "[iteration 0003] loss: 43499580108.8000\n",
      "[iteration 0004] loss: 41570001817.6000\n",
      "[iteration 0005] loss: 39840817971.2000\n",
      "[iteration 0006] loss: 38952061235.2000\n",
      "[iteration 0007] loss: 34902172364.8000\n",
      "[iteration 0008] loss: 33821270630.4000\n",
      "[iteration 0009] loss: 32028373196.8000\n",
      "[iteration 0010] loss: 32661239398.4000\n",
      "[iteration 0011] loss: 31912748032.0000\n"
     ]
    },
    {
     "name": "stderr",
     "output_type": "stream",
     "text": [
      "Epochs:   8%|▊         | 12/150 [00:00<00:02, 53.12it/s]"
     ]
    },
    {
     "name": "stdout",
     "output_type": "stream",
     "text": [
      "[iteration 0012] loss: 30726996992.0000\n"
     ]
    },
    {
     "name": "stderr",
     "output_type": "stream",
     "text": [
      "Epochs:  12%|█▏        | 18/150 [00:00<00:02, 53.69it/s]"
     ]
    },
    {
     "name": "stdout",
     "output_type": "stream",
     "text": [
      "[iteration 0013] loss: 28561545062.4000\n",
      "[iteration 0014] loss: 27188818739.2000\n",
      "[iteration 0015] loss: 27363969484.8000\n",
      "[iteration 0016] loss: 24194159513.6000\n",
      "[iteration 0017] loss: 25442755174.4000\n",
      "[iteration 0018] loss: 22431163443.2000\n",
      "[iteration 0019] loss: 22506496972.8000\n",
      "[iteration 0020] loss: 22337136230.4000\n",
      "[iteration 0021] loss: 19909758566.4000\n",
      "[iteration 0022] loss: 20008668057.6000\n",
      "[iteration 0023] loss: 19965490278.4000\n"
     ]
    },
    {
     "name": "stderr",
     "output_type": "stream",
     "text": [
      "Epochs:  20%|██        | 30/150 [00:00<00:02, 54.28it/s]"
     ]
    },
    {
     "name": "stdout",
     "output_type": "stream",
     "text": [
      "[iteration 0024] loss: 18166249011.2000\n",
      "[iteration 0025] loss: 19355476736.0000\n",
      "[iteration 0026] loss: 18337659392.0000\n",
      "[iteration 0027] loss: 16194310656.0000\n",
      "[iteration 0028] loss: 16380657049.6000\n",
      "[iteration 0029] loss: 15179631872.0000\n",
      "[iteration 0030] loss: 15500983756.8000\n",
      "[iteration 0031] loss: 14697631206.4000\n",
      "[iteration 0032] loss: 15695688499.2000\n",
      "[iteration 0033] loss: 13702331392.0000\n",
      "[iteration 0034] loss: 13078086451.2000\n"
     ]
    },
    {
     "name": "stderr",
     "output_type": "stream",
     "text": [
      "Epochs:  24%|██▍       | 36/150 [00:00<00:02, 53.70it/s]"
     ]
    },
    {
     "name": "stdout",
     "output_type": "stream",
     "text": [
      "[iteration 0035] loss: 12820233574.4000\n",
      "[iteration 0036] loss: 12342779212.8000\n",
      "[iteration 0037] loss: 13187347865.6000\n",
      "[iteration 0038] loss: 11768503552.0000\n",
      "[iteration 0039] loss: 11204558028.8000\n",
      "[iteration 0040] loss: 10694066560.0000\n",
      "[iteration 0041] loss: 11695914880.0000\n"
     ]
    },
    {
     "name": "stderr",
     "output_type": "stream",
     "text": [
      "Epochs:  28%|██▊       | 42/150 [00:00<00:02, 53.66it/s]"
     ]
    },
    {
     "name": "stdout",
     "output_type": "stream",
     "text": [
      "[iteration 0042] loss: 10042591641.6000\n",
      "[iteration 0043] loss: 9856469504.0000\n",
      "[iteration 0044] loss: 10467086899.2000\n",
      "[iteration 0045] loss: 9082462988.8000\n"
     ]
    },
    {
     "name": "stderr",
     "output_type": "stream",
     "text": [
      "Epochs:  32%|███▏      | 48/150 [00:00<00:01, 53.62it/s]"
     ]
    },
    {
     "name": "stdout",
     "output_type": "stream",
     "text": [
      "[iteration 0046] loss: 10196346329.6000\n",
      "[iteration 0047] loss: 8700129574.4000\n",
      "[iteration 0048] loss: 9112736230.4000\n",
      "[iteration 0049] loss: 8708062246.4000\n",
      "[iteration 0050] loss: 8204581011.2000\n",
      "[iteration 0051] loss: 8093352960.0000\n",
      "[iteration 0052] loss: 8114642611.2000\n"
     ]
    },
    {
     "name": "stderr",
     "output_type": "stream",
     "text": [
      "Epochs:  36%|███▌      | 54/150 [00:01<00:01, 54.09it/s]"
     ]
    },
    {
     "name": "stdout",
     "output_type": "stream",
     "text": [
      "[iteration 0053] loss: 8523965484.8000\n",
      "[iteration 0054] loss: 7711089497.6000\n",
      "[iteration 0055] loss: 7943719952.2000\n",
      "[iteration 0056] loss: 7578354377.6000\n"
     ]
    },
    {
     "name": "stderr",
     "output_type": "stream",
     "text": [
      "Epochs:  41%|████      | 61/150 [00:01<00:01, 52.88it/s]\n"
     ]
    },
    {
     "name": "stdout",
     "output_type": "stream",
     "text": [
      "[iteration 0057] loss: 7251094758.4000\n",
      "[iteration 0058] loss: 7102939542.4000\n",
      "[iteration 0059] loss: 6989460552.8000\n",
      "[iteration 0060] loss: 7327021384.0000\n",
      "[iteration 0061] loss: 7203993388.8000\n",
      "Early stopping at epoch 61.\n",
      "Impurity(\n",
      "  (linear): PyroLinear(in_features=769, out_features=1, bias=True)\n",
      ")\n",
      "Impurity(\n",
      "  (linear): PyroLinear(in_features=769, out_features=1, bias=True)\n",
      ")\n"
     ]
    },
    {
     "name": "stderr",
     "output_type": "stream",
     "text": [
      "Epochs:   0%|          | 0/150 [00:00<?, ?it/s]"
     ]
    },
    {
     "name": "stdout",
     "output_type": "stream",
     "text": [
      "[iteration 0001] loss: 104132322918.4000\n",
      "[iteration 0002] loss: 107014098124.8000\n",
      "[iteration 0003] loss: 102997029683.2000\n",
      "[iteration 0004] loss: 103729713971.2000\n",
      "[iteration 0005] loss: 101947644313.6000\n",
      "[iteration 0006] loss: 104824152883.2000\n",
      "[iteration 0007] loss: 97970541363.2000\n",
      "[iteration 0008] loss: 100537502105.6000\n"
     ]
    },
    {
     "name": "stderr",
     "output_type": "stream",
     "text": [
      "Epochs:   6%|▌         | 9/150 [00:00<00:01, 91.19it/s]"
     ]
    },
    {
     "name": "stdout",
     "output_type": "stream",
     "text": [
      "[iteration 0009] loss: 98945332838.4000\n",
      "Early stopping at epoch 9.\n",
      "Impurity(\n",
      "  (linear): PyroLinear(in_features=769, out_features=1, bias=True)\n",
      ")\n"
     ]
    },
    {
     "name": "stderr",
     "output_type": "stream",
     "text": [
      "\n"
     ]
    }
   ],
   "source": [
    "model = VSpyct(max_depth=3, bs=64)\n",
    "model.fit(X_train, y_train)#, clustering_data=torch.cat((X_train, y_train), axis=1))"
   ]
  },
  {
   "cell_type": "code",
   "execution_count": 9,
   "metadata": {},
   "outputs": [],
   "source": [
    "preds = model.predict(X_test)"
   ]
  },
  {
   "cell_type": "code",
   "execution_count": 10,
   "metadata": {},
   "outputs": [
    {
     "data": {
      "text/plain": [
       "torch.Size([84, 30, 4795])"
      ]
     },
     "execution_count": 10,
     "metadata": {},
     "output_type": "execute_result"
    }
   ],
   "source": [
    "preds.shape"
   ]
  },
  {
   "cell_type": "code",
   "execution_count": 11,
   "metadata": {},
   "outputs": [],
   "source": [
    "from spyct import Model"
   ]
  },
  {
   "cell_type": "code",
   "execution_count": 12,
   "metadata": {},
   "outputs": [],
   "source": [
    "spyct_model_onetree = Model(num_trees=1)\n",
    "spyct_model_onetree.fit(X_train.numpy(), y_train.numpy())\n",
    "preds_spyct_onetree = spyct_model_onetree.predict(X_test.numpy())"
   ]
  },
  {
   "cell_type": "code",
   "execution_count": 13,
   "metadata": {},
   "outputs": [],
   "source": [
    "spyct_model = Model()\n",
    "spyct_model.fit(X_train.numpy(), y_train.numpy())\n",
    "preds_spyct = spyct_model.predict(X_test.numpy())"
   ]
  },
  {
   "cell_type": "code",
   "execution_count": 14,
   "metadata": {},
   "outputs": [
    {
     "data": {
      "text/plain": [
       "<matplotlib.legend.Legend at 0x2a5a82b50>"
      ]
     },
     "execution_count": 14,
     "metadata": {},
     "output_type": "execute_result"
    },
    {
     "data": {
      "image/png": "[encoded data removed]",
      "text/plain": [
       "<Figure size 1500x500 with 1 Axes>"
      ]
     },
     "metadata": {},
     "output_type": "display_data"
    }
   ],
   "source": [
    "i = 47\n",
    "plt.figure(figsize=(15,5))\n",
    "plt.plot(preds_spyct[i, :], label='SPYCT')\n",
    "plt.plot(preds[i, :, :].mean(axis=0), label='Variational SPYCT')\n",
    "\n",
    "percentiles_10 = torch.quantile(preds[i, :, :], 0.1, axis=0)\n",
    "percentiles_90 = torch.quantile(preds[i, :, :], 0.9, axis=0)\n",
    "\n",
    "plt.fill_between(range(preds.shape[-1]), percentiles_10, percentiles_90, color='pink', alpha=0.8)\n",
    "\n",
    "plt.axvline(sum(y_test[i].numpy()), color='black')\n",
    "\n",
    "plt.legend()"
   ]
  },
  {
   "cell_type": "code",
   "execution_count": 15,
   "metadata": {},
   "outputs": [
    {
     "data": {
      "image/png": "[encoded data removed]",
      "text/plain": [
       "<Figure size 1500x500 with 1 Axes>"
      ]
     },
     "metadata": {},
     "output_type": "display_data"
    }
   ],
   "source": [
    "plot_brier(preds, preds_spyct_onetree, y_test)"
   ]
  },
  {
   "cell_type": "code",
   "execution_count": 16,
   "metadata": {},
   "outputs": [
    {
     "data": {
      "image/png": "[encoded data removed]",
      "text/plain": [
       "<Figure size 1500x500 with 1 Axes>"
      ]
     },
     "metadata": {},
     "output_type": "display_data"
    }
   ],
   "source": [
    "plot_brier(preds, preds_spyct, y_test)"
   ]
  },
  {
   "cell_type": "code",
   "execution_count": 17,
   "metadata": {},
   "outputs": [],
   "source": [
    "X_train, T_train, E_train, X_test, T_test, E_test = data.pysurvival_split()"
   ]
  },
  {
   "cell_type": "code",
   "execution_count": 18,
   "metadata": {},
   "outputs": [
    {
     "name": "stdout",
     "output_type": "stream",
     "text": [
      "Performing Newton-Raphson optimization\n",
      " * Iteration #1 - Loss = 714.551 - ||grad||^2 = 404.22307\n",
      " * Iteration #2 - Loss = 698.182 - ||grad||^2 = 399.76632\n",
      " * Iteration #3 - Loss = 688.456 - ||grad||^2 = 395.63918\n",
      " * Iteration #4 - Loss = 679.989 - ||grad||^2 = 391.58569\n",
      " * Iteration #5 - Loss = 672.359 - ||grad||^2 = 387.59254\n",
      " * Iteration #6 - Loss = 665.347 - ||grad||^2 = 383.65324\n",
      " * Iteration #7 - Loss = 658.821 - ||grad||^2 = 379.76382\n",
      " * Iteration #8 - Loss = 652.692 - ||grad||^2 = 375.92157\n",
      " * Iteration #9 - Loss = 646.897 - ||grad||^2 = 372.12447\n",
      " * Iteration #10 - Loss = 641.387 - ||grad||^2 = 368.37093\n",
      " * Iteration #11 - Loss = 636.125 - ||grad||^2 = 364.65965\n",
      " * Iteration #12 - Loss = 631.082 - ||grad||^2 = 360.98954\n",
      " * Iteration #13 - Loss = 626.233 - ||grad||^2 = 357.35965\n",
      " * Iteration #14 - Loss = 621.560 - ||grad||^2 = 353.76914\n",
      " * Iteration #15 - Loss = 617.044 - ||grad||^2 = 350.21724\n",
      " * Iteration #16 - Loss = 612.672 - ||grad||^2 = 346.70326\n",
      " * Iteration #17 - Loss = 608.432 - ||grad||^2 = 343.22657\n",
      " * Iteration #18 - Loss = 604.313 - ||grad||^2 = 339.78656\n",
      " * Iteration #19 - Loss = 600.307 - ||grad||^2 = 336.38268\n",
      " * Iteration #20 - Loss = 596.404 - ||grad||^2 = 333.01440\n",
      " * Iteration #21 - Loss = 592.597 - ||grad||^2 = 329.68122\n",
      " * Iteration #22 - Loss = 588.881 - ||grad||^2 = 326.38264\n",
      " * Iteration #23 - Loss = 585.250 - ||grad||^2 = 323.11822\n",
      " * Iteration #24 - Loss = 581.698 - ||grad||^2 = 319.88751\n",
      " * Iteration #25 - Loss = 578.221 - ||grad||^2 = 316.69007\n",
      " * Iteration #26 - Loss = 574.814 - ||grad||^2 = 313.52550\n",
      " * Iteration #27 - Loss = 571.474 - ||grad||^2 = 310.39339\n",
      " * Iteration #28 - Loss = 568.197 - ||grad||^2 = 307.29334\n",
      " * Iteration #29 - Loss = 564.979 - ||grad||^2 = 304.22498\n",
      " * Iteration #30 - Loss = 561.819 - ||grad||^2 = 301.18793\n",
      " * Iteration #31 - Loss = 558.713 - ||grad||^2 = 298.18183\n",
      " * Iteration #32 - Loss = 555.658 - ||grad||^2 = 295.20632\n",
      " * Iteration #33 - Loss = 552.652 - ||grad||^2 = 292.26105\n",
      " * Iteration #34 - Loss = 549.694 - ||grad||^2 = 289.34569\n",
      " * Iteration #35 - Loss = 546.781 - ||grad||^2 = 286.45989\n",
      " * Iteration #36 - Loss = 543.910 - ||grad||^2 = 283.60333\n",
      " * Iteration #37 - Loss = 541.081 - ||grad||^2 = 280.77569\n",
      " * Iteration #38 - Loss = 538.292 - ||grad||^2 = 277.97664\n",
      " * Iteration #39 - Loss = 535.541 - ||grad||^2 = 275.20588\n",
      " * Iteration #40 - Loss = 532.827 - ||grad||^2 = 272.46309\n",
      " * Iteration #41 - Loss = 530.148 - ||grad||^2 = 269.74798\n",
      " * Iteration #42 - Loss = 527.503 - ||grad||^2 = 267.06024\n",
      " * Iteration #43 - Loss = 524.891 - ||grad||^2 = 264.39959\n",
      " * Iteration #44 - Loss = 522.310 - ||grad||^2 = 261.76574\n",
      " * Iteration #45 - Loss = 519.760 - ||grad||^2 = 259.15839\n",
      " * Iteration #46 - Loss = 517.240 - ||grad||^2 = 256.57728\n",
      " * Iteration #47 - Loss = 514.748 - ||grad||^2 = 254.02211\n",
      " * Iteration #48 - Loss = 512.284 - ||grad||^2 = 251.49263\n",
      " * Iteration #49 - Loss = 509.847 - ||grad||^2 = 248.98855\n",
      " * Iteration #50 - Loss = 507.435 - ||grad||^2 = 246.50961\n",
      " * Iteration #51 - Loss = 505.049 - ||grad||^2 = 244.05556\n",
      " * Iteration #52 - Loss = 502.687 - ||grad||^2 = 241.62612\n",
      " * Iteration #53 - Loss = 500.349 - ||grad||^2 = 239.22105\n",
      " * Iteration #54 - Loss = 498.034 - ||grad||^2 = 236.84009\n",
      " * Iteration #55 - Loss = 495.741 - ||grad||^2 = 234.48299\n",
      " * Iteration #56 - Loss = 493.470 - ||grad||^2 = 232.14951\n",
      " * Iteration #57 - Loss = 491.221 - ||grad||^2 = 229.83940\n",
      " * Iteration #58 - Loss = 488.991 - ||grad||^2 = 227.55241\n",
      " * Iteration #59 - Loss = 486.782 - ||grad||^2 = 225.28832\n",
      " * Iteration #60 - Loss = 484.592 - ||grad||^2 = 223.04688\n",
      " * Iteration #61 - Loss = 482.421 - ||grad||^2 = 220.82787\n",
      " * Iteration #62 - Loss = 480.269 - ||grad||^2 = 218.63105\n",
      " * Iteration #63 - Loss = 478.134 - ||grad||^2 = 216.45620\n",
      " * Iteration #64 - Loss = 476.018 - ||grad||^2 = 214.30309\n",
      " * Iteration #65 - Loss = 473.918 - ||grad||^2 = 212.17149\n",
      " * Iteration #66 - Loss = 471.835 - ||grad||^2 = 210.06120\n",
      " * Iteration #67 - Loss = 469.769 - ||grad||^2 = 207.97200\n",
      " * Iteration #68 - Loss = 467.718 - ||grad||^2 = 205.90366\n",
      " * Iteration #69 - Loss = 465.684 - ||grad||^2 = 203.85597\n",
      " * Iteration #70 - Loss = 463.664 - ||grad||^2 = 201.82873\n",
      " * Iteration #71 - Loss = 461.659 - ||grad||^2 = 199.82173\n",
      " * Iteration #72 - Loss = 459.669 - ||grad||^2 = 197.83477\n",
      " * Iteration #73 - Loss = 457.694 - ||grad||^2 = 195.86763\n",
      " * Iteration #74 - Loss = 455.732 - ||grad||^2 = 193.92012\n",
      " * Iteration #75 - Loss = 453.784 - ||grad||^2 = 191.99204\n",
      " * Iteration #76 - Loss = 451.849 - ||grad||^2 = 190.08319\n",
      " * Iteration #77 - Loss = 449.928 - ||grad||^2 = 188.19339\n",
      " * Iteration #78 - Loss = 448.019 - ||grad||^2 = 186.32243\n",
      " * Iteration #79 - Loss = 446.123 - ||grad||^2 = 184.47012\n",
      " * Iteration #80 - Loss = 444.240 - ||grad||^2 = 182.63628\n",
      " * Iteration #81 - Loss = 442.368 - ||grad||^2 = 180.82073\n",
      " * Iteration #82 - Loss = 440.508 - ||grad||^2 = 179.02327\n",
      " * Iteration #83 - Loss = 438.661 - ||grad||^2 = 177.24372\n",
      " * Iteration #84 - Loss = 436.824 - ||grad||^2 = 175.48191\n",
      " * Iteration #85 - Loss = 434.999 - ||grad||^2 = 173.73765\n",
      " * Iteration #86 - Loss = 433.185 - ||grad||^2 = 172.01078\n",
      " * Iteration #87 - Loss = 431.381 - ||grad||^2 = 170.30110\n",
      " * Iteration #88 - Loss = 429.589 - ||grad||^2 = 168.60846\n",
      " * Iteration #89 - Loss = 427.806 - ||grad||^2 = 166.93268\n",
      " * Iteration #90 - Loss = 426.034 - ||grad||^2 = 165.27358\n",
      " * Iteration #91 - Loss = 424.273 - ||grad||^2 = 163.63101\n",
      " * Iteration #92 - Loss = 422.521 - ||grad||^2 = 162.00480\n",
      " * Iteration #93 - Loss = 420.779 - ||grad||^2 = 160.39477\n",
      " * Iteration #94 - Loss = 419.046 - ||grad||^2 = 158.80078\n",
      " * Iteration #95 - Loss = 417.323 - ||grad||^2 = 157.22266\n",
      " * Iteration #96 - Loss = 415.609 - ||grad||^2 = 155.66024\n",
      " * Iteration #97 - Loss = 413.905 - ||grad||^2 = 154.11338\n",
      " * Iteration #98 - Loss = 412.209 - ||grad||^2 = 152.58192\n",
      " * Iteration #99 - Loss = 410.523 - ||grad||^2 = 151.06569\n",
      " * Iteration #100 - Loss = 408.845 - ||grad||^2 = 149.56456\n",
      "Optimization reached max number of iterations.\n"
     ]
    },
    {
     "name": "stderr",
     "output_type": "stream",
     "text": [
      "/Users/viktorandonovic/miniconda3/lib/python3.8/site-packages/pysurvival/models/semi_parametric.py:49: RuntimeWarning: divide by zero encountered in divide\n",
      "  self.std_err  = np.sqrt(self.inv_Hessian.diagonal())/self.std_scale\n"
     ]
    },
    {
     "data": {
      "text/plain": [
       "CoxPHModel"
      ]
     },
     "execution_count": 18,
     "metadata": {},
     "output_type": "execute_result"
    }
   ],
   "source": [
    "from pysurvival.models.semi_parametric import CoxPHModel\n",
    "\n",
    "coxph = CoxPHModel()\n",
    "coxph.fit(X_train, T_train, E_train, lr=0.01, l2_reg=1e-2, init_method='zeros')"
   ]
  },
  {
   "cell_type": "code",
   "execution_count": 19,
   "metadata": {},
   "outputs": [
    {
     "name": "stdout",
     "output_type": "stream",
     "text": [
      "[  41.   51.   71.   77.   94.  110.  130.  131.  140.  179.  186.  191.\n",
      "  198.  216.  223.  249.  264.  304.  321.  326.  334.  359.  388.  400.\n",
      "  460.  466.  489.  515.  549.  552.  559.  597.  611.  681.  708.  727.\n",
      "  733.  750.  762.  778.  785.  786.  790.  791.  797.  799.  824.  850.\n",
      "  853.  859.  890.  904.  930.  935.  943.  971.  974.  980.  990.  999.\n",
      " 1000. 1012. 1037. 1077. 1080. 1083. 1095. 1152. 1165. 1168. 1170. 1191.\n",
      " 1197. 1212. 1217. 1350. 1356. 1413. 1427. 1434. 1444. 1462. 1478. 1487.\n",
      " 1518. 1536. 1576. 1616. 1657. 1682. 1690. 1741. 1746. 1786. 1827. 1925.\n",
      " 2011. 2071. 2090. 2105. 2111. 2224. 2256. 2286. 2288. 2297. 2386. 2400.\n",
      " 2419. 2466. 2503. 2540. 2583. 2598. 2689. 2769. 2796. 2812. 2847. 3086.\n",
      " 3090. 3170. 3222. 3244. 3358. 3428. 3445. 3561. 3574. 3762. 3839. 3853.\n",
      " 4079. 4191.]\n"
     ]
    }
   ],
   "source": [
    "times = coxph.times\n",
    "print(times)"
   ]
  },
  {
   "cell_type": "code",
   "execution_count": 20,
   "metadata": {},
   "outputs": [
    {
     "data": {
      "text/plain": [
       "[<matplotlib.lines.Line2D at 0x2b07e9430>]"
      ]
     },
     "execution_count": 20,
     "metadata": {},
     "output_type": "execute_result"
    },
    {
     "data": {
      "image/png": "[encoded data removed]",
      "text/plain": [
       "<Figure size 640x480 with 1 Axes>"
      ]
     },
     "metadata": {},
     "output_type": "display_data"
    }
   ],
   "source": [
    "predicted = coxph.predict_survival(X_test)\n",
    "plt.plot(predicted[5])"
   ]
  },
  {
   "cell_type": "code",
   "execution_count": 21,
   "metadata": {},
   "outputs": [
    {
     "data": {
      "text/plain": [
       "(84, 4795)"
      ]
     },
     "execution_count": 21,
     "metadata": {},
     "output_type": "execute_result"
    }
   ],
   "source": [
    "transformed_predictions = fix_predictions(predicted, times, int(T_train.max()))\n",
    "transformed_predictions.shape"
   ]
  },
  {
   "cell_type": "code",
   "execution_count": 22,
   "metadata": {},
   "outputs": [
    {
     "data": {
      "text/plain": [
       "<matplotlib.legend.Legend at 0x29dcd6970>"
      ]
     },
     "execution_count": 22,
     "metadata": {},
     "output_type": "execute_result"
    },
    {
     "data": {
      "image/png": "[encoded data removed]",
      "text/plain": [
       "<Figure size 640x480 with 1 Axes>"
      ]
     },
     "metadata": {},
     "output_type": "display_data"
    }
   ],
   "source": [
    "i = 30\n",
    "plt.plot(transformed_predictions[i], label='CoxPH')\n",
    "plt.plot(preds[i].mean(axis=0), label='Variational SPYCT')\n",
    "plt.axvline(T_test[i], color='k')\n",
    "plt.legend()"
   ]
  },
  {
   "cell_type": "code",
   "execution_count": 23,
   "metadata": {},
   "outputs": [],
   "source": [
    "bs_test = calculate_bs((transformed_predictions, y_test))"
   ]
  },
  {
   "cell_type": "code",
   "execution_count": 24,
   "metadata": {},
   "outputs": [],
   "source": [
    "bs_test2 = calculate_bs((preds.mean(axis=1), y_test))"
   ]
  },
  {
   "cell_type": "code",
   "execution_count": 25,
   "metadata": {},
   "outputs": [],
   "source": [
    "bs_test3 = calculate_bs((preds_spyct, y_test))"
   ]
  },
  {
   "cell_type": "code",
   "execution_count": 26,
   "metadata": {},
   "outputs": [
    {
     "data": {
      "text/plain": [
       "RandomSurvivalForestModel"
      ]
     },
     "execution_count": 26,
     "metadata": {},
     "output_type": "execute_result"
    }
   ],
   "source": [
    "from pysurvival.models.survival_forest import RandomSurvivalForestModel\n",
    "\n",
    "rsf = RandomSurvivalForestModel(num_trees=50)\n",
    "rsf.fit(X_train, T_train, E_train, max_features=\"sqrt\", max_depth=5)"
   ]
  },
  {
   "cell_type": "code",
   "execution_count": 27,
   "metadata": {},
   "outputs": [],
   "source": [
    "predicted_rsf = rsf.predict_survival(X_test)\n",
    "transformed_predictions_rsf = fix_predictions(predicted_rsf, rsf.times, int(T_train.max()))"
   ]
  },
  {
   "cell_type": "code",
   "execution_count": 61,
   "metadata": {},
   "outputs": [
    {
     "data": {
      "text/plain": [
       "[<matplotlib.lines.Line2D at 0x2a70b5fd0>]"
      ]
     },
     "execution_count": 61,
     "metadata": {},
     "output_type": "execute_result"
    },
    {
     "data": {
      "image/png": "[encoded data removed]",
      "text/plain": [
       "<Figure size 640x480 with 1 Axes>"
      ]
     },
     "metadata": {},
     "output_type": "display_data"
    }
   ],
   "source": [
    "bs_test_rsf = calculate_bs((transformed_predictions_rsf, y_test))\n",
    "plt.plot(bs_test_rsf[41:], label='Random Survival Forest')"
   ]
  },
  {
   "cell_type": "code",
   "execution_count": 62,
   "metadata": {},
   "outputs": [],
   "source": [
    "from pysurvival.models.multi_task import LinearMultiTaskModel"
   ]
  },
  {
   "cell_type": "code",
   "execution_count": 66,
   "metadata": {},
   "outputs": [
    {
     "name": "stderr",
     "output_type": "stream",
     "text": [
      "% Completion: 100%|***********************************************|Loss:  38.03\n"
     ]
    },
    {
     "data": {
      "text/plain": [
       "LinearMultiTaskModel"
      ]
     },
     "execution_count": 66,
     "metadata": {},
     "output_type": "execute_result"
    }
   ],
   "source": [
    "mtlr = LinearMultiTaskModel()\n",
    "mtlr.fit(X_train, T_train, E_train, lr=0.0001, l2_reg=1e-2, init_method='zeros')"
   ]
  },
  {
   "cell_type": "code",
   "execution_count": 73,
   "metadata": {},
   "outputs": [],
   "source": [
    "predicted_mtlr = mtlr.predict_survival(X_test)\n",
    "transformed_predictions_mtlr = fix_predictions(predicted_mtlr, mtlr.times, int(T_train.max()))\n",
    "for i in range(transformed_predictions_mtlr.shape[0]):\n",
    "    for j in range(transformed_predictions_mtlr.shape[1]):\n",
    "        if transformed_predictions_mtlr[i, j] < 0:\n",
    "            transformed_predictions_mtlr[i, j] = 0\n",
    "        if transformed_predictions_mtlr[i, j] > 1:\n",
    "            transformed_predictions_mtlr[i, j] = 1"
   ]
  },
  {
   "cell_type": "code",
   "execution_count": 74,
   "metadata": {},
   "outputs": [
    {
     "data": {
      "text/plain": [
       "[<matplotlib.lines.Line2D at 0x2a7a57940>]"
      ]
     },
     "execution_count": 74,
     "metadata": {},
     "output_type": "execute_result"
    },
    {
     "data": {
      "image/png": "[encoded data removed]",
      "text/plain": [
       "<Figure size 640x480 with 1 Axes>"
      ]
     },
     "metadata": {},
     "output_type": "display_data"
    }
   ],
   "source": [
    "bs_test_mtlr = calculate_bs((transformed_predictions_mtlr, y_test))\n",
    "plt.plot(bs_test_mtlr[41:], label='Multi-task Linear Regression')"
   ]
  },
  {
   "cell_type": "code",
   "execution_count": 75,
   "metadata": {},
   "outputs": [
    {
     "data": {
      "text/plain": [
       "<matplotlib.legend.Legend at 0x2a794b4f0>"
      ]
     },
     "execution_count": 75,
     "metadata": {},
     "output_type": "execute_result"
    },
    {
     "data": {
      "image/png": "[encoded data removed]",
      "text/plain": [
       "<Figure size 640x480 with 1 Axes>"
      ]
     },
     "metadata": {},
     "output_type": "display_data"
    }
   ],
   "source": [
    "plt.plot(bs_test[41:], label='CoxPH')\n",
    "plt.plot(bs_test2, label='Variational SPYCT')\n",
    "plt.plot(bs_test3, label='SPYCT')\n",
    "plt.plot(bs_test_rsf[41:], label='RSF')\n",
    "plt.plot(bs_test_mtlr[41:], label='MTLR')\n",
    "plt.legend()"
   ]
  },
  {
   "cell_type": "code",
   "execution_count": 38,
   "metadata": {},
   "outputs": [
    {
     "name": "stdout",
     "output_type": "stream",
     "text": [
      "0.2962022682302296 0.30426168668191494 0.27796417 0.25860468\n"
     ]
    }
   ],
   "source": [
    "print(bs_test_rsf[41:].max(),\n",
    "bs_test[41:].max(),\n",
    "bs_test2.max(),\n",
    "bs_test3.max())"
   ]
  },
  {
   "cell_type": "code",
   "execution_count": 49,
   "metadata": {},
   "outputs": [
    {
     "data": {
      "text/plain": [
       "325"
      ]
     },
     "execution_count": 49,
     "metadata": {},
     "output_type": "execute_result"
    }
   ],
   "source": [
    "from pysurvival.utils.metrics import brier_score\n",
    "example_bs = brier_score(rsf, X_test, T_test, E_test, t_max=None)\n",
    "plt.plot(example_bs[1])"
   ]
  },
  {
   "cell_type": "code",
   "execution_count": 79,
   "metadata": {},
   "outputs": [
    {
     "data": {
      "text/plain": [
       "(325,)"
      ]
     },
     "execution_count": 79,
     "metadata": {},
     "output_type": "execute_result"
    }
   ],
   "source": [
    "np.array(example_bs[1]).shape"
   ]
  },
  {
   "cell_type": "code",
   "execution_count": 87,
   "metadata": {},
   "outputs": [
    {
     "data": {
      "text/plain": [
       "324"
      ]
     },
     "execution_count": 87,
     "metadata": {},
     "output_type": "execute_result"
    }
   ],
   "source": [
    "np.expand_dims(example_bs[1], axis=0).shape[1]-1"
   ]
  },
  {
   "cell_type": "code",
   "execution_count": 90,
   "metadata": {},
   "outputs": [
    {
     "data": {
      "text/plain": [
       "[4.698363758397175e-05,\n",
       " 0.011691126435565158,\n",
       " 0.011641805042581001,\n",
       " 0.011629971030033975,\n",
       " 0.011657219246493766,\n",
       " 0.011695229783074633,\n",
       " 0.022621996260493764,\n",
       " 0.022613568978691156,\n",
       " 0.022659912764153505,\n",
       " 0.022691065498774643,\n",
       " 0.022721514256587486,\n",
       " 0.02279607602367885,\n",
       " 0.03376128362831336,\n",
       " 0.044277441210791815,\n",
       " 0.054114864166891354,\n",
       " 0.05386264163013994,\n",
       " 0.05356858974774874,\n",
       " 0.05332322851293739,\n",
       " 0.05324234768751295,\n",
       " 0.053359384271310796,\n",
       " 0.05323951855486332,\n",
       " 0.061296156569466,\n",
       " 0.06094565442242097,\n",
       " 0.060803668768502,\n",
       " 0.06075502010367258,\n",
       " 0.06067420155673442,\n",
       " 0.060755781110953005,\n",
       " 0.06073145890671243,\n",
       " 0.06036828539513404,\n",
       " 0.060292152154911294,\n",
       " 0.060243381739315226,\n",
       " 0.06037067168231339,\n",
       " 0.060514717229108145,\n",
       " 0.08781985642739504,\n",
       " 0.08777622064118441,\n",
       " 0.10483234921194458,\n",
       " 0.10456494622124675,\n",
       " 0.10455657962327379,\n",
       " 0.10455312204115215,\n",
       " 0.10431014453496514,\n",
       " 0.10399313911465911,\n",
       " 0.10351586620520034,\n",
       " 0.11172309402374274,\n",
       " 0.11112046026946977,\n",
       " 0.11093602372782616,\n",
       " 0.11076238649233364,\n",
       " 0.11038383921743099,\n",
       " 0.11007817848941687,\n",
       " 0.110084425947922,\n",
       " 0.11008630186698261,\n",
       " 0.11022570976318315,\n",
       " 0.11012505818813978,\n",
       " 0.1099141428994653,\n",
       " 0.11002234923419268,\n",
       " 0.11009797151803784,\n",
       " 0.11009761080757421,\n",
       " 0.11010038731687292,\n",
       " 0.11006232593715165,\n",
       " 0.11003629962454411,\n",
       " 0.11028711537654459,\n",
       " 0.11022221704433756,\n",
       " 0.11021302284258902,\n",
       " 0.11011919534738852,\n",
       " 0.11021455186049048,\n",
       " 0.11037270228468302,\n",
       " 0.10985315089601579,\n",
       " 0.11000286301495649,\n",
       " 0.1101577076114501,\n",
       " 0.11033565229124863,\n",
       " 0.11057782135623927,\n",
       " 0.1105537300769104,\n",
       " 0.11047757718743678,\n",
       " 0.11089489703142152,\n",
       " 0.11092431456675758,\n",
       " 0.11096600644429662,\n",
       " 0.11096600644429662,\n",
       " 0.11069064468207393,\n",
       " 0.11066849599794572,\n",
       " 0.11097555931699823,\n",
       " 0.1118945920331905,\n",
       " 0.11200789513560983,\n",
       " 0.11200789513560983,\n",
       " 0.1121360717323356,\n",
       " 0.11239101711211401,\n",
       " 0.11196935686834102,\n",
       " 0.11249878110766443,\n",
       " 0.11245861524124304,\n",
       " 0.11245861524124304,\n",
       " 0.11314733965424151,\n",
       " 0.1130088106251984,\n",
       " 0.11335776757047357,\n",
       " 0.11392064872215091,\n",
       " 0.11625660853772136,\n",
       " 0.1162387830371008,\n",
       " 0.11747036633496354,\n",
       " 0.1169650635653226,\n",
       " 0.11715008843537614,\n",
       " 0.11715008843537614,\n",
       " 0.11715008843537614,\n",
       " 0.11715008843537614,\n",
       " 0.12554880157668954,\n",
       " 0.12554880157668954,\n",
       " 0.12554880157668954,\n",
       " 0.12554880157668954,\n",
       " 0.12554880157668954,\n",
       " 0.12554880157668954,\n",
       " 0.1341899884445847,\n",
       " 0.13262401291998638,\n",
       " 0.13330775123120533,\n",
       " 0.13330775123120533,\n",
       " 0.13330775123120533,\n",
       " 0.13275105225783795,\n",
       " 0.13349531216911822,\n",
       " 0.1328069825470317,\n",
       " 0.13316560727615556,\n",
       " 0.14250082344325476,\n",
       " 0.14250082344325476,\n",
       " 0.14250082344325476,\n",
       " 0.14250082344325476,\n",
       " 0.14330201895425657,\n",
       " 0.14330201895425657,\n",
       " 0.14330201895425657,\n",
       " 0.14367109130339112,\n",
       " 0.14367109130339112,\n",
       " 0.14367109130339112,\n",
       " 0.1438431963256696,\n",
       " 0.1438431963256696,\n",
       " 0.1431007986027479,\n",
       " 0.1431007986027479,\n",
       " 0.1431007986027479,\n",
       " 0.14347062551031803,\n",
       " 0.14347062551031803,\n",
       " 0.14347062551031803,\n",
       " 0.14347062551031803,\n",
       " 0.1434413799990538,\n",
       " 0.14393005592270267,\n",
       " 0.14393005592270267,\n",
       " 0.14481340914096244,\n",
       " 0.1506980047128201,\n",
       " 0.15060490087994832,\n",
       " 0.15060490087994832,\n",
       " 0.15127172898909771,\n",
       " 0.15127172898909771,\n",
       " 0.1523536057378281,\n",
       " 0.1523536057378281,\n",
       " 0.1523536057378281,\n",
       " 0.1523536057378281,\n",
       " 0.15269958203168899,\n",
       " 0.15269958203168899,\n",
       " 0.15269958203168899,\n",
       " 0.1520361466256426,\n",
       " 0.15203574965556343,\n",
       " 0.15224080702679205,\n",
       " 0.15224080702679205,\n",
       " 0.15224080702679205,\n",
       " 0.15224080702679205,\n",
       " 0.15285847917011594,\n",
       " 0.15285847917011594,\n",
       " 0.15285847917011594,\n",
       " 0.15285847917011594,\n",
       " 0.15295769970641165,\n",
       " 0.15445588807334973,\n",
       " 0.15445588807334973,\n",
       " 0.15586656574688124,\n",
       " 0.15586656574688124,\n",
       " 0.15586656574688124,\n",
       " 0.1565093478837171,\n",
       " 0.157130946001825,\n",
       " 0.157130946001825,\n",
       " 0.154093967841566,\n",
       " 0.15561554580072923,\n",
       " 0.15543377813053294,\n",
       " 0.15543377813053294,\n",
       " 0.15543377813053294,\n",
       " 0.15573319127539847,\n",
       " 0.15573319127539847,\n",
       " 0.15573319127539847,\n",
       " 0.16303833139000767,\n",
       " 0.16303833139000767,\n",
       " 0.16476033244431376,\n",
       " 0.16380736996089545,\n",
       " 0.16380736996089545,\n",
       " 0.16380736996089545,\n",
       " 0.16380736996089545,\n",
       " 0.16380736996089545,\n",
       " 0.16380736996089545,\n",
       " 0.16380736996089545,\n",
       " 0.16380736996089545,\n",
       " 0.16380736996089545,\n",
       " 0.16421413564278375,\n",
       " 0.16421413564278375,\n",
       " 0.16421413564278375,\n",
       " 0.16421413564278375,\n",
       " 0.1740840101460118,\n",
       " 0.1821380343654567,\n",
       " 0.18293387909863934,\n",
       " 0.18293387909863934,\n",
       " 0.18356013415835118,\n",
       " 0.18579631265271548,\n",
       " 0.18579631265271548,\n",
       " 0.18579631265271548,\n",
       " 0.18579631265271548,\n",
       " 0.18579631265271548,\n",
       " 0.18579631265271548,\n",
       " 0.18371639208972704,\n",
       " 0.18602293636131892,\n",
       " 0.18602293636131892,\n",
       " 0.18502453035324448,\n",
       " 0.18751997205167095,\n",
       " 0.18751997205167095,\n",
       " 0.18692434508001335,\n",
       " 0.18963008050295904,\n",
       " 0.1915230255479768,\n",
       " 0.19319109013471372,\n",
       " 0.1895519958826786,\n",
       " 0.1895519958826786,\n",
       " 0.1895519958826786,\n",
       " 0.19270124824130516,\n",
       " 0.19270124824130516,\n",
       " 0.19270124824130516,\n",
       " 0.19270124824130516,\n",
       " 0.19017465642311937,\n",
       " 0.19017465642311937,\n",
       " 0.19112693783174386,\n",
       " 0.19218684388062326,\n",
       " 0.19218684388062326,\n",
       " 0.1973185202255539,\n",
       " 0.1973185202255539,\n",
       " 0.1973185202255539,\n",
       " 0.1973185202255539,\n",
       " 0.1960016032952964,\n",
       " 0.1960016032952964,\n",
       " 0.1960016032952964,\n",
       " 0.20252416511409807,\n",
       " 0.19905880982487925,\n",
       " 0.19905880982487925,\n",
       " 0.20324041289564634,\n",
       " 0.20324041289564634,\n",
       " 0.203813085444563,\n",
       " 0.203813085444563,\n",
       " 0.19878310544665928,\n",
       " 0.19878310544665928,\n",
       " 0.19878310544665928,\n",
       " 0.19878310544665928,\n",
       " 0.19878310544665928,\n",
       " 0.20130315182170477,\n",
       " 0.2079276977528234,\n",
       " 0.2079276977528234,\n",
       " 0.2079276977528234,\n",
       " 0.20929446062939241,\n",
       " 0.20545934833313093,\n",
       " 0.20545934833313093,\n",
       " 0.21320448739125222,\n",
       " 0.20851391347817608,\n",
       " 0.21445017086583243,\n",
       " 0.21445017086583243,\n",
       " 0.2179796147588924,\n",
       " 0.21585529060638833,\n",
       " 0.21585529060638833,\n",
       " 0.22617991388508124,\n",
       " 0.2185535074154859,\n",
       " 0.2185535074154859,\n",
       " 0.22122903079734493,\n",
       " 0.2292352072818217,\n",
       " 0.2292352072818217,\n",
       " 0.22287566306275228,\n",
       " 0.23141810670000032,\n",
       " 0.2312355682855364,\n",
       " 0.22329836527188698,\n",
       " 0.23293503325186196,\n",
       " 0.23293503325186196,\n",
       " 0.2235223007978883,\n",
       " 0.23887820939003787,\n",
       " 0.24103982559352413,\n",
       " 0.2523099341743437,\n",
       " 0.24229780739070775,\n",
       " 0.24542834525744792,\n",
       " 0.2646966408272529,\n",
       " 0.2525018141603133,\n",
       " 0.2603797149381094,\n",
       " 0.2603797149381094,\n",
       " 0.2527107982177268,\n",
       " 0.2527107982177268,\n",
       " 0.2602597713154612,\n",
       " 0.2602597713154612,\n",
       " 0.27808226945091874,\n",
       " 0.2823729382330731,\n",
       " 0.2596238994673036,\n",
       " 0.2861248157518299,\n",
       " 0.2625651986724579,\n",
       " 0.2625651986724579,\n",
       " 0.2625651986724579,\n",
       " 0.2625651986724579,\n",
       " 0.2655953790080985,\n",
       " 0.2696556156323434,\n",
       " 0.2696556156323434,\n",
       " 0.2696556156323434,\n",
       " 0.2670706078211249,\n",
       " 0.2670706078211249,\n",
       " 0.2670706078211249,\n",
       " 0.2718310119713343,\n",
       " 0.2718310119713343,\n",
       " 0.309857681465293,\n",
       " 0.3137141763269528,\n",
       " 0.3137141763269528,\n",
       " 0.3188132722255453,\n",
       " 0.3188132722255453,\n",
       " 0.3188132722255453,\n",
       " 0.3188132722255453,\n",
       " 0.3188132722255453,\n",
       " 0.3188132722255453,\n",
       " 0.3188132722255453,\n",
       " 0.3188132722255453,\n",
       " 0.29105702222309887,\n",
       " 0.29105702222309887,\n",
       " 0.3477036976851486,\n",
       " 0.3477036976851486,\n",
       " 0.35900408470963346,\n",
       " 0.289309523097722,\n",
       " 0.3674772160815734,\n",
       " 0.43192755167855645,\n",
       " 0.43192755167855645,\n",
       " 0.2960977244664829,\n",
       " 0.32010840493531056,\n",
       " 0.32010840493531056]"
      ]
     },
     "execution_count": 90,
     "metadata": {},
     "output_type": "execute_result"
    }
   ],
   "source": [
    "example_bs[1]"
   ]
  },
  {
   "cell_type": "code",
   "execution_count": 55,
   "metadata": {},
   "outputs": [
    {
     "data": {
      "text/plain": [
       "(84, 327)"
      ]
     },
     "execution_count": 55,
     "metadata": {},
     "output_type": "execute_result"
    }
   ],
   "source": [
    "predicted_rsf.shape"
   ]
  },
  {
   "cell_type": "code",
   "execution_count": 59,
   "metadata": {},
   "outputs": [
    {
     "data": {
      "text/plain": [
       "[4.698363758397175e-05,\n",
       " 0.011691126435565158,\n",
       " 0.011641805042581001,\n",
       " 0.011629971030033975,\n",
       " 0.011657219246493766,\n",
       " 0.011695229783074633,\n",
       " 0.022621996260493764,\n",
       " 0.022613568978691156,\n",
       " 0.022659912764153505,\n",
       " 0.022691065498774643,\n",
       " 0.022721514256587486,\n",
       " 0.02279607602367885,\n",
       " 0.03376128362831336,\n",
       " 0.044277441210791815,\n",
       " 0.054114864166891354,\n",
       " 0.05386264163013994,\n",
       " 0.05356858974774874,\n",
       " 0.05332322851293739,\n",
       " 0.05324234768751295,\n",
       " 0.053359384271310796,\n",
       " 0.05323951855486332,\n",
       " 0.061296156569466,\n",
       " 0.06094565442242097,\n",
       " 0.060803668768502,\n",
       " 0.06075502010367258,\n",
       " 0.06067420155673442,\n",
       " 0.060755781110953005,\n",
       " 0.06073145890671243,\n",
       " 0.06036828539513404,\n",
       " 0.060292152154911294,\n",
       " 0.060243381739315226,\n",
       " 0.06037067168231339,\n",
       " 0.060514717229108145,\n",
       " 0.08781985642739504,\n",
       " 0.08777622064118441,\n",
       " 0.10483234921194458,\n",
       " 0.10456494622124675,\n",
       " 0.10455657962327379,\n",
       " 0.10455312204115215,\n",
       " 0.10431014453496514,\n",
       " 0.10399313911465911,\n",
       " 0.10351586620520034,\n",
       " 0.11172309402374274,\n",
       " 0.11112046026946977,\n",
       " 0.11093602372782616,\n",
       " 0.11076238649233364,\n",
       " 0.11038383921743099,\n",
       " 0.11007817848941687,\n",
       " 0.110084425947922,\n",
       " 0.11008630186698261,\n",
       " 0.11022570976318315,\n",
       " 0.11012505818813978,\n",
       " 0.1099141428994653,\n",
       " 0.11002234923419268,\n",
       " 0.11009797151803784,\n",
       " 0.11009761080757421,\n",
       " 0.11010038731687292,\n",
       " 0.11006232593715165,\n",
       " 0.11003629962454411,\n",
       " 0.11028711537654459,\n",
       " 0.11022221704433756,\n",
       " 0.11021302284258902,\n",
       " 0.11011919534738852,\n",
       " 0.11021455186049048,\n",
       " 0.11037270228468302,\n",
       " 0.10985315089601579,\n",
       " 0.11000286301495649,\n",
       " 0.1101577076114501,\n",
       " 0.11033565229124863,\n",
       " 0.11057782135623927,\n",
       " 0.1105537300769104,\n",
       " 0.11047757718743678,\n",
       " 0.11089489703142152,\n",
       " 0.11092431456675758,\n",
       " 0.11096600644429662,\n",
       " 0.11096600644429662,\n",
       " 0.11069064468207393,\n",
       " 0.11066849599794572,\n",
       " 0.11097555931699823,\n",
       " 0.1118945920331905,\n",
       " 0.11200789513560983,\n",
       " 0.11200789513560983,\n",
       " 0.1121360717323356,\n",
       " 0.11239101711211401,\n",
       " 0.11196935686834102,\n",
       " 0.11249878110766443,\n",
       " 0.11245861524124304,\n",
       " 0.11245861524124304,\n",
       " 0.11314733965424151,\n",
       " 0.1130088106251984,\n",
       " 0.11335776757047357,\n",
       " 0.11392064872215091,\n",
       " 0.11625660853772136,\n",
       " 0.1162387830371008,\n",
       " 0.11747036633496354,\n",
       " 0.1169650635653226,\n",
       " 0.11715008843537614,\n",
       " 0.11715008843537614,\n",
       " 0.11715008843537614,\n",
       " 0.11715008843537614,\n",
       " 0.12554880157668954,\n",
       " 0.12554880157668954,\n",
       " 0.12554880157668954,\n",
       " 0.12554880157668954,\n",
       " 0.12554880157668954,\n",
       " 0.12554880157668954,\n",
       " 0.1341899884445847,\n",
       " 0.13262401291998638,\n",
       " 0.13330775123120533,\n",
       " 0.13330775123120533,\n",
       " 0.13330775123120533,\n",
       " 0.13275105225783795,\n",
       " 0.13349531216911822,\n",
       " 0.1328069825470317,\n",
       " 0.13316560727615556,\n",
       " 0.14250082344325476,\n",
       " 0.14250082344325476,\n",
       " 0.14250082344325476,\n",
       " 0.14250082344325476,\n",
       " 0.14330201895425657,\n",
       " 0.14330201895425657,\n",
       " 0.14330201895425657,\n",
       " 0.14367109130339112,\n",
       " 0.14367109130339112,\n",
       " 0.14367109130339112,\n",
       " 0.1438431963256696,\n",
       " 0.1438431963256696,\n",
       " 0.1431007986027479,\n",
       " 0.1431007986027479,\n",
       " 0.1431007986027479,\n",
       " 0.14347062551031803,\n",
       " 0.14347062551031803,\n",
       " 0.14347062551031803,\n",
       " 0.14347062551031803,\n",
       " 0.1434413799990538,\n",
       " 0.14393005592270267,\n",
       " 0.14393005592270267,\n",
       " 0.14481340914096244,\n",
       " 0.1506980047128201,\n",
       " 0.15060490087994832,\n",
       " 0.15060490087994832,\n",
       " 0.15127172898909771,\n",
       " 0.15127172898909771,\n",
       " 0.1523536057378281,\n",
       " 0.1523536057378281,\n",
       " 0.1523536057378281,\n",
       " 0.1523536057378281,\n",
       " 0.15269958203168899,\n",
       " 0.15269958203168899,\n",
       " 0.15269958203168899,\n",
       " 0.1520361466256426,\n",
       " 0.15203574965556343,\n",
       " 0.15224080702679205,\n",
       " 0.15224080702679205,\n",
       " 0.15224080702679205,\n",
       " 0.15224080702679205,\n",
       " 0.15285847917011594,\n",
       " 0.15285847917011594,\n",
       " 0.15285847917011594,\n",
       " 0.15285847917011594,\n",
       " 0.15295769970641165,\n",
       " 0.15445588807334973,\n",
       " 0.15445588807334973,\n",
       " 0.15586656574688124,\n",
       " 0.15586656574688124,\n",
       " 0.15586656574688124,\n",
       " 0.1565093478837171,\n",
       " 0.157130946001825,\n",
       " 0.157130946001825,\n",
       " 0.154093967841566,\n",
       " 0.15561554580072923,\n",
       " 0.15543377813053294,\n",
       " 0.15543377813053294,\n",
       " 0.15543377813053294,\n",
       " 0.15573319127539847,\n",
       " 0.15573319127539847,\n",
       " 0.15573319127539847,\n",
       " 0.16303833139000767,\n",
       " 0.16303833139000767,\n",
       " 0.16476033244431376,\n",
       " 0.16380736996089545,\n",
       " 0.16380736996089545,\n",
       " 0.16380736996089545,\n",
       " 0.16380736996089545,\n",
       " 0.16380736996089545,\n",
       " 0.16380736996089545,\n",
       " 0.16380736996089545,\n",
       " 0.16380736996089545,\n",
       " 0.16380736996089545,\n",
       " 0.16421413564278375,\n",
       " 0.16421413564278375,\n",
       " 0.16421413564278375,\n",
       " 0.16421413564278375,\n",
       " 0.1740840101460118,\n",
       " 0.1821380343654567,\n",
       " 0.18293387909863934,\n",
       " 0.18293387909863934,\n",
       " 0.18356013415835118,\n",
       " 0.18579631265271548,\n",
       " 0.18579631265271548,\n",
       " 0.18579631265271548,\n",
       " 0.18579631265271548,\n",
       " 0.18579631265271548,\n",
       " 0.18579631265271548,\n",
       " 0.18371639208972704,\n",
       " 0.18602293636131892,\n",
       " 0.18602293636131892,\n",
       " 0.18502453035324448,\n",
       " 0.18751997205167095,\n",
       " 0.18751997205167095,\n",
       " 0.18692434508001335,\n",
       " 0.18963008050295904,\n",
       " 0.1915230255479768,\n",
       " 0.19319109013471372,\n",
       " 0.1895519958826786,\n",
       " 0.1895519958826786,\n",
       " 0.1895519958826786,\n",
       " 0.19270124824130516,\n",
       " 0.19270124824130516,\n",
       " 0.19270124824130516,\n",
       " 0.19270124824130516,\n",
       " 0.19017465642311937,\n",
       " 0.19017465642311937,\n",
       " 0.19112693783174386,\n",
       " 0.19218684388062326,\n",
       " 0.19218684388062326,\n",
       " 0.1973185202255539,\n",
       " 0.1973185202255539,\n",
       " 0.1973185202255539,\n",
       " 0.1973185202255539,\n",
       " 0.1960016032952964,\n",
       " 0.1960016032952964,\n",
       " 0.1960016032952964,\n",
       " 0.20252416511409807,\n",
       " 0.19905880982487925,\n",
       " 0.19905880982487925,\n",
       " 0.20324041289564634,\n",
       " 0.20324041289564634,\n",
       " 0.203813085444563,\n",
       " 0.203813085444563,\n",
       " 0.19878310544665928,\n",
       " 0.19878310544665928,\n",
       " 0.19878310544665928,\n",
       " 0.19878310544665928,\n",
       " 0.19878310544665928,\n",
       " 0.20130315182170477,\n",
       " 0.2079276977528234,\n",
       " 0.2079276977528234,\n",
       " 0.2079276977528234,\n",
       " 0.20929446062939241,\n",
       " 0.20545934833313093,\n",
       " 0.20545934833313093,\n",
       " 0.21320448739125222,\n",
       " 0.20851391347817608,\n",
       " 0.21445017086583243,\n",
       " 0.21445017086583243,\n",
       " 0.2179796147588924,\n",
       " 0.21585529060638833,\n",
       " 0.21585529060638833,\n",
       " 0.22617991388508124,\n",
       " 0.2185535074154859,\n",
       " 0.2185535074154859,\n",
       " 0.22122903079734493,\n",
       " 0.2292352072818217,\n",
       " 0.2292352072818217,\n",
       " 0.22287566306275228,\n",
       " 0.23141810670000032,\n",
       " 0.2312355682855364,\n",
       " 0.22329836527188698,\n",
       " 0.23293503325186196,\n",
       " 0.23293503325186196,\n",
       " 0.2235223007978883,\n",
       " 0.23887820939003787,\n",
       " 0.24103982559352413,\n",
       " 0.2523099341743437,\n",
       " 0.24229780739070775,\n",
       " 0.24542834525744792,\n",
       " 0.2646966408272529,\n",
       " 0.2525018141603133,\n",
       " 0.2603797149381094,\n",
       " 0.2603797149381094,\n",
       " 0.2527107982177268,\n",
       " 0.2527107982177268,\n",
       " 0.2602597713154612,\n",
       " 0.2602597713154612,\n",
       " 0.27808226945091874,\n",
       " 0.2823729382330731,\n",
       " 0.2596238994673036,\n",
       " 0.2861248157518299,\n",
       " 0.2625651986724579,\n",
       " 0.2625651986724579,\n",
       " 0.2625651986724579,\n",
       " 0.2625651986724579,\n",
       " 0.2655953790080985,\n",
       " 0.2696556156323434,\n",
       " 0.2696556156323434,\n",
       " 0.2696556156323434,\n",
       " 0.2670706078211249,\n",
       " 0.2670706078211249,\n",
       " 0.2670706078211249,\n",
       " 0.2718310119713343,\n",
       " 0.2718310119713343,\n",
       " 0.309857681465293,\n",
       " 0.3137141763269528,\n",
       " 0.3137141763269528,\n",
       " 0.3188132722255453,\n",
       " 0.3188132722255453,\n",
       " 0.3188132722255453,\n",
       " 0.3188132722255453,\n",
       " 0.3188132722255453,\n",
       " 0.3188132722255453,\n",
       " 0.3188132722255453,\n",
       " 0.3188132722255453,\n",
       " 0.29105702222309887,\n",
       " 0.29105702222309887,\n",
       " 0.3477036976851486,\n",
       " 0.3477036976851486,\n",
       " 0.35900408470963346,\n",
       " 0.289309523097722,\n",
       " 0.3674772160815734,\n",
       " 0.43192755167855645,\n",
       " 0.43192755167855645,\n",
       " 0.2960977244664829,\n",
       " 0.32010840493531056,\n",
       " 0.32010840493531056]"
      ]
     },
     "execution_count": 59,
     "metadata": {},
     "output_type": "execute_result"
    }
   ],
   "source": [
    "example_bs[1]"
   ]
  },
  {
   "cell_type": "code",
   "execution_count": null,
   "metadata": {},
   "outputs": [],
   "source": []
  }
 ],
 "metadata": {
  "kernelspec": {
   "display_name": "base",
   "language": "python",
   "name": "python3"
  },
  "language_info": {
   "codemirror_mode": {
    "name": "ipython",
    "version": 3
   },
   "file_extension": ".py",
   "mimetype": "text/x-python",
   "name": "python",
   "nbconvert_exporter": "python",
   "pygments_lexer": "ipython3",
   "version": "3.8.17"
  },
  "orig_nbformat": 4,
  "vscode": {
   "interpreter": {
    "hash": "cc7277dfab6d5d4897e99b5cc736f9228836f1dda1604709a8d9bb8c8b4a4da5"
   }
  }
 },
 "nbformat": 4,
 "nbformat_minor": 2
}
