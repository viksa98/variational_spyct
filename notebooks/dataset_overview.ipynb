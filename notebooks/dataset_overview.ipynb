{
 "cells": [
  {
   "cell_type": "code",
   "execution_count": 1,
   "metadata": {},
   "outputs": [],
   "source": [
    "import pandas as pd\n",
    "import numpy as np\n",
    "import os"
   ]
  },
  {
   "cell_type": "code",
   "execution_count": 2,
   "metadata": {},
   "outputs": [
    {
     "name": "stderr",
     "output_type": "stream",
     "text": [
      "/Users/viktorandonovic/miniconda3/lib/python3.8/site-packages/tqdm/auto.py:21: TqdmWarning: IProgress not found. Please update jupyter and ipywidgets. See https://ipywidgets.readthedocs.io/en/stable/user_install.html\n",
      "  from .autonotebook import tqdm as notebook_tqdm\n"
     ]
    }
   ],
   "source": [
    "import numpy as np\n",
    "import pandas as pd\n",
    "import torch\n",
    "import os\n",
    "import matplotlib.pyplot as plt\n",
    "import sys\n",
    "sys.path.append('..')\n",
    "from src.models.model import VSpyct\n",
    "from src.utils import (calculate_bs, fix_predictions, plot_brier)\n",
    "from src.data.dataset import SurvivalDataset"
   ]
  },
  {
   "cell_type": "code",
   "execution_count": 3,
   "metadata": {},
   "outputs": [
    {
     "name": "stdout",
     "output_type": "stream",
     "text": [
      "cancer.rda\n",
      "logan.rda\n",
      "heart.rda\n",
      "survexp.rda\n",
      "pbc.rda\n",
      "solder.rda\n",
      "tobin.rda\n",
      "udca.rda\n",
      "nwtco.rda\n",
      "reliability.rda\n",
      "cgd.rda\n",
      "retinopathy.rda\n",
      "transplant.rda\n",
      "diabetic.rda\n",
      "flchain.rda\n",
      "rhDNase.rda\n",
      "nafld.rda\n"
     ]
    }
   ],
   "source": [
    "for file in os.listdir('../data/raw'):\n",
    "  if '.rda' in file: print(file)"
   ]
  },
  {
   "cell_type": "code",
   "execution_count": 26,
   "metadata": {},
   "outputs": [
    {
     "data": {
      "text/html": [
       "<div>\n",
       "<style scoped>\n",
       "    .dataframe tbody tr th:only-of-type {\n",
       "        vertical-align: middle;\n",
       "    }\n",
       "\n",
       "    .dataframe tbody tr th {\n",
       "        vertical-align: top;\n",
       "    }\n",
       "\n",
       "    .dataframe thead th {\n",
       "        text-align: right;\n",
       "    }\n",
       "</style>\n",
       "<table border=\"1\" class=\"dataframe\">\n",
       "  <thead>\n",
       "    <tr style=\"text-align: right;\">\n",
       "      <th></th>\n",
       "      <th>start</th>\n",
       "      <th>stop</th>\n",
       "      <th>event</th>\n",
       "      <th>age</th>\n",
       "      <th>year</th>\n",
       "      <th>surgery</th>\n",
       "      <th>transplant</th>\n",
       "      <th>id</th>\n",
       "    </tr>\n",
       "    <tr>\n",
       "      <th>rownames</th>\n",
       "      <th></th>\n",
       "      <th></th>\n",
       "      <th></th>\n",
       "      <th></th>\n",
       "      <th></th>\n",
       "      <th></th>\n",
       "      <th></th>\n",
       "      <th></th>\n",
       "    </tr>\n",
       "  </thead>\n",
       "  <tbody>\n",
       "    <tr>\n",
       "      <th>1</th>\n",
       "      <td>0.0</td>\n",
       "      <td>50.0</td>\n",
       "      <td>1.0</td>\n",
       "      <td>-17.155373</td>\n",
       "      <td>0.123203</td>\n",
       "      <td>0.0</td>\n",
       "      <td>0</td>\n",
       "      <td>1.0</td>\n",
       "    </tr>\n",
       "    <tr>\n",
       "      <th>2</th>\n",
       "      <td>0.0</td>\n",
       "      <td>6.0</td>\n",
       "      <td>1.0</td>\n",
       "      <td>3.835729</td>\n",
       "      <td>0.254620</td>\n",
       "      <td>0.0</td>\n",
       "      <td>0</td>\n",
       "      <td>2.0</td>\n",
       "    </tr>\n",
       "    <tr>\n",
       "      <th>3</th>\n",
       "      <td>0.0</td>\n",
       "      <td>1.0</td>\n",
       "      <td>0.0</td>\n",
       "      <td>6.297057</td>\n",
       "      <td>0.265572</td>\n",
       "      <td>0.0</td>\n",
       "      <td>0</td>\n",
       "      <td>3.0</td>\n",
       "    </tr>\n",
       "    <tr>\n",
       "      <th>4</th>\n",
       "      <td>1.0</td>\n",
       "      <td>16.0</td>\n",
       "      <td>1.0</td>\n",
       "      <td>6.297057</td>\n",
       "      <td>0.265572</td>\n",
       "      <td>0.0</td>\n",
       "      <td>1</td>\n",
       "      <td>3.0</td>\n",
       "    </tr>\n",
       "    <tr>\n",
       "      <th>5</th>\n",
       "      <td>0.0</td>\n",
       "      <td>36.0</td>\n",
       "      <td>0.0</td>\n",
       "      <td>-7.737166</td>\n",
       "      <td>0.490075</td>\n",
       "      <td>0.0</td>\n",
       "      <td>0</td>\n",
       "      <td>4.0</td>\n",
       "    </tr>\n",
       "    <tr>\n",
       "      <th>...</th>\n",
       "      <td>...</td>\n",
       "      <td>...</td>\n",
       "      <td>...</td>\n",
       "      <td>...</td>\n",
       "      <td>...</td>\n",
       "      <td>...</td>\n",
       "      <td>...</td>\n",
       "      <td>...</td>\n",
       "    </tr>\n",
       "    <tr>\n",
       "      <th>168</th>\n",
       "      <td>0.0</td>\n",
       "      <td>38.0</td>\n",
       "      <td>0.0</td>\n",
       "      <td>-12.939083</td>\n",
       "      <td>6.395619</td>\n",
       "      <td>1.0</td>\n",
       "      <td>0</td>\n",
       "      <td>100.0</td>\n",
       "    </tr>\n",
       "    <tr>\n",
       "      <th>169</th>\n",
       "      <td>38.0</td>\n",
       "      <td>39.0</td>\n",
       "      <td>0.0</td>\n",
       "      <td>-12.939083</td>\n",
       "      <td>6.395619</td>\n",
       "      <td>1.0</td>\n",
       "      <td>1</td>\n",
       "      <td>100.0</td>\n",
       "    </tr>\n",
       "    <tr>\n",
       "      <th>170</th>\n",
       "      <td>0.0</td>\n",
       "      <td>31.0</td>\n",
       "      <td>0.0</td>\n",
       "      <td>1.516769</td>\n",
       "      <td>6.417522</td>\n",
       "      <td>0.0</td>\n",
       "      <td>0</td>\n",
       "      <td>101.0</td>\n",
       "    </tr>\n",
       "    <tr>\n",
       "      <th>171</th>\n",
       "      <td>0.0</td>\n",
       "      <td>11.0</td>\n",
       "      <td>0.0</td>\n",
       "      <td>-7.608487</td>\n",
       "      <td>6.472279</td>\n",
       "      <td>0.0</td>\n",
       "      <td>0</td>\n",
       "      <td>102.0</td>\n",
       "    </tr>\n",
       "    <tr>\n",
       "      <th>172</th>\n",
       "      <td>0.0</td>\n",
       "      <td>6.0</td>\n",
       "      <td>1.0</td>\n",
       "      <td>-8.684463</td>\n",
       "      <td>-0.049281</td>\n",
       "      <td>0.0</td>\n",
       "      <td>0</td>\n",
       "      <td>103.0</td>\n",
       "    </tr>\n",
       "  </tbody>\n",
       "</table>\n",
       "<p>172 rows × 8 columns</p>\n",
       "</div>"
      ],
      "text/plain": [
       "          start  stop  event        age      year  surgery transplant     id\n",
       "rownames                                                                    \n",
       "1           0.0  50.0    1.0 -17.155373  0.123203      0.0          0    1.0\n",
       "2           0.0   6.0    1.0   3.835729  0.254620      0.0          0    2.0\n",
       "3           0.0   1.0    0.0   6.297057  0.265572      0.0          0    3.0\n",
       "4           1.0  16.0    1.0   6.297057  0.265572      0.0          1    3.0\n",
       "5           0.0  36.0    0.0  -7.737166  0.490075      0.0          0    4.0\n",
       "...         ...   ...    ...        ...       ...      ...        ...    ...\n",
       "168         0.0  38.0    0.0 -12.939083  6.395619      1.0          0  100.0\n",
       "169        38.0  39.0    0.0 -12.939083  6.395619      1.0          1  100.0\n",
       "170         0.0  31.0    0.0   1.516769  6.417522      0.0          0  101.0\n",
       "171         0.0  11.0    0.0  -7.608487  6.472279      0.0          0  102.0\n",
       "172         0.0   6.0    1.0  -8.684463 -0.049281      0.0          0  103.0\n",
       "\n",
       "[172 rows x 8 columns]"
      ]
     },
     "execution_count": 26,
     "metadata": {},
     "output_type": "execute_result"
    }
   ],
   "source": [
    "import pyreadr\n",
    "fname = 'heart.rda'\n",
    "dataset = pyreadr.read_r(os.path.join('../data/raw', fname))[fname.split('.')[0].split('/')[-1]]\n",
    "dataset"
   ]
  },
  {
   "cell_type": "code",
   "execution_count": 27,
   "metadata": {},
   "outputs": [
    {
     "name": "stderr",
     "output_type": "stream",
     "text": [
      "  0%|          | 0/4 [00:00<?, ?it/s]"
     ]
    },
    {
     "name": "stdout",
     "output_type": "stream",
     "text": [
      "1775\n"
     ]
    },
    {
     "name": "stderr",
     "output_type": "stream",
     "text": [
      "172it [00:00, 254.42it/s]\n",
      " 25%|██▌       | 1/4 [00:00<00:02,  1.33it/s]"
     ]
    },
    {
     "name": "stdout",
     "output_type": "stream",
     "text": [
      "Succesfully created time tensor of shape: torch.Size([172, 1775])\n",
      "(137, 7) torch.Size([137, 1775])\n",
      "1775\n"
     ]
    },
    {
     "name": "stderr",
     "output_type": "stream",
     "text": [
      "172it [00:00, 249.70it/s]\n",
      " 50%|█████     | 2/4 [00:01<00:01,  1.39it/s]"
     ]
    },
    {
     "name": "stdout",
     "output_type": "stream",
     "text": [
      "Succesfully created time tensor of shape: torch.Size([172, 1775])\n",
      "(137, 7) torch.Size([137, 1775])\n",
      "1775\n"
     ]
    },
    {
     "name": "stderr",
     "output_type": "stream",
     "text": [
      "172it [00:00, 262.78it/s]\n",
      " 75%|███████▌  | 3/4 [00:02<00:00,  1.44it/s]"
     ]
    },
    {
     "name": "stdout",
     "output_type": "stream",
     "text": [
      "Succesfully created time tensor of shape: torch.Size([172, 1775])\n",
      "(137, 7) torch.Size([137, 1775])\n",
      "1775\n"
     ]
    },
    {
     "name": "stderr",
     "output_type": "stream",
     "text": [
      "172it [00:00, 261.22it/s]\n",
      "100%|██████████| 4/4 [00:02<00:00,  1.44it/s]"
     ]
    },
    {
     "name": "stdout",
     "output_type": "stream",
     "text": [
      "Succesfully created time tensor of shape: torch.Size([172, 1775])\n",
      "(137, 7) torch.Size([137, 1775])\n"
     ]
    },
    {
     "name": "stderr",
     "output_type": "stream",
     "text": [
      "\n"
     ]
    }
   ],
   "source": [
    "from tqdm import tqdm\n",
    "random_states = [11,22,33,44]\n",
    "tt = []\n",
    "et = []\n",
    "for rs in tqdm(random_states):\n",
    "  data = SurvivalDataset(fname=fname, path='../data/raw/', random_state=rs)\n",
    "  data.dataset['time'] = data.dataset['stop'] - data.dataset['start']\n",
    "  tensor_tuple = data.get_tensors('time', 'event')\n",
    "  tt.append(tensor_tuple)\n",
    "  x_train, T_train, E_train, x_test, T_test, E_test = data.pysurvival_split('time', 'event')\n",
    "  et.append((x_train, x_test, T_train, T_test, E_train, E_test))\n"
   ]
  },
  {
   "cell_type": "code",
   "execution_count": 28,
   "metadata": {},
   "outputs": [
    {
     "name": "stdout",
     "output_type": "stream",
     "text": [
      "Total variance: 188.36607360839844\n",
      "Impurity(\n",
      "  (linear): PyroLinear(in_features=7, out_features=1, bias=True)\n",
      ")\n"
     ]
    },
    {
     "name": "stderr",
     "output_type": "stream",
     "text": [
      "Epochs:   1%|▏         | 7/500 [00:01<01:17,  6.36it/s]\n"
     ]
    },
    {
     "name": "stdout",
     "output_type": "stream",
     "text": [
      "Early stopping at epoch 7.\n",
      "Impurity(\n",
      "  (linear): PyroLinear(in_features=7, out_features=1, bias=True)\n",
      ")\n",
      "Rows left:  torch.Size([100]) Var left tensor(134.1754)\n",
      "Rows right:  torch.Size([37]) Var right tensor(282.3151)\n",
      "Impurity(\n",
      "  (linear): PyroLinear(in_features=7, out_features=1, bias=True)\n",
      ")\n"
     ]
    },
    {
     "name": "stderr",
     "output_type": "stream",
     "text": [
      "Epochs:   1%|▏         | 7/500 [00:00<00:09, 54.19it/s]\n"
     ]
    },
    {
     "name": "stdout",
     "output_type": "stream",
     "text": [
      "Early stopping at epoch 7.\n",
      "Impurity(\n",
      "  (linear): PyroLinear(in_features=7, out_features=1, bias=True)\n",
      ")\n",
      "Rows left:  torch.Size([12]) Var left tensor(14.7766)\n",
      "Rows right:  torch.Size([25]) Var right tensor(319.3350)\n",
      "Impurity(\n",
      "  (linear): PyroLinear(in_features=7, out_features=1, bias=True)\n",
      ")\n"
     ]
    },
    {
     "name": "stderr",
     "output_type": "stream",
     "text": [
      "Epochs:   2%|▏         | 12/500 [00:00<00:07, 63.53it/s]"
     ]
    },
    {
     "name": "stdout",
     "output_type": "stream",
     "text": [
      "Early stopping at epoch 12.\n",
      "Impurity(\n",
      "  (linear): PyroLinear(in_features=7, out_features=1, bias=True)\n",
      ")\n"
     ]
    },
    {
     "name": "stderr",
     "output_type": "stream",
     "text": [
      "\n"
     ]
    },
    {
     "name": "stdout",
     "output_type": "stream",
     "text": [
      "Rows left:  torch.Size([23]) Var left tensor(331.5423)\n",
      "Rows right:  torch.Size([2]) Var right tensor(6.)\n",
      "Impurity(\n",
      "  (linear): PyroLinear(in_features=7, out_features=1, bias=True)\n",
      ")\n"
     ]
    },
    {
     "name": "stderr",
     "output_type": "stream",
     "text": [
      "Epochs:   1%|          | 4/500 [00:00<00:05, 83.43it/s]"
     ]
    },
    {
     "name": "stdout",
     "output_type": "stream",
     "text": [
      "Early stopping at epoch 4.\n",
      "Impurity(\n",
      "  (linear): PyroLinear(in_features=7, out_features=1, bias=True)\n",
      ")\n",
      "Rows left:  torch.Size([10]) Var left tensor(12.8869)\n",
      "Rows right:  torch.Size([2]) Var right tensor(nan)\n"
     ]
    },
    {
     "name": "stderr",
     "output_type": "stream",
     "text": [
      "\n"
     ]
    },
    {
     "name": "stdout",
     "output_type": "stream",
     "text": [
      "Impurity(\n",
      "  (linear): PyroLinear(in_features=7, out_features=1, bias=True)\n",
      ")\n"
     ]
    },
    {
     "name": "stderr",
     "output_type": "stream",
     "text": [
      "Epochs:   2%|▏         | 11/500 [00:00<00:17, 28.38it/s]\n"
     ]
    },
    {
     "name": "stdout",
     "output_type": "stream",
     "text": [
      "Early stopping at epoch 11.\n",
      "Impurity(\n",
      "  (linear): PyroLinear(in_features=7, out_features=1, bias=True)\n",
      ")\n",
      "Rows left:  torch.Size([63]) Var left tensor(53.3562)\n",
      "Rows right:  torch.Size([37]) Var right tensor(196.0377)\n",
      "Impurity(\n",
      "  (linear): PyroLinear(in_features=7, out_features=1, bias=True)\n",
      ")\n"
     ]
    },
    {
     "name": "stderr",
     "output_type": "stream",
     "text": [
      "Epochs:   1%|          | 4/500 [00:00<00:09, 50.88it/s]\n"
     ]
    },
    {
     "name": "stdout",
     "output_type": "stream",
     "text": [
      "Early stopping at epoch 4.\n",
      "Impurity(\n",
      "  (linear): PyroLinear(in_features=7, out_features=1, bias=True)\n",
      ")\n",
      "Rows left:  torch.Size([9]) Var left tensor(60.5000)\n",
      "Rows right:  torch.Size([28]) Var right tensor(205.1537)\n",
      "Impurity(\n",
      "  (linear): PyroLinear(in_features=7, out_features=1, bias=True)\n",
      ")\n"
     ]
    },
    {
     "name": "stderr",
     "output_type": "stream",
     "text": [
      "Epochs:   1%|          | 4/500 [00:00<00:15, 31.90it/s]"
     ]
    },
    {
     "name": "stdout",
     "output_type": "stream",
     "text": [
      "Early stopping at epoch 4.\n",
      "Impurity(\n",
      "  (linear): PyroLinear(in_features=7, out_features=1, bias=True)\n",
      ")\n",
      "Rows left:  torch.Size([1]) Var left tensor(nan)\n",
      "Rows right:  torch.Size([62]) Var right tensor(53.2887)\n"
     ]
    },
    {
     "name": "stderr",
     "output_type": "stream",
     "text": [
      "\n"
     ]
    },
    {
     "name": "stdout",
     "output_type": "stream",
     "text": [
      "Total variance: 177.88246154785156\n",
      "Impurity(\n",
      "  (linear): PyroLinear(in_features=7, out_features=1, bias=True)\n",
      ")\n"
     ]
    },
    {
     "name": "stderr",
     "output_type": "stream",
     "text": [
      "Epochs:   1%|▏         | 7/500 [00:00<00:24, 20.13it/s]\n"
     ]
    },
    {
     "name": "stdout",
     "output_type": "stream",
     "text": [
      "Early stopping at epoch 7.\n",
      "Impurity(\n",
      "  (linear): PyroLinear(in_features=7, out_features=1, bias=True)\n",
      ")\n",
      "Rows left:  torch.Size([24]) Var left tensor(262.0246)\n",
      "Rows right:  torch.Size([113]) Var right tensor(100.5900)\n",
      "Impurity(\n",
      "  (linear): PyroLinear(in_features=7, out_features=1, bias=True)\n",
      ")\n"
     ]
    },
    {
     "name": "stderr",
     "output_type": "stream",
     "text": [
      "Epochs:   1%|          | 4/500 [00:00<00:21, 22.98it/s]\n"
     ]
    },
    {
     "name": "stdout",
     "output_type": "stream",
     "text": [
      "Early stopping at epoch 4.\n",
      "Impurity(\n",
      "  (linear): PyroLinear(in_features=7, out_features=1, bias=True)\n",
      ")\n",
      "Rows left:  torch.Size([13]) Var left tensor(156.9365)\n",
      "Rows right:  torch.Size([100]) Var right tensor(96.7564)\n",
      "Impurity(\n",
      "  (linear): PyroLinear(in_features=7, out_features=1, bias=True)\n",
      ")\n"
     ]
    },
    {
     "name": "stderr",
     "output_type": "stream",
     "text": [
      "Epochs:   2%|▏         | 12/500 [00:00<00:16, 28.72it/s]\n"
     ]
    },
    {
     "name": "stdout",
     "output_type": "stream",
     "text": [
      "Early stopping at epoch 12.\n",
      "Impurity(\n",
      "  (linear): PyroLinear(in_features=7, out_features=1, bias=True)\n",
      ")\n",
      "Rows left:  torch.Size([70]) Var left tensor(95.3251)\n",
      "Rows right:  torch.Size([30]) Var right tensor(95.8830)\n",
      "Impurity(\n",
      "  (linear): PyroLinear(in_features=7, out_features=1, bias=True)\n",
      ")\n"
     ]
    },
    {
     "name": "stderr",
     "output_type": "stream",
     "text": [
      "Epochs:   2%|▏         | 10/500 [00:00<00:05, 97.81it/s]\n"
     ]
    },
    {
     "name": "stdout",
     "output_type": "stream",
     "text": [
      "Early stopping at epoch 10.\n",
      "Impurity(\n",
      "  (linear): PyroLinear(in_features=7, out_features=1, bias=True)\n",
      ")\n",
      "Rows left:  torch.Size([7]) Var left tensor(226.2214)\n",
      "Rows right:  torch.Size([6]) Var right tensor(8.5000)\n",
      "Impurity(\n",
      "  (linear): PyroLinear(in_features=7, out_features=1, bias=True)\n",
      ")\n"
     ]
    },
    {
     "name": "stderr",
     "output_type": "stream",
     "text": [
      "Epochs:   2%|▏         | 8/500 [00:00<00:08, 60.39it/s]\n"
     ]
    },
    {
     "name": "stdout",
     "output_type": "stream",
     "text": [
      "Early stopping at epoch 8.\n",
      "Impurity(\n",
      "  (linear): PyroLinear(in_features=7, out_features=1, bias=True)\n",
      ")\n",
      "Rows left:  torch.Size([10]) Var left tensor(292.0571)\n",
      "Rows right:  torch.Size([14]) Var right tensor(nan)\n",
      "Total variance: 224.63845825195312\n",
      "Impurity(\n",
      "  (linear): PyroLinear(in_features=7, out_features=1, bias=True)\n",
      ")\n"
     ]
    },
    {
     "name": "stderr",
     "output_type": "stream",
     "text": [
      "Epochs:   1%|          | 6/500 [00:00<00:24, 19.79it/s]\n"
     ]
    },
    {
     "name": "stdout",
     "output_type": "stream",
     "text": [
      "Early stopping at epoch 6.\n",
      "Impurity(\n",
      "  (linear): PyroLinear(in_features=7, out_features=1, bias=True)\n",
      ")\n",
      "Rows left:  torch.Size([68]) Var left tensor(327.5247)\n",
      "Rows right:  torch.Size([69]) Var right tensor(83.9467)\n",
      "Impurity(\n",
      "  (linear): PyroLinear(in_features=7, out_features=1, bias=True)\n",
      ")\n"
     ]
    },
    {
     "name": "stderr",
     "output_type": "stream",
     "text": [
      "Epochs:   1%|          | 5/500 [00:00<00:15, 32.07it/s]\n"
     ]
    },
    {
     "name": "stdout",
     "output_type": "stream",
     "text": [
      "Early stopping at epoch 5.\n",
      "Impurity(\n",
      "  (linear): PyroLinear(in_features=7, out_features=1, bias=True)\n",
      ")\n",
      "Rows left:  torch.Size([33]) Var left tensor(126.3699)\n",
      "Rows right:  torch.Size([36]) Var right tensor(49.9797)\n",
      "Impurity(\n",
      "  (linear): PyroLinear(in_features=7, out_features=1, bias=True)\n",
      ")\n"
     ]
    },
    {
     "name": "stderr",
     "output_type": "stream",
     "text": [
      "Epochs:   2%|▏         | 11/500 [00:00<00:08, 59.03it/s]"
     ]
    },
    {
     "name": "stdout",
     "output_type": "stream",
     "text": [
      "Early stopping at epoch 11.\n",
      "Impurity(\n",
      "  (linear): PyroLinear(in_features=7, out_features=1, bias=True)\n",
      ")\n"
     ]
    },
    {
     "name": "stderr",
     "output_type": "stream",
     "text": [
      "\n"
     ]
    },
    {
     "name": "stdout",
     "output_type": "stream",
     "text": [
      "Rows left:  torch.Size([1]) Var left tensor(nan)\n",
      "Rows right:  torch.Size([35]) Var right tensor(37.9959)\n",
      "Impurity(\n",
      "  (linear): PyroLinear(in_features=7, out_features=1, bias=True)\n",
      ")\n"
     ]
    },
    {
     "name": "stderr",
     "output_type": "stream",
     "text": [
      "Epochs:   3%|▎         | 15/500 [00:00<00:07, 62.22it/s]\n"
     ]
    },
    {
     "name": "stdout",
     "output_type": "stream",
     "text": [
      "Early stopping at epoch 15.\n",
      "Impurity(\n",
      "  (linear): PyroLinear(in_features=7, out_features=1, bias=True)\n",
      ")\n",
      "Rows left:  torch.Size([22]) Var left tensor(45.5428)\n",
      "Rows right:  torch.Size([11]) Var right tensor(217.8137)\n",
      "Impurity(\n",
      "  (linear): PyroLinear(in_features=7, out_features=1, bias=True)\n",
      ")\n"
     ]
    },
    {
     "name": "stderr",
     "output_type": "stream",
     "text": [
      "Epochs:   1%|          | 4/500 [00:00<00:16, 30.31it/s]\n"
     ]
    },
    {
     "name": "stdout",
     "output_type": "stream",
     "text": [
      "Early stopping at epoch 4.\n",
      "Impurity(\n",
      "  (linear): PyroLinear(in_features=7, out_features=1, bias=True)\n",
      ")\n",
      "Rows left:  torch.Size([59]) Var left tensor(241.0729)\n",
      "Rows right:  torch.Size([9]) Var right tensor(117.0000)\n",
      "Impurity(\n",
      "  (linear): PyroLinear(in_features=7, out_features=1, bias=True)\n",
      ")\n"
     ]
    },
    {
     "name": "stderr",
     "output_type": "stream",
     "text": [
      "Epochs:   1%|          | 5/500 [00:00<00:05, 91.18it/s]\n"
     ]
    },
    {
     "name": "stdout",
     "output_type": "stream",
     "text": [
      "Early stopping at epoch 5.\n",
      "Impurity(\n",
      "  (linear): PyroLinear(in_features=7, out_features=1, bias=True)\n",
      ")\n",
      "Rows left:  torch.Size([8]) Var left tensor(82.5000)\n",
      "Rows right:  torch.Size([1]) Var right tensor(nan)\n",
      "Impurity(\n",
      "  (linear): PyroLinear(in_features=7, out_features=1, bias=True)\n",
      ")\n"
     ]
    },
    {
     "name": "stderr",
     "output_type": "stream",
     "text": [
      "Epochs:   2%|▏         | 11/500 [00:00<00:08, 54.94it/s]\n"
     ]
    },
    {
     "name": "stdout",
     "output_type": "stream",
     "text": [
      "Early stopping at epoch 11.\n",
      "Impurity(\n",
      "  (linear): PyroLinear(in_features=7, out_features=1, bias=True)\n",
      ")\n",
      "Rows left:  torch.Size([41]) Var left tensor(213.2184)\n",
      "Rows right:  torch.Size([18]) Var right tensor(183.)\n",
      "Total variance: 197.08181762695312\n",
      "Impurity(\n",
      "  (linear): PyroLinear(in_features=7, out_features=1, bias=True)\n",
      ")\n"
     ]
    },
    {
     "name": "stderr",
     "output_type": "stream",
     "text": [
      "Epochs:   2%|▏         | 11/500 [00:00<00:22, 21.57it/s]\n"
     ]
    },
    {
     "name": "stdout",
     "output_type": "stream",
     "text": [
      "Early stopping at epoch 11.\n",
      "Impurity(\n",
      "  (linear): PyroLinear(in_features=7, out_features=1, bias=True)\n",
      ")\n",
      "Rows left:  torch.Size([101]) Var left tensor(131.6882)\n",
      "Rows right:  torch.Size([36]) Var right tensor(284.2769)\n",
      "Impurity(\n",
      "  (linear): PyroLinear(in_features=7, out_features=1, bias=True)\n",
      ")\n"
     ]
    },
    {
     "name": "stderr",
     "output_type": "stream",
     "text": [
      "Epochs:   2%|▏         | 8/500 [00:00<00:09, 51.32it/s]"
     ]
    },
    {
     "name": "stdout",
     "output_type": "stream",
     "text": [
      "Early stopping at epoch 8.\n",
      "Impurity(\n",
      "  (linear): PyroLinear(in_features=7, out_features=1, bias=True)\n",
      ")\n",
      "Rows left:  torch.Size([33]) Var left tensor(284.5516)\n",
      "Rows right:  torch.Size([3]) Var right tensor(nan)\n"
     ]
    },
    {
     "name": "stderr",
     "output_type": "stream",
     "text": [
      "\n"
     ]
    },
    {
     "name": "stdout",
     "output_type": "stream",
     "text": [
      "Impurity(\n",
      "  (linear): PyroLinear(in_features=7, out_features=1, bias=True)\n",
      ")\n"
     ]
    },
    {
     "name": "stderr",
     "output_type": "stream",
     "text": [
      "Epochs:   2%|▏         | 11/500 [00:00<00:20, 24.34it/s]\n"
     ]
    },
    {
     "name": "stdout",
     "output_type": "stream",
     "text": [
      "Early stopping at epoch 11.\n",
      "Impurity(\n",
      "  (linear): PyroLinear(in_features=7, out_features=1, bias=True)\n",
      ")\n",
      "Rows left:  torch.Size([79]) Var left tensor(81.1196)\n",
      "Rows right:  torch.Size([22]) Var right tensor(279.6854)\n",
      "Impurity(\n",
      "  (linear): PyroLinear(in_features=7, out_features=1, bias=True)\n",
      ")\n"
     ]
    },
    {
     "name": "stderr",
     "output_type": "stream",
     "text": [
      "Epochs:   2%|▏         | 10/500 [00:00<00:07, 63.00it/s]"
     ]
    },
    {
     "name": "stdout",
     "output_type": "stream",
     "text": [
      "Early stopping at epoch 10.\n",
      "Impurity(\n",
      "  (linear): PyroLinear(in_features=7, out_features=1, bias=True)\n",
      ")\n",
      "Rows left:  torch.Size([9]) Var left tensor(29.0536)\n",
      "Rows right:  torch.Size([13]) Var right tensor(431.7862)\n"
     ]
    },
    {
     "name": "stderr",
     "output_type": "stream",
     "text": [
      "\n"
     ]
    },
    {
     "name": "stdout",
     "output_type": "stream",
     "text": [
      "Impurity(\n",
      "  (linear): PyroLinear(in_features=7, out_features=1, bias=True)\n",
      ")\n"
     ]
    },
    {
     "name": "stderr",
     "output_type": "stream",
     "text": [
      "Epochs:   2%|▏         | 9/500 [00:00<00:14, 32.95it/s]\n"
     ]
    },
    {
     "name": "stdout",
     "output_type": "stream",
     "text": [
      "Early stopping at epoch 9.\n",
      "Impurity(\n",
      "  (linear): PyroLinear(in_features=7, out_features=1, bias=True)\n",
      ")\n",
      "Rows left:  torch.Size([77]) Var left tensor(83.4346)\n",
      "Rows right:  torch.Size([2]) Var right tensor(8.5000)\n"
     ]
    }
   ],
   "source": [
    "from src.eval import IPCWBrier\n",
    "\n",
    "bs_vspyct = []\n",
    "for i, tensor_tuple in enumerate(tt):\n",
    "  X_train, X_test, y_train, y_test = tt[i]\n",
    "  T_test = et[i][3]\n",
    "  E_test = et[i][5]\n",
    "  model = VSpyct(max_depth=3, bs=64)\n",
    "  model.fit(X_train, y_train)\n",
    "  preds = model.predict(X_test)\n",
    "  avg_preds = preds.mean(axis=1)\n",
    "  _bs_ = IPCWBrier(T_test, E_test)\n",
    "  bs_values = _bs_.evaluate(y_test, avg_preds)\n",
    "  bs_vspyct.append(bs_values)\n"
   ]
  },
  {
   "cell_type": "code",
   "execution_count": 29,
   "metadata": {},
   "outputs": [],
   "source": [
    "bs_vspyct_arr = []\n",
    "for vec in bs_vspyct:\n",
    "  bs_vspyct_arr.append(np.array(vec))\n",
    "\n",
    "bs_vspyct_arr = np.array(bs_vspyct_arr)"
   ]
  },
  {
   "cell_type": "code",
   "execution_count": 30,
   "metadata": {},
   "outputs": [
    {
     "data": {
      "text/plain": [
       "[<matplotlib.lines.Line2D at 0x287e6e850>]"
      ]
     },
     "execution_count": 30,
     "metadata": {},
     "output_type": "execute_result"
    },
    {
     "data": {
      "image/png": "[encoded data removed]",
      "text/plain": [
       "<Figure size 640x480 with 1 Axes>"
      ]
     },
     "metadata": {},
     "output_type": "display_data"
    }
   ],
   "source": [
    "plt.plot(bs_vspyct_arr.mean(axis=0))"
   ]
  },
  {
   "cell_type": "code",
   "execution_count": 31,
   "metadata": {},
   "outputs": [],
   "source": [
    "import spyct\n",
    "\n",
    "bs_spyct = []\n",
    "for i, tensor_tuple in enumerate(tt):\n",
    "  X_train, X_test, y_train, y_test = tt[i]\n",
    "  x_train = et[i][0]\n",
    "  x_test = et[i][1]\n",
    "  T_test = et[i][3]\n",
    "  E_test = et[i][5]\n",
    "  model = spyct.Model(max_depth=3)\n",
    "  model.fit(x_train.values, y_train.numpy())\n",
    "  preds = model.predict(x_test.values)\n",
    "  _bs_ = IPCWBrier(T_test, E_test)\n",
    "  bs_values = _bs_.evaluate(y_test, preds)\n",
    "  bs_spyct.append(bs_values)"
   ]
  },
  {
   "cell_type": "code",
   "execution_count": 32,
   "metadata": {},
   "outputs": [],
   "source": [
    "bs_spyct_arr = []\n",
    "for vec in bs_spyct:\n",
    "  bs_spyct_arr.append(np.array(vec))\n",
    "\n",
    "bs_spyct_arr = np.array(bs_spyct_arr)"
   ]
  },
  {
   "cell_type": "code",
   "execution_count": 45,
   "metadata": {},
   "outputs": [
    {
     "data": {
      "image/png": "[encoded data removed]",
      "text/plain": [
       "<Figure size 300x175 with 1 Axes>"
      ]
     },
     "metadata": {},
     "output_type": "display_data"
    }
   ],
   "source": [
    "plt.rc('text', usetex=True)\n",
    "plt.rc('font', family='serif', size=8)\n",
    "fig, ax = plt.subplots(figsize=(6/2,3.5/2))\n",
    "fig.set_constrained_layout(True)\n",
    "\n",
    "ax.plot(bs_vspyct_arr.mean(axis=0), linewidth=2.0, label='VSpyct')\n",
    "ax.plot(bs_spyct_arr.mean(axis=0), linewidth=2.0, label='Spyct')\n",
    "# ax.set_xlim(0, 300)\n",
    "\n",
    "ax.legend(frameon=False)\n",
    "\n",
    "plt.savefig('../reports/figures/bs_r_heart.pdf')"
   ]
  },
  {
   "cell_type": "code",
   "execution_count": null,
   "metadata": {},
   "outputs": [],
   "source": []
  },
  {
   "cell_type": "code",
   "execution_count": null,
   "metadata": {},
   "outputs": [],
   "source": []
  },
  {
   "cell_type": "code",
   "execution_count": null,
   "metadata": {},
   "outputs": [],
   "source": [
    "# cancer, diabetic, retinopayhy, pbc, cgd (kolonata time presmetaj ja kako tstart - tstop)"
   ]
  },
  {
   "cell_type": "code",
   "execution_count": null,
   "metadata": {},
   "outputs": [],
   "source": []
  }
 ],
 "metadata": {
  "kernelspec": {
   "display_name": "base",
   "language": "python",
   "name": "python3"
  },
  "language_info": {
   "codemirror_mode": {
    "name": "ipython",
    "version": 3
   },
   "file_extension": ".py",
   "mimetype": "text/x-python",
   "name": "python",
   "nbconvert_exporter": "python",
   "pygments_lexer": "ipython3",
   "version": "3.8.17"
  },
  "orig_nbformat": 4,
  "vscode": {
   "interpreter": {
    "hash": "cc7277dfab6d5d4897e99b5cc736f9228836f1dda1604709a8d9bb8c8b4a4da5"
   }
  }
 },
 "nbformat": 4,
 "nbformat_minor": 2
}
