{
 "cells": [
  {
   "cell_type": "code",
   "execution_count": 1,
   "metadata": {},
   "outputs": [
    {
     "name": "stderr",
     "output_type": "stream",
     "text": [
      "/Users/viktorandonovic/miniconda3/lib/python3.8/site-packages/tqdm/auto.py:21: TqdmWarning: IProgress not found. Please update jupyter and ipywidgets. See https://ipywidgets.readthedocs.io/en/stable/user_install.html\n",
      "  from .autonotebook import tqdm as notebook_tqdm\n"
     ]
    }
   ],
   "source": [
    "import pandas as pd\n",
    "import numpy as np\n",
    "import torch\n",
    "import os\n",
    "import sys\n",
    "import matplotlib.pyplot as plt\n",
    "\n",
    "sys.path.append('..')\n",
    "from src.models.model import VSpyct\n",
    "from src.utils import (calculate_bs, fix_predictions, plot_brier)\n",
    "from src.data.dataset import SurvivalDataset\n",
    "from src.eval import IPCWBrier"
   ]
  },
  {
   "cell_type": "code",
   "execution_count": 2,
   "metadata": {},
   "outputs": [
    {
     "name": "stdout",
     "output_type": "stream",
     "text": [
      "   id  time  status trt        age sex ascites hepato spiders  edema  bili  \\\n",
      "0   1   400       2   1  58.765229   f       1      1       1    1.0  14.5   \n",
      "1   2  4500       0   1  56.446270   f       0      1       1    0.0   1.1   \n",
      "2   3  1012       2   1  70.072553   m       0      0       0    0.5   1.4   \n",
      "3   4  1925       2   1  54.740589   f       0      1       1    0.5   1.8   \n",
      "4   5  1504       1   2  38.105407   f       0      1       1    0.0   3.4   \n",
      "\n",
      "  chol  albumin copper  alk.phos     ast trig platelet  protime stage  \n",
      "0  261     2.60    156    1718.0  137.95  172      190     12.2     4  \n",
      "1  302     4.14     54    7394.8  113.52   88      221     10.6     3  \n",
      "2  176     3.48    210     516.0   96.10   55      151     12.0     4  \n",
      "3  244     2.54     64    6121.8   60.63   92      183     10.3     4  \n",
      "4  279     3.53    143     671.0  113.15   72      136     10.9     3  \n",
      "4795\n",
      "Succesfully created time tensor of shape: torch.Size([418, 4795])\n",
      "(334, 769) torch.Size([334, 4795])\n"
     ]
    }
   ],
   "source": [
    "data = SurvivalDataset(fname='pbc.rda', path='../data/raw/')\n",
    "print(data.dataset.head())\n",
    "X_train, X_test, y_train, y_test = data.get_tensors()"
   ]
  },
  {
   "cell_type": "code",
   "execution_count": 3,
   "metadata": {},
   "outputs": [
    {
     "name": "stdout",
     "output_type": "stream",
     "text": [
      "Total variance: 569.7177124023438\n",
      "Impurity(\n",
      "  (linear): PyroLinear(in_features=769, out_features=1, bias=True)\n",
      ")\n"
     ]
    },
    {
     "name": "stderr",
     "output_type": "stream",
     "text": [
      "Epochs:   1%|          | 3/500 [00:00<01:02,  7.97it/s]"
     ]
    },
    {
     "name": "stdout",
     "output_type": "stream",
     "text": [
      "[iteration 0001] loss: 519139990732.8000\n",
      "[iteration 0002] loss: 470864558080.0001\n",
      "[iteration 0003] loss: 429126990848.0000\n"
     ]
    },
    {
     "name": "stderr",
     "output_type": "stream",
     "text": [
      "Epochs:   1%|          | 5/500 [00:00<00:49,  9.94it/s]"
     ]
    },
    {
     "name": "stdout",
     "output_type": "stream",
     "text": [
      "[iteration 0004] loss: 406300953395.2000\n",
      "[iteration 0005] loss: 360483797401.6000\n",
      "[iteration 0006] loss: 327272720691.2000\n"
     ]
    },
    {
     "name": "stderr",
     "output_type": "stream",
     "text": [
      "Epochs:   2%|▏         | 9/500 [00:00<00:42, 11.66it/s]"
     ]
    },
    {
     "name": "stdout",
     "output_type": "stream",
     "text": [
      "[iteration 0007] loss: 306169552896.0000\n",
      "[iteration 0008] loss: 279117252608.0000\n",
      "[iteration 0009] loss: 253113375744.0000\n"
     ]
    },
    {
     "name": "stderr",
     "output_type": "stream",
     "text": [
      "Epochs:   2%|▏         | 11/500 [00:01<00:40, 12.13it/s]"
     ]
    },
    {
     "name": "stdout",
     "output_type": "stream",
     "text": [
      "[iteration 0010] loss: 231641464934.4000\n",
      "[iteration 0011] loss: 217123674368.0000\n",
      "[iteration 0012] loss: 198135046348.8000\n"
     ]
    },
    {
     "name": "stderr",
     "output_type": "stream",
     "text": [
      "Epochs:   3%|▎         | 15/500 [00:01<00:38, 12.63it/s]"
     ]
    },
    {
     "name": "stdout",
     "output_type": "stream",
     "text": [
      "[iteration 0013] loss: 181762916121.6000\n",
      "[iteration 0014] loss: 172563621376.0000\n",
      "[iteration 0015] loss: 156151162649.6000\n"
     ]
    },
    {
     "name": "stderr",
     "output_type": "stream",
     "text": [
      "Epochs:   3%|▎         | 17/500 [00:01<00:37, 12.85it/s]"
     ]
    },
    {
     "name": "stdout",
     "output_type": "stream",
     "text": [
      "[iteration 0016] loss: 151345581337.6000\n",
      "[iteration 0017] loss: 141053916377.6000\n",
      "[iteration 0018] loss: 123372007772.8000\n"
     ]
    },
    {
     "name": "stderr",
     "output_type": "stream",
     "text": [
      "Epochs:   4%|▍         | 21/500 [00:01<00:36, 13.04it/s]"
     ]
    },
    {
     "name": "stdout",
     "output_type": "stream",
     "text": [
      "[iteration 0019] loss: 117175310307.2000\n",
      "[iteration 0020] loss: 108863575516.8000\n",
      "[iteration 0021] loss: 103524601668.8000\n"
     ]
    },
    {
     "name": "stderr",
     "output_type": "stream",
     "text": [
      "Epochs:   5%|▍         | 23/500 [00:01<00:36, 13.07it/s]"
     ]
    },
    {
     "name": "stdout",
     "output_type": "stream",
     "text": [
      "[iteration 0022] loss: 96647295149.4000\n",
      "[iteration 0023] loss: 86593731854.7832\n",
      "[iteration 0024] loss: 85177655637.0000\n"
     ]
    },
    {
     "name": "stderr",
     "output_type": "stream",
     "text": [
      "Epochs:   5%|▌         | 27/500 [00:02<00:35, 13.17it/s]"
     ]
    },
    {
     "name": "stdout",
     "output_type": "stream",
     "text": [
      "[iteration 0025] loss: 80188693221.3844\n",
      "[iteration 0026] loss: 75407835808.5299\n",
      "[iteration 0027] loss: 76135395826.3000\n"
     ]
    },
    {
     "name": "stderr",
     "output_type": "stream",
     "text": [
      "Epochs:   6%|▌         | 29/500 [00:02<00:35, 13.22it/s]"
     ]
    },
    {
     "name": "stdout",
     "output_type": "stream",
     "text": [
      "[iteration 0028] loss: 72212379858.4750\n",
      "[iteration 0029] loss: 69151983638.0000\n",
      "[iteration 0030] loss: 65566901235.3000\n"
     ]
    },
    {
     "name": "stderr",
     "output_type": "stream",
     "text": [
      "Epochs:   7%|▋         | 33/500 [00:02<00:36, 12.77it/s]"
     ]
    },
    {
     "name": "stdout",
     "output_type": "stream",
     "text": [
      "[iteration 0031] loss: 64382398385.0000\n",
      "[iteration 0032] loss: 62068733960.4750\n",
      "[iteration 0033] loss: 60975269827.7000\n"
     ]
    },
    {
     "name": "stderr",
     "output_type": "stream",
     "text": [
      "Epochs:   7%|▋         | 35/500 [00:02<00:36, 12.85it/s]"
     ]
    },
    {
     "name": "stdout",
     "output_type": "stream",
     "text": [
      "[iteration 0034] loss: 58296118026.2312\n",
      "[iteration 0035] loss: 53092452438.9023\n",
      "[iteration 0036] loss: 53920808044.4000\n"
     ]
    },
    {
     "name": "stderr",
     "output_type": "stream",
     "text": [
      "Epochs:   7%|▋         | 37/500 [00:03<00:39, 11.87it/s]\n"
     ]
    },
    {
     "name": "stdout",
     "output_type": "stream",
     "text": [
      "[iteration 0037] loss: 54510776742.5750\n",
      "Early stopping at epoch 37.\n",
      "Impurity(\n",
      "  (linear): PyroLinear(in_features=769, out_features=1, bias=True)\n",
      ")\n",
      "Var left tensor(732.4625)\n",
      "Var right tensor(553.3262)\n",
      "Impurity(\n",
      "  (linear): PyroLinear(in_features=769, out_features=1, bias=True)\n",
      ")\n"
     ]
    },
    {
     "name": "stderr",
     "output_type": "stream",
     "text": [
      "Epochs:   0%|          | 0/500 [00:00<?, ?it/s]"
     ]
    },
    {
     "name": "stdout",
     "output_type": "stream",
     "text": [
      "[iteration 0001] loss: 218485971660.8000\n"
     ]
    },
    {
     "name": "stderr",
     "output_type": "stream",
     "text": [
      "Epochs:   0%|          | 2/500 [00:00<00:35, 13.89it/s]"
     ]
    },
    {
     "name": "stdout",
     "output_type": "stream",
     "text": [
      "[iteration 0002] loss: 206209924403.2000\n",
      "[iteration 0003] loss: 190746063052.8000\n"
     ]
    },
    {
     "name": "stderr",
     "output_type": "stream",
     "text": [
      "Epochs:   1%|          | 4/500 [00:00<00:33, 14.71it/s]"
     ]
    },
    {
     "name": "stdout",
     "output_type": "stream",
     "text": [
      "[iteration 0004] loss: 170783813222.4000\n",
      "[iteration 0005] loss: 155038354457.6000\n"
     ]
    },
    {
     "name": "stderr",
     "output_type": "stream",
     "text": [
      "Epochs:   1%|          | 6/500 [00:00<00:32, 14.98it/s]"
     ]
    },
    {
     "name": "stdout",
     "output_type": "stream",
     "text": [
      "[iteration 0006] loss: 142620873958.4000\n",
      "[iteration 0007] loss: 128767466854.4000\n"
     ]
    },
    {
     "name": "stderr",
     "output_type": "stream",
     "text": [
      "Epochs:   2%|▏         | 8/500 [00:00<00:32, 15.19it/s]"
     ]
    },
    {
     "name": "stdout",
     "output_type": "stream",
     "text": [
      "[iteration 0008] loss: 119085384396.8000\n",
      "[iteration 0009] loss: 106777183955.2000\n"
     ]
    },
    {
     "name": "stderr",
     "output_type": "stream",
     "text": [
      "Epochs:   2%|▏         | 10/500 [00:00<00:32, 15.31it/s]"
     ]
    },
    {
     "name": "stdout",
     "output_type": "stream",
     "text": [
      "[iteration 0010] loss: 97350286790.4000\n",
      "[iteration 0011] loss: 88139471046.4000\n"
     ]
    },
    {
     "name": "stderr",
     "output_type": "stream",
     "text": [
      "Epochs:   2%|▏         | 12/500 [00:00<00:32, 15.18it/s]"
     ]
    },
    {
     "name": "stdout",
     "output_type": "stream",
     "text": [
      "[iteration 0012] loss: 81909383467.2000\n"
     ]
    },
    {
     "name": "stderr",
     "output_type": "stream",
     "text": [
      "Epochs:   3%|▎         | 14/500 [00:00<00:32, 15.14it/s]"
     ]
    },
    {
     "name": "stdout",
     "output_type": "stream",
     "text": [
      "[iteration 0013] loss: 77086165722.9324\n",
      "[iteration 0014] loss: 71184782315.2969\n",
      "[iteration 0015] loss: 67874343897.2000\n"
     ]
    },
    {
     "name": "stderr",
     "output_type": "stream",
     "text": [
      "Epochs:   3%|▎         | 16/500 [00:01<00:31, 15.35it/s]"
     ]
    },
    {
     "name": "stdout",
     "output_type": "stream",
     "text": [
      "[iteration 0016] loss: 61713910470.2250\n"
     ]
    },
    {
     "name": "stderr",
     "output_type": "stream",
     "text": [
      "Epochs:   4%|▎         | 18/500 [00:01<00:30, 15.59it/s]"
     ]
    },
    {
     "name": "stdout",
     "output_type": "stream",
     "text": [
      "[iteration 0017] loss: 57550622227.4875\n",
      "[iteration 0018] loss: 55250873138.5875\n",
      "[iteration 0019] loss: 50819009613.5500\n"
     ]
    },
    {
     "name": "stderr",
     "output_type": "stream",
     "text": [
      "Epochs:   4%|▍         | 20/500 [00:01<00:30, 15.69it/s]"
     ]
    },
    {
     "name": "stdout",
     "output_type": "stream",
     "text": [
      "[iteration 0020] loss: 50133652321.4000\n"
     ]
    },
    {
     "name": "stderr",
     "output_type": "stream",
     "text": [
      "Epochs:   4%|▍         | 22/500 [00:01<00:30, 15.69it/s]"
     ]
    },
    {
     "name": "stdout",
     "output_type": "stream",
     "text": [
      "[iteration 0021] loss: 46568431304.8000\n",
      "[iteration 0022] loss: 46372237862.0000\n",
      "[iteration 0023] loss: 43374475301.7000\n"
     ]
    },
    {
     "name": "stderr",
     "output_type": "stream",
     "text": [
      "Epochs:   5%|▍         | 24/500 [00:01<00:30, 15.77it/s]"
     ]
    },
    {
     "name": "stdout",
     "output_type": "stream",
     "text": [
      "[iteration 0024] loss: 42593010228.8000\n"
     ]
    },
    {
     "name": "stderr",
     "output_type": "stream",
     "text": [
      "Epochs:   5%|▌         | 26/500 [00:01<00:29, 15.81it/s]"
     ]
    },
    {
     "name": "stdout",
     "output_type": "stream",
     "text": [
      "[iteration 0025] loss: 42601572701.6250\n",
      "[iteration 0026] loss: 39802943293.6000\n",
      "[iteration 0027] loss: 39557774786.0000\n"
     ]
    },
    {
     "name": "stderr",
     "output_type": "stream",
     "text": [
      "Epochs:   6%|▌         | 28/500 [00:01<00:29, 15.88it/s]"
     ]
    },
    {
     "name": "stdout",
     "output_type": "stream",
     "text": [
      "[iteration 0028] loss: 39931159014.4000\n"
     ]
    },
    {
     "name": "stderr",
     "output_type": "stream",
     "text": [
      "Epochs:   6%|▌         | 30/500 [00:01<00:29, 15.87it/s]"
     ]
    },
    {
     "name": "stdout",
     "output_type": "stream",
     "text": [
      "[iteration 0029] loss: 37669176864.6813\n",
      "[iteration 0030] loss: 37980234323.1625\n",
      "[iteration 0031] loss: 38514853695.1562\n"
     ]
    },
    {
     "name": "stderr",
     "output_type": "stream",
     "text": [
      "Epochs:   6%|▋         | 32/500 [00:02<00:29, 15.88it/s]"
     ]
    },
    {
     "name": "stdout",
     "output_type": "stream",
     "text": [
      "[iteration 0032] loss: 36356262548.4500\n"
     ]
    },
    {
     "name": "stderr",
     "output_type": "stream",
     "text": [
      "Epochs:   7%|▋         | 34/500 [00:02<00:29, 15.86it/s]"
     ]
    },
    {
     "name": "stdout",
     "output_type": "stream",
     "text": [
      "[iteration 0033] loss: 36304885280.1750\n",
      "[iteration 0034] loss: 36605282146.5097\n",
      "[iteration 0035] loss: 36238035621.2000\n"
     ]
    },
    {
     "name": "stderr",
     "output_type": "stream",
     "text": [
      "Epochs:   7%|▋         | 36/500 [00:02<00:29, 15.88it/s]"
     ]
    },
    {
     "name": "stdout",
     "output_type": "stream",
     "text": [
      "[iteration 0036] loss: 36489574582.1000\n"
     ]
    },
    {
     "name": "stderr",
     "output_type": "stream",
     "text": [
      "Epochs:   8%|▊         | 38/500 [00:02<00:29, 15.92it/s]"
     ]
    },
    {
     "name": "stdout",
     "output_type": "stream",
     "text": [
      "[iteration 0037] loss: 36553037065.8250\n",
      "[iteration 0038] loss: 34814467323.3821\n",
      "[iteration 0039] loss: 33580430619.0084\n"
     ]
    },
    {
     "name": "stderr",
     "output_type": "stream",
     "text": [
      "Epochs:   8%|▊         | 40/500 [00:02<00:28, 15.91it/s]"
     ]
    },
    {
     "name": "stdout",
     "output_type": "stream",
     "text": [
      "[iteration 0040] loss: 34715209074.7500\n"
     ]
    },
    {
     "name": "stderr",
     "output_type": "stream",
     "text": [
      "Epochs:   8%|▊         | 42/500 [00:02<00:28, 15.89it/s]"
     ]
    },
    {
     "name": "stdout",
     "output_type": "stream",
     "text": [
      "[iteration 0041] loss: 33376000524.5422\n",
      "[iteration 0042] loss: 36616147401.5406\n",
      "[iteration 0043] loss: 35352141789.0820\n"
     ]
    },
    {
     "name": "stderr",
     "output_type": "stream",
     "text": [
      "Epochs:   9%|▊         | 43/500 [00:02<00:29, 15.27it/s]"
     ]
    },
    {
     "name": "stdout",
     "output_type": "stream",
     "text": [
      "Early stopping at epoch 43.\n",
      "Impurity(\n",
      "  (linear): PyroLinear(in_features=769, out_features=1, bias=True)\n",
      ")\n"
     ]
    },
    {
     "name": "stderr",
     "output_type": "stream",
     "text": [
      "\n"
     ]
    },
    {
     "name": "stdout",
     "output_type": "stream",
     "text": [
      "Var left tensor(557.9114)\n",
      "Var right tensor(536.3712)\n",
      "Impurity(\n",
      "  (linear): PyroLinear(in_features=769, out_features=1, bias=True)\n",
      ")\n"
     ]
    },
    {
     "name": "stderr",
     "output_type": "stream",
     "text": [
      "Epochs:   1%|▏         | 7/500 [00:00<00:07, 67.88it/s]\n"
     ]
    },
    {
     "name": "stdout",
     "output_type": "stream",
     "text": [
      "[iteration 0001] loss: 79152852992.0000\n",
      "[iteration 0002] loss: 76438525542.4000\n",
      "[iteration 0003] loss: 75529236889.6000\n",
      "[iteration 0004] loss: 74975432704.0000\n",
      "[iteration 0005] loss: 71528229273.6000\n",
      "[iteration 0006] loss: 72621229260.8000\n",
      "[iteration 0007] loss: 73989329715.2000\n",
      "Early stopping at epoch 7.\n",
      "Impurity(\n",
      "  (linear): PyroLinear(in_features=769, out_features=1, bias=True)\n",
      ")\n",
      "Var left tensor(486.8515)\n",
      "Var right tensor(606.8333)\n",
      "Impurity(\n",
      "  (linear): PyroLinear(in_features=769, out_features=1, bias=True)\n",
      ")\n"
     ]
    },
    {
     "name": "stderr",
     "output_type": "stream",
     "text": [
      "Epochs:   0%|          | 0/500 [00:00<?, ?it/s]"
     ]
    },
    {
     "name": "stdout",
     "output_type": "stream",
     "text": [
      "[iteration 0001] loss: 257829667430.4000\n"
     ]
    },
    {
     "name": "stderr",
     "output_type": "stream",
     "text": [
      "Epochs:   1%|          | 4/500 [00:00<00:25, 19.22it/s]"
     ]
    },
    {
     "name": "stdout",
     "output_type": "stream",
     "text": [
      "[iteration 0002] loss: 240131337830.4000\n",
      "[iteration 0003] loss: 232154893926.4000\n",
      "[iteration 0004] loss: 212206436659.2000\n",
      "[iteration 0005] loss: 198144942080.0000\n"
     ]
    },
    {
     "name": "stderr",
     "output_type": "stream",
     "text": [
      "Epochs:   2%|▏         | 8/500 [00:00<00:25, 19.59it/s]"
     ]
    },
    {
     "name": "stdout",
     "output_type": "stream",
     "text": [
      "[iteration 0006] loss: 190649119436.8000\n",
      "[iteration 0007] loss: 175696317747.2000\n",
      "[iteration 0008] loss: 162884603904.0000\n",
      "[iteration 0009] loss: 153636527206.4000\n"
     ]
    },
    {
     "name": "stderr",
     "output_type": "stream",
     "text": [
      "Epochs:   2%|▏         | 12/500 [00:00<00:24, 19.68it/s]"
     ]
    },
    {
     "name": "stdout",
     "output_type": "stream",
     "text": [
      "[iteration 0010] loss: 147158916684.8000\n",
      "[iteration 0011] loss: 137668778342.4000\n",
      "[iteration 0012] loss: 132821351014.4000\n",
      "[iteration 0013] loss: 122544685619.2000\n"
     ]
    },
    {
     "name": "stderr",
     "output_type": "stream",
     "text": [
      "Epochs:   3%|▎         | 16/500 [00:00<00:24, 19.77it/s]"
     ]
    },
    {
     "name": "stdout",
     "output_type": "stream",
     "text": [
      "[iteration 0014] loss: 116222557139.2000\n",
      "[iteration 0015] loss: 109039733401.6000\n",
      "[iteration 0016] loss: 104597283033.6000\n",
      "[iteration 0017] loss: 97404790577.6000\n"
     ]
    },
    {
     "name": "stderr",
     "output_type": "stream",
     "text": [
      "Epochs:   4%|▎         | 18/500 [00:00<00:24, 19.81it/s]"
     ]
    },
    {
     "name": "stdout",
     "output_type": "stream",
     "text": [
      "[iteration 0018] loss: 91547973180.3062\n"
     ]
    },
    {
     "name": "stderr",
     "output_type": "stream",
     "text": [
      "Epochs:   4%|▍         | 20/500 [00:01<00:24, 19.82it/s]"
     ]
    },
    {
     "name": "stdout",
     "output_type": "stream",
     "text": [
      "[iteration 0019] loss: 90260500646.8000\n",
      "[iteration 0020] loss: 87923604922.9875\n",
      "[iteration 0021] loss: 82812326519.5750\n"
     ]
    },
    {
     "name": "stderr",
     "output_type": "stream",
     "text": [
      "Epochs:   4%|▍         | 22/500 [00:01<00:24, 19.81it/s]"
     ]
    },
    {
     "name": "stdout",
     "output_type": "stream",
     "text": [
      "[iteration 0022] loss: 81916488764.2000\n",
      "[iteration 0023] loss: 79329335099.0867\n"
     ]
    },
    {
     "name": "stderr",
     "output_type": "stream",
     "text": [
      "Epochs:   5%|▍         | 24/500 [00:01<00:24, 19.64it/s]"
     ]
    },
    {
     "name": "stdout",
     "output_type": "stream",
     "text": [
      "[iteration 0024] loss: 73237123795.3351\n",
      "[iteration 0025] loss: 71120411912.4875\n"
     ]
    },
    {
     "name": "stderr",
     "output_type": "stream",
     "text": [
      "Epochs:   5%|▌         | 26/500 [00:01<00:24, 19.62it/s]"
     ]
    },
    {
     "name": "stdout",
     "output_type": "stream",
     "text": [
      "[iteration 0026] loss: 66987841240.0500\n",
      "[iteration 0027] loss: 63958074263.6000\n"
     ]
    },
    {
     "name": "stderr",
     "output_type": "stream",
     "text": [
      "Epochs:   6%|▌         | 29/500 [00:01<00:23, 19.76it/s]"
     ]
    },
    {
     "name": "stdout",
     "output_type": "stream",
     "text": [
      "[iteration 0028] loss: 64037123520.0000\n",
      "[iteration 0029] loss: 63095168066.2000\n"
     ]
    },
    {
     "name": "stderr",
     "output_type": "stream",
     "text": [
      "Epochs:   6%|▌         | 31/500 [00:01<00:24, 19.53it/s]"
     ]
    },
    {
     "name": "stdout",
     "output_type": "stream",
     "text": [
      "[iteration 0030] loss: 60959024728.8000\n",
      "[iteration 0031] loss: 59585788988.8000\n"
     ]
    },
    {
     "name": "stderr",
     "output_type": "stream",
     "text": [
      "Epochs:   7%|▋         | 33/500 [00:01<00:24, 19.44it/s]"
     ]
    },
    {
     "name": "stdout",
     "output_type": "stream",
     "text": [
      "[iteration 0032] loss: 57220439385.5500\n",
      "[iteration 0033] loss: 57745242925.6000\n"
     ]
    },
    {
     "name": "stderr",
     "output_type": "stream",
     "text": [
      "Epochs:   7%|▋         | 35/500 [00:01<00:24, 19.37it/s]"
     ]
    },
    {
     "name": "stdout",
     "output_type": "stream",
     "text": [
      "[iteration 0034] loss: 56450498543.2000\n",
      "[iteration 0035] loss: 55993529712.6250\n"
     ]
    },
    {
     "name": "stderr",
     "output_type": "stream",
     "text": [
      "Epochs:   7%|▋         | 37/500 [00:01<00:23, 19.30it/s]"
     ]
    },
    {
     "name": "stdout",
     "output_type": "stream",
     "text": [
      "[iteration 0036] loss: 53226411894.8812\n",
      "[iteration 0037] loss: 54000398160.8000\n"
     ]
    },
    {
     "name": "stderr",
     "output_type": "stream",
     "text": [
      "Epochs:   8%|▊         | 39/500 [00:01<00:24, 19.19it/s]"
     ]
    },
    {
     "name": "stdout",
     "output_type": "stream",
     "text": [
      "[iteration 0038] loss: 53517500154.0000\n",
      "[iteration 0039] loss: 52610145740.4730\n"
     ]
    },
    {
     "name": "stderr",
     "output_type": "stream",
     "text": [
      "Epochs:   8%|▊         | 41/500 [00:02<00:23, 19.18it/s]"
     ]
    },
    {
     "name": "stdout",
     "output_type": "stream",
     "text": [
      "[iteration 0040] loss: 51920785623.8830\n",
      "[iteration 0041] loss: 51402786553.3906\n"
     ]
    },
    {
     "name": "stderr",
     "output_type": "stream",
     "text": [
      "Epochs:   9%|▊         | 43/500 [00:02<00:23, 19.16it/s]"
     ]
    },
    {
     "name": "stdout",
     "output_type": "stream",
     "text": [
      "[iteration 0042] loss: 50833325604.5999\n",
      "[iteration 0043] loss: 50380260091.1375\n"
     ]
    },
    {
     "name": "stderr",
     "output_type": "stream",
     "text": [
      "Epochs:   9%|▉         | 45/500 [00:02<00:23, 19.10it/s]"
     ]
    },
    {
     "name": "stdout",
     "output_type": "stream",
     "text": [
      "[iteration 0044] loss: 49907801153.4437\n",
      "[iteration 0045] loss: 49766294357.4875\n"
     ]
    },
    {
     "name": "stderr",
     "output_type": "stream",
     "text": [
      "Epochs:   9%|▉         | 47/500 [00:02<00:23, 19.11it/s]"
     ]
    },
    {
     "name": "stdout",
     "output_type": "stream",
     "text": [
      "[iteration 0046] loss: 47833093187.1000\n",
      "[iteration 0047] loss: 49125235248.4500\n"
     ]
    },
    {
     "name": "stderr",
     "output_type": "stream",
     "text": [
      "Epochs:  10%|▉         | 48/500 [00:02<00:23, 19.04it/s]\n"
     ]
    },
    {
     "name": "stdout",
     "output_type": "stream",
     "text": [
      "[iteration 0048] loss: 49945076296.0000\n",
      "Early stopping at epoch 48.\n",
      "Impurity(\n",
      "  (linear): PyroLinear(in_features=769, out_features=1, bias=True)\n",
      ")\n",
      "Var left tensor(539.0010)\n",
      "Var right tensor(563.3669)\n",
      "Impurity(\n",
      "  (linear): PyroLinear(in_features=769, out_features=1, bias=True)\n",
      ")\n"
     ]
    },
    {
     "name": "stderr",
     "output_type": "stream",
     "text": [
      "Epochs:   1%|          | 5/500 [00:00<00:11, 42.97it/s]"
     ]
    },
    {
     "name": "stdout",
     "output_type": "stream",
     "text": [
      "[iteration 0001] loss: 328797996646.4000\n",
      "[iteration 0002] loss: 315806041292.8000\n",
      "[iteration 0003] loss: 313698040217.6000\n",
      "[iteration 0004] loss: 313813691187.2000\n",
      "[iteration 0005] loss: 305050871808.0000\n",
      "[iteration 0006] loss: 298047433113.6000\n",
      "[iteration 0007] loss: 293673755443.2000\n",
      "[iteration 0008] loss: 293109219737.6000\n",
      "[iteration 0009] loss: 291409616486.4000\n"
     ]
    },
    {
     "name": "stderr",
     "output_type": "stream",
     "text": [
      "Epochs:   2%|▏         | 10/500 [00:00<00:11, 43.49it/s]"
     ]
    },
    {
     "name": "stdout",
     "output_type": "stream",
     "text": [
      "[iteration 0010] loss: 278700831539.2001\n",
      "[iteration 0011] loss: 275401124249.6000\n",
      "[iteration 0012] loss: 269229650739.2000\n",
      "[iteration 0013] loss: 262245689753.6000\n",
      "[iteration 0014] loss: 272197191680.0000\n"
     ]
    },
    {
     "name": "stderr",
     "output_type": "stream",
     "text": [
      "Epochs:   3%|▎         | 15/500 [00:00<00:11, 43.87it/s]"
     ]
    },
    {
     "name": "stdout",
     "output_type": "stream",
     "text": [
      "[iteration 0015] loss: 254180810342.4000\n",
      "[iteration 0016] loss: 253271782195.2000\n",
      "[iteration 0017] loss: 254828828262.4001\n",
      "[iteration 0018] loss: 254983297433.6000\n"
     ]
    },
    {
     "name": "stderr",
     "output_type": "stream",
     "text": [
      "Epochs:   4%|▍         | 20/500 [00:00<00:10, 43.75it/s]"
     ]
    },
    {
     "name": "stdout",
     "output_type": "stream",
     "text": [
      "[iteration 0019] loss: 244438814720.0000\n",
      "[iteration 0020] loss: 245249676902.4000\n",
      "[iteration 0021] loss: 239440783769.6000\n",
      "[iteration 0022] loss: 233260994150.4000\n",
      "[iteration 0023] loss: 227562161356.8000\n"
     ]
    },
    {
     "name": "stderr",
     "output_type": "stream",
     "text": [
      "Epochs:   5%|▌         | 25/500 [00:00<00:10, 43.54it/s]"
     ]
    },
    {
     "name": "stdout",
     "output_type": "stream",
     "text": [
      "[iteration 0024] loss: 230366502092.8000\n",
      "[iteration 0025] loss: 219876506419.2000\n",
      "[iteration 0026] loss: 221216494387.2000\n",
      "[iteration 0027] loss: 214736632217.6000\n"
     ]
    },
    {
     "name": "stderr",
     "output_type": "stream",
     "text": [
      "Epochs:   6%|▌         | 30/500 [00:00<00:10, 43.23it/s]"
     ]
    },
    {
     "name": "stdout",
     "output_type": "stream",
     "text": [
      "[iteration 0028] loss: 211973322342.4000\n",
      "[iteration 0029] loss: 213785517670.4000\n",
      "[iteration 0030] loss: 210185714483.2000\n",
      "[iteration 0031] loss: 206254075904.0000\n",
      "[iteration 0032] loss: 202281275392.0000\n"
     ]
    },
    {
     "name": "stderr",
     "output_type": "stream",
     "text": [
      "Epochs:   7%|▋         | 35/500 [00:00<00:10, 43.15it/s]"
     ]
    },
    {
     "name": "stdout",
     "output_type": "stream",
     "text": [
      "[iteration 0033] loss: 202639720857.6000\n",
      "[iteration 0034] loss: 194414526873.6000\n",
      "[iteration 0035] loss: 187913762816.0000\n",
      "[iteration 0036] loss: 188428587417.6000\n"
     ]
    },
    {
     "name": "stderr",
     "output_type": "stream",
     "text": [
      "Epochs:   8%|▊         | 40/500 [00:00<00:10, 42.90it/s]"
     ]
    },
    {
     "name": "stdout",
     "output_type": "stream",
     "text": [
      "[iteration 0037] loss: 187173163417.6000\n",
      "[iteration 0038] loss: 185152876544.0000\n",
      "[iteration 0039] loss: 178068880998.4000\n",
      "[iteration 0040] loss: 179139113779.2000\n",
      "[iteration 0041] loss: 174442501324.8000\n"
     ]
    },
    {
     "name": "stderr",
     "output_type": "stream",
     "text": [
      "Epochs:   9%|▉         | 45/500 [00:01<00:10, 42.92it/s]"
     ]
    },
    {
     "name": "stdout",
     "output_type": "stream",
     "text": [
      "[iteration 0042] loss: 170441138995.2000\n",
      "[iteration 0043] loss: 168940156518.4000\n",
      "[iteration 0044] loss: 172213177548.8000\n",
      "[iteration 0045] loss: 168444855091.2000\n"
     ]
    },
    {
     "name": "stderr",
     "output_type": "stream",
     "text": [
      "Epochs:  10%|█         | 50/500 [00:01<00:10, 43.09it/s]"
     ]
    },
    {
     "name": "stdout",
     "output_type": "stream",
     "text": [
      "[iteration 0046] loss: 166563792896.0000\n",
      "[iteration 0047] loss: 162864763699.2000\n",
      "[iteration 0048] loss: 157778641715.2000\n",
      "[iteration 0049] loss: 154409713664.0000\n",
      "[iteration 0050] loss: 156428803686.4000\n",
      "[iteration 0051] loss: 155484417638.4000\n",
      "[iteration 0052] loss: 147937874739.2000\n",
      "[iteration 0053] loss: 146278866534.4000\n",
      "[iteration 0054] loss: 148382746624.0000\n"
     ]
    },
    {
     "name": "stderr",
     "output_type": "stream",
     "text": [
      "Epochs:  11%|█         | 55/500 [00:01<00:10, 43.21it/s]"
     ]
    },
    {
     "name": "stdout",
     "output_type": "stream",
     "text": [
      "[iteration 0055] loss: 144395578777.6000\n",
      "[iteration 0056] loss: 140377539788.8000\n",
      "[iteration 0057] loss: 135175286169.6000\n",
      "[iteration 0058] loss: 136735503974.4000\n",
      "[iteration 0059] loss: 133411060121.6000\n"
     ]
    },
    {
     "name": "stderr",
     "output_type": "stream",
     "text": [
      "Epochs:  12%|█▏        | 60/500 [00:01<00:10, 43.52it/s]"
     ]
    },
    {
     "name": "stdout",
     "output_type": "stream",
     "text": [
      "[iteration 0060] loss: 135929400524.8000\n",
      "[iteration 0061] loss: 134620405760.0000\n",
      "[iteration 0062] loss: 128146508800.0000\n",
      "[iteration 0063] loss: 127420840755.2000\n"
     ]
    },
    {
     "name": "stderr",
     "output_type": "stream",
     "text": [
      "Epochs:  13%|█▎        | 65/500 [00:01<00:09, 43.59it/s]"
     ]
    },
    {
     "name": "stdout",
     "output_type": "stream",
     "text": [
      "[iteration 0064] loss: 122961000038.4000\n",
      "[iteration 0065] loss: 123067565465.6000\n",
      "[iteration 0066] loss: 122080420864.0000\n",
      "[iteration 0067] loss: 118234637926.4000\n",
      "[iteration 0068] loss: 120651859763.2000\n"
     ]
    },
    {
     "name": "stderr",
     "output_type": "stream",
     "text": [
      "Epochs:  14%|█▍        | 70/500 [00:01<00:10, 42.43it/s]"
     ]
    },
    {
     "name": "stdout",
     "output_type": "stream",
     "text": [
      "[iteration 0069] loss: 114275442278.4000\n",
      "[iteration 0070] loss: 117584316825.6000\n",
      "[iteration 0071] loss: 114215104307.2000\n",
      "[iteration 0072] loss: 112302649548.8000\n"
     ]
    },
    {
     "name": "stderr",
     "output_type": "stream",
     "text": [
      "Epochs:  15%|█▌        | 75/500 [00:01<00:10, 42.34it/s]"
     ]
    },
    {
     "name": "stdout",
     "output_type": "stream",
     "text": [
      "[iteration 0073] loss: 111004444262.4000\n",
      "[iteration 0074] loss: 114910386585.6000\n",
      "[iteration 0075] loss: 108996716134.4000\n",
      "[iteration 0076] loss: 111892238131.2000\n",
      "[iteration 0077] loss: 104357146009.6000\n"
     ]
    },
    {
     "name": "stderr",
     "output_type": "stream",
     "text": [
      "Epochs:  16%|█▌        | 80/500 [00:01<00:09, 42.51it/s]"
     ]
    },
    {
     "name": "stdout",
     "output_type": "stream",
     "text": [
      "[iteration 0078] loss: 99537580851.2000\n",
      "[iteration 0079] loss: 102819890585.6000\n",
      "[iteration 0080] loss: 100517884313.6000\n",
      "Early stopping at epoch 80.\n",
      "Impurity(\n",
      "  (linear): PyroLinear(in_features=769, out_features=1, bias=True)\n",
      ")\n",
      "Var left tensor(651.2500)\n",
      "Var right tensor(712.1355)\n"
     ]
    },
    {
     "name": "stderr",
     "output_type": "stream",
     "text": [
      "\n"
     ]
    },
    {
     "name": "stdout",
     "output_type": "stream",
     "text": [
      "Impurity(\n",
      "  (linear): PyroLinear(in_features=769, out_features=1, bias=True)\n",
      ")\n"
     ]
    },
    {
     "name": "stderr",
     "output_type": "stream",
     "text": [
      "Epochs:   2%|▏         | 8/500 [00:00<00:06, 76.63it/s]"
     ]
    },
    {
     "name": "stdout",
     "output_type": "stream",
     "text": [
      "[iteration 0001] loss: 281709723648.0000\n",
      "[iteration 0002] loss: 274342345113.6000\n",
      "[iteration 0003] loss: 273889601126.4000\n",
      "[iteration 0004] loss: 272168647065.6000\n",
      "[iteration 0005] loss: 267274071244.8000\n",
      "[iteration 0006] loss: 260481944780.8000\n",
      "[iteration 0007] loss: 261722085785.6000\n",
      "[iteration 0008] loss: 269304574771.2000\n",
      "[iteration 0009] loss: 255101213081.6000\n",
      "[iteration 0010] loss: 258711530700.8000\n",
      "[iteration 0011] loss: 254838240051.2000\n",
      "[iteration 0012] loss: 252655270297.6000\n",
      "[iteration 0013] loss: 246506243686.4000\n",
      "[iteration 0014] loss: 249614945484.8000\n",
      "[iteration 0015] loss: 249068924108.8000\n"
     ]
    },
    {
     "name": "stderr",
     "output_type": "stream",
     "text": [
      "Epochs:   3%|▎         | 16/500 [00:00<00:06, 77.87it/s]"
     ]
    },
    {
     "name": "stdout",
     "output_type": "stream",
     "text": [
      "[iteration 0016] loss: 241863260569.6000\n"
     ]
    },
    {
     "name": "stderr",
     "output_type": "stream",
     "text": [
      "Epochs:   5%|▍         | 24/500 [00:00<00:06, 77.30it/s]"
     ]
    },
    {
     "name": "stdout",
     "output_type": "stream",
     "text": [
      "[iteration 0017] loss: 237429438873.6000\n",
      "[iteration 0018] loss: 236826759987.2000\n",
      "[iteration 0019] loss: 236202101964.8000\n",
      "[iteration 0020] loss: 232151855923.2000\n",
      "[iteration 0021] loss: 233150493491.2000\n",
      "[iteration 0022] loss: 229902090240.0000\n",
      "[iteration 0023] loss: 225913330073.6000\n",
      "[iteration 0024] loss: 230831751168.0000\n",
      "[iteration 0025] loss: 229810893619.2000\n",
      "[iteration 0026] loss: 220939957043.2000\n",
      "[iteration 0027] loss: 221170129305.6000\n",
      "[iteration 0028] loss: 225483412275.2000\n",
      "[iteration 0029] loss: 214128055091.2000\n",
      "[iteration 0030] loss: 216271354265.6000\n",
      "[iteration 0031] loss: 212666630144.0000\n"
     ]
    },
    {
     "name": "stderr",
     "output_type": "stream",
     "text": [
      "Epochs:   6%|▋         | 32/500 [00:00<00:06, 77.66it/s]"
     ]
    },
    {
     "name": "stdout",
     "output_type": "stream",
     "text": [
      "[iteration 0032] loss: 212063245107.2000\n"
     ]
    },
    {
     "name": "stderr",
     "output_type": "stream",
     "text": [
      "Epochs:   8%|▊         | 40/500 [00:00<00:05, 77.36it/s]"
     ]
    },
    {
     "name": "stdout",
     "output_type": "stream",
     "text": [
      "[iteration 0033] loss: 207516286976.0000\n",
      "[iteration 0034] loss: 209585037312.0000\n",
      "[iteration 0035] loss: 207277100236.8000\n",
      "[iteration 0036] loss: 202441290547.2000\n",
      "[iteration 0037] loss: 200094141644.8000\n",
      "[iteration 0038] loss: 202240424345.6000\n",
      "[iteration 0039] loss: 197841729945.6000\n",
      "[iteration 0040] loss: 200830423859.2000\n",
      "[iteration 0041] loss: 195655217971.2000\n",
      "[iteration 0042] loss: 199381227929.6000\n",
      "[iteration 0043] loss: 198560033996.8000\n",
      "[iteration 0044] loss: 191790519091.2000\n",
      "[iteration 0045] loss: 189167948595.2000\n",
      "[iteration 0046] loss: 191203916185.6000\n",
      "[iteration 0047] loss: 187535463219.2000\n"
     ]
    },
    {
     "name": "stderr",
     "output_type": "stream",
     "text": [
      "Epochs:  10%|▉         | 48/500 [00:00<00:05, 78.03it/s]"
     ]
    },
    {
     "name": "stdout",
     "output_type": "stream",
     "text": [
      "[iteration 0048] loss: 186335477760.0000\n"
     ]
    },
    {
     "name": "stderr",
     "output_type": "stream",
     "text": [
      "Epochs:  11%|█         | 53/500 [00:00<00:05, 76.00it/s]\n"
     ]
    },
    {
     "name": "stdout",
     "output_type": "stream",
     "text": [
      "[iteration 0049] loss: 178687500288.0000\n",
      "[iteration 0050] loss: 188117590016.0000\n",
      "[iteration 0051] loss: 175630601420.8000\n",
      "[iteration 0052] loss: 178946179072.0000\n",
      "[iteration 0053] loss: 177611661312.0000\n",
      "Early stopping at epoch 53.\n",
      "Impurity(\n",
      "  (linear): PyroLinear(in_features=769, out_features=1, bias=True)\n",
      ")\n",
      "Var left tensor(604.4279)\n",
      "Var right tensor(894.8420)\n",
      "Impurity(\n",
      "  (linear): PyroLinear(in_features=769, out_features=1, bias=True)\n",
      ")\n"
     ]
    },
    {
     "name": "stderr",
     "output_type": "stream",
     "text": [
      "Epochs:   0%|          | 0/500 [00:00<?, ?it/s]"
     ]
    },
    {
     "name": "stdout",
     "output_type": "stream",
     "text": [
      "[iteration 0001] loss: 142409628876.8000\n"
     ]
    },
    {
     "name": "stderr",
     "output_type": "stream",
     "text": [
      "Epochs:   1%|          | 4/500 [00:00<00:07, 62.25it/s]"
     ]
    },
    {
     "name": "stdout",
     "output_type": "stream",
     "text": [
      "[iteration 0002] loss: 138599210188.8000\n",
      "[iteration 0003] loss: 139968668467.2000\n",
      "[iteration 0004] loss: 139761333043.2000\n",
      "Early stopping at epoch 4.\n",
      "Impurity(\n",
      "  (linear): PyroLinear(in_features=769, out_features=1, bias=True)\n",
      ")\n",
      "Var left tensor(nan)\n",
      "Var right tensor(842.6666)\n"
     ]
    },
    {
     "name": "stderr",
     "output_type": "stream",
     "text": [
      "\n"
     ]
    }
   ],
   "source": [
    "model = VSpyct(max_depth=3, bs=64)\n",
    "model.fit(X_train, y_train)"
   ]
  },
  {
   "cell_type": "code",
   "execution_count": 4,
   "metadata": {},
   "outputs": [],
   "source": [
    "preds = model.predict(X_test)\n",
    "avg_preds = preds.mean(axis=1)"
   ]
  },
  {
   "cell_type": "code",
   "execution_count": 5,
   "metadata": {},
   "outputs": [
    {
     "data": {
      "image/png": "[encoded data removed]",
      "text/plain": [
       "<Figure size 640x480 with 1 Axes>"
      ]
     },
     "metadata": {},
     "output_type": "display_data"
    }
   ],
   "source": [
    "for i in range(80):\n",
    "  plt.plot(avg_preds[i])"
   ]
  },
  {
   "cell_type": "code",
   "execution_count": 6,
   "metadata": {},
   "outputs": [],
   "source": [
    "pstore = model.root_node.param_store.detach()"
   ]
  },
  {
   "cell_type": "code",
   "execution_count": 7,
   "metadata": {},
   "outputs": [],
   "source": [
    "X_train, T_train, E_train, X_test, T_test, E_test = data.pysurvival_split()"
   ]
  },
  {
   "cell_type": "code",
   "execution_count": 8,
   "metadata": {},
   "outputs": [
    {
     "data": {
      "text/plain": [
       "<spyct.model.Model at 0x103cfd940>"
      ]
     },
     "execution_count": 8,
     "metadata": {},
     "output_type": "execute_result"
    }
   ],
   "source": [
    "import spyct\n",
    "\n",
    "model = spyct.Model()\n",
    "model.fit(X_train.values, y_train.numpy())"
   ]
  },
  {
   "cell_type": "code",
   "execution_count": 9,
   "metadata": {},
   "outputs": [],
   "source": [
    "preds_spyct = model.predict(y_test.numpy())"
   ]
  },
  {
   "cell_type": "code",
   "execution_count": 10,
   "metadata": {},
   "outputs": [],
   "source": [
    "roots_list = [tree[0].split_weights.to_ndarray()[0] for tree in model.trees]\n",
    "roots_list = np.array(roots_list)\n",
    "# [node.split_weights.to_ndarray() for node in nodes_list]"
   ]
  },
  {
   "cell_type": "code",
   "execution_count": 11,
   "metadata": {},
   "outputs": [
    {
     "data": {
      "text/plain": [
       "[<matplotlib.lines.Line2D at 0x157c06be0>]"
      ]
     },
     "execution_count": 11,
     "metadata": {},
     "output_type": "execute_result"
    },
    {
     "data": {
      "image/png": "[encoded data removed]",
      "text/plain": [
       "<Figure size 640x480 with 1 Axes>"
      ]
     },
     "metadata": {},
     "output_type": "display_data"
    }
   ],
   "source": [
    "plt.plot(roots_list.mean(axis=0))\n",
    "plt.plot(pstore)"
   ]
  },
  {
   "cell_type": "code",
   "execution_count": 12,
   "metadata": {},
   "outputs": [
    {
     "data": {
      "text/plain": [
       "array([<spyct.node.Node object at 0x17b7d2230>,\n",
       "       <spyct.node.Node object at 0x103d18be0>,\n",
       "       <spyct.node.Node object at 0x17f012dd0>,\n",
       "       <spyct.node.Node object at 0x17f012610>,\n",
       "       <spyct.node.Node object at 0x17f012040>,\n",
       "       <spyct.node.Node object at 0x17f19f040>,\n",
       "       <spyct.node.Node object at 0x17f19f610>,\n",
       "       <spyct.node.Node object at 0x17f19f420>,\n",
       "       <spyct.node.Node object at 0x17f015800>,\n",
       "       <spyct.node.Node object at 0x17f0159f0>,\n",
       "       <spyct.node.Node object at 0x17f015dd0>,\n",
       "       <spyct.node.Node object at 0x17f015040>,\n",
       "       <spyct.node.Node object at 0x17f9b5040>,\n",
       "       <spyct.node.Node object at 0x17f9b5230>,\n",
       "       <spyct.node.Node object at 0x17f9b5420>,\n",
       "       <spyct.node.Node object at 0x17f9b5610>,\n",
       "       <spyct.node.Node object at 0x17f9b5800>,\n",
       "       <spyct.node.Node object at 0x17f9b59f0>,\n",
       "       <spyct.node.Node object at 0x17f9b5be0>,\n",
       "       <spyct.node.Node object at 0x17f9b5dd0>,\n",
       "       <spyct.node.Node object at 0x17f9b6040>,\n",
       "       <spyct.node.Node object at 0x17f9b6230>,\n",
       "       <spyct.node.Node object at 0x17f9b6420>,\n",
       "       <spyct.node.Node object at 0x17f9b6610>,\n",
       "       <spyct.node.Node object at 0x17f9b6800>,\n",
       "       <spyct.node.Node object at 0x17f9b69f0>,\n",
       "       <spyct.node.Node object at 0x17f9b6be0>,\n",
       "       <spyct.node.Node object at 0x17f9b6dd0>,\n",
       "       <spyct.node.Node object at 0x17f9b0040>,\n",
       "       <spyct.node.Node object at 0x17f9b0230>,\n",
       "       <spyct.node.Node object at 0x17f9b0420>,\n",
       "       <spyct.node.Node object at 0x17f9b0610>,\n",
       "       <spyct.node.Node object at 0x17f9b0800>,\n",
       "       <spyct.node.Node object at 0x17f9b09f0>,\n",
       "       <spyct.node.Node object at 0x17f9b0be0>], dtype=object)"
      ]
     },
     "execution_count": 12,
     "metadata": {},
     "output_type": "execute_result"
    }
   ],
   "source": [
    "model.trees[0]"
   ]
  },
  {
   "cell_type": "code",
   "execution_count": 13,
   "metadata": {},
   "outputs": [
    {
     "data": {
      "text/plain": [
       "[<matplotlib.lines.Line2D at 0x17b7f6ca0>]"
      ]
     },
     "execution_count": 13,
     "metadata": {},
     "output_type": "execute_result"
    },
    {
     "data": {
      "image/png": "[encoded data removed]",
      "text/plain": [
       "<Figure size 640x480 with 1 Axes>"
      ]
     },
     "metadata": {},
     "output_type": "display_data"
    }
   ],
   "source": [
    "plt.plot(model.trees[0][0].split_weights.to_ndarray()[0])\n",
    "plt.plot(pstore)"
   ]
  },
  {
   "cell_type": "code",
   "execution_count": 14,
   "metadata": {},
   "outputs": [
    {
     "data": {
      "text/plain": [
       "(torch.Size([770]), (1, 769))"
      ]
     },
     "execution_count": 14,
     "metadata": {},
     "output_type": "execute_result"
    }
   ],
   "source": [
    "pstore.shape, model.trees[0][0].split_weights.to_ndarray().shape"
   ]
  },
  {
   "cell_type": "code",
   "execution_count": 15,
   "metadata": {},
   "outputs": [
    {
     "data": {
      "image/png": "[encoded data removed]",
      "text/plain": [
       "<Figure size 640x480 with 1 Axes>"
      ]
     },
     "metadata": {},
     "output_type": "display_data"
    }
   ],
   "source": [
    "for i in range(80):\n",
    "  plt.plot(preds_spyct[i])"
   ]
  },
  {
   "cell_type": "code",
   "execution_count": 16,
   "metadata": {},
   "outputs": [],
   "source": [
    "bs = IPCWBrier(T_test, E_test)"
   ]
  },
  {
   "cell_type": "code",
   "execution_count": 17,
   "metadata": {},
   "outputs": [
    {
     "data": {
      "text/plain": [
       "[<matplotlib.lines.Line2D at 0x28a1504c0>]"
      ]
     },
     "execution_count": 17,
     "metadata": {},
     "output_type": "execute_result"
    },
    {
     "data": {
      "image/png": "[encoded data removed]",
      "text/plain": [
       "<Figure size 640x480 with 1 Axes>"
      ]
     },
     "metadata": {},
     "output_type": "display_data"
    }
   ],
   "source": [
    "plt.plot(bs.evaluate(y_test, avg_preds))\n",
    "plt.plot(bs.evaluate(y_test, preds_spyct))"
   ]
  },
  {
   "attachments": {},
   "cell_type": "markdown",
   "metadata": {},
   "source": [
    "### Interpretability\n",
    "\n",
    "- Interpret each prediction independently\n",
    "- Take the path of each sample and calculate distribution of the taken paths\n",
    "- "
   ]
  },
  {
   "cell_type": "code",
   "execution_count": 15,
   "metadata": {},
   "outputs": [],
   "source": [
    "non_leaves = []\n",
    "\n",
    "def traverse(node):\n",
    "  if node is not None:\n",
    "    if node.left is not None or node.right is not None: non_leaves.append(node)\n",
    "    traverse(node.left)\n",
    "    traverse(node.right)\n",
    "\n",
    "traverse(model.root_node)"
   ]
  },
  {
   "cell_type": "code",
   "execution_count": 16,
   "metadata": {},
   "outputs": [
    {
     "data": {
      "text/plain": [
       "[array([[-7.68373072e-01, -9.31114554e-01,  7.63386369e-01,\n",
       "          1.06100392e+00, -4.17283833e-01, -8.99758101e-01,\n",
       "         -5.48363864e-01, -6.02521420e-01,  2.77935147e-01,\n",
       "         -6.44819438e-01, -1.17926288e+00, -7.57653773e-01,\n",
       "         -1.31712711e+00, -9.88086402e-01,  1.20913160e+00,\n",
       "          1.05346002e-01, -1.01527169e-01,  7.23659754e-01,\n",
       "          1.28156900e+00, -2.25495175e-01,  4.28838953e-02,\n",
       "         -1.28054905e+00,  8.46570671e-01,  3.71858031e-01,\n",
       "          3.99812013e-01,  4.87635016e-01, -1.97532803e-01,\n",
       "          7.41825402e-01, -7.44453907e-01, -2.03669354e-01,\n",
       "         -1.78794944e+00,  9.67317402e-01, -5.16612947e-01,\n",
       "         -9.83200073e-01, -8.44015062e-01, -4.80330765e-01,\n",
       "          3.45482439e-01,  3.11550140e-01, -2.44919345e-01,\n",
       "          9.46991622e-01, -4.51710104e-04, -1.77980161e+00,\n",
       "         -5.42652011e-01, -5.93819499e-01,  5.74084222e-01,\n",
       "         -7.50122070e-01, -3.60674322e-01,  2.78339684e-01,\n",
       "          1.82772219e+00,  3.71657498e-02, -4.05740917e-01,\n",
       "         -2.63767317e-02, -9.58244145e-01,  3.71796601e-02,\n",
       "         -1.15672994e+00, -3.28666419e-01,  1.02062392e+00,\n",
       "          6.68269455e-01, -3.27950788e+00, -8.12827110e-01,\n",
       "         -4.66483325e-01, -9.98902798e-01,  3.82360578e-01,\n",
       "          4.51190680e-01, -7.99484253e-01, -9.30127442e-01,\n",
       "         -1.67139459e+00, -1.26610637e+00, -6.62325382e-01,\n",
       "          2.32335448e+00, -9.25539434e-01, -5.89791477e-01,\n",
       "         -2.92601347e-01,  1.56756938e+00, -1.51255220e-01,\n",
       "         -9.07742232e-02, -8.46177220e-01, -3.42904031e-02,\n",
       "          6.34506494e-02, -2.92831093e-01,  1.26935229e-01,\n",
       "         -7.91136205e-01,  1.36937106e+00,  2.85376787e+00,\n",
       "         -6.59030318e-01,  1.66104138e-01, -4.16063994e-01,\n",
       "          2.34035581e-01,  8.20444643e-01,  1.27861547e+00,\n",
       "          8.45572174e-01,  3.35196644e-01, -8.33814442e-01,\n",
       "          3.52673173e-01,  1.11513186e+00,  1.98616922e-01,\n",
       "          2.17860147e-01, -4.26282048e-01,  2.18266797e+00,\n",
       "          7.06181765e-01, -4.16601636e-02,  8.14309120e-01,\n",
       "         -1.27066386e+00, -6.81265354e-01, -5.34299254e-01,\n",
       "         -3.83500427e-01,  9.99315083e-01, -1.52918682e-01,\n",
       "         -8.17250431e-01, -2.05612883e-01,  3.90242189e-02,\n",
       "          9.74634171e-01,  1.15860927e+00, -5.10459542e-01,\n",
       "         -7.49523222e-01, -4.51647520e-01,  3.61346781e-01,\n",
       "         -3.61428678e-01, -6.77098393e-01,  9.03600216e-01,\n",
       "         -1.33781767e+00, -8.27574283e-02, -1.15957938e-01,\n",
       "         -6.05674267e-01, -5.34036696e-01, -1.28829837e+00,\n",
       "         -2.88632452e-01,  1.17221609e-01, -6.92791820e-01,\n",
       "         -1.37419379e+00,  5.20172119e-01, -1.18228805e+00,\n",
       "         -5.24158254e-02,  6.26370728e-01,  1.32344294e+00,\n",
       "         -6.00218832e-01,  4.77701068e-01, -3.82723436e-02,\n",
       "          9.52405393e-01,  1.35811627e+00, -3.19239473e+00,\n",
       "         -1.92481208e+00,  9.68470514e-01, -2.28070760e+00,\n",
       "          1.45053864e-01,  8.26187655e-02,  1.60195529e-01,\n",
       "         -1.17704391e+00, -1.30753446e+00,  2.99318194e+00,\n",
       "          8.06938469e-01,  1.55238044e+00, -6.72230422e-01,\n",
       "         -7.64670610e-01,  5.77274740e-01, -2.69091576e-01,\n",
       "          2.95912147e-01,  1.34775996e+00,  2.63401628e-01,\n",
       "          7.71665752e-01, -1.95519239e-01, -4.46895510e-01,\n",
       "          3.69251162e-01,  6.61650300e-01,  8.84262502e-01,\n",
       "          2.08543479e-01,  2.69414246e-01, -1.11198521e+00,\n",
       "         -7.54569411e-01, -3.72467428e-01, -8.53943288e-01,\n",
       "         -1.37538120e-01, -1.63385317e-01,  9.89894807e-01,\n",
       "         -1.22817092e-01, -2.39736550e-02,  1.21607673e+00,\n",
       "          3.43262851e-01, -2.15800807e-01, -2.97956824e-01,\n",
       "         -5.69606960e-01,  9.41862762e-01, -5.87940753e-01,\n",
       "          1.88374951e-01,  2.04794717e+00, -6.05063379e-01,\n",
       "          5.31476498e-01, -7.62830814e-03, -4.20688540e-01,\n",
       "          7.37487912e-01, -1.42454833e-01,  2.03911275e-01,\n",
       "          1.48637867e+00,  1.26179910e+00, -6.08462036e-01,\n",
       "          2.68634439e-01,  3.14888537e-01, -6.46466911e-02,\n",
       "         -7.56742239e-01,  2.04383247e-02, -1.26725721e+00,\n",
       "         -1.69108853e-01, -1.46599603e+00,  1.17628670e+00,\n",
       "          1.29359448e+00, -3.12245697e-01,  1.80373693e+00,\n",
       "          1.57133043e+00, -1.41051555e+00, -7.39129126e-01,\n",
       "         -4.82219309e-01, -9.30503130e-01, -4.34540838e-01,\n",
       "          1.27354145e-01, -2.63019711e-01,  1.03090680e+00,\n",
       "          6.28185630e-01, -1.35887790e+00,  2.63282448e-01,\n",
       "          1.21153462e+00,  2.65595376e-01,  1.85088623e+00,\n",
       "         -1.45746541e+00, -7.95340687e-02, -1.37706852e+00,\n",
       "         -2.35025093e-01, -7.02312529e-01, -9.09145176e-01,\n",
       "          4.46631402e-01,  4.35979158e-01, -1.04877913e+00,\n",
       "          9.77948964e-01, -2.19414020e+00, -7.91274309e-01,\n",
       "         -4.39884037e-01,  6.30240023e-01,  5.74224055e-01,\n",
       "          4.62922126e-01,  6.68633759e-01, -1.17395389e+00,\n",
       "          6.17886841e-01,  1.93708849e+00,  2.09080052e+00,\n",
       "         -3.25559306e+00, -1.03536165e+00,  2.35144377e-01,\n",
       "          1.39793730e+00,  2.83709258e-01, -5.88897109e-01,\n",
       "         -5.74716449e-01,  1.96714371e-01,  4.47916597e-01,\n",
       "         -1.47507083e+00, -5.36610901e-01, -2.10494787e-01,\n",
       "          1.43930867e-01,  1.33391634e-01,  2.57348306e-02,\n",
       "          4.11680788e-01, -8.11239958e-01, -1.12878673e-01,\n",
       "          1.67937529e+00, -8.44388977e-02, -2.18242064e-01,\n",
       "         -2.61058235e+00,  7.22609341e-01, -1.48200214e-01,\n",
       "          1.18473220e+00, -7.64520228e-01, -7.23106325e-01,\n",
       "          4.73126024e-01, -1.92714289e-01, -1.65684009e+00,\n",
       "          1.56096005e+00,  1.66812703e-01, -9.24678683e-01,\n",
       "          2.29275489e+00, -4.69785273e-01,  1.13928163e+00,\n",
       "         -7.61187017e-01, -9.64703202e-01, -1.07689059e+00,\n",
       "          1.25789869e+00, -3.77560765e-01,  4.06568199e-01,\n",
       "         -1.79351732e-01, -4.26158965e-01, -5.64511657e-01,\n",
       "          2.47860804e-01, -3.41649167e-02,  1.29924011e+00,\n",
       "          1.15263832e+00, -1.06204164e+00, -6.84108734e-01,\n",
       "         -9.54942584e-01,  8.02161694e-01,  9.28788483e-01,\n",
       "          6.41951382e-01,  3.11548144e-01,  3.95357519e-01,\n",
       "         -8.24804306e-01, -2.20010805e+00, -1.87216654e-01,\n",
       "         -8.24541450e-01,  2.86425024e-01, -6.61319017e-01,\n",
       "         -1.03564322e+00, -1.18397415e+00, -3.75265330e-01,\n",
       "          6.04385674e-01, -1.52916506e-01, -3.27146441e-01,\n",
       "         -5.17108524e-03, -5.71070910e-01,  1.55635500e+00,\n",
       "          9.79643524e-01, -3.59003097e-01, -6.70767725e-01,\n",
       "         -1.42969811e+00,  1.51715291e+00, -7.38052666e-01,\n",
       "         -1.91843402e+00,  1.33030033e+00,  1.87052035e+00,\n",
       "         -9.95016515e-01,  1.07004158e-01, -3.80221874e-01,\n",
       "          1.20220594e-01,  4.41511393e-01, -1.20500731e+00,\n",
       "         -3.72880131e-01,  4.31170821e-01,  1.92197239e+00,\n",
       "          8.01170945e-01,  9.19334963e-02,  3.00286740e-01,\n",
       "         -5.06522834e-01,  1.79858565e+00,  1.89638883e-01,\n",
       "          1.22317053e-01,  2.81106043e+00,  2.91865051e-01,\n",
       "          9.71782923e-01,  1.36095679e+00, -8.67944837e-01,\n",
       "          2.37928295e+00,  3.58863682e-01, -1.48175216e+00,\n",
       "          1.44771791e+00, -1.45966992e-01, -6.25818431e-01,\n",
       "         -1.75356835e-01,  7.57853746e-01,  7.87398160e-01,\n",
       "          2.46741951e-01, -5.04052818e-01, -1.06391370e+00,\n",
       "         -1.77219641e+00, -1.06383765e+00,  4.22188044e-01,\n",
       "          1.68345678e+00,  1.66613388e+00, -1.10151321e-01,\n",
       "         -2.13644004e+00,  2.30631971e+00, -4.30016726e-01,\n",
       "         -2.18542919e-01,  5.64462960e-01,  3.60080183e-01,\n",
       "          1.11843014e+00,  1.51193547e+00,  1.70155048e-01,\n",
       "          5.15768044e-02, -1.06833160e-01, -1.61910653e-01,\n",
       "          8.80236983e-01,  1.28510642e+00,  1.12702325e-01,\n",
       "          8.13948333e-01,  6.76630020e-01,  2.02821478e-01,\n",
       "          7.70597637e-01,  1.11472869e+00,  3.66421491e-01,\n",
       "         -4.78974849e-01, -1.71033502e+00,  2.34015241e-01,\n",
       "          4.85105306e-01,  1.62377763e+00, -8.74718308e-01,\n",
       "          3.08934569e-01,  1.07584941e+00, -2.19038904e-01,\n",
       "         -2.04945758e-01, -1.06746167e-01, -2.44392127e-01,\n",
       "         -6.06069207e-01,  1.05897772e+00,  3.62009495e-01,\n",
       "          1.85677683e+00,  5.22843480e-01, -4.66610879e-01,\n",
       "         -1.14523089e+00, -2.84939027e+00,  1.04150474e+00,\n",
       "          9.10527632e-02, -1.22988772e+00,  2.59901851e-01,\n",
       "         -7.98081681e-02, -1.63584483e+00,  1.39705375e-01,\n",
       "          2.60795593e-01, -9.20305029e-02,  1.46576154e+00,\n",
       "          1.10995090e+00,  9.42960620e-01, -1.18905711e+00,\n",
       "         -8.53623033e-01, -2.30018571e-01, -1.18584521e-01,\n",
       "          1.15324187e+00, -5.44512331e-01,  6.49862707e-01,\n",
       "         -4.47606891e-01, -7.66358197e-01,  6.02718532e-01,\n",
       "         -7.60179877e-01,  1.06911469e+00, -7.19770864e-02,\n",
       "         -2.62043834e+00, -1.25523019e+00, -1.11351454e+00,\n",
       "          1.63679957e+00, -4.77946430e-01, -1.43195498e+00,\n",
       "          1.36210012e+00, -7.72966802e-01, -4.93766785e-01,\n",
       "          8.93556595e-01, -3.06971997e-01,  1.81070283e-01,\n",
       "         -9.05169010e-01,  2.28136635e+00,  8.06655169e-01,\n",
       "         -5.60599148e-01, -6.72011301e-02,  4.13860679e-01,\n",
       "         -7.22452462e-01, -8.60583305e-01, -1.08435857e+00,\n",
       "          7.91521370e-01,  4.74052951e-02,  7.88857937e-02,\n",
       "         -2.58934736e-01, -1.34576023e+00,  5.39988317e-02,\n",
       "         -1.64313340e+00, -6.46424353e-01,  1.12011671e+00,\n",
       "          8.63482714e-01,  2.49114662e-01,  4.03136194e-01,\n",
       "          1.41533053e+00, -1.06607711e+00,  4.63781655e-01,\n",
       "          1.22010350e+00, -2.92056531e-01, -4.00143862e-01,\n",
       "          6.28998727e-02,  8.62135530e-01,  1.12719810e+00,\n",
       "          2.52115101e-01,  6.88188672e-01,  9.83312190e-01,\n",
       "          9.69061852e-01,  1.54063427e+00,  5.45354426e-01,\n",
       "          4.58801359e-01,  2.44458485e+00,  1.49979997e+00,\n",
       "         -2.74723828e-01, -7.07257628e-01,  1.37042314e-01,\n",
       "          3.18370074e-01, -1.73614371e+00, -5.89397192e-01,\n",
       "         -5.62069416e-02,  6.27637088e-01, -4.86344129e-01,\n",
       "         -4.63693529e-01, -7.49453843e-01,  3.74512911e-01,\n",
       "         -6.30853891e-01, -3.04486960e-01, -3.39731514e-01,\n",
       "         -1.01580513e+00,  2.55148143e-01, -1.60189494e-01,\n",
       "         -1.39811829e-01, -1.40239760e-01, -8.09676886e-01,\n",
       "          1.48023993e-01, -1.95642745e+00, -2.32864127e-01,\n",
       "         -3.67331922e-01,  4.33300525e-01,  7.23268539e-02,\n",
       "          1.21898457e-01, -3.55916768e-01, -1.14831316e+00,\n",
       "         -5.04819334e-01, -4.84887272e-01,  1.33418822e+00,\n",
       "          8.96496534e-01, -2.69944817e-01, -3.93410534e-01,\n",
       "         -1.79054528e-01,  3.28085423e-01, -7.72116661e-01,\n",
       "         -8.34312439e-01, -1.91652322e+00, -3.70780736e-01,\n",
       "         -4.79365528e-01, -5.19551560e-02,  1.60990417e+00,\n",
       "          1.94697821e+00, -3.47907811e-01, -9.84911263e-01,\n",
       "          1.96561182e+00, -8.83850634e-01,  4.30155784e-01,\n",
       "          9.84176993e-01, -1.24462497e+00, -1.64796221e+00,\n",
       "         -1.68846989e+00,  9.82778549e-01, -1.14804804e-01,\n",
       "          6.34623051e-01,  8.23239446e-01, -4.68762189e-01,\n",
       "          4.29497212e-01, -1.50528288e+00, -1.60781372e+00,\n",
       "         -5.72493434e-01, -1.64124191e-01,  2.42522374e-01,\n",
       "          5.12438267e-03,  1.94556570e+00,  6.47717575e-03,\n",
       "          4.07440066e-01, -2.92310625e-01, -2.06843662e+00,\n",
       "          1.54109687e-01,  1.55082476e+00, -2.98620164e-01,\n",
       "          1.03915191e+00,  1.24577451e+00,  8.04674566e-01,\n",
       "         -1.60211310e-01, -3.48339915e-01, -6.80925190e-01,\n",
       "         -5.33582866e-01, -3.16008747e-01, -5.57827055e-01,\n",
       "          1.13910985e+00, -8.49484026e-01, -1.47421807e-01,\n",
       "         -5.99462986e-01, -2.34261692e-01, -5.51685691e-01,\n",
       "          6.34835362e-02,  5.45395553e-01,  1.07432497e+00,\n",
       "          8.67349565e-01,  5.31155944e-01, -9.27072227e-01,\n",
       "         -1.27845514e+00,  1.25215137e+00,  4.11546856e-01,\n",
       "          2.24727497e-01,  3.30913335e-01,  1.66109204e+00,\n",
       "          2.84195518e+00,  2.47029400e+00,  1.65636316e-01,\n",
       "          6.41388834e-01,  1.70164943e+00,  3.14819098e-01,\n",
       "          2.56356388e-01, -2.11434913e+00,  1.30469835e+00,\n",
       "         -1.50026822e+00, -6.36074483e-01, -1.51694310e+00,\n",
       "          5.99617064e-01,  1.43523777e+00,  1.29594594e-01,\n",
       "          1.22640026e+00,  8.29429984e-01,  7.98892081e-02,\n",
       "         -5.18321931e-01, -1.08441845e-01, -6.09305203e-02,\n",
       "          5.85655153e-01, -3.07585001e-01,  6.13249421e-01,\n",
       "         -7.03757331e-02, -6.50802970e-01, -3.97363842e-01,\n",
       "          5.20676196e-01, -5.76648653e-01, -1.63460398e+00,\n",
       "          1.16892970e+00, -1.03525949e+00, -7.72960365e-01,\n",
       "          3.18723857e-01, -1.20309389e+00, -7.66223609e-01,\n",
       "          8.99412990e-01,  7.75778055e-01,  2.76511431e-01,\n",
       "          9.60326314e-01, -1.73103678e+00, -5.27505457e-01,\n",
       "         -6.75528171e-03, -1.09265780e+00,  1.23531774e-01,\n",
       "          4.84759688e-01, -6.02628887e-01, -1.83201611e-01,\n",
       "         -7.80990005e-01, -1.08950865e+00,  3.86456609e-01,\n",
       "          2.43042648e-01,  1.13842762e+00, -5.50930440e-01,\n",
       "          1.13364661e+00, -7.72009730e-01, -3.79730374e-01,\n",
       "         -3.82543415e-01,  9.52061355e-01, -1.74317896e+00,\n",
       "          8.66189718e-01, -8.84528309e-02, -6.05384946e-01,\n",
       "         -1.43104270e-01,  6.35466635e-01,  4.24604982e-01,\n",
       "         -6.30188763e-01,  3.67759138e-01, -1.06182551e+00,\n",
       "          5.47849238e-01, -5.47474027e-01, -2.64572233e-01,\n",
       "          3.63119543e-02,  1.07970154e+00, -1.21111192e-01,\n",
       "          2.65595388e+00,  2.17141151e+00,  9.16879892e-01,\n",
       "         -1.02031994e+00, -1.19554138e+00, -1.24969177e-01,\n",
       "         -1.29925728e+00, -1.62048921e-01, -1.03121543e+00,\n",
       "          7.54432619e-01,  1.15303135e+00, -5.43145955e-01,\n",
       "          1.85160965e-01, -1.37470889e+00,  1.88047278e+00,\n",
       "          2.58076489e-01, -6.38232768e-01, -8.31604004e-02,\n",
       "          2.49852014e+00, -3.11683536e-01, -1.76987839e+00,\n",
       "          1.65033221e+00,  1.75705180e-02,  4.90896940e-01,\n",
       "          4.88258928e-01,  5.91635287e-01,  4.01633263e-01,\n",
       "         -6.84973359e-01, -9.43292081e-01,  1.06993651e+00,\n",
       "         -1.16153979e+00,  9.43512619e-01, -2.16830802e+00,\n",
       "          1.04747474e+00, -1.27541018e+00, -1.91381633e-01,\n",
       "         -2.30797338e+00, -1.75691617e+00, -3.30970764e-01,\n",
       "          1.97797596e-01, -3.73510838e-01, -1.42389417e+00,\n",
       "          8.25007737e-01,  7.02182293e-01,  2.73952782e-01,\n",
       "         -2.98409343e-01, -2.68380761e-01, -2.34041259e-01,\n",
       "          3.59624863e-01,  5.63018799e-01, -8.30323696e-01,\n",
       "          9.70890939e-01, -1.19750774e+00, -1.69088089e+00,\n",
       "         -2.08033770e-01,  4.77451652e-01,  2.23728925e-01,\n",
       "         -1.28002357e+00, -3.69036406e-01, -6.76728785e-01,\n",
       "         -6.90861881e-01, -7.38422036e-01,  6.36398017e-01,\n",
       "          1.13487279e+00, -1.12981188e+00,  9.89529729e-01,\n",
       "          3.39547992e-02,  7.19599366e-01, -8.84988546e-01,\n",
       "          4.19895977e-01,  4.01747763e-01,  8.46711695e-01,\n",
       "         -7.56145835e-01, -1.41486311e+00,  1.84310412e+00,\n",
       "          8.79847109e-01, -7.89703250e-01, -5.55988967e-01,\n",
       "         -5.27342379e-01, -7.20535696e-01, -6.08377755e-01,\n",
       "          7.71484256e-01, -1.01786017e+00,  8.43048155e-01,\n",
       "         -3.61371070e-01,  1.46998739e+00,  1.37118673e+00,\n",
       "         -5.21602571e-01,  8.04902554e-01, -8.33915353e-01,\n",
       "         -1.12474942e+00,  1.98805496e-01,  1.06028056e+00,\n",
       "         -9.51753259e-01, -1.42317080e+00,  1.37372005e+00,\n",
       "          6.94851398e-01, -1.32248414e+00,  9.28082466e-01,\n",
       "          3.51302814e+00,  1.33420169e+00, -5.21482050e-01,\n",
       "         -2.30618215e+00, -6.35300219e-01,  2.17130437e-01,\n",
       "          1.20093393e+00,  3.51876915e-01,  3.94759834e-01,\n",
       "          1.84269762e+00, -8.99511337e-01,  2.55600482e-01,\n",
       "          2.99053818e-01]], dtype=float32),\n",
       " array([[-0.5275081 , -0.20061406,  1.1365485 , -1.2701243 ,  0.61862826,\n",
       "          0.38710558, -0.2046553 , -0.31184557, -0.5915244 , -2.5639539 ,\n",
       "          0.16037391,  0.10471496,  1.5856304 , -0.1691004 ,  0.538609  ,\n",
       "          2.3906326 , -0.52716464, -0.14489183, -1.006959  ,  0.06756267,\n",
       "         -0.2635667 ,  0.18551065, -0.2694154 , -0.7273675 ,  0.26868683,\n",
       "          0.03181593, -0.22539225, -1.5736549 , -1.117699  ,  1.2113239 ,\n",
       "         -1.8086042 , -0.4553862 , -2.150325  ,  0.12011647, -0.34975797,\n",
       "          0.5248327 ,  1.1912575 ,  0.58673364, -0.11220249,  1.4475634 ,\n",
       "          0.7773301 ,  1.2046363 ,  0.9342991 ,  1.1445148 , -0.02713615,\n",
       "          0.43416435, -1.0179726 ,  0.04583823,  0.2587386 ,  2.1974154 ,\n",
       "          0.23564486,  0.4548136 ,  0.03581238,  0.92082506,  0.05820424,\n",
       "          1.1898093 ,  0.05559405,  1.433898  , -1.0569884 , -0.9638231 ,\n",
       "         -0.09056713, -2.2058103 , -0.83422756,  0.8375737 , -0.46308953,\n",
       "          1.0619767 , -0.9629991 , -0.3523052 ,  1.6697428 ,  0.72866476,\n",
       "         -0.8846024 ,  0.49810472, -0.90982795,  0.8579805 ,  0.07162897,\n",
       "         -0.9920851 ,  0.00860275,  0.00541533, -1.3774956 , -2.625422  ,\n",
       "          0.16058865,  1.8453677 ,  1.0414182 , -2.7349398 , -0.19871554,\n",
       "          1.3462574 , -0.25750715,  2.0380151 ,  1.8784468 , -1.5204066 ,\n",
       "          1.0217141 ,  0.02791609, -1.1694474 , -0.81239456, -0.24612351,\n",
       "          0.17670062, -0.2004592 , -2.6208498 , -0.29143715, -1.2068125 ,\n",
       "          0.94774675, -0.29635665,  1.1501826 ,  0.10990432,  0.2981395 ,\n",
       "         -0.8818015 ,  0.2364251 , -0.7462131 , -0.55236197,  0.21237262,\n",
       "          1.5274695 , -2.2364724 ,  0.09313606, -0.32231593,  0.34399542,\n",
       "         -1.1864382 ,  0.85619223, -0.64919657,  0.400904  , -1.9176419 ,\n",
       "          0.38086993, -0.1110302 ,  2.2964952 , -1.8004014 , -0.59847814,\n",
       "         -0.9336979 ,  0.02635766, -0.2249656 , -1.0788562 , -1.1053289 ,\n",
       "          0.16316837, -1.638324  , -0.33507994, -1.9903963 , -1.1850523 ,\n",
       "          0.3698858 ,  0.9890472 , -0.35625452,  0.5201648 ,  0.57963026,\n",
       "         -0.878867  , -1.3337073 ,  0.5203518 , -0.02844394,  0.25407055,\n",
       "          0.78263354, -0.74462825,  0.4910076 ,  1.7310723 , -1.1703209 ,\n",
       "          0.94200516,  1.6067713 , -2.2650225 ,  0.12651353,  2.0584269 ,\n",
       "          0.7734951 ,  1.4908221 ,  0.9583402 ,  0.29433665, -1.4771805 ,\n",
       "         -2.2834234 , -1.3710476 ,  0.25566515, -0.4241394 , -0.22761863,\n",
       "         -1.4668245 , -0.5809424 , -1.1202942 , -1.0815666 ,  0.30578423,\n",
       "         -1.0646821 , -1.5206234 , -1.9333194 , -1.334536  ,  2.3877544 ,\n",
       "         -0.6604412 , -0.290417  , -0.7090771 ,  0.7189459 ,  1.3035051 ,\n",
       "         -0.8121872 ,  0.18492013,  0.08448756, -1.257362  ,  0.07933585,\n",
       "          0.47132203, -0.77798516,  1.1623093 ,  0.43357617, -1.1176096 ,\n",
       "         -1.5061586 , -0.12933382,  0.5471102 , -0.19148935,  0.11466856,\n",
       "         -0.35960314, -1.4783291 ,  0.15877149,  0.24850269,  0.87618554,\n",
       "          0.08147989,  0.37019825, -0.83925325,  1.3311666 , -0.29444805,\n",
       "         -1.4644799 , -1.139238  ,  0.08044273, -0.46207267, -0.40676588,\n",
       "          1.3516557 ,  0.3117137 ,  0.3303763 ,  0.7652398 ,  1.8234462 ,\n",
       "          0.924156  ,  0.36074093,  1.0555958 ,  1.1728119 ,  0.05682711,\n",
       "         -0.33321634,  0.23375191, -0.744401  ,  0.70698243, -0.37340227,\n",
       "         -0.12983483, -0.13931774, -1.562855  ,  1.6040375 , -0.09649406,\n",
       "          1.9273956 , -0.2793204 , -0.4708022 ,  0.22553557,  0.015653  ,\n",
       "          0.6715177 ,  0.2027693 , -0.06252528,  1.4863572 , -0.95660484,\n",
       "         -0.48019502, -0.08537873, -0.40094873, -0.49457324,  1.5192081 ,\n",
       "         -2.2590773 , -1.8385158 ,  0.4462615 , -0.62784094,  0.9563031 ,\n",
       "         -0.76381797,  0.2370489 ,  2.1361432 , -0.46140435,  0.27244586,\n",
       "          0.6734191 , -1.1349719 ,  0.21505594,  0.6963737 ,  0.6909252 ,\n",
       "          1.6009841 , -0.23157254, -0.37634853,  0.44612718,  0.489768  ,\n",
       "          1.9094148 , -0.38038096,  1.837864  , -0.4055485 , -0.557596  ,\n",
       "          0.10268154,  0.292768  ,  0.5566858 , -1.4576226 , -0.4569627 ,\n",
       "         -1.2989426 ,  1.1816621 , -0.42817187,  0.4438449 , -0.12538873,\n",
       "         -0.6556629 ,  0.92987055, -0.25436413,  1.8109962 , -0.09552995,\n",
       "         -1.2998022 , -0.13539647, -0.827565  , -1.1644584 , -0.16586137,\n",
       "          0.32811183,  0.32806343, -1.0598406 , -0.35226592, -0.881604  ,\n",
       "          0.6509368 , -1.0758283 , -0.75794095, -0.8717438 ,  0.2195104 ,\n",
       "         -0.17246944,  0.17775898, -1.278249  ,  0.44621322, -0.6832499 ,\n",
       "          0.97970885, -0.74241966,  0.86746883,  1.178104  , -1.1033927 ,\n",
       "         -1.3479538 , -0.48527128, -0.3086092 , -1.599129  ,  1.763807  ,\n",
       "         -0.96083105,  0.26444736, -1.9582981 , -1.061533  , -1.7405119 ,\n",
       "          0.93288624,  2.453564  , -0.6060896 ,  1.1960093 , -0.58889914,\n",
       "         -0.983785  , -0.45643675, -1.5482726 ,  0.9131002 ,  1.8175884 ,\n",
       "          1.0393479 ,  1.3018934 ,  0.12065604, -0.22747672,  1.1271896 ,\n",
       "         -0.36599794, -0.21244057, -0.7241962 , -0.6181645 ,  0.27148762,\n",
       "         -0.56999743,  0.49197307,  2.1415112 ,  1.2644721 ,  0.34281763,\n",
       "          0.74933255, -0.3183391 , -0.07503852, -1.1658368 ,  1.2616055 ,\n",
       "         -1.2217158 ,  1.8171456 ,  0.0130236 ,  0.80821145, -0.14556786,\n",
       "         -1.1441137 ,  0.45643094,  0.28327313, -0.2746069 ,  1.3138801 ,\n",
       "         -0.67848665, -0.45833784,  1.209238  , -0.72321105, -0.62604195,\n",
       "          0.76638687, -0.07977919, -0.94299895, -0.17441332,  0.22508235,\n",
       "          1.0228288 ,  0.62851566,  1.3140074 , -0.6333915 , -1.9422195 ,\n",
       "          0.734331  ,  0.755556  ,  0.35260308, -0.2970978 , -0.6177157 ,\n",
       "          0.1764783 , -0.34588403,  0.8351746 , -1.6031429 , -1.2805628 ,\n",
       "         -0.04050119,  0.49859458,  1.5930115 , -0.59055316, -1.102378  ,\n",
       "          1.583026  , -0.12532108, -0.12304382,  0.31903294, -0.49016356,\n",
       "          0.39914465, -0.35407186, -0.353233  ,  0.49264318, -0.64817625,\n",
       "         -1.2311593 , -0.28674927, -0.98635936, -0.47981584, -0.32538944,\n",
       "          0.874888  , -0.9911094 , -1.0474668 , -0.0358789 ,  0.6524749 ,\n",
       "          0.715785  ,  0.49762815, -0.18025197, -2.726727  ,  0.3389396 ,\n",
       "          0.97584593,  0.6981571 , -0.04531501, -0.08395693,  0.23793688,\n",
       "          0.6382089 ,  0.6453224 ,  0.4476156 , -0.43162486,  1.6946031 ,\n",
       "          0.07711091,  1.6806128 ,  0.10724891,  0.23172201, -0.25923005,\n",
       "         -0.8062411 ,  1.1298131 , -0.6667774 ,  0.10919431, -1.0476171 ,\n",
       "         -2.9875278 ,  0.49592373,  0.05070258, -0.8169887 ,  1.3177819 ,\n",
       "          2.7168436 ,  0.18671744, -1.8856    , -0.19685936, -0.63991004,\n",
       "         -1.7040381 ,  0.8083572 , -0.65354216, -1.0330373 , -1.026339  ,\n",
       "          0.44615167, -2.7759252 , -0.58637816, -0.07694585, -2.0826223 ,\n",
       "         -0.05513983,  0.08685358, -0.10229205,  0.12138391, -2.574563  ,\n",
       "          2.1209748 , -0.42209294,  1.370432  , -2.2732708 , -0.5214538 ,\n",
       "          1.6693926 ,  0.11596537,  0.5345461 , -0.47077712,  1.1592362 ,\n",
       "          1.1344624 ,  0.45336875,  0.5565983 , -1.3824182 ,  0.32873702,\n",
       "          0.98390436, -1.5839831 , -0.14505684,  1.2609969 , -0.7712369 ,\n",
       "         -0.1454812 , -0.6255363 , -0.30922917,  0.5746005 , -1.4881488 ,\n",
       "         -0.98747474, -0.03183572,  0.19508803, -1.1218157 , -0.26201758,\n",
       "          0.19352745, -0.31508595,  0.19538271,  1.9734839 ,  0.38749018,\n",
       "          0.66698027, -1.0504754 ,  0.1193114 , -0.27141634,  0.81337374,\n",
       "         -0.68151665,  0.2743238 , -0.23926082, -1.1061546 ,  0.00536966,\n",
       "         -1.2304925 , -0.00902272,  0.953723  , -0.40353847,  1.6074076 ,\n",
       "          0.81222796, -0.3743497 ,  0.9279766 , -0.16751067, -0.01214114,\n",
       "          0.46818593,  0.14865547,  0.10935739,  0.57126254,  0.58303255,\n",
       "         -1.2991064 ,  1.5961344 ,  0.70973533, -1.5873806 ,  1.111073  ,\n",
       "          1.1659126 ,  0.28841203,  1.7629608 ,  0.495315  ,  1.9526473 ,\n",
       "         -1.6276124 , -0.9076903 ,  1.1651759 ,  0.2705862 , -0.62803173,\n",
       "         -1.1351675 ,  0.54128677,  1.4197646 ,  0.84335107, -1.35477   ,\n",
       "         -1.3042471 ,  0.1045734 ,  0.8260339 , -0.00922713, -1.4449904 ,\n",
       "          0.0778088 , -1.1077417 , -2.440268  ,  0.5688169 ,  1.0053105 ,\n",
       "         -0.1328421 , -0.8083171 , -0.10978805,  0.15767238,  0.56982803,\n",
       "          1.6072004 ,  2.1511006 , -0.03008252,  1.0551547 , -0.9286987 ,\n",
       "          0.76368386,  0.10080414,  0.7648695 , -0.90971816,  0.39977077,\n",
       "         -1.1916754 ,  0.7240351 ,  0.18053429, -0.61725706, -0.4848223 ,\n",
       "          2.6108544 , -0.61236537,  1.5864527 , -1.3308263 ,  1.4294375 ,\n",
       "         -0.08771769, -0.76425046, -0.4520253 ,  2.799585  , -1.1467165 ,\n",
       "         -0.25958145,  0.23250258, -0.59961647, -1.075876  , -1.8305466 ,\n",
       "         -0.07321752, -0.25910234, -1.2827588 ,  0.5453309 , -0.41070563,\n",
       "          0.8701147 ,  0.4290897 , -0.189091  , -0.02883647,  0.20001523,\n",
       "         -0.43417618, -0.6593741 ,  0.9557633 , -1.2479924 , -0.48283145,\n",
       "          0.04690173, -0.26862153, -0.42868915,  0.09743688, -1.165112  ,\n",
       "         -1.0954388 ,  1.7498448 ,  2.066664  , -0.13252172, -0.19918256,\n",
       "          0.49165642,  0.960622  ,  0.24866122, -1.4816108 , -1.7040111 ,\n",
       "          1.3656354 ,  0.54050565,  1.5185463 , -0.44148016, -2.103118  ,\n",
       "          0.56130147, -0.05543399,  1.3950882 ,  0.06561089,  0.8947193 ,\n",
       "          0.84368336,  1.4941041 ,  2.7000117 ,  1.9969195 ,  1.1405607 ,\n",
       "         -0.12389605, -0.7500523 ,  0.5068164 ,  0.6738811 ,  0.7511237 ,\n",
       "         -0.12584764,  0.5957823 ,  0.6656763 , -0.8392288 , -0.09340634,\n",
       "         -0.24588624, -0.23776577,  0.41337392, -1.4731487 ,  0.28271914,\n",
       "         -0.03878542, -0.05937317,  0.53072155, -0.06020617, -0.90158993,\n",
       "          1.0307709 ,  0.24327241, -0.62569165, -0.7985604 ,  1.3548905 ,\n",
       "         -0.14697948,  0.6352755 ,  1.3513018 ,  1.026787  , -0.38300142,\n",
       "          0.44648653,  1.3056302 ,  0.24632077,  0.05974942,  0.15152241,\n",
       "         -1.1640482 ,  1.4869131 , -0.5564608 , -0.07731457,  0.46728995,\n",
       "          0.7463031 ,  1.2213526 ,  1.6127409 ,  0.02783537, -0.736587  ,\n",
       "         -1.1547687 ,  0.7995202 ,  0.44373903, -1.5339398 ,  0.38469294,\n",
       "         -2.0983315 ,  0.10882904,  1.4279279 ,  0.07091559,  0.17587729,\n",
       "          1.3832582 , -0.79965955,  0.09703069,  0.7397848 , -1.2939694 ,\n",
       "         -1.4026693 , -1.1633958 ,  0.28737494,  0.24003626, -0.11040264,\n",
       "         -0.29357693,  1.7736967 ,  0.95499784, -0.89910287,  1.3994155 ,\n",
       "         -0.03871685,  1.1787261 , -0.40389457, -0.23720534,  0.52714384,\n",
       "          0.3995747 , -0.19089374,  0.40089765,  0.8172015 ,  1.4776143 ,\n",
       "         -0.52061516, -0.754692  ,  0.09301262,  0.14470848, -0.31309068,\n",
       "          0.4177201 ,  0.04342429, -1.4753717 ,  0.17447808, -0.64740044,\n",
       "          0.09426514, -0.7440393 , -0.64879876, -0.5263459 , -0.17059991,\n",
       "          0.3906511 , -1.1947109 ,  1.0139416 ,  0.8728148 ,  0.5512644 ,\n",
       "         -1.9673085 , -0.621016  ,  1.1503907 ,  1.180739  ,  0.29095462,\n",
       "          0.68110716,  1.0006067 , -0.0909908 , -0.5061245 ,  1.4329239 ,\n",
       "          1.248799  , -0.22109993, -0.02530563,  0.25299776,  1.4907782 ,\n",
       "         -0.5930599 , -0.7537445 , -1.4520379 , -1.0619658 ,  0.14027357,\n",
       "          0.34720343,  0.3915282 , -0.7698537 ,  0.7885476 ,  0.9713406 ,\n",
       "         -2.4646826 , -0.04625907, -0.5694595 ,  1.564642  ,  0.7522955 ,\n",
       "          0.3543518 ,  0.18372765, -0.61133635, -1.3261902 , -1.5107883 ,\n",
       "         -1.8586601 , -2.1745658 , -1.6112587 ,  1.4533069 ]],\n",
       "       dtype=float32),\n",
       " array([[ 1.20588553e+00,  1.42410934e+00,  7.41245508e-01,\n",
       "          7.39238858e-01,  8.22036326e-01, -1.15543628e+00,\n",
       "          1.18394375e+00, -2.21977308e-01, -1.31483391e-01,\n",
       "          1.40713859e+00, -4.94661987e-01, -6.69566751e-01,\n",
       "          4.76329952e-01, -1.14139044e+00, -2.10450125e+00,\n",
       "         -1.68666649e+00,  3.75839621e-01,  7.58390605e-01,\n",
       "          4.74230617e-01, -1.24317122e+00,  1.10963511e+00,\n",
       "          2.57116020e-01, -4.38157678e-01, -4.29907173e-01,\n",
       "          3.59804690e-01,  1.25663042e+00,  4.92916435e-01,\n",
       "         -7.26456046e-01, -1.06859219e+00,  1.42204535e+00,\n",
       "         -1.46801829e+00, -7.37213433e-01,  6.21786594e-01,\n",
       "          2.04282045e+00, -1.34474504e+00,  1.28425348e+00,\n",
       "          5.19748688e-01,  1.69926381e+00, -1.93817151e+00,\n",
       "         -1.77593601e+00,  8.47243428e-01,  5.79727411e-01,\n",
       "         -1.13784540e+00, -8.38566303e-01, -2.50077319e+00,\n",
       "         -1.11379191e-01, -3.50631744e-01,  9.72311437e-01,\n",
       "          1.64268148e+00,  9.48582053e-01, -1.21140683e+00,\n",
       "          7.10999966e-01,  9.29639488e-02,  1.11643279e+00,\n",
       "          2.31204644e-01, -1.25025272e+00,  3.42514157e-01,\n",
       "          1.24848866e+00,  3.63513410e-01, -1.23129976e+00,\n",
       "         -6.07388794e-01,  5.99676013e-01, -1.99032530e-01,\n",
       "         -7.33186156e-02,  7.39373922e-01,  3.78836870e-01,\n",
       "         -3.73520941e-01, -7.07916975e-01, -1.30445957e+00,\n",
       "         -9.11831260e-02,  1.66289771e+00,  1.42336988e+00,\n",
       "         -1.05834734e+00,  3.26540083e-01, -3.79434347e-01,\n",
       "         -7.68432379e-01,  9.21992362e-01, -1.03342497e+00,\n",
       "          5.62192023e-01, -4.59345579e-01, -4.39125180e-01,\n",
       "         -8.48283112e-01, -3.52395952e-01,  1.01636875e+00,\n",
       "         -6.90994680e-01,  2.84104824e-01,  1.41331419e-01,\n",
       "          1.32530844e+00, -6.06991529e-01, -3.84861350e-01,\n",
       "          7.45075881e-01, -1.32819903e+00, -1.16913652e+00,\n",
       "          5.76168358e-01,  3.58005941e-01, -4.97227132e-01,\n",
       "         -7.23109603e-01, -1.51018545e-01, -5.55313885e-01,\n",
       "         -6.31361842e-01,  1.87186658e+00, -4.56490964e-01,\n",
       "         -8.35306764e-01, -8.37644875e-01, -4.73402619e-01,\n",
       "         -1.38110578e+00, -5.70639558e-02,  2.05208752e-02,\n",
       "          2.49293184e+00,  9.13282037e-01, -7.13764727e-01,\n",
       "         -1.07326782e+00,  1.99298751e+00,  9.22095597e-01,\n",
       "         -9.45166647e-01, -1.54666126e+00, -1.00630331e+00,\n",
       "          1.46032542e-01,  5.38855791e-01,  5.06901324e-01,\n",
       "          8.41385067e-01,  1.97851861e+00,  1.94953144e+00,\n",
       "          5.51318169e-01, -7.07648098e-01,  1.36722481e+00,\n",
       "         -8.16150829e-02, -2.32199579e-01, -5.90281904e-01,\n",
       "          9.07798290e-01,  7.28264868e-01,  6.31210923e-01,\n",
       "         -3.89278442e-01,  1.87638924e-01,  1.09001029e+00,\n",
       "          8.17305326e-01,  6.84227109e-01,  1.09444714e+00,\n",
       "          5.59410453e-01,  8.53397071e-01,  7.68086612e-01,\n",
       "          2.32742161e-01, -2.95524269e-01, -6.37651742e-01,\n",
       "          6.21693492e-01, -1.59879160e+00, -1.03452563e-01,\n",
       "         -6.53937042e-01, -9.72897112e-01, -5.39343476e-01,\n",
       "         -2.87918717e-01, -9.31008279e-01, -5.59652448e-01,\n",
       "         -1.01958025e+00, -2.42554593e+00,  1.26991138e-01,\n",
       "         -6.68024778e-01, -1.38324726e+00,  7.55647361e-01,\n",
       "          1.22394228e+00, -8.32016110e-01, -3.34223300e-01,\n",
       "          1.49323797e+00,  1.10143113e+00, -5.51849127e-01,\n",
       "          1.10217392e+00, -5.75210392e-01,  5.64263701e-01,\n",
       "          6.27890587e-01,  8.94359112e-01, -3.19049501e+00,\n",
       "          2.31400967e+00,  2.66423553e-01,  9.63764548e-01,\n",
       "         -3.15523833e-01, -3.31151217e-01,  2.11679149e+00,\n",
       "         -3.55179340e-01, -1.79823816e-01,  1.91206324e+00,\n",
       "         -3.88953400e+00,  1.21606755e+00,  8.46279502e-01,\n",
       "         -3.81528109e-01, -6.57902777e-01, -1.40137434e+00,\n",
       "          1.43937886e-01,  6.39052808e-01, -5.22830486e-02,\n",
       "          6.18510544e-01,  6.86461031e-01, -1.24626756e+00,\n",
       "         -2.45308638e-01, -4.06206250e-01,  1.15717149e+00,\n",
       "         -1.40221441e+00, -4.36242819e-01,  1.32243049e+00,\n",
       "         -7.36402988e-01, -7.81589866e-01, -1.48066652e+00,\n",
       "         -6.35894299e-01,  5.95987961e-02,  6.25041127e-02,\n",
       "         -5.90702474e-01, -8.26172769e-01, -8.79617035e-01,\n",
       "         -1.35856676e+00,  4.58220899e-01,  3.19973707e-01,\n",
       "          1.11366041e-01, -4.99227867e-02,  7.07285643e-01,\n",
       "         -6.08867943e-01, -7.30305538e-02, -6.29892707e-01,\n",
       "          7.88869321e-01, -1.86449587e-01, -4.39319044e-01,\n",
       "          1.90981412e+00, -8.57797027e-01,  2.28495777e-01,\n",
       "          6.41778171e-01,  1.73387539e+00,  4.07595128e-01,\n",
       "          5.11045277e-01,  5.99670768e-01,  1.31807700e-02,\n",
       "         -1.24750033e-01,  7.12802291e-01, -1.08847558e+00,\n",
       "          9.30224657e-01, -8.62173915e-01, -1.23803759e+00,\n",
       "         -7.47277737e-02,  8.30411553e-01,  5.14560938e-01,\n",
       "         -8.52242649e-01,  9.88343120e-01, -9.16234136e-01,\n",
       "          1.59427494e-01, -6.38471663e-01,  5.00676930e-01,\n",
       "          8.36231947e-01,  1.95807767e+00,  3.31229307e-02,\n",
       "          1.76538229e+00, -2.30811357e+00,  1.72452316e-01,\n",
       "         -3.91573519e-01,  7.45765388e-01,  9.00001451e-02,\n",
       "          1.07052982e+00, -1.50499630e+00, -4.89810854e-01,\n",
       "         -2.37798616e-01, -9.54518676e-01,  2.32368803e+00,\n",
       "         -1.29453611e+00,  1.12761855e+00, -8.24356198e-01,\n",
       "         -1.09675097e+00,  1.99370587e+00, -9.46236849e-02,\n",
       "          2.19276473e-01, -1.57194555e+00, -5.11640370e-01,\n",
       "          1.38638091e+00,  1.66950846e+00,  2.40082622e+00,\n",
       "          1.04034245e+00,  7.96101391e-01, -6.64572597e-01,\n",
       "          3.73393714e-01, -1.55145276e+00,  2.26091757e-01,\n",
       "          4.36467156e-02, -1.33997798e-01,  2.17289045e-01,\n",
       "          1.09009258e-01,  1.35180676e+00,  1.54923701e+00,\n",
       "          1.32308447e+00,  5.05914927e-01,  6.88695610e-01,\n",
       "          1.65919149e+00, -5.34203053e-01, -3.62211227e-01,\n",
       "          1.37064922e+00, -3.60987842e-01, -4.24328625e-01,\n",
       "         -2.46632621e-02,  9.25288200e-01,  1.50304699e+00,\n",
       "         -6.33552447e-02,  1.47652388e-01, -1.71613470e-01,\n",
       "          1.21563387e+00,  1.26584530e+00,  1.14223003e+00,\n",
       "          2.47614479e+00, -7.27262497e-01,  2.00764433e-01,\n",
       "          9.68073189e-01,  6.76871955e-01, -4.12121534e-01,\n",
       "         -1.70336378e+00,  5.00709593e-01, -1.96146071e-01,\n",
       "          1.12213492e+00,  1.10420205e-01,  4.25794393e-01,\n",
       "         -8.16374123e-01,  2.13533449e+00,  4.38263873e-03,\n",
       "          7.10708201e-01,  1.02460161e-01,  1.72468066e-01,\n",
       "          7.88414299e-01, -5.27674139e-01,  5.29268503e-01,\n",
       "         -1.20732272e+00,  3.94636095e-01, -2.17966944e-01,\n",
       "          1.29810047e+00, -1.61749792e+00,  3.07936519e-01,\n",
       "         -8.24806750e-01,  9.40791786e-01, -7.34012961e-01,\n",
       "         -4.02687350e-03,  4.91140485e-01, -1.00859749e+00,\n",
       "          7.89238691e-01,  4.68719840e-01, -9.94190037e-01,\n",
       "         -2.14524245e+00, -1.75986573e-01,  4.95018840e-01,\n",
       "         -5.88756800e-01,  3.60761493e-01, -5.68382323e-01,\n",
       "          5.49191117e-01, -8.10234129e-01,  1.54841459e+00,\n",
       "          1.16429961e+00,  3.67448628e-01, -6.55346155e-01,\n",
       "         -1.48490161e-01, -1.04663521e-02,  2.37942949e-01,\n",
       "          6.94915354e-01,  9.80866432e-01, -1.86142349e+00,\n",
       "          6.58512414e-01,  2.29321450e-01,  1.46430016e+00,\n",
       "          6.61063731e-01,  3.79183859e-01,  9.74374354e-01,\n",
       "          6.96743876e-02, -6.93090498e-01, -6.17044449e-01,\n",
       "          3.13515067e-02, -2.90141642e-01,  5.34032702e-01,\n",
       "         -1.24357820e+00, -7.55368650e-01,  2.71473467e-01,\n",
       "         -2.25407556e-01, -1.15772295e+00, -3.20599645e-01,\n",
       "         -7.76496768e-01, -5.99089801e-01,  9.81469452e-02,\n",
       "          1.98415786e-01, -1.02208380e-03, -2.64318615e-01,\n",
       "         -2.11575717e-01,  1.32155704e+00,  2.70520002e-01,\n",
       "          1.09579086e+00, -4.75897521e-01, -7.81320632e-02,\n",
       "          1.34517217e+00,  7.26573229e-01, -1.23841293e-01,\n",
       "         -1.23507082e+00,  1.34474216e-02, -3.66371274e-01,\n",
       "         -1.80779684e+00, -5.56756020e-01, -1.23685288e+00,\n",
       "          1.10421650e-01,  3.88100207e-01, -1.00715029e+00,\n",
       "          1.69784939e+00,  7.62472868e-01, -2.11774722e-01,\n",
       "          3.56480330e-01,  2.12347791e-01, -2.92072594e-01,\n",
       "          4.43599969e-01,  9.42497313e-01, -1.84342182e+00,\n",
       "         -2.45676136e+00, -2.72711962e-01,  9.58641350e-01,\n",
       "          1.30242562e+00,  4.69724655e-01,  7.96894491e-01,\n",
       "          1.12322283e+00,  9.46441650e-01, -6.70774996e-01,\n",
       "          1.16531324e+00,  1.61787939e+00,  4.71928455e-02,\n",
       "          1.22871387e+00, -9.55436472e-03,  8.63063931e-01,\n",
       "         -6.45972788e-02,  2.35927805e-01, -1.83013606e+00,\n",
       "         -1.86142266e-01,  2.20642865e-01,  1.58689797e+00,\n",
       "          1.43161500e+00, -1.47383320e+00, -1.28292251e+00,\n",
       "         -1.13164276e-01,  8.19908738e-01, -3.55835930e-02,\n",
       "          1.62658632e-01,  1.55948651e+00, -8.51133883e-01,\n",
       "         -4.19360727e-01, -1.68734074e+00,  1.03478336e+00,\n",
       "          2.07175899e+00,  5.56842657e-03, -3.10096025e-01,\n",
       "         -8.60410213e-01, -3.54618013e-01, -9.62758183e-01,\n",
       "          3.25079709e-02,  1.23354733e+00,  3.36875975e-01,\n",
       "          7.37227380e-01, -6.96548998e-01,  2.23621547e-01,\n",
       "          1.30390203e+00,  4.14438546e-01, -6.40498400e-02,\n",
       "          7.68128559e-02, -1.19717896e+00,  8.42247069e-01,\n",
       "         -2.15763187e+00, -2.39925180e-03,  4.10203487e-01,\n",
       "          1.00880126e-02, -5.84198654e-01, -1.54018700e-01,\n",
       "          1.08564556e+00, -4.54063594e-01,  1.65691650e+00,\n",
       "          7.76268840e-01,  2.81251192e-01,  1.89624321e+00,\n",
       "         -1.16361165e+00, -1.72775816e-02, -5.86272478e-01,\n",
       "          1.11804259e+00,  1.88790929e+00, -1.29191196e+00,\n",
       "         -1.03890216e-02, -5.09762280e-02,  1.18753739e-01,\n",
       "         -4.07407701e-01,  3.61692339e-01,  7.51821995e-01,\n",
       "         -4.86599922e-01, -1.05816031e+00,  1.02645922e+00,\n",
       "          8.90251040e-01,  1.65335104e-01,  1.81089249e-03,\n",
       "         -1.61985338e+00,  1.20550549e+00, -1.26300299e+00,\n",
       "         -1.01210356e+00,  9.15874958e-01, -5.41359961e-01,\n",
       "         -2.04255652e+00,  8.94967377e-01, -7.46498168e-01,\n",
       "         -3.96268785e-01,  1.41197041e-01,  1.99855138e-02,\n",
       "          4.48979437e-01, -5.95773637e-01, -2.04715419e+00,\n",
       "          9.18359339e-01, -8.52392912e-01, -1.35964274e+00,\n",
       "          7.19813764e-01,  7.20602989e-01, -1.15677691e+00,\n",
       "         -2.43344888e-01, -2.47537351e+00,  7.46144235e-01,\n",
       "          9.87124741e-01,  1.26999736e+00,  1.96760193e-01,\n",
       "          4.36032236e-01, -7.09405839e-01, -1.32460997e-01,\n",
       "         -2.24536300e-01,  2.77635574e-01,  1.61199331e+00,\n",
       "          5.35863757e-01,  8.37629139e-01,  9.50269103e-01,\n",
       "         -9.21422124e-01, -4.69938636e-01,  1.27048039e+00,\n",
       "         -1.03280461e+00,  5.03770947e-01, -1.76584199e-01,\n",
       "          1.97219026e+00,  1.09512353e+00,  1.82450020e+00,\n",
       "          1.27906597e+00,  8.92879516e-02, -7.89985538e-01,\n",
       "          1.10399926e+00,  1.51262060e-01,  6.79462254e-02,\n",
       "          1.52343631e+00, -1.71324980e+00,  2.66871583e-02,\n",
       "          7.15764821e-01, -8.33899796e-01, -1.65338039e+00,\n",
       "          9.10417020e-01, -1.34928095e+00,  7.67639875e-01,\n",
       "          7.65635371e-01, -1.08967435e+00, -3.70965511e-01,\n",
       "          1.06016195e+00, -1.00401580e+00,  5.29748201e-01,\n",
       "         -5.17245412e-01,  6.50963902e-01, -8.56260896e-01,\n",
       "          5.06900072e-01,  1.66375875e+00, -3.32596183e-01,\n",
       "         -2.86220407e+00, -1.90610218e+00,  1.57406360e-01,\n",
       "         -5.65794051e-01,  9.60410357e-01, -1.09184682e+00,\n",
       "          1.25687170e+00, -1.84348047e-01, -7.72236958e-02,\n",
       "         -1.55785632e+00, -4.27945741e-02,  6.92742467e-02,\n",
       "          1.07630682e+00, -6.94130361e-01,  1.30597162e+00,\n",
       "         -7.47900009e-01, -1.68867052e+00,  2.20567271e-01,\n",
       "         -3.05490822e-01,  1.50229955e+00, -1.60598350e+00,\n",
       "          2.57467836e-01,  9.76207793e-01, -1.23305492e-01,\n",
       "          2.77078629e-01, -3.08779359e+00,  2.30562314e-01,\n",
       "          1.22209775e+00,  2.75374532e+00, -1.41984689e+00,\n",
       "         -1.15553987e+00,  2.24262357e+00,  7.27883816e-01,\n",
       "          8.83299589e-01,  9.10172164e-01,  3.02358925e-01,\n",
       "          3.50775778e-01, -1.18301785e+00, -1.32414140e-02,\n",
       "         -3.53033036e-01, -2.86063224e-01, -7.29860127e-01,\n",
       "         -1.10172427e+00, -3.27425450e-01, -2.79448342e+00,\n",
       "         -2.42056823e+00, -1.06700969e+00,  7.43242264e-01,\n",
       "          3.95095497e-01, -1.20218801e+00, -1.46125162e+00,\n",
       "         -2.02027488e+00, -4.93457824e-01, -1.53444612e+00,\n",
       "         -1.08883762e+00,  1.14327383e+00, -9.80905950e-01,\n",
       "         -1.12900305e+00, -1.18727684e+00, -1.28232789e+00,\n",
       "          4.45364743e-01, -2.57897347e-01,  1.13207257e+00,\n",
       "         -2.94463962e-01,  6.10360920e-01, -8.54193687e-01,\n",
       "         -1.43278992e+00, -7.09709346e-01,  7.50594258e-01,\n",
       "          1.22710919e+00,  2.99325794e-01,  3.80636573e-01,\n",
       "          1.02602541e+00,  9.60015878e-03,  3.98031883e-02,\n",
       "          3.80544156e-01,  2.00163531e+00,  8.57497275e-01,\n",
       "          1.62154543e+00,  9.75812614e-01, -1.91216081e-01,\n",
       "          1.03289254e-01, -3.34329456e-01,  3.06739975e-02,\n",
       "          6.22585535e-01,  4.61321831e-01,  1.26331770e+00,\n",
       "         -5.65508187e-01,  1.92432272e+00,  1.78737044e-02,\n",
       "          6.04752481e-01,  1.64201760e+00,  1.10412645e+00,\n",
       "          1.21460450e+00, -9.96604502e-01,  1.48341388e-01,\n",
       "          6.00989282e-01, -2.33244654e-02, -2.61576921e-01,\n",
       "         -1.04472780e+00,  1.42070282e+00,  3.46130669e-01,\n",
       "          9.81849506e-02, -6.20184541e-01, -2.74925470e+00,\n",
       "          1.54963863e+00, -1.83003142e-01,  9.64367270e-01,\n",
       "         -3.82113755e-02,  6.24872625e-01, -4.20787364e-01,\n",
       "          2.26186022e-01, -1.41784000e+00,  1.70272672e+00,\n",
       "         -2.90175796e-01, -1.97542995e-01, -9.84683692e-01,\n",
       "          1.40897274e+00, -1.67260957e+00, -8.87988269e-01,\n",
       "         -8.47687364e-01,  2.93002993e-01, -1.24894953e+00,\n",
       "          8.76105130e-01,  7.59211302e-01, -1.53142834e+00,\n",
       "          9.31891724e-02, -3.18547517e-01,  1.41526401e+00,\n",
       "          1.00678825e+00, -1.90821052e+00,  2.77276218e-01,\n",
       "          4.25406039e-01, -1.62954301e-01, -1.87044248e-01,\n",
       "          1.80990982e+00, -7.49257684e-01,  1.65803099e+00,\n",
       "         -7.37447619e-01,  1.14622736e+00, -1.87599730e+00,\n",
       "          5.57480454e-01,  2.15165466e-01,  5.12222886e-01,\n",
       "          4.71186265e-02,  4.67503667e-01,  1.33733523e+00,\n",
       "          9.66621757e-01,  3.43969733e-01, -1.77379072e+00,\n",
       "          3.35952938e-01, -6.28335416e-01,  5.36144152e-03,\n",
       "          5.84929526e-01, -6.90252900e-01, -1.02686846e+00,\n",
       "         -1.00030208e+00,  1.70365259e-01, -2.95415163e-01,\n",
       "         -1.66301334e+00,  4.93642576e-02,  4.83233213e-01,\n",
       "         -6.40718162e-01, -7.72457421e-01, -1.48668575e+00,\n",
       "         -1.23891020e+00, -1.76098418e+00, -4.76458609e-01,\n",
       "         -1.09777486e+00,  1.85271907e+00,  1.03845656e+00,\n",
       "         -2.73909029e-02,  1.87302005e+00, -7.07326978e-02,\n",
       "          1.62555492e+00, -2.75894608e-02, -1.30047786e+00,\n",
       "         -3.77862126e-01,  1.55628777e+00,  1.25163257e+00,\n",
       "          2.33045533e-01, -4.75562513e-02, -1.59524179e+00,\n",
       "         -7.43245184e-01,  1.04289758e+00,  7.32466519e-01,\n",
       "          1.27326691e+00, -1.30884552e+00, -8.96849573e-01,\n",
       "         -6.39787376e-01,  1.69353098e-01,  5.35165668e-01,\n",
       "          7.08157849e-03, -5.14966100e-02, -1.42665827e+00,\n",
       "         -1.44911423e-01, -1.15765047e+00,  2.10770440e+00,\n",
       "          8.71074378e-01,  1.44933209e-01,  8.90921131e-02,\n",
       "          8.00738871e-01, -3.91453654e-02, -2.15818048e-01,\n",
       "         -1.19439673e+00,  5.99839017e-02, -7.54989922e-01,\n",
       "          1.58566326e-01,  9.02958512e-01,  1.54945815e+00,\n",
       "         -9.64042902e-01]], dtype=float32),\n",
       " array([[-1.14705138e-01,  1.57398558e+00, -8.30371380e-01,\n",
       "          5.48600741e-02,  1.00557841e-01,  4.88923669e-01,\n",
       "          2.27917671e-01, -3.43166173e-01, -2.77408093e-01,\n",
       "         -2.25789472e-01, -2.06894350e+00,  2.14013815e+00,\n",
       "          3.23804319e-01, -1.36802924e+00, -6.61549926e-01,\n",
       "         -5.24697542e-01, -3.45910072e-01, -7.75527060e-01,\n",
       "          1.94296515e+00,  6.06559336e-01,  1.09681809e+00,\n",
       "         -3.49881887e-01,  5.25106907e-01,  2.72939414e-01,\n",
       "          4.02282089e-01, -8.54406714e-01, -9.01140749e-01,\n",
       "          1.33586168e+00,  1.41301334e+00,  1.31781507e+00,\n",
       "          7.26220906e-01,  8.11026752e-01,  6.13946855e-01,\n",
       "         -4.92092550e-01, -8.25673759e-01,  8.09522450e-01,\n",
       "         -4.66969609e-01,  4.15151507e-01, -3.01999986e-01,\n",
       "          2.37158561e+00, -2.23245725e-01, -1.17782855e+00,\n",
       "         -1.44234926e-01, -1.64638114e+00,  3.63897860e-01,\n",
       "         -3.27427775e-01, -1.20679401e-01,  9.85441029e-01,\n",
       "         -6.86761141e-01,  6.97377175e-02,  5.50215542e-01,\n",
       "          2.27123952e+00, -2.20337725e+00, -6.90504313e-01,\n",
       "          1.39872181e+00, -1.35676944e+00,  5.83546042e-01,\n",
       "         -8.64060596e-02,  1.66274130e+00,  1.10711241e+00,\n",
       "          6.14704974e-02, -9.02699172e-01,  1.51144969e+00,\n",
       "         -3.89515497e-02,  6.62060916e-01, -8.09380472e-01,\n",
       "          1.57716334e-01, -1.34130418e+00, -9.62646246e-01,\n",
       "         -4.88534749e-01,  5.55940509e-01,  6.57997191e-01,\n",
       "          3.55287611e-01,  1.26910341e+00, -4.91807461e-01,\n",
       "         -1.04175782e+00, -6.36895537e-01,  1.53410530e+00,\n",
       "          1.33345270e+00,  6.24284856e-02,  1.08442962e+00,\n",
       "         -9.13716853e-01,  2.53542393e-01, -1.55748737e+00,\n",
       "          1.93611503e-01,  6.08721495e-01,  2.26381612e+00,\n",
       "          7.20801532e-01, -8.90225232e-01,  2.93280452e-01,\n",
       "         -1.92969024e-01,  6.50643229e-01, -5.42563319e-01,\n",
       "          1.67133558e+00,  1.06111097e+00,  5.18029690e-01,\n",
       "         -6.36328816e-01,  2.01055074e+00, -2.38382959e+00,\n",
       "          1.83005202e+00, -6.13077760e-01,  6.43058300e-01,\n",
       "         -3.54842335e-01,  5.10311842e-01, -1.36883989e-01,\n",
       "         -2.22336322e-01, -6.08935833e-01, -1.05337965e+00,\n",
       "         -4.64701802e-01,  2.57548481e-01, -2.19719678e-01,\n",
       "          7.94615030e-01,  1.62033820e+00,  7.93627556e-03,\n",
       "         -1.49624276e+00,  2.89109766e-01,  1.16355145e+00,\n",
       "         -1.76336020e-01, -7.90435314e-01,  1.02833164e+00,\n",
       "          4.00336415e-01,  1.87033546e+00,  9.69121903e-02,\n",
       "          2.70206302e-01, -1.92685053e-01,  1.57055521e+00,\n",
       "         -6.14695191e-01,  2.39640787e-01, -3.68762583e-01,\n",
       "          3.27621430e-01,  9.12466764e-01,  5.38032174e-01,\n",
       "          5.54681420e-01,  9.43023205e-01,  1.53812897e+00,\n",
       "         -5.53267300e-01, -1.42210126e-01,  1.21080172e+00,\n",
       "          8.31337214e-01,  3.01799208e-01, -6.35876060e-01,\n",
       "         -1.61917937e+00,  4.63834971e-01,  6.20709121e-01,\n",
       "         -8.74152720e-01,  1.17206015e-02,  1.63443637e+00,\n",
       "         -1.32496858e+00, -6.48758233e-01, -3.10952336e-01,\n",
       "         -9.85069096e-01, -1.00720298e+00, -4.35765505e-01,\n",
       "          1.37786651e+00,  2.30126366e-01, -1.98640382e+00,\n",
       "         -5.18430650e-01, -4.23485994e-01, -1.02152050e+00,\n",
       "          9.26036179e-01,  7.57627964e-01, -1.36708021e+00,\n",
       "          2.78143907e+00, -4.37178165e-01,  2.02029657e+00,\n",
       "         -3.15866375e+00, -4.12239879e-01, -3.97267282e-01,\n",
       "          5.27808070e-01, -4.34756607e-01, -5.42758107e-01,\n",
       "          5.13976395e-01,  3.34312737e-01,  8.14478159e-01,\n",
       "          1.40210843e+00, -7.02510774e-01, -6.29550040e-01,\n",
       "         -1.51725829e-01, -1.00427389e+00, -7.54301190e-01,\n",
       "         -2.91046053e-01, -1.48952520e+00,  9.19600785e-01,\n",
       "          1.25471461e+00, -3.91423523e-01, -1.13296188e-01,\n",
       "         -2.44218636e+00, -6.28596723e-01,  1.16022134e+00,\n",
       "         -7.74786234e-01, -2.06973195e+00, -8.01343799e-01,\n",
       "          9.35311735e-01,  5.15884817e-01, -4.17718500e-01,\n",
       "          9.61781144e-01, -1.73279190e+00,  3.22246939e-01,\n",
       "          4.20543030e-02,  7.18771636e-01, -6.09544456e-01,\n",
       "         -4.89344984e-01, -4.81612384e-01, -2.28193954e-01,\n",
       "         -8.97287071e-01,  7.10447669e-01, -9.15051043e-01,\n",
       "          1.15690315e+00,  1.56129003e+00,  5.11020660e-01,\n",
       "         -9.80835378e-01,  4.02498424e-01,  6.88731670e-01,\n",
       "          1.19551539e+00, -3.54368597e-01, -6.94656849e-01,\n",
       "          3.40169728e-01,  1.31537032e+00, -1.52503625e-01,\n",
       "          1.57670945e-01, -1.63105392e+00,  9.04913664e-01,\n",
       "         -1.34780169e+00,  1.26861715e+00,  2.59337630e-02,\n",
       "          5.26160419e-01, -6.18874550e-01,  8.37501347e-01,\n",
       "         -1.11883891e+00,  6.16237640e-01,  3.50500137e-01,\n",
       "         -4.77696300e-01, -1.37127116e-01, -4.47518021e-01,\n",
       "          2.15652749e-01, -2.01804304e+00,  9.40331161e-01,\n",
       "         -7.81532288e-01, -1.59601414e+00,  2.54423827e-01,\n",
       "          6.45520866e-01,  8.12536061e-01, -1.29755831e+00,\n",
       "          1.55414000e-01, -2.21183807e-01,  5.75602770e-01,\n",
       "          4.93094981e-01,  1.78524816e+00,  1.29870668e-01,\n",
       "          2.18944740e-03,  1.04548895e+00,  8.04712713e-01,\n",
       "          1.09623596e-01,  2.65158743e-01, -3.50613892e-01,\n",
       "         -7.51267076e-01, -9.43895042e-01, -9.43286300e-01,\n",
       "         -4.20141935e-01,  8.13305601e-02,  1.03209543e+00,\n",
       "         -1.32265043e+00, -1.47747179e-03, -8.75249684e-01,\n",
       "         -7.06439972e-01, -2.61166126e-01, -1.10031724e+00,\n",
       "         -1.93905795e+00, -5.48231974e-02, -1.65640223e+00,\n",
       "         -2.22653270e-01,  1.09902692e+00,  1.43600523e-01,\n",
       "         -1.57405519e+00,  1.02359511e-01, -8.64933670e-01,\n",
       "          5.11477709e-01,  5.18810332e-01,  1.50285633e-02,\n",
       "         -1.53204274e+00, -8.35630655e-01, -5.23424685e-01,\n",
       "          3.21332932e-01,  1.08025444e+00,  3.74915689e-01,\n",
       "         -1.26140165e+00, -5.77657461e-01,  2.00297430e-01,\n",
       "         -1.33026767e+00, -1.25707138e+00,  1.58560917e-01,\n",
       "         -7.03972459e-01, -5.79293109e-02,  1.55227089e+00,\n",
       "          1.26004517e+00, -2.19037458e-01, -8.50983560e-01,\n",
       "          1.31742775e+00, -5.46044052e-01, -1.09739470e+00,\n",
       "         -2.20798597e-01, -4.59966421e-01,  6.60084486e-01,\n",
       "         -3.00021839e+00,  1.28016269e+00,  2.61128873e-01,\n",
       "          1.08186281e+00,  3.10936779e-01,  1.83427989e-01,\n",
       "         -5.26836753e-01, -1.67863846e+00, -8.01641524e-01,\n",
       "         -5.13224542e-01, -1.27991319e+00,  2.20268726e-01,\n",
       "         -4.94604588e-01, -1.47759736e+00, -1.35878670e+00,\n",
       "         -7.51941442e-01,  2.00626993e+00,  1.76924139e-01,\n",
       "         -2.84167916e-01, -5.10081351e-01, -1.29387188e+00,\n",
       "         -2.75754333e-01,  5.30256748e-01,  9.52690542e-01,\n",
       "         -1.59171093e-02, -5.13639510e-01,  1.03768718e+00,\n",
       "         -1.55105531e+00,  4.27998513e-01,  3.04176539e-01,\n",
       "         -2.25962907e-01, -1.82336617e+00, -1.40025151e+00,\n",
       "         -1.91106331e-02, -1.11494505e+00,  2.10919023e-01,\n",
       "         -2.96841711e-01, -8.67860615e-01,  1.28379071e+00,\n",
       "          4.75677848e-01, -9.24317539e-01, -9.53881621e-01,\n",
       "         -1.28002024e+00,  5.10391474e-01, -1.44992739e-01,\n",
       "          1.39194116e-01, -2.51972139e-01,  1.30156264e-01,\n",
       "         -1.25038338e+00,  9.13969994e-01, -1.26712298e+00,\n",
       "          1.01446927e+00,  8.96027446e-01, -2.45100588e-01,\n",
       "         -9.80976164e-01,  1.33688498e+00, -5.65531790e-01,\n",
       "          1.32978308e+00, -2.23862886e+00,  3.68071675e-01,\n",
       "          1.40228367e+00, -5.18650532e-01, -4.07641828e-01,\n",
       "         -4.54246812e-02, -2.90266991e-01,  5.04661441e-01,\n",
       "          4.90541130e-01,  4.58495587e-01,  8.54044616e-01,\n",
       "         -6.68689609e-01, -4.50113475e-01, -8.16155553e-01,\n",
       "          7.15339899e-01, -3.62258434e-01,  9.33494806e-01,\n",
       "         -7.37735212e-01,  1.83950305e-01, -5.48754930e-01,\n",
       "          2.36858636e-01, -2.15705857e-01, -5.58161736e-02,\n",
       "         -9.03680921e-01, -3.22323084e-01, -5.98172247e-01,\n",
       "          4.26599473e-01, -4.73060220e-01, -4.87415254e-01,\n",
       "          1.46033323e+00, -1.48752078e-01, -1.02563381e+00,\n",
       "         -2.64896321e+00,  4.54436451e-01, -1.64175880e+00,\n",
       "         -1.38489461e+00, -2.61106563e+00,  2.85382420e-01,\n",
       "          1.01683235e+00,  9.48003113e-01, -9.57682550e-01,\n",
       "         -2.73765653e-01,  6.87900841e-01,  9.08317044e-02,\n",
       "         -8.11784446e-01,  8.60108256e-01, -2.51003563e-01,\n",
       "          3.89381766e-01, -6.67801976e-01,  2.07823753e-01,\n",
       "          1.84993005e+00,  1.74069512e+00, -1.00762260e+00,\n",
       "          1.43354011e+00, -1.57500696e+00,  1.65143143e-02,\n",
       "         -3.58121395e-01,  3.97226721e-01, -1.56331313e+00,\n",
       "         -9.92636621e-01, -3.89912158e-01,  6.55457303e-02,\n",
       "          1.02312481e+00,  8.73383045e-01,  1.12182033e+00,\n",
       "          1.70151591e+00, -2.44771814e+00, -3.80207837e-01,\n",
       "         -1.91643000e+00,  1.59655964e+00, -7.87838042e-01,\n",
       "         -5.96485078e-01, -1.83666777e-02,  4.06573147e-01,\n",
       "          2.43696734e-01, -1.14787388e+00, -8.99600029e-01,\n",
       "          1.53108239e+00,  5.69189072e-01,  2.92946935e-01,\n",
       "          2.89156735e-01,  1.07218981e+00,  8.79404783e-01,\n",
       "         -1.05983317e+00, -6.84226513e-01,  4.24889296e-01,\n",
       "          1.20493162e+00,  6.04503214e-01,  5.65675735e-01,\n",
       "          1.47925115e+00, -5.40703833e-01,  1.22698104e+00,\n",
       "          1.57178593e+00, -7.14932323e-01, -6.83588803e-01,\n",
       "          8.11744556e-02,  1.03574038e+00,  8.03734481e-01,\n",
       "          2.30691695e+00, -3.27097058e-01,  2.27381930e-01,\n",
       "         -7.65287459e-01, -9.93023574e-01,  5.21179676e-01,\n",
       "          3.41018349e-01,  9.51670468e-01, -8.98370683e-01,\n",
       "          8.65125597e-01, -4.88528877e-01, -1.46252170e-01,\n",
       "         -7.83174217e-01,  1.50510401e-01, -5.05208373e-01,\n",
       "         -2.85337344e-02, -4.96659368e-01, -7.70271003e-01,\n",
       "         -3.53788763e-01,  4.25969332e-01,  1.81166679e-01,\n",
       "         -3.89003128e-01, -4.98808026e-01, -7.67877638e-01,\n",
       "          1.88992590e-01,  9.68164384e-01, -4.73970354e-01,\n",
       "          1.85717261e+00, -5.61086118e-01, -1.16358662e+00,\n",
       "          4.95419800e-02,  5.37180841e-01,  4.80539471e-01,\n",
       "          2.08683521e-01, -2.12331676e+00,  1.37275994e+00,\n",
       "         -2.41356552e-01, -4.68056440e-01, -1.92881024e+00,\n",
       "         -6.68374375e-02, -6.67585731e-01,  1.49114609e+00,\n",
       "         -1.00753009e+00,  1.41892970e+00, -1.78244948e+00,\n",
       "         -1.47540534e+00,  7.06399679e-01, -1.04669142e+00,\n",
       "         -2.92713284e-01, -2.27776065e-01, -1.35631859e+00,\n",
       "          3.79815102e-01,  8.56799483e-01,  1.22291160e+00,\n",
       "          1.16436744e+00, -6.44536257e-01, -3.30294892e-02,\n",
       "         -1.39584050e-01, -2.61410028e-01,  1.51578999e+00,\n",
       "          1.82450867e+00,  6.46753132e-01, -7.68573117e-03,\n",
       "         -1.00088155e+00,  5.87667108e-01, -4.24604528e-02,\n",
       "          2.20157766e+00,  1.28183758e+00, -2.92260098e+00,\n",
       "         -1.51682806e+00,  4.48801070e-01, -3.35322946e-01,\n",
       "          1.40517700e+00, -3.64143103e-01,  2.90729553e-01,\n",
       "         -4.01128411e-01, -1.71775579e+00,  1.13477194e+00,\n",
       "         -2.40915224e-01, -1.34412944e-01,  1.18589807e+00,\n",
       "         -1.37995994e+00, -1.17090809e+00, -3.40252578e-01,\n",
       "          7.56170750e-01, -4.43340123e-01, -1.88710511e-01,\n",
       "         -1.11536652e-01,  1.30879045e-01, -1.19489634e+00,\n",
       "          8.34791005e-01, -2.40987554e-01,  7.46443689e-01,\n",
       "          1.05659366e+00, -2.16683857e-02, -1.19571829e+00,\n",
       "          8.19120169e-01, -6.03040397e-01, -6.32992089e-01,\n",
       "         -7.96031117e-01,  5.79528391e-01,  5.70055544e-01,\n",
       "         -4.32819158e-01, -1.17476690e+00,  1.07749671e-01,\n",
       "          4.72978689e-02,  1.17917585e+00, -3.20998490e-01,\n",
       "          3.83343458e-01,  2.90944076e+00, -1.22138858e+00,\n",
       "         -3.67612183e-01, -6.11564815e-01,  4.95950460e-01,\n",
       "         -7.37457991e-01,  3.23024243e-01,  8.67875338e-01,\n",
       "         -5.40178597e-01, -4.89973754e-01,  8.22954595e-01,\n",
       "         -4.35376883e-01, -4.40667160e-02, -2.00158626e-01,\n",
       "         -9.75787699e-01, -6.45023942e-01, -1.16485679e+00,\n",
       "          8.59443605e-01, -6.51307881e-01,  1.87499595e+00,\n",
       "          6.25418544e-01,  1.42932975e+00, -6.83268070e-01,\n",
       "         -4.71003622e-01,  1.34036028e+00, -1.53467798e+00,\n",
       "          1.17434692e+00,  8.34993482e-01,  1.76606882e+00,\n",
       "          5.06161153e-01, -6.81556314e-02, -5.59478641e-01,\n",
       "          5.04460037e-01,  4.96243775e-01,  6.83186650e-02,\n",
       "          1.74424261e-01,  6.96648657e-02,  1.05401826e+00,\n",
       "          5.44500574e-02,  1.40945935e+00, -7.77578652e-01,\n",
       "          1.22118451e-01,  2.33486390e+00,  5.39636254e-01,\n",
       "          5.83920360e-01, -4.23858166e-02,  1.19647932e+00,\n",
       "         -1.09843290e+00, -7.11138785e-01, -1.33219540e+00,\n",
       "          2.66250938e-01, -2.38345236e-01, -3.55325371e-01,\n",
       "          2.93063074e-01, -3.38708013e-01, -5.94245732e-01,\n",
       "         -1.84034669e+00, -3.72969091e-01, -1.35007668e+00,\n",
       "          1.32371247e-01, -3.95827502e-01,  4.01122957e-01,\n",
       "         -5.78233182e-01, -1.27952591e-01, -7.69890487e-01,\n",
       "          1.56936395e+00,  1.51515937e+00, -8.14862669e-01,\n",
       "          3.06485780e-02, -6.09472021e-02,  1.67959940e+00,\n",
       "         -5.16004264e-01,  5.97040392e-02,  7.32017815e-01,\n",
       "          6.94895983e-01, -2.06367564e+00, -2.03036857e+00,\n",
       "         -5.95085740e-01, -2.17025787e-01,  6.13520622e-01,\n",
       "          9.56895888e-01,  7.07355797e-01,  3.19125831e-01,\n",
       "         -5.26074231e-01, -6.97122335e-01, -2.37439704e+00,\n",
       "         -4.53732938e-01,  1.88638791e-01,  1.68222916e+00,\n",
       "         -2.47783676e-01,  9.05811191e-01,  3.81766140e-01,\n",
       "         -3.18261087e-01,  1.63881958e+00,  4.42172229e-01,\n",
       "         -1.65551686e+00, -8.76417577e-01, -1.24858570e+00,\n",
       "         -2.16088653e-01, -7.84515440e-01,  1.05462360e+00,\n",
       "          1.50716901e+00,  4.44225043e-01,  5.28601348e-01,\n",
       "         -9.04578686e-01, -3.28312069e-01, -1.62530136e+00,\n",
       "         -6.03672087e-01, -1.25524580e+00, -5.51801361e-02,\n",
       "          7.98023582e-01, -2.10406351e+00,  1.21276343e+00,\n",
       "          9.61332202e-01,  1.48269653e+00, -9.08331931e-01,\n",
       "          4.94131505e-01, -5.74849367e-01,  2.10224032e+00,\n",
       "         -1.55081010e+00,  2.48534888e-01,  2.27511454e+00,\n",
       "         -1.25823331e+00, -1.64784157e+00, -6.48124814e-01,\n",
       "          4.66687500e-01,  1.08119085e-01,  7.99292862e-01,\n",
       "         -1.61740017e+00, -6.51592433e-01, -1.98053789e+00,\n",
       "          5.41685760e-01, -8.09845209e-01, -1.18622541e+00,\n",
       "          1.30165890e-01,  1.05126309e+00,  5.90603471e-01,\n",
       "          1.92744285e-01, -7.04221785e-01, -1.58774629e-02,\n",
       "         -2.34123483e-01, -2.08991790e+00,  4.34811367e-03,\n",
       "          2.23789072e+00, -4.84281510e-01,  3.58232915e-01,\n",
       "         -4.02107909e-02,  7.77609229e-01,  1.15226817e+00,\n",
       "          7.10950494e-01,  2.67944396e-01,  1.41424084e+00,\n",
       "         -6.34037480e-02,  4.21760976e-01, -7.72774145e-02,\n",
       "         -2.38177720e-02, -5.37453592e-01,  1.15354860e+00,\n",
       "          8.90150785e-01, -1.49531448e+00, -6.15451217e-01,\n",
       "          1.00682758e-01,  1.32237005e+00,  1.58918190e+00,\n",
       "          1.49558008e-01, -8.15282881e-01,  7.15085566e-01,\n",
       "          7.52491355e-01, -8.79958630e-01, -1.36054242e+00,\n",
       "         -9.79639769e-01, -2.05117965e+00,  8.96968767e-02,\n",
       "          1.03782713e+00, -4.47116822e-01,  1.46755779e+00,\n",
       "          1.09033668e+00, -9.25051868e-02, -1.34339011e+00,\n",
       "          3.93975347e-01,  1.51871756e-01,  3.02545875e-01,\n",
       "          2.65478849e-01, -3.31532687e-01,  1.64488983e+00,\n",
       "          6.74693644e-01, -1.47743016e-01, -1.14778972e+00,\n",
       "         -5.74065387e-01, -5.60040951e-01,  8.08804810e-01,\n",
       "         -9.99458611e-01,  8.43712747e-01,  2.25967810e-01,\n",
       "         -6.79823697e-01,  9.75822270e-01, -3.15199077e-01,\n",
       "          3.53259534e-01,  3.13790828e-01, -3.78697753e-01,\n",
       "         -2.79316187e-01]], dtype=float32),\n",
       " array([[-9.54951197e-02, -1.22097468e+00,  2.28055120e-01,\n",
       "         -1.40682685e+00,  3.91931415e-01, -1.05119538e+00,\n",
       "         -1.02564478e+00, -4.31643784e-01,  1.87644744e+00,\n",
       "          5.52371085e-01,  1.47746360e+00,  1.65115654e+00,\n",
       "          2.95019656e-01,  7.43096694e-02, -3.92772108e-01,\n",
       "          1.73200011e+00,  7.79599190e-01, -5.64593971e-01,\n",
       "          2.45469585e-01, -1.20632857e-01, -3.90050769e-01,\n",
       "         -1.97780037e+00,  1.62406611e+00, -5.25605500e-01,\n",
       "         -6.02883279e-01,  8.38585734e-01,  2.17938042e+00,\n",
       "          4.03989524e-01,  2.29328528e-01,  2.50845015e-01,\n",
       "          6.40357375e-01, -8.28225672e-01,  2.32122689e-02,\n",
       "         -7.71103948e-02,  2.00315309e+00,  5.06773055e-01,\n",
       "         -1.26567870e-01, -2.61801571e-01,  5.53624034e-01,\n",
       "          2.59278953e-01,  2.35038429e-01, -3.42971683e-02,\n",
       "          4.53435957e-01,  3.84771317e-01, -4.85308796e-01,\n",
       "         -2.10029006e+00,  7.82693624e-01, -4.30650443e-01,\n",
       "          3.01791525e+00, -1.09657276e+00, -3.61912400e-01,\n",
       "         -1.39276326e-01, -3.06387573e-01, -1.03588688e+00,\n",
       "         -7.40367174e-01,  1.27669597e+00,  1.06204712e+00,\n",
       "         -2.90236652e-01, -4.73145515e-01,  4.84787792e-01,\n",
       "         -2.05614161e+00, -4.45070207e-01, -1.04438603e+00,\n",
       "          1.52910888e+00, -1.66311085e+00, -8.02542567e-01,\n",
       "          1.54099837e-01, -9.27363396e-01, -2.69996786e+00,\n",
       "         -1.02627432e+00,  6.33891225e-01, -1.26340759e+00,\n",
       "          3.98919046e-01, -4.68327463e-01, -1.57633197e+00,\n",
       "         -4.88781244e-01,  1.44972980e+00, -5.02886176e-01,\n",
       "         -2.37322465e-01, -5.81877649e-01,  2.08400533e-01,\n",
       "         -1.75747022e-01,  5.99299431e-01,  1.95703536e-01,\n",
       "         -2.96317995e-01,  9.66821194e-01,  3.30203652e-01,\n",
       "          8.89487192e-02, -2.27268720e+00,  1.79390892e-01,\n",
       "          7.13880658e-01,  1.28829464e-01, -5.55978596e-01,\n",
       "         -6.36484921e-01, -2.24751860e-01, -1.16980821e-01,\n",
       "         -4.09258515e-01,  1.14611256e+00,  1.96443641e+00,\n",
       "         -2.10477769e-01, -1.13617659e+00,  1.26923943e+00,\n",
       "          4.02716368e-01, -1.75941753e+00, -1.40703607e+00,\n",
       "         -2.14817360e-01,  1.64042139e+00, -1.13331661e-01,\n",
       "          7.87283719e-01, -3.95898074e-01,  6.12083197e-01,\n",
       "         -9.07868266e-01,  1.41229892e+00,  1.68660843e+00,\n",
       "          3.65653217e-01,  3.74806702e-01, -1.85254002e+00,\n",
       "          1.57765710e+00,  1.38124299e+00, -9.78767395e-01,\n",
       "         -9.88398015e-01, -8.69920075e-01,  9.20150936e-01,\n",
       "         -2.68269837e-01, -8.55250359e-02, -1.54780662e+00,\n",
       "         -6.35049522e-01,  6.37491107e-01,  1.72396314e+00,\n",
       "         -9.60282385e-01, -1.53783286e+00,  4.60832298e-01,\n",
       "          2.72577405e-01, -5.58800220e-01, -1.26759696e+00,\n",
       "          1.39646232e+00,  1.26181638e+00, -8.90575826e-01,\n",
       "          6.88359261e-01, -9.88927960e-01,  5.15387356e-01,\n",
       "         -2.23225117e-01,  1.44251096e+00,  1.04319108e+00,\n",
       "         -5.20435214e-01,  1.27629206e-01, -5.42164445e-01,\n",
       "         -1.49774623e+00,  8.49304259e-01, -4.94320512e-01,\n",
       "         -5.37589610e-01, -3.25303972e-01,  2.56223947e-01,\n",
       "         -1.28472662e+00,  1.53452596e-02,  3.29126775e-01,\n",
       "         -2.74146140e-01, -3.78493249e-01, -3.78878824e-02,\n",
       "          2.48755836e+00, -2.64426470e-01,  1.06692982e+00,\n",
       "         -9.69642222e-01, -3.71028721e-01, -5.19261539e-01,\n",
       "          1.75196004e+00,  8.27011243e-02, -2.50008672e-01,\n",
       "         -5.69267809e-01, -1.43760407e+00,  7.35070091e-04,\n",
       "         -9.22367275e-01, -2.75667757e-01, -1.03677437e-01,\n",
       "          6.10683978e-01, -1.69094503e-01,  1.26428759e+00,\n",
       "          1.74074069e-01,  1.21491277e+00,  2.36461973e+00,\n",
       "         -2.27751088e+00, -6.33815408e-01, -1.94374478e+00,\n",
       "         -5.12029111e-01, -1.17916770e-01,  1.19221818e+00,\n",
       "          1.51427603e+00,  1.73292124e+00,  1.55600011e+00,\n",
       "          4.35993284e-01, -1.50431931e+00, -8.39045525e-01,\n",
       "          1.48873007e+00, -6.91757143e-01, -7.58992612e-01,\n",
       "          2.59932637e-01,  2.64244646e-01,  1.61743808e+00,\n",
       "         -1.01869375e-01,  8.02549362e-01,  1.20650315e+00,\n",
       "         -1.02241218e+00, -3.65406834e-02, -1.21958829e-01,\n",
       "          5.01029909e-01, -2.49308601e-01, -7.93216527e-01,\n",
       "         -3.09629679e-01,  1.27359891e+00,  6.82339728e-01,\n",
       "          5.05535603e-01,  9.86949027e-01,  6.26325488e-01,\n",
       "          1.80691803e+00,  1.19585872e+00,  1.88308859e+00,\n",
       "         -1.16670418e+00,  1.42348838e+00,  1.63331282e+00,\n",
       "          7.43352115e-01, -5.22493780e-01,  4.67630059e-01,\n",
       "         -1.49974808e-01,  8.69194567e-01, -6.95671499e-01,\n",
       "          2.47691110e-01, -1.67753756e+00, -3.52541775e-01,\n",
       "         -1.09389126e+00,  1.03199124e+00, -7.46948004e-01,\n",
       "          1.10482049e+00,  2.31316042e+00,  1.32100248e+00,\n",
       "          6.36071682e-01, -1.87290418e+00, -1.49957359e-01,\n",
       "          9.31244791e-01, -7.18808413e-01,  6.95236146e-01,\n",
       "          7.09886074e-01, -7.25181103e-01, -5.31859219e-01,\n",
       "         -2.44835138e+00, -3.68134290e-01, -1.74392426e+00,\n",
       "          4.64164615e-01,  5.63077807e-01, -7.37185240e-01,\n",
       "         -1.50773633e+00, -1.29275274e+00,  7.43572712e-01,\n",
       "          1.97306561e+00,  3.83013785e-01,  1.41113877e+00,\n",
       "         -1.33163381e+00,  9.44346368e-01,  2.50375450e-01,\n",
       "          8.00322890e-01, -1.72840893e+00,  4.19499397e-01,\n",
       "          8.19056451e-01, -2.15043187e+00,  1.19653332e+00,\n",
       "          4.60918278e-01, -7.35836983e-01,  1.52057993e+00,\n",
       "          1.10114940e-01,  5.20736516e-01,  6.64587677e-01,\n",
       "          1.02821815e+00, -1.04414213e+00, -9.80799437e-01,\n",
       "         -3.11352134e-01, -1.31022918e+00, -4.20019448e-01,\n",
       "          9.44826245e-01,  1.62424192e-01,  2.99112797e-01,\n",
       "         -2.43617678e+00, -1.33000576e+00,  1.32647228e+00,\n",
       "          1.41416264e+00,  1.55122921e-01,  8.12794492e-02,\n",
       "          4.18356091e-01, -2.95946836e-01, -9.47911382e-01,\n",
       "          2.66213994e-02, -6.69583678e-01,  1.75195068e-01,\n",
       "         -5.19070804e-01, -7.16575384e-01, -3.42361420e-01,\n",
       "         -7.37206101e-01, -4.21480924e-01,  2.35850382e+00,\n",
       "          9.19815123e-01, -1.00301310e-01, -6.11100852e-01,\n",
       "          5.61571836e-01,  7.34220982e-01,  1.39615014e-01,\n",
       "         -1.05228916e-01,  9.40143093e-02,  3.60761315e-01,\n",
       "         -4.14069258e-02, -1.59625697e+00, -7.01442122e-01,\n",
       "          1.25757027e+00,  1.27663445e+00, -2.72940904e-01,\n",
       "         -8.63842130e-01, -4.56842721e-01, -4.62316833e-02,\n",
       "          4.72651064e-01, -6.15877092e-01, -5.15448689e-01,\n",
       "         -6.94941282e-01,  1.70945358e+00, -1.93162179e+00,\n",
       "         -2.43403718e-01,  3.57458770e-01,  8.88362229e-01,\n",
       "          1.07511091e+00,  8.97869051e-01, -5.81509054e-01,\n",
       "         -2.81302631e-01, -1.44690752e+00, -1.10013890e+00,\n",
       "          3.29354334e+00, -8.79849136e-01,  1.20981723e-01,\n",
       "         -1.56145930e+00,  4.74907160e-01,  6.91419661e-01,\n",
       "          2.56838942e+00,  6.11943603e-01, -8.32517684e-01,\n",
       "          4.86502081e-01,  1.40679061e-01,  3.40319961e-01,\n",
       "          9.35702920e-01, -4.02101040e-01, -2.01816678e+00,\n",
       "         -2.31761551e+00,  1.24161232e+00,  7.04555213e-01,\n",
       "          1.45099387e-01, -6.98786855e-01,  9.09090757e-01,\n",
       "         -1.53683293e+00,  1.68186355e+00, -3.43430579e-01,\n",
       "         -8.35364103e-01, -1.17094648e+00,  8.37765098e-01,\n",
       "          4.46657896e-01, -1.22384775e+00, -9.83756781e-01,\n",
       "          5.14160454e-01, -1.93754983e+00,  8.77759099e-01,\n",
       "         -1.70460331e+00, -1.17824197e+00,  4.80226666e-01,\n",
       "         -2.10590616e-01,  1.54596120e-01,  1.35552621e+00,\n",
       "          1.41940725e+00, -1.64970171e+00, -8.23916912e-01,\n",
       "          6.96066439e-01,  9.62754607e-01, -1.33716917e+00,\n",
       "          9.24998581e-01, -7.18744934e-01, -7.19345987e-01,\n",
       "          1.18258190e+00,  1.53631175e+00,  2.26493788e+00,\n",
       "         -7.29088545e-01, -1.16118252e+00, -6.80944622e-01,\n",
       "          1.10128641e+00,  6.80369794e-01, -1.12484157e+00,\n",
       "          2.14453805e-02,  6.30927563e-01,  5.30999064e-01,\n",
       "         -1.54737253e-02, -1.20573080e+00, -2.18311977e+00,\n",
       "          1.74358380e+00,  1.82763326e+00,  1.97164059e+00,\n",
       "          5.83069026e-01,  2.48986319e-01, -5.16240239e-01,\n",
       "          5.90627175e-03, -9.70835745e-01, -3.31960797e-01,\n",
       "          4.72990602e-01,  7.98155487e-01, -9.00508046e-01,\n",
       "          3.26912284e-01,  6.31422520e-01, -9.58729804e-01,\n",
       "         -8.07493865e-01,  1.30016506e-01, -1.89204085e+00,\n",
       "          2.51307160e-01,  2.92011440e-01, -3.37759480e-02,\n",
       "         -1.20294178e-02, -3.37670296e-01,  1.43391538e+00,\n",
       "         -3.38777760e-03, -1.88317731e-01, -8.21815252e-01,\n",
       "          1.49976277e+00,  1.04581046e+00,  3.21412683e-01,\n",
       "          5.49468756e-01, -8.56402695e-01,  6.52947664e-01,\n",
       "          4.85322118e-01,  1.60886765e+00,  7.35646307e-01,\n",
       "         -5.18372394e-02,  6.29871130e-01, -4.46772784e-01,\n",
       "         -5.99688828e-01,  1.18960285e+00, -1.34522748e+00,\n",
       "         -4.66210693e-01, -3.92024279e-01,  8.83427083e-01,\n",
       "         -4.89672333e-01,  4.01705295e-01,  1.05585957e+00,\n",
       "          1.63363385e+00, -5.14416575e-01, -6.78096786e-02,\n",
       "          5.50098019e-03, -5.63071609e-01,  1.43407369e+00,\n",
       "          4.74677801e-01,  1.28521299e+00,  2.73833513e-01,\n",
       "          8.77285540e-01, -1.34172082e+00, -3.80081058e-01,\n",
       "         -9.84535456e-01,  1.57870829e+00,  4.08352047e-01,\n",
       "         -9.18460250e-01,  2.95758277e-01, -1.58812726e+00,\n",
       "          5.29104292e-01,  1.09495866e+00, -1.29314625e+00,\n",
       "          2.41884732e+00, -1.25528499e-01, -3.49797577e-01,\n",
       "         -6.71538651e-01, -3.30691367e-01,  4.74413708e-02,\n",
       "         -1.76676929e+00,  9.56306513e-03, -2.52466232e-01,\n",
       "          1.68005407e+00,  1.91517484e+00, -7.52731442e-01,\n",
       "         -1.07472074e+00, -7.53875017e-01, -1.68447113e+00,\n",
       "         -4.80185300e-01, -1.76210630e+00,  1.03083074e+00,\n",
       "          2.39783935e-02,  6.76937699e-02, -4.35306519e-01,\n",
       "          6.13394141e-01,  1.61165965e+00, -3.62360984e-01,\n",
       "          2.37420782e-01,  1.90424979e-01,  3.05412523e-02,\n",
       "         -4.65059847e-01, -1.95698082e-01,  3.84419620e-01,\n",
       "         -3.57421339e-01,  6.30089700e-01, -7.74900913e-01,\n",
       "         -5.13895974e-02,  1.61313847e-01, -9.78172004e-01,\n",
       "         -1.29991961e+00, -1.55940819e+00, -1.44403219e+00,\n",
       "         -2.50367314e-01, -1.29045531e-01,  1.14680326e+00,\n",
       "          1.21337868e-01,  8.38798285e-02, -7.92861700e-01,\n",
       "         -5.03663778e-01,  3.41069371e-01, -9.77169991e-01,\n",
       "          9.26584899e-01,  4.73674200e-02,  1.05213714e+00,\n",
       "         -2.10840572e-02, -1.16854119e+00,  6.63617909e-01,\n",
       "          1.35129690e-01, -5.53725436e-02,  8.32286716e-01,\n",
       "         -4.85293984e-01,  1.11110650e-01, -4.90954399e-01,\n",
       "          1.02170146e+00, -6.74020827e-01, -4.07327741e-01,\n",
       "         -3.08310717e-01,  1.09410495e-01,  6.92654312e-01,\n",
       "         -6.63989902e-01, -1.59185219e+00, -5.95063269e-01,\n",
       "          9.71119404e-01,  5.33688962e-01,  1.00958681e+00,\n",
       "          5.58784977e-02,  8.86350218e-03,  2.96107143e-01,\n",
       "         -8.72341394e-01,  1.28061879e+00, -4.43115920e-01,\n",
       "          1.81746888e+00, -2.32101536e+00,  1.82927382e+00,\n",
       "          1.83211040e+00,  1.41871476e+00,  4.71165925e-01,\n",
       "         -2.79555947e-01, -7.64552951e-01, -5.14155865e-01,\n",
       "         -3.70624453e-01, -8.80854964e-01, -8.58281672e-01,\n",
       "          5.66736400e-01,  2.02853227e+00,  1.42240301e-01,\n",
       "          1.49681115e+00,  2.74055511e-01,  6.84642553e-01,\n",
       "         -1.22995698e+00, -2.79122144e-01, -9.22698081e-01,\n",
       "         -3.73303413e-01,  9.74033237e-01,  4.14091259e-01,\n",
       "          7.09331036e-02, -8.01360369e-01,  7.38668859e-01,\n",
       "          1.39805436e+00,  4.85959858e-01, -4.61857021e-02,\n",
       "          1.61087751e+00,  1.01802957e+00,  2.31841612e+00,\n",
       "          3.44198585e-01, -9.89310861e-01,  3.54456641e-02,\n",
       "          6.63656056e-01, -1.92678705e-01,  2.10590792e+00,\n",
       "         -1.40669417e+00,  2.18277812e+00,  1.70657623e+00,\n",
       "         -3.66946369e-01, -1.40609193e+00, -5.94047189e-01,\n",
       "         -2.91434467e-01, -1.60131708e-01,  1.27676427e+00,\n",
       "          2.42617466e-02,  4.80054826e-01,  4.86188293e-01,\n",
       "          5.01416802e-01, -1.93600404e+00, -8.54103029e-01,\n",
       "         -9.20646071e-01, -1.94537640e+00,  1.16482818e+00,\n",
       "         -1.46998167e+00,  1.37357795e+00,  1.13638067e+00,\n",
       "          3.61284763e-01,  8.95193934e-01, -1.83472264e+00,\n",
       "         -7.27316201e-01, -1.47379589e+00,  1.31673408e+00,\n",
       "          1.00383902e+00, -1.28012669e+00,  6.17512345e-01,\n",
       "         -1.12519264e+00, -1.79264009e-01, -4.84469563e-01,\n",
       "         -2.27238759e-01,  8.48515749e-01,  4.01309371e-01,\n",
       "         -6.95635155e-02, -9.41197574e-02, -4.99999017e-01,\n",
       "         -1.57724059e+00,  1.22542024e+00, -8.03032875e-01,\n",
       "          2.00979635e-01, -5.48032284e-01,  7.03696668e-01,\n",
       "         -1.99938208e-01,  1.21600330e+00,  1.49440396e+00,\n",
       "          2.01534271e+00,  4.65712756e-01,  1.60956228e+00,\n",
       "          2.26379037e+00,  2.14017105e+00,  8.34342003e-01,\n",
       "          1.93837631e+00,  3.96824628e-01,  1.12869298e+00,\n",
       "          1.34374845e+00,  1.20399520e-01, -3.91432524e-01,\n",
       "          6.94250643e-01, -1.73215121e-01,  6.56676739e-02,\n",
       "         -6.71546876e-01, -6.83471113e-02,  6.11359775e-01,\n",
       "          1.04033522e-01, -2.65775114e-01, -1.75865912e+00,\n",
       "          1.21513319e+00, -1.53263772e+00,  6.02878094e-01,\n",
       "          2.99700350e-01, -1.72135162e+00,  5.66130936e-01,\n",
       "          8.02847683e-01,  1.21161485e+00, -1.19312136e-02,\n",
       "         -9.93060291e-01,  3.48090649e-01,  2.95005310e-02,\n",
       "          1.00532663e+00,  1.23057592e+00,  5.89721143e-01,\n",
       "         -6.73067212e-01, -1.98377192e+00, -6.24242783e-01,\n",
       "         -3.18716586e-01, -1.05840480e+00, -5.14654815e-01,\n",
       "          4.33683395e-01, -1.69155574e+00, -3.16732198e-01,\n",
       "          1.69924569e+00, -1.30982351e+00, -1.53610602e-01,\n",
       "         -1.32106388e+00, -7.99944758e-01,  1.72820196e-01,\n",
       "          3.15380961e-01,  1.23684657e+00, -2.90470928e-01,\n",
       "         -3.23892027e-01, -7.72499815e-02,  1.60839999e+00,\n",
       "          1.86305538e-01,  1.98290288e+00,  1.22689807e+00,\n",
       "         -1.10241723e+00,  6.91226482e-01,  2.61361361e-01,\n",
       "         -1.24072111e+00, -2.98940992e+00, -1.89735308e-01,\n",
       "          4.64413673e-01,  2.90639520e+00,  1.31691551e+00,\n",
       "         -4.37846817e-02, -1.22467566e+00, -2.37398076e+00,\n",
       "          6.90044224e-01, -5.54716706e-01,  9.00422096e-01,\n",
       "         -5.71755230e-01,  7.34288394e-01, -5.95079325e-02,\n",
       "          1.17151928e+00,  8.74830782e-01, -7.49513507e-01,\n",
       "         -1.12600398e+00, -5.45987785e-01,  1.51105046e+00,\n",
       "          1.49733770e+00,  7.45817721e-01, -1.20557070e+00,\n",
       "          6.75456449e-02,  7.20400155e-01,  2.50932723e-01,\n",
       "          2.56906509e-01, -4.76110011e-01,  3.18847150e-01,\n",
       "          7.25005627e-01,  2.54100353e-01, -4.48780715e-01,\n",
       "          4.00030881e-01, -2.91431999e+00,  1.12536943e+00,\n",
       "         -2.91411698e-01, -7.50668049e-02, -4.48132604e-01,\n",
       "          1.36220479e+00,  6.08952999e-01,  1.30536997e+00,\n",
       "         -1.14897776e+00,  6.26215696e-01, -1.72068501e+00,\n",
       "          6.13992631e-01, -5.74473798e-01, -5.09244859e-01,\n",
       "         -2.08878732e+00, -3.73982400e-01, -1.30351901e+00,\n",
       "          1.06410801e+00, -6.92416489e-01,  3.84051315e-02,\n",
       "          1.10404217e+00,  5.39010763e-01, -1.35669160e+00,\n",
       "          8.49576533e-01,  8.25494945e-01, -1.41612959e+00,\n",
       "          1.18780911e+00,  1.30542505e+00, -1.68807790e-01,\n",
       "         -1.15314853e+00,  4.83368903e-01, -9.64731693e-01,\n",
       "         -5.93378484e-01,  1.49147376e-01, -8.28475952e-01,\n",
       "         -4.36711311e-01,  4.10379797e-01,  1.97470039e-01,\n",
       "          4.28057045e-01,  1.46201277e+00,  5.34559429e-01,\n",
       "          1.25426733e+00, -1.15711153e+00,  8.63170922e-01,\n",
       "         -2.79319733e-01]], dtype=float32),\n",
       " array([[-0.03295929,  0.7944019 , -0.25318494, -0.02190923,  0.7211868 ,\n",
       "         -1.5991226 , -0.90782315, -1.497444  ,  0.357102  , -2.2512882 ,\n",
       "         -0.35360458, -1.3907859 , -0.9102944 , -0.42128342, -0.0399377 ,\n",
       "         -0.46220472,  0.5718849 ,  0.14819211, -0.2634877 , -0.05079171,\n",
       "         -0.8925714 ,  2.156167  , -0.46013203,  0.17025325,  0.11421282,\n",
       "          0.04959991, -1.3218185 , -1.443207  , -0.31256905,  2.0407445 ,\n",
       "         -0.26805958, -1.1051027 , -0.5311902 , -0.67794764,  1.4338418 ,\n",
       "         -0.7879456 ,  0.9895887 ,  0.66000503,  1.1080726 ,  0.40091836,\n",
       "         -2.0728655 ,  1.4535048 , -0.5424194 , -0.9474759 ,  2.324174  ,\n",
       "         -0.8103425 , -1.0020334 ,  0.8141644 , -0.01608532, -1.4522216 ,\n",
       "          1.1047008 , -0.8365743 , -0.09559716,  0.23059691, -0.7578061 ,\n",
       "         -1.2471648 ,  0.868873  , -2.5694885 ,  0.92608005,  0.86698395,\n",
       "          0.16595289,  0.17504147,  1.5008053 , -0.04668133, -0.00931121,\n",
       "         -1.0576276 ,  0.5883715 ,  0.6007197 , -1.192679  , -1.2079955 ,\n",
       "          1.536206  , -0.9124934 , -0.07927526, -0.78209734,  0.18680339,\n",
       "         -0.42051423, -1.4597402 , -1.9384537 , -0.04179958,  1.3415455 ,\n",
       "          0.708839  ,  0.47645667,  0.24570481, -0.61840475, -0.18347514,\n",
       "          0.8663904 , -1.0121679 ,  0.9541756 , -0.4993134 , -2.2232978 ,\n",
       "          0.4724809 ,  0.16307151, -0.6709547 ,  0.2595857 ,  1.7206223 ,\n",
       "         -1.7636386 , -1.5983516 ,  0.15280503, -1.0383542 ,  1.6330463 ,\n",
       "         -0.23660123,  0.34179077,  0.12036588, -0.61442703,  1.7671608 ,\n",
       "         -0.00980547, -0.00535369,  0.8763033 ,  0.49501112, -1.3752244 ,\n",
       "          0.9697243 ,  0.17159687,  0.32900473,  0.71082807,  1.0100536 ,\n",
       "          1.4714805 ,  1.1312574 , -0.18134964,  1.1723601 ,  0.18657656,\n",
       "         -0.58011705,  0.9766274 , -0.49031553, -1.0681181 ,  0.60874426,\n",
       "         -1.3828708 ,  0.40551597, -0.23253602, -0.06942238, -0.05835456,\n",
       "         -1.0059423 ,  0.5812745 , -1.1171714 ,  0.39585304,  1.2147387 ,\n",
       "          0.52938575,  1.8481165 , -1.1110553 ,  0.58983713,  0.46166217,\n",
       "         -1.8272713 ,  0.77374655, -0.00861254,  0.43687382, -0.478684  ,\n",
       "         -0.47535923,  2.067899  ,  0.5993549 , -0.63758475, -1.3115675 ,\n",
       "          0.7923531 , -1.2710223 ,  0.625527  , -1.2312136 , -1.1245435 ,\n",
       "         -0.2519235 ,  0.7496949 , -0.2967538 ,  0.47088608,  0.41245195,\n",
       "          0.9947964 ,  2.1592112 , -0.7973435 ,  0.814584  , -1.1310596 ,\n",
       "         -0.7553278 ,  0.7913397 ,  1.4780955 , -0.5423058 ,  0.9114678 ,\n",
       "         -0.78176934, -1.0494871 ,  0.35057205,  0.51086164,  0.25256085,\n",
       "         -0.09520514, -1.2293569 , -1.5551828 , -0.22315128, -0.46247733,\n",
       "         -0.2705625 , -0.56851995,  1.0611229 , -0.47352153,  0.7382053 ,\n",
       "         -0.49378592, -0.64714694, -2.2954407 ,  0.70123094,  0.2721561 ,\n",
       "          0.914638  , -1.3076094 ,  0.54991686, -0.80525315, -0.16812596,\n",
       "          1.886077  , -0.6717695 ,  0.71876204,  0.38291222, -0.03236737,\n",
       "         -1.1533779 ,  1.3308811 , -0.9442354 ,  0.3165759 ,  0.7942617 ,\n",
       "         -1.1479814 ,  0.9596396 ,  1.1079032 ,  2.0176194 ,  0.00441309,\n",
       "         -0.21966943,  0.13044941,  1.8623357 , -0.5152358 ,  1.476226  ,\n",
       "          1.7280831 , -1.1560712 ,  1.1638204 , -0.3901657 ,  0.7572439 ,\n",
       "          2.10798   ,  1.1190265 ,  0.8999595 , -0.7698935 , -0.46993276,\n",
       "          0.9383784 ,  0.53103024,  0.30955437,  0.6158047 ,  2.1127198 ,\n",
       "         -1.2886462 ,  0.9225612 , -1.625033  , -0.42686337,  0.53099877,\n",
       "         -0.0127134 , -1.2079661 , -1.9450328 ,  0.8206637 , -0.00563298,\n",
       "         -0.19437546, -1.0782758 , -1.1214496 , -0.27077192,  0.06639591,\n",
       "          0.07365683,  0.486172  , -1.2067411 , -0.8582044 ,  1.2219839 ,\n",
       "         -0.22130647,  0.27956468,  1.6067668 ,  0.6407614 , -0.6562901 ,\n",
       "         -1.314189  , -0.8243976 ,  0.13038369, -1.0378975 ,  0.20464888,\n",
       "         -0.87591535, -0.7451591 , -2.2288485 ,  1.0254754 , -0.20439829,\n",
       "         -1.2651778 ,  0.50738823,  0.21090055,  1.9190348 ,  0.77811456,\n",
       "          0.49871385, -0.93211216,  0.2980524 ,  0.5845755 ,  0.528546  ,\n",
       "         -1.6507545 ,  0.12911972,  0.43772942,  1.2098957 , -1.5676144 ,\n",
       "          1.1365758 ,  0.0061637 ,  0.6711846 , -0.6240182 ,  0.03143843,\n",
       "         -1.0043752 , -0.57580113, -0.57493615,  0.91021967,  1.915703  ,\n",
       "         -1.1924741 ,  0.7859875 ,  0.06660444, -0.6077512 , -0.28210175,\n",
       "          0.07591354,  1.0904124 ,  0.4826899 , -1.1884017 ,  2.2198744 ,\n",
       "          1.1939216 , -0.38272646,  0.762676  , -1.2541264 ,  1.497841  ,\n",
       "          0.26175848,  0.21772306,  0.9556324 , -0.38984057,  0.43741646,\n",
       "          0.5250143 , -2.0872402 ,  1.7634006 ,  0.36819404,  0.280743  ,\n",
       "         -1.7177616 ,  1.1458619 , -0.15146588,  1.5883679 , -0.69619834,\n",
       "          0.79618037,  0.9225616 ,  0.15140988, -1.0294642 ,  0.5926619 ,\n",
       "          0.44429526, -0.87775457,  0.46534786,  0.02716922,  1.7031078 ,\n",
       "         -0.84966356, -0.19234948, -0.38361752, -1.0005152 , -1.02619   ,\n",
       "          0.18813069, -0.00556211,  0.92577064,  0.7746433 ,  1.2110076 ,\n",
       "         -0.04827211, -0.20765479, -0.22238624, -0.5998959 ,  1.5782971 ,\n",
       "         -1.1201226 , -0.37954697, -0.5572434 ,  1.6689851 , -0.64582   ,\n",
       "         -0.3180716 ,  0.1591468 ,  0.7431361 , -0.15676808,  2.5800972 ,\n",
       "         -0.94933796,  1.2094786 ,  0.13664532, -0.83301634, -0.85266954,\n",
       "         -0.7711993 ,  0.59009326,  0.90825075, -0.2279187 , -0.23025048,\n",
       "         -1.7329147 , -2.8380907 , -0.20900044,  0.61200106,  1.4952235 ,\n",
       "          0.5559845 ,  0.90083945,  0.04293016, -0.24283488, -0.7306511 ,\n",
       "          0.32251954, -1.3531616 ,  0.54517746,  0.27580726,  1.0426997 ,\n",
       "         -0.93394357,  0.9048227 ,  0.39778343,  0.41450015, -3.0154963 ,\n",
       "          1.1385777 , -0.23033743,  0.3077254 ,  0.34087148,  0.7240523 ,\n",
       "         -1.5857805 ,  0.6985934 ,  0.41795745,  0.30587465, -0.41504812,\n",
       "          0.37042636, -0.9297388 , -0.21345493, -0.5046204 ,  0.16946095,\n",
       "          0.80639166,  0.7214026 ,  0.19290803,  0.6083469 ,  1.2994758 ,\n",
       "          0.8823134 , -0.33406013, -0.06218502,  0.73430675, -0.47488657,\n",
       "          0.58548146,  0.20824249,  0.5637316 ,  0.03961207, -0.66704214,\n",
       "         -0.8471101 ,  0.42531452,  0.99746555,  0.10354042,  1.5199698 ,\n",
       "          0.39068118,  0.47496283, -1.0183139 ,  0.5137521 ,  1.0889132 ,\n",
       "          1.4167012 ,  0.6436514 ,  0.08505042, -0.6372653 ,  0.24222568,\n",
       "          1.0438151 , -0.15838443, -1.0481116 ,  0.681165  , -0.2914435 ,\n",
       "          1.7871335 ,  2.1084764 ,  1.8267944 , -0.66608083,  0.1838525 ,\n",
       "         -1.393997  , -0.04586518, -0.5533923 ,  0.85034615,  0.9243144 ,\n",
       "          0.50539404,  0.40752715,  0.64957166, -0.33811694, -1.4446728 ,\n",
       "         -0.368032  , -0.71496004, -1.3710567 , -0.35424757, -0.3273422 ,\n",
       "          2.913712  ,  1.7091397 , -0.07622918, -0.19179438, -0.9367262 ,\n",
       "          0.80440277, -0.38165885, -0.861362  , -0.29067984,  0.5743367 ,\n",
       "          1.0704716 , -1.4432238 ,  0.33100802,  0.66673386, -1.4355671 ,\n",
       "         -1.1280255 ,  1.2275023 ,  0.07868609, -0.55144054,  0.6107966 ,\n",
       "          0.09726198, -0.7456978 , -0.61808026, -0.94763345,  0.9130792 ,\n",
       "         -0.05461793, -0.00395256,  1.1369691 ,  0.05314958,  0.6721157 ,\n",
       "          0.13903013, -0.55536205,  0.03793033,  0.18234092,  1.4394319 ,\n",
       "         -0.5204522 , -0.7764701 ,  0.691271  , -1.0013975 , -0.74393165,\n",
       "         -0.29250962, -0.88867337, -0.46441585, -1.6299989 ,  1.4530978 ,\n",
       "          0.81273323,  1.7455736 , -0.07563272,  0.11563193,  1.0976971 ,\n",
       "         -1.1579669 ,  0.36612004, -0.27270818,  0.01633127, -1.202132  ,\n",
       "          2.6501327 ,  0.2970327 ,  1.1972235 ,  0.06770369,  0.3423711 ,\n",
       "         -1.3095361 , -0.37911865,  0.6307661 , -0.41013756,  2.2824707 ,\n",
       "          1.1316022 , -1.0327644 ,  0.17213768, -0.24048118,  0.3178658 ,\n",
       "         -1.0596484 , -0.26167494, -0.86735404, -0.49883845, -0.55315727,\n",
       "         -0.9345197 , -0.8989535 ,  0.3559203 ,  0.7822319 , -1.0476359 ,\n",
       "          1.3308691 ,  1.7841121 , -1.1535605 , -0.59116524, -2.3574593 ,\n",
       "         -0.29512197, -1.7193097 ,  1.0140545 ,  0.39758086, -0.9719378 ,\n",
       "         -1.839093  ,  0.48881584, -0.769505  ,  1.1066859 ,  1.2231729 ,\n",
       "         -1.2097143 , -0.05716558,  1.4268854 ,  0.0820664 ,  0.77241397,\n",
       "         -0.41773316,  1.8928152 , -0.458759  ,  1.4108067 , -0.69066995,\n",
       "         -0.4038804 , -0.6391013 ,  0.06275845, -0.36721578,  0.86428934,\n",
       "          0.18561898, -0.4227664 ,  2.3258276 ,  0.20448412,  0.2249725 ,\n",
       "         -1.8208754 , -0.9847782 ,  0.13251875, -0.5219537 , -1.4184619 ,\n",
       "          0.9966712 ,  1.4974368 , -0.1126417 , -0.79529995, -1.1669464 ,\n",
       "         -0.06688777, -0.63333285,  0.689732  ,  0.11060774, -0.81269485,\n",
       "         -0.02107242,  2.8306847 , -0.7039949 ,  1.7221969 , -1.4859511 ,\n",
       "          2.0136018 ,  0.6850619 , -0.07828674, -0.32071584, -0.1560958 ,\n",
       "         -0.30409145, -0.99885595,  0.4794259 ,  0.36965868, -0.20480637,\n",
       "          1.5493298 ,  0.68814296,  0.75704515,  0.1950245 , -0.9996316 ,\n",
       "          0.4487433 , -0.11718442, -0.20360105,  0.71677125, -0.0179486 ,\n",
       "          0.26881352,  0.21067713, -1.3502295 ,  0.3072808 , -1.5521523 ,\n",
       "          0.4758557 , -1.01845   ,  0.74325037,  0.02639288,  1.793552  ,\n",
       "          0.9752139 ,  0.44075698, -0.1007645 ,  1.3477132 ,  0.4143871 ,\n",
       "         -0.5570051 , -0.84664655, -0.15747364,  0.09719868, -1.8181591 ,\n",
       "          0.38783944,  1.1893275 ,  1.5310123 ,  0.5768451 ,  0.2641994 ,\n",
       "          0.42845845, -0.40457588,  0.26808578, -0.3719591 ,  1.1171439 ,\n",
       "         -0.74448675,  0.36441857,  1.5308318 , -0.015755  ,  0.2408535 ,\n",
       "         -1.7572666 ,  0.3043565 ,  0.5663416 , -1.2333022 , -1.7551492 ,\n",
       "          0.6530865 , -0.38553086, -1.3626235 ,  0.23789325, -0.34755525,\n",
       "          0.770173  ,  0.76618606,  1.2744114 , -1.5449858 , -0.12300274,\n",
       "         -0.2794799 ,  0.11810546,  1.410894  ,  0.3867596 , -0.35627612,\n",
       "         -1.7951506 , -0.21223189,  1.3734397 , -1.1372963 , -1.833572  ,\n",
       "         -1.093722  , -0.05204646, -0.63981223,  2.255355  , -0.60715294,\n",
       "         -0.32685557, -0.12313843,  0.47920024,  0.43840784, -0.89551765,\n",
       "         -0.9343782 , -1.3913074 , -1.301438  ,  0.08354507, -0.5520281 ,\n",
       "         -0.51226866,  0.9313265 ,  0.21442309,  1.2170631 , -0.41470444,\n",
       "          0.22270972, -0.7689622 ,  1.1422238 , -0.4100683 ,  0.06897405,\n",
       "          0.07280177, -0.8255476 , -1.1496472 ,  0.2665342 , -1.2830175 ,\n",
       "         -0.09412353,  1.0871875 , -0.2922029 , -0.04275458,  1.2023064 ,\n",
       "          0.5204363 ,  0.96286255, -0.22813822, -0.2384802 , -0.29124874,\n",
       "          0.53180826,  0.9926368 ,  0.23459539,  0.32473442, -0.6193206 ,\n",
       "          1.0530752 , -0.6571479 ,  1.0090101 , -0.01156347, -0.1559258 ,\n",
       "          0.40055707, -0.3348106 ,  0.01850203, -0.62713826, -0.00581008,\n",
       "         -0.4082313 , -0.62902254, -0.41694412,  0.42301667,  0.28740877,\n",
       "          1.2416711 ,  0.6901453 , -0.0393954 ,  0.12318278, -2.314309  ,\n",
       "         -1.1202673 ,  0.37372312, -2.1702428 ,  0.30791917,  0.20894256,\n",
       "          0.2861616 ,  1.2196937 , -0.28472796, -0.0120218 ,  1.9006072 ,\n",
       "         -1.6447977 ,  0.6306    ,  1.8208774 , -2.002781  , -0.92528605,\n",
       "         -0.2649725 , -0.27090245, -0.67971474,  0.37230963,  0.61576253,\n",
       "          0.66399115, -1.1873274 ,  1.833668  ,  0.24079433,  0.9902876 ,\n",
       "         -0.8452553 ,  0.7706044 , -1.0457145 , -1.4928406 , -1.8740667 ,\n",
       "          0.47394553, -1.2347938 , -1.8782418 , -0.74571574]],\n",
       "       dtype=float32)]"
      ]
     },
     "execution_count": 16,
     "metadata": {},
     "output_type": "execute_result"
    }
   ],
   "source": [
    "weights = [node.split_model.weight.numpy() for node in non_leaves]\n",
    "weights"
   ]
  },
  {
   "cell_type": "code",
   "execution_count": 17,
   "metadata": {},
   "outputs": [],
   "source": [
    "weights = np.array(weights)"
   ]
  },
  {
   "cell_type": "code",
   "execution_count": 18,
   "metadata": {},
   "outputs": [],
   "source": [
    "weights = weights.reshape(weights.shape[0], -1)"
   ]
  },
  {
   "cell_type": "code",
   "execution_count": 19,
   "metadata": {},
   "outputs": [
    {
     "data": {
      "image/png": "[encoded data removed]",
      "text/plain": [
       "<Figure size 640x480 with 1 Axes>"
      ]
     },
     "metadata": {},
     "output_type": "display_data"
    }
   ],
   "source": [
    "for i in range(weights.shape[0]):\n",
    "  plt.plot(weights[i])"
   ]
  },
  {
   "cell_type": "code",
   "execution_count": 20,
   "metadata": {},
   "outputs": [],
   "source": [
    "from sklearn.preprocessing import MinMaxScaler\n",
    "\n",
    "# Initialize MinMaxScaler\n",
    "scaler = MinMaxScaler()\n",
    "\n",
    "data_normalized = scaler.fit_transform(weights.T).T"
   ]
  },
  {
   "cell_type": "code",
   "execution_count": 21,
   "metadata": {},
   "outputs": [],
   "source": [
    "filtered_values_per_column = [data_normalized[i, :][data_normalized[i, :] > 0.9] for i in range(data_normalized.shape[0])]"
   ]
  },
  {
   "cell_type": "code",
   "execution_count": 22,
   "metadata": {},
   "outputs": [
    {
     "data": {
      "text/plain": [
       "(6, 769)"
      ]
     },
     "execution_count": 22,
     "metadata": {},
     "output_type": "execute_result"
    }
   ],
   "source": [
    "data_normalized.shape"
   ]
  },
  {
   "cell_type": "code",
   "execution_count": 23,
   "metadata": {},
   "outputs": [
    {
     "name": "stdout",
     "output_type": "stream",
     "text": [
      "334\n",
      "245\n",
      "155\n",
      "90\n",
      "89\n",
      "59\n"
     ]
    }
   ],
   "source": [
    "for node in non_leaves:\n",
    "  print(node.num_instances)"
   ]
  },
  {
   "cell_type": "code",
   "execution_count": 24,
   "metadata": {},
   "outputs": [
    {
     "data": {
      "text/plain": [
       "array([0.02643487, 0.02472167, 0.04255979, 0.04569283, 0.0301308 ,\n",
       "       0.02505177, 0.02875092, 0.02818079, 0.03744941, 0.02773552,\n",
       "       0.02210941, 0.02654771, 0.0206581 , 0.02412193, 0.04725217,\n",
       "       0.03563256, 0.03345479, 0.04214158, 0.04801473, 0.03214977,\n",
       "       0.03497501, 0.02104316, 0.04343548, 0.03843815, 0.03873242,\n",
       "       0.03965694, 0.03244413, 0.04233281, 0.02668666, 0.03237953,\n",
       "       0.01570172, 0.04470658, 0.02908516, 0.02417337, 0.02563858,\n",
       "       0.0294671 , 0.03816049, 0.03780328, 0.03194529, 0.04449261,\n",
       "       0.03451882, 0.0157875 , 0.02881104, 0.0282724 , 0.04056699,\n",
       "       0.02662699, 0.03072673, 0.03745367, 0.05376411, 0.03491482,\n",
       "       0.03025232, 0.0342459 , 0.02443608, 0.03491497, 0.02234661,\n",
       "       0.03106368, 0.04526774, 0.04155849, 0.        , 0.02596689,\n",
       "       0.02961288, 0.02400807, 0.03854871, 0.03927328, 0.02610736,\n",
       "       0.02473207, 0.0169287 , 0.0211952 , 0.02755124, 0.05898166,\n",
       "       0.02478036, 0.0283148 , 0.03144334, 0.05102547, 0.0329313 ,\n",
       "       0.03356799, 0.02561582, 0.0341626 , 0.03519152, 0.03144092,\n",
       "       0.03585983, 0.02619524, 0.04893903, 0.06456536, 0.02758592,\n",
       "       0.03627216, 0.03014364, 0.03698728, 0.04316045, 0.04798364,\n",
       "       0.04342496, 0.03805221, 0.02574596, 0.03823619, 0.04626263,\n",
       "       0.03661443, 0.036817  , 0.03003608, 0.05750065, 0.04195759,\n",
       "       0.03408502, 0.04309585, 0.02114722, 0.02735185, 0.02889897,\n",
       "       0.03048644, 0.04504342, 0.03291379, 0.02592033, 0.03235907,\n",
       "       0.03493439, 0.04478361, 0.04672032, 0.02914994, 0.0266333 ,\n",
       "       0.02976905, 0.03832749, 0.03071879, 0.02739572, 0.04403583,\n",
       "       0.02044029, 0.03365238, 0.03330288, 0.0281476 , 0.02890174,\n",
       "       0.02096158, 0.03148512, 0.03575758, 0.02723051, 0.02005735,\n",
       "       0.03999946, 0.02207756, 0.03397179, 0.04111741, 0.04845554,\n",
       "       0.02820504, 0.03955236, 0.03412068, 0.0445496 , 0.04882054,\n",
       "       0.00091705, 0.01426096, 0.04471872, 0.01051443, 0.03605057,\n",
       "       0.03539331, 0.03620996, 0.02213276, 0.02075908, 0.06603298,\n",
       "       0.04301826, 0.05086558, 0.02744696, 0.02647384, 0.04060058,\n",
       "       0.03169083, 0.03763866, 0.04871152, 0.03729642, 0.04264694,\n",
       "       0.03246533, 0.02981908, 0.0384107 , 0.04148881, 0.04383226,\n",
       "       0.03671892, 0.03735971, 0.02281764, 0.02658018, 0.03060259,\n",
       "       0.02553406, 0.0330757 , 0.03280361, 0.04494426, 0.03323067,\n",
       "       0.0342712 , 0.04732529, 0.03813712, 0.03225183, 0.03138696,\n",
       "       0.02852729, 0.04443862, 0.02833429, 0.03650661, 0.05608243,\n",
       "       0.02815404, 0.04011846, 0.03444327, 0.03009496, 0.04228715,\n",
       "       0.03302395, 0.03667016, 0.05017077, 0.04780661, 0.02811826,\n",
       "       0.0373515 , 0.03783843, 0.03384303, 0.0265573 , 0.03473873,\n",
       "       0.02118308, 0.03274336, 0.01909095, 0.04690641, 0.04814132,\n",
       "       0.03123654, 0.05351162, 0.05106506, 0.01967499, 0.02674272,\n",
       "       0.02944722, 0.02472811, 0.02994914, 0.03586424, 0.03175475,\n",
       "       0.04537599, 0.04113652, 0.02021859, 0.03729517, 0.04727747,\n",
       "       0.03731951, 0.05400796, 0.01918075, 0.03368631, 0.02002709,\n",
       "       0.03204945, 0.02713029, 0.02495295, 0.03922529, 0.03911315,\n",
       "       0.02348302, 0.0448185 , 0.01142573, 0.02619378, 0.02989289,\n",
       "       0.04115815, 0.04056846, 0.03939678, 0.04156232, 0.02216529,\n",
       "       0.0410281 , 0.05491542, 0.05653355, 0.00025175, 0.02362426,\n",
       "       0.03699895, 0.04923974, 0.0375102 , 0.02832422, 0.0284735 ,\n",
       "       0.0365944 , 0.03923882, 0.01899542, 0.02887464, 0.03230768,\n",
       "       0.03603874, 0.03592779, 0.03479449, 0.03885736, 0.0259836 ,\n",
       "       0.03333529, 0.05220246, 0.03363468, 0.03222613, 0.00704182,\n",
       "       0.04213052, 0.03296346, 0.04699532, 0.02647543, 0.02691139,\n",
       "       0.0395042 , 0.03249486, 0.01708192, 0.0509559 , 0.03627962,\n",
       "       0.02478943, 0.05865954, 0.02957812, 0.04651686, 0.02651051,\n",
       "       0.02436809, 0.02318708, 0.04776555, 0.03054897, 0.03880354,\n",
       "       0.03263553, 0.03003738, 0.02858093, 0.03713282, 0.03416392,\n",
       "       0.04820075, 0.04665747, 0.0233434 , 0.02732192, 0.02447084,\n",
       "       0.04296798, 0.04430098, 0.04128144, 0.03780326, 0.03868553,\n",
       "       0.02584081, 0.01136291, 0.03255273, 0.02584358, 0.03753879,\n",
       "       0.02756183, 0.0236213 , 0.02205981, 0.03057314, 0.04088598,\n",
       "       0.03291381, 0.03107968, 0.03446914, 0.02851188, 0.05090742,\n",
       "       0.04483634, 0.03074433, 0.02746236, 0.01947306, 0.05049473,\n",
       "       0.02675405, 0.01432811, 0.04852773, 0.05421465, 0.02404898,\n",
       "       0.03565001, 0.03052096, 0.03578914, 0.03917139, 0.02183839,\n",
       "       0.03059824, 0.03906253, 0.05475629, 0.04295755, 0.03549136,\n",
       "       0.03768471, 0.02919138, 0.05345739, 0.03651991, 0.03581121,\n",
       "       0.06411578, 0.03759605, 0.04475359, 0.04885045, 0.02538667,\n",
       "       0.05957043, 0.03830135, 0.01892508, 0.04976379, 0.03298697,\n",
       "       0.02793555, 0.03267758, 0.04250154, 0.04281256, 0.03712104,\n",
       "       0.02921738, 0.02332369, 0.01586756, 0.02332449, 0.03896797,\n",
       "       0.05224542, 0.05206307, 0.03336401, 0.01203314, 0.05880234,\n",
       "       0.02999676, 0.03222296, 0.04046571, 0.03831416, 0.04629736,\n",
       "       0.05043981, 0.03631481, 0.03506653, 0.03339893, 0.03281913,\n",
       "       0.04378988, 0.04805197, 0.03571   , 0.04309206, 0.0416465 ,\n",
       "       0.03665869, 0.0426357 , 0.04625839, 0.03838092, 0.02948138,\n",
       "       0.01651878, 0.03698707, 0.03963031, 0.05161718, 0.02531536,\n",
       "       0.03777575, 0.04584911, 0.03221774, 0.0323661 , 0.03339985,\n",
       "       0.03195084, 0.02814345, 0.04567149, 0.03833447, 0.05406997,\n",
       "       0.04002758, 0.02961153, 0.02246766, 0.00452787, 0.04548756,\n",
       "       0.03548209, 0.02157647, 0.03725958, 0.03368343, 0.01730294,\n",
       "       0.03599426, 0.03726899, 0.03355476, 0.04995373, 0.04620809,\n",
       "       0.04445018, 0.0220063 , 0.02553743, 0.03210216, 0.03327523,\n",
       "       0.04666382, 0.02879146, 0.04136472, 0.02981159, 0.02645608,\n",
       "       0.04086843, 0.02652111, 0.04577821, 0.03376587, 0.00693806,\n",
       "       0.02130969, 0.02280154, 0.05175426, 0.0294922 , 0.0194493 ,\n",
       "       0.04886248, 0.02638651, 0.02932566, 0.0439301 , 0.03129206,\n",
       "       0.03642971, 0.02499481, 0.05853965, 0.04301528, 0.02862212,\n",
       "       0.03381614, 0.03888031, 0.02691828, 0.02546416, 0.02310847,\n",
       "       0.04285597, 0.03502261, 0.03535401, 0.03179775, 0.02035668,\n",
       "       0.03509202, 0.01722621, 0.02771863, 0.04631511, 0.0436135 ,\n",
       "       0.03714602, 0.03876741, 0.04942284, 0.02330092, 0.03940583,\n",
       "       0.04736768, 0.03144908, 0.03031124, 0.03518572, 0.04359933,\n",
       "       0.04638965, 0.0371776 , 0.04176817, 0.04487496, 0.04472495,\n",
       "       0.05074192, 0.04026455, 0.0393534 , 0.06025786, 0.05031206,\n",
       "       0.03163154, 0.02707823, 0.03596622, 0.03787507, 0.01624709,\n",
       "       0.02831895, 0.03393188, 0.04113075, 0.0294038 , 0.02964224,\n",
       "       0.02663403, 0.03846609, 0.02788254, 0.03131822, 0.0309472 ,\n",
       "       0.02383013, 0.03720953, 0.03283725, 0.03305177, 0.03304726,\n",
       "       0.02600006, 0.03608183, 0.01392815, 0.0320722 , 0.03065665,\n",
       "       0.03908496, 0.03528496, 0.0358068 , 0.03077682, 0.02243521,\n",
       "       0.02920931, 0.02941914, 0.04856865, 0.04396105, 0.03168185,\n",
       "       0.03038212, 0.03263866, 0.03797735, 0.02639546, 0.02574072,\n",
       "       0.01434822, 0.03062034, 0.02947726, 0.03397664, 0.05147113,\n",
       "       0.05501953, 0.03086113, 0.02415535, 0.05521569, 0.02521923,\n",
       "       0.03905185, 0.04488406, 0.02142133, 0.01717538, 0.01674895,\n",
       "       0.04486934, 0.03331502, 0.04120429, 0.04318986, 0.02958889,\n",
       "       0.03904492, 0.01867737, 0.01759802, 0.0284969 , 0.03279583,\n",
       "       0.03707662, 0.03457752, 0.05500466, 0.03459176, 0.03881272,\n",
       "       0.0314464 , 0.01274902, 0.0361459 , 0.0508492 , 0.03137998,\n",
       "       0.04546279, 0.04763792, 0.04299443, 0.03283702, 0.03085658,\n",
       "       0.02735543, 0.02890651, 0.03119693, 0.0286513 , 0.04651506,\n",
       "       0.02558101, 0.03297165, 0.02821299, 0.03205749, 0.02871595,\n",
       "       0.03519187, 0.04026499, 0.04583305, 0.04365422, 0.04011508,\n",
       "       0.02476423, 0.0210652 , 0.04770504, 0.03885595, 0.0368893 ,\n",
       "       0.03800712, 0.05200999, 0.064441  , 0.06052851, 0.03626724,\n",
       "       0.04127551, 0.05243694, 0.0378377 , 0.03722226, 0.0122657 ,\n",
       "       0.04825821, 0.01873016, 0.02782758, 0.01855463, 0.04083578,\n",
       "       0.04963241, 0.03588782, 0.04743396, 0.04325503, 0.03536457,\n",
       "       0.02906717, 0.033382  , 0.03388215, 0.0406888 , 0.03128561,\n",
       "       0.04097928, 0.03378272, 0.02767253, 0.0303405 , 0.04000476,\n",
       "       0.02845316, 0.017316  , 0.04682897, 0.02362534, 0.02638657,\n",
       "       0.0378788 , 0.02185853, 0.02645749, 0.04399174, 0.04269023,\n",
       "       0.03743443, 0.04463299, 0.01630085, 0.02897049, 0.03445246,\n",
       "       0.0230211 , 0.035824  , 0.03962667, 0.02817966, 0.032595  ,\n",
       "       0.02630205, 0.02305425, 0.03859182, 0.0370821 , 0.04650787,\n",
       "       0.0287239 , 0.04645754, 0.02639658, 0.03052613, 0.03049652,\n",
       "       0.04454598, 0.01617303, 0.04364201, 0.03359243, 0.02815065,\n",
       "       0.03301711, 0.04121317, 0.03899341, 0.02788954, 0.038395  ,\n",
       "       0.02334568, 0.04029081, 0.02876028, 0.0317384 , 0.03490583,\n",
       "       0.04588966, 0.03324863, 0.06248296, 0.05738215, 0.04417562,\n",
       "       0.02378261, 0.02193804, 0.03320802, 0.02084622, 0.03281768,\n",
       "       0.02366791, 0.04246553, 0.0466616 , 0.02880584, 0.03647278,\n",
       "       0.02005193, 0.05431942, 0.03724036, 0.02780486, 0.03364814,\n",
       "       0.06082564, 0.03124246, 0.01589196, 0.05189672, 0.03470854,\n",
       "       0.03969128, 0.0396635 , 0.04075175, 0.03875159, 0.02731282,\n",
       "       0.02459348, 0.04578686, 0.02229598, 0.04445599, 0.01169767,\n",
       "       0.04555041, 0.02109726, 0.03250889, 0.0102274 , 0.01602841,\n",
       "       0.03103942, 0.0366058 , 0.0305916 , 0.01953416, 0.04320848,\n",
       "       0.04191549, 0.03740749, 0.0313822 , 0.03169832, 0.03205981,\n",
       "       0.03830937, 0.04045051, 0.02578271, 0.0447442 , 0.02191734,\n",
       "       0.01672357, 0.03233359, 0.03954974, 0.03687878, 0.02104869,\n",
       "       0.03063871, 0.02739961, 0.02725083, 0.02675016, 0.04122297,\n",
       "       0.04647045, 0.02262998, 0.04494041, 0.03488102, 0.04209884,\n",
       "       0.02520725, 0.03894384, 0.0387528 , 0.04343696, 0.02656358,\n",
       "       0.01962923, 0.05392604, 0.04378578, 0.02621032, 0.02867064,\n",
       "       0.02897221, 0.02693845, 0.02811914, 0.04264503, 0.0238085 ,\n",
       "       0.04339839, 0.0307194 , 0.04999822, 0.04895814, 0.02903263,\n",
       "       0.04299683, 0.0257449 , 0.02268327, 0.03661641, 0.04568521,\n",
       "       0.02450441, 0.01954177, 0.0489848 , 0.04183832, 0.0206017 ,\n",
       "       0.04429356, 0.07150543, 0.04856879, 0.0290339 , 0.01024626,\n",
       "       0.02783573, 0.03680932, 0.04716588, 0.0382278 , 0.03867923,\n",
       "       0.05392176, 0.02505437, 0.0372143 , 0.03767173], dtype=float32)"
      ]
     },
     "execution_count": 24,
     "metadata": {},
     "output_type": "execute_result"
    }
   ],
   "source": [
    "non_leaves[0].num_instances/model.num_training_instances*(data_normalized[0, :]/np.linalg.norm(data_normalized[0, :]))"
   ]
  },
  {
   "cell_type": "code",
   "execution_count": 25,
   "metadata": {},
   "outputs": [],
   "source": [
    "importances = torch.zeros((data_normalized.shape[1]))\n",
    "for i, node in enumerate(non_leaves):\n",
    "  importances += node.num_instances/model.num_training_instances*(data_normalized[i, :]/np.linalg.norm(data_normalized[i, :]))"
   ]
  },
  {
   "cell_type": "code",
   "execution_count": 26,
   "metadata": {},
   "outputs": [
    {
     "data": {
      "text/plain": [
       "torch.return_types.topk(\n",
       "values=tensor([0.1409, 0.1390, 0.1389, 0.1387, 0.1380, 0.1376, 0.1352, 0.1344, 0.1343,\n",
       "        0.1342]),\n",
       "indices=tensor([556, 627, 276, 572, 658, 671,  48, 756, 342, 462]))"
      ]
     },
     "execution_count": 26,
     "metadata": {},
     "output_type": "execute_result"
    }
   ],
   "source": [
    "torch.topk(importances, k=10)"
   ]
  },
  {
   "cell_type": "code",
   "execution_count": 30,
   "metadata": {},
   "outputs": [
    {
     "data": {
      "text/plain": [
       "{'platelet_141': 0.14091509580612183,\n",
       " 'platelet_242': 0.13900962471961975,\n",
       " 'copper_71': 0.13887152075767517,\n",
       " 'platelet_166': 0.13873301446437836,\n",
       " 'platelet_281': 0.13799962401390076,\n",
       " 'platelet_298': 0.13761702179908752,\n",
       " 'chol_222': 0.13518749177455902,\n",
       " 'platelet_475': 0.13435257971286774,\n",
       " 'copper_199': 0.1342909336090088,\n",
       " 'trig_143': 0.1341859996318817}"
      ]
     },
     "execution_count": 30,
     "metadata": {},
     "output_type": "execute_result"
    }
   ],
   "source": [
    "dict(zip(X_train.columns[torch.topk(importances, k=10).indices.tolist()].tolist(), torch.topk(importances, k=10).values.tolist()))"
   ]
  },
  {
   "cell_type": "markdown",
   "metadata": {},
   "source": [
    "# After implementation"
   ]
  },
  {
   "cell_type": "code",
   "execution_count": 9,
   "metadata": {},
   "outputs": [
    {
     "ename": "ValueError",
     "evalue": "cannot reshape array of size 0 into shape (0,newaxis)",
     "output_type": "error",
     "traceback": [
      "\u001b[0;31m---------------------------------------------------------------------------\u001b[0m",
      "\u001b[0;31mValueError\u001b[0m                                Traceback (most recent call last)",
      "Cell \u001b[0;32mIn[9], line 1\u001b[0m\n\u001b[0;32m----> 1\u001b[0m model\u001b[39m.\u001b[39;49mfeature_importances(k\u001b[39m=\u001b[39;49m\u001b[39m10\u001b[39;49m)\n",
      "File \u001b[0;32m~/IJS/phd/bayes_spyct/notebooks/../src/models/model.py:156\u001b[0m, in \u001b[0;36mVSpyct.feature_importances\u001b[0;34m(self, k)\u001b[0m\n\u001b[1;32m    154\u001b[0m traverse(\u001b[39mself\u001b[39m\u001b[39m.\u001b[39mroot_node)\n\u001b[1;32m    155\u001b[0m weights \u001b[39m=\u001b[39m np\u001b[39m.\u001b[39marray([node\u001b[39m.\u001b[39msplit_model\u001b[39m.\u001b[39mweight\u001b[39m.\u001b[39mnumpy() \u001b[39mfor\u001b[39;00m node \u001b[39min\u001b[39;00m non_leaves])\n\u001b[0;32m--> 156\u001b[0m weights \u001b[39m=\u001b[39m weights\u001b[39m.\u001b[39;49mreshape(weights\u001b[39m.\u001b[39;49mshape[\u001b[39m0\u001b[39;49m], \u001b[39m-\u001b[39;49m\u001b[39m1\u001b[39;49m)\n\u001b[1;32m    157\u001b[0m weights_normalized \u001b[39m=\u001b[39m (weights \u001b[39m-\u001b[39m weights\u001b[39m.\u001b[39mmin()) \u001b[39m/\u001b[39m (weights\u001b[39m.\u001b[39mmax() \u001b[39m-\u001b[39m weights\u001b[39m.\u001b[39mmin() \u001b[39m+\u001b[39m \u001b[39m0.0001\u001b[39m)\n\u001b[1;32m    158\u001b[0m \u001b[39mprint\u001b[39m(weights_normalized)\n",
      "\u001b[0;31mValueError\u001b[0m: cannot reshape array of size 0 into shape (0,newaxis)"
     ]
    }
   ],
   "source": [
    "model.feature_importances(k=10)"
   ]
  },
  {
   "cell_type": "code",
   "execution_count": 13,
   "metadata": {},
   "outputs": [
    {
     "data": {
      "text/plain": [
       "tensor([0.1017, 0.1387, 0.1208, 0.0893, 0.1068, 0.1069, 0.0927, 0.1229, 0.0943,\n",
       "        0.0733, 0.1183, 0.0772, 0.0972, 0.0830, 0.0855, 0.0932, 0.1231, 0.1026,\n",
       "        0.1223, 0.1092, 0.1104, 0.0810, 0.0929, 0.0958, 0.1066, 0.0847, 0.0809,\n",
       "        0.0702, 0.1255, 0.0920, 0.1094, 0.1140, 0.1077, 0.0937, 0.1113, 0.0963,\n",
       "        0.0802, 0.0948, 0.0825, 0.1045, 0.1040, 0.0737, 0.1042, 0.1204, 0.0923,\n",
       "        0.1000, 0.0828, 0.0981, 0.0965, 0.0996, 0.0851, 0.1046, 0.1215, 0.0892,\n",
       "        0.1000, 0.0789, 0.1043, 0.1125, 0.1180, 0.0991, 0.1111, 0.1106, 0.1082,\n",
       "        0.1000, 0.1132, 0.0961, 0.1112, 0.0803, 0.1106, 0.0829, 0.1056, 0.0864,\n",
       "        0.0734, 0.1031, 0.1134, 0.0864, 0.0823, 0.0904, 0.0946, 0.1326, 0.0822,\n",
       "        0.0928, 0.0900, 0.1078, 0.1022, 0.1089, 0.1081, 0.1001, 0.1319, 0.0909,\n",
       "        0.1031, 0.1018, 0.1085, 0.1122, 0.1064, 0.1187, 0.1188, 0.0992, 0.0958,\n",
       "        0.1066, 0.1211, 0.1161, 0.0850, 0.1182, 0.1020, 0.1085, 0.1048, 0.1091,\n",
       "        0.1165, 0.1120, 0.1050, 0.1207, 0.1001, 0.0895, 0.1000, 0.1059, 0.1151,\n",
       "        0.0984, 0.0901, 0.1182, 0.0927, 0.0900, 0.0989, 0.1007, 0.0988, 0.0896,\n",
       "        0.1110, 0.1005, 0.0953, 0.1113, 0.0972, 0.0843, 0.0906, 0.1217, 0.1195,\n",
       "        0.1028, 0.0983, 0.0912, 0.1116, 0.1150, 0.0873, 0.0996, 0.1136, 0.0970,\n",
       "        0.0887, 0.0894, 0.1072, 0.1025, 0.0858, 0.1091, 0.0807, 0.0971, 0.1203,\n",
       "        0.0889, 0.1044, 0.1197, 0.1146, 0.0978, 0.1001, 0.1208, 0.0918, 0.0892,\n",
       "        0.0991, 0.0866, 0.0965, 0.0913, 0.0873, 0.0641, 0.0909, 0.0941, 0.1056,\n",
       "        0.0993, 0.0905, 0.1084, 0.0953, 0.1035, 0.0947, 0.0905, 0.1053, 0.0738,\n",
       "        0.1072, 0.1090, 0.0878, 0.1008, 0.1207, 0.0854, 0.1175, 0.0731, 0.0916,\n",
       "        0.0909, 0.1113, 0.1118, 0.0868, 0.1003, 0.1014, 0.1028, 0.0885, 0.0703,\n",
       "        0.1298, 0.0978, 0.0926, 0.0978, 0.0899, 0.1173, 0.1173, 0.0873, 0.0996,\n",
       "        0.0916, 0.0864, 0.1027, 0.1037, 0.0978, 0.1038, 0.1103, 0.0972, 0.0773,\n",
       "        0.1010, 0.0820, 0.1037, 0.0943, 0.1017, 0.1298, 0.0930, 0.0701, 0.1227,\n",
       "        0.1277, 0.1011, 0.1059, 0.0936, 0.1242, 0.1094, 0.0904, 0.0957, 0.1064,\n",
       "        0.0977, 0.0926, 0.1114, 0.1009, 0.0896, 0.1091, 0.1397, 0.1093, 0.1288,\n",
       "        0.0954, 0.1096, 0.0863, 0.0902, 0.0942, 0.1186, 0.0971, 0.1133, 0.1111,\n",
       "        0.1186, 0.0965, 0.0919, 0.1046, 0.0909, 0.1136, 0.1108, 0.1073, 0.1313,\n",
       "        0.1235, 0.1052, 0.0959, 0.1186, 0.1078, 0.0973, 0.1263, 0.0756, 0.0672,\n",
       "        0.0923, 0.1118, 0.1039, 0.1012, 0.1087, 0.1041, 0.1078, 0.0864, 0.1097,\n",
       "        0.0768, 0.1008, 0.0807, 0.1081, 0.1289, 0.0892, 0.0851, 0.0823, 0.0993,\n",
       "        0.1089, 0.1138, 0.0812, 0.0934, 0.0850, 0.0804, 0.0985, 0.0876, 0.1064,\n",
       "        0.1118, 0.0799, 0.0962, 0.0931, 0.1011, 0.0867, 0.0916, 0.1091, 0.0975,\n",
       "        0.1146, 0.0985, 0.1052, 0.0957, 0.0820, 0.1158, 0.1051, 0.1218, 0.0779,\n",
       "        0.0957, 0.0924, 0.0842, 0.0944, 0.0907, 0.0956, 0.0974, 0.1196, 0.1087,\n",
       "        0.1169, 0.0825, 0.1168, 0.0814, 0.0938, 0.1073, 0.1070, 0.0960, 0.0936,\n",
       "        0.0905, 0.1073, 0.0945, 0.1207, 0.1296, 0.0791, 0.1084, 0.0947, 0.0840,\n",
       "        0.0887, 0.0814, 0.1060, 0.1141, 0.1008, 0.1246, 0.0951, 0.0823, 0.1168,\n",
       "        0.0934, 0.0862, 0.1014, 0.0946, 0.1190, 0.1238, 0.0975, 0.1110, 0.0927,\n",
       "        0.0966, 0.1256, 0.1184, 0.0905, 0.1061, 0.0695, 0.0985, 0.1004, 0.1083,\n",
       "        0.0991, 0.0987, 0.1004, 0.0944, 0.0994, 0.1085, 0.0768, 0.0954, 0.1133,\n",
       "        0.1072, 0.0901, 0.1279, 0.0954, 0.0814, 0.1020, 0.1025, 0.1067, 0.0938,\n",
       "        0.0821, 0.1189, 0.0797, 0.0910, 0.1091, 0.1120, 0.0943, 0.0931, 0.1049,\n",
       "        0.0966, 0.0897, 0.1218, 0.1240, 0.0922, 0.1067, 0.1259, 0.1116, 0.0785,\n",
       "        0.0980, 0.1047, 0.1199, 0.0976, 0.1016, 0.0807, 0.0734, 0.1178, 0.1039,\n",
       "        0.0904, 0.0905, 0.0819, 0.1207, 0.0911, 0.0890, 0.1099, 0.1061, 0.1088,\n",
       "        0.1040, 0.1087, 0.0884, 0.0856, 0.0839, 0.1050, 0.1106, 0.0947, 0.1011,\n",
       "        0.0931, 0.1192, 0.0954, 0.0939, 0.0950, 0.1419, 0.1192, 0.0944, 0.1034,\n",
       "        0.0947, 0.0919, 0.1073, 0.1000, 0.1311, 0.0962, 0.1051, 0.0811, 0.0976,\n",
       "        0.0987, 0.1009, 0.0949, 0.1247, 0.1099, 0.0832, 0.0912, 0.1083, 0.1122,\n",
       "        0.0930, 0.1309, 0.1005, 0.0682, 0.1259, 0.1091, 0.1035, 0.1332, 0.1186,\n",
       "        0.0801, 0.1077, 0.1067, 0.1072, 0.0996, 0.1209, 0.1045, 0.0990, 0.0958,\n",
       "        0.1087, 0.0705, 0.0939, 0.0820, 0.1029, 0.1035, 0.0852, 0.1007, 0.0908,\n",
       "        0.0956, 0.1168, 0.0865, 0.1110, 0.0846, 0.1009, 0.0929, 0.1076, 0.1149,\n",
       "        0.1072, 0.1167, 0.1002, 0.1164, 0.1124, 0.1268, 0.0871, 0.0918, 0.0838,\n",
       "        0.0978, 0.0879, 0.1002, 0.1108, 0.1078, 0.1037, 0.1128, 0.0991, 0.1125,\n",
       "        0.0915, 0.1007, 0.1121, 0.1194, 0.0968, 0.1088, 0.0990, 0.1094, 0.0885,\n",
       "        0.0947, 0.0940, 0.0985, 0.0860, 0.1104, 0.1051, 0.1016, 0.1061, 0.0873,\n",
       "        0.1006, 0.1258, 0.1036, 0.1006, 0.1211, 0.0730, 0.0644, 0.0983, 0.1056,\n",
       "        0.1103, 0.1404, 0.1006, 0.0764, 0.0848, 0.1110, 0.1079, 0.1030, 0.1134,\n",
       "        0.1026, 0.0827, 0.0826, 0.0947, 0.0995, 0.1102, 0.1030, 0.0906, 0.0730,\n",
       "        0.0918, 0.1107, 0.0889, 0.0682, 0.0980, 0.0799, 0.0988, 0.0940, 0.1018,\n",
       "        0.1040, 0.1251, 0.0820, 0.0895, 0.1076, 0.0942, 0.0879, 0.0778, 0.1275,\n",
       "        0.0890, 0.0868, 0.0819, 0.0877, 0.0962, 0.0990, 0.0942, 0.0891, 0.1020,\n",
       "        0.1120, 0.1234, 0.1246, 0.1137, 0.0926, 0.0836, 0.0982, 0.0871, 0.0804,\n",
       "        0.1127, 0.0837, 0.1108, 0.1012, 0.1104, 0.1166, 0.1188, 0.0875, 0.1005,\n",
       "        0.0840, 0.1164, 0.0945, 0.0982, 0.0882, 0.0954, 0.1077, 0.1174, 0.1015,\n",
       "        0.1187, 0.0903, 0.1255, 0.1050, 0.1069, 0.0982, 0.1013, 0.0933, 0.0889,\n",
       "        0.1089, 0.1207, 0.1053, 0.1100, 0.1320, 0.1126, 0.1036, 0.0769, 0.1008,\n",
       "        0.1226, 0.1073, 0.1043, 0.0932, 0.1093, 0.1158, 0.0980, 0.1068, 0.1038,\n",
       "        0.1190, 0.1095, 0.1146, 0.1000, 0.1121, 0.1473, 0.0815, 0.0878, 0.0989,\n",
       "        0.0902, 0.0950, 0.0959, 0.1078, 0.0971, 0.0984, 0.1076, 0.0894, 0.1027,\n",
       "        0.0973, 0.0846, 0.1137, 0.1061, 0.0963, 0.0837, 0.1133, 0.1022, 0.1106,\n",
       "        0.1158, 0.1045, 0.1054, 0.0907, 0.1172, 0.0830, 0.1068, 0.1043, 0.0964,\n",
       "        0.0967, 0.0903, 0.1159, 0.0977, 0.0923, 0.0953, 0.1032, 0.1038, 0.0982,\n",
       "        0.0687, 0.1005, 0.0895, 0.0814, 0.0921, 0.0835, 0.0792, 0.0767, 0.1134,\n",
       "        0.1140, 0.0895, 0.1034, 0.1066, 0.1237, 0.1067, 0.1214, 0.1305, 0.0920,\n",
       "        0.0976, 0.1149, 0.1037, 0.1018, 0.0979, 0.1146, 0.0910, 0.1208, 0.0826,\n",
       "        0.0990, 0.0963, 0.0646, 0.0769, 0.0953, 0.0963, 0.0983, 0.0923, 0.0864,\n",
       "        0.1128, 0.1017, 0.1054, 0.1125, 0.1050, 0.0896, 0.0938, 0.1123, 0.1118,\n",
       "        0.1138, 0.1247, 0.0972, 0.1144, 0.1158, 0.0975, 0.1006, 0.0868, 0.0982,\n",
       "        0.0819, 0.1210, 0.0827, 0.1127, 0.1261, 0.1075, 0.1077, 0.1179, 0.1022,\n",
       "        0.1001, 0.0908, 0.0930, 0.0983, 0.1109, 0.1167, 0.0882, 0.1102, 0.0856,\n",
       "        0.0974, 0.1006, 0.0605, 0.0862, 0.1223, 0.1139, 0.0917, 0.1051, 0.1301,\n",
       "        0.0764, 0.1080, 0.1186, 0.0837])"
      ]
     },
     "execution_count": 13,
     "metadata": {},
     "output_type": "execute_result"
    }
   ],
   "source": [
    "model.feature_importances()"
   ]
  },
  {
   "cell_type": "code",
   "execution_count": 61,
   "metadata": {},
   "outputs": [],
   "source": []
  },
  {
   "cell_type": "code",
   "execution_count": 67,
   "metadata": {},
   "outputs": [
    {
     "data": {
      "text/plain": [
       "{103: 0.13976873457431793,\n",
       " 191: 0.1384929120540619,\n",
       " 46: 0.1376630961894989,\n",
       " 327: 0.13457389175891876,\n",
       " 706: 0.1341658979654312,\n",
       " 506: 0.1338818371295929,\n",
       " 566: 0.13257694244384766,\n",
       " 299: 0.13046687841415405,\n",
       " 428: 0.1292688548564911,\n",
       " 341: 0.1291639357805252,\n",
       " 664: 0.12835951149463654,\n",
       " 260: 0.12761543691158295,\n",
       " 457: 0.12722422182559967,\n",
       " 643: 0.12637358903884888,\n",
       " 122: 0.1263273060321808,\n",
       " 346: 0.12624722719192505,\n",
       " 149: 0.12590552866458893,\n",
       " 153: 0.1256956309080124,\n",
       " 499: 0.1252218782901764,\n",
       " 56: 0.12486760318279266}"
      ]
     },
     "execution_count": 67,
     "metadata": {},
     "output_type": "execute_result"
    }
   ],
   "source": [
    "feature_importances(model, k=20)"
   ]
  },
  {
   "cell_type": "code",
   "execution_count": null,
   "metadata": {},
   "outputs": [],
   "source": []
  }
 ],
 "metadata": {
  "kernelspec": {
   "display_name": "base",
   "language": "python",
   "name": "python3"
  },
  "language_info": {
   "codemirror_mode": {
    "name": "ipython",
    "version": 3
   },
   "file_extension": ".py",
   "mimetype": "text/x-python",
   "name": "python",
   "nbconvert_exporter": "python",
   "pygments_lexer": "ipython3",
   "version": "3.8.17"
  },
  "orig_nbformat": 4,
  "vscode": {
   "interpreter": {
    "hash": "cc7277dfab6d5d4897e99b5cc736f9228836f1dda1604709a8d9bb8c8b4a4da5"
   }
  }
 },
 "nbformat": 4,
 "nbformat_minor": 2
}
