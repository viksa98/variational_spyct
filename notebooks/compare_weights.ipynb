{
 "cells": [
  {
   "cell_type": "code",
   "execution_count": 1,
   "metadata": {},
   "outputs": [
    {
     "name": "stderr",
     "output_type": "stream",
     "text": [
      "/Users/viktorandonovic/miniconda3/lib/python3.8/site-packages/tqdm/auto.py:21: TqdmWarning: IProgress not found. Please update jupyter and ipywidgets. See https://ipywidgets.readthedocs.io/en/stable/user_install.html\n",
      "  from .autonotebook import tqdm as notebook_tqdm\n"
     ]
    }
   ],
   "source": [
    "import pandas as pd\n",
    "import numpy as np\n",
    "import torch\n",
    "import os\n",
    "import sys\n",
    "import matplotlib.pyplot as plt\n",
    "\n",
    "sys.path.append('..')\n",
    "from src.models.model import VSpyct\n",
    "from src.utils import (calculate_bs, fix_predictions, plot_brier)\n",
    "from src.data.dataset import SurvivalDataset\n",
    "from src.eval import IPCWBrier"
   ]
  },
  {
   "cell_type": "code",
   "execution_count": 2,
   "metadata": {},
   "outputs": [
    {
     "name": "stdout",
     "output_type": "stream",
     "text": [
      "   id  time  status trt        age sex ascites hepato spiders  edema  bili  \\\n",
      "0   1   400       2   1  58.765229   f       1      1       1    1.0  14.5   \n",
      "1   2  4500       0   1  56.446270   f       0      1       1    0.0   1.1   \n",
      "2   3  1012       2   1  70.072553   m       0      0       0    0.5   1.4   \n",
      "3   4  1925       2   1  54.740589   f       0      1       1    0.5   1.8   \n",
      "4   5  1504       1   2  38.105407   f       0      1       1    0.0   3.4   \n",
      "\n",
      "  chol  albumin copper  alk.phos     ast trig platelet  protime stage  \n",
      "0  261     2.60    156    1718.0  137.95  172      190     12.2     4  \n",
      "1  302     4.14     54    7394.8  113.52   88      221     10.6     3  \n",
      "2  176     3.48    210     516.0   96.10   55      151     12.0     4  \n",
      "3  244     2.54     64    6121.8   60.63   92      183     10.3     4  \n",
      "4  279     3.53    143     671.0  113.15   72      136     10.9     3  \n",
      "4795\n",
      "Succesfully created time tensor of shape: torch.Size([418, 4795])\n",
      "(334, 769) torch.Size([334, 4795])\n"
     ]
    }
   ],
   "source": [
    "data = SurvivalDataset(fname='pbc.rda', path='../data/raw/')\n",
    "print(data.dataset.head())\n",
    "X_train, X_test, y_train, y_test = data.get_tensors()"
   ]
  },
  {
   "cell_type": "code",
   "execution_count": 3,
   "metadata": {},
   "outputs": [
    {
     "name": "stdout",
     "output_type": "stream",
     "text": [
      "Total variance: 569.7177124023438\n",
      "Impurity(\n",
      "  (linear): PyroLinear(in_features=769, out_features=1, bias=True)\n",
      ")\n"
     ]
    },
    {
     "name": "stderr",
     "output_type": "stream",
     "text": [
      "Epochs:   1%|          | 3/500 [00:00<01:04,  7.71it/s]"
     ]
    },
    {
     "name": "stdout",
     "output_type": "stream",
     "text": [
      "[iteration 0001] loss: 356913947852.8000\n",
      "[iteration 0002] loss: 331178806579.2000\n",
      "[iteration 0003] loss: 300996712652.8000\n"
     ]
    },
    {
     "name": "stderr",
     "output_type": "stream",
     "text": [
      "Epochs:   1%|          | 5/500 [00:00<00:51,  9.54it/s]"
     ]
    },
    {
     "name": "stdout",
     "output_type": "stream",
     "text": [
      "[iteration 0004] loss: 270459015372.8000\n",
      "[iteration 0005] loss: 246510969548.8000\n",
      "[iteration 0006] loss: 221818938572.8000\n"
     ]
    },
    {
     "name": "stderr",
     "output_type": "stream",
     "text": [
      "Epochs:   2%|▏         | 9/500 [00:00<00:45, 10.72it/s]"
     ]
    },
    {
     "name": "stdout",
     "output_type": "stream",
     "text": [
      "[iteration 0007] loss: 201771657523.2000\n",
      "[iteration 0008] loss: 183665354572.8000\n",
      "[iteration 0009] loss: 165526501427.2000\n"
     ]
    },
    {
     "name": "stderr",
     "output_type": "stream",
     "text": [
      "Epochs:   2%|▏         | 11/500 [00:01<00:44, 11.00it/s]"
     ]
    },
    {
     "name": "stdout",
     "output_type": "stream",
     "text": [
      "[iteration 0010] loss: 153065835372.8000\n",
      "[iteration 0011] loss: 139756817600.0000\n",
      "[iteration 0012] loss: 129025405683.2000\n"
     ]
    },
    {
     "name": "stderr",
     "output_type": "stream",
     "text": [
      "Epochs:   3%|▎         | 15/500 [00:01<00:45, 10.68it/s]"
     ]
    },
    {
     "name": "stdout",
     "output_type": "stream",
     "text": [
      "[iteration 0013] loss: 117097064638.4000\n",
      "[iteration 0014] loss: 107352989777.6000\n",
      "[iteration 0015] loss: 100864592527.2000\n"
     ]
    },
    {
     "name": "stderr",
     "output_type": "stream",
     "text": [
      "Epochs:   3%|▎         | 17/500 [00:01<00:44, 10.88it/s]"
     ]
    },
    {
     "name": "stdout",
     "output_type": "stream",
     "text": [
      "[iteration 0016] loss: 95504172814.4250\n",
      "[iteration 0017] loss: 89050333068.3324\n",
      "[iteration 0018] loss: 82764772463.3039\n"
     ]
    },
    {
     "name": "stderr",
     "output_type": "stream",
     "text": [
      "Epochs:   4%|▍         | 21/500 [00:01<00:39, 12.08it/s]"
     ]
    },
    {
     "name": "stdout",
     "output_type": "stream",
     "text": [
      "[iteration 0019] loss: 80694043154.4438\n",
      "[iteration 0020] loss: 74751254524.0250\n",
      "[iteration 0021] loss: 71575559165.4500\n"
     ]
    },
    {
     "name": "stderr",
     "output_type": "stream",
     "text": [
      "Epochs:   5%|▍         | 23/500 [00:02<00:38, 12.43it/s]"
     ]
    },
    {
     "name": "stdout",
     "output_type": "stream",
     "text": [
      "[iteration 0022] loss: 67700629334.3797\n",
      "[iteration 0023] loss: 63274849850.3000\n",
      "[iteration 0024] loss: 62021135500.1137\n"
     ]
    },
    {
     "name": "stderr",
     "output_type": "stream",
     "text": [
      "Epochs:   5%|▌         | 27/500 [00:02<00:39, 12.05it/s]"
     ]
    },
    {
     "name": "stdout",
     "output_type": "stream",
     "text": [
      "[iteration 0025] loss: 59055118288.0000\n",
      "[iteration 0026] loss: 58234343601.0000\n",
      "[iteration 0027] loss: 57817250153.1250\n"
     ]
    },
    {
     "name": "stderr",
     "output_type": "stream",
     "text": [
      "Epochs:   6%|▌         | 29/500 [00:02<00:38, 12.39it/s]"
     ]
    },
    {
     "name": "stdout",
     "output_type": "stream",
     "text": [
      "[iteration 0028] loss: 54316474656.3937\n",
      "[iteration 0029] loss: 52688795033.5125\n",
      "[iteration 0030] loss: 51929330487.4051\n"
     ]
    },
    {
     "name": "stderr",
     "output_type": "stream",
     "text": [
      "Epochs:   7%|▋         | 33/500 [00:02<00:36, 12.92it/s]"
     ]
    },
    {
     "name": "stdout",
     "output_type": "stream",
     "text": [
      "[iteration 0031] loss: 51097185962.5104\n",
      "[iteration 0032] loss: 51108804019.7500\n",
      "[iteration 0033] loss: 48832564534.4250\n"
     ]
    },
    {
     "name": "stderr",
     "output_type": "stream",
     "text": [
      "Epochs:   7%|▋         | 35/500 [00:03<00:35, 13.07it/s]"
     ]
    },
    {
     "name": "stdout",
     "output_type": "stream",
     "text": [
      "[iteration 0034] loss: 50834761140.0359\n",
      "[iteration 0035] loss: 49633290023.4437\n",
      "[iteration 0036] loss: 48249777856.0512\n"
     ]
    },
    {
     "name": "stderr",
     "output_type": "stream",
     "text": [
      "Epochs:   8%|▊         | 39/500 [00:03<00:34, 13.27it/s]"
     ]
    },
    {
     "name": "stdout",
     "output_type": "stream",
     "text": [
      "[iteration 0037] loss: 47007427686.1922\n",
      "[iteration 0038] loss: 46640391437.5199\n",
      "[iteration 0039] loss: 48576088752.4875\n"
     ]
    },
    {
     "name": "stderr",
     "output_type": "stream",
     "text": [
      "Epochs:   8%|▊         | 41/500 [00:03<00:34, 13.30it/s]"
     ]
    },
    {
     "name": "stdout",
     "output_type": "stream",
     "text": [
      "[iteration 0040] loss: 47241160055.6750\n",
      "[iteration 0041] loss: 46184960604.6170\n",
      "[iteration 0042] loss: 45976023138.7500\n"
     ]
    },
    {
     "name": "stderr",
     "output_type": "stream",
     "text": [
      "Epochs:   9%|▉         | 45/500 [00:03<00:34, 13.27it/s]"
     ]
    },
    {
     "name": "stdout",
     "output_type": "stream",
     "text": [
      "[iteration 0043] loss: 44847460176.7500\n",
      "[iteration 0044] loss: 44536450075.7781\n",
      "[iteration 0045] loss: 46058345996.7766\n"
     ]
    },
    {
     "name": "stderr",
     "output_type": "stream",
     "text": [
      "Epochs:   9%|▉         | 46/500 [00:03<00:39, 11.60it/s]\n"
     ]
    },
    {
     "name": "stdout",
     "output_type": "stream",
     "text": [
      "[iteration 0046] loss: 45619999084.2500\n",
      "Early stopping at epoch 46.\n",
      "Impurity(\n",
      "  (linear): PyroLinear(in_features=769, out_features=1, bias=True)\n",
      ")\n",
      "Var left tensor(502.6512)\n",
      "Var right tensor(594.1890)\n",
      "Impurity(\n",
      "  (linear): PyroLinear(in_features=769, out_features=1, bias=True)\n",
      ")\n"
     ]
    },
    {
     "name": "stderr",
     "output_type": "stream",
     "text": [
      "Epochs:   0%|          | 0/500 [00:00<?, ?it/s]"
     ]
    },
    {
     "name": "stdout",
     "output_type": "stream",
     "text": [
      "[iteration 0001] loss: 72009538816.0000\n",
      "[iteration 0002] loss: 70182566758.4000\n"
     ]
    },
    {
     "name": "stderr",
     "output_type": "stream",
     "text": [
      "Epochs:   1%|          | 6/500 [00:00<00:19, 24.97it/s]"
     ]
    },
    {
     "name": "stdout",
     "output_type": "stream",
     "text": [
      "[iteration 0003] loss: 62418521164.8000\n",
      "[iteration 0004] loss: 57401209830.4000\n",
      "[iteration 0005] loss: 54849855424.0000\n",
      "[iteration 0006] loss: 47721040038.4000\n",
      "[iteration 0007] loss: 44995463884.8000\n",
      "[iteration 0008] loss: 43225458044.8000\n"
     ]
    },
    {
     "name": "stderr",
     "output_type": "stream",
     "text": [
      "Epochs:   2%|▏         | 12/500 [00:00<00:19, 25.28it/s]"
     ]
    },
    {
     "name": "stdout",
     "output_type": "stream",
     "text": [
      "[iteration 0009] loss: 35144055777.6000\n",
      "[iteration 0010] loss: 38085201459.4000\n",
      "[iteration 0011] loss: 33017983565.0000\n",
      "[iteration 0012] loss: 31253131777.5750\n",
      "[iteration 0013] loss: 29808701826.6000\n",
      "[iteration 0014] loss: 27306370137.2500\n"
     ]
    },
    {
     "name": "stderr",
     "output_type": "stream",
     "text": [
      "Epochs:   4%|▎         | 18/500 [00:00<00:19, 25.23it/s]"
     ]
    },
    {
     "name": "stdout",
     "output_type": "stream",
     "text": [
      "[iteration 0015] loss: 26662643555.5004\n",
      "[iteration 0016] loss: 22109527820.9000\n",
      "[iteration 0017] loss: 21786041939.0000\n",
      "[iteration 0018] loss: 22093907328.0484\n",
      "[iteration 0019] loss: 19682609793.7250\n",
      "[iteration 0020] loss: 20679238387.9375\n"
     ]
    },
    {
     "name": "stderr",
     "output_type": "stream",
     "text": [
      "Epochs:   5%|▍         | 24/500 [00:00<00:18, 25.43it/s]"
     ]
    },
    {
     "name": "stdout",
     "output_type": "stream",
     "text": [
      "[iteration 0021] loss: 19725325207.1625\n",
      "[iteration 0022] loss: 17973346962.8500\n",
      "[iteration 0023] loss: 16863962103.0250\n",
      "[iteration 0024] loss: 15862849390.9250\n",
      "[iteration 0025] loss: 15537020148.3559\n",
      "[iteration 0026] loss: 14293207745.3000\n"
     ]
    },
    {
     "name": "stderr",
     "output_type": "stream",
     "text": [
      "Epochs:   6%|▌         | 30/500 [00:01<00:18, 25.51it/s]"
     ]
    },
    {
     "name": "stdout",
     "output_type": "stream",
     "text": [
      "[iteration 0027] loss: 15772653107.4812\n",
      "[iteration 0028] loss: 15096500301.1500\n",
      "[iteration 0029] loss: 13935069150.5539\n",
      "[iteration 0030] loss: 13572462929.6000\n",
      "[iteration 0031] loss: 14377211958.8094\n"
     ]
    },
    {
     "name": "stderr",
     "output_type": "stream",
     "text": [
      "Epochs:   7%|▋         | 33/500 [00:01<00:20, 22.93it/s]"
     ]
    },
    {
     "name": "stdout",
     "output_type": "stream",
     "text": [
      "[iteration 0032] loss: 13910298847.9625\n",
      "[iteration 0033] loss: 12580457440.6938\n",
      "[iteration 0034] loss: 14438430884.9500\n",
      "[iteration 0035] loss: 14284404125.8000\n"
     ]
    },
    {
     "name": "stderr",
     "output_type": "stream",
     "text": [
      "Epochs:   7%|▋         | 35/500 [00:01<00:19, 23.83it/s]\n"
     ]
    },
    {
     "name": "stdout",
     "output_type": "stream",
     "text": [
      "Early stopping at epoch 35.\n",
      "Impurity(\n",
      "  (linear): PyroLinear(in_features=769, out_features=1, bias=True)\n",
      ")\n",
      "Var left tensor(615.8693)\n",
      "Var right tensor(592.9701)\n",
      "Impurity(\n",
      "  (linear): PyroLinear(in_features=769, out_features=1, bias=True)\n",
      ")\n"
     ]
    },
    {
     "name": "stderr",
     "output_type": "stream",
     "text": [
      "Epochs:   1%|          | 3/500 [00:00<00:19, 25.90it/s]"
     ]
    },
    {
     "name": "stdout",
     "output_type": "stream",
     "text": [
      "[iteration 0001] loss: 164546955059.2000\n",
      "[iteration 0002] loss: 155337915392.0000\n",
      "[iteration 0003] loss: 149376778956.8000\n",
      "[iteration 0004] loss: 141715681689.6000\n"
     ]
    },
    {
     "name": "stderr",
     "output_type": "stream",
     "text": [
      "Epochs:   1%|          | 6/500 [00:00<00:18, 26.35it/s]"
     ]
    },
    {
     "name": "stdout",
     "output_type": "stream",
     "text": [
      "[iteration 0005] loss: 131244092313.6000\n",
      "[iteration 0006] loss: 125041242828.8000\n"
     ]
    },
    {
     "name": "stderr",
     "output_type": "stream",
     "text": [
      "Epochs:   2%|▏         | 9/500 [00:00<00:18, 26.24it/s]"
     ]
    },
    {
     "name": "stdout",
     "output_type": "stream",
     "text": [
      "[iteration 0007] loss: 118356154060.8000\n",
      "[iteration 0008] loss: 112725702041.6000\n",
      "[iteration 0009] loss: 108860797644.8000\n",
      "[iteration 0010] loss: 101450782259.2000\n"
     ]
    },
    {
     "name": "stderr",
     "output_type": "stream",
     "text": [
      "Epochs:   2%|▏         | 12/500 [00:00<00:18, 26.18it/s]"
     ]
    },
    {
     "name": "stdout",
     "output_type": "stream",
     "text": [
      "[iteration 0011] loss: 93878403072.0000\n",
      "[iteration 0012] loss: 89222716697.6000\n"
     ]
    },
    {
     "name": "stderr",
     "output_type": "stream",
     "text": [
      "Epochs:   3%|▎         | 15/500 [00:00<00:18, 26.39it/s]"
     ]
    },
    {
     "name": "stdout",
     "output_type": "stream",
     "text": [
      "[iteration 0013] loss: 88036778137.6000\n",
      "[iteration 0014] loss: 81563275699.2000\n",
      "[iteration 0015] loss: 77474901248.0000\n",
      "[iteration 0016] loss: 73243376524.8000\n"
     ]
    },
    {
     "name": "stderr",
     "output_type": "stream",
     "text": [
      "Epochs:   4%|▎         | 18/500 [00:00<00:18, 26.28it/s]"
     ]
    },
    {
     "name": "stdout",
     "output_type": "stream",
     "text": [
      "[iteration 0017] loss: 70043559040.0000\n",
      "[iteration 0018] loss: 67970554828.8000\n"
     ]
    },
    {
     "name": "stderr",
     "output_type": "stream",
     "text": [
      "Epochs:   4%|▍         | 21/500 [00:00<00:18, 26.43it/s]"
     ]
    },
    {
     "name": "stdout",
     "output_type": "stream",
     "text": [
      "[iteration 0019] loss: 65042548121.6000\n",
      "[iteration 0020] loss: 63579557243.6875\n",
      "[iteration 0021] loss: 57875578950.4000\n",
      "[iteration 0022] loss: 59574491017.6000\n"
     ]
    },
    {
     "name": "stderr",
     "output_type": "stream",
     "text": [
      "Epochs:   5%|▍         | 24/500 [00:00<00:18, 26.36it/s]"
     ]
    },
    {
     "name": "stdout",
     "output_type": "stream",
     "text": [
      "[iteration 0023] loss: 55417905277.1000\n",
      "[iteration 0024] loss: 52379666760.0000\n"
     ]
    },
    {
     "name": "stderr",
     "output_type": "stream",
     "text": [
      "Epochs:   5%|▌         | 27/500 [00:01<00:17, 26.29it/s]"
     ]
    },
    {
     "name": "stdout",
     "output_type": "stream",
     "text": [
      "[iteration 0025] loss: 51339391244.0000\n",
      "[iteration 0026] loss: 48517052301.7938\n",
      "[iteration 0027] loss: 46672420464.2313\n",
      "[iteration 0028] loss: 45431617937.3180\n"
     ]
    },
    {
     "name": "stderr",
     "output_type": "stream",
     "text": [
      "Epochs:   6%|▌         | 30/500 [00:01<00:17, 26.25it/s]"
     ]
    },
    {
     "name": "stdout",
     "output_type": "stream",
     "text": [
      "[iteration 0029] loss: 44715316972.6500\n",
      "[iteration 0030] loss: 45523651461.2742\n"
     ]
    },
    {
     "name": "stderr",
     "output_type": "stream",
     "text": [
      "Epochs:   7%|▋         | 33/500 [00:01<00:17, 26.24it/s]"
     ]
    },
    {
     "name": "stdout",
     "output_type": "stream",
     "text": [
      "[iteration 0031] loss: 43220028214.1906\n",
      "[iteration 0032] loss: 42630097453.0187\n",
      "[iteration 0033] loss: 40330523105.6000\n",
      "[iteration 0034] loss: 39054547656.0375\n"
     ]
    },
    {
     "name": "stderr",
     "output_type": "stream",
     "text": [
      "Epochs:   7%|▋         | 36/500 [00:01<00:17, 26.18it/s]"
     ]
    },
    {
     "name": "stdout",
     "output_type": "stream",
     "text": [
      "[iteration 0035] loss: 39596362311.2500\n",
      "[iteration 0036] loss: 37808251624.6000\n"
     ]
    },
    {
     "name": "stderr",
     "output_type": "stream",
     "text": [
      "Epochs:   8%|▊         | 39/500 [00:01<00:17, 26.39it/s]"
     ]
    },
    {
     "name": "stdout",
     "output_type": "stream",
     "text": [
      "[iteration 0037] loss: 38338975288.0000\n",
      "[iteration 0038] loss: 36671860417.6250\n",
      "[iteration 0039] loss: 34716293219.0000\n",
      "[iteration 0040] loss: 34668478758.4000\n"
     ]
    },
    {
     "name": "stderr",
     "output_type": "stream",
     "text": [
      "Epochs:   8%|▊         | 42/500 [00:01<00:17, 26.38it/s]"
     ]
    },
    {
     "name": "stdout",
     "output_type": "stream",
     "text": [
      "[iteration 0041] loss: 34458494541.2000\n",
      "[iteration 0042] loss: 34251750033.6000\n"
     ]
    },
    {
     "name": "stderr",
     "output_type": "stream",
     "text": [
      "Epochs:   9%|▉         | 45/500 [00:01<00:17, 26.45it/s]"
     ]
    },
    {
     "name": "stdout",
     "output_type": "stream",
     "text": [
      "[iteration 0043] loss: 35151475202.9531\n",
      "[iteration 0044] loss: 33306353278.1125\n",
      "[iteration 0045] loss: 33273389634.6875\n",
      "[iteration 0046] loss: 34209896052.6000\n"
     ]
    },
    {
     "name": "stderr",
     "output_type": "stream",
     "text": [
      "Epochs:  10%|▉         | 48/500 [00:01<00:17, 26.33it/s]"
     ]
    },
    {
     "name": "stdout",
     "output_type": "stream",
     "text": [
      "[iteration 0047] loss: 32805370371.7000\n",
      "[iteration 0048] loss: 32066655415.6500\n"
     ]
    },
    {
     "name": "stderr",
     "output_type": "stream",
     "text": [
      "Epochs:  10%|█         | 51/500 [00:01<00:17, 26.22it/s]"
     ]
    },
    {
     "name": "stdout",
     "output_type": "stream",
     "text": [
      "[iteration 0049] loss: 32477286678.2294\n",
      "[iteration 0050] loss: 31201818694.4000\n",
      "[iteration 0051] loss: 31112969569.7476\n",
      "[iteration 0052] loss: 31486267535.3876\n"
     ]
    },
    {
     "name": "stderr",
     "output_type": "stream",
     "text": [
      "Epochs:  11%|█         | 54/500 [00:02<00:17, 26.16it/s]"
     ]
    },
    {
     "name": "stdout",
     "output_type": "stream",
     "text": [
      "[iteration 0053] loss: 30752819394.4953\n",
      "[iteration 0054] loss: 32723209385.2586\n"
     ]
    },
    {
     "name": "stderr",
     "output_type": "stream",
     "text": [
      "Epochs:  11%|█▏        | 57/500 [00:02<00:16, 26.27it/s]"
     ]
    },
    {
     "name": "stdout",
     "output_type": "stream",
     "text": [
      "[iteration 0055] loss: 30711204369.4844\n",
      "[iteration 0056] loss: 31276695040.6625\n",
      "[iteration 0057] loss: 30825594098.8219\n",
      "[iteration 0058] loss: 30224903062.4000\n"
     ]
    },
    {
     "name": "stderr",
     "output_type": "stream",
     "text": [
      "Epochs:  12%|█▏        | 60/500 [00:02<00:16, 26.22it/s]"
     ]
    },
    {
     "name": "stdout",
     "output_type": "stream",
     "text": [
      "[iteration 0059] loss: 29238549906.4078\n",
      "[iteration 0060] loss: 31158098393.4250\n"
     ]
    },
    {
     "name": "stderr",
     "output_type": "stream",
     "text": [
      "Epochs:  12%|█▏        | 61/500 [00:02<00:16, 25.84it/s]\n"
     ]
    },
    {
     "name": "stdout",
     "output_type": "stream",
     "text": [
      "[iteration 0061] loss: 31050936744.7406\n",
      "Early stopping at epoch 61.\n",
      "Impurity(\n",
      "  (linear): PyroLinear(in_features=769, out_features=1, bias=True)\n",
      ")\n",
      "Var left tensor(573.4589)\n",
      "Var right tensor(558.6318)\n",
      "Impurity(\n",
      "  (linear): PyroLinear(in_features=769, out_features=1, bias=True)\n",
      ")\n"
     ]
    },
    {
     "name": "stderr",
     "output_type": "stream",
     "text": [
      "Epochs:   0%|          | 0/500 [00:00<?, ?it/s]"
     ]
    },
    {
     "name": "stdout",
     "output_type": "stream",
     "text": [
      "[iteration 0001] loss: 140939806310.4000\n",
      "[iteration 0002] loss: 139864350720.0000\n",
      "[iteration 0003] loss: 140791373004.8000\n",
      "[iteration 0004] loss: 137570381824.0000\n",
      "[iteration 0005] loss: 134698206822.4000\n"
     ]
    },
    {
     "name": "stderr",
     "output_type": "stream",
     "text": [
      "Epochs:   2%|▏         | 8/500 [00:00<00:06, 79.08it/s]"
     ]
    },
    {
     "name": "stdout",
     "output_type": "stream",
     "text": [
      "[iteration 0006] loss: 134055088128.0000\n",
      "[iteration 0007] loss: 137446960332.8000\n",
      "[iteration 0008] loss: 132074147840.0000\n",
      "[iteration 0009] loss: 131657451929.6000\n",
      "[iteration 0010] loss: 128679149568.0000\n",
      "[iteration 0011] loss: 127665888460.8000\n"
     ]
    },
    {
     "name": "stderr",
     "output_type": "stream",
     "text": [
      "Epochs:   3%|▎         | 16/500 [00:00<00:06, 79.59it/s]"
     ]
    },
    {
     "name": "stdout",
     "output_type": "stream",
     "text": [
      "[iteration 0012] loss: 128807754956.8000\n",
      "[iteration 0013] loss: 127139927654.4000\n",
      "[iteration 0014] loss: 121915774566.4000\n",
      "[iteration 0015] loss: 121072184524.8000\n",
      "[iteration 0016] loss: 121607798784.0000\n",
      "[iteration 0017] loss: 118981684428.8000\n"
     ]
    },
    {
     "name": "stderr",
     "output_type": "stream",
     "text": [
      "Epochs:   4%|▍         | 20/500 [00:00<00:06, 75.51it/s]"
     ]
    },
    {
     "name": "stdout",
     "output_type": "stream",
     "text": [
      "[iteration 0018] loss: 115333419827.2000\n",
      "[iteration 0019] loss: 116523578982.4000\n",
      "[iteration 0020] loss: 118856418918.4000\n",
      "Early stopping at epoch 20.\n",
      "Impurity(\n",
      "  (linear): PyroLinear(in_features=769, out_features=1, bias=True)\n",
      ")\n"
     ]
    },
    {
     "name": "stderr",
     "output_type": "stream",
     "text": [
      "\n"
     ]
    },
    {
     "name": "stdout",
     "output_type": "stream",
     "text": [
      "Var left tensor(601.4163)\n",
      "Var right tensor(664.1199)\n",
      "Impurity(\n",
      "  (linear): PyroLinear(in_features=769, out_features=1, bias=True)\n",
      ")\n"
     ]
    },
    {
     "name": "stderr",
     "output_type": "stream",
     "text": [
      "Epochs:   0%|          | 0/500 [00:00<?, ?it/s]"
     ]
    },
    {
     "name": "stdout",
     "output_type": "stream",
     "text": [
      "[iteration 0001] loss: 356902143590.4000\n"
     ]
    },
    {
     "name": "stderr",
     "output_type": "stream",
     "text": [
      "Epochs:   1%|          | 3/500 [00:00<00:19, 26.04it/s]"
     ]
    },
    {
     "name": "stdout",
     "output_type": "stream",
     "text": [
      "[iteration 0002] loss: 347999281971.2000\n",
      "[iteration 0003] loss: 335684742348.8000\n",
      "[iteration 0004] loss: 325269699788.8000\n",
      "[iteration 0005] loss: 312928306790.4000\n"
     ]
    },
    {
     "name": "stderr",
     "output_type": "stream",
     "text": [
      "Epochs:   1%|          | 6/500 [00:00<00:18, 26.23it/s]"
     ]
    },
    {
     "name": "stdout",
     "output_type": "stream",
     "text": [
      "[iteration 0006] loss: 304681431859.2000\n",
      "[iteration 0007] loss: 294006812262.4000\n"
     ]
    },
    {
     "name": "stderr",
     "output_type": "stream",
     "text": [
      "Epochs:   2%|▏         | 9/500 [00:00<00:18, 26.06it/s]"
     ]
    },
    {
     "name": "stdout",
     "output_type": "stream",
     "text": [
      "[iteration 0008] loss: 281936949248.0000\n",
      "[iteration 0009] loss: 267338453401.6000\n",
      "[iteration 0010] loss: 264213015347.2000\n",
      "[iteration 0011] loss: 252393328640.0000\n"
     ]
    },
    {
     "name": "stderr",
     "output_type": "stream",
     "text": [
      "Epochs:   2%|▏         | 12/500 [00:00<00:18, 26.63it/s]"
     ]
    },
    {
     "name": "stdout",
     "output_type": "stream",
     "text": [
      "[iteration 0012] loss: 247227421491.2000\n",
      "[iteration 0013] loss: 240224890060.8000\n"
     ]
    },
    {
     "name": "stderr",
     "output_type": "stream",
     "text": [
      "Epochs:   3%|▎         | 15/500 [00:00<00:18, 26.42it/s]"
     ]
    },
    {
     "name": "stdout",
     "output_type": "stream",
     "text": [
      "[iteration 0014] loss: 225256760115.2000\n",
      "[iteration 0015] loss: 220685378764.8000\n",
      "[iteration 0016] loss: 218050488320.0000\n",
      "[iteration 0017] loss: 204955011072.0000\n"
     ]
    },
    {
     "name": "stderr",
     "output_type": "stream",
     "text": [
      "Epochs:   4%|▎         | 18/500 [00:00<00:18, 26.51it/s]"
     ]
    },
    {
     "name": "stdout",
     "output_type": "stream",
     "text": [
      "[iteration 0018] loss: 204372131840.0000\n",
      "[iteration 0019] loss: 191107985612.8000\n"
     ]
    },
    {
     "name": "stderr",
     "output_type": "stream",
     "text": [
      "Epochs:   4%|▍         | 21/500 [00:00<00:18, 26.38it/s]"
     ]
    },
    {
     "name": "stdout",
     "output_type": "stream",
     "text": [
      "[iteration 0020] loss: 191800429772.8000\n",
      "[iteration 0021] loss: 185414501990.4000\n",
      "[iteration 0022] loss: 176290998272.0000\n",
      "[iteration 0023] loss: 173450049740.8000\n"
     ]
    },
    {
     "name": "stderr",
     "output_type": "stream",
     "text": [
      "Epochs:   5%|▍         | 24/500 [00:00<00:17, 26.53it/s]"
     ]
    },
    {
     "name": "stdout",
     "output_type": "stream",
     "text": [
      "[iteration 0024] loss: 163317920153.6000\n",
      "[iteration 0025] loss: 161742902886.4000\n"
     ]
    },
    {
     "name": "stderr",
     "output_type": "stream",
     "text": [
      "Epochs:   5%|▌         | 27/500 [00:01<00:17, 26.37it/s]"
     ]
    },
    {
     "name": "stdout",
     "output_type": "stream",
     "text": [
      "[iteration 0026] loss: 153605576294.4000\n",
      "[iteration 0027] loss: 149888037888.0000\n",
      "[iteration 0028] loss: 146554220134.4000\n",
      "[iteration 0029] loss: 140073653043.2000\n"
     ]
    },
    {
     "name": "stderr",
     "output_type": "stream",
     "text": [
      "Epochs:   6%|▌         | 30/500 [00:01<00:17, 26.65it/s]"
     ]
    },
    {
     "name": "stdout",
     "output_type": "stream",
     "text": [
      "[iteration 0030] loss: 142772839628.8000\n",
      "[iteration 0031] loss: 129308032614.4000\n"
     ]
    },
    {
     "name": "stderr",
     "output_type": "stream",
     "text": [
      "Epochs:   7%|▋         | 33/500 [00:01<00:17, 26.37it/s]"
     ]
    },
    {
     "name": "stdout",
     "output_type": "stream",
     "text": [
      "[iteration 0032] loss: 129793446707.2000\n",
      "[iteration 0033] loss: 125247254732.8000\n",
      "[iteration 0034] loss: 120127688089.6000\n",
      "[iteration 0035] loss: 120602759987.2000\n"
     ]
    },
    {
     "name": "stderr",
     "output_type": "stream",
     "text": [
      "Epochs:   7%|▋         | 36/500 [00:01<00:17, 26.55it/s]"
     ]
    },
    {
     "name": "stdout",
     "output_type": "stream",
     "text": [
      "[iteration 0036] loss: 115582041907.2000\n",
      "[iteration 0037] loss: 109048155340.8000\n"
     ]
    },
    {
     "name": "stderr",
     "output_type": "stream",
     "text": [
      "Epochs:   8%|▊         | 39/500 [00:01<00:17, 26.51it/s]"
     ]
    },
    {
     "name": "stdout",
     "output_type": "stream",
     "text": [
      "[iteration 0038] loss: 107837668659.2000\n",
      "[iteration 0039] loss: 102418095001.6000\n",
      "[iteration 0040] loss: 99324583731.2000\n",
      "[iteration 0041] loss: 98071712256.0000\n"
     ]
    },
    {
     "name": "stderr",
     "output_type": "stream",
     "text": [
      "Epochs:   8%|▊         | 42/500 [00:01<00:17, 26.15it/s]"
     ]
    },
    {
     "name": "stdout",
     "output_type": "stream",
     "text": [
      "[iteration 0042] loss: 96387449139.2000\n",
      "[iteration 0043] loss: 90603317248.0000\n"
     ]
    },
    {
     "name": "stderr",
     "output_type": "stream",
     "text": [
      "Epochs:   9%|▉         | 45/500 [00:01<00:17, 26.22it/s]"
     ]
    },
    {
     "name": "stdout",
     "output_type": "stream",
     "text": [
      "[iteration 0044] loss: 90003506483.2000\n",
      "[iteration 0045] loss: 87667654809.6000\n",
      "[iteration 0046] loss: 83458717696.0000\n",
      "[iteration 0047] loss: 81817173760.0000\n"
     ]
    },
    {
     "name": "stderr",
     "output_type": "stream",
     "text": [
      "Epochs:  10%|▉         | 48/500 [00:01<00:17, 26.41it/s]"
     ]
    },
    {
     "name": "stdout",
     "output_type": "stream",
     "text": [
      "[iteration 0048] loss: 80775823155.2000\n",
      "[iteration 0049] loss: 78980514508.8000\n"
     ]
    },
    {
     "name": "stderr",
     "output_type": "stream",
     "text": [
      "Epochs:  10%|█         | 51/500 [00:01<00:17, 26.31it/s]"
     ]
    },
    {
     "name": "stdout",
     "output_type": "stream",
     "text": [
      "[iteration 0050] loss: 77224590336.0000\n",
      "[iteration 0051] loss: 75354008883.2000\n",
      "[iteration 0052] loss: 70223100825.6000\n",
      "[iteration 0053] loss: 70256220467.2000\n"
     ]
    },
    {
     "name": "stderr",
     "output_type": "stream",
     "text": [
      "Epochs:  11%|█         | 54/500 [00:02<00:16, 26.51it/s]"
     ]
    },
    {
     "name": "stdout",
     "output_type": "stream",
     "text": [
      "[iteration 0054] loss: 66622837196.8000\n",
      "[iteration 0055] loss: 69397577984.0000\n"
     ]
    },
    {
     "name": "stderr",
     "output_type": "stream",
     "text": [
      "Epochs:  11%|█▏        | 57/500 [00:02<00:16, 26.30it/s]"
     ]
    },
    {
     "name": "stdout",
     "output_type": "stream",
     "text": [
      "[iteration 0056] loss: 66837305497.6000\n",
      "[iteration 0057] loss: 62988950579.2000\n",
      "[iteration 0058] loss: 63943739161.6000\n",
      "[iteration 0059] loss: 61609311334.4000\n"
     ]
    },
    {
     "name": "stderr",
     "output_type": "stream",
     "text": [
      "Epochs:  12%|█▏        | 60/500 [00:02<00:16, 26.55it/s]"
     ]
    },
    {
     "name": "stdout",
     "output_type": "stream",
     "text": [
      "[iteration 0060] loss: 59965188940.8000\n",
      "[iteration 0061] loss: 59802227481.6000\n"
     ]
    },
    {
     "name": "stderr",
     "output_type": "stream",
     "text": [
      "Epochs:  13%|█▎        | 63/500 [00:02<00:16, 26.41it/s]"
     ]
    },
    {
     "name": "stdout",
     "output_type": "stream",
     "text": [
      "[iteration 0062] loss: 57723597619.2000\n",
      "[iteration 0063] loss: 54898469990.4000\n",
      "[iteration 0064] loss: 53148830912.0000\n",
      "[iteration 0065] loss: 53720980288.0000\n"
     ]
    },
    {
     "name": "stderr",
     "output_type": "stream",
     "text": [
      "Epochs:  13%|█▎        | 66/500 [00:02<00:16, 26.43it/s]"
     ]
    },
    {
     "name": "stdout",
     "output_type": "stream",
     "text": [
      "[iteration 0066] loss: 52856451430.4000\n",
      "[iteration 0067] loss: 50131358976.0000\n"
     ]
    },
    {
     "name": "stderr",
     "output_type": "stream",
     "text": [
      "Epochs:  14%|█▍        | 69/500 [00:02<00:16, 26.33it/s]"
     ]
    },
    {
     "name": "stdout",
     "output_type": "stream",
     "text": [
      "[iteration 0068] loss: 49736946048.0000\n",
      "[iteration 0069] loss: 48674384972.8000\n",
      "[iteration 0070] loss: 47453256486.4000\n",
      "[iteration 0071] loss: 47141433715.2000\n"
     ]
    },
    {
     "name": "stderr",
     "output_type": "stream",
     "text": [
      "Epochs:  14%|█▍        | 72/500 [00:02<00:16, 26.51it/s]"
     ]
    },
    {
     "name": "stdout",
     "output_type": "stream",
     "text": [
      "[iteration 0072] loss: 46377727219.2000\n",
      "[iteration 0073] loss: 44823140582.4000\n"
     ]
    },
    {
     "name": "stderr",
     "output_type": "stream",
     "text": [
      "Epochs:  15%|█▌        | 75/500 [00:02<00:16, 26.40it/s]"
     ]
    },
    {
     "name": "stdout",
     "output_type": "stream",
     "text": [
      "[iteration 0074] loss: 43544937318.4000\n",
      "[iteration 0075] loss: 42942747216.0000\n",
      "[iteration 0076] loss: 43637167846.4000\n",
      "[iteration 0077] loss: 42490401491.2000\n"
     ]
    },
    {
     "name": "stderr",
     "output_type": "stream",
     "text": [
      "Epochs:  16%|█▌        | 78/500 [00:02<00:15, 26.68it/s]"
     ]
    },
    {
     "name": "stdout",
     "output_type": "stream",
     "text": [
      "[iteration 0078] loss: 42735166790.4000\n",
      "[iteration 0079] loss: 39654783731.2000\n"
     ]
    },
    {
     "name": "stderr",
     "output_type": "stream",
     "text": [
      "Epochs:  16%|█▌        | 81/500 [00:03<00:15, 26.47it/s]"
     ]
    },
    {
     "name": "stdout",
     "output_type": "stream",
     "text": [
      "[iteration 0080] loss: 38896887680.0000\n",
      "[iteration 0081] loss: 38298601246.0000\n",
      "[iteration 0082] loss: 38216824844.8000\n",
      "[iteration 0083] loss: 37706221944.0000\n"
     ]
    },
    {
     "name": "stderr",
     "output_type": "stream",
     "text": [
      "Epochs:  17%|█▋        | 84/500 [00:03<00:15, 26.55it/s]"
     ]
    },
    {
     "name": "stdout",
     "output_type": "stream",
     "text": [
      "[iteration 0084] loss: 36840728425.2000\n",
      "[iteration 0085] loss: 35812152729.6000\n"
     ]
    },
    {
     "name": "stderr",
     "output_type": "stream",
     "text": [
      "Epochs:  17%|█▋        | 87/500 [00:03<00:15, 26.53it/s]"
     ]
    },
    {
     "name": "stdout",
     "output_type": "stream",
     "text": [
      "[iteration 0086] loss: 35715486718.4000\n",
      "[iteration 0087] loss: 33999187129.6000\n",
      "[iteration 0088] loss: 34883961108.6813\n",
      "[iteration 0089] loss: 33946679273.0000\n"
     ]
    },
    {
     "name": "stderr",
     "output_type": "stream",
     "text": [
      "Epochs:  18%|█▊        | 90/500 [00:03<00:15, 26.72it/s]"
     ]
    },
    {
     "name": "stdout",
     "output_type": "stream",
     "text": [
      "[iteration 0090] loss: 33432163890.1250\n",
      "[iteration 0091] loss: 33267055382.2000\n"
     ]
    },
    {
     "name": "stderr",
     "output_type": "stream",
     "text": [
      "Epochs:  19%|█▊        | 93/500 [00:03<00:15, 26.45it/s]"
     ]
    },
    {
     "name": "stdout",
     "output_type": "stream",
     "text": [
      "[iteration 0092] loss: 31659784233.7609\n",
      "[iteration 0093] loss: 31977171712.5405\n",
      "[iteration 0094] loss: 30853468142.8000\n",
      "[iteration 0095] loss: 31395866250.4000\n"
     ]
    },
    {
     "name": "stderr",
     "output_type": "stream",
     "text": [
      "Epochs:  19%|█▉        | 96/500 [00:03<00:15, 26.51it/s]"
     ]
    },
    {
     "name": "stdout",
     "output_type": "stream",
     "text": [
      "[iteration 0096] loss: 31320627408.7125\n"
     ]
    },
    {
     "name": "stderr",
     "output_type": "stream",
     "text": [
      "Epochs:  19%|█▉        | 96/500 [00:03<00:15, 26.16it/s]"
     ]
    },
    {
     "name": "stdout",
     "output_type": "stream",
     "text": [
      "Early stopping at epoch 96.\n",
      "Impurity(\n",
      "  (linear): PyroLinear(in_features=769, out_features=1, bias=True)\n",
      ")\n"
     ]
    },
    {
     "name": "stderr",
     "output_type": "stream",
     "text": [
      "\n"
     ]
    },
    {
     "name": "stdout",
     "output_type": "stream",
     "text": [
      "Var left tensor(338.4619)\n",
      "Var right tensor(521.1868)\n",
      "Impurity(\n",
      "  (linear): PyroLinear(in_features=769, out_features=1, bias=True)\n",
      ")\n"
     ]
    },
    {
     "name": "stderr",
     "output_type": "stream",
     "text": [
      "Epochs:   0%|          | 0/500 [00:00<?, ?it/s]"
     ]
    },
    {
     "name": "stdout",
     "output_type": "stream",
     "text": [
      "[iteration 0001] loss: 320407681433.6000\n",
      "[iteration 0002] loss: 316787980697.6000\n"
     ]
    },
    {
     "name": "stderr",
     "output_type": "stream",
     "text": [
      "Epochs:   1%|          | 4/500 [00:00<00:13, 36.46it/s]"
     ]
    },
    {
     "name": "stdout",
     "output_type": "stream",
     "text": [
      "[iteration 0003] loss: 306686269849.6000\n",
      "[iteration 0004] loss: 299095873126.4000\n",
      "[iteration 0005] loss: 285174009036.8000\n",
      "[iteration 0006] loss: 285533088972.8000\n",
      "[iteration 0007] loss: 266355536691.2000\n"
     ]
    },
    {
     "name": "stderr",
     "output_type": "stream",
     "text": [
      "Epochs:   2%|▏         | 8/500 [00:00<00:13, 36.36it/s]"
     ]
    },
    {
     "name": "stdout",
     "output_type": "stream",
     "text": [
      "[iteration 0008] loss: 267133421977.6000\n",
      "[iteration 0009] loss: 261711643443.2000\n",
      "[iteration 0010] loss: 259681480704.0000\n"
     ]
    },
    {
     "name": "stderr",
     "output_type": "stream",
     "text": [
      "Epochs:   2%|▏         | 12/500 [00:00<00:13, 36.32it/s]"
     ]
    },
    {
     "name": "stdout",
     "output_type": "stream",
     "text": [
      "[iteration 0011] loss: 246976671744.0000\n",
      "[iteration 0012] loss: 242648775065.6000\n",
      "[iteration 0013] loss: 232039863910.4000\n",
      "[iteration 0014] loss: 232910625996.8000\n",
      "[iteration 0015] loss: 222980602265.6000\n"
     ]
    },
    {
     "name": "stderr",
     "output_type": "stream",
     "text": [
      "Epochs:   3%|▎         | 16/500 [00:00<00:13, 36.33it/s]"
     ]
    },
    {
     "name": "stdout",
     "output_type": "stream",
     "text": [
      "[iteration 0016] loss: 215202876620.8000\n",
      "[iteration 0017] loss: 211060462387.2000\n",
      "[iteration 0018] loss: 212461873561.6000\n"
     ]
    },
    {
     "name": "stderr",
     "output_type": "stream",
     "text": [
      "Epochs:   4%|▍         | 20/500 [00:00<00:13, 36.42it/s]"
     ]
    },
    {
     "name": "stdout",
     "output_type": "stream",
     "text": [
      "[iteration 0019] loss: 201341111500.8000\n",
      "[iteration 0020] loss: 193329020928.0000\n",
      "[iteration 0021] loss: 186423823564.8000\n",
      "[iteration 0022] loss: 186357896806.4000\n",
      "[iteration 0023] loss: 184760487936.0000\n"
     ]
    },
    {
     "name": "stderr",
     "output_type": "stream",
     "text": [
      "Epochs:   5%|▍         | 24/500 [00:00<00:13, 36.44it/s]"
     ]
    },
    {
     "name": "stdout",
     "output_type": "stream",
     "text": [
      "[iteration 0024] loss: 171217716838.4000\n",
      "[iteration 0025] loss: 173863923712.0000\n",
      "[iteration 0026] loss: 170872675123.2000\n"
     ]
    },
    {
     "name": "stderr",
     "output_type": "stream",
     "text": [
      "Epochs:   6%|▌         | 28/500 [00:00<00:12, 36.44it/s]"
     ]
    },
    {
     "name": "stdout",
     "output_type": "stream",
     "text": [
      "[iteration 0027] loss: 167386442956.8000\n",
      "[iteration 0028] loss: 159131980595.2000\n",
      "[iteration 0029] loss: 159278413414.4000\n",
      "[iteration 0030] loss: 150067233996.8000\n",
      "[iteration 0031] loss: 152853542502.4000\n"
     ]
    },
    {
     "name": "stderr",
     "output_type": "stream",
     "text": [
      "Epochs:   6%|▋         | 32/500 [00:00<00:12, 36.35it/s]"
     ]
    },
    {
     "name": "stdout",
     "output_type": "stream",
     "text": [
      "[iteration 0032] loss: 145327087616.0000\n",
      "[iteration 0033] loss: 139848245657.6000\n",
      "[iteration 0034] loss: 135049182412.8000\n"
     ]
    },
    {
     "name": "stderr",
     "output_type": "stream",
     "text": [
      "Epochs:   7%|▋         | 36/500 [00:00<00:12, 36.53it/s]"
     ]
    },
    {
     "name": "stdout",
     "output_type": "stream",
     "text": [
      "[iteration 0035] loss: 135107632742.4000\n",
      "[iteration 0036] loss: 125484814745.6000\n",
      "[iteration 0037] loss: 127347612057.6000\n",
      "[iteration 0038] loss: 122744417894.4000\n",
      "[iteration 0039] loss: 120488623718.4000\n"
     ]
    },
    {
     "name": "stderr",
     "output_type": "stream",
     "text": [
      "Epochs:   8%|▊         | 40/500 [00:01<00:12, 36.41it/s]"
     ]
    },
    {
     "name": "stdout",
     "output_type": "stream",
     "text": [
      "[iteration 0040] loss: 114984644608.0000\n",
      "[iteration 0041] loss: 111673669632.0000\n",
      "[iteration 0042] loss: 110456235622.4000\n"
     ]
    },
    {
     "name": "stderr",
     "output_type": "stream",
     "text": [
      "Epochs:   9%|▉         | 44/500 [00:01<00:12, 36.56it/s]"
     ]
    },
    {
     "name": "stdout",
     "output_type": "stream",
     "text": [
      "[iteration 0043] loss: 108369376051.2000\n",
      "[iteration 0044] loss: 105580053708.8000\n",
      "[iteration 0045] loss: 102158961868.8000\n",
      "[iteration 0046] loss: 98800164044.8000\n",
      "[iteration 0047] loss: 100751220736.0000\n"
     ]
    },
    {
     "name": "stderr",
     "output_type": "stream",
     "text": [
      "Epochs:  10%|▉         | 48/500 [00:01<00:12, 36.44it/s]"
     ]
    },
    {
     "name": "stdout",
     "output_type": "stream",
     "text": [
      "[iteration 0048] loss: 95552317849.6000\n",
      "[iteration 0049] loss: 92256702464.0000\n",
      "[iteration 0050] loss: 91926173696.0000\n"
     ]
    },
    {
     "name": "stderr",
     "output_type": "stream",
     "text": [
      "Epochs:  10%|█         | 52/500 [00:01<00:12, 36.35it/s]"
     ]
    },
    {
     "name": "stdout",
     "output_type": "stream",
     "text": [
      "[iteration 0051] loss: 87548862873.6000\n",
      "[iteration 0052] loss: 86697678438.4000\n",
      "[iteration 0053] loss: 79865717555.2000\n",
      "[iteration 0054] loss: 81153102233.6000\n",
      "[iteration 0055] loss: 79718265856.0000\n"
     ]
    },
    {
     "name": "stderr",
     "output_type": "stream",
     "text": [
      "Epochs:  11%|█         | 56/500 [00:01<00:12, 36.27it/s]"
     ]
    },
    {
     "name": "stdout",
     "output_type": "stream",
     "text": [
      "[iteration 0056] loss: 75358456627.2000\n",
      "[iteration 0057] loss: 75503635046.4000\n",
      "[iteration 0058] loss: 77706239180.8000\n"
     ]
    },
    {
     "name": "stderr",
     "output_type": "stream",
     "text": [
      "Epochs:  12%|█▏        | 60/500 [00:01<00:12, 36.26it/s]"
     ]
    },
    {
     "name": "stdout",
     "output_type": "stream",
     "text": [
      "[iteration 0059] loss: 71587590963.2000\n",
      "[iteration 0060] loss: 68888139980.8000\n",
      "[iteration 0061] loss: 69384131584.0000\n",
      "[iteration 0062] loss: 64584358092.8000\n",
      "[iteration 0063] loss: 65803142553.6000\n"
     ]
    },
    {
     "name": "stderr",
     "output_type": "stream",
     "text": [
      "Epochs:  13%|█▎        | 64/500 [00:01<00:12, 36.23it/s]"
     ]
    },
    {
     "name": "stdout",
     "output_type": "stream",
     "text": [
      "[iteration 0064] loss: 62688107724.8000\n",
      "[iteration 0065] loss: 64452617216.0000\n",
      "[iteration 0066] loss: 59374717337.6000\n"
     ]
    },
    {
     "name": "stderr",
     "output_type": "stream",
     "text": [
      "Epochs:  14%|█▎        | 68/500 [00:01<00:11, 36.36it/s]"
     ]
    },
    {
     "name": "stdout",
     "output_type": "stream",
     "text": [
      "[iteration 0067] loss: 58444703948.8000\n",
      "[iteration 0068] loss: 58220957900.8000\n",
      "[iteration 0069] loss: 55577706700.8000\n",
      "[iteration 0070] loss: 54396490137.6000\n",
      "[iteration 0071] loss: 52513327718.4000\n"
     ]
    },
    {
     "name": "stderr",
     "output_type": "stream",
     "text": [
      "Epochs:  14%|█▍        | 72/500 [00:01<00:11, 36.25it/s]"
     ]
    },
    {
     "name": "stdout",
     "output_type": "stream",
     "text": [
      "[iteration 0072] loss: 54130191564.8000\n",
      "[iteration 0073] loss: 50131369164.8000\n",
      "[iteration 0074] loss: 48787836518.4000\n"
     ]
    },
    {
     "name": "stderr",
     "output_type": "stream",
     "text": [
      "Epochs:  15%|█▌        | 76/500 [00:02<00:11, 36.46it/s]"
     ]
    },
    {
     "name": "stdout",
     "output_type": "stream",
     "text": [
      "[iteration 0075] loss: 46576810393.6000\n",
      "[iteration 0076] loss: 45621602508.8000\n",
      "[iteration 0077] loss: 44415486361.6000\n",
      "[iteration 0078] loss: 44354984755.2000\n",
      "[iteration 0079] loss: 42868981964.8000\n"
     ]
    },
    {
     "name": "stderr",
     "output_type": "stream",
     "text": [
      "Epochs:  16%|█▌        | 80/500 [00:02<00:11, 36.39it/s]"
     ]
    },
    {
     "name": "stdout",
     "output_type": "stream",
     "text": [
      "[iteration 0080] loss: 41738144665.6000\n",
      "[iteration 0081] loss: 40757124403.2000\n",
      "[iteration 0082] loss: 41002117017.6000\n"
     ]
    },
    {
     "name": "stderr",
     "output_type": "stream",
     "text": [
      "Epochs:  17%|█▋        | 84/500 [00:02<00:11, 36.23it/s]"
     ]
    },
    {
     "name": "stdout",
     "output_type": "stream",
     "text": [
      "[iteration 0083] loss: 39699027968.0000\n",
      "[iteration 0084] loss: 37625759232.0000\n",
      "[iteration 0085] loss: 38243712716.8000\n",
      "[iteration 0086] loss: 35032842137.6000\n",
      "[iteration 0087] loss: 33635508326.4000\n"
     ]
    },
    {
     "name": "stderr",
     "output_type": "stream",
     "text": [
      "Epochs:  18%|█▊        | 88/500 [00:02<00:11, 35.39it/s]"
     ]
    },
    {
     "name": "stdout",
     "output_type": "stream",
     "text": [
      "[iteration 0088] loss: 35762311065.6000\n",
      "[iteration 0089] loss: 32880651980.8000\n"
     ]
    },
    {
     "name": "stderr",
     "output_type": "stream",
     "text": [
      "Epochs:  18%|█▊        | 92/500 [00:02<00:11, 35.76it/s]"
     ]
    },
    {
     "name": "stdout",
     "output_type": "stream",
     "text": [
      "[iteration 0090] loss: 30742639513.6000\n",
      "[iteration 0091] loss: 31879290982.4000\n",
      "[iteration 0092] loss: 30065038438.4000\n",
      "[iteration 0093] loss: 29522535424.0000\n",
      "[iteration 0094] loss: 28166497177.6000\n",
      "[iteration 0095] loss: 29705524428.8000\n"
     ]
    },
    {
     "name": "stderr",
     "output_type": "stream",
     "text": [
      "Epochs:  19%|█▉        | 96/500 [00:02<00:11, 35.90it/s]"
     ]
    },
    {
     "name": "stdout",
     "output_type": "stream",
     "text": [
      "[iteration 0096] loss: 28048324608.0000\n",
      "[iteration 0097] loss: 26078522060.8000\n"
     ]
    },
    {
     "name": "stderr",
     "output_type": "stream",
     "text": [
      "Epochs:  20%|██        | 100/500 [00:02<00:11, 36.04it/s]"
     ]
    },
    {
     "name": "stdout",
     "output_type": "stream",
     "text": [
      "[iteration 0098] loss: 26468052684.8000\n",
      "[iteration 0099] loss: 27356334182.4000\n",
      "[iteration 0100] loss: 23597745152.0000\n",
      "[iteration 0101] loss: 23979984281.6000\n",
      "[iteration 0102] loss: 23217561395.2000\n",
      "[iteration 0103] loss: 22889918259.2000\n"
     ]
    },
    {
     "name": "stderr",
     "output_type": "stream",
     "text": [
      "Epochs:  21%|██        | 104/500 [00:02<00:10, 36.22it/s]"
     ]
    },
    {
     "name": "stdout",
     "output_type": "stream",
     "text": [
      "[iteration 0104] loss: 22028510771.2000\n",
      "[iteration 0105] loss: 20363952998.4000\n"
     ]
    },
    {
     "name": "stderr",
     "output_type": "stream",
     "text": [
      "Epochs:  22%|██▏       | 108/500 [00:02<00:10, 36.16it/s]"
     ]
    },
    {
     "name": "stdout",
     "output_type": "stream",
     "text": [
      "[iteration 0106] loss: 22412417280.0000\n",
      "[iteration 0107] loss: 22246792601.6000\n",
      "[iteration 0108] loss: 19971457689.6000\n",
      "[iteration 0109] loss: 21574899456.0000\n",
      "[iteration 0110] loss: 18202847334.4000\n",
      "[iteration 0111] loss: 18643273369.6000\n"
     ]
    },
    {
     "name": "stderr",
     "output_type": "stream",
     "text": [
      "Epochs:  22%|██▏       | 112/500 [00:03<00:10, 36.17it/s]"
     ]
    },
    {
     "name": "stdout",
     "output_type": "stream",
     "text": [
      "[iteration 0112] loss: 20015751398.4000\n"
     ]
    },
    {
     "name": "stderr",
     "output_type": "stream",
     "text": [
      "Epochs:  22%|██▏       | 112/500 [00:03<00:10, 35.90it/s]"
     ]
    },
    {
     "name": "stdout",
     "output_type": "stream",
     "text": [
      "Early stopping at epoch 112.\n",
      "Impurity(\n",
      "  (linear): PyroLinear(in_features=769, out_features=1, bias=True)\n",
      ")\n"
     ]
    },
    {
     "name": "stderr",
     "output_type": "stream",
     "text": [
      "\n"
     ]
    },
    {
     "name": "stdout",
     "output_type": "stream",
     "text": [
      "Var left tensor(521.2308)\n",
      "Var right tensor(496.2961)\n",
      "Impurity(\n",
      "  (linear): PyroLinear(in_features=769, out_features=1, bias=True)\n",
      ")\n"
     ]
    },
    {
     "name": "stderr",
     "output_type": "stream",
     "text": [
      "Epochs:   1%|          | 5/500 [00:00<00:06, 72.15it/s]"
     ]
    },
    {
     "name": "stdout",
     "output_type": "stream",
     "text": [
      "[iteration 0001] loss: 132280574771.2000\n",
      "[iteration 0002] loss: 130040852480.0000\n",
      "[iteration 0003] loss: 127812829184.0000\n",
      "[iteration 0004] loss: 128464356966.4000\n",
      "[iteration 0005] loss: 129361411276.8000\n",
      "Early stopping at epoch 5.\n",
      "Impurity(\n",
      "  (linear): PyroLinear(in_features=769, out_features=1, bias=True)\n",
      ")\n",
      "Var left tensor(369.6500)\n",
      "Var right tensor(243.3333)\n"
     ]
    },
    {
     "name": "stderr",
     "output_type": "stream",
     "text": [
      "\n"
     ]
    }
   ],
   "source": [
    "model = VSpyct(max_depth=3, bs=64)\n",
    "model.fit(X_train, y_train)"
   ]
  },
  {
   "cell_type": "code",
   "execution_count": 4,
   "metadata": {},
   "outputs": [],
   "source": [
    "preds = model.predict(X_test)\n",
    "avg_preds = preds.mean(axis=1)"
   ]
  },
  {
   "cell_type": "code",
   "execution_count": 5,
   "metadata": {},
   "outputs": [
    {
     "data": {
      "image/png": "[encoded data removed]",
      "text/plain": [
       "<Figure size 640x480 with 1 Axes>"
      ]
     },
     "metadata": {},
     "output_type": "display_data"
    }
   ],
   "source": [
    "for i in range(80):\n",
    "  plt.plot(avg_preds[i])"
   ]
  },
  {
   "cell_type": "code",
   "execution_count": 6,
   "metadata": {},
   "outputs": [],
   "source": [
    "pstore = model.root_node.param_store.detach()"
   ]
  },
  {
   "cell_type": "code",
   "execution_count": null,
   "metadata": {},
   "outputs": [],
   "source": [
    "X_train, T_train, E_train, X_test, T_test, E_test = data.pysurvival_split()"
   ]
  },
  {
   "cell_type": "code",
   "execution_count": null,
   "metadata": {},
   "outputs": [],
   "source": [
    "import spyct\n",
    "\n",
    "model = spyct.Model()\n",
    "model.fit(X_train.values, y_train.numpy())"
   ]
  },
  {
   "cell_type": "code",
   "execution_count": null,
   "metadata": {},
   "outputs": [],
   "source": [
    "preds_spyct = model.predict(y_test.numpy())"
   ]
  },
  {
   "cell_type": "code",
   "execution_count": null,
   "metadata": {},
   "outputs": [],
   "source": [
    "roots_list = [tree[0].split_weights.to_ndarray()[0] for tree in model.trees]\n",
    "roots_list = np.array(roots_list)\n",
    "# [node.split_weights.to_ndarray() for node in nodes_list]"
   ]
  },
  {
   "cell_type": "code",
   "execution_count": null,
   "metadata": {},
   "outputs": [],
   "source": [
    "plt.plot(roots_list.mean(axis=0))\n",
    "plt.plot(pstore)"
   ]
  },
  {
   "cell_type": "code",
   "execution_count": null,
   "metadata": {},
   "outputs": [],
   "source": [
    "model.trees[0]"
   ]
  },
  {
   "cell_type": "code",
   "execution_count": null,
   "metadata": {},
   "outputs": [],
   "source": [
    "plt.plot(model.trees[0][0].split_weights.to_ndarray()[0])\n",
    "plt.plot(pstore)"
   ]
  },
  {
   "cell_type": "code",
   "execution_count": null,
   "metadata": {},
   "outputs": [],
   "source": [
    "pstore.shape, model.trees[0][0].split_weights.to_ndarray().shape"
   ]
  },
  {
   "cell_type": "code",
   "execution_count": null,
   "metadata": {},
   "outputs": [],
   "source": [
    "for i in range(80):\n",
    "  plt.plot(preds_spyct[i])"
   ]
  },
  {
   "cell_type": "code",
   "execution_count": null,
   "metadata": {},
   "outputs": [],
   "source": [
    "bs = IPCWBrier(T_test, E_test)"
   ]
  },
  {
   "cell_type": "code",
   "execution_count": null,
   "metadata": {},
   "outputs": [],
   "source": [
    "plt.plot(bs.evaluate(y_test, avg_preds))\n",
    "plt.plot(bs.evaluate(y_test, preds_spyct))"
   ]
  },
  {
   "cell_type": "code",
   "execution_count": null,
   "metadata": {},
   "outputs": [],
   "source": [
    "non_leaves = []\n",
    "\n",
    "def traverse(node):\n",
    "  if node is not None:\n",
    "    if node.left is not None or node.right is not None: non_leaves.append(node)\n",
    "    traverse(node.left)\n",
    "    traverse(node.right)\n",
    "\n",
    "traverse(model.root_node)"
   ]
  },
  {
   "cell_type": "code",
   "execution_count": null,
   "metadata": {},
   "outputs": [],
   "source": [
    "weights = [node.split_model.weight.numpy() for node in non_leaves]\n",
    "weights"
   ]
  },
  {
   "cell_type": "code",
   "execution_count": null,
   "metadata": {},
   "outputs": [],
   "source": [
    "weights = np.array(weights)"
   ]
  },
  {
   "cell_type": "code",
   "execution_count": null,
   "metadata": {},
   "outputs": [],
   "source": [
    "weights = weights.reshape(weights.shape[0], -1)"
   ]
  },
  {
   "cell_type": "code",
   "execution_count": null,
   "metadata": {},
   "outputs": [],
   "source": [
    "for i in range(weights.shape[0]):\n",
    "  plt.plot(weights[i])"
   ]
  },
  {
   "cell_type": "code",
   "execution_count": null,
   "metadata": {},
   "outputs": [],
   "source": [
    "from sklearn.preprocessing import MinMaxScaler\n",
    "\n",
    "# Initialize MinMaxScaler\n",
    "scaler = MinMaxScaler()\n",
    "\n",
    "data_normalized = scaler.fit_transform(weights.T).T"
   ]
  },
  {
   "cell_type": "code",
   "execution_count": null,
   "metadata": {},
   "outputs": [],
   "source": [
    "filtered_values_per_column = [data_normalized[i, :][data_normalized[i, :] > 0.9] for i in range(data_normalized.shape[0])]"
   ]
  },
  {
   "cell_type": "code",
   "execution_count": null,
   "metadata": {},
   "outputs": [],
   "source": [
    "data_normalized.shape"
   ]
  },
  {
   "cell_type": "code",
   "execution_count": null,
   "metadata": {},
   "outputs": [],
   "source": [
    "for node in non_leaves:\n",
    "  print(node.num_instances)"
   ]
  },
  {
   "cell_type": "code",
   "execution_count": null,
   "metadata": {},
   "outputs": [],
   "source": [
    "non_leaves[0].num_instances/model.num_training_instances*(data_normalized[0, :]/np.linalg.norm(data_normalized[0, :]))"
   ]
  },
  {
   "cell_type": "code",
   "execution_count": null,
   "metadata": {},
   "outputs": [],
   "source": [
    "importances = torch.zeros((data_normalized.shape[1]))\n",
    "for i, node in enumerate(non_leaves):\n",
    "  importances += node.num_instances/model.num_training_instances*(data_normalized[i, :]/np.linalg.norm(data_normalized[i, :]))"
   ]
  },
  {
   "cell_type": "code",
   "execution_count": null,
   "metadata": {},
   "outputs": [],
   "source": [
    "torch.topk(importances, k=10)"
   ]
  },
  {
   "cell_type": "code",
   "execution_count": null,
   "metadata": {},
   "outputs": [],
   "source": [
    "dict(zip(X_train.columns[torch.topk(importances, k=10).indices.tolist()].tolist(), torch.topk(importances, k=10).values.tolist()))"
   ]
  },
  {
   "cell_type": "markdown",
   "metadata": {},
   "source": [
    "# After implementation"
   ]
  },
  {
   "cell_type": "code",
   "execution_count": 105,
   "metadata": {},
   "outputs": [
    {
     "data": {
      "text/plain": [
       "{738: 0.137959286570549,\n",
       " 157: 0.13505646586418152,\n",
       " 351: 0.13352590799331665,\n",
       " 383: 0.13290515542030334,\n",
       " 468: 0.1314186006784439,\n",
       " 139: 0.13118121027946472,\n",
       " 509: 0.13102541863918304,\n",
       " 402: 0.13017357885837555,\n",
       " 721: 0.12940764427185059,\n",
       " 744: 0.12931495904922485}"
      ]
     },
     "execution_count": 105,
     "metadata": {},
     "output_type": "execute_result"
    }
   ],
   "source": [
    "model.feature_importances(k=10)"
   ]
  },
  {
   "cell_type": "code",
   "execution_count": 106,
   "metadata": {},
   "outputs": [
    {
     "data": {
      "text/plain": [
       "tensor([0.0903, 0.0890, 0.1104, 0.0968, 0.1143, 0.1084, 0.1196, 0.1140, 0.1050,\n",
       "        0.1057, 0.1228, 0.1068, 0.0831, 0.1034, 0.1133, 0.1041, 0.1021, 0.1045,\n",
       "        0.1124, 0.1132, 0.0997, 0.0949, 0.1063, 0.1092, 0.1115, 0.1089, 0.1151,\n",
       "        0.1146, 0.1073, 0.1004, 0.1015, 0.0994, 0.1058, 0.1114, 0.1169, 0.1089,\n",
       "        0.1022, 0.1136, 0.1140, 0.1177, 0.1118, 0.1053, 0.1055, 0.1112, 0.1110,\n",
       "        0.0952, 0.0981, 0.1005, 0.1084, 0.1023, 0.0916, 0.1123, 0.1175, 0.1144,\n",
       "        0.0996, 0.1036, 0.1057, 0.1131, 0.1082, 0.1036, 0.0780, 0.1226, 0.1090,\n",
       "        0.0989, 0.1160, 0.1154, 0.1015, 0.1078, 0.1094, 0.1079, 0.1095, 0.1050,\n",
       "        0.1032, 0.0944, 0.1057, 0.1156, 0.0947, 0.1049, 0.1075, 0.1030, 0.0968,\n",
       "        0.1012, 0.1044, 0.0875, 0.1210, 0.1255, 0.1009, 0.1150, 0.1127, 0.0935,\n",
       "        0.1174, 0.1052, 0.1163, 0.1090, 0.1045, 0.1221, 0.0990, 0.1075, 0.1049,\n",
       "        0.1173, 0.1110, 0.1106, 0.1018, 0.1079, 0.1033, 0.0843, 0.1188, 0.1010,\n",
       "        0.1044, 0.1085, 0.1086, 0.1029, 0.0983, 0.0962, 0.1060, 0.1006, 0.1161,\n",
       "        0.1112, 0.0921, 0.1039, 0.1117, 0.1159, 0.0950, 0.1248, 0.1040, 0.1095,\n",
       "        0.1118, 0.0988, 0.1054, 0.1024, 0.0866, 0.0788, 0.1031, 0.1240, 0.1008,\n",
       "        0.1101, 0.1028, 0.1109, 0.1231, 0.1319, 0.1116, 0.1030, 0.1060, 0.0809,\n",
       "        0.1147, 0.1162, 0.1122, 0.1147, 0.0967, 0.1056, 0.0892, 0.0907, 0.1064,\n",
       "        0.1014, 0.1025, 0.1035, 0.1240, 0.1351, 0.1046, 0.1090, 0.1076, 0.0890,\n",
       "        0.1063, 0.1144, 0.1159, 0.1219, 0.1002, 0.0981, 0.1022, 0.0706, 0.0963,\n",
       "        0.0992, 0.0979, 0.1052, 0.1163, 0.1116, 0.1054, 0.1095, 0.1004, 0.1023,\n",
       "        0.1053, 0.0959, 0.1044, 0.1175, 0.1169, 0.0913, 0.0899, 0.1130, 0.1052,\n",
       "        0.1063, 0.1040, 0.1004, 0.1050, 0.0990, 0.1196, 0.1139, 0.1089, 0.1145,\n",
       "        0.1109, 0.1151, 0.1145, 0.1023, 0.1156, 0.1168, 0.1006, 0.1028, 0.1023,\n",
       "        0.1105, 0.1076, 0.0971, 0.1038, 0.1235, 0.0995, 0.1261, 0.1124, 0.1059,\n",
       "        0.1038, 0.1043, 0.1108, 0.0950, 0.1113, 0.1183, 0.1161, 0.1016, 0.1179,\n",
       "        0.1046, 0.1055, 0.1037, 0.1174, 0.1064, 0.1150, 0.1049, 0.1081, 0.1046,\n",
       "        0.1063, 0.1043, 0.0947, 0.1075, 0.1106, 0.1037, 0.1198, 0.1239, 0.0983,\n",
       "        0.0954, 0.0952, 0.1156, 0.1040, 0.1039, 0.0991, 0.1069, 0.1137, 0.1074,\n",
       "        0.1187, 0.1088, 0.0922, 0.1006, 0.1047, 0.1154, 0.0985, 0.1036, 0.1086,\n",
       "        0.0859, 0.1276, 0.1062, 0.0862, 0.1240, 0.1090, 0.1091, 0.1082, 0.0948,\n",
       "        0.1185, 0.1077, 0.1089, 0.1283, 0.0988, 0.1113, 0.1077, 0.1008, 0.1066,\n",
       "        0.1034, 0.1087, 0.1096, 0.1101, 0.1221, 0.1004, 0.1073, 0.0986, 0.1030,\n",
       "        0.1181, 0.1029, 0.1071, 0.0984, 0.1119, 0.0918, 0.1033, 0.1022, 0.1172,\n",
       "        0.1075, 0.1004, 0.1070, 0.1105, 0.0949, 0.1048, 0.1157, 0.1047, 0.1194,\n",
       "        0.0875, 0.1103, 0.1020, 0.1183, 0.1097, 0.1127, 0.1051, 0.1073, 0.1049,\n",
       "        0.1111, 0.0984, 0.1124, 0.0890, 0.1059, 0.0979, 0.1103, 0.1013, 0.0999,\n",
       "        0.1064, 0.1038, 0.1021, 0.1000, 0.1131, 0.1176, 0.1101, 0.1131, 0.0971,\n",
       "        0.1087, 0.1055, 0.1093, 0.1052, 0.1145, 0.1057, 0.1131, 0.1044, 0.1023,\n",
       "        0.1047, 0.0873, 0.1057, 0.1071, 0.1258, 0.1026, 0.1097, 0.1137, 0.1001,\n",
       "        0.1328, 0.1089, 0.1052, 0.1148, 0.1059, 0.1014, 0.0961, 0.1177, 0.1245,\n",
       "        0.1116, 0.0953, 0.1139, 0.0892, 0.0972, 0.0991, 0.1040, 0.0964, 0.0970,\n",
       "        0.1116, 0.1187, 0.1018, 0.1102, 0.1117, 0.1057, 0.0996, 0.1048, 0.1183,\n",
       "        0.1108, 0.1078, 0.1065, 0.1041, 0.1030, 0.1329, 0.1066, 0.1054, 0.1055,\n",
       "        0.1164, 0.1156, 0.1117, 0.0986, 0.1192, 0.1202, 0.0958, 0.1131, 0.1191,\n",
       "        0.1226, 0.1002, 0.1035, 0.0958, 0.0875, 0.1041, 0.1301, 0.1042, 0.1128,\n",
       "        0.1097, 0.1054, 0.1112, 0.1068, 0.1006, 0.1140, 0.1050, 0.1131, 0.0986,\n",
       "        0.0943, 0.0913, 0.0983, 0.1031, 0.0985, 0.1096, 0.1086, 0.1092, 0.1000,\n",
       "        0.1089, 0.0818, 0.1117, 0.0907, 0.1032, 0.1033, 0.1013, 0.0987, 0.1148,\n",
       "        0.0850, 0.1295, 0.0993, 0.1038, 0.1028, 0.0997, 0.0967, 0.1169, 0.1040,\n",
       "        0.1070, 0.0985, 0.1087, 0.1209, 0.1080, 0.0971, 0.1056, 0.0910, 0.1179,\n",
       "        0.1098, 0.1151, 0.0810, 0.1042, 0.1120, 0.1189, 0.1111, 0.1052, 0.1020,\n",
       "        0.1073, 0.0914, 0.1128, 0.0935, 0.0937, 0.1038, 0.1065, 0.1071, 0.1035,\n",
       "        0.1307, 0.0948, 0.0912, 0.1087, 0.1008, 0.1064, 0.1114, 0.1143, 0.0967,\n",
       "        0.1251, 0.0916, 0.1083, 0.1036, 0.1050, 0.1176, 0.1204, 0.1030, 0.1139,\n",
       "        0.0897, 0.0985, 0.1043, 0.1130, 0.1115, 0.1156, 0.1139, 0.1043, 0.1286,\n",
       "        0.0948, 0.0936, 0.1193, 0.0976, 0.1003, 0.0997, 0.0979, 0.1065, 0.1168,\n",
       "        0.1046, 0.1029, 0.0965, 0.1022, 0.0996, 0.1310, 0.1104, 0.1041, 0.1077,\n",
       "        0.1170, 0.0981, 0.1117, 0.0954, 0.1168, 0.1124, 0.0868, 0.1071, 0.1059,\n",
       "        0.1065, 0.1044, 0.1023, 0.1006, 0.0992, 0.1120, 0.1031, 0.1073, 0.0981,\n",
       "        0.1067, 0.1064, 0.1098, 0.0964, 0.1077, 0.1102, 0.1025, 0.1014, 0.1083,\n",
       "        0.0976, 0.1073, 0.0879, 0.1033, 0.1061, 0.1109, 0.1077, 0.1063, 0.1136,\n",
       "        0.1061, 0.0988, 0.1029, 0.1174, 0.1167, 0.0886, 0.1104, 0.1069, 0.1042,\n",
       "        0.1112, 0.1035, 0.1051, 0.1063, 0.1082, 0.0892, 0.0960, 0.1040, 0.1190,\n",
       "        0.1105, 0.1104, 0.1178, 0.1036, 0.1037, 0.1078, 0.1181, 0.1210, 0.1116,\n",
       "        0.1100, 0.1047, 0.0954, 0.1088, 0.1079, 0.0981, 0.0918, 0.1015, 0.1064,\n",
       "        0.1035, 0.1164, 0.1076, 0.0930, 0.0963, 0.1014, 0.0991, 0.1167, 0.1153,\n",
       "        0.0972, 0.1097, 0.1078, 0.1201, 0.0905, 0.1196, 0.1198, 0.1099, 0.0951,\n",
       "        0.1066, 0.1111, 0.1094, 0.1085, 0.1042, 0.1034, 0.1220, 0.1166, 0.1054,\n",
       "        0.1048, 0.1068, 0.1136, 0.1111, 0.1120, 0.1003, 0.0923, 0.1008, 0.1156,\n",
       "        0.1115, 0.1001, 0.1007, 0.1100, 0.1118, 0.1132, 0.1209, 0.1118, 0.1055,\n",
       "        0.1145, 0.0980, 0.1032, 0.1167, 0.1027, 0.1050, 0.0983, 0.1136, 0.1006,\n",
       "        0.1025, 0.1064, 0.1119, 0.1142, 0.1226, 0.1116, 0.1081, 0.1075, 0.1056,\n",
       "        0.1074, 0.0976, 0.1014, 0.1032, 0.1032, 0.1147, 0.0979, 0.1078, 0.1061,\n",
       "        0.1059, 0.1050, 0.1012, 0.0949, 0.1155, 0.1022, 0.0973, 0.1122, 0.0991,\n",
       "        0.1029, 0.0964, 0.1075, 0.1036, 0.1074, 0.1107, 0.1105, 0.0934, 0.1143,\n",
       "        0.1080, 0.0931, 0.0920, 0.1027, 0.1135, 0.1131, 0.1041, 0.1050, 0.1144,\n",
       "        0.1068, 0.0998, 0.0847, 0.1114, 0.0969, 0.1059, 0.1099, 0.1030, 0.1123,\n",
       "        0.1076, 0.1062, 0.1053, 0.1017, 0.1052, 0.1036, 0.1231, 0.1040, 0.1069,\n",
       "        0.0758, 0.0818, 0.0962, 0.0892, 0.1118, 0.0956, 0.1028, 0.1207, 0.1075,\n",
       "        0.0861, 0.0984, 0.1202, 0.1072, 0.1066, 0.1111, 0.1068, 0.0962, 0.1028,\n",
       "        0.1094, 0.1286, 0.1227, 0.1155, 0.0981, 0.1078, 0.1032, 0.0810, 0.1095,\n",
       "        0.1027, 0.1033, 0.1034, 0.1121, 0.1093, 0.1188, 0.0973, 0.1136, 0.0941,\n",
       "        0.1371, 0.1077, 0.0858, 0.1095, 0.0930, 0.1072, 0.1294, 0.1062, 0.1044,\n",
       "        0.1006, 0.1035, 0.1108, 0.1018, 0.0950, 0.1164, 0.1148, 0.0941, 0.0993,\n",
       "        0.1108, 0.1022, 0.1037, 0.1036, 0.1019, 0.1040, 0.0721, 0.0921, 0.1065,\n",
       "        0.1123, 0.1152, 0.1114, 0.1006])"
      ]
     },
     "execution_count": 106,
     "metadata": {},
     "output_type": "execute_result"
    }
   ],
   "source": [
    "model.feature_importances()"
   ]
  },
  {
   "attachments": {},
   "cell_type": "markdown",
   "metadata": {},
   "source": [
    "### Interpretability\n",
    "\n",
    "- Fit UMAP on the whole dataset\n",
    "- Visualize the embeddings in 2D\n",
    "- For each prediction: take the path of each sample of SVI and calculate distribution of the taken paths\n",
    "- For each path, take the top 5 most important features of each node starting from the root and going towards the leaf\n",
    "- Form a flow chart based on the paths. The flow chart should go from left to right\n",
    "- Each block in the flow chart should be alligned with a particular node from the path\n",
    "- A block contains the features and their values which together constitute a sub-rule\n",
    "- The path (sub-rules followed by each other in a sequential order) forms a rule"
   ]
  },
  {
   "cell_type": "code",
   "execution_count": null,
   "metadata": {},
   "outputs": [],
   "source": []
  },
  {
   "cell_type": "code",
   "execution_count": 15,
   "metadata": {},
   "outputs": [],
   "source": [
    "nodes = []\n",
    "model.get_nodes(model.root_node, nodes)"
   ]
  },
  {
   "cell_type": "code",
   "execution_count": 16,
   "metadata": {},
   "outputs": [],
   "source": [
    "edges = model.create_edge_list(model.root_node)"
   ]
  },
  {
   "cell_type": "code",
   "execution_count": 17,
   "metadata": {},
   "outputs": [],
   "source": [
    "import networkx as nx\n",
    "\n",
    "G = nx.DiGraph()\n",
    "G.add_edges_from(edges)"
   ]
  },
  {
   "cell_type": "code",
   "execution_count": 18,
   "metadata": {},
   "outputs": [],
   "source": [
    "import matplotlib.pyplot as plt\n",
    "import random\n",
    "\n",
    "    \n",
    "def hierarchy_pos(G, root=None, width=1., vert_gap = 0.2, vert_loc = 0, xcenter = 0.5):\n",
    "\n",
    "    '''\n",
    "    From Joel's answer at https://stackoverflow.com/a/29597209/2966723.  \n",
    "    Licensed under Creative Commons Attribution-Share Alike \n",
    "    \n",
    "    If the graph is a tree this will return the positions to plot this in a \n",
    "    hierarchical layout.\n",
    "    \n",
    "    G: the graph (must be a tree)\n",
    "    \n",
    "    root: the root node of current branch \n",
    "    - if the tree is directed and this is not given, \n",
    "      the root will be found and used\n",
    "    - if the tree is directed and this is given, then \n",
    "      the positions will be just for the descendants of this node.\n",
    "    - if the tree is undirected and not given, \n",
    "      then a random choice will be used.\n",
    "    \n",
    "    width: horizontal space allocated for this branch - avoids overlap with other branches\n",
    "    \n",
    "    vert_gap: gap between levels of hierarchy\n",
    "    \n",
    "    vert_loc: vertical location of root\n",
    "    \n",
    "    xcenter: horizontal location of root\n",
    "    '''\n",
    "    if not nx.is_tree(G):\n",
    "        raise TypeError('cannot use hierarchy_pos on a graph that is not a tree')\n",
    "\n",
    "    if root is None:\n",
    "        if isinstance(G, nx.DiGraph):\n",
    "            root = next(iter(nx.topological_sort(G)))  #allows back compatibility with nx version 1.11\n",
    "        else:\n",
    "            root = random.choice(list(G.nodes))\n",
    "\n",
    "    def _hierarchy_pos(G, root, width=1., vert_gap = 0.2, vert_loc = 0, xcenter = 0.5, pos = None, parent = None):\n",
    "        '''\n",
    "        see hierarchy_pos docstring for most arguments\n",
    "\n",
    "        pos: a dict saying where all nodes go if they have been assigned\n",
    "        parent: parent of this branch. - only affects it if non-directed\n",
    "\n",
    "        '''\n",
    "    \n",
    "        if pos is None:\n",
    "            pos = {root:(xcenter,vert_loc)}\n",
    "        else:\n",
    "            pos[root] = (xcenter, vert_loc)\n",
    "        children = list(G.neighbors(root))\n",
    "        if not isinstance(G, nx.DiGraph) and parent is not None:\n",
    "            children.remove(parent)  \n",
    "        if len(children)!=0:\n",
    "            dx = width/len(children) \n",
    "            nextx = xcenter - width/2 - dx/2\n",
    "            for child in children:\n",
    "                nextx += dx\n",
    "                pos = _hierarchy_pos(G,child, width = width*.5, vert_gap = vert_gap, \n",
    "                                    vert_loc = vert_loc-vert_gap, xcenter=nextx,\n",
    "                                    pos=pos, parent = root)\n",
    "        return pos\n",
    "\n",
    "            \n",
    "    return _hierarchy_pos(G, root, width, vert_gap, vert_loc, xcenter)"
   ]
  },
  {
   "cell_type": "code",
   "execution_count": 19,
   "metadata": {},
   "outputs": [],
   "source": [
    "pos = hierarchy_pos(G,model.root_node, width=5., vert_gap = 5.)"
   ]
  },
  {
   "cell_type": "code",
   "execution_count": 20,
   "metadata": {},
   "outputs": [
    {
     "data": {
      "text/plain": [
       "[<src.models.node.VNode at 0x29cfd5700>,\n",
       " <src.models.node.VNode at 0x29cfd5f70>,\n",
       " <src.models.node.VNode at 0x29cfa8a90>,\n",
       " <src.models.node.VNode at 0x29cfd58e0>,\n",
       " <src.models.node.VNode at 0x29cfa8910>,\n",
       " <src.models.node.VNode at 0x29cfa8d90>,\n",
       " <src.models.node.VNode at 0x2973c2790>,\n",
       " <src.models.node.VNode at 0x29cfa8be0>]"
      ]
     },
     "execution_count": 20,
     "metadata": {},
     "output_type": "execute_result"
    }
   ],
   "source": [
    "leaves = []\n",
    "model.get_leaves(model.root_node, leaves)\n",
    "leaves"
   ]
  },
  {
   "cell_type": "code",
   "execution_count": 22,
   "metadata": {},
   "outputs": [
    {
     "data": {
      "text/plain": [
       "[<src.models.node.VNode at 0x2971efcd0>,\n",
       " <src.models.node.VNode at 0x29ce505e0>,\n",
       " <src.models.node.VNode at 0x29cfa8f70>,\n",
       " <src.models.node.VNode at 0x29cfa8130>,\n",
       " <src.models.node.VNode at 0x1180d1b50>,\n",
       " <src.models.node.VNode at 0x29ce56760>,\n",
       " <src.models.node.VNode at 0x2973c2730>]"
      ]
     },
     "execution_count": 22,
     "metadata": {},
     "output_type": "execute_result"
    }
   ],
   "source": [
    "non_leaves = [x for x in nodes if x not in leaves]\n",
    "non_leaves"
   ]
  },
  {
   "cell_type": "code",
   "execution_count": 24,
   "metadata": {},
   "outputs": [
    {
     "data": {
      "text/plain": [
       "True"
      ]
     },
     "execution_count": 24,
     "metadata": {},
     "output_type": "execute_result"
    }
   ],
   "source": [
    "len(nodes) == len(leaves) + len(non_leaves)"
   ]
  },
  {
   "cell_type": "code",
   "execution_count": 33,
   "metadata": {},
   "outputs": [],
   "source": [
    "weights_per_node = {}\n",
    "for node in non_leaves:\n",
    "    weights_per_node[node] = node.split_model.weight[0]"
   ]
  },
  {
   "cell_type": "code",
   "execution_count": 37,
   "metadata": {},
   "outputs": [
    {
     "data": {
      "text/plain": [
       "[<src.models.node.VNode at 0x2971efcd0>,\n",
       " <src.models.node.VNode at 0x29ce505e0>,\n",
       " <src.models.node.VNode at 0x29cfa8f70>,\n",
       " <src.models.node.VNode at 0x29cfa8130>,\n",
       " <src.models.node.VNode at 0x1180d1b50>,\n",
       " <src.models.node.VNode at 0x29ce56760>,\n",
       " <src.models.node.VNode at 0x2973c2730>]"
      ]
     },
     "execution_count": 37,
     "metadata": {},
     "output_type": "execute_result"
    }
   ],
   "source": [
    "list(weights_per_node.keys())"
   ]
  },
  {
   "cell_type": "code",
   "execution_count": 93,
   "metadata": {},
   "outputs": [],
   "source": [
    "weights_top5 = {}\n",
    "for key, value in weights_per_node.items():\n",
    "    abs_values = np.abs(value.numpy())\n",
    "    sorted_indices = np.argsort(abs_values)[::-1][:5]\n",
    "    sorted_values = abs_values[sorted_indices]\n",
    "    sorted_dict = {idx: val for idx, val in zip(sorted_indices, sorted_values)}\n",
    "    weights_top5[key] = sorted_dict\n",
    "    result_string = ''\n",
    "    for k,v in sorted_dict.items(): result_string+=f\"{k}: {v}\\n\"\n",
    "    weights_top5[key] = result_string"
   ]
  },
  {
   "cell_type": "code",
   "execution_count": 94,
   "metadata": {},
   "outputs": [
    {
     "name": "stdout",
     "output_type": "stream",
     "text": [
      "399: 3.0513534545898438\n",
      "683: 2.858264684677124\n",
      "440: 2.8480002880096436\n",
      "293: 2.726674795150757\n",
      "709: 2.710261106491089\n",
      "\n"
     ]
    }
   ],
   "source": [
    "for k,v in weights_top5.items():\n",
    "  print(weights_top5[k])\n",
    "  break"
   ]
  },
  {
   "cell_type": "code",
   "execution_count": 95,
   "metadata": {},
   "outputs": [],
   "source": [
    "prototype_expected_value = {node: round(torch.sum(node.prototype).item(), 2) for node in leaves}"
   ]
  },
  {
   "cell_type": "code",
   "execution_count": 96,
   "metadata": {},
   "outputs": [
    {
     "data": {
      "text/plain": [
       "{<src.models.node.VNode at 0x29cfd5700>: 1669.88,\n",
       " <src.models.node.VNode at 0x29cfd5f70>: 2187.0,\n",
       " <src.models.node.VNode at 0x29cfa8a90>: 2396.87,\n",
       " <src.models.node.VNode at 0x29cfd58e0>: 2027.61,\n",
       " <src.models.node.VNode at 0x29cfa8910>: 2446.49,\n",
       " <src.models.node.VNode at 0x29cfa8d90>: 2489.78,\n",
       " <src.models.node.VNode at 0x2973c2790>: 2778.8,\n",
       " <src.models.node.VNode at 0x29cfa8be0>: 2219.39}"
      ]
     },
     "execution_count": 96,
     "metadata": {},
     "output_type": "execute_result"
    }
   ],
   "source": [
    "prototype_expected_value"
   ]
  },
  {
   "cell_type": "code",
   "execution_count": 103,
   "metadata": {},
   "outputs": [],
   "source": [
    "non_leaf_sizes = [80 * len(label) for label in list(weights_top5.values())]\n",
    "leaf_sizes = [label for label in list(prototype_expected_value.values())]"
   ]
  },
  {
   "cell_type": "code",
   "execution_count": 104,
   "metadata": {},
   "outputs": [
    {
     "data": {
      "image/png": "[encoded data removed]",
      "text/plain": [
       "<Figure size 1200x1000 with 1 Axes>"
      ]
     },
     "metadata": {},
     "output_type": "display_data"
    }
   ],
   "source": [
    "fig = plt.figure(figsize=(12,10))\n",
    "ax = fig.add_subplot(1, 1, 1)\n",
    "nx.draw(G, ax =ax  , pos=pos, \n",
    "        with_labels=False, node_size=1,arrowstyle='-', \n",
    "        width=5)#,edge_color = skew_edge_colors,)\n",
    "nx.draw_networkx_nodes(G, pos=pos,ax=ax, node_size=non_leaf_sizes, nodelist=non_leaves, node_color='w', edgecolors='black', alpha = 1, node_shape='s')\n",
    "nx.draw_networkx_labels(G, pos=pos,ax=ax, labels=weights_top5, font_size=6);\n",
    "nx.draw_networkx_nodes(G, pos=pos,ax=ax, node_size = leaf_sizes, nodelist=leaves, node_color='w', edgecolors='black', alpha = 1)\n",
    "nx.draw_networkx_labels(G, pos=pos,ax=ax, labels=prototype_expected_value, font_size=6);"
   ]
  },
  {
   "cell_type": "code",
   "execution_count": null,
   "metadata": {},
   "outputs": [],
   "source": []
  }
 ],
 "metadata": {
  "kernelspec": {
   "display_name": "base",
   "language": "python",
   "name": "python3"
  },
  "language_info": {
   "codemirror_mode": {
    "name": "ipython",
    "version": 3
   },
   "file_extension": ".py",
   "mimetype": "text/x-python",
   "name": "python",
   "nbconvert_exporter": "python",
   "pygments_lexer": "ipython3",
   "version": "3.8.17"
  },
  "orig_nbformat": 4,
  "vscode": {
   "interpreter": {
    "hash": "cc7277dfab6d5d4897e99b5cc736f9228836f1dda1604709a8d9bb8c8b4a4da5"
   }
  }
 },
 "nbformat": 4,
 "nbformat_minor": 2
}
