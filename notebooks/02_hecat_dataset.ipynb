{
 "cells": [
  {
   "cell_type": "code",
   "execution_count": 51,
   "metadata": {},
   "outputs": [],
   "source": [
    "import os\n",
    "import sys\n",
    "import numpy as np\n",
    "import pandas as pd"
   ]
  },
  {
   "cell_type": "code",
   "execution_count": 52,
   "metadata": {},
   "outputs": [],
   "source": [
    "sys.path.append('..')\n",
    "from src.models import (split, node, model)\n",
    "from src.data.dataset import ReducedDataset"
   ]
  },
  {
   "cell_type": "code",
   "execution_count": 53,
   "metadata": {},
   "outputs": [],
   "source": [
    "import torch"
   ]
  },
  {
   "cell_type": "code",
   "execution_count": 54,
   "metadata": {},
   "outputs": [],
   "source": [
    "path = os.path.join(os.getcwd(), '../data/raw')\n",
    "filename = 'BO_truncated_mso_2018.pcl'\n",
    "data = ReducedDataset(path, filename)\n",
    "rsf = data.rsf_dataset(to_pcl=False)\n",
    "X_train, T_train, E_train, X_test, T_test, E_test = data.rsf_split(to_pcl=False)"
   ]
  },
  {
   "cell_type": "code",
   "execution_count": 55,
   "metadata": {},
   "outputs": [],
   "source": [
    "X_train, T_train, E_train, X_test, T_test, E_test = torch.Tensor(X_train.values), torch.tensor(T_train), E_train, torch.Tensor(X_test.values), torch.tensor(T_test), E_test"
   ]
  },
  {
   "cell_type": "code",
   "execution_count": 56,
   "metadata": {},
   "outputs": [],
   "source": [
    "target_spyct_train = np.zeros((X_train.shape[0],350))\n",
    "for key, value in enumerate(T_train.tolist()):\n",
    "    for i in range(350):\n",
    "        # if(E_train[key]==1):\n",
    "        #     target_spyct_train[key][i] = np.nan\n",
    "        if(i<value):\n",
    "            target_spyct_train[key][i] = 1\n",
    "        else:\n",
    "            target_spyct_train[key][i] = 0\n",
    "\n",
    "target_spyct_test = np.zeros((X_test.shape[0],350))\n",
    "for key, value in enumerate(T_test.tolist()):\n",
    "    for i in range(350):\n",
    "        # if(E_test[key]==1):\n",
    "        #     target_spyct_test[key][i] = np.nan\n",
    "        if(i<value):\n",
    "            target_spyct_test[key][i] = 1\n",
    "        else:\n",
    "            target_spyct_test[key][i] = 0"
   ]
  },
  {
   "cell_type": "code",
   "execution_count": 57,
   "metadata": {},
   "outputs": [],
   "source": [
    "target_spyct_train = torch.Tensor(target_spyct_train)\n",
    "target_spyct_test = torch.Tensor(target_spyct_test)"
   ]
  },
  {
   "cell_type": "code",
   "execution_count": 58,
   "metadata": {},
   "outputs": [],
   "source": [
    "bayes_spyct = model.Spyct(bs=64)\n",
    "bayes_spyct.fit(X_train, target_spyct_train)"
   ]
  },
  {
   "cell_type": "code",
   "execution_count": 59,
   "metadata": {},
   "outputs": [],
   "source": [
    "preds_bayes = bayes_spyct.predict(X_test)"
   ]
  },
  {
   "cell_type": "code",
   "execution_count": 88,
   "metadata": {},
   "outputs": [],
   "source": [
    "import pickle\n",
    "\n",
    "pickle.dump(bayes_spyct, open('../models/bspyct_hecat_noncensored.pcl', 'wb'))\n",
    "pickle.dump(preds_bayes, open('../models/preds_bspyct_hecat_noncensored.pcl', 'wb'))"
   ]
  },
  {
   "cell_type": "code",
   "execution_count": 60,
   "metadata": {},
   "outputs": [
    {
     "data": {
      "text/plain": [
       "torch.Size([9924, 100, 350])"
      ]
     },
     "execution_count": 60,
     "metadata": {},
     "output_type": "execute_result"
    }
   ],
   "source": [
    "preds_bayes.shape"
   ]
  },
  {
   "cell_type": "code",
   "execution_count": 87,
   "metadata": {},
   "outputs": [
    {
     "data": {
      "text/plain": [
       "<matplotlib.legend.Legend at 0x7fbbc03365e0>"
      ]
     },
     "execution_count": 87,
     "metadata": {},
     "output_type": "execute_result"
    },
    {
     "data": {
      "image/png": "[encoded data removed]",
      "text/plain": [
       "<Figure size 1080x360 with 1 Axes>"
      ]
     },
     "metadata": {
      "needs_background": "light"
     },
     "output_type": "display_data"
    }
   ],
   "source": [
    "import matplotlib.pyplot as plt\n",
    "\n",
    "i = 1\n",
    "plt.figure(figsize=(15,5))\n",
    "plt.plot(preds_bayes[i, :, :].mean(axis=0), label='Bayes SPYCT')\n",
    "\n",
    "percentiles_10 = torch.quantile(preds_bayes[i, :, :], 0.1, axis=0)\n",
    "percentiles_90 = torch.quantile(preds_bayes[i, :, :], 0.9, axis=0)\n",
    "\n",
    "# Plot the shaded area between the 10th and 90th percentiles\n",
    "plt.fill_between(range(preds_bayes.shape[-1]), percentiles_10, percentiles_90, color='pink', alpha=0.5)\n",
    "plt.legend()"
   ]
  },
  {
   "cell_type": "code",
   "execution_count": null,
   "metadata": {},
   "outputs": [],
   "source": []
  }
 ],
 "metadata": {
  "kernelspec": {
   "display_name": "base",
   "language": "python",
   "name": "python3"
  },
  "language_info": {
   "codemirror_mode": {
    "name": "ipython",
    "version": 3
   },
   "file_extension": ".py",
   "mimetype": "text/x-python",
   "name": "python",
   "nbconvert_exporter": "python",
   "pygments_lexer": "ipython3",
   "version": "3.8.5 (default, Sep  4 2020, 02:22:02) \n[Clang 10.0.0 ]"
  },
  "orig_nbformat": 4,
  "vscode": {
   "interpreter": {
    "hash": "b9f83dfc2b848765e4acae13ead10b5b2edd41ddfbdd03a50b352bc91f4661c3"
   }
  }
 },
 "nbformat": 4,
 "nbformat_minor": 2
}
