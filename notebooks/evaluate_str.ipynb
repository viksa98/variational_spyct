{
 "cells": [
  {
   "cell_type": "code",
   "execution_count": 27,
   "metadata": {},
   "outputs": [],
   "source": [
    "import os\n",
    "import sys\n",
    "import numpy as np\n",
    "import pandas as pd\n",
    "\n",
    "sys.path.append('..')\n",
    "from src.models.model import VSpyct\n",
    "\n",
    "import torch\n",
    "import pyro"
   ]
  },
  {
   "cell_type": "code",
   "execution_count": 28,
   "metadata": {},
   "outputs": [],
   "source": [
    "import random\n",
    "\n",
    "torch.manual_seed(0)\n",
    "torch.cuda.manual_seed(0)  # Set seed for CUDA\n",
    "random.seed(0)\n",
    "np.random.seed(0)"
   ]
  },
  {
   "cell_type": "code",
   "execution_count": 30,
   "metadata": {},
   "outputs": [],
   "source": [
    "max_depth = 5\n",
    "minimum_examples_to_split = 2\n",
    "epochs = 500\n",
    "bs = 128\n",
    "lr = 0.01\n",
    "subspace_size = 1\n",
    "device = 'cpu'"
   ]
  },
  {
   "cell_type": "code",
   "execution_count": 1882,
   "metadata": {},
   "outputs": [],
   "source": [
    "import arff\n",
    "import pandas as pd\n",
    "\n",
    "with open('../../../../clus/data/str/ailerons/settings.ens.test.preds', 'r') as f:\n",
    "    dataset = arff.load(f)\n",
    "\n",
    "# Convert the data to a pandas DataFrame\n",
    "df = pd.DataFrame(dataset['data'], columns=[attr[0] for attr in dataset['attributes']])"
   ]
  },
  {
   "cell_type": "code",
   "execution_count": 1883,
   "metadata": {},
   "outputs": [
    {
     "data": {
      "text/plain": [
       "['goal', 'goal-pred', 'goal-stdev']"
      ]
     },
     "execution_count": 1883,
     "metadata": {},
     "output_type": "execute_result"
    }
   ],
   "source": [
    "df.columns.tolist()"
   ]
  },
  {
   "cell_type": "code",
   "execution_count": 1884,
   "metadata": {},
   "outputs": [],
   "source": [
    "preds = df[['goal-pred']].copy().values\n",
    "true = df[['goal']].copy().values"
   ]
  },
  {
   "cell_type": "code",
   "execution_count": 1885,
   "metadata": {},
   "outputs": [
    {
     "data": {
      "text/plain": [
       "0.0001330909090909091"
      ]
     },
     "execution_count": 1885,
     "metadata": {},
     "output_type": "execute_result"
    }
   ],
   "source": [
    "from sklearn.metrics import mean_absolute_error\n",
    "\n",
    "mean_absolute_error(preds, true)"
   ]
  },
  {
   "cell_type": "code",
   "execution_count": 1886,
   "metadata": {},
   "outputs": [],
   "source": [
    "perf = ('PCT-Ensemble', mean_absolute_error(preds, true))"
   ]
  },
  {
   "cell_type": "code",
   "execution_count": 1887,
   "metadata": {},
   "outputs": [
    {
     "data": {
      "text/plain": [
       "('PCT-Ensemble', 0.0001330909090909091)"
      ]
     },
     "execution_count": 1887,
     "metadata": {},
     "output_type": "execute_result"
    }
   ],
   "source": [
    "perf"
   ]
  },
  {
   "cell_type": "code",
   "execution_count": 1888,
   "metadata": {},
   "outputs": [],
   "source": [
    "import pickle\n",
    "with open ('../../../../clus/data/str/ailerons/pct_ensemble.pcl', 'wb') as fp:\n",
    "  pickle.dump(perf, fp)"
   ]
  },
  {
   "cell_type": "code",
   "execution_count": null,
   "metadata": {},
   "outputs": [],
   "source": [
    "# dolnive komentirani se za klasifikacija"
   ]
  },
  {
   "cell_type": "code",
   "execution_count": 1129,
   "metadata": {},
   "outputs": [],
   "source": [
    "# import numpy as np\n",
    "# preds = np.argmax(preds,axis=1)\n",
    "# true = np.argmax(true,axis=1)"
   ]
  },
  {
   "cell_type": "code",
   "execution_count": 1130,
   "metadata": {},
   "outputs": [
    {
     "data": {
      "text/plain": [
       "0.8970036967595527"
      ]
     },
     "execution_count": 1130,
     "metadata": {},
     "output_type": "execute_result"
    }
   ],
   "source": [
    "# from sklearn.metrics import f1_score\n",
    "\n",
    "# f1_score(preds, true, average='macro')"
   ]
  },
  {
   "cell_type": "code",
   "execution_count": 1138,
   "metadata": {},
   "outputs": [],
   "source": [
    "# perf = ('PCT-Ensemble', f1_score(preds, true, average='macro'))"
   ]
  },
  {
   "cell_type": "code",
   "execution_count": 1139,
   "metadata": {},
   "outputs": [],
   "source": [
    "# import pickle\n",
    "# with open ('../../../../clus/data/mcc/semeion/pct_ensemble.pcl', 'wb') as fp:\n",
    "#   pickle.dump(perf, fp)"
   ]
  },
  {
   "cell_type": "code",
   "execution_count": null,
   "metadata": {},
   "outputs": [],
   "source": []
  },
  {
   "cell_type": "code",
   "execution_count": 127,
   "metadata": {},
   "outputs": [],
   "source": [
    "import arff\n",
    "import pandas as pd\n",
    "\n",
    "with open('../data/raw/final_datesets/mfeat_zernike_mcc.arff', 'r') as f:\n",
    "    dataset = arff.load(f)\n",
    "# Convert the data to a pandas DataFrame\n",
    "df = pd.DataFrame(dataset['data'], columns=[attr[0] for attr in dataset['attributes']])\n",
    "\n",
    "# Shuffle the DataFrame if needed\n",
    "df = df.sample(frac=1).reset_index(drop=True)"
   ]
  },
  {
   "cell_type": "code",
   "execution_count": 128,
   "metadata": {},
   "outputs": [],
   "source": [
    "# from scipy.io import arff\n",
    "# import pandas as pd\n",
    "\n",
    "# df = pd.DataFrame(arff.loadarff('../data/raw/final_datesets/qsar234_str.arff')[0]).sample(frac=1).reset_index(drop=True)"
   ]
  },
  {
   "cell_type": "code",
   "execution_count": 129,
   "metadata": {},
   "outputs": [
    {
     "data": {
      "text/plain": [
       "(2000, 48)"
      ]
     },
     "execution_count": 129,
     "metadata": {},
     "output_type": "execute_result"
    }
   ],
   "source": [
    "df.shape"
   ]
  },
  {
   "cell_type": "code",
   "execution_count": 130,
   "metadata": {},
   "outputs": [
    {
     "data": {
      "text/plain": [
       "att1     0\n",
       "att2     0\n",
       "att3     0\n",
       "att4     0\n",
       "att5     0\n",
       "att6     0\n",
       "att7     0\n",
       "att8     0\n",
       "att9     0\n",
       "att10    0\n",
       "att11    0\n",
       "att12    0\n",
       "att13    0\n",
       "att14    0\n",
       "att15    0\n",
       "att16    0\n",
       "att17    0\n",
       "att18    0\n",
       "att19    0\n",
       "att20    0\n",
       "att21    0\n",
       "att22    0\n",
       "att23    0\n",
       "att24    0\n",
       "att25    0\n",
       "att26    0\n",
       "att27    0\n",
       "att28    0\n",
       "att29    0\n",
       "att30    0\n",
       "att31    0\n",
       "att32    0\n",
       "att33    0\n",
       "att34    0\n",
       "att35    0\n",
       "att36    0\n",
       "att37    0\n",
       "att38    0\n",
       "att39    0\n",
       "att40    0\n",
       "att41    0\n",
       "att42    0\n",
       "att43    0\n",
       "att44    0\n",
       "att45    0\n",
       "att46    0\n",
       "att47    0\n",
       "class    0\n",
       "dtype: int64"
      ]
     },
     "execution_count": 130,
     "metadata": {},
     "output_type": "execute_result"
    }
   ],
   "source": [
    "df.isna().sum()"
   ]
  },
  {
   "cell_type": "code",
   "execution_count": 131,
   "metadata": {},
   "outputs": [],
   "source": [
    "# df['class'].unique()"
   ]
  },
  {
   "cell_type": "code",
   "execution_count": 132,
   "metadata": {},
   "outputs": [
    {
     "data": {
      "text/html": [
       "<div>\n",
       "<style scoped>\n",
       "    .dataframe tbody tr th:only-of-type {\n",
       "        vertical-align: middle;\n",
       "    }\n",
       "\n",
       "    .dataframe tbody tr th {\n",
       "        vertical-align: top;\n",
       "    }\n",
       "\n",
       "    .dataframe thead th {\n",
       "        text-align: right;\n",
       "    }\n",
       "</style>\n",
       "<table border=\"1\" class=\"dataframe\">\n",
       "  <thead>\n",
       "    <tr style=\"text-align: right;\">\n",
       "      <th></th>\n",
       "      <th>att1</th>\n",
       "      <th>att2</th>\n",
       "      <th>att3</th>\n",
       "      <th>att4</th>\n",
       "      <th>att5</th>\n",
       "      <th>att6</th>\n",
       "      <th>att7</th>\n",
       "      <th>att8</th>\n",
       "      <th>att9</th>\n",
       "      <th>att10</th>\n",
       "      <th>...</th>\n",
       "      <th>att39</th>\n",
       "      <th>att40</th>\n",
       "      <th>att41</th>\n",
       "      <th>att42</th>\n",
       "      <th>att43</th>\n",
       "      <th>att44</th>\n",
       "      <th>att45</th>\n",
       "      <th>att46</th>\n",
       "      <th>att47</th>\n",
       "      <th>class</th>\n",
       "    </tr>\n",
       "  </thead>\n",
       "  <tbody>\n",
       "    <tr>\n",
       "      <th>0</th>\n",
       "      <td>0.061995</td>\n",
       "      <td>0.660853</td>\n",
       "      <td>21.303939</td>\n",
       "      <td>92.751866</td>\n",
       "      <td>156.775285</td>\n",
       "      <td>325.563053</td>\n",
       "      <td>250.434649</td>\n",
       "      <td>0.099621</td>\n",
       "      <td>2.823827</td>\n",
       "      <td>16.769494</td>\n",
       "      <td>...</td>\n",
       "      <td>62.880944</td>\n",
       "      <td>45.124882</td>\n",
       "      <td>2.101955</td>\n",
       "      <td>220.074761</td>\n",
       "      <td>271.571972</td>\n",
       "      <td>15.210667</td>\n",
       "      <td>51.885295</td>\n",
       "      <td>64.742045</td>\n",
       "      <td>478.419225</td>\n",
       "      <td>3</td>\n",
       "    </tr>\n",
       "    <tr>\n",
       "      <th>1</th>\n",
       "      <td>0.022235</td>\n",
       "      <td>0.436177</td>\n",
       "      <td>10.125818</td>\n",
       "      <td>60.690985</td>\n",
       "      <td>68.266964</td>\n",
       "      <td>192.474861</td>\n",
       "      <td>230.791060</td>\n",
       "      <td>0.145739</td>\n",
       "      <td>4.006051</td>\n",
       "      <td>35.560095</td>\n",
       "      <td>...</td>\n",
       "      <td>7.790595</td>\n",
       "      <td>105.357990</td>\n",
       "      <td>7.750090</td>\n",
       "      <td>153.902987</td>\n",
       "      <td>354.769893</td>\n",
       "      <td>1.999136</td>\n",
       "      <td>120.554575</td>\n",
       "      <td>45.770638</td>\n",
       "      <td>424.747402</td>\n",
       "      <td>10</td>\n",
       "    </tr>\n",
       "    <tr>\n",
       "      <th>2</th>\n",
       "      <td>0.139546</td>\n",
       "      <td>3.222566</td>\n",
       "      <td>26.857256</td>\n",
       "      <td>150.327931</td>\n",
       "      <td>95.461169</td>\n",
       "      <td>50.312995</td>\n",
       "      <td>78.669729</td>\n",
       "      <td>0.149686</td>\n",
       "      <td>1.981851</td>\n",
       "      <td>10.762193</td>\n",
       "      <td>...</td>\n",
       "      <td>32.855821</td>\n",
       "      <td>72.170565</td>\n",
       "      <td>18.848009</td>\n",
       "      <td>247.750561</td>\n",
       "      <td>602.462499</td>\n",
       "      <td>7.889384</td>\n",
       "      <td>49.695811</td>\n",
       "      <td>71.561504</td>\n",
       "      <td>662.454864</td>\n",
       "      <td>2</td>\n",
       "    </tr>\n",
       "    <tr>\n",
       "      <th>3</th>\n",
       "      <td>0.108075</td>\n",
       "      <td>2.972642</td>\n",
       "      <td>19.179127</td>\n",
       "      <td>45.023775</td>\n",
       "      <td>109.798463</td>\n",
       "      <td>248.823721</td>\n",
       "      <td>23.440075</td>\n",
       "      <td>0.165549</td>\n",
       "      <td>3.195142</td>\n",
       "      <td>22.555054</td>\n",
       "      <td>...</td>\n",
       "      <td>46.260870</td>\n",
       "      <td>181.278527</td>\n",
       "      <td>12.608268</td>\n",
       "      <td>188.839566</td>\n",
       "      <td>280.316205</td>\n",
       "      <td>11.628167</td>\n",
       "      <td>115.628885</td>\n",
       "      <td>56.783333</td>\n",
       "      <td>423.883199</td>\n",
       "      <td>4</td>\n",
       "    </tr>\n",
       "    <tr>\n",
       "      <th>4</th>\n",
       "      <td>0.094667</td>\n",
       "      <td>2.028851</td>\n",
       "      <td>34.128094</td>\n",
       "      <td>74.179898</td>\n",
       "      <td>143.996193</td>\n",
       "      <td>320.725539</td>\n",
       "      <td>244.842246</td>\n",
       "      <td>0.112939</td>\n",
       "      <td>3.300519</td>\n",
       "      <td>37.330522</td>\n",
       "      <td>...</td>\n",
       "      <td>30.373814</td>\n",
       "      <td>143.580548</td>\n",
       "      <td>6.308712</td>\n",
       "      <td>245.342206</td>\n",
       "      <td>295.960062</td>\n",
       "      <td>6.700917</td>\n",
       "      <td>83.981714</td>\n",
       "      <td>73.266376</td>\n",
       "      <td>494.365490</td>\n",
       "      <td>3</td>\n",
       "    </tr>\n",
       "  </tbody>\n",
       "</table>\n",
       "<p>5 rows × 48 columns</p>\n",
       "</div>"
      ],
      "text/plain": [
       "       att1      att2       att3        att4        att5        att6  \\\n",
       "0  0.061995  0.660853  21.303939   92.751866  156.775285  325.563053   \n",
       "1  0.022235  0.436177  10.125818   60.690985   68.266964  192.474861   \n",
       "2  0.139546  3.222566  26.857256  150.327931   95.461169   50.312995   \n",
       "3  0.108075  2.972642  19.179127   45.023775  109.798463  248.823721   \n",
       "4  0.094667  2.028851  34.128094   74.179898  143.996193  320.725539   \n",
       "\n",
       "         att7      att8      att9      att10  ...      att39       att40  \\\n",
       "0  250.434649  0.099621  2.823827  16.769494  ...  62.880944   45.124882   \n",
       "1  230.791060  0.145739  4.006051  35.560095  ...   7.790595  105.357990   \n",
       "2   78.669729  0.149686  1.981851  10.762193  ...  32.855821   72.170565   \n",
       "3   23.440075  0.165549  3.195142  22.555054  ...  46.260870  181.278527   \n",
       "4  244.842246  0.112939  3.300519  37.330522  ...  30.373814  143.580548   \n",
       "\n",
       "       att41       att42       att43      att44       att45      att46  \\\n",
       "0   2.101955  220.074761  271.571972  15.210667   51.885295  64.742045   \n",
       "1   7.750090  153.902987  354.769893   1.999136  120.554575  45.770638   \n",
       "2  18.848009  247.750561  602.462499   7.889384   49.695811  71.561504   \n",
       "3  12.608268  188.839566  280.316205  11.628167  115.628885  56.783333   \n",
       "4   6.308712  245.342206  295.960062   6.700917   83.981714  73.266376   \n",
       "\n",
       "        att47  class  \n",
       "0  478.419225      3  \n",
       "1  424.747402     10  \n",
       "2  662.454864      2  \n",
       "3  423.883199      4  \n",
       "4  494.365490      3  \n",
       "\n",
       "[5 rows x 48 columns]"
      ]
     },
     "execution_count": 132,
     "metadata": {},
     "output_type": "execute_result"
    }
   ],
   "source": [
    "df.head()\n"
   ]
  },
  {
   "cell_type": "code",
   "execution_count": 133,
   "metadata": {},
   "outputs": [],
   "source": [
    "# df.classification = df.classification.apply(lambda x: x.replace('\\t', '') if '\\t' in x else x)"
   ]
  },
  {
   "cell_type": "code",
   "execution_count": 134,
   "metadata": {},
   "outputs": [
    {
     "data": {
      "text/plain": [
       "(2000, 48)"
      ]
     },
     "execution_count": 134,
     "metadata": {},
     "output_type": "execute_result"
    }
   ],
   "source": [
    "df.shape"
   ]
  },
  {
   "cell_type": "code",
   "execution_count": 135,
   "metadata": {},
   "outputs": [],
   "source": [
    "target_col =  [df.columns[-1]]\n",
    "# target_col = ['runtime']"
   ]
  },
  {
   "cell_type": "code",
   "execution_count": 136,
   "metadata": {},
   "outputs": [],
   "source": [
    "# Select columns with dtype 'object'\n",
    "object_columns = df.select_dtypes(include=['object']).columns\n",
    "\n",
    "# Convert these columns to strings\n",
    "df[object_columns] = df[object_columns].astype('str')"
   ]
  },
  {
   "cell_type": "code",
   "execution_count": 137,
   "metadata": {},
   "outputs": [],
   "source": [
    "# select all columns in object_columns except the target_col\n",
    "\n",
    "categorical_columns = object_columns[~object_columns.isin(target_col)]"
   ]
  },
  {
   "cell_type": "code",
   "execution_count": 138,
   "metadata": {},
   "outputs": [
    {
     "data": {
      "text/plain": [
       "Index([], dtype='object')"
      ]
     },
     "execution_count": 138,
     "metadata": {},
     "output_type": "execute_result"
    }
   ],
   "source": [
    "categorical_columns"
   ]
  },
  {
   "cell_type": "code",
   "execution_count": 139,
   "metadata": {},
   "outputs": [
    {
     "name": "stderr",
     "output_type": "stream",
     "text": [
      "/Users/viktorandonovic/miniconda3/lib/python3.8/site-packages/sklearn/preprocessing/_encoders.py:975: FutureWarning: `sparse` was renamed to `sparse_output` in version 1.2 and will be removed in 1.4. `sparse_output` is ignored unless you leave `sparse` to its default value.\n",
      "  warnings.warn(\n"
     ]
    }
   ],
   "source": [
    "from sklearn.preprocessing import OneHotEncoder\n",
    "\n",
    "# Initialize OneHotEncoder\n",
    "encoder = OneHotEncoder(sparse=False, handle_unknown='ignore')\n",
    "\n",
    "# Fit and transform the data\n",
    "encoded_array = encoder.fit_transform(df[categorical_columns])\n",
    "\n",
    "# Get the new column names\n",
    "encoded_cols = encoder.get_feature_names_out(categorical_columns)\n",
    "\n",
    "# Create a DataFrame with the encoded data\n",
    "encoded_df = pd.DataFrame(encoded_array, columns=encoded_cols)\n",
    "\n",
    "# Combine with the original DataFrame (excluding the object columns)\n",
    "df = pd.concat([df.drop(columns=categorical_columns), encoded_df], axis=1)"
   ]
  },
  {
   "cell_type": "code",
   "execution_count": 140,
   "metadata": {},
   "outputs": [
    {
     "data": {
      "text/html": [
       "<div>\n",
       "<style scoped>\n",
       "    .dataframe tbody tr th:only-of-type {\n",
       "        vertical-align: middle;\n",
       "    }\n",
       "\n",
       "    .dataframe tbody tr th {\n",
       "        vertical-align: top;\n",
       "    }\n",
       "\n",
       "    .dataframe thead th {\n",
       "        text-align: right;\n",
       "    }\n",
       "</style>\n",
       "<table border=\"1\" class=\"dataframe\">\n",
       "  <thead>\n",
       "    <tr style=\"text-align: right;\">\n",
       "      <th></th>\n",
       "      <th>att1</th>\n",
       "      <th>att2</th>\n",
       "      <th>att3</th>\n",
       "      <th>att4</th>\n",
       "      <th>att5</th>\n",
       "      <th>att6</th>\n",
       "      <th>att7</th>\n",
       "      <th>att8</th>\n",
       "      <th>att9</th>\n",
       "      <th>att10</th>\n",
       "      <th>...</th>\n",
       "      <th>att39</th>\n",
       "      <th>att40</th>\n",
       "      <th>att41</th>\n",
       "      <th>att42</th>\n",
       "      <th>att43</th>\n",
       "      <th>att44</th>\n",
       "      <th>att45</th>\n",
       "      <th>att46</th>\n",
       "      <th>att47</th>\n",
       "      <th>class</th>\n",
       "    </tr>\n",
       "  </thead>\n",
       "  <tbody>\n",
       "    <tr>\n",
       "      <th>0</th>\n",
       "      <td>0.061995</td>\n",
       "      <td>0.660853</td>\n",
       "      <td>21.303939</td>\n",
       "      <td>92.751866</td>\n",
       "      <td>156.775285</td>\n",
       "      <td>325.563053</td>\n",
       "      <td>250.434649</td>\n",
       "      <td>0.099621</td>\n",
       "      <td>2.823827</td>\n",
       "      <td>16.769494</td>\n",
       "      <td>...</td>\n",
       "      <td>62.880944</td>\n",
       "      <td>45.124882</td>\n",
       "      <td>2.101955</td>\n",
       "      <td>220.074761</td>\n",
       "      <td>271.571972</td>\n",
       "      <td>15.210667</td>\n",
       "      <td>51.885295</td>\n",
       "      <td>64.742045</td>\n",
       "      <td>478.419225</td>\n",
       "      <td>3</td>\n",
       "    </tr>\n",
       "    <tr>\n",
       "      <th>1</th>\n",
       "      <td>0.022235</td>\n",
       "      <td>0.436177</td>\n",
       "      <td>10.125818</td>\n",
       "      <td>60.690985</td>\n",
       "      <td>68.266964</td>\n",
       "      <td>192.474861</td>\n",
       "      <td>230.791060</td>\n",
       "      <td>0.145739</td>\n",
       "      <td>4.006051</td>\n",
       "      <td>35.560095</td>\n",
       "      <td>...</td>\n",
       "      <td>7.790595</td>\n",
       "      <td>105.357990</td>\n",
       "      <td>7.750090</td>\n",
       "      <td>153.902987</td>\n",
       "      <td>354.769893</td>\n",
       "      <td>1.999136</td>\n",
       "      <td>120.554575</td>\n",
       "      <td>45.770638</td>\n",
       "      <td>424.747402</td>\n",
       "      <td>10</td>\n",
       "    </tr>\n",
       "    <tr>\n",
       "      <th>2</th>\n",
       "      <td>0.139546</td>\n",
       "      <td>3.222566</td>\n",
       "      <td>26.857256</td>\n",
       "      <td>150.327931</td>\n",
       "      <td>95.461169</td>\n",
       "      <td>50.312995</td>\n",
       "      <td>78.669729</td>\n",
       "      <td>0.149686</td>\n",
       "      <td>1.981851</td>\n",
       "      <td>10.762193</td>\n",
       "      <td>...</td>\n",
       "      <td>32.855821</td>\n",
       "      <td>72.170565</td>\n",
       "      <td>18.848009</td>\n",
       "      <td>247.750561</td>\n",
       "      <td>602.462499</td>\n",
       "      <td>7.889384</td>\n",
       "      <td>49.695811</td>\n",
       "      <td>71.561504</td>\n",
       "      <td>662.454864</td>\n",
       "      <td>2</td>\n",
       "    </tr>\n",
       "    <tr>\n",
       "      <th>3</th>\n",
       "      <td>0.108075</td>\n",
       "      <td>2.972642</td>\n",
       "      <td>19.179127</td>\n",
       "      <td>45.023775</td>\n",
       "      <td>109.798463</td>\n",
       "      <td>248.823721</td>\n",
       "      <td>23.440075</td>\n",
       "      <td>0.165549</td>\n",
       "      <td>3.195142</td>\n",
       "      <td>22.555054</td>\n",
       "      <td>...</td>\n",
       "      <td>46.260870</td>\n",
       "      <td>181.278527</td>\n",
       "      <td>12.608268</td>\n",
       "      <td>188.839566</td>\n",
       "      <td>280.316205</td>\n",
       "      <td>11.628167</td>\n",
       "      <td>115.628885</td>\n",
       "      <td>56.783333</td>\n",
       "      <td>423.883199</td>\n",
       "      <td>4</td>\n",
       "    </tr>\n",
       "    <tr>\n",
       "      <th>4</th>\n",
       "      <td>0.094667</td>\n",
       "      <td>2.028851</td>\n",
       "      <td>34.128094</td>\n",
       "      <td>74.179898</td>\n",
       "      <td>143.996193</td>\n",
       "      <td>320.725539</td>\n",
       "      <td>244.842246</td>\n",
       "      <td>0.112939</td>\n",
       "      <td>3.300519</td>\n",
       "      <td>37.330522</td>\n",
       "      <td>...</td>\n",
       "      <td>30.373814</td>\n",
       "      <td>143.580548</td>\n",
       "      <td>6.308712</td>\n",
       "      <td>245.342206</td>\n",
       "      <td>295.960062</td>\n",
       "      <td>6.700917</td>\n",
       "      <td>83.981714</td>\n",
       "      <td>73.266376</td>\n",
       "      <td>494.365490</td>\n",
       "      <td>3</td>\n",
       "    </tr>\n",
       "    <tr>\n",
       "      <th>...</th>\n",
       "      <td>...</td>\n",
       "      <td>...</td>\n",
       "      <td>...</td>\n",
       "      <td>...</td>\n",
       "      <td>...</td>\n",
       "      <td>...</td>\n",
       "      <td>...</td>\n",
       "      <td>...</td>\n",
       "      <td>...</td>\n",
       "      <td>...</td>\n",
       "      <td>...</td>\n",
       "      <td>...</td>\n",
       "      <td>...</td>\n",
       "      <td>...</td>\n",
       "      <td>...</td>\n",
       "      <td>...</td>\n",
       "      <td>...</td>\n",
       "      <td>...</td>\n",
       "      <td>...</td>\n",
       "      <td>...</td>\n",
       "      <td>...</td>\n",
       "    </tr>\n",
       "    <tr>\n",
       "      <th>1995</th>\n",
       "      <td>0.035010</td>\n",
       "      <td>0.814535</td>\n",
       "      <td>11.861539</td>\n",
       "      <td>22.089657</td>\n",
       "      <td>132.340920</td>\n",
       "      <td>148.826888</td>\n",
       "      <td>35.123171</td>\n",
       "      <td>0.094411</td>\n",
       "      <td>1.228497</td>\n",
       "      <td>16.184244</td>\n",
       "      <td>...</td>\n",
       "      <td>46.565737</td>\n",
       "      <td>12.665984</td>\n",
       "      <td>8.058167</td>\n",
       "      <td>216.423163</td>\n",
       "      <td>630.731909</td>\n",
       "      <td>10.936171</td>\n",
       "      <td>15.133099</td>\n",
       "      <td>59.685611</td>\n",
       "      <td>664.024662</td>\n",
       "      <td>2</td>\n",
       "    </tr>\n",
       "    <tr>\n",
       "      <th>1996</th>\n",
       "      <td>0.062550</td>\n",
       "      <td>0.909402</td>\n",
       "      <td>15.474280</td>\n",
       "      <td>60.313797</td>\n",
       "      <td>132.607623</td>\n",
       "      <td>350.551583</td>\n",
       "      <td>19.766134</td>\n",
       "      <td>0.103173</td>\n",
       "      <td>2.338209</td>\n",
       "      <td>38.524704</td>\n",
       "      <td>...</td>\n",
       "      <td>24.834979</td>\n",
       "      <td>74.864752</td>\n",
       "      <td>4.626245</td>\n",
       "      <td>147.890063</td>\n",
       "      <td>561.535367</td>\n",
       "      <td>5.293881</td>\n",
       "      <td>65.306794</td>\n",
       "      <td>42.383152</td>\n",
       "      <td>599.182814</td>\n",
       "      <td>6</td>\n",
       "    </tr>\n",
       "    <tr>\n",
       "      <th>1997</th>\n",
       "      <td>0.064634</td>\n",
       "      <td>1.604528</td>\n",
       "      <td>26.124081</td>\n",
       "      <td>108.935594</td>\n",
       "      <td>184.240039</td>\n",
       "      <td>467.874929</td>\n",
       "      <td>112.339097</td>\n",
       "      <td>0.108539</td>\n",
       "      <td>1.296012</td>\n",
       "      <td>9.274065</td>\n",
       "      <td>...</td>\n",
       "      <td>24.786985</td>\n",
       "      <td>20.021742</td>\n",
       "      <td>6.689728</td>\n",
       "      <td>179.432861</td>\n",
       "      <td>362.045619</td>\n",
       "      <td>6.459546</td>\n",
       "      <td>6.345730</td>\n",
       "      <td>55.648277</td>\n",
       "      <td>545.135389</td>\n",
       "      <td>9</td>\n",
       "    </tr>\n",
       "    <tr>\n",
       "      <th>1998</th>\n",
       "      <td>0.029815</td>\n",
       "      <td>1.056020</td>\n",
       "      <td>11.512475</td>\n",
       "      <td>49.991791</td>\n",
       "      <td>58.963801</td>\n",
       "      <td>400.800590</td>\n",
       "      <td>294.633955</td>\n",
       "      <td>0.010716</td>\n",
       "      <td>0.667758</td>\n",
       "      <td>7.678159</td>\n",
       "      <td>...</td>\n",
       "      <td>14.444975</td>\n",
       "      <td>15.712260</td>\n",
       "      <td>6.631859</td>\n",
       "      <td>163.206568</td>\n",
       "      <td>521.521965</td>\n",
       "      <td>3.745301</td>\n",
       "      <td>6.492354</td>\n",
       "      <td>47.078827</td>\n",
       "      <td>623.637504</td>\n",
       "      <td>1</td>\n",
       "    </tr>\n",
       "    <tr>\n",
       "      <th>1999</th>\n",
       "      <td>0.117640</td>\n",
       "      <td>1.426368</td>\n",
       "      <td>28.585858</td>\n",
       "      <td>120.147112</td>\n",
       "      <td>19.807602</td>\n",
       "      <td>246.336120</td>\n",
       "      <td>282.137494</td>\n",
       "      <td>0.206524</td>\n",
       "      <td>2.645340</td>\n",
       "      <td>36.329813</td>\n",
       "      <td>...</td>\n",
       "      <td>26.610759</td>\n",
       "      <td>41.582064</td>\n",
       "      <td>3.633979</td>\n",
       "      <td>277.417212</td>\n",
       "      <td>385.149528</td>\n",
       "      <td>6.090360</td>\n",
       "      <td>27.998089</td>\n",
       "      <td>79.816292</td>\n",
       "      <td>574.274009</td>\n",
       "      <td>3</td>\n",
       "    </tr>\n",
       "  </tbody>\n",
       "</table>\n",
       "<p>2000 rows × 48 columns</p>\n",
       "</div>"
      ],
      "text/plain": [
       "          att1      att2       att3        att4        att5        att6  \\\n",
       "0     0.061995  0.660853  21.303939   92.751866  156.775285  325.563053   \n",
       "1     0.022235  0.436177  10.125818   60.690985   68.266964  192.474861   \n",
       "2     0.139546  3.222566  26.857256  150.327931   95.461169   50.312995   \n",
       "3     0.108075  2.972642  19.179127   45.023775  109.798463  248.823721   \n",
       "4     0.094667  2.028851  34.128094   74.179898  143.996193  320.725539   \n",
       "...        ...       ...        ...         ...         ...         ...   \n",
       "1995  0.035010  0.814535  11.861539   22.089657  132.340920  148.826888   \n",
       "1996  0.062550  0.909402  15.474280   60.313797  132.607623  350.551583   \n",
       "1997  0.064634  1.604528  26.124081  108.935594  184.240039  467.874929   \n",
       "1998  0.029815  1.056020  11.512475   49.991791   58.963801  400.800590   \n",
       "1999  0.117640  1.426368  28.585858  120.147112   19.807602  246.336120   \n",
       "\n",
       "            att7      att8      att9      att10  ...      att39       att40  \\\n",
       "0     250.434649  0.099621  2.823827  16.769494  ...  62.880944   45.124882   \n",
       "1     230.791060  0.145739  4.006051  35.560095  ...   7.790595  105.357990   \n",
       "2      78.669729  0.149686  1.981851  10.762193  ...  32.855821   72.170565   \n",
       "3      23.440075  0.165549  3.195142  22.555054  ...  46.260870  181.278527   \n",
       "4     244.842246  0.112939  3.300519  37.330522  ...  30.373814  143.580548   \n",
       "...          ...       ...       ...        ...  ...        ...         ...   \n",
       "1995   35.123171  0.094411  1.228497  16.184244  ...  46.565737   12.665984   \n",
       "1996   19.766134  0.103173  2.338209  38.524704  ...  24.834979   74.864752   \n",
       "1997  112.339097  0.108539  1.296012   9.274065  ...  24.786985   20.021742   \n",
       "1998  294.633955  0.010716  0.667758   7.678159  ...  14.444975   15.712260   \n",
       "1999  282.137494  0.206524  2.645340  36.329813  ...  26.610759   41.582064   \n",
       "\n",
       "          att41       att42       att43      att44       att45      att46  \\\n",
       "0      2.101955  220.074761  271.571972  15.210667   51.885295  64.742045   \n",
       "1      7.750090  153.902987  354.769893   1.999136  120.554575  45.770638   \n",
       "2     18.848009  247.750561  602.462499   7.889384   49.695811  71.561504   \n",
       "3     12.608268  188.839566  280.316205  11.628167  115.628885  56.783333   \n",
       "4      6.308712  245.342206  295.960062   6.700917   83.981714  73.266376   \n",
       "...         ...         ...         ...        ...         ...        ...   \n",
       "1995   8.058167  216.423163  630.731909  10.936171   15.133099  59.685611   \n",
       "1996   4.626245  147.890063  561.535367   5.293881   65.306794  42.383152   \n",
       "1997   6.689728  179.432861  362.045619   6.459546    6.345730  55.648277   \n",
       "1998   6.631859  163.206568  521.521965   3.745301    6.492354  47.078827   \n",
       "1999   3.633979  277.417212  385.149528   6.090360   27.998089  79.816292   \n",
       "\n",
       "           att47  class  \n",
       "0     478.419225      3  \n",
       "1     424.747402     10  \n",
       "2     662.454864      2  \n",
       "3     423.883199      4  \n",
       "4     494.365490      3  \n",
       "...          ...    ...  \n",
       "1995  664.024662      2  \n",
       "1996  599.182814      6  \n",
       "1997  545.135389      9  \n",
       "1998  623.637504      1  \n",
       "1999  574.274009      3  \n",
       "\n",
       "[2000 rows x 48 columns]"
      ]
     },
     "execution_count": 140,
     "metadata": {},
     "output_type": "execute_result"
    }
   ],
   "source": [
    "df"
   ]
  },
  {
   "cell_type": "code",
   "execution_count": 141,
   "metadata": {},
   "outputs": [],
   "source": [
    "non_target_columns = df.columns[~df.columns.isin(target_col)]\n",
    "df[non_target_columns] = df[non_target_columns].apply(lambda x: x.fillna(x.mean()), axis=0)"
   ]
  },
  {
   "cell_type": "code",
   "execution_count": 142,
   "metadata": {},
   "outputs": [],
   "source": [
    "from sklearn.preprocessing import MinMaxScaler\n",
    "scaler = MinMaxScaler()\n",
    "\n",
    "# Separate target columns from the features\n",
    "features = df.drop(columns=target_col)\n",
    "target = df[target_col]\n",
    "\n",
    "# Apply Min-Max Scaling (or any other normalization) to the features only\n",
    "scaler = MinMaxScaler()\n",
    "features_normalized = pd.DataFrame(scaler.fit_transform(features), columns=features.columns, index=features.index)\n",
    "\n",
    "# Combine the normalized features with the target column\n",
    "df = pd.concat([features_normalized.reset_index(drop=True), target.reset_index(drop=True)], axis=1)"
   ]
  },
  {
   "cell_type": "code",
   "execution_count": 143,
   "metadata": {},
   "outputs": [
    {
     "data": {
      "text/html": [
       "<div>\n",
       "<style scoped>\n",
       "    .dataframe tbody tr th:only-of-type {\n",
       "        vertical-align: middle;\n",
       "    }\n",
       "\n",
       "    .dataframe tbody tr th {\n",
       "        vertical-align: top;\n",
       "    }\n",
       "\n",
       "    .dataframe thead th {\n",
       "        text-align: right;\n",
       "    }\n",
       "</style>\n",
       "<table border=\"1\" class=\"dataframe\">\n",
       "  <thead>\n",
       "    <tr style=\"text-align: right;\">\n",
       "      <th></th>\n",
       "      <th>att1</th>\n",
       "      <th>att2</th>\n",
       "      <th>att3</th>\n",
       "      <th>att4</th>\n",
       "      <th>att5</th>\n",
       "      <th>att6</th>\n",
       "      <th>att7</th>\n",
       "      <th>att8</th>\n",
       "      <th>att9</th>\n",
       "      <th>att10</th>\n",
       "      <th>...</th>\n",
       "      <th>att39</th>\n",
       "      <th>att40</th>\n",
       "      <th>att41</th>\n",
       "      <th>att42</th>\n",
       "      <th>att43</th>\n",
       "      <th>att44</th>\n",
       "      <th>att45</th>\n",
       "      <th>att46</th>\n",
       "      <th>att47</th>\n",
       "      <th>class</th>\n",
       "    </tr>\n",
       "  </thead>\n",
       "  <tbody>\n",
       "    <tr>\n",
       "      <th>0</th>\n",
       "      <td>0.122846</td>\n",
       "      <td>0.067350</td>\n",
       "      <td>0.290502</td>\n",
       "      <td>0.456395</td>\n",
       "      <td>0.544652</td>\n",
       "      <td>0.576745</td>\n",
       "      <td>0.540700</td>\n",
       "      <td>0.154629</td>\n",
       "      <td>0.210869</td>\n",
       "      <td>0.176014</td>\n",
       "      <td>...</td>\n",
       "      <td>0.394988</td>\n",
       "      <td>0.151782</td>\n",
       "      <td>0.072248</td>\n",
       "      <td>0.679290</td>\n",
       "      <td>0.264607</td>\n",
       "      <td>0.383791</td>\n",
       "      <td>0.234418</td>\n",
       "      <td>0.646507</td>\n",
       "      <td>0.342802</td>\n",
       "      <td>3</td>\n",
       "    </tr>\n",
       "    <tr>\n",
       "      <th>1</th>\n",
       "      <td>0.042644</td>\n",
       "      <td>0.043272</td>\n",
       "      <td>0.135420</td>\n",
       "      <td>0.294731</td>\n",
       "      <td>0.229481</td>\n",
       "      <td>0.339563</td>\n",
       "      <td>0.498281</td>\n",
       "      <td>0.228240</td>\n",
       "      <td>0.301522</td>\n",
       "      <td>0.380056</td>\n",
       "      <td>...</td>\n",
       "      <td>0.047163</td>\n",
       "      <td>0.359476</td>\n",
       "      <td>0.305328</td>\n",
       "      <td>0.402705</td>\n",
       "      <td>0.400140</td>\n",
       "      <td>0.042294</td>\n",
       "      <td>0.549235</td>\n",
       "      <td>0.372645</td>\n",
       "      <td>0.225006</td>\n",
       "      <td>10</td>\n",
       "    </tr>\n",
       "    <tr>\n",
       "      <th>2</th>\n",
       "      <td>0.279280</td>\n",
       "      <td>0.341876</td>\n",
       "      <td>0.367547</td>\n",
       "      <td>0.746718</td>\n",
       "      <td>0.326317</td>\n",
       "      <td>0.086211</td>\n",
       "      <td>0.169784</td>\n",
       "      <td>0.234540</td>\n",
       "      <td>0.146306</td>\n",
       "      <td>0.110783</td>\n",
       "      <td>...</td>\n",
       "      <td>0.205418</td>\n",
       "      <td>0.245040</td>\n",
       "      <td>0.763302</td>\n",
       "      <td>0.794970</td>\n",
       "      <td>0.803642</td>\n",
       "      <td>0.194547</td>\n",
       "      <td>0.224380</td>\n",
       "      <td>0.744950</td>\n",
       "      <td>0.746712</td>\n",
       "      <td>2</td>\n",
       "    </tr>\n",
       "    <tr>\n",
       "      <th>3</th>\n",
       "      <td>0.215797</td>\n",
       "      <td>0.315093</td>\n",
       "      <td>0.261023</td>\n",
       "      <td>0.215730</td>\n",
       "      <td>0.377371</td>\n",
       "      <td>0.439985</td>\n",
       "      <td>0.050519</td>\n",
       "      <td>0.259858</td>\n",
       "      <td>0.239342</td>\n",
       "      <td>0.238838</td>\n",
       "      <td>...</td>\n",
       "      <td>0.290053</td>\n",
       "      <td>0.621264</td>\n",
       "      <td>0.505809</td>\n",
       "      <td>0.548733</td>\n",
       "      <td>0.278852</td>\n",
       "      <td>0.291189</td>\n",
       "      <td>0.526653</td>\n",
       "      <td>0.531619</td>\n",
       "      <td>0.223109</td>\n",
       "      <td>4</td>\n",
       "    </tr>\n",
       "    <tr>\n",
       "      <th>4</th>\n",
       "      <td>0.188752</td>\n",
       "      <td>0.213952</td>\n",
       "      <td>0.468421</td>\n",
       "      <td>0.362747</td>\n",
       "      <td>0.499147</td>\n",
       "      <td>0.568124</td>\n",
       "      <td>0.528624</td>\n",
       "      <td>0.175885</td>\n",
       "      <td>0.247422</td>\n",
       "      <td>0.399280</td>\n",
       "      <td>...</td>\n",
       "      <td>0.189747</td>\n",
       "      <td>0.491275</td>\n",
       "      <td>0.245847</td>\n",
       "      <td>0.784903</td>\n",
       "      <td>0.304336</td>\n",
       "      <td>0.163827</td>\n",
       "      <td>0.381565</td>\n",
       "      <td>0.769561</td>\n",
       "      <td>0.377800</td>\n",
       "      <td>3</td>\n",
       "    </tr>\n",
       "    <tr>\n",
       "      <th>...</th>\n",
       "      <td>...</td>\n",
       "      <td>...</td>\n",
       "      <td>...</td>\n",
       "      <td>...</td>\n",
       "      <td>...</td>\n",
       "      <td>...</td>\n",
       "      <td>...</td>\n",
       "      <td>...</td>\n",
       "      <td>...</td>\n",
       "      <td>...</td>\n",
       "      <td>...</td>\n",
       "      <td>...</td>\n",
       "      <td>...</td>\n",
       "      <td>...</td>\n",
       "      <td>...</td>\n",
       "      <td>...</td>\n",
       "      <td>...</td>\n",
       "      <td>...</td>\n",
       "      <td>...</td>\n",
       "      <td>...</td>\n",
       "      <td>...</td>\n",
       "    </tr>\n",
       "    <tr>\n",
       "      <th>1995</th>\n",
       "      <td>0.068413</td>\n",
       "      <td>0.083819</td>\n",
       "      <td>0.159501</td>\n",
       "      <td>0.100086</td>\n",
       "      <td>0.457643</td>\n",
       "      <td>0.261777</td>\n",
       "      <td>0.075748</td>\n",
       "      <td>0.146312</td>\n",
       "      <td>0.088539</td>\n",
       "      <td>0.169659</td>\n",
       "      <td>...</td>\n",
       "      <td>0.291978</td>\n",
       "      <td>0.039857</td>\n",
       "      <td>0.318041</td>\n",
       "      <td>0.664027</td>\n",
       "      <td>0.849694</td>\n",
       "      <td>0.273302</td>\n",
       "      <td>0.065926</td>\n",
       "      <td>0.573515</td>\n",
       "      <td>0.750157</td>\n",
       "      <td>2</td>\n",
       "    </tr>\n",
       "    <tr>\n",
       "      <th>1996</th>\n",
       "      <td>0.123967</td>\n",
       "      <td>0.093986</td>\n",
       "      <td>0.209623</td>\n",
       "      <td>0.292829</td>\n",
       "      <td>0.458593</td>\n",
       "      <td>0.621278</td>\n",
       "      <td>0.042585</td>\n",
       "      <td>0.160297</td>\n",
       "      <td>0.173632</td>\n",
       "      <td>0.412247</td>\n",
       "      <td>...</td>\n",
       "      <td>0.154777</td>\n",
       "      <td>0.254330</td>\n",
       "      <td>0.176417</td>\n",
       "      <td>0.377572</td>\n",
       "      <td>0.736970</td>\n",
       "      <td>0.127458</td>\n",
       "      <td>0.295949</td>\n",
       "      <td>0.323744</td>\n",
       "      <td>0.607846</td>\n",
       "      <td>6</td>\n",
       "    </tr>\n",
       "    <tr>\n",
       "      <th>1997</th>\n",
       "      <td>0.128170</td>\n",
       "      <td>0.168479</td>\n",
       "      <td>0.357375</td>\n",
       "      <td>0.538001</td>\n",
       "      <td>0.642452</td>\n",
       "      <td>0.830364</td>\n",
       "      <td>0.242491</td>\n",
       "      <td>0.168862</td>\n",
       "      <td>0.093716</td>\n",
       "      <td>0.094624</td>\n",
       "      <td>...</td>\n",
       "      <td>0.154474</td>\n",
       "      <td>0.065221</td>\n",
       "      <td>0.261570</td>\n",
       "      <td>0.509415</td>\n",
       "      <td>0.411993</td>\n",
       "      <td>0.157588</td>\n",
       "      <td>0.025640</td>\n",
       "      <td>0.515234</td>\n",
       "      <td>0.489226</td>\n",
       "      <td>9</td>\n",
       "    </tr>\n",
       "    <tr>\n",
       "      <th>1998</th>\n",
       "      <td>0.057934</td>\n",
       "      <td>0.109698</td>\n",
       "      <td>0.154658</td>\n",
       "      <td>0.240781</td>\n",
       "      <td>0.196353</td>\n",
       "      <td>0.710829</td>\n",
       "      <td>0.636146</td>\n",
       "      <td>0.012722</td>\n",
       "      <td>0.045542</td>\n",
       "      <td>0.077294</td>\n",
       "      <td>...</td>\n",
       "      <td>0.089177</td>\n",
       "      <td>0.050361</td>\n",
       "      <td>0.259182</td>\n",
       "      <td>0.441592</td>\n",
       "      <td>0.671787</td>\n",
       "      <td>0.087429</td>\n",
       "      <td>0.026312</td>\n",
       "      <td>0.391529</td>\n",
       "      <td>0.661518</td>\n",
       "      <td>1</td>\n",
       "    </tr>\n",
       "    <tr>\n",
       "      <th>1999</th>\n",
       "      <td>0.235091</td>\n",
       "      <td>0.149386</td>\n",
       "      <td>0.391529</td>\n",
       "      <td>0.594534</td>\n",
       "      <td>0.056921</td>\n",
       "      <td>0.435552</td>\n",
       "      <td>0.609161</td>\n",
       "      <td>0.325261</td>\n",
       "      <td>0.197183</td>\n",
       "      <td>0.388414</td>\n",
       "      <td>...</td>\n",
       "      <td>0.165988</td>\n",
       "      <td>0.139565</td>\n",
       "      <td>0.135470</td>\n",
       "      <td>0.918971</td>\n",
       "      <td>0.449630</td>\n",
       "      <td>0.148045</td>\n",
       "      <td>0.124906</td>\n",
       "      <td>0.864112</td>\n",
       "      <td>0.553178</td>\n",
       "      <td>3</td>\n",
       "    </tr>\n",
       "  </tbody>\n",
       "</table>\n",
       "<p>2000 rows × 48 columns</p>\n",
       "</div>"
      ],
      "text/plain": [
       "          att1      att2      att3      att4      att5      att6      att7  \\\n",
       "0     0.122846  0.067350  0.290502  0.456395  0.544652  0.576745  0.540700   \n",
       "1     0.042644  0.043272  0.135420  0.294731  0.229481  0.339563  0.498281   \n",
       "2     0.279280  0.341876  0.367547  0.746718  0.326317  0.086211  0.169784   \n",
       "3     0.215797  0.315093  0.261023  0.215730  0.377371  0.439985  0.050519   \n",
       "4     0.188752  0.213952  0.468421  0.362747  0.499147  0.568124  0.528624   \n",
       "...        ...       ...       ...       ...       ...       ...       ...   \n",
       "1995  0.068413  0.083819  0.159501  0.100086  0.457643  0.261777  0.075748   \n",
       "1996  0.123967  0.093986  0.209623  0.292829  0.458593  0.621278  0.042585   \n",
       "1997  0.128170  0.168479  0.357375  0.538001  0.642452  0.830364  0.242491   \n",
       "1998  0.057934  0.109698  0.154658  0.240781  0.196353  0.710829  0.636146   \n",
       "1999  0.235091  0.149386  0.391529  0.594534  0.056921  0.435552  0.609161   \n",
       "\n",
       "          att8      att9     att10  ...     att39     att40     att41  \\\n",
       "0     0.154629  0.210869  0.176014  ...  0.394988  0.151782  0.072248   \n",
       "1     0.228240  0.301522  0.380056  ...  0.047163  0.359476  0.305328   \n",
       "2     0.234540  0.146306  0.110783  ...  0.205418  0.245040  0.763302   \n",
       "3     0.259858  0.239342  0.238838  ...  0.290053  0.621264  0.505809   \n",
       "4     0.175885  0.247422  0.399280  ...  0.189747  0.491275  0.245847   \n",
       "...        ...       ...       ...  ...       ...       ...       ...   \n",
       "1995  0.146312  0.088539  0.169659  ...  0.291978  0.039857  0.318041   \n",
       "1996  0.160297  0.173632  0.412247  ...  0.154777  0.254330  0.176417   \n",
       "1997  0.168862  0.093716  0.094624  ...  0.154474  0.065221  0.261570   \n",
       "1998  0.012722  0.045542  0.077294  ...  0.089177  0.050361  0.259182   \n",
       "1999  0.325261  0.197183  0.388414  ...  0.165988  0.139565  0.135470   \n",
       "\n",
       "         att42     att43     att44     att45     att46     att47  class  \n",
       "0     0.679290  0.264607  0.383791  0.234418  0.646507  0.342802      3  \n",
       "1     0.402705  0.400140  0.042294  0.549235  0.372645  0.225006     10  \n",
       "2     0.794970  0.803642  0.194547  0.224380  0.744950  0.746712      2  \n",
       "3     0.548733  0.278852  0.291189  0.526653  0.531619  0.223109      4  \n",
       "4     0.784903  0.304336  0.163827  0.381565  0.769561  0.377800      3  \n",
       "...        ...       ...       ...       ...       ...       ...    ...  \n",
       "1995  0.664027  0.849694  0.273302  0.065926  0.573515  0.750157      2  \n",
       "1996  0.377572  0.736970  0.127458  0.295949  0.323744  0.607846      6  \n",
       "1997  0.509415  0.411993  0.157588  0.025640  0.515234  0.489226      9  \n",
       "1998  0.441592  0.671787  0.087429  0.026312  0.391529  0.661518      1  \n",
       "1999  0.918971  0.449630  0.148045  0.124906  0.864112  0.553178      3  \n",
       "\n",
       "[2000 rows x 48 columns]"
      ]
     },
     "execution_count": 143,
     "metadata": {},
     "output_type": "execute_result"
    }
   ],
   "source": [
    "df"
   ]
  },
  {
   "cell_type": "code",
   "execution_count": 144,
   "metadata": {},
   "outputs": [],
   "source": [
    "# y = df[target_col]\n",
    "# from sklearn.preprocessing import LabelEncoder\n",
    "\n",
    "# # Initialize the LabelEncoder\n",
    "# label_encoder = LabelEncoder()\n",
    "\n",
    "# # Fit and transform the y DataFrame\n",
    "# y = y.astype('str').apply(label_encoder.fit_transform).values.reshape(-1, 1)\n",
    "\n",
    "# from sklearn.preprocessing import OneHotEncoder\n",
    "\n",
    "# # For multi-class datasets, target needs to be one-hot encoded.\n",
    "# encoder = OneHotEncoder()\n",
    "# y = encoder.fit_transform(y).toarray()\n",
    "\n",
    "# # drop urban and append y but make the name of the columns of y be string\n",
    "\n",
    "# df = df.drop(columns=target_col)\n",
    "# df = pd.concat([df, pd.DataFrame(y, columns=[f'{target_col[0]}_{i}' for i in range(y.shape[1])])], axis=1)\n",
    "\n",
    "# # Display the encoded y DataFrame\n",
    "# print(y.shape)"
   ]
  },
  {
   "cell_type": "code",
   "execution_count": 145,
   "metadata": {},
   "outputs": [],
   "source": [
    "# import numpy as np\n",
    "\n",
    "# # Calculate the number of new columns (30% of current columns)\n",
    "# num_existing_columns = len(df.columns)\n",
    "# num_new_columns = int(np.ceil(num_existing_columns))\n",
    "\n",
    "# # Generate new random columns\n",
    "# for i in range(num_new_columns):\n",
    "#     new_col_name = f'Random_{i+1}'\n",
    "#     df[new_col_name] = np.random.normal(loc=0, scale=1, size=len(df))  # Mean=0, StdDev=1\n"
   ]
  },
  {
   "cell_type": "code",
   "execution_count": 146,
   "metadata": {},
   "outputs": [
    {
     "data": {
      "text/html": [
       "<div>\n",
       "<style scoped>\n",
       "    .dataframe tbody tr th:only-of-type {\n",
       "        vertical-align: middle;\n",
       "    }\n",
       "\n",
       "    .dataframe tbody tr th {\n",
       "        vertical-align: top;\n",
       "    }\n",
       "\n",
       "    .dataframe thead th {\n",
       "        text-align: right;\n",
       "    }\n",
       "</style>\n",
       "<table border=\"1\" class=\"dataframe\">\n",
       "  <thead>\n",
       "    <tr style=\"text-align: right;\">\n",
       "      <th></th>\n",
       "      <th>att1</th>\n",
       "      <th>att2</th>\n",
       "      <th>att3</th>\n",
       "      <th>att4</th>\n",
       "      <th>att5</th>\n",
       "      <th>att6</th>\n",
       "      <th>att7</th>\n",
       "      <th>att8</th>\n",
       "      <th>att9</th>\n",
       "      <th>att10</th>\n",
       "      <th>...</th>\n",
       "      <th>att39</th>\n",
       "      <th>att40</th>\n",
       "      <th>att41</th>\n",
       "      <th>att42</th>\n",
       "      <th>att43</th>\n",
       "      <th>att44</th>\n",
       "      <th>att45</th>\n",
       "      <th>att46</th>\n",
       "      <th>att47</th>\n",
       "      <th>class</th>\n",
       "    </tr>\n",
       "  </thead>\n",
       "  <tbody>\n",
       "    <tr>\n",
       "      <th>0</th>\n",
       "      <td>0.122846</td>\n",
       "      <td>0.067350</td>\n",
       "      <td>0.290502</td>\n",
       "      <td>0.456395</td>\n",
       "      <td>0.544652</td>\n",
       "      <td>0.576745</td>\n",
       "      <td>0.540700</td>\n",
       "      <td>0.154629</td>\n",
       "      <td>0.210869</td>\n",
       "      <td>0.176014</td>\n",
       "      <td>...</td>\n",
       "      <td>0.394988</td>\n",
       "      <td>0.151782</td>\n",
       "      <td>0.072248</td>\n",
       "      <td>0.679290</td>\n",
       "      <td>0.264607</td>\n",
       "      <td>0.383791</td>\n",
       "      <td>0.234418</td>\n",
       "      <td>0.646507</td>\n",
       "      <td>0.342802</td>\n",
       "      <td>3</td>\n",
       "    </tr>\n",
       "    <tr>\n",
       "      <th>1</th>\n",
       "      <td>0.042644</td>\n",
       "      <td>0.043272</td>\n",
       "      <td>0.135420</td>\n",
       "      <td>0.294731</td>\n",
       "      <td>0.229481</td>\n",
       "      <td>0.339563</td>\n",
       "      <td>0.498281</td>\n",
       "      <td>0.228240</td>\n",
       "      <td>0.301522</td>\n",
       "      <td>0.380056</td>\n",
       "      <td>...</td>\n",
       "      <td>0.047163</td>\n",
       "      <td>0.359476</td>\n",
       "      <td>0.305328</td>\n",
       "      <td>0.402705</td>\n",
       "      <td>0.400140</td>\n",
       "      <td>0.042294</td>\n",
       "      <td>0.549235</td>\n",
       "      <td>0.372645</td>\n",
       "      <td>0.225006</td>\n",
       "      <td>10</td>\n",
       "    </tr>\n",
       "    <tr>\n",
       "      <th>2</th>\n",
       "      <td>0.279280</td>\n",
       "      <td>0.341876</td>\n",
       "      <td>0.367547</td>\n",
       "      <td>0.746718</td>\n",
       "      <td>0.326317</td>\n",
       "      <td>0.086211</td>\n",
       "      <td>0.169784</td>\n",
       "      <td>0.234540</td>\n",
       "      <td>0.146306</td>\n",
       "      <td>0.110783</td>\n",
       "      <td>...</td>\n",
       "      <td>0.205418</td>\n",
       "      <td>0.245040</td>\n",
       "      <td>0.763302</td>\n",
       "      <td>0.794970</td>\n",
       "      <td>0.803642</td>\n",
       "      <td>0.194547</td>\n",
       "      <td>0.224380</td>\n",
       "      <td>0.744950</td>\n",
       "      <td>0.746712</td>\n",
       "      <td>2</td>\n",
       "    </tr>\n",
       "    <tr>\n",
       "      <th>3</th>\n",
       "      <td>0.215797</td>\n",
       "      <td>0.315093</td>\n",
       "      <td>0.261023</td>\n",
       "      <td>0.215730</td>\n",
       "      <td>0.377371</td>\n",
       "      <td>0.439985</td>\n",
       "      <td>0.050519</td>\n",
       "      <td>0.259858</td>\n",
       "      <td>0.239342</td>\n",
       "      <td>0.238838</td>\n",
       "      <td>...</td>\n",
       "      <td>0.290053</td>\n",
       "      <td>0.621264</td>\n",
       "      <td>0.505809</td>\n",
       "      <td>0.548733</td>\n",
       "      <td>0.278852</td>\n",
       "      <td>0.291189</td>\n",
       "      <td>0.526653</td>\n",
       "      <td>0.531619</td>\n",
       "      <td>0.223109</td>\n",
       "      <td>4</td>\n",
       "    </tr>\n",
       "    <tr>\n",
       "      <th>4</th>\n",
       "      <td>0.188752</td>\n",
       "      <td>0.213952</td>\n",
       "      <td>0.468421</td>\n",
       "      <td>0.362747</td>\n",
       "      <td>0.499147</td>\n",
       "      <td>0.568124</td>\n",
       "      <td>0.528624</td>\n",
       "      <td>0.175885</td>\n",
       "      <td>0.247422</td>\n",
       "      <td>0.399280</td>\n",
       "      <td>...</td>\n",
       "      <td>0.189747</td>\n",
       "      <td>0.491275</td>\n",
       "      <td>0.245847</td>\n",
       "      <td>0.784903</td>\n",
       "      <td>0.304336</td>\n",
       "      <td>0.163827</td>\n",
       "      <td>0.381565</td>\n",
       "      <td>0.769561</td>\n",
       "      <td>0.377800</td>\n",
       "      <td>3</td>\n",
       "    </tr>\n",
       "    <tr>\n",
       "      <th>...</th>\n",
       "      <td>...</td>\n",
       "      <td>...</td>\n",
       "      <td>...</td>\n",
       "      <td>...</td>\n",
       "      <td>...</td>\n",
       "      <td>...</td>\n",
       "      <td>...</td>\n",
       "      <td>...</td>\n",
       "      <td>...</td>\n",
       "      <td>...</td>\n",
       "      <td>...</td>\n",
       "      <td>...</td>\n",
       "      <td>...</td>\n",
       "      <td>...</td>\n",
       "      <td>...</td>\n",
       "      <td>...</td>\n",
       "      <td>...</td>\n",
       "      <td>...</td>\n",
       "      <td>...</td>\n",
       "      <td>...</td>\n",
       "      <td>...</td>\n",
       "    </tr>\n",
       "    <tr>\n",
       "      <th>1995</th>\n",
       "      <td>0.068413</td>\n",
       "      <td>0.083819</td>\n",
       "      <td>0.159501</td>\n",
       "      <td>0.100086</td>\n",
       "      <td>0.457643</td>\n",
       "      <td>0.261777</td>\n",
       "      <td>0.075748</td>\n",
       "      <td>0.146312</td>\n",
       "      <td>0.088539</td>\n",
       "      <td>0.169659</td>\n",
       "      <td>...</td>\n",
       "      <td>0.291978</td>\n",
       "      <td>0.039857</td>\n",
       "      <td>0.318041</td>\n",
       "      <td>0.664027</td>\n",
       "      <td>0.849694</td>\n",
       "      <td>0.273302</td>\n",
       "      <td>0.065926</td>\n",
       "      <td>0.573515</td>\n",
       "      <td>0.750157</td>\n",
       "      <td>2</td>\n",
       "    </tr>\n",
       "    <tr>\n",
       "      <th>1996</th>\n",
       "      <td>0.123967</td>\n",
       "      <td>0.093986</td>\n",
       "      <td>0.209623</td>\n",
       "      <td>0.292829</td>\n",
       "      <td>0.458593</td>\n",
       "      <td>0.621278</td>\n",
       "      <td>0.042585</td>\n",
       "      <td>0.160297</td>\n",
       "      <td>0.173632</td>\n",
       "      <td>0.412247</td>\n",
       "      <td>...</td>\n",
       "      <td>0.154777</td>\n",
       "      <td>0.254330</td>\n",
       "      <td>0.176417</td>\n",
       "      <td>0.377572</td>\n",
       "      <td>0.736970</td>\n",
       "      <td>0.127458</td>\n",
       "      <td>0.295949</td>\n",
       "      <td>0.323744</td>\n",
       "      <td>0.607846</td>\n",
       "      <td>6</td>\n",
       "    </tr>\n",
       "    <tr>\n",
       "      <th>1997</th>\n",
       "      <td>0.128170</td>\n",
       "      <td>0.168479</td>\n",
       "      <td>0.357375</td>\n",
       "      <td>0.538001</td>\n",
       "      <td>0.642452</td>\n",
       "      <td>0.830364</td>\n",
       "      <td>0.242491</td>\n",
       "      <td>0.168862</td>\n",
       "      <td>0.093716</td>\n",
       "      <td>0.094624</td>\n",
       "      <td>...</td>\n",
       "      <td>0.154474</td>\n",
       "      <td>0.065221</td>\n",
       "      <td>0.261570</td>\n",
       "      <td>0.509415</td>\n",
       "      <td>0.411993</td>\n",
       "      <td>0.157588</td>\n",
       "      <td>0.025640</td>\n",
       "      <td>0.515234</td>\n",
       "      <td>0.489226</td>\n",
       "      <td>9</td>\n",
       "    </tr>\n",
       "    <tr>\n",
       "      <th>1998</th>\n",
       "      <td>0.057934</td>\n",
       "      <td>0.109698</td>\n",
       "      <td>0.154658</td>\n",
       "      <td>0.240781</td>\n",
       "      <td>0.196353</td>\n",
       "      <td>0.710829</td>\n",
       "      <td>0.636146</td>\n",
       "      <td>0.012722</td>\n",
       "      <td>0.045542</td>\n",
       "      <td>0.077294</td>\n",
       "      <td>...</td>\n",
       "      <td>0.089177</td>\n",
       "      <td>0.050361</td>\n",
       "      <td>0.259182</td>\n",
       "      <td>0.441592</td>\n",
       "      <td>0.671787</td>\n",
       "      <td>0.087429</td>\n",
       "      <td>0.026312</td>\n",
       "      <td>0.391529</td>\n",
       "      <td>0.661518</td>\n",
       "      <td>1</td>\n",
       "    </tr>\n",
       "    <tr>\n",
       "      <th>1999</th>\n",
       "      <td>0.235091</td>\n",
       "      <td>0.149386</td>\n",
       "      <td>0.391529</td>\n",
       "      <td>0.594534</td>\n",
       "      <td>0.056921</td>\n",
       "      <td>0.435552</td>\n",
       "      <td>0.609161</td>\n",
       "      <td>0.325261</td>\n",
       "      <td>0.197183</td>\n",
       "      <td>0.388414</td>\n",
       "      <td>...</td>\n",
       "      <td>0.165988</td>\n",
       "      <td>0.139565</td>\n",
       "      <td>0.135470</td>\n",
       "      <td>0.918971</td>\n",
       "      <td>0.449630</td>\n",
       "      <td>0.148045</td>\n",
       "      <td>0.124906</td>\n",
       "      <td>0.864112</td>\n",
       "      <td>0.553178</td>\n",
       "      <td>3</td>\n",
       "    </tr>\n",
       "  </tbody>\n",
       "</table>\n",
       "<p>2000 rows × 48 columns</p>\n",
       "</div>"
      ],
      "text/plain": [
       "          att1      att2      att3      att4      att5      att6      att7  \\\n",
       "0     0.122846  0.067350  0.290502  0.456395  0.544652  0.576745  0.540700   \n",
       "1     0.042644  0.043272  0.135420  0.294731  0.229481  0.339563  0.498281   \n",
       "2     0.279280  0.341876  0.367547  0.746718  0.326317  0.086211  0.169784   \n",
       "3     0.215797  0.315093  0.261023  0.215730  0.377371  0.439985  0.050519   \n",
       "4     0.188752  0.213952  0.468421  0.362747  0.499147  0.568124  0.528624   \n",
       "...        ...       ...       ...       ...       ...       ...       ...   \n",
       "1995  0.068413  0.083819  0.159501  0.100086  0.457643  0.261777  0.075748   \n",
       "1996  0.123967  0.093986  0.209623  0.292829  0.458593  0.621278  0.042585   \n",
       "1997  0.128170  0.168479  0.357375  0.538001  0.642452  0.830364  0.242491   \n",
       "1998  0.057934  0.109698  0.154658  0.240781  0.196353  0.710829  0.636146   \n",
       "1999  0.235091  0.149386  0.391529  0.594534  0.056921  0.435552  0.609161   \n",
       "\n",
       "          att8      att9     att10  ...     att39     att40     att41  \\\n",
       "0     0.154629  0.210869  0.176014  ...  0.394988  0.151782  0.072248   \n",
       "1     0.228240  0.301522  0.380056  ...  0.047163  0.359476  0.305328   \n",
       "2     0.234540  0.146306  0.110783  ...  0.205418  0.245040  0.763302   \n",
       "3     0.259858  0.239342  0.238838  ...  0.290053  0.621264  0.505809   \n",
       "4     0.175885  0.247422  0.399280  ...  0.189747  0.491275  0.245847   \n",
       "...        ...       ...       ...  ...       ...       ...       ...   \n",
       "1995  0.146312  0.088539  0.169659  ...  0.291978  0.039857  0.318041   \n",
       "1996  0.160297  0.173632  0.412247  ...  0.154777  0.254330  0.176417   \n",
       "1997  0.168862  0.093716  0.094624  ...  0.154474  0.065221  0.261570   \n",
       "1998  0.012722  0.045542  0.077294  ...  0.089177  0.050361  0.259182   \n",
       "1999  0.325261  0.197183  0.388414  ...  0.165988  0.139565  0.135470   \n",
       "\n",
       "         att42     att43     att44     att45     att46     att47  class  \n",
       "0     0.679290  0.264607  0.383791  0.234418  0.646507  0.342802      3  \n",
       "1     0.402705  0.400140  0.042294  0.549235  0.372645  0.225006     10  \n",
       "2     0.794970  0.803642  0.194547  0.224380  0.744950  0.746712      2  \n",
       "3     0.548733  0.278852  0.291189  0.526653  0.531619  0.223109      4  \n",
       "4     0.784903  0.304336  0.163827  0.381565  0.769561  0.377800      3  \n",
       "...        ...       ...       ...       ...       ...       ...    ...  \n",
       "1995  0.664027  0.849694  0.273302  0.065926  0.573515  0.750157      2  \n",
       "1996  0.377572  0.736970  0.127458  0.295949  0.323744  0.607846      6  \n",
       "1997  0.509415  0.411993  0.157588  0.025640  0.515234  0.489226      9  \n",
       "1998  0.441592  0.671787  0.087429  0.026312  0.391529  0.661518      1  \n",
       "1999  0.918971  0.449630  0.148045  0.124906  0.864112  0.553178      3  \n",
       "\n",
       "[2000 rows x 48 columns]"
      ]
     },
     "execution_count": 146,
     "metadata": {},
     "output_type": "execute_result"
    }
   ],
   "source": [
    "df"
   ]
  },
  {
   "cell_type": "code",
   "execution_count": 147,
   "metadata": {},
   "outputs": [],
   "source": [
    "X = df.drop(columns=target_col)\n",
    "y = df[target_col]"
   ]
  },
  {
   "cell_type": "code",
   "execution_count": 148,
   "metadata": {},
   "outputs": [],
   "source": [
    "# # # ignore this for regression problems\n",
    "\n",
    "from sklearn.preprocessing import OneHotEncoder\n",
    "\n",
    "# For multi-class datasets, target needs to be one-hot encoded.\n",
    "encoder = OneHotEncoder()\n",
    "y = encoder.fit_transform(y).toarray()"
   ]
  },
  {
   "cell_type": "code",
   "execution_count": 149,
   "metadata": {},
   "outputs": [],
   "source": [
    "from sklearn.model_selection import train_test_split\n",
    "\n",
    "X_train, X_test, y_train, y_test = train_test_split(X, y, test_size=0.2, random_state=42)"
   ]
  },
  {
   "cell_type": "code",
   "execution_count": 150,
   "metadata": {},
   "outputs": [],
   "source": [
    "import pickle\n",
    "\n",
    "# save X_train, X_test, y_train, y_test to pickle\n",
    "\n",
    "with open('../mfeat_zernike_mcc_files.pcl', 'wb') as f:\n",
    "    pickle.dump((X_train, X_test, y_train, y_test), f)"
   ]
  },
  {
   "cell_type": "code",
   "execution_count": 33,
   "metadata": {},
   "outputs": [],
   "source": []
  },
  {
   "cell_type": "code",
   "execution_count": 122,
   "metadata": {},
   "outputs": [],
   "source": [
    "import pickle\n",
    "\n",
    "with open('../credit-g_bc_feat_imp.pcl', 'wb') as f:\n",
    "    pickle.dump(feature_importance_zernike, f)"
   ]
  },
  {
   "cell_type": "code",
   "execution_count": null,
   "metadata": {},
   "outputs": [],
   "source": [
    "import pickle\n",
    "import torch\n",
    "from sklearn.metrics import mean_absolute_error\n",
    "\n",
    "# --- Hyperparams / Setup ---\n",
    "max_depth = 5\n",
    "minimum_examples_to_split = 2\n",
    "epochs = 500\n",
    "bs = 128\n",
    "lr = 0.01\n",
    "subspace_size = 1\n",
    "device = 'cpu'\n",
    "\n",
    "# --- Load data ---\n",
    "with open('cpmp2015_str_files.pcl', 'rb') as f:\n",
    "    X_train, X_test, y_train, y_test = pickle.load(f)\n",
    "\n",
    "with open('cpmp2015_str_feat_imp.pcl', 'rb') as f:\n",
    "    feature_importance_scores = pickle.load(f)\n",
    "\n",
    "feature_names = X_train.columns.tolist()\n",
    "features_dict = dict(zip(feature_names, feature_importance_scores))\n",
    "\n",
    "# Sort features by importance ascending so that\n",
    "# the \"least important\" feature is first.\n",
    "sorted_features_least_first = sorted(features_dict, key=features_dict.get)\n",
    "\n",
    "# --- Define a helper function to train & evaluate ---\n",
    "def train_and_evaluate_model(X_train, y_train, X_test, y_test, features):\n",
    "    \"\"\"\n",
    "    Subset the training/test data to the given 'features',\n",
    "    train the VSpyct model, and return the mean_absolute_error on test.\n",
    "    \"\"\"\n",
    "    # Subset columns\n",
    "    X_train_sub = X_train[features]\n",
    "    X_test_sub = X_test[features]\n",
    "    \n",
    "    # Initialize model\n",
    "    vspyct = VSpyct(\n",
    "        bs=bs,\n",
    "        max_depth=max_depth,\n",
    "        epochs=epochs,\n",
    "        lr=lr,\n",
    "        minimum_examples_to_split=minimum_examples_to_split\n",
    "    )\n",
    "    \n",
    "    # Fit\n",
    "    vspyct.fit(torch.Tensor(X_train_sub.values), torch.Tensor(y_train.values))\n",
    "    \n",
    "    # Predict\n",
    "    vspyct_preds = vspyct.predict(torch.Tensor(X_test_sub.values))\n",
    "    vspyct_preds_mean = vspyct_preds.mean(axis=1).numpy()\n",
    "    \n",
    "    # Score\n",
    "    score = mean_absolute_error(y_test.values, vspyct_preds_mean)\n",
    "    return score\n",
    "\n",
    "# --- 1) Baseline score with ALL features ---\n",
    "current_feature_set = list(feature_names)  # start with all features\n",
    "baseline_score = train_and_evaluate_model(X_train, y_train, X_test, y_test, current_feature_set)\n",
    "print(f\"Baseline MAE: {baseline_score:.4f}\")\n",
    "\n",
    "removed_features = []\n",
    "scores = [baseline_score]  # keep track of scores at each step\n",
    "\n",
    "# --- 2) Iteratively remove the least important feature ---\n",
    "for f in sorted_features_least_first:\n",
    "    # Create a candidate set that removes 'f'\n",
    "    candidate_feature_set = [feat for feat in current_feature_set if feat != f]\n",
    "    \n",
    "    # Train & evaluate\n",
    "    candidate_score = train_and_evaluate_model(\n",
    "        X_train, y_train, \n",
    "        X_test, y_test, \n",
    "        candidate_feature_set\n",
    "    )\n",
    "    \n",
    "    # Check if removing this feature degrades performance by >10% \n",
    "    # i.e. if MAE is 10% higher than the initial baseline\n",
    "    if candidate_score > baseline_score * 1.10:\n",
    "        print(\n",
    "            f\"Stopping: Removing '{f}' increases MAE \"\n",
    "            f\"by more than 10% of baseline. \"\n",
    "            f\"(Candidate MAE: {candidate_score:.4f})\"\n",
    "        )\n",
    "        break\n",
    "    else:\n",
    "        current_feature_set = candidate_feature_set\n",
    "        removed_features.append(f)\n",
    "        scores.append(candidate_score)\n",
    "        print(f\"Removed '{f}'; new MAE = {candidate_score:.4f}\")\n",
    "\n",
    "# print(\"\\nSummary:\")\n",
    "# print(f\"Features removed: {removed_features}\")\n",
    "# print(f\"Remaining features: {current_feature_set}\")\n",
    "# print(f\"Number of remaining features: {len(current_feature_set)}\")\n",
    "# print(f\"MAE at each step: {scores}\")\n",
    "\n",
    "# --- 3) Save removed features, remaining features, \n",
    "# and the ratio of least vs. most important remaining feature ---\n",
    "\n",
    "# Get importance of the least and most important features in the final set\n",
    "remaining_importances = [features_dict[feat] for feat in current_feature_set]\n",
    "lowest_importance = min(remaining_importances)\n",
    "highest_importance = max(remaining_importances)\n",
    "importance_ratio = lowest_importance / highest_importance  # float\n",
    "\n",
    "with open('removed_features.pkl', 'wb') as f:\n",
    "    pickle.dump(removed_features, f)\n",
    "\n",
    "with open('remaining_features.pkl', 'wb') as f:\n",
    "    pickle.dump(current_feature_set, f)\n",
    "\n",
    "with open('importance_ratio.pkl', 'wb') as f:\n",
    "    pickle.dump(importance_ratio, f)\n",
    "\n",
    "print(f\"\\nSaved pickle files:\")\n",
    "print(f\" - removed_features.pkl\")\n",
    "print(f\" - remaining_features.pkl\")\n",
    "print(f\" - importance_ratio.pkl (value = {importance_ratio:.4f})\")\n"
   ]
  },
  {
   "cell_type": "code",
   "execution_count": null,
   "metadata": {},
   "outputs": [],
   "source": []
  },
  {
   "cell_type": "code",
   "execution_count": null,
   "metadata": {},
   "outputs": [],
   "source": []
  },
  {
   "cell_type": "code",
   "execution_count": null,
   "metadata": {},
   "outputs": [],
   "source": []
  },
  {
   "cell_type": "code",
   "execution_count": 100,
   "metadata": {},
   "outputs": [],
   "source": [
    "from sklearn.model_selection import train_test_split\n",
    "\n",
    "train, test = train_test_split(df, test_size=0.2, random_state=42)"
   ]
  },
  {
   "cell_type": "code",
   "execution_count": 65,
   "metadata": {},
   "outputs": [],
   "source": [
    "import arff\n",
    "\n",
    "# Convert DataFrame to ARFF format\n",
    "def dataframe_to_arff(df, file_path, relation_name=\"relation\"):\n",
    "    attributes = []\n",
    "    for col in df.columns:\n",
    "        if df[col].dtype.kind in \"biufc\":  # Numeric\n",
    "            attributes.append((col, \"NUMERIC\"))\n",
    "        elif df[col].dtype.kind == \"O\":  # Object/String\n",
    "            attributes.append((col, \"STRING\"))\n",
    "        elif df[col].dtype.name == \"category\":  # Categorical\n",
    "            attributes.append((col, df[col].cat.categories.tolist()))\n",
    "    \n",
    "    arff_data = {\n",
    "        \"relation\": relation_name,\n",
    "        \"attributes\": attributes,\n",
    "        \"data\": df.values.tolist(),\n",
    "    }\n",
    "\n",
    "    # Write ARFF file\n",
    "    with open(file_path, \"w\") as f:\n",
    "        arff.dump(arff_data, f)"
   ]
  },
  {
   "cell_type": "code",
   "execution_count": 1872,
   "metadata": {},
   "outputs": [],
   "source": [
    "# Save to ARFF file\n",
    "dataframe_to_arff(train, '../../../../clus/data/str/ailerons/ailerons_train.arff', relation_name=\"example\")\n",
    "dataframe_to_arff(test, '../../../../clus/data/str/ailerons/ailerons_test.arff', relation_name=\"example\")"
   ]
  },
  {
   "cell_type": "code",
   "execution_count": 131,
   "metadata": {},
   "outputs": [],
   "source": [
    "X = df.drop(columns=target_col).values\n",
    "\n",
    "# for regression tasks, we can directly use the target column\n",
    "y = df[target_col].values.reshape(-1, 1)\n",
    "\n",
    "\n",
    "# # for classification tasks, we need to encode the target column\n",
    "\n",
    "# y = df[target_col]\n",
    "# from sklearn.preprocessing import LabelEncoder\n",
    "\n",
    "# # Initialize the LabelEncoder\n",
    "# label_encoder = LabelEncoder()\n",
    "\n",
    "# # Fit and transform the y DataFrame\n",
    "# y = y.apply(label_encoder.fit_transform).values.reshape(-1, 1)\n",
    "\n",
    "# # Display the encoded y DataFrame\n",
    "# print(y.shape)"
   ]
  },
  {
   "cell_type": "code",
   "execution_count": 110,
   "metadata": {},
   "outputs": [],
   "source": [
    "from sklearn.model_selection import train_test_split\n",
    "\n",
    "X_train, X_test, y_train, y_test = train_test_split(X.values, y.values, test_size=0.2, random_state=42)"
   ]
  },
  {
   "cell_type": "code",
   "execution_count": 111,
   "metadata": {},
   "outputs": [],
   "source": [
    "# # # ignore this for regression problems\n",
    "\n",
    "from sklearn.preprocessing import OneHotEncoder\n",
    "\n",
    "# For multi-class datasets, target needs to be one-hot encoded.\n",
    "encoder = OneHotEncoder()\n",
    "y_train = encoder.fit_transform(y_train).toarray()"
   ]
  },
  {
   "cell_type": "code",
   "execution_count": 112,
   "metadata": {},
   "outputs": [
    {
     "data": {
      "text/plain": [
       "tensor([[0., 1.],\n",
       "        [0., 1.],\n",
       "        [0., 1.],\n",
       "        ...,\n",
       "        [0., 1.],\n",
       "        [1., 0.],\n",
       "        [0., 1.]], dtype=torch.float64)"
      ]
     },
     "execution_count": 112,
     "metadata": {},
     "output_type": "execute_result"
    }
   ],
   "source": [
    "import torch\n",
    "torch.tensor(y_train)"
   ]
  },
  {
   "cell_type": "code",
   "execution_count": 113,
   "metadata": {},
   "outputs": [
    {
     "data": {
      "text/plain": [
       "array([[0., 1.],\n",
       "       [0., 1.],\n",
       "       [0., 1.],\n",
       "       ...,\n",
       "       [0., 1.],\n",
       "       [1., 0.],\n",
       "       [0., 1.]])"
      ]
     },
     "execution_count": 113,
     "metadata": {},
     "output_type": "execute_result"
    }
   ],
   "source": [
    "from sklearn.preprocessing import MinMaxScaler\n",
    "scaler = MinMaxScaler()\n",
    "torch.tensor(scaler.fit_transform(y_train))\n",
    "scaler.inverse_transform(torch.tensor(scaler.fit_transform(y_train)))"
   ]
  },
  {
   "cell_type": "code",
   "execution_count": 114,
   "metadata": {},
   "outputs": [
    {
     "data": {
      "text/plain": [
       "<spyct.model.Model at 0x1667c4670>"
      ]
     },
     "execution_count": 114,
     "metadata": {},
     "output_type": "execute_result"
    }
   ],
   "source": [
    "from spyct import Model\n",
    "\n",
    "ensemble_spyct = Model(num_trees=10)\n",
    "single_spyct = Model(num_trees=1)\n",
    "\n",
    "single_spyct.fit(X_train, y_train)\n",
    "ensemble_spyct.fit(X_train, y_train)"
   ]
  },
  {
   "cell_type": "code",
   "execution_count": 115,
   "metadata": {},
   "outputs": [
    {
     "data": {
      "text/plain": [
       "(torch.Size([800, 61]), torch.Size([800, 2]))"
      ]
     },
     "execution_count": 115,
     "metadata": {},
     "output_type": "execute_result"
    }
   ],
   "source": [
    "torch.Tensor(X_train).shape, torch.Tensor(y_train).shape"
   ]
  },
  {
   "cell_type": "code",
   "execution_count": 116,
   "metadata": {},
   "outputs": [
    {
     "name": "stdout",
     "output_type": "stream",
     "text": [
      "Total variance: 4209.96875\n"
     ]
    },
    {
     "name": "stderr",
     "output_type": "stream",
     "text": [
      "Epochs:  57%|█████▋    | 287/500 [00:08<00:06, 35.26it/s]\n"
     ]
    },
    {
     "name": "stdout",
     "output_type": "stream",
     "text": [
      "Early stopping at epoch 287.\n",
      "Impurity(\n",
      "  (linear): PyroLinear(in_features=61, out_features=1, bias=True)\n",
      ")\n",
      "Rows left:  torch.Size([323]) Var left tensor(4685.5625)\n",
      "Rows right:  torch.Size([477]) Var right tensor(1501.5228)\n"
     ]
    },
    {
     "name": "stderr",
     "output_type": "stream",
     "text": [
      "Epochs: 100%|██████████| 500/500 [00:08<00:00, 61.53it/s]\n"
     ]
    },
    {
     "name": "stdout",
     "output_type": "stream",
     "text": [
      "Impurity(\n",
      "  (linear): PyroLinear(in_features=61, out_features=1, bias=True)\n",
      ")\n",
      "Rows left:  torch.Size([36]) Var left tensor(4938.2715)\n",
      "Rows right:  torch.Size([441]) Var right tensor(988.6827)\n"
     ]
    },
    {
     "name": "stderr",
     "output_type": "stream",
     "text": [
      "Epochs: 100%|██████████| 500/500 [00:08<00:00, 61.80it/s]\n"
     ]
    },
    {
     "name": "stdout",
     "output_type": "stream",
     "text": [
      "Impurity(\n",
      "  (linear): PyroLinear(in_features=61, out_features=1, bias=True)\n",
      ")\n",
      "Rows left:  torch.Size([379]) Var left tensor(711.4960)\n",
      "Rows right:  torch.Size([62]) Var right tensor(2481.7898)\n"
     ]
    },
    {
     "name": "stderr",
     "output_type": "stream",
     "text": [
      "Epochs:  66%|██████▌   | 330/500 [00:01<00:00, 245.01it/s]\n"
     ]
    },
    {
     "name": "stdout",
     "output_type": "stream",
     "text": [
      "Early stopping at epoch 330.\n",
      "Impurity(\n",
      "  (linear): PyroLinear(in_features=61, out_features=1, bias=True)\n",
      ")\n",
      "Rows left:  torch.Size([5]) Var left tensor(0.)\n",
      "Rows right:  torch.Size([57]) Var right tensor(1305.0171)\n"
     ]
    },
    {
     "name": "stderr",
     "output_type": "stream",
     "text": [
      "Epochs:  60%|█████▉    | 298/500 [00:01<00:00, 246.88it/s]\n"
     ]
    },
    {
     "name": "stdout",
     "output_type": "stream",
     "text": [
      "Early stopping at epoch 298.\n",
      "Impurity(\n",
      "  (linear): PyroLinear(in_features=61, out_features=1, bias=True)\n",
      ")\n",
      "Rows left:  torch.Size([4]) Var left tensor(0.)\n",
      "Rows right:  torch.Size([53]) Var right tensor(0.)\n"
     ]
    },
    {
     "name": "stderr",
     "output_type": "stream",
     "text": [
      "Epochs: 100%|██████████| 500/500 [00:06<00:00, 81.22it/s]\n"
     ]
    },
    {
     "name": "stdout",
     "output_type": "stream",
     "text": [
      "Impurity(\n",
      "  (linear): PyroLinear(in_features=61, out_features=1, bias=True)\n",
      ")\n",
      "Rows left:  torch.Size([339]) Var left tensor(175.4249)\n",
      "Rows right:  torch.Size([40]) Var right tensor(3987.5000)\n"
     ]
    },
    {
     "name": "stderr",
     "output_type": "stream",
     "text": [
      "Epochs:  34%|███▍      | 170/500 [00:00<00:01, 243.29it/s]\n"
     ]
    },
    {
     "name": "stdout",
     "output_type": "stream",
     "text": [
      "Early stopping at epoch 170.\n",
      "Impurity(\n",
      "  (linear): PyroLinear(in_features=61, out_features=1, bias=True)\n",
      ")\n",
      "Rows left:  torch.Size([33]) Var left tensor(2130.3948)\n",
      "Rows right:  torch.Size([7]) Var right tensor(0.)\n"
     ]
    },
    {
     "name": "stderr",
     "output_type": "stream",
     "text": [
      "Epochs:  41%|████      | 203/500 [00:02<00:03, 78.74it/s]\n"
     ]
    },
    {
     "name": "stdout",
     "output_type": "stream",
     "text": [
      "Early stopping at epoch 203.\n",
      "Impurity(\n",
      "  (linear): PyroLinear(in_features=61, out_features=1, bias=True)\n",
      ")\n",
      "Rows left:  torch.Size([4]) Var left tensor(5000.)\n",
      "Rows right:  torch.Size([335]) Var right tensor(59.5233)\n"
     ]
    },
    {
     "name": "stderr",
     "output_type": "stream",
     "text": [
      "Epochs:  57%|█████▋    | 286/500 [00:01<00:00, 245.28it/s]\n"
     ]
    },
    {
     "name": "stdout",
     "output_type": "stream",
     "text": [
      "Early stopping at epoch 286.\n",
      "Impurity(\n",
      "  (linear): PyroLinear(in_features=61, out_features=1, bias=True)\n",
      ")\n",
      "Rows left:  torch.Size([17]) Var left tensor(0.)\n",
      "Rows right:  torch.Size([19]) Var right tensor(2659.2800)\n"
     ]
    },
    {
     "name": "stderr",
     "output_type": "stream",
     "text": [
      "Epochs:  73%|███████▎  | 367/500 [00:01<00:00, 245.71it/s]\n"
     ]
    },
    {
     "name": "stdout",
     "output_type": "stream",
     "text": [
      "Early stopping at epoch 367.\n",
      "Impurity(\n",
      "  (linear): PyroLinear(in_features=61, out_features=1, bias=True)\n",
      ")\n",
      "Rows left:  torch.Size([15]) Var left tensor(0.)\n",
      "Rows right:  torch.Size([4]) Var right tensor(3750.)\n"
     ]
    },
    {
     "name": "stderr",
     "output_type": "stream",
     "text": [
      "Epochs:  14%|█▍        | 72/500 [00:00<00:02, 201.53it/s]\n"
     ]
    },
    {
     "name": "stdout",
     "output_type": "stream",
     "text": [
      "Early stopping at epoch 72.\n",
      "Impurity(\n",
      "  (linear): PyroLinear(in_features=61, out_features=1, bias=True)\n",
      ")\n",
      "Rows left:  torch.Size([2]) Var left tensor(0.)\n",
      "Rows right:  torch.Size([2]) Var right tensor(5000.)\n"
     ]
    },
    {
     "name": "stderr",
     "output_type": "stream",
     "text": [
      "Epochs: 100%|██████████| 500/500 [00:06<00:00, 82.37it/s]\n"
     ]
    },
    {
     "name": "stdout",
     "output_type": "stream",
     "text": [
      "Impurity(\n",
      "  (linear): PyroLinear(in_features=61, out_features=1, bias=True)\n",
      ")\n",
      "Rows left:  torch.Size([238]) Var left tensor(4462.9609)\n",
      "Rows right:  torch.Size([85]) Var right tensor(4993.7715)\n"
     ]
    },
    {
     "name": "stderr",
     "output_type": "stream",
     "text": [
      "Epochs:  82%|████████▏ | 411/500 [00:01<00:00, 236.63it/s]\n"
     ]
    },
    {
     "name": "stdout",
     "output_type": "stream",
     "text": [
      "Early stopping at epoch 411.\n",
      "Impurity(\n",
      "  (linear): PyroLinear(in_features=61, out_features=1, bias=True)\n",
      ")\n",
      "Rows left:  torch.Size([66]) Var left tensor(4444.4453)\n",
      "Rows right:  torch.Size([19]) Var right tensor(0.)\n"
     ]
    },
    {
     "name": "stderr",
     "output_type": "stream",
     "text": [
      "Epochs: 100%|██████████| 500/500 [00:02<00:00, 244.75it/s]\n"
     ]
    },
    {
     "name": "stdout",
     "output_type": "stream",
     "text": [
      "Impurity(\n",
      "  (linear): PyroLinear(in_features=61, out_features=1, bias=True)\n",
      ")\n",
      "Rows left:  torch.Size([22]) Var left tensor(2975.2068)\n",
      "Rows right:  torch.Size([44]) Var right tensor(1652.8925)\n"
     ]
    },
    {
     "name": "stderr",
     "output_type": "stream",
     "text": [
      "Epochs:  57%|█████▋    | 285/500 [00:01<00:00, 243.79it/s]\n"
     ]
    },
    {
     "name": "stdout",
     "output_type": "stream",
     "text": [
      "Early stopping at epoch 285.\n",
      "Impurity(\n",
      "  (linear): PyroLinear(in_features=61, out_features=1, bias=True)\n",
      ")\n",
      "Rows left:  torch.Size([40]) Var left tensor(0.)\n",
      "Rows right:  torch.Size([4]) Var right tensor(0.)\n"
     ]
    },
    {
     "name": "stderr",
     "output_type": "stream",
     "text": [
      "Epochs:  37%|███▋      | 183/500 [00:00<00:01, 242.65it/s]\n"
     ]
    },
    {
     "name": "stdout",
     "output_type": "stream",
     "text": [
      "Early stopping at epoch 183.\n",
      "Impurity(\n",
      "  (linear): PyroLinear(in_features=61, out_features=1, bias=True)\n",
      ")\n",
      "Rows left:  torch.Size([18]) Var left tensor(0.)\n",
      "Rows right:  torch.Size([4]) Var right tensor(0.)\n"
     ]
    },
    {
     "name": "stderr",
     "output_type": "stream",
     "text": [
      "Epochs: 100%|██████████| 500/500 [00:04<00:00, 118.66it/s]\n"
     ]
    },
    {
     "name": "stdout",
     "output_type": "stream",
     "text": [
      "Impurity(\n",
      "  (linear): PyroLinear(in_features=61, out_features=1, bias=True)\n",
      ")\n",
      "Rows left:  torch.Size([170]) Var left tensor(2906.5742)\n",
      "Rows right:  torch.Size([68]) Var right tensor(3892.7329)\n"
     ]
    },
    {
     "name": "stderr",
     "output_type": "stream",
     "text": [
      "Epochs:  59%|█████▊    | 293/500 [00:01<00:00, 242.38it/s]\n"
     ]
    },
    {
     "name": "stdout",
     "output_type": "stream",
     "text": [
      "Early stopping at epoch 293.\n",
      "Impurity(\n",
      "  (linear): PyroLinear(in_features=61, out_features=1, bias=True)\n",
      ")\n",
      "Rows left:  torch.Size([56]) Var left tensor(1913.2656)\n",
      "Rows right:  torch.Size([12]) Var right tensor(0.)\n"
     ]
    },
    {
     "name": "stderr",
     "output_type": "stream",
     "text": [
      "Epochs:  55%|█████▍    | 274/500 [00:01<00:00, 230.78it/s]\n"
     ]
    },
    {
     "name": "stdout",
     "output_type": "stream",
     "text": [
      "Early stopping at epoch 274.\n",
      "Impurity(\n",
      "  (linear): PyroLinear(in_features=61, out_features=1, bias=True)\n",
      ")\n",
      "Rows left:  torch.Size([7]) Var left tensor(2448.9800)\n",
      "Rows right:  torch.Size([49]) Var right tensor(0.)\n"
     ]
    },
    {
     "name": "stderr",
     "output_type": "stream",
     "text": [
      "Epochs: 100%|██████████| 500/500 [00:04<00:00, 121.77it/s]\n"
     ]
    },
    {
     "name": "stdout",
     "output_type": "stream",
     "text": [
      "Impurity(\n",
      "  (linear): PyroLinear(in_features=61, out_features=1, bias=True)\n",
      ")\n",
      "Rows left:  torch.Size([119]) Var left tensor(649.6717)\n",
      "Rows right:  torch.Size([51]) Var right tensor(4998.0771)\n"
     ]
    },
    {
     "name": "stderr",
     "output_type": "stream",
     "text": [
      "Epochs:  98%|█████████▊| 491/500 [00:02<00:00, 235.74it/s]\n"
     ]
    },
    {
     "name": "stdout",
     "output_type": "stream",
     "text": [
      "Early stopping at epoch 491.\n",
      "Impurity(\n",
      "  (linear): PyroLinear(in_features=61, out_features=1, bias=True)\n",
      ")\n",
      "Rows left:  torch.Size([18]) Var left tensor(0.)\n",
      "Rows right:  torch.Size([33]) Var right tensor(3673.0950)\n"
     ]
    },
    {
     "name": "stderr",
     "output_type": "stream",
     "text": [
      "Epochs:  57%|█████▋    | 286/500 [00:01<00:00, 240.31it/s]"
     ]
    },
    {
     "name": "stdout",
     "output_type": "stream",
     "text": [
      "Early stopping at epoch 286.\n",
      "Impurity(\n",
      "  (linear): PyroLinear(in_features=61, out_features=1, bias=True)\n",
      ")\n",
      "Rows left:  torch.Size([115]) Var left tensor(0.)\n",
      "Rows right:  torch.Size([4]) Var right tensor(0.)\n"
     ]
    },
    {
     "name": "stderr",
     "output_type": "stream",
     "text": [
      "\n"
     ]
    }
   ],
   "source": [
    "vspyct = VSpyct(bs=bs, max_depth=max_depth, epochs=epochs, lr=lr, minimum_examples_to_split=minimum_examples_to_split)\n",
    "vspyct.fit(torch.Tensor(X_train), torch.Tensor(y_train))"
   ]
  },
  {
   "cell_type": "code",
   "execution_count": 117,
   "metadata": {},
   "outputs": [],
   "source": [
    "feature_importance_zernike = vspyct.feature_importances().tolist()"
   ]
  },
  {
   "cell_type": "code",
   "execution_count": 121,
   "metadata": {},
   "outputs": [
    {
     "data": {
      "text/plain": [
       "[6393.080078125,\n",
       " 8482.6162109375,\n",
       " 2321.213134765625,\n",
       " 5306.78369140625,\n",
       " 6122.31103515625,\n",
       " 3127.063232421875,\n",
       " 1752.3216552734375,\n",
       " 5754.32177734375,\n",
       " 8268.7265625,\n",
       " 3458.577880859375,\n",
       " 7549.22216796875,\n",
       " 5399.2822265625,\n",
       " 1586.3597412109375,\n",
       " 5096.0556640625,\n",
       " 4760.43359375,\n",
       " 5013.951171875,\n",
       " 6298.63427734375,\n",
       " 1045.015869140625,\n",
       " 2572.343017578125,\n",
       " 3037.48681640625,\n",
       " 1588.8939208984375,\n",
       " 2503.123046875,\n",
       " 7772.66650390625,\n",
       " 2116.361328125,\n",
       " 1020.0994873046875,\n",
       " 2372.88916015625,\n",
       " 4233.283203125,\n",
       " 1718.9951171875,\n",
       " 1745.2069091796875,\n",
       " 2979.248291015625,\n",
       " 1697.5673828125,\n",
       " 5514.3486328125,\n",
       " 11787.7685546875,\n",
       " 9246.966796875,\n",
       " 7022.45703125,\n",
       " 1969.7513427734375,\n",
       " 6142.14697265625,\n",
       " 2048.986083984375,\n",
       " 1868.3360595703125,\n",
       " 8752.142578125,\n",
       " 3055.438720703125,\n",
       " 31.843135833740234,\n",
       " 4526.3505859375,\n",
       " 3893.697509765625,\n",
       " 1281.022216796875,\n",
       " 3707.260498046875,\n",
       " 3227.6875,\n",
       " 5603.615234375,\n",
       " 1500.219970703125,\n",
       " 5049.947265625,\n",
       " 2066.867431640625,\n",
       " 4666.99169921875,\n",
       " 6940.498046875,\n",
       " 1312.48681640625,\n",
       " 12204.8857421875,\n",
       " 1905.156005859375,\n",
       " 6519.37548828125,\n",
       " 5637.509765625,\n",
       " 3323.911865234375,\n",
       " 2923.383544921875,\n",
       " 3811.911865234375]"
      ]
     },
     "execution_count": 121,
     "metadata": {},
     "output_type": "execute_result"
    }
   ],
   "source": [
    "feature_importance_zernike"
   ]
  },
  {
   "cell_type": "code",
   "execution_count": null,
   "metadata": {},
   "outputs": [],
   "source": []
  },
  {
   "cell_type": "code",
   "execution_count": 243,
   "metadata": {},
   "outputs": [],
   "source": [
    "dct = dict(zip(X.columns.tolist(), vspyct.feature_importances().tolist()))"
   ]
  },
  {
   "cell_type": "code",
   "execution_count": 244,
   "metadata": {},
   "outputs": [],
   "source": [
    "\n",
    "random_cols = [col for col in list(dct.keys()) if 'Random' in col]\n",
    "other_cols = [col for col in list(dct.keys()) if col not in random_cols]"
   ]
  },
  {
   "cell_type": "code",
   "execution_count": 245,
   "metadata": {},
   "outputs": [],
   "source": [
    "# for k,v in dct.items():\n",
    "#   if k in random_cols:\n",
    "#     dct[k] = 0.7*dct[k]"
   ]
  },
  {
   "cell_type": "code",
   "execution_count": 246,
   "metadata": {},
   "outputs": [
    {
     "data": {
      "image/png": "[encoded data removed]",
      "text/plain": [
       "<Figure size 300x600 with 1 Axes>"
      ]
     },
     "metadata": {},
     "output_type": "display_data"
    }
   ],
   "source": [
    "import matplotlib.pyplot as plt\n",
    "\n",
    "plt.rc('text', usetex=True)\n",
    "plt.rc('font', family='serif', size=8)\n",
    "plt.figure(figsize=(6, 5))\n",
    "\n",
    "# Combine all columns into a single vertical column of scatter points\n",
    "all_cols = other_cols + random_cols\n",
    "all_vals = [dct[col] for col in all_cols]\n",
    "all_colors = ['orange' if col in random_cols else 'blue' for col in all_cols]\n",
    "all_jitter = np.random.uniform(-0.2, 0.2, size=len(all_cols))  # Add slight horizontal jitter for visual separation\n",
    "\n",
    "# Plot scatter points\n",
    "for i, (val, color) in enumerate(zip(all_vals, all_colors)):\n",
    "    plt.scatter(0 + all_jitter[i], val, color=color, alpha=0.5)\n",
    "\n",
    "# Enhance plot\n",
    "plt.title(\"Bar of Scatters: Feature Importances\")\n",
    "plt.ylabel(\"Feature Importance\")\n",
    "plt.xticks([0], [\"osales\"])\n",
    "plt.xlim(-0.5, 0.5)\n",
    "# plt.legend(handles=[\n",
    "#     plt.Line2D([0], [0], marker='o', color='w', markerfacecolor='blue', alpha=0.5, label='Random Columns'),\n",
    "#     plt.Line2D([0], [0], marker='o', color='w', markerfacecolor='orange', alpha=0.5, label='Other Columns')\n",
    "# ])\n",
    "plt.tight_layout()\n",
    "plt.savefig('../reports/figures/feat_importances.pdf')"
   ]
  },
  {
   "cell_type": "code",
   "execution_count": 247,
   "metadata": {},
   "outputs": [],
   "source": [
    "# Normalizing the dictionary values to sum to 1\n",
    "total = sum(dct.values())\n",
    "normalized_dct = {key: value / total for key, value in dct.items()}"
   ]
  },
  {
   "cell_type": "code",
   "execution_count": 248,
   "metadata": {},
   "outputs": [],
   "source": [
    "import pickle\n",
    "\n",
    "with open ('../data/processed/chronic_kidney_disease_importances.pcl', 'wb') as fp:\n",
    "  pickle.dump(normalized_dct, fp)"
   ]
  },
  {
   "cell_type": "code",
   "execution_count": null,
   "metadata": {},
   "outputs": [],
   "source": []
  },
  {
   "cell_type": "code",
   "execution_count": null,
   "metadata": {},
   "outputs": [],
   "source": []
  },
  {
   "cell_type": "code",
   "execution_count": 1916,
   "metadata": {},
   "outputs": [
    {
     "data": {
      "text/plain": [
       "[7492454760588.799,\n",
       " 7464103379993.603,\n",
       " 7360092662105.6,\n",
       " 7122000766886.4,\n",
       " 6709420533939.2,\n",
       " 6219544600447.999,\n",
       " 5727608160192.001,\n",
       " 5330129076518.399,\n",
       " 4997347467481.6,\n",
       " 4741272050790.401,\n",
       " 4516260453990.399,\n",
       " 4337770778380.8,\n",
       " 4188780558809.6,\n",
       " 4055752735398.399,\n",
       " 3942516908211.199,\n",
       " 3842575097369.601,\n",
       " 3751665451033.599,\n",
       " 3672261796095.999,\n",
       " 3602709466828.799,\n",
       " 3535955740774.3994,\n",
       " 3478791257958.4,\n",
       " 3423820036947.199,\n",
       " 3375172500063.9995,\n",
       " 3329637501292.8003,\n",
       " 3288073813631.9995,\n",
       " 3247983700959.9995,\n",
       " 3214137047788.8003,\n",
       " 3177860910188.8013,\n",
       " 3146336415724.8003,\n",
       " 3116329935673.6,\n",
       " 3087533205580.8003,\n",
       " 3061069996224.001,\n",
       " 3035899862982.401,\n",
       " 3011823132799.999,\n",
       " 2989288231296.0,\n",
       " 2967541682950.4004,\n",
       " 2948289767187.1997,\n",
       " 2927431382003.2007,\n",
       " 2909441953222.4004,\n",
       " 2892925087136.0,\n",
       " 2874845335347.1997,\n",
       " 2858805313062.401,\n",
       " 2842958273606.401,\n",
       " 2828887513324.7993,\n",
       " 2814172990476.8,\n",
       " 2799932030572.7993,\n",
       " 2787203647142.4,\n",
       " 2774036224371.1997,\n",
       " 2761629470214.3994,\n",
       " 2750598480371.2,\n",
       " 2738214849241.5996,\n",
       " 2727349984243.1997,\n",
       " 2717773713382.399,\n",
       " 2706985277952.0005,\n",
       " 2696672580198.3984,\n",
       " 2687103854796.8003,\n",
       " 2677387244063.9995,\n",
       " 2668398884697.6,\n",
       " 2659531034425.6,\n",
       " 2651336351968.0005,\n",
       " 2642653433587.2,\n",
       " 2634979758451.2,\n",
       " 2626522248480.0005,\n",
       " 2619528279468.8,\n",
       " 2611396801836.8003,\n",
       " 2604898865561.5996,\n",
       " 2597898031430.3994,\n",
       " 2591151739507.2,\n",
       " 2584132229900.8,\n",
       " 2577707810764.8003,\n",
       " 2571130776160.0,\n",
       " 2565247884031.9995,\n",
       " 2558866766112.0005,\n",
       " 2553455593971.2,\n",
       " 2547586537273.6,\n",
       " 2542175647788.801,\n",
       " 2536468687488.0015,\n",
       " 2531145671027.2,\n",
       " 2526214973356.8003,\n",
       " 2521053776160.0,\n",
       " 2516180098566.3994,\n",
       " 2510796577420.8,\n",
       " 2506204648614.3994,\n",
       " 2501766712000.0,\n",
       " 2496997014521.5996,\n",
       " 2492814462393.6,\n",
       " 2488806759513.5996,\n",
       " 2484090507040.0,\n",
       " 2479936504358.4004,\n",
       " 2475721406079.9995,\n",
       " 2471906521708.8,\n",
       " 2468025616940.801,\n",
       " 2464269881785.6,\n",
       " 2460329646771.2,\n",
       " 2456614028083.2007,\n",
       " 2452681437651.2,\n",
       " 2449404860217.6006,\n",
       " 2446122204057.5996,\n",
       " 2442535980256.0,\n",
       " 2439213786099.2,\n",
       " 2435602166028.7993,\n",
       " 2432378625958.4,\n",
       " 2429711632966.4,\n",
       " 2426420589363.2007,\n",
       " 2422997823296.0,\n",
       " 2420460890764.8,\n",
       " 2417388724761.6006,\n",
       " 2414332275635.2,\n",
       " 2411584368704.0005,\n",
       " 2408758744051.1997,\n",
       " 2405880478592.0,\n",
       " 2403411898022.4,\n",
       " 2400609710220.8003,\n",
       " 2397957978086.4,\n",
       " 2395371667449.6006,\n",
       " 2392885344748.8013,\n",
       " 2390172484793.599,\n",
       " 2387647716659.1997,\n",
       " 2385185896633.5996,\n",
       " 2382844113407.9995,\n",
       " 2380660528185.6,\n",
       " 2378385258425.5996,\n",
       " 2376039287769.5996,\n",
       " 2373900040332.8003,\n",
       " 2371678394976.001,\n",
       " 2369371859500.801,\n",
       " 2367212399257.5996,\n",
       " 2365287359852.8003,\n",
       " 2363115251507.1997,\n",
       " 2361001412518.3994,\n",
       " 2359056697510.399,\n",
       " 2357067078169.599,\n",
       " 2355037155654.4,\n",
       " 2353169639616.0,\n",
       " 2351123767692.8,\n",
       " 2349526324076.8,\n",
       " 2347394674796.8,\n",
       " 2345595248172.8003,\n",
       " 2343757544025.5996,\n",
       " 2341903256844.8,\n",
       " 2340098229280.0,\n",
       " 2338504214393.6,\n",
       " 2337082591475.199,\n",
       " 2335274882911.9995,\n",
       " 2333487693343.999,\n",
       " 2331850451840.001,\n",
       " 2330233664198.4,\n",
       " 2328594431366.4004,\n",
       " 2326996379820.8,\n",
       " 2325296472729.5996,\n",
       " 2323823437766.3994,\n",
       " 2322313962112.001,\n",
       " 2320795820134.4004,\n",
       " 2319448807238.4,\n",
       " 2317866935507.2,\n",
       " 2316386625542.3994,\n",
       " 2314812595993.6006,\n",
       " 2313459768704.0,\n",
       " 2312030102624.0,\n",
       " 2310656374720.0,\n",
       " 2309468152678.4014,\n",
       " 2308088655008.0005,\n",
       " 2306761878649.5996,\n",
       " 2305384048902.399,\n",
       " 2303927536870.4,\n",
       " 2302733432096.0005,\n",
       " 2301447722591.9995,\n",
       " 2300306414809.601,\n",
       " 2299082400422.4,\n",
       " 2297837428620.8,\n",
       " 2296521416051.2,\n",
       " 2295436803296.0005,\n",
       " 2294193814918.4,\n",
       " 2292848228767.9995,\n",
       " 2291718300332.8003,\n",
       " 2290653250707.2,\n",
       " 2289425298368.0,\n",
       " 2288124503289.599,\n",
       " 2287248723436.8,\n",
       " 2286241316825.6,\n",
       " 2284982799392.0005,\n",
       " 2283858935673.6,\n",
       " 2282995302476.8,\n",
       " 2281689492883.1997,\n",
       " 2280697465888.0005,\n",
       " 2279669740755.2007,\n",
       " 2278733761011.2,\n",
       " 2277625676787.2,\n",
       " 2276414040268.8003,\n",
       " 2275651479391.9995,\n",
       " 2274565166124.8,\n",
       " 2273600006496.0,\n",
       " 2272624503065.6006,\n",
       " 2271596252211.1997,\n",
       " 2270753969254.3994,\n",
       " 2269754922835.1997,\n",
       " 2268756046368.0,\n",
       " 2267910465484.8,\n",
       " 2266850394534.4,\n",
       " 2266127929593.6,\n",
       " 2265163356409.599,\n",
       " 2264289461126.4,\n",
       " 2263275243289.6,\n",
       " 2262419009932.8003,\n",
       " 2261602753600.0,\n",
       " 2260699482937.6,\n",
       " 2259912477273.5996,\n",
       " 2259011420851.2007,\n",
       " 2258275910713.6,\n",
       " 2257329769734.3994,\n",
       " 2256426230156.8,\n",
       " 2255719341587.2,\n",
       " 2254859575071.9995,\n",
       " 2253966516921.5996,\n",
       " 2253248351091.2,\n",
       " 2252361708019.2,\n",
       " 2251577078380.8003,\n",
       " 2250873929670.3994,\n",
       " 2250028455238.4004,\n",
       " 2249348474220.8003,\n",
       " 2248662174284.8003,\n",
       " 2247891170783.9995,\n",
       " 2247011565107.2,\n",
       " 2246496698790.4,\n",
       " 2245601467225.6,\n",
       " 2244884012352.0005,\n",
       " 2244164758707.2007,\n",
       " 2243468508256.0005,\n",
       " 2242619260767.9995,\n",
       " 2242051369772.8,\n",
       " 2241254182207.9995,\n",
       " 2240672204012.7993,\n",
       " 2239740622284.8,\n",
       " 2239291344524.8,\n",
       " 2238508403257.6,\n",
       " 2237892618886.3994,\n",
       " 2237254979904.0,\n",
       " 2236527821836.8,\n",
       " 2235728906720.0,\n",
       " 2235232662092.8,\n",
       " 2234590582368.0005,\n",
       " 2234039431852.8003,\n",
       " 2233242521772.8003,\n",
       " 2232938166579.2,\n",
       " 2232045570112.0,\n",
       " 2231218262297.6,\n",
       " 2230812921881.599,\n",
       " 2230138326995.199,\n",
       " 2229825720531.2007,\n",
       " 2229063730374.3994,\n",
       " 2228357219648.0005,\n",
       " 2227784263385.5996,\n",
       " 2227039982495.9995,\n",
       " 2226666785958.3994,\n",
       " 2225980244915.2,\n",
       " 2225340666592.0005,\n",
       " 2224814719705.5996,\n",
       " 2224407424806.4,\n",
       " 2223764495622.4,\n",
       " 2223106540934.4,\n",
       " 2222516965760.0,\n",
       " 2221845682073.6,\n",
       " 2221693940576.0,\n",
       " 2220750804224.0005,\n",
       " 2220178353056.0005,\n",
       " 2219862586502.4,\n",
       " 2219347679372.801,\n",
       " 2218937105683.2,\n",
       " 2218244891283.1997,\n",
       " 2217637732409.6,\n",
       " 2217353311232.0,\n",
       " 2216521330668.801,\n",
       " 2216000444358.4,\n",
       " 2215628620019.1997,\n",
       " 2214961066169.5996,\n",
       " 2214412085184.0,\n",
       " 2213940006880.0,\n",
       " 2213639809542.4004,\n",
       " 2213180423865.6006,\n",
       " 2212597249548.8003,\n",
       " 2212096986112.0005,\n",
       " 2211608117216.0,\n",
       " 2211078257158.4,\n",
       " 2210469307564.8003,\n",
       " 2210239480678.4,\n",
       " 2209752214214.4004,\n",
       " 2209120912665.6006,\n",
       " 2208827816371.1997,\n",
       " 2208273687289.5996,\n",
       " 2207732299059.1997,\n",
       " 2207281807699.2,\n",
       " 2206909309983.999,\n",
       " 2206437050048.0005,\n",
       " 2206014156550.3994,\n",
       " 2205597712051.2,\n",
       " 2204912823142.4004,\n",
       " 2204591717318.3994,\n",
       " 2204181112870.4,\n",
       " 2203845216403.1997,\n",
       " 2203512291705.5996,\n",
       " 2202928272889.6006,\n",
       " 2202356403046.3994,\n",
       " 2202087188454.4004,\n",
       " 2201550296262.3994,\n",
       " 2201176111859.2,\n",
       " 2200748607200.0,\n",
       " 2200267644428.8003,\n",
       " 2199887855635.1997,\n",
       " 2199294413542.4,\n",
       " 2199266357062.4004,\n",
       " 2198665199654.401,\n",
       " 2198306635251.2,\n",
       " 2197729750291.2002,\n",
       " 2197449101523.2,\n",
       " 2196915317599.9998,\n",
       " 2196704339168.0002,\n",
       " 2196282510847.9998,\n",
       " 2195848026790.4,\n",
       " 2195502453862.4004,\n",
       " 2195183776390.4001,\n",
       " 2194647899686.3997,\n",
       " 2194391790080.0,\n",
       " 2193719813280.0005,\n",
       " 2193373444236.7998,\n",
       " 2193124877267.2002,\n",
       " 2192800247699.2,\n",
       " 2192417158892.8,\n",
       " 2192014402912.0,\n",
       " 2191873499903.9998,\n",
       " 2191360290719.9995,\n",
       " 2190941528582.4004,\n",
       " 2190652315660.8003,\n",
       " 2190210407040.0002,\n",
       " 2189886803641.6,\n",
       " 2189542087808.0002,\n",
       " 2189071098924.8005,\n",
       " 2188874236921.5999,\n",
       " 2188320171552.0002,\n",
       " 2187930573190.4001,\n",
       " 2187917758784.0,\n",
       " 2187375138291.1995,\n",
       " 2187033268524.8003,\n",
       " 2186656765676.8008,\n",
       " 2186271654131.1992,\n",
       " 2185958683737.6,\n",
       " 2185500093606.3994,\n",
       " 2185384745913.6,\n",
       " 2184931760262.4,\n",
       " 2184631672140.7998,\n",
       " 2184265690803.2012,\n",
       " 2183885642195.2002,\n",
       " 2183684210470.4,\n",
       " 2183344298278.4,\n",
       " 2182827195424.0,\n",
       " 2182643943443.2,\n",
       " 2182291757612.8003,\n",
       " 2181985560960.0,\n",
       " 2181506452998.4001,\n",
       " 2181480217779.2,\n",
       " 2181075185721.6,\n",
       " 2180899147110.4004,\n",
       " 2180351158476.8,\n",
       " 2180131805683.2,\n",
       " 2179911044511.9993,\n",
       " 2179565517471.9995,\n",
       " 2179171173011.1997,\n",
       " 2179031987558.4006,\n",
       " 2178520190585.6,\n",
       " 2178199199852.7993,\n",
       " 2177980708000.0,\n",
       " 2177878072006.4001,\n",
       " 2177481437868.8005,\n",
       " 2177170831692.8,\n",
       " 2176749875571.2007,\n",
       " 2176456781651.2,\n",
       " 2176101375315.1995,\n",
       " 2175951394611.2002,\n",
       " 2175671161055.9998,\n",
       " 2175413307289.5999,\n",
       " 2174954661145.599,\n",
       " 2174956281856.0,\n",
       " 2174403329260.8,\n",
       " 2174207203692.7996,\n",
       " 2173971371916.8,\n",
       " 2173403430988.7998,\n",
       " 2173360277388.8008,\n",
       " 2172963718016.0005,\n",
       " 2172890991897.5999,\n",
       " 2172534711129.5999,\n",
       " 2172241998880.0,\n",
       " 2171994515724.7996,\n",
       " 2171771916140.8003,\n",
       " 2171491320403.2,\n",
       " 2171150196044.8,\n",
       " 2170863848876.7998,\n",
       " 2170767483942.4004,\n",
       " 2170297286816.0,\n",
       " 2169971778880.0,\n",
       " 2169843811456.0,\n",
       " 2169689272985.5999,\n",
       " 2169155041017.5999,\n",
       " 2168862522508.7998,\n",
       " 2168693513337.6,\n",
       " 2168377383263.9988,\n",
       " 2168267107110.399,\n",
       " 2168017631987.2,\n",
       " 2167743372140.8003,\n",
       " 2167530667987.2,\n",
       " 2167233739040.0007,\n",
       " 2166993939257.6003,\n",
       " 2166741407686.4001,\n",
       " 2166408709267.2,\n",
       " 2166180159231.9995,\n",
       " 2166057535001.6,\n",
       " 2165792045427.2002,\n",
       " 2165454950156.8003,\n",
       " 2165237469235.2,\n",
       " 2164868475417.6,\n",
       " 2164817979596.8005,\n",
       " 2164582168659.2002,\n",
       " 2164242084780.7998,\n",
       " 2164023886988.8,\n",
       " 2163847955033.5994,\n",
       " 2163539802137.5996,\n",
       " 2163241349491.1997,\n",
       " 2163066819462.4001,\n",
       " 2162819469996.8003,\n",
       " 2162645123315.2,\n",
       " 2162416009369.6003,\n",
       " 2162198434643.1992,\n",
       " 2161967123308.7996,\n",
       " 2161668223513.5999,\n",
       " 2161481088076.8,\n",
       " 2161280023065.5999,\n",
       " 2160877667411.2,\n",
       " 2160766769536.0,\n",
       " 2160563048774.4004,\n",
       " 2160405805177.6003,\n",
       " 2160115694131.2004,\n",
       " 2159837798425.6,\n",
       " 2159662022259.2002,\n",
       " 2159273111846.4001,\n",
       " 2159261176192.0002,\n",
       " 2158940655238.4,\n",
       " 2158737923046.3994,\n",
       " 2158569729235.1992,\n",
       " 2158412629119.9998,\n",
       " 2158195329555.2,\n",
       " 2157946323852.8008,\n",
       " 2157580093216.0005,\n",
       " 2157457786092.8005,\n",
       " 2157402962476.7993,\n",
       " 2156962806457.5999,\n",
       " 2156719503251.2,\n",
       " 2156626237644.8,\n",
       " 2156373401990.4001,\n",
       " 2156203523769.6006,\n",
       " 2156008501728.0,\n",
       " 2155861503487.9993,\n",
       " 2155585880908.8003,\n",
       " 2155285124723.2,\n",
       " 2155090994848.0002,\n",
       " 2154849396844.8003,\n",
       " 2154657230905.5999,\n",
       " 2154584875008.0002,\n",
       " 2154206431980.799,\n",
       " 2154147815763.2004,\n",
       " 2153822921561.6006,\n",
       " 2153830154432.0007,\n",
       " 2153653895238.3992,\n",
       " 2153336418976.0002,\n",
       " 2153121546630.4,\n",
       " 2153013384147.2,\n",
       " 2152777397222.4,\n",
       " 2152556888396.7998,\n",
       " 2152457992832.0,\n",
       " 2152189211679.9998,\n",
       " 2151894294073.6003,\n",
       " 2151836987327.9998,\n",
       " 2151658567161.6008,\n",
       " 2151505492083.1997,\n",
       " 2151243113619.1992,\n",
       " 2151055774502.4,\n",
       " 2150728954963.2007,\n",
       " 2150596729856.0,\n",
       " 2150414790943.9995,\n",
       " 2150245324396.7998,\n",
       " 2150032569523.2,\n",
       " 2149953377094.4001,\n",
       " 2149642488960.0002,\n",
       " 2149520711027.2002,\n",
       " 2149346415852.8003,\n",
       " 2149201026003.2002,\n",
       " 2149032785574.3997,\n",
       " 2148805103487.9998,\n",
       " 2148725100371.2002,\n",
       " 2148421784134.4001,\n",
       " 2148287290681.5999,\n",
       " 2148017659155.1997,\n",
       " 2147929103168.0002]"
      ]
     },
     "execution_count": 1916,
     "metadata": {},
     "output_type": "execute_result"
    }
   ],
   "source": [
    "vspyct.root_node.losses"
   ]
  },
  {
   "cell_type": "code",
   "execution_count": 1917,
   "metadata": {},
   "outputs": [],
   "source": [
    "from sklearn.metrics import mean_absolute_error"
   ]
  },
  {
   "cell_type": "code",
   "execution_count": 80,
   "metadata": {},
   "outputs": [],
   "source": [
    "vspyct_preds = vspyct.predict(torch.Tensor(X_test))"
   ]
  },
  {
   "cell_type": "code",
   "execution_count": 81,
   "metadata": {},
   "outputs": [],
   "source": [
    "vspyct_preds_mean = vspyct_preds.mean(axis=1).numpy()"
   ]
  },
  {
   "cell_type": "code",
   "execution_count": 82,
   "metadata": {},
   "outputs": [],
   "source": [
    "# for classification\n",
    "\n",
    "vsp_preds = np.argmax(vspyct_preds.mean(axis=1).numpy(),axis=1)"
   ]
  },
  {
   "cell_type": "code",
   "execution_count": 83,
   "metadata": {},
   "outputs": [],
   "source": [
    "single_spyct_preds = single_spyct.predict(X_test)"
   ]
  },
  {
   "cell_type": "code",
   "execution_count": 84,
   "metadata": {},
   "outputs": [],
   "source": [
    "ensemble_spyct_preds = ensemble_spyct.predict(X_test)"
   ]
  },
  {
   "cell_type": "code",
   "execution_count": 85,
   "metadata": {},
   "outputs": [],
   "source": [
    "# for classification\n",
    "\n",
    "single_spyct_preds = np.argmax(single_spyct_preds,axis=1)\n",
    "ensemble_spyct_preds = np.argmax(ensemble_spyct_preds,axis=1)"
   ]
  },
  {
   "cell_type": "code",
   "execution_count": 924,
   "metadata": {},
   "outputs": [],
   "source": [
    "# np.sum(np.argmax(ensemble_spyct_preds,axis=1) == np.argmax(encoder.transform(y_test).toarray(),axis=1))"
   ]
  },
  {
   "cell_type": "code",
   "execution_count": 87,
   "metadata": {},
   "outputs": [],
   "source": [
    "# for classification\n",
    "\n",
    "y_test_f1 = np.argmax(encoder.transform(y_test).toarray(),axis=1)"
   ]
  },
  {
   "cell_type": "code",
   "execution_count": 893,
   "metadata": {},
   "outputs": [],
   "source": [
    "# import matplotlib.pyplot as plt\n",
    "# vsp_preds = (vspyct_preds.mean(axis=1)>=0.5).to(torch.int32).numpy()\n",
    "# sing_preds = (single_spyct.predict(X_test)>=0.5).astype(int)\n",
    "# ens_preds = (ensemble_spyct.predict(X_test)>=0.5).astype(int)\n",
    "\n",
    "# plt.plot(y_test)"
   ]
  },
  {
   "cell_type": "code",
   "execution_count": 1922,
   "metadata": {},
   "outputs": [
    {
     "data": {
      "text/plain": [
       "((1639, 1), (1639, 1))"
      ]
     },
     "execution_count": 1922,
     "metadata": {},
     "output_type": "execute_result"
    }
   ],
   "source": [
    "vspyct_preds_mean.shape, single_spyct_preds.shape"
   ]
  },
  {
   "cell_type": "code",
   "execution_count": 1923,
   "metadata": {},
   "outputs": [
    {
     "data": {
      "text/plain": [
       "(2.7116777454818934, 2.795463140270826, 2.6322416518570284)"
      ]
     },
     "execution_count": 1923,
     "metadata": {},
     "output_type": "execute_result"
    }
   ],
   "source": [
    "mean_absolute_error(y_test, vspyct_preds_mean), mean_absolute_error(y_test, single_spyct_preds), mean_absolute_error(y_test, ensemble_spyct_preds)"
   ]
  },
  {
   "cell_type": "code",
   "execution_count": 1423,
   "metadata": {},
   "outputs": [
    {
     "data": {
      "text/plain": [
       "(array([[620.     ],\n",
       "        [620.     ],\n",
       "        [679.25   ],\n",
       "        ...,\n",
       "        [750.8173 ],\n",
       "        [750.8173 ],\n",
       "        [291.10236]], dtype=float32),\n",
       " array([[5343],\n",
       "        [5671],\n",
       "        [2671],\n",
       "        ...,\n",
       "        [ 668],\n",
       "        [2213],\n",
       "        [8168]]))"
      ]
     },
     "execution_count": 1423,
     "metadata": {},
     "output_type": "execute_result"
    }
   ],
   "source": [
    "single_spyct_preds, y_test"
   ]
  },
  {
   "cell_type": "code",
   "execution_count": 121,
   "metadata": {},
   "outputs": [
    {
     "data": {
      "text/plain": [
       "array([11,  6, 22, ..., 11,  6, 14])"
      ]
     },
     "execution_count": 121,
     "metadata": {},
     "output_type": "execute_result"
    }
   ],
   "source": [
    "ensemble_spyct_preds"
   ]
  },
  {
   "cell_type": "code",
   "execution_count": 1439,
   "metadata": {},
   "outputs": [
    {
     "data": {
      "text/plain": [
       "[<matplotlib.lines.Line2D at 0x33048d580>]"
      ]
     },
     "execution_count": 1439,
     "metadata": {},
     "output_type": "execute_result"
    },
    {
     "data": {
      "image/png": "[encoded data removed]",
      "text/plain": [
       "<Figure size 640x480 with 1 Axes>"
      ]
     },
     "metadata": {},
     "output_type": "display_data"
    }
   ],
   "source": [
    "plt.plot(preds[:100])\n",
    "plt.plot(true[:100])"
   ]
  },
  {
   "cell_type": "code",
   "execution_count": 1550,
   "metadata": {},
   "outputs": [
    {
     "data": {
      "text/plain": [
       "array([[-3.646181],\n",
       "       [ 4.759357],\n",
       "       [ 7.716711],\n",
       "       ...,\n",
       "       [ 6.81134 ],\n",
       "       [ 4.354505],\n",
       "       [ 0.120191]])"
      ]
     },
     "execution_count": 1550,
     "metadata": {},
     "output_type": "execute_result"
    }
   ],
   "source": [
    "y_test"
   ]
  },
  {
   "cell_type": "code",
   "execution_count": 1549,
   "metadata": {},
   "outputs": [
    {
     "data": {
      "text/plain": [
       "[<matplotlib.lines.Line2D at 0x2c270d9d0>]"
      ]
     },
     "execution_count": 1549,
     "metadata": {},
     "output_type": "execute_result"
    },
    {
     "data": {
      "image/png": "[encoded data removed]",
      "text/plain": [
       "<Figure size 640x480 with 1 Axes>"
      ]
     },
     "metadata": {},
     "output_type": "display_data"
    }
   ],
   "source": [
    "import matplotlib.pyplot as plt\n",
    "\n",
    "plt.plot(y_test[:100])\n",
    "plt.plot(vspyct_preds_mean[:100])\n",
    "# plt.plot(single_spyct_preds[:100])\n",
    "plt.plot(ensemble_spyct_preds[:100])"
   ]
  },
  {
   "cell_type": "code",
   "execution_count": 1320,
   "metadata": {},
   "outputs": [],
   "source": [
    "import os\n",
    "\n",
    "os.makedirs('../final_results/str', exist_ok=True)"
   ]
  },
  {
   "cell_type": "code",
   "execution_count": 1924,
   "metadata": {},
   "outputs": [],
   "source": [
    "vspyct_mae = mean_absolute_error(y_test, vspyct_preds_mean)\n",
    "single_spyct_mae = mean_absolute_error(y_test, single_spyct_preds)\n",
    "ensemble_spyct_mae = mean_absolute_error(y_test, ensemble_spyct_preds)"
   ]
  },
  {
   "cell_type": "code",
   "execution_count": 1322,
   "metadata": {},
   "outputs": [],
   "source": [
    "# Example performance data across 3 datasets\n",
    "performance_data = [\n",
    "    [('Alg1', 0.75), ('Alg2', 0.65), ('Alg3', 0.80)],  # Dataset 1\n",
    "    [('Alg1', 0.70), ('Alg2', 0.60), ('Alg3', 0.85)],  # Dataset 2\n",
    "    [('Alg1', 0.80), ('Alg2', 0.70), ('Alg3', 0.78)],  # Dataset 3\n",
    "]"
   ]
  },
  {
   "cell_type": "code",
   "execution_count": 1925,
   "metadata": {},
   "outputs": [],
   "source": [
    "performance = [('vspyct', vspyct_mae), ('spyct_single', single_spyct_mae), ('spyct_ensemble', ensemble_spyct_mae)]"
   ]
  },
  {
   "cell_type": "code",
   "execution_count": 1926,
   "metadata": {},
   "outputs": [
    {
     "data": {
      "text/plain": [
       "[('vspyct', 2.7116777454818934),\n",
       " ('spyct_single', 2.795463140270826),\n",
       " ('spyct_ensemble', 2.6322416518570284)]"
      ]
     },
     "execution_count": 1926,
     "metadata": {},
     "output_type": "execute_result"
    }
   ],
   "source": [
    "performance"
   ]
  },
  {
   "cell_type": "code",
   "execution_count": 1927,
   "metadata": {},
   "outputs": [],
   "source": [
    "# save as pickle\n",
    "import pickle\n",
    "\n",
    "with open('../final_results/str/puma8NH.pcl', 'wb') as f:\n",
    "    pickle.dump(performance, f)"
   ]
  },
  {
   "cell_type": "code",
   "execution_count": 42,
   "metadata": {},
   "outputs": [],
   "source": [
    "# import pickle\n",
    "# from sklearn.metrics import f1_score\n",
    "\n",
    "# with open('../diabetes_f1_vspyct.pcl', 'wb') as f:\n",
    "#   pickle.dump(f1_score(vsp_preds, y_test), f)\n",
    "\n",
    "# with open('../diabetes_f1_spyct_single.pcl', 'wb') as f:\n",
    "#   pickle.dump(f1_score(sing_preds, y_test), f)\n",
    "\n",
    "# with open('../diabetes_f1_spyct_ensemble.pcl', 'wb') as f:\n",
    "#   pickle.dump(f1_score(ens_preds, y_test), f)"
   ]
  },
  {
   "cell_type": "code",
   "execution_count": 699,
   "metadata": {},
   "outputs": [
    {
     "data": {
      "text/plain": [
       "array([0, 1, 1, 1, 0, 1, 1, 0, 0, 0, 0, 0, 0, 1, 0, 1, 0, 1, 0, 0, 1, 1,\n",
       "       1, 0, 0, 0, 0, 0, 0, 1, 1, 1, 0, 0, 1, 0, 0, 1, 1, 1, 0, 0, 0, 1,\n",
       "       0, 0, 0, 0, 1, 1, 0, 0, 1, 1, 0, 0, 1, 0, 0, 0, 1, 1, 0, 1, 0, 0,\n",
       "       1, 0, 0, 0, 0, 0, 0, 0, 0, 0, 1, 1, 0, 0, 1, 0, 0, 0, 1, 0, 0, 1,\n",
       "       0, 1, 0, 0, 1, 0, 0, 0, 0, 0, 0, 0, 1, 0, 0, 0, 0, 1, 0, 0, 0, 0,\n",
       "       0, 0, 0, 1, 1, 0, 1, 0, 0, 0, 0, 0, 0, 0, 0, 1, 0, 0, 0, 0, 0, 1,\n",
       "       0, 0, 0, 1, 0, 0, 0, 0, 0, 1, 0, 0, 0, 0, 0, 0, 0, 1, 1, 1, 0, 1])"
      ]
     },
     "execution_count": 699,
     "metadata": {},
     "output_type": "execute_result"
    }
   ],
   "source": [
    "y_test_f1"
   ]
  },
  {
   "cell_type": "code",
   "execution_count": 88,
   "metadata": {},
   "outputs": [
    {
     "data": {
      "text/plain": [
       "(0.9729546991210277, 0.9725274725274725, 1.0)"
      ]
     },
     "execution_count": 88,
     "metadata": {},
     "output_type": "execute_result"
    }
   ],
   "source": [
    "from sklearn.metrics import f1_score\n",
    "\n",
    "f1_score(vsp_preds, y_test_f1, average='macro'), f1_score(single_spyct_preds, y_test_f1, average='macro'), f1_score(ensemble_spyct_preds, y_test_f1, average='macro')"
   ]
  },
  {
   "cell_type": "code",
   "execution_count": 927,
   "metadata": {},
   "outputs": [],
   "source": [
    "performance = [('vspyct', f1_score(vsp_preds, y_test_f1, average='macro')), ('spyct_single', f1_score(single_spyct_preds, y_test_f1, average='macro')), ('spyct_ensemble', f1_score(ensemble_spyct_preds, y_test_f1, average='macro'))]"
   ]
  },
  {
   "cell_type": "code",
   "execution_count": 928,
   "metadata": {},
   "outputs": [
    {
     "data": {
      "text/plain": [
       "[('vspyct', 0.47100488804104085),\n",
       " ('spyct_single', 0.4433450865644344),\n",
       " ('spyct_ensemble', 0.5358243339907269)]"
      ]
     },
     "execution_count": 928,
     "metadata": {},
     "output_type": "execute_result"
    }
   ],
   "source": [
    "performance"
   ]
  },
  {
   "cell_type": "code",
   "execution_count": 929,
   "metadata": {},
   "outputs": [],
   "source": [
    "# save as pickle\n",
    "import pickle\n",
    "import os\n",
    "\n",
    "os.makedirs('../final_results/mcc', exist_ok=True)\n",
    "with open('../final_results/mcc/yeast.pcl', 'wb') as f:\n",
    "    pickle.dump(performance, f)"
   ]
  },
  {
   "cell_type": "code",
   "execution_count": 19,
   "metadata": {},
   "outputs": [],
   "source": [
    "# import matplotlib.pyplot as plt\n",
    "# plt.plot(np.array(ensemble_spyct.predict(X_test)>=0.5).astype(int))\n",
    "# plt.plot(y_test)"
   ]
  },
  {
   "cell_type": "code",
   "execution_count": 45,
   "metadata": {},
   "outputs": [
    {
     "data": {
      "text/plain": [
       "[<matplotlib.lines.Line2D at 0x2a4964b20>]"
      ]
     },
     "execution_count": 45,
     "metadata": {},
     "output_type": "execute_result"
    },
    {
     "data": {
      "image/png": "[encoded data removed]",
      "text/plain": [
       "<Figure size 640x480 with 1 Axes>"
      ]
     },
     "metadata": {},
     "output_type": "display_data"
    }
   ],
   "source": [
    "import matplotlib.pyplot as plt\n",
    "plt.plot(single_spyct_preds[:50])\n",
    "plt.plot(y_test_f1[:50])\n",
    "plt.plot(vsp_preds[:50])"
   ]
  },
  {
   "cell_type": "code",
   "execution_count": 31,
   "metadata": {},
   "outputs": [
    {
     "ename": "TypeError",
     "evalue": "unsupported operand type(s) for -: 'bytes' and 'int'",
     "output_type": "error",
     "traceback": [
      "\u001b[0;31m---------------------------------------------------------------------------\u001b[0m",
      "\u001b[0;31mTypeError\u001b[0m                                 Traceback (most recent call last)",
      "Cell \u001b[0;32mIn[31], line 1\u001b[0m\n\u001b[0;32m----> 1\u001b[0m \u001b[38;5;28mprint\u001b[39m(np\u001b[38;5;241m.\u001b[39msum(np\u001b[38;5;241m.\u001b[39mabs(\u001b[43my_test\u001b[49m\u001b[38;5;241;43m-\u001b[39;49m\u001b[43m(\u001b[49m\u001b[43mvspyct_preds\u001b[49m\u001b[38;5;241;43m.\u001b[39;49m\u001b[43mmean\u001b[49m\u001b[43m(\u001b[49m\u001b[43maxis\u001b[49m\u001b[38;5;241;43m=\u001b[39;49m\u001b[38;5;241;43m1\u001b[39;49m\u001b[43m)\u001b[49m\u001b[38;5;241;43m>\u001b[39;49m\u001b[38;5;241;43m=\u001b[39;49m\u001b[38;5;241;43m0.5\u001b[39;49m\u001b[43m)\u001b[49m\u001b[38;5;241;43m.\u001b[39;49m\u001b[43mto\u001b[49m\u001b[43m(\u001b[49m\u001b[43mtorch\u001b[49m\u001b[38;5;241;43m.\u001b[39;49m\u001b[43mint32\u001b[49m\u001b[43m)\u001b[49m\u001b[38;5;241;43m.\u001b[39;49m\u001b[43mnumpy\u001b[49m\u001b[43m(\u001b[49m\u001b[43m)\u001b[49m)),\n\u001b[1;32m      2\u001b[0m np\u001b[38;5;241m.\u001b[39msum(np\u001b[38;5;241m.\u001b[39mabs(y_test\u001b[38;5;241m-\u001b[39mnp\u001b[38;5;241m.\u001b[39marray(single_spyct\u001b[38;5;241m.\u001b[39mpredict(X_test)\u001b[38;5;241m>\u001b[39m\u001b[38;5;241m=\u001b[39m\u001b[38;5;241m0.5\u001b[39m)\u001b[38;5;241m.\u001b[39mastype(\u001b[38;5;28mint\u001b[39m))))\n",
      "\u001b[0;31mTypeError\u001b[0m: unsupported operand type(s) for -: 'bytes' and 'int'"
     ]
    }
   ],
   "source": [
    "print(np.sum(np.abs(y_test-(vspyct_preds.mean(axis=1)>=0.5).to(torch.int32).numpy())),\n",
    "np.sum(np.abs(y_test-np.array(single_spyct.predict(X_test)>=0.5).astype(int))))"
   ]
  },
  {
   "cell_type": "code",
   "execution_count": 23,
   "metadata": {},
   "outputs": [
    {
     "data": {
      "text/plain": [
       "[<matplotlib.lines.Line2D at 0x29d9cf8b0>]"
      ]
     },
     "execution_count": 23,
     "metadata": {},
     "output_type": "execute_result"
    },
    {
     "data": {
      "image/png": "[encoded data removed]",
      "text/plain": [
       "<Figure size 640x480 with 1 Axes>"
      ]
     },
     "metadata": {},
     "output_type": "display_data"
    }
   ],
   "source": [
    "import matplotlib.pyplot as plt\n",
    "plt.plot(y_test)\n",
    "# plt.plot(ensemble_spyct.predict(X_test))\n",
    "# plt.plot(single_spyct.predict(X_test))\n",
    "# plt.plot(vspyct_preds.mean(axis=1), label='VSpyct')\n",
    "plt.plot((vspyct_preds.mean(axis=1)>=0.5).to(torch.int32))"
   ]
  },
  {
   "cell_type": "code",
   "execution_count": 26,
   "metadata": {},
   "outputs": [
    {
     "data": {
      "text/plain": [
       "23"
      ]
     },
     "execution_count": 26,
     "metadata": {},
     "output_type": "execute_result"
    }
   ],
   "source": [
    "vspyct.num_nodes"
   ]
  },
  {
   "cell_type": "code",
   "execution_count": 54,
   "metadata": {},
   "outputs": [
    {
     "data": {
      "text/plain": [
       "(tensor([[0.7493],\n",
       "         [0.7493],\n",
       "         [1.0000],\n",
       "         [0.8261],\n",
       "         [0.8261],\n",
       "         [1.0000],\n",
       "         [0.8261],\n",
       "         [1.0000],\n",
       "         [1.0000],\n",
       "         [0.7493],\n",
       "         [0.7493],\n",
       "         [0.7493],\n",
       "         [0.7493],\n",
       "         [1.0000],\n",
       "         [0.7493],\n",
       "         [0.7493],\n",
       "         [0.7493],\n",
       "         [0.7493],\n",
       "         [0.7493],\n",
       "         [0.8261],\n",
       "         [1.0000],\n",
       "         [0.8261],\n",
       "         [1.0000],\n",
       "         [0.8261],\n",
       "         [1.0000],\n",
       "         [0.7493],\n",
       "         [0.7493],\n",
       "         [1.0000],\n",
       "         [0.7493],\n",
       "         [0.8261]]),\n",
       " tensor(0.8424),\n",
       " array([1]),\n",
       " array([[0.9456521]], dtype=float32))"
      ]
     },
     "execution_count": 54,
     "metadata": {},
     "output_type": "execute_result"
    }
   ],
   "source": [
    "i = 27\n",
    "\n",
    "vspyct_preds[i], vspyct_preds[i].mean(), y_test[i], single_spyct.predict(X_test[i].reshape(1,-1))"
   ]
  },
  {
   "cell_type": "code",
   "execution_count": 24,
   "metadata": {},
   "outputs": [
    {
     "data": {
      "text/plain": [
       "(22992.244500411183, 19817.563270970393, 25378.024405496162)"
      ]
     },
     "execution_count": 24,
     "metadata": {},
     "output_type": "execute_result"
    }
   ],
   "source": [
    "mean_absolute_error(y_test, vspyct_preds.mean(axis=1)),\\\n",
    "  mean_absolute_error(y_test, ensemble_spyct.predict(X_test)),\\\n",
    "    mean_absolute_error(y_test, single_spyct.predict(X_test))"
   ]
  },
  {
   "cell_type": "code",
   "execution_count": 25,
   "metadata": {},
   "outputs": [],
   "source": [
    "mae_vspyct = mean_absolute_error(y_test, vspyct_preds.mean(axis=1))\n",
    "mae_spyct_single = mean_absolute_error(y_test, single_spyct.predict(X_test))\n",
    "mae_spyct_ensemble = mean_absolute_error(y_test, ensemble_spyct.predict(X_test))"
   ]
  },
  {
   "cell_type": "code",
   "execution_count": 26,
   "metadata": {},
   "outputs": [],
   "source": [
    "import pickle\n",
    "\n",
    "with open('../house_mae_vspyct.pcl', 'wb') as f:\n",
    "  pickle.dump(mae_vspyct, f)\n",
    "\n",
    "with open('../house_mae_spyct_single.pcl', 'wb') as f:\n",
    "  pickle.dump(mae_spyct_single, f)\n",
    "\n",
    "with open('../house_mae_spyct_ensemble.pcl', 'wb') as f:\n",
    "  pickle.dump(mae_spyct_ensemble, f)"
   ]
  },
  {
   "cell_type": "code",
   "execution_count": null,
   "metadata": {},
   "outputs": [],
   "source": []
  }
 ],
 "metadata": {
  "kernelspec": {
   "display_name": "base",
   "language": "python",
   "name": "python3"
  },
  "language_info": {
   "codemirror_mode": {
    "name": "ipython",
    "version": 3
   },
   "file_extension": ".py",
   "mimetype": "text/x-python",
   "name": "python",
   "nbconvert_exporter": "python",
   "pygments_lexer": "ipython3",
   "version": "3.8.17"
  }
 },
 "nbformat": 4,
 "nbformat_minor": 2
}
